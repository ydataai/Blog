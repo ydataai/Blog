{
 "cells": [
  {
   "cell_type": "markdown",
   "id": "adc120a2-a385-46b5-8d44-0153f484de7f",
   "metadata": {},
   "source": [
    "# Sequential data synthesis with YData\n",
    "\n",
    "## The PaySim use case\n",
    "\n",
    "Payments data is one of the most common types of transactional datasets, and for many business areas one of the most valuable. However, it is particularly sensitive and has complex underlying logic governing it, which makes it a perfect test bed for data quality assessment and synthetic data generation.\n",
    "\n",
    "The dataset _“PaySim: A financial mobile money simulator for fraud detection”_ is a case study based on a real company that developed a mobile money implementation which provided mobile phone users the ability to transfer money between themselves using the phone as a sort of electronic wallet."
   ]
  },
  {
   "cell_type": "markdown",
   "id": "5667844d-a62d-4519-9f23-522d7a93b122",
   "metadata": {},
   "source": [
    "**Outline of this document**\n",
    "\n",
    "- Ingesting and understanding a transactional financial dataset (including business logic)\n",
    "- Training a synthetic data generator over the dataset\n",
    "- Generating a synthetic version of the transactional dataset\n",
    "- Evaluating the statistical fidelity and analytical utility of the generated data, including abidance by business logic"
   ]
  },
  {
   "cell_type": "markdown",
   "id": "b0423a65-544c-42c7-bcac-7298502b04a7",
   "metadata": {},
   "source": [
    "## Dataset"
   ]
  },
  {
   "cell_type": "markdown",
   "id": "09f66d38-c287-4847-a902-bdd2220c4b22",
   "metadata": {},
   "source": [
    "PaySim simulates mobile money transactions based on a sample of real transactions extracted from one month of financial logs from a mobile money service implemented in an African country. The original logs were provided by a multinational company, who is the provider of a mobile financial service currently running in more than 14 countries all around the world.\n",
    "\n",
    "The PaySim version used is a custom one generated through the code on the [PaySim GitHub repository](https://github.com/EdgarLopezPhD/PaySim) and based on the paper [_PaySim: A financial mobile money simulator for fraud detection_](https://www.researchgate.net/publication/313138956_PAYSIM_A_FINANCIAL_MOBILE_MONEY_SIMULATOR_FOR_FRAUD_DETECTION).\n",
    "\n",
    "This dataset version can be downloaded from **⚠️ TODO: add link to bucket with dataset**. "
   ]
  },
  {
   "cell_type": "markdown",
   "id": "4064a59d-6d25-4b55-bdfa-17abce5d7fa1",
   "metadata": {},
   "source": [
    "### Loading the dataset\n",
    "\n",
    "YData's platform is fully integrated - this means that any source of data created through the UI can be easily consumed within the Labs (via the [Platform SDK](https://github.com/ydataai/academy/blob/master/1%20-%20platform-sdk/ui-to-sdk-examples.ipynb)) for further exploration, leveraging the platform's built-in scalability. Alternatively, YData's [Connectors](https://github.com/ydataai/academy/tree/master/2%20-%20connectors) could also be used.\n",
    "\n",
    "Below, the Platform SDK will be used. "
   ]
  },
  {
   "cell_type": "code",
   "execution_count": null,
   "id": "d4e27739-5977-4bc6-bd0c-56e52b25e056",
   "metadata": {},
   "outputs": [
    {
     "name": "stderr",
     "output_type": "stream",
     "text": [
      "/opt/conda/lib/python3.8/site-packages/distributed/client.py:1288: VersionMismatchWarning: Mismatched versions found\n",
      "\n",
      "+---------+--------+-----------+---------+\n",
      "| Package | client | scheduler | workers |\n",
      "+---------+--------+-----------+---------+\n",
      "| toolz   | 0.11.2 | 0.12.0    | None    |\n",
      "+---------+--------+-----------+---------+\n",
      "  warnings.warn(version_module.VersionMismatchWarning(msg[0][\"warning\"]))\n"
     ]
    }
   ],
   "source": [
    "# Importing YData's packages\n",
    "from ydata.platform.datasources import DataSources\n",
    "from ydata.metadata import Metadata\n",
    "\n",
    "# Creating a Dataset from the Data Source\n",
    "datasource = DataSources.get(uid='5759d69f-e127-419d-a382-71d2cc01025a',\n",
    "                             namespace='45685d15-0577-4001-834b-701ed6a52ad0')\n",
    "\n",
    "dataset = datasource.read()\n",
    "\n",
    "# Quickly previewing the Dataset\n",
    "dataset.head()"
   ]
  },
  {
   "cell_type": "code",
   "execution_count": null,
   "id": "090e745c-e241-4ae4-9d77-149a6e6b8c5f",
   "metadata": {},
   "outputs": [],
   "source": [
    "dataset.shape(lazy_eval=False)"
   ]
  },
  {
   "cell_type": "markdown",
   "id": "a1cd4293-6ded-4bf3-8fc0-a2bf6e36855d",
   "metadata": {},
   "source": [
    "**⚠️ TODO**: missing `value_counts()` to show imbalance"
   ]
  },
  {
   "cell_type": "markdown",
   "id": "954f2963-bea3-4f16-896d-9c3a70663b4d",
   "metadata": {},
   "source": [
    "By quickly taking a peek at the dataset, we can identify the several types of features we have:\n",
    "    \n",
    "- `time` is our sequential indicator\n",
    "- features describing the financial operation and its flow (`type`, `amount`, `nameOrig` and `nameDest`)\n",
    "- features accounting for the variation in balances (`oldbalanceDest`, `newbalanceDest`, `oldbalanceOrg`, `newbalanceOrig`) \n",
    "- features related with fraud (`isFlaggedFraud`, automatically detected potential frauds and `isFraud`, the real assessment). Fraudulent events seem to be minoritary, accounting for 0.09% of all transactions."
   ]
  },
  {
   "cell_type": "markdown",
   "id": "464537a1-2c5e-4b8b-9cc8-1750766b7c10",
   "metadata": {},
   "source": [
    "### Evaluating data quality"
   ]
  },
  {
   "cell_type": "markdown",
   "id": "b20f5a42-467f-47b7-9624-353d7ef8e3b6",
   "metadata": {},
   "source": [
    "The automated profiling available on the platform heavily complements these insights above with automatic detection of potential data quality issues. To access these data quality warnigs, useful to identify potential issues which must be solved prior to data synthesis, a `Metadata` object, which holds information about the dataset, can be created."
   ]
  },
  {
   "cell_type": "code",
   "execution_count": 3,
   "id": "7af42d49-0cf8-4a0f-8fd6-518e3cf2b74b",
   "metadata": {},
   "outputs": [
    {
     "name": "stdout",
     "output_type": "stream",
     "text": [
      "\u001b[1mMetadata Summary \n",
      " \n",
      "\u001b[0m\u001b[1mDataset type: \u001b[0mTABULAR\n",
      "\u001b[1mDataset attributes: \u001b[0m\n",
      "\u001b[1mNumber of columns: \u001b[0m13\n",
      "\u001b[1m% of duplicate rows: \u001b[0m0\n",
      "\u001b[1mTarget column: \u001b[0m\n",
      "\n",
      "\u001b[1mColumn detail: \u001b[0m\n",
      "                     Column    Data type Variable type\n",
      "0                      time    numerical           int\n",
      "1                      step  categorical           int\n",
      "2                    action  categorical        string\n",
      "3                    amount    numerical         float\n",
      "4                  nameOrig  categorical        string\n",
      "5            oldBalanceOrig    numerical         float\n",
      "6            newBalanceOrig    numerical         float\n",
      "7                  nameDest  categorical        string\n",
      "8            oldBalanceDest    numerical         float\n",
      "9            newBalanceDest    numerical         float\n",
      "10                  isFraud  categorical           int\n",
      "11           isFlaggedFraud  categorical           int\n",
      "12  isUnauthorizedOverdraft  categorical           int\n",
      "\n",
      "\u001b[1mWarnings: \u001b[0m\n",
      "                   Warning                                                                   Columns\n",
      "0     WarningType.SKEWNESS  [amount, oldBalanceOrig, newBalanceOrig, oldBalanceDest, newBalanceDest]\n",
      "1  WarningType.CARDINALITY                                                [step, nameOrig, nameDest]\n",
      "\n"
     ]
    }
   ],
   "source": [
    "# Creating a Metadata (where warnings can be reviewed) from the Dataset\n",
    "metadata = Metadata(dataset)\n",
    "print(metadata)"
   ]
  },
  {
   "cell_type": "markdown",
   "id": "d6f5de3e-d121-4bde-9658-0fa91508c7f3",
   "metadata": {},
   "source": [
    "This gives us additional information about the dataset: balances and amounts have highly skewed distributions, which suggests different types of transactions exist. We also seem to have a large number of entities represented in this dataset. "
   ]
  },
  {
   "cell_type": "markdown",
   "id": "328d2153-6db2-4794-b467-da6a83c12b71",
   "metadata": {},
   "source": [
    "For now, we will drop the `step` column, as it encodes the same sequence information as `time` (a `step` may have multiple transactions, `time` is just an artificial column with all the transactions in a `step` linearly ordered). "
   ]
  },
  {
   "cell_type": "code",
   "execution_count": 4,
   "id": "36d185a6-e229-4de1-ad1f-9a10bc4d1c37",
   "metadata": {},
   "outputs": [],
   "source": [
    "dataset=dataset[['time',\n",
    "                 'action',\n",
    "                 'amount',\n",
    "                 'nameOrig',\n",
    "                 'oldBalanceOrig',\n",
    "                 'newBalanceOrig',\n",
    "                 'nameDest',\n",
    "                 'oldBalanceDest',\n",
    "                 'newBalanceDest',\n",
    "                 'isFraud',\n",
    "                 'isUnauthorizedOverdraft']]"
   ]
  },
  {
   "cell_type": "code",
   "execution_count": 5,
   "id": "12e677b6-9cd9-407c-80e1-72dd19ce95b2",
   "metadata": {},
   "outputs": [
    {
     "data": {
      "text/plain": [
       "['time',\n",
       " 'action',\n",
       " 'amount',\n",
       " 'nameOrig',\n",
       " 'oldBalanceOrig',\n",
       " 'newBalanceOrig',\n",
       " 'nameDest',\n",
       " 'oldBalanceDest',\n",
       " 'newBalanceDest',\n",
       " 'isFraud',\n",
       " 'isUnauthorizedOverdraft']"
      ]
     },
     "execution_count": 5,
     "metadata": {},
     "output_type": "execute_result"
    }
   ],
   "source": [
    "dataset.columns"
   ]
  },
  {
   "cell_type": "code",
   "execution_count": 6,
   "id": "214dd5ee-3678-4a1b-9779-bf7e88476071",
   "metadata": {},
   "outputs": [
    {
     "data": {
      "text/html": [
       "<div>\n",
       "<style scoped>\n",
       "    .dataframe tbody tr th:only-of-type {\n",
       "        vertical-align: middle;\n",
       "    }\n",
       "\n",
       "    .dataframe tbody tr th {\n",
       "        vertical-align: top;\n",
       "    }\n",
       "\n",
       "    .dataframe thead th {\n",
       "        text-align: right;\n",
       "    }\n",
       "</style>\n",
       "<table border=\"1\" class=\"dataframe\">\n",
       "  <thead>\n",
       "    <tr style=\"text-align: right;\">\n",
       "      <th></th>\n",
       "      <th>time</th>\n",
       "      <th>action</th>\n",
       "      <th>amount</th>\n",
       "      <th>nameOrig</th>\n",
       "      <th>oldBalanceOrig</th>\n",
       "      <th>newBalanceOrig</th>\n",
       "      <th>nameDest</th>\n",
       "      <th>oldBalanceDest</th>\n",
       "      <th>newBalanceDest</th>\n",
       "      <th>isFraud</th>\n",
       "      <th>isUnauthorizedOverdraft</th>\n",
       "    </tr>\n",
       "    <tr>\n",
       "      <th>idx</th>\n",
       "      <th></th>\n",
       "      <th></th>\n",
       "      <th></th>\n",
       "      <th></th>\n",
       "      <th></th>\n",
       "      <th></th>\n",
       "      <th></th>\n",
       "      <th></th>\n",
       "      <th></th>\n",
       "      <th></th>\n",
       "      <th></th>\n",
       "    </tr>\n",
       "  </thead>\n",
       "  <tbody>\n",
       "    <tr>\n",
       "      <th>0</th>\n",
       "      <td>0</td>\n",
       "      <td>CASH_IN</td>\n",
       "      <td>229382.36</td>\n",
       "      <td>C3568019779</td>\n",
       "      <td>67.45</td>\n",
       "      <td>229449.80</td>\n",
       "      <td>M1836583048</td>\n",
       "      <td>0.00</td>\n",
       "      <td>0.00</td>\n",
       "      <td>0</td>\n",
       "      <td>0</td>\n",
       "    </tr>\n",
       "    <tr>\n",
       "      <th>1</th>\n",
       "      <td>2099485</td>\n",
       "      <td>PAYMENT</td>\n",
       "      <td>3898.67</td>\n",
       "      <td>C7787814982</td>\n",
       "      <td>4330561.39</td>\n",
       "      <td>4326662.72</td>\n",
       "      <td>M8323358603</td>\n",
       "      <td>119874.35</td>\n",
       "      <td>123773.02</td>\n",
       "      <td>0</td>\n",
       "      <td>0</td>\n",
       "    </tr>\n",
       "    <tr>\n",
       "      <th>2</th>\n",
       "      <td>1422612</td>\n",
       "      <td>CASH_IN</td>\n",
       "      <td>328906.66</td>\n",
       "      <td>C5933160999</td>\n",
       "      <td>2738664.99</td>\n",
       "      <td>3067571.64</td>\n",
       "      <td>M5203480520</td>\n",
       "      <td>62420.96</td>\n",
       "      <td>62420.96</td>\n",
       "      <td>0</td>\n",
       "      <td>0</td>\n",
       "    </tr>\n",
       "    <tr>\n",
       "      <th>3</th>\n",
       "      <td>2771031</td>\n",
       "      <td>PAYMENT</td>\n",
       "      <td>5893.84</td>\n",
       "      <td>C4556212256</td>\n",
       "      <td>355476.10</td>\n",
       "      <td>349582.27</td>\n",
       "      <td>M7504842284</td>\n",
       "      <td>134119.24</td>\n",
       "      <td>140013.08</td>\n",
       "      <td>0</td>\n",
       "      <td>0</td>\n",
       "    </tr>\n",
       "    <tr>\n",
       "      <th>4</th>\n",
       "      <td>735308</td>\n",
       "      <td>CASH_IN</td>\n",
       "      <td>130091.39</td>\n",
       "      <td>C6471076107</td>\n",
       "      <td>2732966.80</td>\n",
       "      <td>2863058.19</td>\n",
       "      <td>M6673769831</td>\n",
       "      <td>8268.40</td>\n",
       "      <td>8268.40</td>\n",
       "      <td>0</td>\n",
       "      <td>0</td>\n",
       "    </tr>\n",
       "  </tbody>\n",
       "</table>\n",
       "</div>"
      ],
      "text/plain": [
       "        time   action     amount     nameOrig  oldBalanceOrig  newBalanceOrig  \\\n",
       "idx                                                                             \n",
       "0          0  CASH_IN  229382.36  C3568019779           67.45       229449.80   \n",
       "1    2099485  PAYMENT    3898.67  C7787814982      4330561.39      4326662.72   \n",
       "2    1422612  CASH_IN  328906.66  C5933160999      2738664.99      3067571.64   \n",
       "3    2771031  PAYMENT    5893.84  C4556212256       355476.10       349582.27   \n",
       "4     735308  CASH_IN  130091.39  C6471076107      2732966.80      2863058.19   \n",
       "\n",
       "        nameDest  oldBalanceDest  newBalanceDest  isFraud  \\\n",
       "idx                                                         \n",
       "0    M1836583048            0.00            0.00        0   \n",
       "1    M8323358603       119874.35       123773.02        0   \n",
       "2    M5203480520        62420.96        62420.96        0   \n",
       "3    M7504842284       134119.24       140013.08        0   \n",
       "4    M6673769831         8268.40         8268.40        0   \n",
       "\n",
       "     isUnauthorizedOverdraft  \n",
       "idx                           \n",
       "0                          0  \n",
       "1                          0  \n",
       "2                          0  \n",
       "3                          0  \n",
       "4                          0  "
      ]
     },
     "execution_count": 6,
     "metadata": {},
     "output_type": "execute_result"
    }
   ],
   "source": [
    "dataset.head()"
   ]
  },
  {
   "cell_type": "markdown",
   "id": "cd232d68-98a7-4725-87d7-54a20390403f",
   "metadata": {},
   "source": [
    "**⚠️ TODO:** \n",
    "- Behaviour when transactions are flagged as Fraud. Do transactions go through and are balances updated? In some cases they seem to go, others not (see sample below, where in _TRANSFERS_ the balances are updated, but in _CASH_OUT_ only the origin balances are updated)\n",
    "- _Please notice that there is not record of balance from clients that start with M (Merchants)_"
   ]
  },
  {
   "cell_type": "markdown",
   "id": "1e86e092-3436-4242-9dd8-cf9c125e6b81",
   "metadata": {},
   "source": [
    "### Validation of business rules "
   ]
  },
  {
   "cell_type": "markdown",
   "id": "9a1376cf-1945-4f46-aa2a-12142550513d",
   "metadata": {},
   "source": [
    "A dataset not abiding by the expected business rules may silently go unnoticed through all the phases of a project and fail to deliver any business value when finally live. As such, it's important to validate these kind of constraints. The `Metadata` objects can be used for validation of several type of arbitrary row and column-wise constraints (per-entity, if required), through its integration with YData's `ConstraintEngine`."
   ]
  },
  {
   "cell_type": "markdown",
   "id": "7dbd04e7-ba21-42d6-9302-1ebb47e2301a",
   "metadata": {},
   "source": [
    "#### Which business rules and constraints does this dataset have?\n",
    "\n",
    "Stemming from its transactional-financial nature and given the [extra context available on Kaggle](https://www.kaggle.com/datasets/ealaxi/paysim1) and in the original paper, some implicit and explicit business rules can be derived for this dataset:\n",
    "    \n",
    "- `CASH-IN`, `CASH-OUT` and `PAYMENT` operations need to have as destination `Merchant` accounts\n",
    "- `DEBIT` operations need to have `BANKS` as the destination\n",
    "- If the operation is a rejected overdraft (`isUnauthorizedOverdraft==1`), the balance of the origin entity is kept\n",
    "- The `amount` column should only assume values positive values (as the signal of the transaction is codified in the `action` column)\n",
    "- For every origin entity, the trajectory of each entity's balance across time must be coherent with its interactions with other entities.\n",
    "    - In practice, if the operation is not a rejected overdraft: $balance(t+1) = balance(t) + amount(t) \\times (-1 \\: if \\: 1 \\: action(n) \\: in \\: [CASH-OUT, \\: PAYMENT, \\: TRANSFER, \\: DEBIT] \\: else \\: 1)$\n",
    "    - For destination entities, the above applies but `amount` is multiplied by 1 (entity receives money)"
   ]
  },
  {
   "cell_type": "markdown",
   "id": "0b3399de-f38e-4a7b-b4b2-f9a581f533ad",
   "metadata": {},
   "source": [
    "For demo purposes, let's validate only the last two constraints we defined. "
   ]
  },
  {
   "cell_type": "code",
   "execution_count": null,
   "id": "05be73b2-fc32-4466-aa16-5159ece8fd65",
   "metadata": {},
   "outputs": [],
   "source": [
    "#double check this with Quemy\n",
    "from ydata.constraints.engine import ConstraintEngine\n",
    "from ydata.constraints.constraint import GreaterThan, Positive, CustomConstraint\n",
    "\n",
    "# Create the custom constrains for the dataset\n",
    "\n",
    "# Validate coherence in balance of the origin entity during the transaction \n",
    "def check_originBalance(df):\n",
    "    # How can we add this type of logic to deal with the associated signs? Can we maybe do an apply instead prior the validations?\n",
    "    # balance(t) is in newBalanceOrig; balance(t-1) is in oldBalanceOrig\n",
    "    \n",
    "    action_mapping = {'DEBIT': -1, 'TRANSFER': -1, 'CASH_IN': 1, 'CASH_OUT': -1, 'PAYMENT': -1}\n",
    "    return df['newBalanceOrig'] == df['oldBalanceOrig'] + (df['amount']*df['action'].map(action_mapping))*(1-df['isUnauthorizedOverdraft'])\n",
    "\n",
    "# Validate coherence in balance of the destination entity during the transaction\n",
    "def check_destBalance(df):\n",
    "    \n",
    "    # How can we add this type of logic to deal with the associated signs? Can we maybe do an apply instead prior the validations?\n",
    "    # balance(t) is in newBalanceOrig; balance(t-1) is in oldBalanceOrig\n",
    "    \n",
    "    # For the receiving entity, the transaction signs are inverted\n",
    "    action_mapping = {'DEBIT': 1, 'TRANSFER': 1, 'CASH_IN': -1, 'CASH_OUT': 1, 'PAYMENT': 1} \n",
    "    return df['newBalanceDest'] == df['oldBalanceDest'] + (df['amount']*df['action'].map(action_mapping))*(1-df['isUnauthorizedOverdraft'])\n",
    "\n",
    "\n",
    "# Some other out-of-the-box constrains are also available like GreaterThan, \n",
    "# which checks whether a colum(n) is(are) greater than a certain provided value(s)\n",
    "\n",
    "c1 = Positive(columns=['amount'])\n",
    "c2 = CustomConstraint(name=\"Balance Check Origin Entity | axis=1\", \n",
    "                       check=check_originBalance,\n",
    "                       available_columns=['nameOrig', 'oldBalanceOrig', 'newBalanceOrig', 'amount', 'action', 'isUnauthorizedOverdraft'],\n",
    "                       #entity='nameOrig', \n",
    "                       axis=0)\n",
    "\n",
    "c3 = CustomConstraint(name=\"Balance Check Destination Entity | axis=1\", \n",
    "                       check=check_destBalance,\n",
    "                       available_columns=['nameDest', 'oldBalanceDest', 'newBalanceDest', 'amount', 'action', 'isUnauthorizedOverdraft'],\n",
    "                       #entity='nameDest', \n",
    "                       axis=0)\n",
    "\n",
    "\n",
    "engine = ConstraintEngine()\n",
    "engine.add_constraints([c1, c2, c3])"
   ]
  },
  {
   "cell_type": "markdown",
   "id": "9ec0bffc-ce49-4a6d-9dc0-e212636e9022",
   "metadata": {},
   "source": [
    "**⚠️ TODO:** Why are we checking by entity? This seems to be a simple row constraint given we keep the running balances of both entities in the `oldBalance*` variables.  \n",
    "\n",
    "Running the Constraints engine with and without this verification yields very similar violation ratios.  \n",
    "\n",
    "- With entity set: Positive amount 0.0, Balance Check origin 0.43625, Balance Check Destination 0.8145\n",
    "- Without entity set: Positive amount 0.0, Balance Check origin 0.0.43625, Balance Check Destination 0.8145 (but takes longer)"
   ]
  },
  {
   "cell_type": "code",
   "execution_count": null,
   "id": "4319e524-ee53-46b2-a5fa-18dacf08db65",
   "metadata": {},
   "outputs": [],
   "source": [
    "\"\"\"\n",
    "from pandas import DataFrame as pdDataframe\n",
    "from utils import check_balance_with_interaction\n",
    "from typing import List, Union, Optional\n",
    "\n",
    "from ydata.dataset.dataset import Dataset\n",
    "from ydata.constraints.base import RowConstraint\n",
    "\n",
    "#Setting the class that allows to create the constraint\n",
    "class PaySimStateConstraint(RowConstraint):\n",
    "    def __init__(\n",
    "        self,\n",
    "        name: Optional[str] = None\n",
    "    ):\n",
    "        self.name = name\n",
    "        \n",
    "    def validate(self, dataset: Dataset):\n",
    "        return check_balance_with_interaction(dataset.to_pandas())\n",
    "\n",
    "c = PaySimStateConstraint(name=\"Balance Check with interaction via CustomStateConstraint\")\n",
    "\n",
    "engine.add_constraint(c)\n",
    "\"\"\""
   ]
  },
  {
   "cell_type": "markdown",
   "id": "7d1a3df1-eec0-4592-8e44-b948363f842b",
   "metadata": {},
   "source": [
    "**⚠️ TODO**\n",
    "\n",
    "_It is not possible to check a constraint on the balance by simply looking at each entity trajectory. In this case, checking the constraint on the balance requires to maintain a state of the balance for each entity while iterating per row.The current Constraint Engine does not directly support such scenario. However, it is possible to define a constraint object which will be checked row by row while maintaining this state._ -> **well, the PaySim dataset we have maintains this running balance with the `oldBalance` columns. So maybe doing _Balance Check Origin_ and _Balance Check Destination_ constraints, per row, is enough to verify this?**"
   ]
  },
  {
   "cell_type": "markdown",
   "id": "44602165-60d2-4831-a118-f4a6e122acba",
   "metadata": {},
   "source": [
    "#### Running the validation "
   ]
  },
  {
   "cell_type": "code",
   "execution_count": null,
   "id": "70498789-4019-4d3f-81e4-a649b6ac8982",
   "metadata": {},
   "outputs": [],
   "source": [
    "# Getting the summary view of the constraints engine\n",
    "\n",
    "engine.validate(dataset)\n",
    "engine.summary()"
   ]
  },
  {
   "cell_type": "markdown",
   "id": "a87cb414-a0b6-40c7-be05-7bc62f21e3db",
   "metadata": {},
   "source": [
    "As we can see, the PaySim dataset includes massive inconsistences when keeping track of the balances of each entity throughout the transactions.  The evolution of balances throughout time. "
   ]
  },
  {
   "cell_type": "markdown",
   "id": "ef59dfca-c4fc-4068-86eb-5afabd33525a",
   "metadata": {},
   "source": [
    "TODO: analysis and comments on these -> this is our actionability\n",
    "\n",
    "\n",
    "Add here more detail on why this constraints validation it is important for the use case. And how much does this impact the process of data synthesis "
   ]
  },
  {
   "cell_type": "markdown",
   "id": "f6466c26-6c5c-49c8-9a81-db6683d6a265",
   "metadata": {},
   "source": [
    "## Creating a synthetic replica of the PaySim dataset"
   ]
  },
  {
   "cell_type": "markdown",
   "id": "e3862ff9-c8b9-4a3c-81df-64048cbdfcf8",
   "metadata": {},
   "source": [
    "Add here more detail. We are only synthesizing the amount, all the other columns will be derived from the process of synthesis."
   ]
  },
  {
   "cell_type": "code",
   "execution_count": 7,
   "id": "d66444b4-bedd-423d-97b8-78bc014fb389",
   "metadata": {},
   "outputs": [
    {
     "name": "stderr",
     "output_type": "stream",
     "text": [
      "/opt/conda/lib/python3.8/site-packages/sklearn/utils/validation.py:67: FutureWarning: Pass memory=None, verbose=False as keyword args. From version 0.25 passing these as positional arguments will result in an error\n",
      "  warnings.warn(\"Pass {} as keyword args. From version 0.25 \"\n"
     ]
    }
   ],
   "source": [
    "from ydata.utils.data_types import DataType, VariableType\n",
    "from ydata.dataset.dataset_type import DatasetType\n",
    "from ydata.synthesizers.timeseries.model import TimeSeriesSynthesizer"
   ]
  },
  {
   "cell_type": "code",
   "execution_count": 8,
   "id": "4a6d7bc8-1716-42dc-af33-83963884cad0",
   "metadata": {},
   "outputs": [],
   "source": [
    "#Selecting the columns to be synthesized\n",
    "sel_dataset = dataset[['time',\n",
    "                     'action',\n",
    "                     'amount',\n",
    "                     'nameOrig',\n",
    "                     'nameDest',\n",
    "                     'isFraud',\n",
    "                     'isUnauthorizedOverdraft']]"
   ]
  },
  {
   "cell_type": "code",
   "execution_count": null,
   "id": "48938bc8-7621-4175-bc27-91841f97d7ea",
   "metadata": {},
   "outputs": [],
   "source": [
    "#Creating the Metadata object for the synthesis\n",
    "dataset_attrs = {\n",
    "     \"sortbykey\": \"time\",\n",
    "     \"entity_id_cols\": [\"nameOrig\", \"nameDest\"]\n",
    "}\n",
    "\n",
    "m = Metadata(sel_dataset,\n",
    "             dataset_attrs,\n",
    "             dataset_type=DatasetType.TIMESERIES)"
   ]
  },
  {
   "cell_type": "code",
   "execution_count": null,
   "id": "140d317e-cfb8-45fa-82fc-5f7fd7c84d1d",
   "metadata": {},
   "outputs": [],
   "source": [
    "synthesizer = TimeSeriesSynthesizer()\n",
    "synthesizer.fit(sel_dataset, metadata=m)"
   ]
  },
  {
   "cell_type": "code",
   "execution_count": null,
   "id": "a10761e4-578d-4dd3-b34e-c9a80674170a",
   "metadata": {},
   "outputs": [],
   "source": [
    "# Generating a sample fo synthetic data\n",
    "sample = synthesizer.sample(n_samples=len(dataset))"
   ]
  },
  {
   "cell_type": "code",
   "execution_count": null,
   "id": "f42f23c9-683b-4994-9f84-8f141b7521d5",
   "metadata": {},
   "outputs": [],
   "source": [
    "# The synthesized dataset\n",
    "sample.head(10)"
   ]
  },
  {
   "cell_type": "markdown",
   "id": "a40319e4-0057-44e9-bb8b-38b41a08e25f",
   "metadata": {},
   "source": [
    "### Calculating the constrained features - balances\n",
    "#Origin and destination balances need to take account the generated amount. \n",
    "\n",
    "Let's just calculate the newBalance, as the oldOnes can be trivially deduced from the new ones and the transaction amount (or by tracking the transaction amount across time)"
   ]
  },
  {
   "cell_type": "code",
   "execution_count": null,
   "id": "5fd600ee-b5f9-487a-9280-494395393b77",
   "metadata": {},
   "outputs": [],
   "source": [
    "### Building the function to calculate the balances origin, Destination balances\n",
    "## Todo: import from utils.py"
   ]
  },
  {
   "cell_type": "markdown",
   "id": "5bd557ab-9766-48dd-90a9-e4a3af75cd6a",
   "metadata": {},
   "source": [
    "## Evaluating the quality of the synthetic dataset"
   ]
  },
  {
   "cell_type": "markdown",
   "id": "36121f51-8f62-4110-80c8-d0a147790676",
   "metadata": {},
   "source": [
    "Visualizations:\n",
    "- Number of transactions per clients\n",
    "- Number of clients\n",
    "- Imbalance\n",
    "- Distribution of balance (marginals)\n",
    "- Distribution of amount (marginals)\n",
    "- Trajectories show the time properties (balance over time for specific account IDs)"
   ]
  },
  {
   "cell_type": "markdown",
   "id": "1b481bac-083f-4c0b-bfa0-7e759b28f196",
   "metadata": {},
   "source": [
    "_Balance is a hidden state with deterministic rules and constraints (balance depends on previous row) - if that fails, so does the synthesis._"
   ]
  },
  {
   "cell_type": "code",
   "execution_count": null,
   "id": "ffb87309-5ad0-4e58-a3d5-3f9c1a6920d6",
   "metadata": {},
   "outputs": [],
   "source": []
  }
 ],
 "metadata": {
  "kernelspec": {
   "display_name": "Python 3 (ipykernel)",
   "language": "python",
   "name": "python3"
  },
  "language_info": {
   "codemirror_mode": {
    "name": "ipython",
    "version": 3
   },
   "file_extension": ".py",
   "mimetype": "text/x-python",
   "name": "python",
   "nbconvert_exporter": "python",
   "pygments_lexer": "ipython3",
   "version": "3.8.13"
  }
 },
 "nbformat": 4,
 "nbformat_minor": 5
}
