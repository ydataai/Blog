{
 "cells": [
  {
   "cell_type": "markdown",
   "id": "adc120a2-a385-46b5-8d44-0153f484de7f",
   "metadata": {},
   "source": [
    "# Sequential data synthesis with YData\n",
    "\n",
    "## The PaySim use case\n",
    "\n",
    "Payments data is one of the most common types of transactional datasets, and for many business areas one of the most valuable. However, it is particularly sensitive and has complex underlying logic governing it, which makes it a perfect test bed for data quality assessment and synthetic data generation.\n",
    "\n",
    "The dataset _“PaySim: A financial mobile money simulator for fraud detection”_ is a case study based on a real company that developed a mobile money implementation which provided mobile phone users the ability to transfer money between themselves using the phone as a sort of electronic wallet."
   ]
  },
  {
   "cell_type": "markdown",
   "id": "5667844d-a62d-4519-9f23-522d7a93b122",
   "metadata": {},
   "source": [
    "**Outline of this document**\n",
    "\n",
    "- Ingesting and understanding a transactional financial dataset (including business logic)\n",
    "- Training a synthetic data generator over the dataset\n",
    "- Generating a synthetic version of the transactional dataset\n",
    "- Evaluating the statistical fidelity and analytical utility of the generated data, including abidance by business logic"
   ]
  },
  {
   "cell_type": "markdown",
   "id": "b0423a65-544c-42c7-bcac-7298502b04a7",
   "metadata": {},
   "source": [
    "## Dataset"
   ]
  },
  {
   "cell_type": "markdown",
   "id": "09f66d38-c287-4847-a902-bdd2220c4b22",
   "metadata": {},
   "source": [
    "PaySim simulates mobile money transactions based on a sample of real transactions extracted from one month of financial logs from a mobile money service implemented in an African country. The original logs were provided by a multinational company, who is the provider of a mobile financial service currently running in more than 14 countries all around the world.\n",
    "\n",
    "The PaySim version used is a custom one generated through the code on the [PaySim GitHub repository](https://github.com/EdgarLopezPhD/PaySim) and based on the paper [_PaySim: A financial mobile money simulator for fraud detection_](https://www.researchgate.net/publication/313138956_PAYSIM_A_FINANCIAL_MOBILE_MONEY_SIMULATOR_FOR_FRAUD_DETECTION).\n",
    "\n",
    "This dataset version can be downloaded from **⚠️ TODO: add link to bucket with dataset**. "
   ]
  },
  {
   "cell_type": "markdown",
   "id": "4064a59d-6d25-4b55-bdfa-17abce5d7fa1",
   "metadata": {},
   "source": [
    "### Loading the dataset\n",
    "\n",
    "YData's platform is fully integrated - this means that any source of data created through the UI can be easily consumed within the Labs (via the [Platform SDK](https://github.com/ydataai/academy/blob/master/1%20-%20platform-sdk/ui-to-sdk-examples.ipynb)) for further exploration, leveraging the platform's built-in scalability. Alternatively, YData's [Connectors](https://github.com/ydataai/academy/tree/master/2%20-%20connectors) could also be used.\n",
    "\n",
    "Below, the Platform SDK will be used. "
   ]
  },
  {
   "cell_type": "code",
   "execution_count": 32,
   "id": "d4e27739-5977-4bc6-bd0c-56e52b25e056",
   "metadata": {},
   "outputs": [
    {
     "name": "stderr",
     "output_type": "stream",
     "text": [
      "/opt/conda/lib/python3.8/site-packages/distributed/client.py:1288: VersionMismatchWarning: Mismatched versions found\n",
      "\n",
      "+---------+--------+-----------+---------+\n",
      "| Package | client | scheduler | workers |\n",
      "+---------+--------+-----------+---------+\n",
      "| toolz   | 0.11.2 | 0.12.0    | None    |\n",
      "+---------+--------+-----------+---------+\n",
      "  warnings.warn(version_module.VersionMismatchWarning(msg[0][\"warning\"]))\n"
     ]
    },
    {
     "data": {
      "text/html": [
       "<div>\n",
       "<style scoped>\n",
       "    .dataframe tbody tr th:only-of-type {\n",
       "        vertical-align: middle;\n",
       "    }\n",
       "\n",
       "    .dataframe tbody tr th {\n",
       "        vertical-align: top;\n",
       "    }\n",
       "\n",
       "    .dataframe thead th {\n",
       "        text-align: right;\n",
       "    }\n",
       "</style>\n",
       "<table border=\"1\" class=\"dataframe\">\n",
       "  <thead>\n",
       "    <tr style=\"text-align: right;\">\n",
       "      <th></th>\n",
       "      <th>time</th>\n",
       "      <th>step</th>\n",
       "      <th>action</th>\n",
       "      <th>amount</th>\n",
       "      <th>nameOrig</th>\n",
       "      <th>oldBalanceOrig</th>\n",
       "      <th>newBalanceOrig</th>\n",
       "      <th>nameDest</th>\n",
       "      <th>oldBalanceDest</th>\n",
       "      <th>newBalanceDest</th>\n",
       "      <th>isFraud</th>\n",
       "      <th>isFlaggedFraud</th>\n",
       "      <th>isUnauthorizedOverdraft</th>\n",
       "    </tr>\n",
       "    <tr>\n",
       "      <th>idx</th>\n",
       "      <th></th>\n",
       "      <th></th>\n",
       "      <th></th>\n",
       "      <th></th>\n",
       "      <th></th>\n",
       "      <th></th>\n",
       "      <th></th>\n",
       "      <th></th>\n",
       "      <th></th>\n",
       "      <th></th>\n",
       "      <th></th>\n",
       "      <th></th>\n",
       "      <th></th>\n",
       "    </tr>\n",
       "  </thead>\n",
       "  <tbody>\n",
       "    <tr>\n",
       "      <th>0</th>\n",
       "      <td>0</td>\n",
       "      <td>1</td>\n",
       "      <td>CASH_IN</td>\n",
       "      <td>229382.36</td>\n",
       "      <td>C3568019779</td>\n",
       "      <td>67.45</td>\n",
       "      <td>229449.80</td>\n",
       "      <td>M1836583048</td>\n",
       "      <td>0.00</td>\n",
       "      <td>0.00</td>\n",
       "      <td>0</td>\n",
       "      <td>0</td>\n",
       "      <td>0</td>\n",
       "    </tr>\n",
       "    <tr>\n",
       "      <th>1</th>\n",
       "      <td>2099485</td>\n",
       "      <td>215</td>\n",
       "      <td>PAYMENT</td>\n",
       "      <td>3898.67</td>\n",
       "      <td>C7787814982</td>\n",
       "      <td>4330561.39</td>\n",
       "      <td>4326662.72</td>\n",
       "      <td>M8323358603</td>\n",
       "      <td>119874.35</td>\n",
       "      <td>123773.02</td>\n",
       "      <td>0</td>\n",
       "      <td>0</td>\n",
       "      <td>0</td>\n",
       "    </tr>\n",
       "    <tr>\n",
       "      <th>2</th>\n",
       "      <td>1422612</td>\n",
       "      <td>162</td>\n",
       "      <td>CASH_IN</td>\n",
       "      <td>328906.66</td>\n",
       "      <td>C5933160999</td>\n",
       "      <td>2738664.99</td>\n",
       "      <td>3067571.64</td>\n",
       "      <td>M5203480520</td>\n",
       "      <td>62420.96</td>\n",
       "      <td>62420.96</td>\n",
       "      <td>0</td>\n",
       "      <td>0</td>\n",
       "      <td>0</td>\n",
       "    </tr>\n",
       "    <tr>\n",
       "      <th>3</th>\n",
       "      <td>2771031</td>\n",
       "      <td>304</td>\n",
       "      <td>PAYMENT</td>\n",
       "      <td>5893.84</td>\n",
       "      <td>C4556212256</td>\n",
       "      <td>355476.10</td>\n",
       "      <td>349582.27</td>\n",
       "      <td>M7504842284</td>\n",
       "      <td>134119.24</td>\n",
       "      <td>140013.08</td>\n",
       "      <td>0</td>\n",
       "      <td>0</td>\n",
       "      <td>0</td>\n",
       "    </tr>\n",
       "    <tr>\n",
       "      <th>4</th>\n",
       "      <td>735308</td>\n",
       "      <td>41</td>\n",
       "      <td>CASH_IN</td>\n",
       "      <td>130091.39</td>\n",
       "      <td>C6471076107</td>\n",
       "      <td>2732966.80</td>\n",
       "      <td>2863058.19</td>\n",
       "      <td>M6673769831</td>\n",
       "      <td>8268.40</td>\n",
       "      <td>8268.40</td>\n",
       "      <td>0</td>\n",
       "      <td>0</td>\n",
       "      <td>0</td>\n",
       "    </tr>\n",
       "  </tbody>\n",
       "</table>\n",
       "</div>"
      ],
      "text/plain": [
       "        time  step   action     amount     nameOrig  oldBalanceOrig  \\\n",
       "idx                                                                   \n",
       "0          0     1  CASH_IN  229382.36  C3568019779           67.45   \n",
       "1    2099485   215  PAYMENT    3898.67  C7787814982      4330561.39   \n",
       "2    1422612   162  CASH_IN  328906.66  C5933160999      2738664.99   \n",
       "3    2771031   304  PAYMENT    5893.84  C4556212256       355476.10   \n",
       "4     735308    41  CASH_IN  130091.39  C6471076107      2732966.80   \n",
       "\n",
       "     newBalanceOrig     nameDest  oldBalanceDest  newBalanceDest  isFraud  \\\n",
       "idx                                                                         \n",
       "0         229449.80  M1836583048            0.00            0.00        0   \n",
       "1        4326662.72  M8323358603       119874.35       123773.02        0   \n",
       "2        3067571.64  M5203480520        62420.96        62420.96        0   \n",
       "3         349582.27  M7504842284       134119.24       140013.08        0   \n",
       "4        2863058.19  M6673769831         8268.40         8268.40        0   \n",
       "\n",
       "     isFlaggedFraud  isUnauthorizedOverdraft  \n",
       "idx                                           \n",
       "0                 0                        0  \n",
       "1                 0                        0  \n",
       "2                 0                        0  \n",
       "3                 0                        0  \n",
       "4                 0                        0  "
      ]
     },
     "execution_count": 32,
     "metadata": {},
     "output_type": "execute_result"
    }
   ],
   "source": [
    "# Importing YData's packages\n",
    "from ydata.platform.datasources import DataSources\n",
    "from ydata.metadata import Metadata\n",
    "\n",
    "# Creating a Dataset from the Data Source\n",
    "datasource = DataSources.get(uid='5759d69f-e127-419d-a382-71d2cc01025a',\n",
    "                             namespace='45685d15-0577-4001-834b-701ed6a52ad0')\n",
    "\n",
    "dataset = datasource.read()\n",
    "\n",
    "# Quickly previewing the Dataset\n",
    "dataset.head()"
   ]
  },
  {
   "cell_type": "code",
   "execution_count": 33,
   "id": "090e745c-e241-4ae4-9d77-149a6e6b8c5f",
   "metadata": {},
   "outputs": [
    {
     "data": {
      "text/plain": [
       "(3440390, 13)"
      ]
     },
     "execution_count": 33,
     "metadata": {},
     "output_type": "execute_result"
    }
   ],
   "source": [
    "dataset.shape(lazy_eval=False)"
   ]
  },
  {
   "cell_type": "markdown",
   "id": "954f2963-bea3-4f16-896d-9c3a70663b4d",
   "metadata": {},
   "source": [
    "By quickly taking a peek at the dataset, we can identify the several types of features we have:\n",
    "    \n",
    "- `time` is our sequential indicator\n",
    "- features describing the financial operation and its flow (`type`, `amount`, `nameOrig` and `nameDest`)\n",
    "- features accounting for the variation in balances (`oldbalanceDest`, `newbalanceDest`, `oldbalanceOrg`, `newbalanceOrig`) \n",
    "- features related with fraud (`isFlaggedFraud`, automatically detected potential frauds and `isFraud`, the real assessment). Fraudulent events seem to be minoritary, accounting for 0.09% of all transactions."
   ]
  },
  {
   "cell_type": "markdown",
   "id": "464537a1-2c5e-4b8b-9cc8-1750766b7c10",
   "metadata": {},
   "source": [
    "### Evaluating data quality"
   ]
  },
  {
   "cell_type": "markdown",
   "id": "b20f5a42-467f-47b7-9624-353d7ef8e3b6",
   "metadata": {},
   "source": [
    "The automated profiling available on the platform heavily complements these insights above with automatic detection of potential data quality issues. To access these data quality warnigs, useful to identify potential issues which must be solved prior to data synthesis, a `Metadata` object, which holds information about the dataset, can be created."
   ]
  },
  {
   "cell_type": "code",
   "execution_count": 4,
   "id": "7af42d49-0cf8-4a0f-8fd6-518e3cf2b74b",
   "metadata": {},
   "outputs": [
    {
     "name": "stdout",
     "output_type": "stream",
     "text": [
      "\u001b[1mMetadata Summary \n",
      " \n",
      "\u001b[0m\u001b[1mDataset type: \u001b[0mTABULAR\n",
      "\u001b[1mDataset attributes: \u001b[0m\n",
      "\u001b[1mNumber of columns: \u001b[0m13\n",
      "\u001b[1m% of duplicate rows: \u001b[0m0\n",
      "\u001b[1mTarget column: \u001b[0m\n",
      "\n",
      "\u001b[1mColumn detail: \u001b[0m\n",
      "                     Column    Data type Variable type\n",
      "0                      time    numerical           int\n",
      "1                      step  categorical           int\n",
      "2                    action  categorical        string\n",
      "3                    amount    numerical         float\n",
      "4                  nameOrig  categorical        string\n",
      "5            oldBalanceOrig    numerical         float\n",
      "6            newBalanceOrig    numerical         float\n",
      "7                  nameDest  categorical        string\n",
      "8            oldBalanceDest    numerical         float\n",
      "9            newBalanceDest    numerical         float\n",
      "10                  isFraud  categorical           int\n",
      "11           isFlaggedFraud  categorical           int\n",
      "12  isUnauthorizedOverdraft  categorical           int\n",
      "\n",
      "\u001b[1mWarnings: \u001b[0m\n",
      "                   Warning                                                                   Columns\n",
      "0     WarningType.SKEWNESS  [amount, oldBalanceOrig, newBalanceOrig, oldBalanceDest, newBalanceDest]\n",
      "1  WarningType.CARDINALITY                                                [step, nameOrig, nameDest]\n",
      "\n"
     ]
    }
   ],
   "source": [
    "# Creating a Metadata (where warnings can be reviewed) from the Dataset\n",
    "metadata = Metadata(dataset)\n",
    "print(metadata)"
   ]
  },
  {
   "cell_type": "markdown",
   "id": "d6f5de3e-d121-4bde-9658-0fa91508c7f3",
   "metadata": {},
   "source": [
    "This gives us additional information about the dataset: balances and amounts have highly skewed distributions, which suggests different types of transactions exist. We also seem to have a large number of entities represented in this dataset. "
   ]
  },
  {
   "cell_type": "markdown",
   "id": "328d2153-6db2-4794-b467-da6a83c12b71",
   "metadata": {},
   "source": [
    "For now, we will drop the `step` column, as it encodes the same sequence information as `time` (a `step` may have multiple transactions, `time` is just an artificial column with all the transactions in a `step` linearly ordered). Let's also drop the `isFlaggedFraud` column, which is based on simple rule flagging every transaction above 200000 as a potential fraud (we have the true ground truth fraud classification on `isFraud`). "
   ]
  },
  {
   "cell_type": "code",
   "execution_count": 5,
   "id": "36d185a6-e229-4de1-ad1f-9a10bc4d1c37",
   "metadata": {},
   "outputs": [],
   "source": [
    "dataset=dataset[['time',\n",
    "                 'action',\n",
    "                 'amount',\n",
    "                 'nameOrig',\n",
    "                 'oldBalanceOrig',\n",
    "                 'newBalanceOrig',\n",
    "                 'nameDest',\n",
    "                 'oldBalanceDest',\n",
    "                 'newBalanceDest',\n",
    "                 'isFraud',\n",
    "                 'isUnauthorizedOverdraft']]"
   ]
  },
  {
   "cell_type": "code",
   "execution_count": 6,
   "id": "12e677b6-9cd9-407c-80e1-72dd19ce95b2",
   "metadata": {},
   "outputs": [
    {
     "data": {
      "text/plain": [
       "['time',\n",
       " 'action',\n",
       " 'amount',\n",
       " 'nameOrig',\n",
       " 'oldBalanceOrig',\n",
       " 'newBalanceOrig',\n",
       " 'nameDest',\n",
       " 'oldBalanceDest',\n",
       " 'newBalanceDest',\n",
       " 'isFraud',\n",
       " 'isUnauthorizedOverdraft']"
      ]
     },
     "execution_count": 6,
     "metadata": {},
     "output_type": "execute_result"
    }
   ],
   "source": [
    "dataset.columns"
   ]
  },
  {
   "cell_type": "code",
   "execution_count": 20,
   "id": "214dd5ee-3678-4a1b-9779-bf7e88476071",
   "metadata": {},
   "outputs": [
    {
     "data": {
      "text/html": [
       "<div>\n",
       "<style scoped>\n",
       "    .dataframe tbody tr th:only-of-type {\n",
       "        vertical-align: middle;\n",
       "    }\n",
       "\n",
       "    .dataframe tbody tr th {\n",
       "        vertical-align: top;\n",
       "    }\n",
       "\n",
       "    .dataframe thead th {\n",
       "        text-align: right;\n",
       "    }\n",
       "</style>\n",
       "<table border=\"1\" class=\"dataframe\">\n",
       "  <thead>\n",
       "    <tr style=\"text-align: right;\">\n",
       "      <th></th>\n",
       "      <th>time</th>\n",
       "      <th>action</th>\n",
       "      <th>amount</th>\n",
       "      <th>nameOrig</th>\n",
       "      <th>oldBalanceOrig</th>\n",
       "      <th>newBalanceOrig</th>\n",
       "      <th>nameDest</th>\n",
       "      <th>oldBalanceDest</th>\n",
       "      <th>newBalanceDest</th>\n",
       "      <th>isFraud</th>\n",
       "      <th>isUnauthorizedOverdraft</th>\n",
       "    </tr>\n",
       "    <tr>\n",
       "      <th>idx</th>\n",
       "      <th></th>\n",
       "      <th></th>\n",
       "      <th></th>\n",
       "      <th></th>\n",
       "      <th></th>\n",
       "      <th></th>\n",
       "      <th></th>\n",
       "      <th></th>\n",
       "      <th></th>\n",
       "      <th></th>\n",
       "      <th></th>\n",
       "    </tr>\n",
       "  </thead>\n",
       "  <tbody>\n",
       "    <tr>\n",
       "      <th>0</th>\n",
       "      <td>0</td>\n",
       "      <td>CASH_IN</td>\n",
       "      <td>229382.36</td>\n",
       "      <td>C3568019779</td>\n",
       "      <td>67.45</td>\n",
       "      <td>229449.80</td>\n",
       "      <td>M1836583048</td>\n",
       "      <td>0.00</td>\n",
       "      <td>0.00</td>\n",
       "      <td>0</td>\n",
       "      <td>0</td>\n",
       "    </tr>\n",
       "    <tr>\n",
       "      <th>1</th>\n",
       "      <td>2099485</td>\n",
       "      <td>PAYMENT</td>\n",
       "      <td>3898.67</td>\n",
       "      <td>C7787814982</td>\n",
       "      <td>4330561.39</td>\n",
       "      <td>4326662.72</td>\n",
       "      <td>M8323358603</td>\n",
       "      <td>119874.35</td>\n",
       "      <td>123773.02</td>\n",
       "      <td>0</td>\n",
       "      <td>0</td>\n",
       "    </tr>\n",
       "    <tr>\n",
       "      <th>2</th>\n",
       "      <td>1422612</td>\n",
       "      <td>CASH_IN</td>\n",
       "      <td>328906.66</td>\n",
       "      <td>C5933160999</td>\n",
       "      <td>2738664.99</td>\n",
       "      <td>3067571.64</td>\n",
       "      <td>M5203480520</td>\n",
       "      <td>62420.96</td>\n",
       "      <td>62420.96</td>\n",
       "      <td>0</td>\n",
       "      <td>0</td>\n",
       "    </tr>\n",
       "    <tr>\n",
       "      <th>3</th>\n",
       "      <td>2771031</td>\n",
       "      <td>PAYMENT</td>\n",
       "      <td>5893.84</td>\n",
       "      <td>C4556212256</td>\n",
       "      <td>355476.10</td>\n",
       "      <td>349582.27</td>\n",
       "      <td>M7504842284</td>\n",
       "      <td>134119.24</td>\n",
       "      <td>140013.08</td>\n",
       "      <td>0</td>\n",
       "      <td>0</td>\n",
       "    </tr>\n",
       "    <tr>\n",
       "      <th>4</th>\n",
       "      <td>735308</td>\n",
       "      <td>CASH_IN</td>\n",
       "      <td>130091.39</td>\n",
       "      <td>C6471076107</td>\n",
       "      <td>2732966.80</td>\n",
       "      <td>2863058.19</td>\n",
       "      <td>M6673769831</td>\n",
       "      <td>8268.40</td>\n",
       "      <td>8268.40</td>\n",
       "      <td>0</td>\n",
       "      <td>0</td>\n",
       "    </tr>\n",
       "  </tbody>\n",
       "</table>\n",
       "</div>"
      ],
      "text/plain": [
       "        time   action     amount     nameOrig  oldBalanceOrig  newBalanceOrig  \\\n",
       "idx                                                                             \n",
       "0          0  CASH_IN  229382.36  C3568019779           67.45       229449.80   \n",
       "1    2099485  PAYMENT    3898.67  C7787814982      4330561.39      4326662.72   \n",
       "2    1422612  CASH_IN  328906.66  C5933160999      2738664.99      3067571.64   \n",
       "3    2771031  PAYMENT    5893.84  C4556212256       355476.10       349582.27   \n",
       "4     735308  CASH_IN  130091.39  C6471076107      2732966.80      2863058.19   \n",
       "\n",
       "        nameDest  oldBalanceDest  newBalanceDest  isFraud  \\\n",
       "idx                                                         \n",
       "0    M1836583048            0.00            0.00        0   \n",
       "1    M8323358603       119874.35       123773.02        0   \n",
       "2    M5203480520        62420.96        62420.96        0   \n",
       "3    M7504842284       134119.24       140013.08        0   \n",
       "4    M6673769831         8268.40         8268.40        0   \n",
       "\n",
       "     isUnauthorizedOverdraft  \n",
       "idx                           \n",
       "0                          0  \n",
       "1                          0  \n",
       "2                          0  \n",
       "3                          0  \n",
       "4                          0  "
      ]
     },
     "execution_count": 20,
     "metadata": {},
     "output_type": "execute_result"
    }
   ],
   "source": [
    "dataset.head()"
   ]
  },
  {
   "cell_type": "code",
   "execution_count": 53,
   "id": "2c8ea6be-cf55-4595-a66f-4a0130a090d4",
   "metadata": {},
   "outputs": [
    {
     "ename": "TypeError",
     "evalue": "type of the return value must be dask.dataframe.core.Series; got dict instead",
     "output_type": "error",
     "traceback": [
      "\u001b[0;31m---------------------------------------------------------------------------\u001b[0m",
      "\u001b[0;31mTypeError\u001b[0m                                 Traceback (most recent call last)",
      "Input \u001b[0;32mIn [53]\u001b[0m, in \u001b[0;36m<cell line: 1>\u001b[0;34m()\u001b[0m\n\u001b[0;32m----> 1\u001b[0m \u001b[43mdataset\u001b[49m\u001b[38;5;241;43m.\u001b[39;49m\u001b[43mvalue_counts\u001b[49m\u001b[43m(\u001b[49m\u001b[43mcol\u001b[49m\u001b[38;5;241;43m=\u001b[39;49m\u001b[38;5;124;43m'\u001b[39;49m\u001b[38;5;124;43misFraud\u001b[39;49m\u001b[38;5;124;43m'\u001b[39;49m\u001b[43m)\u001b[49m\n",
      "File \u001b[0;32m/opt/conda/lib/python3.8/site-packages/typeguard/__init__.py:1036\u001b[0m, in \u001b[0;36mtypechecked.<locals>.wrapper\u001b[0;34m(*args, **kwargs)\u001b[0m\n\u001b[1;32m   1034\u001b[0m     check_return_type(retval, memo)\n\u001b[1;32m   1035\u001b[0m \u001b[38;5;28;01mexcept\u001b[39;00m \u001b[38;5;167;01mTypeError\u001b[39;00m \u001b[38;5;28;01mas\u001b[39;00m exc:\n\u001b[0;32m-> 1036\u001b[0m     \u001b[38;5;28;01mraise\u001b[39;00m \u001b[38;5;167;01mTypeError\u001b[39;00m(\u001b[38;5;241m*\u001b[39mexc\u001b[38;5;241m.\u001b[39margs) \u001b[38;5;28;01mfrom\u001b[39;00m \u001b[38;5;28mNone\u001b[39m\n\u001b[1;32m   1038\u001b[0m \u001b[38;5;66;03m# If a generator is returned, wrap it if its yield/send/return types can be checked\u001b[39;00m\n\u001b[1;32m   1039\u001b[0m \u001b[38;5;28;01mif\u001b[39;00m inspect\u001b[38;5;241m.\u001b[39misgenerator(retval) \u001b[38;5;129;01mor\u001b[39;00m isasyncgen(retval):\n",
      "\u001b[0;31mTypeError\u001b[0m: type of the return value must be dask.dataframe.core.Series; got dict instead"
     ]
    }
   ],
   "source": [
    "dataset.value_counts(col='isFraud')"
   ]
  },
  {
   "cell_type": "markdown",
   "id": "cd232d68-98a7-4725-87d7-54a20390403f",
   "metadata": {},
   "source": [
    "**⚠️ TODO:** \n",
    "- Percentage of fraudulent events to describe imbalance\n",
    "- Behaviour when transactions are flagged as Fraud. Do transactions go through and are balances updated? In some cases they seem to go, others not (see sample below, where in _TRANSFERS_ the balances are updated, but in _CASH_OUT_ only the origin balances are updated)"
   ]
  },
  {
   "cell_type": "code",
   "execution_count": 56,
   "id": "4af09107-0fbd-49dd-865f-114953e76793",
   "metadata": {},
   "outputs": [
    {
     "data": {
      "text/html": [
       "<div>\n",
       "<style scoped>\n",
       "    .dataframe tbody tr th:only-of-type {\n",
       "        vertical-align: middle;\n",
       "    }\n",
       "\n",
       "    .dataframe tbody tr th {\n",
       "        vertical-align: top;\n",
       "    }\n",
       "\n",
       "    .dataframe thead th {\n",
       "        text-align: right;\n",
       "    }\n",
       "</style>\n",
       "<table border=\"1\" class=\"dataframe\">\n",
       "  <thead>\n",
       "    <tr style=\"text-align: right;\">\n",
       "      <th></th>\n",
       "      <th>time</th>\n",
       "      <th>action</th>\n",
       "      <th>amount</th>\n",
       "      <th>nameOrig</th>\n",
       "      <th>oldBalanceOrig</th>\n",
       "      <th>newBalanceOrig</th>\n",
       "      <th>nameDest</th>\n",
       "      <th>oldBalanceDest</th>\n",
       "      <th>newBalanceDest</th>\n",
       "      <th>isFraud</th>\n",
       "      <th>isUnauthorizedOverdraft</th>\n",
       "    </tr>\n",
       "    <tr>\n",
       "      <th>idx</th>\n",
       "      <th></th>\n",
       "      <th></th>\n",
       "      <th></th>\n",
       "      <th></th>\n",
       "      <th></th>\n",
       "      <th></th>\n",
       "      <th></th>\n",
       "      <th></th>\n",
       "      <th></th>\n",
       "      <th></th>\n",
       "      <th></th>\n",
       "    </tr>\n",
       "  </thead>\n",
       "  <tbody>\n",
       "    <tr>\n",
       "      <th>8622</th>\n",
       "      <td>795214</td>\n",
       "      <td>CASH_OUT</td>\n",
       "      <td>2570402.40</td>\n",
       "      <td>CC9422039449</td>\n",
       "      <td>2570402.40</td>\n",
       "      <td>0.0</td>\n",
       "      <td>M7496464523</td>\n",
       "      <td>29411.73</td>\n",
       "      <td>29411.73</td>\n",
       "      <td>1</td>\n",
       "      <td>0</td>\n",
       "    </tr>\n",
       "    <tr>\n",
       "      <th>23060</th>\n",
       "      <td>1581083</td>\n",
       "      <td>TRANSFER</td>\n",
       "      <td>4163410.07</td>\n",
       "      <td>C5174780560</td>\n",
       "      <td>4163410.07</td>\n",
       "      <td>0.0</td>\n",
       "      <td>CC7446320333</td>\n",
       "      <td>0.00</td>\n",
       "      <td>4163410.07</td>\n",
       "      <td>1</td>\n",
       "      <td>0</td>\n",
       "    </tr>\n",
       "    <tr>\n",
       "      <th>23450</th>\n",
       "      <td>896404</td>\n",
       "      <td>TRANSFER</td>\n",
       "      <td>1679992.41</td>\n",
       "      <td>C4542076697</td>\n",
       "      <td>1679992.41</td>\n",
       "      <td>0.0</td>\n",
       "      <td>CC8217955584</td>\n",
       "      <td>0.00</td>\n",
       "      <td>1679992.41</td>\n",
       "      <td>1</td>\n",
       "      <td>0</td>\n",
       "    </tr>\n",
       "    <tr>\n",
       "      <th>31950</th>\n",
       "      <td>954715</td>\n",
       "      <td>CASH_OUT</td>\n",
       "      <td>3332741.91</td>\n",
       "      <td>CC0595036904</td>\n",
       "      <td>3332741.91</td>\n",
       "      <td>0.0</td>\n",
       "      <td>M6132642535</td>\n",
       "      <td>65235.63</td>\n",
       "      <td>65235.63</td>\n",
       "      <td>1</td>\n",
       "      <td>0</td>\n",
       "    </tr>\n",
       "    <tr>\n",
       "      <th>31955</th>\n",
       "      <td>954756</td>\n",
       "      <td>TRANSFER</td>\n",
       "      <td>4160603.41</td>\n",
       "      <td>C7053057303</td>\n",
       "      <td>4160603.41</td>\n",
       "      <td>0.0</td>\n",
       "      <td>CC7284696026</td>\n",
       "      <td>0.00</td>\n",
       "      <td>4160603.41</td>\n",
       "      <td>1</td>\n",
       "      <td>0</td>\n",
       "    </tr>\n",
       "    <tr>\n",
       "      <th>31956</th>\n",
       "      <td>954762</td>\n",
       "      <td>TRANSFER</td>\n",
       "      <td>3107209.31</td>\n",
       "      <td>C0787455641</td>\n",
       "      <td>3107209.31</td>\n",
       "      <td>0.0</td>\n",
       "      <td>CC9225729183</td>\n",
       "      <td>0.00</td>\n",
       "      <td>3107209.31</td>\n",
       "      <td>1</td>\n",
       "      <td>0</td>\n",
       "    </tr>\n",
       "    <tr>\n",
       "      <th>31958</th>\n",
       "      <td>954772</td>\n",
       "      <td>TRANSFER</td>\n",
       "      <td>4957720.59</td>\n",
       "      <td>C3964958359</td>\n",
       "      <td>4957720.59</td>\n",
       "      <td>0.0</td>\n",
       "      <td>CC5540712224</td>\n",
       "      <td>0.00</td>\n",
       "      <td>4957720.59</td>\n",
       "      <td>1</td>\n",
       "      <td>0</td>\n",
       "    </tr>\n",
       "    <tr>\n",
       "      <th>31960</th>\n",
       "      <td>954776</td>\n",
       "      <td>TRANSFER</td>\n",
       "      <td>2140452.93</td>\n",
       "      <td>C8175893711</td>\n",
       "      <td>2140452.93</td>\n",
       "      <td>0.0</td>\n",
       "      <td>CC4278291765</td>\n",
       "      <td>0.00</td>\n",
       "      <td>2140452.93</td>\n",
       "      <td>1</td>\n",
       "      <td>0</td>\n",
       "    </tr>\n",
       "    <tr>\n",
       "      <th>36283</th>\n",
       "      <td>2349404</td>\n",
       "      <td>CASH_OUT</td>\n",
       "      <td>3016188.55</td>\n",
       "      <td>CC6136600795</td>\n",
       "      <td>3016188.55</td>\n",
       "      <td>0.0</td>\n",
       "      <td>M4792214233</td>\n",
       "      <td>160441.58</td>\n",
       "      <td>160441.58</td>\n",
       "      <td>1</td>\n",
       "      <td>0</td>\n",
       "    </tr>\n",
       "    <tr>\n",
       "      <th>38481</th>\n",
       "      <td>2364944</td>\n",
       "      <td>TRANSFER</td>\n",
       "      <td>4361975.38</td>\n",
       "      <td>C8695846943</td>\n",
       "      <td>4361975.38</td>\n",
       "      <td>0.0</td>\n",
       "      <td>CC8128818728</td>\n",
       "      <td>0.00</td>\n",
       "      <td>4361975.38</td>\n",
       "      <td>1</td>\n",
       "      <td>0</td>\n",
       "    </tr>\n",
       "  </tbody>\n",
       "</table>\n",
       "</div>"
      ],
      "text/plain": [
       "          time    action      amount      nameOrig  oldBalanceOrig  \\\n",
       "idx                                                                  \n",
       "8622    795214  CASH_OUT  2570402.40  CC9422039449      2570402.40   \n",
       "23060  1581083  TRANSFER  4163410.07   C5174780560      4163410.07   \n",
       "23450   896404  TRANSFER  1679992.41   C4542076697      1679992.41   \n",
       "31950   954715  CASH_OUT  3332741.91  CC0595036904      3332741.91   \n",
       "31955   954756  TRANSFER  4160603.41   C7053057303      4160603.41   \n",
       "31956   954762  TRANSFER  3107209.31   C0787455641      3107209.31   \n",
       "31958   954772  TRANSFER  4957720.59   C3964958359      4957720.59   \n",
       "31960   954776  TRANSFER  2140452.93   C8175893711      2140452.93   \n",
       "36283  2349404  CASH_OUT  3016188.55  CC6136600795      3016188.55   \n",
       "38481  2364944  TRANSFER  4361975.38   C8695846943      4361975.38   \n",
       "\n",
       "       newBalanceOrig      nameDest  oldBalanceDest  newBalanceDest  isFraud  \\\n",
       "idx                                                                            \n",
       "8622              0.0   M7496464523        29411.73        29411.73        1   \n",
       "23060             0.0  CC7446320333            0.00      4163410.07        1   \n",
       "23450             0.0  CC8217955584            0.00      1679992.41        1   \n",
       "31950             0.0   M6132642535        65235.63        65235.63        1   \n",
       "31955             0.0  CC7284696026            0.00      4160603.41        1   \n",
       "31956             0.0  CC9225729183            0.00      3107209.31        1   \n",
       "31958             0.0  CC5540712224            0.00      4957720.59        1   \n",
       "31960             0.0  CC4278291765            0.00      2140452.93        1   \n",
       "36283             0.0   M4792214233       160441.58       160441.58        1   \n",
       "38481             0.0  CC8128818728            0.00      4361975.38        1   \n",
       "\n",
       "       isUnauthorizedOverdraft  \n",
       "idx                             \n",
       "8622                         0  \n",
       "23060                        0  \n",
       "23450                        0  \n",
       "31950                        0  \n",
       "31955                        0  \n",
       "31956                        0  \n",
       "31958                        0  \n",
       "31960                        0  \n",
       "36283                        0  \n",
       "38481                        0  "
      ]
     },
     "execution_count": 56,
     "metadata": {},
     "output_type": "execute_result"
    }
   ],
   "source": [
    "data_sample = dataset.sample(100000).to_pandas()\n",
    "data_sample[data_sample.isFraud == 1].head(10)"
   ]
  },
  {
   "cell_type": "markdown",
   "id": "1e86e092-3436-4242-9dd8-cf9c125e6b81",
   "metadata": {},
   "source": [
    "### Validation of business rules "
   ]
  },
  {
   "cell_type": "markdown",
   "id": "9a1376cf-1945-4f46-aa2a-12142550513d",
   "metadata": {},
   "source": [
    "A dataset not abiding by the expected business rules may silently go unnoticed through all the phases of a project and fail to deliver any business value when finally live. As such, it's important to validate these kind of constraints. The `Metadata` objects can be used for validation of several type of arbitrary row and column-wise constraints (per-entity, if required), through its integration with YData's `ConstraintEngine`."
   ]
  },
  {
   "cell_type": "markdown",
   "id": "7dbd04e7-ba21-42d6-9302-1ebb47e2301a",
   "metadata": {},
   "source": [
    "#### Which business rules and constraints does this dataset have?\n",
    "\n",
    "Stemming from its transactional-financial nature and given the [extra context available on Kaggle](https://www.kaggle.com/datasets/ealaxi/paysim1) and in the original paper, some implicit and explicit business rules can be derived for this dataset:\n",
    "    \n",
    "- `CASH-IN`, `CASH-OUT` and `PAYMENT` operations need to have as destination `Merchant` accounts\n",
    "- `DEBIT` operations need to have `BANKS` as the destination\n",
    "- If the operation is a rejected overdraft (`isUnauthorizedOverdraft==1`), the balance of the origin entity is kept\n",
    "- The `amount` column should only assume values positive values (as the signal of the transaction is codified in the `action` column)\n",
    "- For every origin entity, the trajectory of each entity's balance across time must be coherent with its interactions with other entities.\n",
    "    - In practice, if the operation is not a rejected overdraft: $balance(t+1) = balance(t) + amount(t) \\times (-1 \\: if \\: 1 \\: action(n) \\: in \\: [CASH-OUT, \\: PAYMENT, \\: TRANSFER, \\: DEBIT] \\: else \\: 1)$  \n",
    "    - For destination entities, the above applies but `amount` is multiplied by 1 (entity receives money)"
   ]
  },
  {
   "cell_type": "markdown",
   "id": "0b3399de-f38e-4a7b-b4b2-f9a581f533ad",
   "metadata": {},
   "source": [
    "For demo purposes, let's validate only the last two constraints we defined. "
   ]
  },
  {
   "cell_type": "code",
   "execution_count": 62,
   "id": "05be73b2-fc32-4466-aa16-5159ece8fd65",
   "metadata": {},
   "outputs": [],
   "source": [
    "#double check this with Quemy\n",
    "from ydata.constraints.engine import ConstraintEngine\n",
    "from ydata.constraints.constraint import GreaterThan, Positive, CustomConstraint\n",
    "\n",
    "# Create the custom constrains for the dataset\n",
    "\n",
    "# Validate coherence in balance of the origin entity during the transaction \n",
    "def check_originBalance(df):\n",
    "    # How can we add this type of logic to deal with the associated signs? Can we maybe do an apply instead prior the validations?\n",
    "    # balance(t) is in newBalanceOrig; balance(t-1) is in oldBalanceOrig\n",
    "    \n",
    "    action_mapping = {'DEBIT': -1, 'TRANSFER': -1, 'CASH_IN': 1, 'CASH_OUT': -1, 'PAYMENT': -1}\n",
    "    return df['newBalanceOrig'] == df['oldBalanceOrig'] + (df['amount']*df['action'].map(action_mapping))*(1-df['isUnauthorizedOverdraft'])\n",
    "\n",
    "# Validate coherence in balance of the destination entity during the transaction\n",
    "def check_destBalance(df):\n",
    "    \n",
    "    # How can we add this type of logic to deal with the associated signs? Can we maybe do an apply instead prior the validations?\n",
    "    # balance(t) is in newBalanceOrig; balance(t-1) is in oldBalanceOrig\n",
    "    \n",
    "    # For the receiving entity, the transaction signs are inverted\n",
    "    action_mapping = {'DEBIT': 1, 'TRANSFER': 1, 'CASH_IN': -1, 'CASH_OUT': 1, 'PAYMENT': 1} \n",
    "    return df['newBalanceDest'] == df['oldBalanceDest'] + (df['amount']*df['action'].map(action_mapping))*(1-df['isUnauthorizedOverdraft'])\n",
    "\n",
    "\n",
    "# Some other out-of-the-box constrains are also available like GreaterThan, \n",
    "# which checks whether a colum(n) is(are) greater than a certain provided value(s)\n",
    "\n",
    "c1 = Positive(columns=['amount'])\n",
    "c2 = CustomConstraint(name=\"Balance Check Origin Entity | axis=1\", \n",
    "                       check=check_originBalance,\n",
    "                       available_columns=['nameOrig', 'oldBalanceOrig', 'newBalanceOrig', 'amount', 'action', 'isUnauthorizedOverdraft'],\n",
    "                       entity='nameOrig', \n",
    "                       axis=0)\n",
    "\n",
    "c3 = CustomConstraint(name=\"Balance Check Destination Entity | axis=1\", \n",
    "                       check=check_destBalance,\n",
    "                       available_columns=['nameDest', 'oldBalanceDest', 'newBalanceDest', 'amount', 'action', 'isUnauthorizedOverdraft'],\n",
    "                       entity='nameDest', \n",
    "                       axis=0)\n",
    "\n",
    "\n",
    "engine = ConstraintEngine()\n",
    "engine.add_constraints([c1, c2, c3])"
   ]
  },
  {
   "cell_type": "markdown",
   "id": "9ec0bffc-ce49-4a6d-9dc0-e212636e9022",
   "metadata": {},
   "source": [
    "**⚠️ TODO:** Why are we checking by entity? This seems to be a simple row constraint given we keep the running balances of both entities in the `oldBalance*` variables.  \n",
    "\n",
    "Running the Constraints engine with and without this verification yields very similar violation ratios.  \n",
    "\n",
    "- With entity set: Positive amount 0.0, Balance Check origin 0.43625, Balance Check Destination 0.8145\n",
    "- Without entity set: Positive amount 0.0, Balance Check origin 0.0.43625, Balance Check Destination 0.8145 (but takes longer)"
   ]
  },
  {
   "cell_type": "code",
   "execution_count": 8,
   "id": "4319e524-ee53-46b2-a5fa-18dacf08db65",
   "metadata": {},
   "outputs": [
    {
     "data": {
      "text/plain": [
       "'\\nfrom pandas import DataFrame as pdDataframe\\nfrom utils import check_balance_with_interaction\\nfrom typing import List, Union, Optional\\n\\nfrom ydata.dataset.dataset import Dataset\\nfrom ydata.constraints.base import RowConstraint\\n\\n#Setting the class that allows to create the constraint\\nclass PaySimStateConstraint(RowConstraint):\\n    def __init__(\\n        self,\\n        name: Optional[str] = None\\n    ):\\n        self.name = name\\n        \\n    def validate(self, dataset: Dataset):\\n        return check_balance_with_interaction(dataset.to_pandas())\\n\\nc = PaySimStateConstraint(name=\"Balance Check with interaction via CustomStateConstraint\")\\n\\nengine.add_constraint(c)\\n'"
      ]
     },
     "execution_count": 8,
     "metadata": {},
     "output_type": "execute_result"
    }
   ],
   "source": [
    "\"\"\"\n",
    "from pandas import DataFrame as pdDataframe\n",
    "from utils import check_balance_with_interaction\n",
    "from typing import List, Union, Optional\n",
    "\n",
    "from ydata.dataset.dataset import Dataset\n",
    "from ydata.constraints.base import RowConstraint\n",
    "\n",
    "#Setting the class that allows to create the constraint\n",
    "class PaySimStateConstraint(RowConstraint):\n",
    "    def __init__(\n",
    "        self,\n",
    "        name: Optional[str] = None\n",
    "    ):\n",
    "        self.name = name\n",
    "        \n",
    "    def validate(self, dataset: Dataset):\n",
    "        return check_balance_with_interaction(dataset.to_pandas())\n",
    "\n",
    "c = PaySimStateConstraint(name=\"Balance Check with interaction via CustomStateConstraint\")\n",
    "\n",
    "engine.add_constraint(c)\n",
    "\"\"\""
   ]
  },
  {
   "cell_type": "markdown",
   "id": "7d1a3df1-eec0-4592-8e44-b948363f842b",
   "metadata": {},
   "source": [
    "**⚠️ TODO**\n",
    "\n",
    "_It is not possible to check a constraint on the balance by simply looking at each entity trajectory. In this case, checking the constraint on the balance requires to maintain a state of the balance for each entity while iterating per row.The current Constraint Engine does not directly support such scenario. However, it is possible to define a constraint object which will be checked row by row while maintaining this state._ -> **well, the PaySim dataset we have maintains this running balance with the `oldBalance` columns. So maybe doing _Balance Check Origin_ and _Balance Check Destination_ constraints, per row, is enough to verify this?**"
   ]
  },
  {
   "cell_type": "markdown",
   "id": "44602165-60d2-4831-a118-f4a6e122acba",
   "metadata": {},
   "source": [
    "#### Running the validation "
   ]
  },
  {
   "cell_type": "code",
   "execution_count": 63,
   "id": "70498789-4019-4d3f-81e4-a649b6ac8982",
   "metadata": {},
   "outputs": [
    {
     "data": {
      "text/plain": [
       "{'violation_count': 3053395,\n",
       " 'violation_ratio': 0.8875142062382463,\n",
       " 'violation_per_constraint': {\"Positive(columns=['amount'])\": {'violation_count': 0,\n",
       "   'violation_ratio': 0.0,\n",
       "   'validation_time': (182.53931617736816,)},\n",
       "  'Balance Check Origin Entity | axis=1': {'violation_count': 1500879,\n",
       "   'violation_ratio': 0.4362525760160912,\n",
       "   'validation_time': (107.66672801971436,)},\n",
       "  'Balance Check Destination Entity | axis=1': {'violation_count': 2802361,\n",
       "   'violation_ratio': 0.8145474786288763,\n",
       "   'validation_time': (215.67957305908203,)}}}"
      ]
     },
     "execution_count": 63,
     "metadata": {},
     "output_type": "execute_result"
    }
   ],
   "source": [
    "# Getting the summary view of the constraints engine\n",
    "\n",
    "engine.validate(dataset)\n",
    "engine.summary()"
   ]
  },
  {
   "cell_type": "markdown",
   "id": "a87cb414-a0b6-40c7-be05-7bc62f21e3db",
   "metadata": {},
   "source": [
    "As we can see, the PaySim dataset includes massive inconsistences when keeping track of the balances of each entity throughout the transactions.  The evolution of balances throughout time. "
   ]
  },
  {
   "cell_type": "markdown",
   "id": "ef59dfca-c4fc-4068-86eb-5afabd33525a",
   "metadata": {},
   "source": [
    "TODO: analysis and comments on these -> this is our actionability\n",
    "\n",
    "\n",
    "Add here more detail on why this constraints validation it is important for the use case. And how much does this impact the process of data synthesis "
   ]
  },
  {
   "cell_type": "markdown",
   "id": "f6466c26-6c5c-49c8-9a81-db6683d6a265",
   "metadata": {},
   "source": [
    "## Creating a synthetic replica of the PaySim dataset"
   ]
  },
  {
   "cell_type": "markdown",
   "id": "e3862ff9-c8b9-4a3c-81df-64048cbdfcf8",
   "metadata": {},
   "source": [
    "Add here more detail. We are only synthesizing the amount, all the other columns will be derived from the process of synthesis."
   ]
  },
  {
   "cell_type": "code",
   "execution_count": null,
   "id": "d66444b4-bedd-423d-97b8-78bc014fb389",
   "metadata": {},
   "outputs": [],
   "source": [
    "from ydata.utils.data_types import DataType, VariableType\n",
    "from ydata.dataset.dataset_type import DatasetType\n",
    "from ydata.synthesizers.timeseries.model import TimeSeriesSynthesizer"
   ]
  },
  {
   "cell_type": "code",
   "execution_count": null,
   "id": "4a6d7bc8-1716-42dc-af33-83963884cad0",
   "metadata": {},
   "outputs": [],
   "source": [
    "#Selecting the columns to be synthesized\n",
    "sel_dataset = dataset[['time',\n",
    "                     'action',\n",
    "                     'amount',\n",
    "                     'nameOrig',\n",
    "                     'nameDest',\n",
    "                     'isFraud',\n",
    "                     'isFlaggedFraud',\n",
    "                     'isUnauthorizedOverdraft']]"
   ]
  },
  {
   "cell_type": "code",
   "execution_count": null,
   "id": "48938bc8-7621-4175-bc27-91841f97d7ea",
   "metadata": {},
   "outputs": [],
   "source": [
    "#Creating the Metadata object for the synthesis\n",
    "dataset_attrs = {\n",
    "     \"sortbykey\": \"time\",\n",
    "     \"entity_id_cols\": [\"nameOrig\", \"nameDest\"]\n",
    "}\n",
    "\n",
    "m = Metadata(sel_dataset,\n",
    "             dataset_attrs,\n",
    "             dataset_type=DatasetType.TIMESERIES)"
   ]
  },
  {
   "cell_type": "code",
   "execution_count": null,
   "id": "140d317e-cfb8-45fa-82fc-5f7fd7c84d1d",
   "metadata": {},
   "outputs": [],
   "source": [
    "synthesizer = TimeSeriesSynthesizer()\n",
    "synthesizer.fit(sel_dataset, metadata=m)"
   ]
  },
  {
   "cell_type": "code",
   "execution_count": 64,
   "id": "a10761e4-578d-4dd3-b34e-c9a80674170a",
   "metadata": {},
   "outputs": [
    {
     "ename": "NameError",
     "evalue": "name 'synthesizer' is not defined",
     "output_type": "error",
     "traceback": [
      "\u001b[0;31m---------------------------------------------------------------------------\u001b[0m",
      "\u001b[0;31mNameError\u001b[0m                                 Traceback (most recent call last)",
      "Input \u001b[0;32mIn [64]\u001b[0m, in \u001b[0;36m<cell line: 2>\u001b[0;34m()\u001b[0m\n\u001b[1;32m      1\u001b[0m \u001b[38;5;66;03m# Generating a sample fo synthetic data\u001b[39;00m\n\u001b[0;32m----> 2\u001b[0m sample \u001b[38;5;241m=\u001b[39m \u001b[43msynthesizer\u001b[49m\u001b[38;5;241m.\u001b[39msample(n_samples\u001b[38;5;241m=\u001b[39m\u001b[38;5;28mlen\u001b[39m(dataset))\n",
      "\u001b[0;31mNameError\u001b[0m: name 'synthesizer' is not defined"
     ]
    }
   ],
   "source": [
    "# Generating a sample fo synthetic data\n",
    "sample = synthesizer.sample(n_samples=len(dataset))"
   ]
  },
  {
   "cell_type": "code",
   "execution_count": null,
   "id": "f42f23c9-683b-4994-9f84-8f141b7521d5",
   "metadata": {},
   "outputs": [],
   "source": [
    "# The synthesized dataset\n",
    "sample.head(10)"
   ]
  },
  {
   "cell_type": "markdown",
   "id": "a40319e4-0057-44e9-bb8b-38b41a08e25f",
   "metadata": {},
   "source": [
    "### Calculating the constrained features - balances\n",
    "#Origin and destination balances need to take account the generated amount. \n",
    "\n",
    "Let's just calculate the newBalance, as the oldOnes can be trivially deduced from the new ones and the transaction amount (or by tracking the transaction amount across time)"
   ]
  },
  {
   "cell_type": "code",
   "execution_count": null,
   "id": "5fd600ee-b5f9-487a-9280-494395393b77",
   "metadata": {},
   "outputs": [],
   "source": [
    "### Building the function to calculate the balances origin, Destination balances\n",
    "## Todo: import from utils.py"
   ]
  },
  {
   "cell_type": "markdown",
   "id": "5bd557ab-9766-48dd-90a9-e4a3af75cd6a",
   "metadata": {},
   "source": [
    "## Evaluating the quality of the synthetic dataset"
   ]
  },
  {
   "cell_type": "markdown",
   "id": "36121f51-8f62-4110-80c8-d0a147790676",
   "metadata": {},
   "source": [
    "Visualizations:\n",
    "- Number of transactions per clients\n",
    "- Number of clients\n",
    "- Imbalance\n",
    "- Distribution of balance (marginals)\n",
    "- Distribution of amount (marginals)\n",
    "- Trajectories show the time properties (balance over time for specific account IDs)"
   ]
  },
  {
   "cell_type": "markdown",
   "id": "1b481bac-083f-4c0b-bfa0-7e759b28f196",
   "metadata": {},
   "source": [
    "_Balance is a hidden state with deterministic rules and constraints (balance depends on previous row) - if that fails, so does the synthesis._"
   ]
  },
  {
   "cell_type": "code",
   "execution_count": null,
   "id": "ffb87309-5ad0-4e58-a3d5-3f9c1a6920d6",
   "metadata": {},
   "outputs": [],
   "source": []
  }
 ],
 "metadata": {
  "kernelspec": {
   "display_name": "Python 3 (ipykernel)",
   "language": "python",
   "name": "python3"
  },
  "language_info": {
   "codemirror_mode": {
    "name": "ipython",
    "version": 3
   },
   "file_extension": ".py",
   "mimetype": "text/x-python",
   "name": "python",
   "nbconvert_exporter": "python",
   "pygments_lexer": "ipython3",
   "version": "3.8.13"
  }
 },
 "nbformat": 4,
 "nbformat_minor": 5
}
