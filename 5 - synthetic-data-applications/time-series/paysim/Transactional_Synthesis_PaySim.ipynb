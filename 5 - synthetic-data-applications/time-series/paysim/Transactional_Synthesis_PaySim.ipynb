{
 "cells": [
  {
   "cell_type": "markdown",
   "id": "adc120a2-a385-46b5-8d44-0153f484de7f",
   "metadata": {},
   "source": [
    "# Using YData to synthesize sequential transactional data\n",
    "\n",
    "## Context\n",
    "\n",
    "Payments data is one of the most common types of transactional datasets, and for many business areas one of the most valuable. However, it is particularly sensitive and has complex underlying logic governing it, which makes it a perfect test bed for data quality assessment and synthetic data generation.\n",
    "\n",
    "The dataset _“PaySim: A financial mobile money simulator for fraud detection”_ is a case study based on a real company that developed a mobile money implementation which provided mobile phone users the ability to transfer money between themselves using the phone as a sort of electronic wallet."
   ]
  },
  {
   "cell_type": "markdown",
   "id": "5667844d-a62d-4519-9f23-522d7a93b122",
   "metadata": {},
   "source": [
    "**Outline of this document**\n",
    "\n",
    "- Ingesting and understanding a transactional financial dataset, including abidance by business logic\n",
    "- Training a synthetic data generator over the dataset\n",
    "- Generating a synthetic version of the dataset, integrating the aforementioned business logic\n",
    "- Evaluating the statistical fidelity and coherence of the generated data"
   ]
  },
  {
   "cell_type": "markdown",
   "id": "b0423a65-544c-42c7-bcac-7298502b04a7",
   "metadata": {},
   "source": [
    "## Dataset: PaySim"
   ]
  },
  {
   "cell_type": "markdown",
   "id": "09f66d38-c287-4847-a902-bdd2220c4b22",
   "metadata": {},
   "source": [
    "PaySim simulates mobile money transactions based on a sample of real transactions (extracted from one month of financial logs from a mobile money service implemented in an African country). The original logs were provided by a multinational company, who is the provider of a mobile financial service currently running in more than 14 countries all around the world.\n",
    "\n",
    "The PaySim version used is a custom one generated through the code on the [PaySim GitHub repository](https://github.com/EdgarLopezPhD/PaySim) and based on the paper [_PaySim: A financial mobile money simulator for fraud detection_](https://www.researchgate.net/publication/313138956_PAYSIM_A_FINANCIAL_MOBILE_MONEY_SIMULATOR_FOR_FRAUD_DETECTION).\n",
    "\n",
    "This dataset version can be downloaded from **⚠️ TODO: add link to bucket with dataset**. "
   ]
  },
  {
   "cell_type": "markdown",
   "id": "4064a59d-6d25-4b55-bdfa-17abce5d7fa1",
   "metadata": {},
   "source": [
    "### Loading the dataset\n",
    "\n",
    "YData's platform is fully integrated - this means that any source of data created through the UI can be easily consumed within the Labs (via the [Platform SDK](https://github.com/ydataai/academy/blob/master/1%20-%20platform-sdk/ui-to-sdk-examples.ipynb)) for further exploration, leveraging the platform's built-in scalability. Alternatively, YData's [Connectors](https://github.com/ydataai/academy/tree/master/2%20-%20connectors) could also be used.\n",
    "\n",
    "Below, the Platform SDK will be used. "
   ]
  },
  {
   "cell_type": "code",
   "execution_count": 47,
   "id": "d4e27739-5977-4bc6-bd0c-56e52b25e056",
   "metadata": {},
   "outputs": [
    {
     "data": {
      "text/html": [
       "<div>\n",
       "<style scoped>\n",
       "    .dataframe tbody tr th:only-of-type {\n",
       "        vertical-align: middle;\n",
       "    }\n",
       "\n",
       "    .dataframe tbody tr th {\n",
       "        vertical-align: top;\n",
       "    }\n",
       "\n",
       "    .dataframe thead th {\n",
       "        text-align: right;\n",
       "    }\n",
       "</style>\n",
       "<table border=\"1\" class=\"dataframe\">\n",
       "  <thead>\n",
       "    <tr style=\"text-align: right;\">\n",
       "      <th></th>\n",
       "      <th>time</th>\n",
       "      <th>step</th>\n",
       "      <th>action</th>\n",
       "      <th>amount</th>\n",
       "      <th>nameOrig</th>\n",
       "      <th>oldBalanceOrig</th>\n",
       "      <th>newBalanceOrig</th>\n",
       "      <th>nameDest</th>\n",
       "      <th>oldBalanceDest</th>\n",
       "      <th>newBalanceDest</th>\n",
       "      <th>isFraud</th>\n",
       "      <th>isFlaggedFraud</th>\n",
       "      <th>isUnauthorizedOverdraft</th>\n",
       "    </tr>\n",
       "    <tr>\n",
       "      <th>idx</th>\n",
       "      <th></th>\n",
       "      <th></th>\n",
       "      <th></th>\n",
       "      <th></th>\n",
       "      <th></th>\n",
       "      <th></th>\n",
       "      <th></th>\n",
       "      <th></th>\n",
       "      <th></th>\n",
       "      <th></th>\n",
       "      <th></th>\n",
       "      <th></th>\n",
       "      <th></th>\n",
       "    </tr>\n",
       "  </thead>\n",
       "  <tbody>\n",
       "    <tr>\n",
       "      <th>0</th>\n",
       "      <td>0</td>\n",
       "      <td>1</td>\n",
       "      <td>CASH_IN</td>\n",
       "      <td>229382.36</td>\n",
       "      <td>C3568019779</td>\n",
       "      <td>67.45</td>\n",
       "      <td>229449.80</td>\n",
       "      <td>M1836583048</td>\n",
       "      <td>0.0</td>\n",
       "      <td>0.0</td>\n",
       "      <td>0</td>\n",
       "      <td>0</td>\n",
       "      <td>0</td>\n",
       "    </tr>\n",
       "    <tr>\n",
       "      <th>1</th>\n",
       "      <td>1</td>\n",
       "      <td>1</td>\n",
       "      <td>CASH_IN</td>\n",
       "      <td>97393.77</td>\n",
       "      <td>C3961168589</td>\n",
       "      <td>49.69</td>\n",
       "      <td>97443.47</td>\n",
       "      <td>M4632515968</td>\n",
       "      <td>0.0</td>\n",
       "      <td>0.0</td>\n",
       "      <td>0</td>\n",
       "      <td>0</td>\n",
       "      <td>0</td>\n",
       "    </tr>\n",
       "    <tr>\n",
       "      <th>2</th>\n",
       "      <td>2</td>\n",
       "      <td>1</td>\n",
       "      <td>CASH_IN</td>\n",
       "      <td>232396.73</td>\n",
       "      <td>C8794318614</td>\n",
       "      <td>29.79</td>\n",
       "      <td>232426.53</td>\n",
       "      <td>M7113244499</td>\n",
       "      <td>0.0</td>\n",
       "      <td>0.0</td>\n",
       "      <td>0</td>\n",
       "      <td>0</td>\n",
       "      <td>0</td>\n",
       "    </tr>\n",
       "    <tr>\n",
       "      <th>3</th>\n",
       "      <td>3</td>\n",
       "      <td>1</td>\n",
       "      <td>CASH_IN</td>\n",
       "      <td>155631.49</td>\n",
       "      <td>C8239723447</td>\n",
       "      <td>23748.03</td>\n",
       "      <td>179379.52</td>\n",
       "      <td>M3688842852</td>\n",
       "      <td>0.0</td>\n",
       "      <td>0.0</td>\n",
       "      <td>0</td>\n",
       "      <td>0</td>\n",
       "      <td>0</td>\n",
       "    </tr>\n",
       "    <tr>\n",
       "      <th>4</th>\n",
       "      <td>4</td>\n",
       "      <td>1</td>\n",
       "      <td>CASH_IN</td>\n",
       "      <td>122791.96</td>\n",
       "      <td>C8050477779</td>\n",
       "      <td>29.66</td>\n",
       "      <td>122821.61</td>\n",
       "      <td>M4934014946</td>\n",
       "      <td>0.0</td>\n",
       "      <td>0.0</td>\n",
       "      <td>0</td>\n",
       "      <td>0</td>\n",
       "      <td>0</td>\n",
       "    </tr>\n",
       "  </tbody>\n",
       "</table>\n",
       "</div>"
      ],
      "text/plain": [
       "     time  step   action     amount     nameOrig  oldBalanceOrig  \\\n",
       "idx                                                                \n",
       "0       0     1  CASH_IN  229382.36  C3568019779           67.45   \n",
       "1       1     1  CASH_IN   97393.77  C3961168589           49.69   \n",
       "2       2     1  CASH_IN  232396.73  C8794318614           29.79   \n",
       "3       3     1  CASH_IN  155631.49  C8239723447        23748.03   \n",
       "4       4     1  CASH_IN  122791.96  C8050477779           29.66   \n",
       "\n",
       "     newBalanceOrig     nameDest  oldBalanceDest  newBalanceDest  isFraud  \\\n",
       "idx                                                                         \n",
       "0         229449.80  M1836583048             0.0             0.0        0   \n",
       "1          97443.47  M4632515968             0.0             0.0        0   \n",
       "2         232426.53  M7113244499             0.0             0.0        0   \n",
       "3         179379.52  M3688842852             0.0             0.0        0   \n",
       "4         122821.61  M4934014946             0.0             0.0        0   \n",
       "\n",
       "     isFlaggedFraud  isUnauthorizedOverdraft  \n",
       "idx                                           \n",
       "0                 0                        0  \n",
       "1                 0                        0  \n",
       "2                 0                        0  \n",
       "3                 0                        0  \n",
       "4                 0                        0  "
      ]
     },
     "execution_count": 47,
     "metadata": {},
     "output_type": "execute_result"
    }
   ],
   "source": [
    "# Importing YData's packages\n",
    "from ydata.platform.datasources import DataSources\n",
    "from ydata.metadata import Metadata\n",
    "from ydata.dataset import Dataset\n",
    "\n",
    "# Creating a Dataset from the Data Source\n",
    "datasource = DataSources.get(uid='1cb44d2e-6fd8-4f80-8411-cc34db893f88', namespace='47141dbf-73cf-45ed-9c4f-3ba32e5d1663')\n",
    "\n",
    "dataset = datasource.read()\n",
    "\n",
    "# Quickly previewing the Dataset\n",
    "dataset.head()"
   ]
  },
  {
   "cell_type": "code",
   "execution_count": 48,
   "id": "b045a5ed-41d3-4f84-adf9-f6058bc9f8c4",
   "metadata": {},
   "outputs": [],
   "source": [
    "dataset = dataset.to_pandas()\n",
    "dataset = dataset[:100000]\n",
    "dataset = Dataset(dataset)"
   ]
  },
  {
   "cell_type": "code",
   "execution_count": 49,
   "id": "090e745c-e241-4ae4-9d77-149a6e6b8c5f",
   "metadata": {},
   "outputs": [
    {
     "data": {
      "text/plain": [
       "(100000, 13)"
      ]
     },
     "execution_count": 49,
     "metadata": {},
     "output_type": "execute_result"
    }
   ],
   "source": [
    "dataset.shape(lazy_eval=False)"
   ]
  },
  {
   "cell_type": "code",
   "execution_count": 50,
   "id": "fe1f1c0c-1ea5-4757-9e94-4c41ced1ae3f",
   "metadata": {},
   "outputs": [
    {
     "data": {
      "text/plain": [
       "{0: 98149, 1: 1851}"
      ]
     },
     "execution_count": 50,
     "metadata": {},
     "output_type": "execute_result"
    }
   ],
   "source": [
    "dataset.value_counts(col='isUnauthorizedOverdraft')"
   ]
  },
  {
   "cell_type": "code",
   "execution_count": 51,
   "id": "906fed08-6433-4357-8a4d-ac01667347c3",
   "metadata": {},
   "outputs": [
    {
     "data": {
      "text/plain": [
       "{0: 99982, 1: 18}"
      ]
     },
     "execution_count": 51,
     "metadata": {},
     "output_type": "execute_result"
    }
   ],
   "source": [
    "dataset.value_counts(col='isFraud')"
   ]
  },
  {
   "cell_type": "code",
   "execution_count": 52,
   "id": "d29cf127-2337-4bb8-92a2-6a4f130e7415",
   "metadata": {},
   "outputs": [
    {
     "data": {
      "text/plain": [
       "{0: 100000}"
      ]
     },
     "execution_count": 52,
     "metadata": {},
     "output_type": "execute_result"
    }
   ],
   "source": [
    "dataset.value_counts(col='isFlaggedFraud')"
   ]
  },
  {
   "cell_type": "code",
   "execution_count": 53,
   "id": "5f2cde16-5f35-490e-adb9-30cc19bb483c",
   "metadata": {},
   "outputs": [
    {
     "data": {
      "text/plain": [
       "5"
      ]
     },
     "execution_count": 53,
     "metadata": {},
     "output_type": "execute_result"
    }
   ],
   "source": [
    "dataset.uniques('action')"
   ]
  },
  {
   "cell_type": "code",
   "execution_count": 54,
   "id": "e1ac50c4-6448-4956-a730-4003db1938c6",
   "metadata": {},
   "outputs": [
    {
     "ename": "AttributeError",
     "evalue": "'dict' object has no attribute 'compute'",
     "output_type": "error",
     "traceback": [
      "\u001b[0;31m---------------------------------------------------------------------------\u001b[0m",
      "\u001b[0;31mAttributeError\u001b[0m                            Traceback (most recent call last)",
      "Input \u001b[0;32mIn [54]\u001b[0m, in \u001b[0;36m<cell line: 1>\u001b[0;34m()\u001b[0m\n\u001b[0;32m----> 1\u001b[0m \u001b[43mdataset\u001b[49m\u001b[38;5;241;43m.\u001b[39;49m\u001b[43mvalue_counts\u001b[49m\u001b[43m(\u001b[49m\u001b[43mcol\u001b[49m\u001b[38;5;241;43m=\u001b[39;49m\u001b[38;5;124;43m'\u001b[39;49m\u001b[38;5;124;43misFlaggedFraud\u001b[39;49m\u001b[38;5;124;43m'\u001b[39;49m\u001b[43m)\u001b[49m\n",
      "File \u001b[0;32m/opt/conda/lib/python3.8/site-packages/typeguard/__init__.py:1032\u001b[0m, in \u001b[0;36mtypechecked.<locals>.wrapper\u001b[0;34m(*args, **kwargs)\u001b[0m\n\u001b[1;32m   1030\u001b[0m memo \u001b[38;5;241m=\u001b[39m _CallMemo(python_func, _localns, args\u001b[38;5;241m=\u001b[39margs, kwargs\u001b[38;5;241m=\u001b[39mkwargs)\n\u001b[1;32m   1031\u001b[0m check_argument_types(memo)\n\u001b[0;32m-> 1032\u001b[0m retval \u001b[38;5;241m=\u001b[39m \u001b[43mfunc\u001b[49m\u001b[43m(\u001b[49m\u001b[38;5;241;43m*\u001b[39;49m\u001b[43margs\u001b[49m\u001b[43m,\u001b[49m\u001b[43m \u001b[49m\u001b[38;5;241;43m*\u001b[39;49m\u001b[38;5;241;43m*\u001b[39;49m\u001b[43mkwargs\u001b[49m\u001b[43m)\u001b[49m\n\u001b[1;32m   1033\u001b[0m \u001b[38;5;28;01mtry\u001b[39;00m:\n\u001b[1;32m   1034\u001b[0m     check_return_type(retval, memo)\n",
      "File \u001b[0;32m/opt/conda/lib/python3.8/site-packages/ydata/dataset/dataset.py:330\u001b[0m, in \u001b[0;36mDataset.value_counts\u001b[0;34m(self, col, compute)\u001b[0m\n\u001b[1;32m    327\u001b[0m     value_counts \u001b[38;5;241m=\u001b[39m \u001b[38;5;28mself\u001b[39m\u001b[38;5;241m.\u001b[39m_value_counts[col]\n\u001b[1;32m    329\u001b[0m \u001b[38;5;28;01mif\u001b[39;00m compute:\n\u001b[0;32m--> 330\u001b[0m     value_counts \u001b[38;5;241m=\u001b[39m \u001b[43mvalue_counts\u001b[49m\u001b[38;5;241;43m.\u001b[39;49m\u001b[43mcompute\u001b[49m()\u001b[38;5;241m.\u001b[39mto_dict()\n\u001b[1;32m    331\u001b[0m     \u001b[38;5;28mself\u001b[39m\u001b[38;5;241m.\u001b[39m_value_counts[col] \u001b[38;5;241m=\u001b[39m value_counts\n\u001b[1;32m    333\u001b[0m \u001b[38;5;28;01mreturn\u001b[39;00m value_counts\n",
      "\u001b[0;31mAttributeError\u001b[0m: 'dict' object has no attribute 'compute'"
     ]
    }
   ],
   "source": [
    "dataset.value_counts(col='isFlaggedFraud')"
   ]
  },
  {
   "cell_type": "markdown",
   "id": "954f2963-bea3-4f16-896d-9c3a70663b4d",
   "metadata": {},
   "source": [
    "From this quick peek at the dataset, we can identify several things:\n",
    "    \n",
    "- about 3.4 million transactions\n",
    "- `time` is our sequential indicator (`step` represents an hour of transactions, `time` is a linear indicator of the transaction order)\n",
    "- existing features: \n",
    "    - features describing the financial operation and its flow (`type`, `amount`, `nameOrig` and `nameDest`)\n",
    "    - features keeping track of the balance of each financial entity (`oldbalanceDest`, `newbalanceDest`, `oldbalanceOrg`, `newbalanceOrig`) \n",
    "    - features related with fraud (`isFlaggedFraud`, automatically detected potential frauds and `isFraud`, the real assessment). \n",
    "- 5 types of financial transactions: `CASH_IN`, `CASH_OUT`, `PAYMENT`, `TRANSFER`, `DEBIT` (ordered by decreasing relative frequency)\n",
    "- the existance of `isUnauthorizedOverdraft` events due to lack of funds (~1.67% of all transactions)\n",
    "- the existence of fraudulent events in `isFraud`, with the dataset revealing a huge imbalance: only ~0.04% of all transactions were fraudulent\n",
    "  - the `isFlaggedFraud` column is the result of a naive rule automatically flaggging transfers above 200k. This dataset in particular contains no such events. "
   ]
  },
  {
   "cell_type": "markdown",
   "id": "464537a1-2c5e-4b8b-9cc8-1750766b7c10",
   "metadata": {},
   "source": [
    "### Evaluating data quality"
   ]
  },
  {
   "cell_type": "markdown",
   "id": "b20f5a42-467f-47b7-9624-353d7ef8e3b6",
   "metadata": {},
   "source": [
    "The automated profiling available on the platform heavily complements these insights above with univariante and multivariate profiling plus automatic detection of potential data quality issues. To access these data quality warnigs, useful to identify potential issues which must be solved prior to data synthesis, a `Metadata` object, holding information about the dataset, must be created."
   ]
  },
  {
   "cell_type": "code",
   "execution_count": 55,
   "id": "7af42d49-0cf8-4a0f-8fd6-518e3cf2b74b",
   "metadata": {},
   "outputs": [
    {
     "name": "stdout",
     "output_type": "stream",
     "text": [
      "\u001b[1mMetadata Summary \n",
      " \n",
      "\u001b[0m\u001b[1mDataset type: \u001b[0mTABULAR\n",
      "\u001b[1mDataset attributes: \u001b[0m\n",
      "\u001b[1mNumber of columns: \u001b[0m13\n",
      "\u001b[1m% of duplicate rows: \u001b[0m0\n",
      "\u001b[1mTarget column: \u001b[0m\n",
      "\n",
      "\u001b[1mColumn detail: \u001b[0m\n",
      "                     Column    Data type Variable type\n",
      "0                      time    numerical           int\n",
      "1                      step  categorical           int\n",
      "2                    action  categorical        string\n",
      "3                    amount    numerical         float\n",
      "4                  nameOrig  categorical        string\n",
      "5            oldBalanceOrig    numerical         float\n",
      "6            newBalanceOrig    numerical         float\n",
      "7                  nameDest  categorical        string\n",
      "8            oldBalanceDest  categorical         float\n",
      "9            newBalanceDest  categorical         float\n",
      "10                  isFraud  categorical           int\n",
      "11           isFlaggedFraud  categorical           int\n",
      "12  isUnauthorizedOverdraft  categorical           int\n",
      "\n",
      "\u001b[1mWarnings: \u001b[0m\n",
      "                   Warning                                               Columns\n",
      "0     WarningType.SKEWNESS              [amount, oldBalanceOrig, newBalanceOrig]\n",
      "1  WarningType.CARDINALITY  [nameOrig, nameDest, oldBalanceDest, newBalanceDest]\n",
      "\n"
     ]
    }
   ],
   "source": [
    "# Creating a Metadata (where warnings can be reviewed) from the Dataset\n",
    "metadata = Metadata(dataset)\n",
    "print(metadata)"
   ]
  },
  {
   "cell_type": "markdown",
   "id": "d6f5de3e-d121-4bde-9658-0fa91508c7f3",
   "metadata": {},
   "source": [
    "This gives us additional information about the dataset: balances and amounts have highly skewed distributions, which suggests different transactions and client profiles. We also seem to have a large number of entities represented in this dataset, judging by the high cardinality warnings in our origin and destination entities.\n",
    "\n",
    "On the other hand, we see no issues with high missingness of values or duplicates. For now, we will drop the `step` column, as we have seen it encodes similar information as the `time` and explictly selec"
   ]
  },
  {
   "cell_type": "code",
   "execution_count": 56,
   "id": "36d185a6-e229-4de1-ad1f-9a10bc4d1c37",
   "metadata": {},
   "outputs": [],
   "source": [
    "dataset.drop_columns(['step', 'isFlaggedFraud'], inplace=True)"
   ]
  },
  {
   "cell_type": "code",
   "execution_count": 57,
   "id": "12e677b6-9cd9-407c-80e1-72dd19ce95b2",
   "metadata": {},
   "outputs": [
    {
     "data": {
      "text/plain": [
       "['time',\n",
       " 'action',\n",
       " 'amount',\n",
       " 'nameOrig',\n",
       " 'oldBalanceOrig',\n",
       " 'newBalanceOrig',\n",
       " 'nameDest',\n",
       " 'oldBalanceDest',\n",
       " 'newBalanceDest',\n",
       " 'isFraud',\n",
       " 'isUnauthorizedOverdraft']"
      ]
     },
     "execution_count": 57,
     "metadata": {},
     "output_type": "execute_result"
    }
   ],
   "source": [
    "dataset.columns"
   ]
  },
  {
   "cell_type": "markdown",
   "id": "1e86e092-3436-4242-9dd8-cf9c125e6b81",
   "metadata": {},
   "source": [
    "### Validation of business rules "
   ]
  },
  {
   "cell_type": "markdown",
   "id": "9a1376cf-1945-4f46-aa2a-12142550513d",
   "metadata": {},
   "source": [
    "A dataset not abiding by the expected business rules may silently go unnoticed through all the phases of a project and fail to deliver any business value when finally live. As such, it's important to validate these kind of constraints and business logic. \n",
    "\n",
    "YData's `ConstraintEngine` can be used for validation of several type of arbitrary row and column-wise constraints (per-entity, if required). "
   ]
  },
  {
   "cell_type": "markdown",
   "id": "7dbd04e7-ba21-42d6-9302-1ebb47e2301a",
   "metadata": {},
   "source": [
    "#### Which business rules and constraints does this dataset have?\n",
    "\n",
    "Stemming from its transactional-financial nature and given the [extra context available on Kaggle](https://www.kaggle.com/datasets/ealaxi/paysim1) and in the original paper, some implicit and explicit business rules can be derived for this dataset:\n",
    "    \n",
    "- There are 3 different types of entities: \n",
    "    - _Banks_, which are always destination entities and whose balance is always 0\n",
    "    - _Customers_, which can be either origin or destination entities\n",
    "    - _Merchants_, which are always destination entities\n",
    "- Rejected overdraft operations (`isUnauthorizedOverdraft==1`), which can happen for all transaction types apart from `CASH_IN`, do not go through - the balances of both the origin and destination entity as kept. \n",
    "- Fraudulent events are an _a posteriori_ label, so all transactions marked as fraudulent (`isFraud == 1`) go through normally. \n",
    "- The `amount` column should only assume positive values (as the signal of the transaction depends on the `action`).\n",
    "- For every transaction and throughout time, the state of each entity (its balance) should be coherent with its interaction with other entities. This depends on the type of transaction: \n",
    "    - `CASH_IN`: always from _Customer_ to _Merchant_, with the origin balance increasing and the destination balance staying the same. \n",
    "    - `CASH_OUT`: always from _Customer_ to _Merchant_, with the origin balance decreasing and the destination balance staying the same. \n",
    "    - `PAYMENT`: always from _Customer_ to _Merchant_, with the origin balance decreasing and the destination balance increasing.\n",
    "    - `TRANSFER`: always from _Customer_ to _Customer_, with the origin balance decreasing and the destination balance increasing. \n",
    "    - `DEBIT`: always from _Customer_ to _Bank_, with the origin balance decreasing and the destination balance staying the same (0, as it is a _Bank_)\n",
    "    \n",
    "Additionally, it's possible that the starting balances of some entities (_Customers_ or _Merchants_) are negative. YData's constraints engine allows us to express all this. "
   ]
  },
  {
   "cell_type": "markdown",
   "id": "564aa2dc-c36a-438f-865c-141e4b2e2d61",
   "metadata": {},
   "source": [
    "**⚠️ TODO**: Check if we want to validate all constraints. Which ones should use the `entity` argument? "
   ]
  },
  {
   "cell_type": "code",
   "execution_count": 28,
   "id": "05be73b2-fc32-4466-aa16-5159ece8fd65",
   "metadata": {},
   "outputs": [],
   "source": [
    "from ydata.constraints.engine import ConstraintEngine\n",
    "from ydata.constraints.constraint import GreaterThan, Positive, CustomConstraint\n",
    "\n",
    "# Create the custom constrains for the dataset\n",
    "def validate_origin_entities(df):\n",
    "    pass\n",
    "\n",
    "def validate_destination_entities(df):\n",
    "    pass\n",
    "\n",
    "def validate_overdraft_behaviour(df): \n",
    "    pass\n",
    "\n",
    "def validate_positive_amount(df):\n",
    "    pass # not needed\n",
    "\n",
    "def validate_cash_in_interaction(df):\n",
    "    pass\n",
    "\n",
    "def validate_cash_out_interaction(df):\n",
    "    pass\n",
    "\n",
    "def validate_payment_interaction(df):\n",
    "    pass\n",
    "\n",
    "def validate_transfer_interaction(df):\n",
    "    pass\n",
    "\n",
    "def validate_debit_interaction(df):\n",
    "    pass\n",
    "\n",
    "def validate_entity_balances(df):\n",
    "    pass\n",
    "\n",
    "# Validate coherence in balance of the origin entity during the transaction \n",
    "def check_originBalance(df):\n",
    "    # How can we add this type of logic to deal with the associated signs? Can we maybe do an apply instead prior the validations?\n",
    "    # balance(t) is in newBalanceOrig; balance(t-1) is in oldBalanceOrig\n",
    "    \n",
    "    action_mapping = {'DEBIT': -1, 'TRANSFER': -1, 'CASH_IN': 1, 'CASH_OUT': -1, 'PAYMENT': -1}\n",
    "    return df['newBalanceOrig'] == df['oldBalanceOrig'] + (df['amount']*df['action'].map(action_mapping))*(1-df['isUnauthorizedOverdraft'])\n",
    "\n",
    "# Validate coherence in balance of the destination entity during the transaction\n",
    "def check_destBalance(df):\n",
    "    \n",
    "    # How can we add this type of logic to deal with the associated signs? Can we maybe do an apply instead prior the validations?\n",
    "    # balance(t) is in newBalanceOrig; balance(t-1) is in oldBalanceOrig\n",
    "    \n",
    "    # For the receiving entity, the transaction signs are inverted\n",
    "    action_mapping = {'DEBIT': 1, 'TRANSFER': 1, 'CASH_IN': -1, 'CASH_OUT': 1, 'PAYMENT': 1} \n",
    "    return df['newBalanceDest'] == df['oldBalanceDest'] + (df['amount']*df['action'].map(action_mapping))*(1-df['isUnauthorizedOverdraft'])\n",
    "\n",
    "\n",
    "# Some other out-of-the-box constrains are also available like GreaterThan, \n",
    "# which checks whether a colum(n) is(are) greater than a certain provided value(s)\n",
    "\n",
    "c1 = Positive(columns=['amount'])\n",
    "c2 = CustomConstraint(name=\"Balance Check Origin Entity | axis=1\", \n",
    "                       check=check_originBalance,\n",
    "                       available_columns=['nameOrig', 'oldBalanceOrig', 'newBalanceOrig', 'amount', 'action', 'isUnauthorizedOverdraft'],\n",
    "                       #entity='nameOrig', \n",
    "                       axis=0)\n",
    "\n",
    "c3 = CustomConstraint(name=\"Balance Check Destination Entity | axis=1\", \n",
    "                       check=check_destBalance,\n",
    "                       available_columns=['nameDest', 'oldBalanceDest', 'newBalanceDest', 'amount', 'action', 'isUnauthorizedOverdraft'],\n",
    "                       #entity='nameDest', \n",
    "                       axis=0)\n",
    "\n",
    "\n",
    "engine = ConstraintEngine()\n",
    "engine.add_constraints([c1, c2, c3])"
   ]
  },
  {
   "cell_type": "markdown",
   "id": "44602165-60d2-4831-a118-f4a6e122acba",
   "metadata": {},
   "source": [
    "#### Running the validation "
   ]
  },
  {
   "cell_type": "code",
   "execution_count": null,
   "id": "70498789-4019-4d3f-81e4-a649b6ac8982",
   "metadata": {},
   "outputs": [],
   "source": [
    "# Getting the summary view of the constraints engine\n",
    "engine.validate(dataset)\n",
    "engine.summary()"
   ]
  },
  {
   "cell_type": "markdown",
   "id": "73f50074-761f-4195-8cd6-655b60f2959d",
   "metadata": {},
   "source": [
    "**⚠️ TODO**: Write the conclusions of the constraints validation (after results)"
   ]
  },
  {
   "cell_type": "markdown",
   "id": "a87cb414-a0b6-40c7-be05-7bc62f21e3db",
   "metadata": {},
   "source": [
    "As we can see, the PaySim dataset includes massive inconsistences when keeping track of the balances of each entity throughout the transactions.  The evolution of balances throughout time. This is our actionability. Potential impact on data synthesis. "
   ]
  },
  {
   "cell_type": "markdown",
   "id": "f6466c26-6c5c-49c8-9a81-db6683d6a265",
   "metadata": {},
   "source": [
    "## Creating a synthetic replica of the PaySim dataset"
   ]
  },
  {
   "cell_type": "markdown",
   "id": "e3862ff9-c8b9-4a3c-81df-64048cbdfcf8",
   "metadata": {},
   "source": [
    "By now, it is clear that for each transaction, there is a lot of underlying logic governing the evolution of the balances and the interactions between entities. This needs to be taken into account while preparing a synthesis process. \n",
    "\n",
    "If we synthesize directly both the transaction amount and the balances, we are at risk of losing the coherence in the entity states across time, as we are not putting strict guarantees in place that their balances are correctly updated. \n",
    "\n",
    "As such, we can opt to **only synthesize the amounts and types of operations - guaranteeing those distributions mimick the original dataset - and manually reconstruct the balances after synthesization based on the business logic we described above**. Overdrafts also have a clear definition (when the amount surpasses the available balance), so we don't need to synthesize them - we can just detect and flag them during post-processing. "
   ]
  },
  {
   "cell_type": "markdown",
   "id": "fe8c5093-fd2c-46db-8b44-b6235552a30b",
   "metadata": {},
   "source": [
    "Based on our considerations above, we select the relevant variables for synthesis, by filtering out the balances and the rejected overdraft column. We **only synthesize the time, the type and amount of the transaction, the origin and destination entities and whether or not the transaction is fraudulent**. "
   ]
  },
  {
   "cell_type": "code",
   "execution_count": 58,
   "id": "4a6d7bc8-1716-42dc-af33-83963884cad0",
   "metadata": {},
   "outputs": [],
   "source": [
    "#Selecting the columns to be synthesized\n",
    "\n",
    "sel_dataset = dataset[['time',\n",
    "                     'action',\n",
    "                     'amount',\n",
    "                     'nameOrig',\n",
    "                     'nameDest',\n",
    "                     'isFraud']]"
   ]
  },
  {
   "cell_type": "markdown",
   "id": "611c41a1-5730-419b-bc09-099b8a32dad8",
   "metadata": {},
   "source": [
    " A `Metadata` object is where we configure all the settings for the synthetization. Let's create one to feed to our Synthesizers.\n",
    " \n",
    "For a multi-entity time series synthesizer, we need to indicate which columns define the sequential ordering and which specify the entities, so that our synthesized dataset presents per-entity sequentiality and coherence. "
   ]
  },
  {
   "cell_type": "code",
   "execution_count": 59,
   "id": "48938bc8-7621-4175-bc27-91841f97d7ea",
   "metadata": {},
   "outputs": [],
   "source": [
    "from ydata.utils.data_types import DataType, VariableType\n",
    "from ydata.dataset.dataset_type import DatasetType\n",
    "from ydata.synthesizers.timeseries.model import TimeSeriesSynthesizer\n",
    "\n",
    "# Creating the Metadata object for the synthesis\n",
    "\n",
    "dataset_attrs = {\n",
    "     \"sortbykey\": \"time\",\n",
    "     \"entity_id_cols\": [\"nameOrig\", \"nameDest\"]\n",
    "}\n",
    "\n",
    "m = Metadata(sel_dataset,\n",
    "             dataset_attrs,\n",
    "             dataset_type=DatasetType.TIMESERIES)"
   ]
  },
  {
   "cell_type": "markdown",
   "id": "b2134c21-3b24-4e67-918d-938ac0d134df",
   "metadata": {},
   "source": [
    "YData's `TimeSeriesSynthesizer` abstracts a lot of the complexity related with sequential data synthesis, by automatically selecting the best from a library of state-of-the-art models and orchestrating all the training. All via a simple interface. Training and sampling a Synthesizer takes, literally, 3 lines of code. "
   ]
  },
  {
   "cell_type": "code",
   "execution_count": 60,
   "id": "140d317e-cfb8-45fa-82fc-5f7fd7c84d1d",
   "metadata": {},
   "outputs": [
    {
     "name": "stdout",
     "output_type": "stream",
     "text": [
      "INFO: 2022-07-13 14:48:06,131 [SYNTHESIZER] - Initializing Time Series SYNTHESIZER.\n",
      "INFO: 2022-07-13 14:48:06,132 [SYNTHESIZER] - Number columns considered for synth: 6\n",
      "INFO: 2022-07-13 14:48:06,933 [SYNTHESIZER] - Starting the synthetic data modeling process over 4x1 blocks.\n",
      "INFO: 2022-07-13 14:48:06,934 [SYNTHESIZER] - Generating pipeline for segment (-0.001, 24999.75]\n",
      "INFO: 2022-07-13 14:48:06,940 [SYNTHESIZER] - Preprocess segment\n",
      "INFO: 2022-07-13 14:48:12,592 [SYNTHESIZER] - Synthesizer init.\n",
      "INFO: 2022-07-13 14:48:12,593 [SYNTHESIZER] - Processing the data prior fitting the synthesizer.\n",
      "INFO: 2022-07-13 14:48:13,268 [SYNTHESIZER] - Generating pipeline for segment (24999.75, 49999.5]\n",
      "INFO: 2022-07-13 14:48:13,271 [SYNTHESIZER] - Preprocess segment\n",
      "INFO: 2022-07-13 14:48:13,744 [SYNTHESIZER] - Synthesizer init.\n",
      "INFO: 2022-07-13 14:48:13,748 [SYNTHESIZER] - Processing the data prior fitting the synthesizer.\n",
      "INFO: 2022-07-13 14:48:19,740 [SYNTHESIZER] - Generating pipeline for segment (49999.5, 74999.25]\n",
      "INFO: 2022-07-13 14:48:19,743 [SYNTHESIZER] - Preprocess segment\n",
      "INFO: 2022-07-13 14:48:20,213 [SYNTHESIZER] - Synthesizer init.\n",
      "INFO: 2022-07-13 14:48:20,214 [SYNTHESIZER] - Processing the data prior fitting the synthesizer.\n",
      "INFO: 2022-07-13 14:48:20,905 [SYNTHESIZER] - Generating pipeline for segment (74999.25, 99999.0]\n",
      "INFO: 2022-07-13 14:48:20,908 [SYNTHESIZER] - Preprocess segment\n",
      "INFO: 2022-07-13 14:48:21,368 [SYNTHESIZER] - Synthesizer init.\n",
      "INFO: 2022-07-13 14:48:21,369 [SYNTHESIZER] - Processing the data prior fitting the synthesizer.\n"
     ]
    },
    {
     "data": {
      "text/plain": [
       "<ydata.synthesizers.timeseries.model.TimeSeriesSynthesizer at 0x7f890e370070>"
      ]
     },
     "execution_count": 60,
     "metadata": {},
     "output_type": "execute_result"
    }
   ],
   "source": [
    "synthesizer = TimeSeriesSynthesizer()\n",
    "synthesizer.fit(sel_dataset, metadata=m)"
   ]
  },
  {
   "cell_type": "markdown",
   "id": "5c580cee-f290-499e-aec9-b6e85d7bce4e",
   "metadata": {},
   "source": [
    "As we want to replicate this dataset, let's generate a sample as large as the original dataset. "
   ]
  },
  {
   "cell_type": "code",
   "execution_count": 61,
   "id": "a10761e4-578d-4dd3-b34e-c9a80674170a",
   "metadata": {},
   "outputs": [
    {
     "name": "stdout",
     "output_type": "stream",
     "text": [
      "INFO: 2022-07-13 14:48:22,072 [SYNTHESIZER] - Start generating model samples.\n",
      "INFO: 2022-07-13 14:48:22,073 [SYNTHESIZER] - Sample segment (-0.001, 24999.75]\n",
      "INFO: 2022-07-13 14:48:23,621 [SYNTHESIZER] - Sample segment (24999.75, 49999.5]\n",
      "INFO: 2022-07-13 14:48:23,944 [SYNTHESIZER] - Sample segment (49999.5, 74999.25]\n",
      "INFO: 2022-07-13 14:48:24,262 [SYNTHESIZER] - Sample segment (74999.25, 99999.0]\n"
     ]
    }
   ],
   "source": [
    "# Generating a sam synthetic data\n",
    "synth = synthesizer.sample(n_samples=len(dataset))"
   ]
  },
  {
   "cell_type": "code",
   "execution_count": 62,
   "id": "f42f23c9-683b-4994-9f84-8f141b7521d5",
   "metadata": {},
   "outputs": [
    {
     "data": {
      "text/html": [
       "<div>\n",
       "<style scoped>\n",
       "    .dataframe tbody tr th:only-of-type {\n",
       "        vertical-align: middle;\n",
       "    }\n",
       "\n",
       "    .dataframe tbody tr th {\n",
       "        vertical-align: top;\n",
       "    }\n",
       "\n",
       "    .dataframe thead th {\n",
       "        text-align: right;\n",
       "    }\n",
       "</style>\n",
       "<table border=\"1\" class=\"dataframe\">\n",
       "  <thead>\n",
       "    <tr style=\"text-align: right;\">\n",
       "      <th></th>\n",
       "      <th>time</th>\n",
       "      <th>action</th>\n",
       "      <th>amount</th>\n",
       "      <th>nameOrig</th>\n",
       "      <th>nameDest</th>\n",
       "      <th>isFraud</th>\n",
       "    </tr>\n",
       "    <tr>\n",
       "      <th>idx</th>\n",
       "      <th></th>\n",
       "      <th></th>\n",
       "      <th></th>\n",
       "      <th></th>\n",
       "      <th></th>\n",
       "      <th></th>\n",
       "    </tr>\n",
       "  </thead>\n",
       "  <tbody>\n",
       "    <tr>\n",
       "      <th>0</th>\n",
       "      <td>0</td>\n",
       "      <td>CASH_IN</td>\n",
       "      <td>229382.36</td>\n",
       "      <td>C6709699704</td>\n",
       "      <td>M1836583048</td>\n",
       "      <td>0</td>\n",
       "    </tr>\n",
       "    <tr>\n",
       "      <th>1</th>\n",
       "      <td>1</td>\n",
       "      <td>CASH_IN</td>\n",
       "      <td>97393.77</td>\n",
       "      <td>C4595602205</td>\n",
       "      <td>M4632515968</td>\n",
       "      <td>0</td>\n",
       "    </tr>\n",
       "    <tr>\n",
       "      <th>2</th>\n",
       "      <td>2</td>\n",
       "      <td>CASH_IN</td>\n",
       "      <td>238892.12</td>\n",
       "      <td>C8705583092</td>\n",
       "      <td>M7113244499</td>\n",
       "      <td>0</td>\n",
       "    </tr>\n",
       "    <tr>\n",
       "      <th>3</th>\n",
       "      <td>3</td>\n",
       "      <td>CASH_IN</td>\n",
       "      <td>155631.49</td>\n",
       "      <td>C5131537775</td>\n",
       "      <td>M3688842852</td>\n",
       "      <td>0</td>\n",
       "    </tr>\n",
       "    <tr>\n",
       "      <th>4</th>\n",
       "      <td>4</td>\n",
       "      <td>CASH_IN</td>\n",
       "      <td>118296.85</td>\n",
       "      <td>C9117970014</td>\n",
       "      <td>M4934014946</td>\n",
       "      <td>0</td>\n",
       "    </tr>\n",
       "    <tr>\n",
       "      <th>5</th>\n",
       "      <td>5</td>\n",
       "      <td>CASH_IN</td>\n",
       "      <td>232396.73</td>\n",
       "      <td>C2712390029</td>\n",
       "      <td>M0618525076</td>\n",
       "      <td>0</td>\n",
       "    </tr>\n",
       "    <tr>\n",
       "      <th>6</th>\n",
       "      <td>6</td>\n",
       "      <td>CASH_IN</td>\n",
       "      <td>319825.26</td>\n",
       "      <td>C6420297836</td>\n",
       "      <td>M8734902957</td>\n",
       "      <td>0</td>\n",
       "    </tr>\n",
       "    <tr>\n",
       "      <th>7</th>\n",
       "      <td>7</td>\n",
       "      <td>CASH_IN</td>\n",
       "      <td>325976.21</td>\n",
       "      <td>C6281481625</td>\n",
       "      <td>M9290819283</td>\n",
       "      <td>0</td>\n",
       "    </tr>\n",
       "    <tr>\n",
       "      <th>8</th>\n",
       "      <td>8</td>\n",
       "      <td>CASH_IN</td>\n",
       "      <td>291847.07</td>\n",
       "      <td>C9369908324</td>\n",
       "      <td>M0640225594</td>\n",
       "      <td>0</td>\n",
       "    </tr>\n",
       "    <tr>\n",
       "      <th>9</th>\n",
       "      <td>9</td>\n",
       "      <td>CASH_IN</td>\n",
       "      <td>69747.55</td>\n",
       "      <td>C3145052366</td>\n",
       "      <td>M5755289891</td>\n",
       "      <td>0</td>\n",
       "    </tr>\n",
       "  </tbody>\n",
       "</table>\n",
       "</div>"
      ],
      "text/plain": [
       "     time   action     amount     nameOrig     nameDest  isFraud\n",
       "idx                                                             \n",
       "0       0  CASH_IN  229382.36  C6709699704  M1836583048        0\n",
       "1       1  CASH_IN   97393.77  C4595602205  M4632515968        0\n",
       "2       2  CASH_IN  238892.12  C8705583092  M7113244499        0\n",
       "3       3  CASH_IN  155631.49  C5131537775  M3688842852        0\n",
       "4       4  CASH_IN  118296.85  C9117970014  M4934014946        0\n",
       "5       5  CASH_IN  232396.73  C2712390029  M0618525076        0\n",
       "6       6  CASH_IN  319825.26  C6420297836  M8734902957        0\n",
       "7       7  CASH_IN  325976.21  C6281481625  M9290819283        0\n",
       "8       8  CASH_IN  291847.07  C9369908324  M0640225594        0\n",
       "9       9  CASH_IN   69747.55  C3145052366  M5755289891        0"
      ]
     },
     "execution_count": 62,
     "metadata": {},
     "output_type": "execute_result"
    }
   ],
   "source": [
    "# The synthesized dataset\n",
    "synth.head(10)"
   ]
  },
  {
   "cell_type": "code",
   "execution_count": 66,
   "id": "bf5f1ab8-f808-4606-a520-286c10db68a5",
   "metadata": {},
   "outputs": [],
   "source": [
    "# Saving to .csv\n",
    "from ydata.connectors import LocalConnector\n",
    "from ydata.connectors.filetype import FileType\n",
    "\n",
    "conn = LocalConnector()\n",
    "conn.write_file(synth, 'data/new_synth_sample.csv', file_type=FileType.CSV)"
   ]
  },
  {
   "cell_type": "markdown",
   "id": "a40319e4-0057-44e9-bb8b-38b41a08e25f",
   "metadata": {},
   "source": [
    "### Calculating the constrained features - balances"
   ]
  },
  {
   "cell_type": "markdown",
   "id": "e8c8d4c7-aa6c-4e74-a511-ccb8a317d3d3",
   "metadata": {},
   "source": [
    "To get a full replica, we need to re-add the balances and overdraft flags following the business logic described above. It's a matter of keeping a global per-entity state of the balance and, for every transaction: \n",
    "- verifying whether it's an overdraft\n",
    "- update the old and new balances of the origin and destination entities according to the transaction type\n",
    "\n",
    "The function `calculate_balance_with_interactions` does just that. It contains a fundamental assumption: the starting balance of all entities is zero. For specific use cases, this assumption could be tweaked - as it will probably not hold true in most real life scenarios.\n",
    "\n",
    "The business logic expressed in this function could also be changed to, for instance, test new hypothesis while guaranteeing the distribution of transaction amounts and types is kept. "
   ]
  },
  {
   "cell_type": "code",
   "execution_count": 81,
   "id": "780bb56d-9ab9-4846-b7bf-976c9e144146",
   "metadata": {},
   "outputs": [],
   "source": [
    "#from utils import calculate_balance_with_interactions\n",
    "import pandas as pd\n",
    "%run utils.py\n",
    "\n",
    "pd_synth = synth.to_pandas()\n",
    "balances = calculate_balance_with_interactions(pd_synth)"
   ]
  },
  {
   "cell_type": "code",
   "execution_count": 82,
   "id": "8483993a-c826-4158-9ffb-bd18bfb356e1",
   "metadata": {},
   "outputs": [
    {
     "data": {
      "text/html": [
       "<div>\n",
       "<style scoped>\n",
       "    .dataframe tbody tr th:only-of-type {\n",
       "        vertical-align: middle;\n",
       "    }\n",
       "\n",
       "    .dataframe tbody tr th {\n",
       "        vertical-align: top;\n",
       "    }\n",
       "\n",
       "    .dataframe thead th {\n",
       "        text-align: right;\n",
       "    }\n",
       "</style>\n",
       "<table border=\"1\" class=\"dataframe\">\n",
       "  <thead>\n",
       "    <tr style=\"text-align: right;\">\n",
       "      <th></th>\n",
       "      <th>oldBalanceOrig</th>\n",
       "      <th>newBalanceOrig</th>\n",
       "      <th>oldBalanceDest</th>\n",
       "      <th>newBalanceDest</th>\n",
       "      <th>isUnauthorizedOverdraft</th>\n",
       "    </tr>\n",
       "  </thead>\n",
       "  <tbody>\n",
       "    <tr>\n",
       "      <th>0</th>\n",
       "      <td>0.0</td>\n",
       "      <td>229382.36</td>\n",
       "      <td>0.0</td>\n",
       "      <td>0.0</td>\n",
       "      <td>0</td>\n",
       "    </tr>\n",
       "    <tr>\n",
       "      <th>1</th>\n",
       "      <td>0.0</td>\n",
       "      <td>97393.77</td>\n",
       "      <td>0.0</td>\n",
       "      <td>0.0</td>\n",
       "      <td>0</td>\n",
       "    </tr>\n",
       "    <tr>\n",
       "      <th>2</th>\n",
       "      <td>0.0</td>\n",
       "      <td>238892.12</td>\n",
       "      <td>0.0</td>\n",
       "      <td>0.0</td>\n",
       "      <td>0</td>\n",
       "    </tr>\n",
       "    <tr>\n",
       "      <th>3</th>\n",
       "      <td>0.0</td>\n",
       "      <td>155631.49</td>\n",
       "      <td>0.0</td>\n",
       "      <td>0.0</td>\n",
       "      <td>0</td>\n",
       "    </tr>\n",
       "    <tr>\n",
       "      <th>4</th>\n",
       "      <td>0.0</td>\n",
       "      <td>118296.85</td>\n",
       "      <td>0.0</td>\n",
       "      <td>0.0</td>\n",
       "      <td>0</td>\n",
       "    </tr>\n",
       "  </tbody>\n",
       "</table>\n",
       "</div>"
      ],
      "text/plain": [
       "   oldBalanceOrig  newBalanceOrig  oldBalanceDest  newBalanceDest  \\\n",
       "0             0.0       229382.36             0.0             0.0   \n",
       "1             0.0        97393.77             0.0             0.0   \n",
       "2             0.0       238892.12             0.0             0.0   \n",
       "3             0.0       155631.49             0.0             0.0   \n",
       "4             0.0       118296.85             0.0             0.0   \n",
       "\n",
       "   isUnauthorizedOverdraft  \n",
       "0                        0  \n",
       "1                        0  \n",
       "2                        0  \n",
       "3                        0  \n",
       "4                        0  "
      ]
     },
     "execution_count": 82,
     "metadata": {},
     "output_type": "execute_result"
    }
   ],
   "source": [
    "balances.head()"
   ]
  },
  {
   "cell_type": "markdown",
   "id": "24e638f8-dc63-476b-81e9-fe83afbc5020",
   "metadata": {},
   "source": [
    "Let's join the two dataframes and have a **new dataset combining smart synthetic data with precise business logic for balance calculation**:"
   ]
  },
  {
   "cell_type": "code",
   "execution_count": 123,
   "id": "fbd43db7-e696-4271-a8e3-6366d3ff4d5a",
   "metadata": {},
   "outputs": [
    {
     "data": {
      "text/html": [
       "<div>\n",
       "<style scoped>\n",
       "    .dataframe tbody tr th:only-of-type {\n",
       "        vertical-align: middle;\n",
       "    }\n",
       "\n",
       "    .dataframe tbody tr th {\n",
       "        vertical-align: top;\n",
       "    }\n",
       "\n",
       "    .dataframe thead th {\n",
       "        text-align: right;\n",
       "    }\n",
       "</style>\n",
       "<table border=\"1\" class=\"dataframe\">\n",
       "  <thead>\n",
       "    <tr style=\"text-align: right;\">\n",
       "      <th></th>\n",
       "      <th>time</th>\n",
       "      <th>action</th>\n",
       "      <th>amount</th>\n",
       "      <th>nameOrig</th>\n",
       "      <th>nameDest</th>\n",
       "      <th>isFraud</th>\n",
       "      <th>oldBalanceOrig</th>\n",
       "      <th>newBalanceOrig</th>\n",
       "      <th>oldBalanceDest</th>\n",
       "      <th>newBalanceDest</th>\n",
       "      <th>isUnauthorizedOverdraft</th>\n",
       "    </tr>\n",
       "  </thead>\n",
       "  <tbody>\n",
       "    <tr>\n",
       "      <th>0</th>\n",
       "      <td>0</td>\n",
       "      <td>CASH_IN</td>\n",
       "      <td>229382.36</td>\n",
       "      <td>C6709699704</td>\n",
       "      <td>M1836583048</td>\n",
       "      <td>0</td>\n",
       "      <td>0.0</td>\n",
       "      <td>229382.36</td>\n",
       "      <td>0.0</td>\n",
       "      <td>0.0</td>\n",
       "      <td>0</td>\n",
       "    </tr>\n",
       "    <tr>\n",
       "      <th>1</th>\n",
       "      <td>1</td>\n",
       "      <td>CASH_IN</td>\n",
       "      <td>97393.77</td>\n",
       "      <td>C4595602205</td>\n",
       "      <td>M4632515968</td>\n",
       "      <td>0</td>\n",
       "      <td>0.0</td>\n",
       "      <td>97393.77</td>\n",
       "      <td>0.0</td>\n",
       "      <td>0.0</td>\n",
       "      <td>0</td>\n",
       "    </tr>\n",
       "    <tr>\n",
       "      <th>2</th>\n",
       "      <td>2</td>\n",
       "      <td>CASH_IN</td>\n",
       "      <td>238892.12</td>\n",
       "      <td>C8705583092</td>\n",
       "      <td>M7113244499</td>\n",
       "      <td>0</td>\n",
       "      <td>0.0</td>\n",
       "      <td>238892.12</td>\n",
       "      <td>0.0</td>\n",
       "      <td>0.0</td>\n",
       "      <td>0</td>\n",
       "    </tr>\n",
       "    <tr>\n",
       "      <th>3</th>\n",
       "      <td>3</td>\n",
       "      <td>CASH_IN</td>\n",
       "      <td>155631.49</td>\n",
       "      <td>C5131537775</td>\n",
       "      <td>M3688842852</td>\n",
       "      <td>0</td>\n",
       "      <td>0.0</td>\n",
       "      <td>155631.49</td>\n",
       "      <td>0.0</td>\n",
       "      <td>0.0</td>\n",
       "      <td>0</td>\n",
       "    </tr>\n",
       "    <tr>\n",
       "      <th>4</th>\n",
       "      <td>4</td>\n",
       "      <td>CASH_IN</td>\n",
       "      <td>118296.85</td>\n",
       "      <td>C9117970014</td>\n",
       "      <td>M4934014946</td>\n",
       "      <td>0</td>\n",
       "      <td>0.0</td>\n",
       "      <td>118296.85</td>\n",
       "      <td>0.0</td>\n",
       "      <td>0.0</td>\n",
       "      <td>0</td>\n",
       "    </tr>\n",
       "  </tbody>\n",
       "</table>\n",
       "</div>"
      ],
      "text/plain": [
       "   time   action     amount     nameOrig     nameDest  isFraud  \\\n",
       "0     0  CASH_IN  229382.36  C6709699704  M1836583048        0   \n",
       "1     1  CASH_IN   97393.77  C4595602205  M4632515968        0   \n",
       "2     2  CASH_IN  238892.12  C8705583092  M7113244499        0   \n",
       "3     3  CASH_IN  155631.49  C5131537775  M3688842852        0   \n",
       "4     4  CASH_IN  118296.85  C9117970014  M4934014946        0   \n",
       "\n",
       "   oldBalanceOrig  newBalanceOrig  oldBalanceDest  newBalanceDest  \\\n",
       "0             0.0       229382.36             0.0             0.0   \n",
       "1             0.0        97393.77             0.0             0.0   \n",
       "2             0.0       238892.12             0.0             0.0   \n",
       "3             0.0       155631.49             0.0             0.0   \n",
       "4             0.0       118296.85             0.0             0.0   \n",
       "\n",
       "   isUnauthorizedOverdraft  \n",
       "0                        0  \n",
       "1                        0  \n",
       "2                        0  \n",
       "3                        0  \n",
       "4                        0  "
      ]
     },
     "execution_count": 123,
     "metadata": {},
     "output_type": "execute_result"
    }
   ],
   "source": [
    "full_synth = pd.concat([pd_synth, balances], axis=1)\n",
    "full_synth.head()"
   ]
  },
  {
   "cell_type": "code",
   "execution_count": 124,
   "id": "77ed4d1c-c2fa-4a74-9b72-63128d89061c",
   "metadata": {},
   "outputs": [],
   "source": [
    "from ydata.connectors import LocalConnector\n",
    "from ydata.connectors.filetype import FileType\n",
    "\n",
    "conn = LocalConnector()\n",
    "conn.write_file(full_synth, 'data/new_synth_sample_with_balances.csv', file_type=FileType.CSV)"
   ]
  },
  {
   "cell_type": "markdown",
   "id": "5bd557ab-9766-48dd-90a9-e4a3af75cd6a",
   "metadata": {},
   "source": [
    "## Evaluating the quality of the synthetic dataset"
   ]
  },
  {
   "cell_type": "markdown",
   "id": "f01c2fa0-b14e-436a-953c-22409d325204",
   "metadata": {},
   "source": [
    "For the dataset to be useful in use cases such as data sharing (for testing), it needs to show the same statistical fidelity, coherence and abidance by business logic. Let's verify that. "
   ]
  },
  {
   "cell_type": "code",
   "execution_count": 221,
   "id": "5a939d2a-50fd-4bfe-9b04-1412899717ef",
   "metadata": {},
   "outputs": [],
   "source": [
    "import matplotlib.pyplot as plt\n",
    "import seaborn as sns\n",
    "sns.set(font_scale=1.5)\n",
    "sns.set_theme(style=\"whitegrid\")\n",
    "REAL_COLOR = '#e22211'\n",
    "SYNTH_COLOR = '#3a3830'"
   ]
  },
  {
   "cell_type": "markdown",
   "id": "a75f4a55-a899-4974-b773-cfdd2971aba7",
   "metadata": {},
   "source": [
    "**Shape and data types**"
   ]
  },
  {
   "cell_type": "markdown",
   "id": "daa9ce12-ad40-432c-aa16-22b18457d31e",
   "metadata": {},
   "source": [
    "**⚠️ TODO**: Should we use YData's dataset whenever possible? Requires a bit of back and forth, to be honest"
   ]
  },
  {
   "cell_type": "code",
   "execution_count": 137,
   "id": "70c2181e-43d0-48e9-982a-3ff62876e39f",
   "metadata": {},
   "outputs": [],
   "source": [
    "original = dataset.to_pandas()\n",
    "full_synth = full_synth[original.columns.tolist()] # re-ordering columns"
   ]
  },
  {
   "cell_type": "code",
   "execution_count": 136,
   "id": "9df0890b-33be-4aa3-a6d8-f8d907fb25d4",
   "metadata": {},
   "outputs": [
    {
     "name": "stdout",
     "output_type": "stream",
     "text": [
      "time                         int64\n",
      "action                      object\n",
      "amount                     float64\n",
      "nameOrig                    object\n",
      "oldBalanceOrig             float64\n",
      "newBalanceOrig             float64\n",
      "nameDest                    object\n",
      "oldBalanceDest             float64\n",
      "newBalanceDest             float64\n",
      "isFraud                      int64\n",
      "isUnauthorizedOverdraft      int64\n",
      "dtype: object \n",
      "\n",
      " time                         int64\n",
      "action                      string\n",
      "amount                     float64\n",
      "nameOrig                    string\n",
      "oldBalanceOrig             float64\n",
      "newBalanceOrig             float64\n",
      "nameDest                    string\n",
      "oldBalanceDest             float64\n",
      "newBalanceDest             float64\n",
      "isFraud                      int64\n",
      "isUnauthorizedOverdraft      int64\n",
      "dtype: object\n"
     ]
    }
   ],
   "source": [
    "print(original.dtypes, '\\n\\n', full_synth.dtypes)"
   ]
  },
  {
   "cell_type": "markdown",
   "id": "53d4447d-a74e-458c-9dda-e930b8bf8261",
   "metadata": {},
   "source": [
    "As expected, the shapes and data types of both datasets match. "
   ]
  },
  {
   "cell_type": "markdown",
   "id": "907b7f31-6cea-4f06-8de9-37fac059d91e",
   "metadata": {},
   "source": [
    "**Types of transactions**"
   ]
  },
  {
   "cell_type": "code",
   "execution_count": 265,
   "id": "29643e08-2eff-4fb6-a248-76ea04c23db2",
   "metadata": {
    "tags": []
   },
   "outputs": [],
   "source": [
    "original_ops = original.action.value_counts()\n",
    "synth_ops = full_synth.action.value_counts()\n",
    "\n",
    "ops_data = {\n",
    "    'Data': len(original_ops) * ['Original'] + len(original_ops) * ['Synthetic'],\n",
    "    'Transaction': original_ops.index.tolist() + synth_ops.index.tolist(),\n",
    "    'Count': list(original_ops.values) + list(synth_ops.values)\n",
    "}\n",
    "ops_df = pd.DataFrame(ops_data)"
   ]
  },
  {
   "cell_type": "code",
   "execution_count": 226,
   "id": "fda85adc-727f-4243-a6fd-e474a0094a34",
   "metadata": {
    "tags": []
   },
   "outputs": [
    {
     "data": {
      "image/png": "[encoded data removed]",
      "text/plain": [
       "<Figure size 792x576 with 1 Axes>"
      ]
     },
     "metadata": {},
     "output_type": "display_data"
    }
   ],
   "source": [
    "fig, ax = plt.subplots(figsize=[11, 8])\n",
    "sns.barplot(data=ops_df, \n",
    "            y='Transaction', \n",
    "            x='Count', \n",
    "            hue='Data', \n",
    "            orient='h',\n",
    "            ax=ax, \n",
    "            palette=[YDATA_COLOR_ALT, YDATA_COLOR], \n",
    "            alpha=1.0,\n",
    "            )\n",
    "ax.set_title(\"Transactions per type in real and synthetic datasets\")\n",
    "ax.set_xlabel(\"Number of transactions\")\n",
    "ax.set_ylabel(\"Type\")\n",
    "plt.legend(loc='lower right')\n",
    "plt.tight_layout()\n",
    "plt.show()"
   ]
  },
  {
   "cell_type": "markdown",
   "id": "41c63008-b60e-49ea-a89c-4c709cf1f734",
   "metadata": {},
   "source": [
    "**Number of unique origin entities (customers)**"
   ]
  },
  {
   "cell_type": "markdown",
   "id": "190184e5-60b5-4890-994d-aa1b2b64da8b",
   "metadata": {},
   "source": [
    "As the only origin entity we have is customers, we can just compare the number of unique origin entities between the two datasets."
   ]
  },
  {
   "cell_type": "code",
   "execution_count": 230,
   "id": "2bd70b3b-800c-4fe2-ba01-83ed7096324c",
   "metadata": {},
   "outputs": [
    {
     "data": {
      "text/plain": [
       "16188"
      ]
     },
     "execution_count": 230,
     "metadata": {},
     "output_type": "execute_result"
    }
   ],
   "source": [
    "len(original.nameOrig.unique())"
   ]
  },
  {
   "cell_type": "code",
   "execution_count": 231,
   "id": "7aa0159f-2bee-4763-9bf4-598e30e777cf",
   "metadata": {},
   "outputs": [
    {
     "data": {
      "text/plain": [
       "14592"
      ]
     },
     "execution_count": 231,
     "metadata": {},
     "output_type": "execute_result"
    }
   ],
   "source": [
    "len(full_synth.nameOrig.unique())"
   ]
  },
  {
   "cell_type": "markdown",
   "id": "4db29e97-362a-4201-a752-fd0b82c11ef3",
   "metadata": {},
   "source": [
    "**Number of unique destination entities (customers, merchants, banks)**"
   ]
  },
  {
   "cell_type": "markdown",
   "id": "5f520832-b4d8-471c-9365-ba35009cd9b1",
   "metadata": {},
   "source": [
    "For destination entities (which can be _Customers_, _Merchants_ or _Banks_), we need to visualize:"
   ]
  },
  {
   "cell_type": "code",
   "execution_count": 244,
   "id": "68bad4d6-cad5-462c-b3a8-7cd704495c7b",
   "metadata": {},
   "outputs": [],
   "source": [
    "original_banks = len(original[original.nameDest.str[0] == 'B'].nameDest.unique())\n",
    "original_customers = len(original[original.nameDest.str[0] == 'C'].nameDest.unique())\n",
    "original_merchants = len(original[original.nameDest.str[0] == 'M'].nameDest.unique())\n",
    "synth_banks = len(full_synth[full_synth.nameDest.str[0] == 'B'].nameDest.unique())\n",
    "synth_customers = len(full_synth[full_synth.nameDest.str[0] == 'C'].nameDest.unique())\n",
    "synth_merchants = len(full_synth[full_synth.nameDest.str[0] == 'M'].nameDest.unique())\n",
    "\n",
    "dest_data = {\n",
    "    'Data': 3 * ['Original'] + 3 * ['Synthetic'] ,\n",
    "    'Entity': ['Banks', 'Customers', 'Merchants'] * 2,\n",
    "    'Count': [original_banks, original_customers, original_merchants, synth_banks, synth_customers, synth_merchants] \n",
    "}\n",
    "\n",
    "dest_df = pd.DataFrame(dest_data)"
   ]
  },
  {
   "cell_type": "code",
   "execution_count": 258,
   "id": "f0091951-aff6-40ee-9d25-37e4f00a50df",
   "metadata": {},
   "outputs": [
    {
     "data": {
      "image/png": "[encoded data removed]",
      "text/plain": [
       "<Figure size 792x576 with 1 Axes>"
      ]
     },
     "metadata": {},
     "output_type": "display_data"
    }
   ],
   "source": [
    "fig, ax = plt.subplots(figsize=[11, 8])\n",
    "sns.barplot(data=dest_df, \n",
    "            y='Entity', \n",
    "            x='Count', \n",
    "            hue='Data', \n",
    "            orient='h',\n",
    "            ax=ax, \n",
    "            palette=[YDATA_COLOR_ALT, YDATA_COLOR], \n",
    "            alpha=1.0,\n",
    "            )\n",
    "ax.set_title(\"Unique destination entities\")\n",
    "ax.set_xlabel(\"Type\")\n",
    "ax.set_ylabel(\"Number of entities\")\n",
    "#plt.legend(loc='lower right')\n",
    "plt.tight_layout()\n",
    "plt.show()"
   ]
  },
  {
   "cell_type": "markdown",
   "id": "beb103fd-fdd3-452b-9cd9-42d9ec5ab213",
   "metadata": {},
   "source": [
    "**⚠️ TODO: Review, does this make sense?**"
   ]
  },
  {
   "cell_type": "markdown",
   "id": "2336f877-f4ad-426b-b60d-ffbedb398d0a",
   "metadata": {},
   "source": [
    "**Fraudulent events**"
   ]
  },
  {
   "cell_type": "code",
   "execution_count": 270,
   "id": "6b9edbd3-2336-4cbb-9ce5-3b73ce425ddf",
   "metadata": {},
   "outputs": [],
   "source": [
    "original_fraud = original[original.isFraud == 1].action.value_counts()\n",
    "synth_fraud = full_synth[original.isFraud==1].action.value_counts()\n",
    "\n",
    "fraud_data = {\n",
    "    'Data': len(original_fraud) * ['Original'] + len(synth_fraud) * ['Synthetic'],\n",
    "    'Type': original_fraud.index.tolist() + synth_fraud.index.tolist(),\n",
    "    'Count': list(original_fraud.values) + list(synth_fraud.values)\n",
    "}\n",
    "fraud_df = pd.DataFrame(fraud_data)"
   ]
  },
  {
   "cell_type": "code",
   "execution_count": 274,
   "id": "d0351890-c0c2-4c04-b877-460f3a478f8b",
   "metadata": {},
   "outputs": [
    {
     "data": {
      "image/png": "[encoded data removed]",
      "text/plain": [
       "<Figure size 792x576 with 1 Axes>"
      ]
     },
     "metadata": {},
     "output_type": "display_data"
    }
   ],
   "source": [
    "fig, ax = plt.subplots(figsize=[11, 8])\n",
    "sns.barplot(data=fraud_df, \n",
    "            y='Type', \n",
    "            x='Count', \n",
    "            hue='Data', \n",
    "            orient='h',\n",
    "            ax=ax, \n",
    "            palette=[YDATA_COLOR_ALT, YDATA_COLOR], \n",
    "            alpha=1.0,\n",
    "            )\n",
    "ax.set_title(\"Number of fraudulent events per transaction type in real and synthetic dataset\")\n",
    "ax.set_xlabel(\"Number of events\")\n",
    "ax.set_ylabel(\"Transaction type\")\n",
    "plt.legend(loc='lower right')\n",
    "#plt.tight_layout()\n",
    "plt.show()"
   ]
  },
  {
   "cell_type": "markdown",
   "id": "f7298f01-c43a-4005-add4-bb4ec5875ebd",
   "metadata": {},
   "source": [
    "**Unauthorized overdraft**"
   ]
  },
  {
   "cell_type": "code",
   "execution_count": 275,
   "id": "1490c9ff-a60f-4760-8cec-6afb5fbe0e64",
   "metadata": {},
   "outputs": [],
   "source": [
    "original_over = original[original.isUnauthorizedOverdraft == 1].action.value_counts()\n",
    "synth_over = full_synth[original.isUnauthorizedOverdraft==1].action.value_counts()\n",
    "\n",
    "over_data = {\n",
    "    'Data': len(original_over) * ['Original'] + len(synth_over) * ['Synthetic'],\n",
    "    'Type': original_over.index.tolist() + synth_over.index.tolist(),\n",
    "    'Count': list(original_over.values) + list(synth_over.values)\n",
    "}\n",
    "over_df = pd.DataFrame(over_data)"
   ]
  },
  {
   "cell_type": "code",
   "execution_count": 277,
   "id": "b02e7654-34be-4dcf-98b6-d53263b62ec0",
   "metadata": {},
   "outputs": [
    {
     "data": {
      "image/png": "[encoded data removed]",
      "text/plain": [
       "<Figure size 792x576 with 1 Axes>"
      ]
     },
     "metadata": {},
     "output_type": "display_data"
    }
   ],
   "source": [
    "fig, ax = plt.subplots(figsize=[11, 8])\n",
    "sns.barplot(data=over_df, \n",
    "            y='Type', \n",
    "            x='Count', \n",
    "            hue='Data', \n",
    "            orient='h',\n",
    "            ax=ax, \n",
    "            palette=[YDATA_COLOR_ALT, YDATA_COLOR], \n",
    "            alpha=1.0,\n",
    "            )\n",
    "ax.set_title(\"Number of overdraft events per transaction type in real and synthetic dataset\")\n",
    "ax.set_xlabel(\"Number of events\")\n",
    "ax.set_ylabel(\"Transaction type\")\n",
    "#plt.legend(loc='lower right')\n",
    "#plt.tight_layout()\n",
    "plt.show()"
   ]
  },
  {
   "cell_type": "markdown",
   "id": "4517d6de-a242-41ae-a4a3-e5da7a2ac638",
   "metadata": {},
   "source": [
    "**Distribution of balances (origin entities)**"
   ]
  },
  {
   "cell_type": "markdown",
   "id": "0c3ceaaf-a5f9-467e-a103-027a5450aba7",
   "metadata": {},
   "source": [
    "**Distribution of balances (destination entities)**"
   ]
  },
  {
   "cell_type": "markdown",
   "id": "ceab26b1-7085-4cad-ba47-eeab78e94846",
   "metadata": {},
   "source": [
    "**Evolution over time of the transactions'`amount`**"
   ]
  },
  {
   "cell_type": "markdown",
   "id": "c5d407b5-293f-42cd-a3b7-e5c901682256",
   "metadata": {},
   "source": [
    "**Entity-specific trajectories of the balances**"
   ]
  },
  {
   "cell_type": "markdown",
   "id": "e5ca66f1-9519-4e32-961f-cb9ca5cfa2dc",
   "metadata": {},
   "source": [
    "**⚠️ TODO: Re-use constraints engine**"
   ]
  },
  {
   "cell_type": "markdown",
   "id": "caa1226a-1311-4f91-9f94-1172e847e923",
   "metadata": {},
   "source": [
    "## Wrap-up"
   ]
  },
  {
   "cell_type": "markdown",
   "id": "49a7c49e-169a-465f-b1cc-04073cf987bc",
   "metadata": {},
   "source": [
    "_Balance is a hidden state with deterministic rules and constraints (balance depends on previous row) - if that fails, so does the synthesis._"
   ]
  }
 ],
 "metadata": {
  "kernelspec": {
   "display_name": "Python 3 (ipykernel)",
   "language": "python",
   "name": "python3"
  },
  "language_info": {
   "codemirror_mode": {
    "name": "ipython",
    "version": 3
   },
   "file_extension": ".py",
   "mimetype": "text/x-python",
   "name": "python",
   "nbconvert_exporter": "python",
   "pygments_lexer": "ipython3",
   "version": "3.8.13"
  }
 },
 "nbformat": 4,
 "nbformat_minor": 5
}
