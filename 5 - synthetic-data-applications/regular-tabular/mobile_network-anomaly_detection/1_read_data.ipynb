{
 "cells": [
  {
   "cell_type": "markdown",
   "id": "d2c4139e-6877-44da-8864-4d7d9b57dae9",
   "metadata": {
    "papermill": {
     "duration": 0.009637,
     "end_time": "2022-03-30T14:03:30.299677",
     "exception": false,
     "start_time": "2022-03-30T14:03:30.290040",
     "status": "completed"
    },
    "tags": []
   },
   "source": [
    "# Mobile Network Anomaly Detection\n",
    "\n",
    "<span style=\"font-size:15px; line-height:1.5em\"> Traditionally, the design of a cellular network focuses on the optimization of energy and resources that guarantees a smooth operation even during peak hours (i.e. periods with higher traffic load). In order to adapt to the varying user demands in the most efficient way with regards to energy savings and utilization of frequency resources would be optimal to detect which ones are abnormal bnehaviours in the utilization of the newtork. <br>\n",
    "In this notebook, we are exploiting the power of YData's Synthesizer to have a better balanced dataset to improve the detecion of these anomalies. <br><br>\n",
    "<u>Target:</u>\n",
    "The target variable can assume two values: <br>\n",
    "• 0 (normal):  activity corresponds to normal behavior of any working day. <br>\n",
    "• 1 (unusual): activity differs from the behavior usually observed. "
   ]
  },
  {
   "cell_type": "markdown",
   "id": "c7239681-ded7-47d1-a379-252bc446c5c3",
   "metadata": {
    "papermill": {
     "duration": 0.008855,
     "end_time": "2022-03-30T14:03:30.317311",
     "exception": false,
     "start_time": "2022-03-30T14:03:30.308456",
     "status": "completed"
    },
    "tags": []
   },
   "source": [
    "## 0 - Imports \n",
    "\n",
    "Importing all the packages needed in the reading data step. "
   ]
  },
  {
   "cell_type": "code",
   "execution_count": 1,
   "id": "fbad54a8-d71d-43ba-b9c2-d61cdb0db920",
   "metadata": {
    "execution": {
     "iopub.execute_input": "2022-03-30T14:03:30.337254Z",
     "iopub.status.busy": "2022-03-30T14:03:30.336244Z",
     "iopub.status.idle": "2022-03-30T14:03:32.192782Z",
     "shell.execute_reply": "2022-03-30T14:03:32.191783Z"
    },
    "papermill": {
     "duration": 1.877342,
     "end_time": "2022-03-30T14:03:32.202573",
     "exception": false,
     "start_time": "2022-03-30T14:03:30.325231",
     "status": "completed"
    },
    "tags": []
   },
   "outputs": [
    {
     "name": "stderr",
     "output_type": "stream",
     "text": [
      "/opt/conda/lib/python3.7/site-packages/dask_gateway/client.py:21: FutureWarning: format_bytes is deprecated and will be removed in a future release. Please use dask.utils.format_bytes instead.\n",
      "  from distributed.utils import LoopRunner, format_bytes\n"
     ]
    }
   ],
   "source": [
    "import json\n",
    "from ydata.connectors import GCSConnector, LocalConnector\n",
    "from ydata.connectors.filetype import FileType\n",
    "from ydata.utils.formats import read_json"
   ]
  },
  {
   "cell_type": "markdown",
   "id": "acfe7391-17d5-40bf-8202-c8e50bccce28",
   "metadata": {
    "papermill": {
     "duration": 0.018322,
     "end_time": "2022-03-30T14:03:32.230556",
     "exception": false,
     "start_time": "2022-03-30T14:03:32.212234",
     "status": "completed"
    },
    "tags": []
   },
   "source": [
    "## 1 - Load Data\n",
    "\n",
    "Load the data from Google Cloud Storage with YData's connector. "
   ]
  },
  {
   "cell_type": "code",
   "execution_count": 2,
   "id": "e132737c-8e64-4b43-a859-b2f3783aee22",
   "metadata": {
    "execution": {
     "iopub.execute_input": "2022-03-30T14:03:32.252855Z",
     "iopub.status.busy": "2022-03-30T14:03:32.251947Z",
     "iopub.status.idle": "2022-03-30T14:03:36.133059Z",
     "shell.execute_reply": "2022-03-30T14:03:36.131764Z"
    },
    "papermill": {
     "duration": 3.895707,
     "end_time": "2022-03-30T14:03:36.136420",
     "exception": false,
     "start_time": "2022-03-30T14:03:32.240713",
     "status": "completed"
    },
    "tags": []
   },
   "outputs": [],
   "source": [
    "# Initialize the YData's connector\n",
    "token = read_json('gcs_credentials.json')\n",
    "connector = GCSConnector('ydatasynthetic', keyfile_dict=token)"
   ]
  },
  {
   "cell_type": "code",
   "execution_count": 3,
   "id": "7e5100b4-085e-4557-9e78-a4a5ad898a3c",
   "metadata": {
    "execution": {
     "iopub.execute_input": "2022-03-30T14:03:36.164197Z",
     "iopub.status.busy": "2022-03-30T14:03:36.163828Z",
     "iopub.status.idle": "2022-03-30T14:03:43.369883Z",
     "shell.execute_reply": "2022-03-30T14:03:43.368380Z"
    },
    "papermill": {
     "duration": 7.226308,
     "end_time": "2022-03-30T14:03:43.372790",
     "exception": false,
     "start_time": "2022-03-30T14:03:36.146482",
     "status": "completed"
    },
    "tags": []
   },
   "outputs": [],
   "source": [
    "# Read the data from the Cloud Storage \n",
    "data = connector.read_file('gs://ydata_testdata/tabular/mobile_network/data.csv', file_type = FileType.CSV)\n",
    "final_df = data.to_pandas()"
   ]
  },
  {
   "cell_type": "markdown",
   "id": "87f86ded-8c03-46a9-8531-a05e619de2bd",
   "metadata": {
    "papermill": {
     "duration": 0.009069,
     "end_time": "2022-03-30T14:03:43.391411",
     "exception": false,
     "start_time": "2022-03-30T14:03:43.382342",
     "status": "completed"
    },
    "tags": []
   },
   "source": [
    "## 2 - Store Data \n",
    "\n",
    "Make the data available for the next steps storing it locally with YData's Local Connector. "
   ]
  },
  {
   "cell_type": "code",
   "execution_count": 4,
   "id": "2c1c3e0f-113c-4368-b465-edb0aaddffb9",
   "metadata": {
    "execution": {
     "iopub.execute_input": "2022-03-30T14:03:43.410870Z",
     "iopub.status.busy": "2022-03-30T14:03:43.410037Z",
     "iopub.status.idle": "2022-03-30T14:03:43.787730Z",
     "shell.execute_reply": "2022-03-30T14:03:43.786627Z"
    },
    "papermill": {
     "duration": 0.389997,
     "end_time": "2022-03-30T14:03:43.790133",
     "exception": false,
     "start_time": "2022-03-30T14:03:43.400136",
     "status": "completed"
    },
    "tags": []
   },
   "outputs": [
    {
     "name": "stderr",
     "output_type": "stream",
     "text": [
      "/opt/conda/lib/python3.7/site-packages/distributed/client.py:1265: VersionMismatchWarning: Mismatched versions found\n",
      "\n",
      "+---------+----------------+----------------+----------------+\n",
      "| Package | client         | scheduler      | workers        |\n",
      "+---------+----------------+----------------+----------------+\n",
      "| numpy   | 1.20.3         | 1.21.2         | 1.21.2         |\n",
      "| python  | 3.7.11.final.0 | 3.7.10.final.0 | 3.7.10.final.0 |\n",
      "+---------+----------------+----------------+----------------+\n",
      "  warnings.warn(version_module.VersionMismatchWarning(msg[0][\"warning\"]))\n"
     ]
    }
   ],
   "source": [
    "local_connector = LocalConnector()\n",
    "local_connector.write_file(data=final_df, path='data.csv', index=False)"
   ]
  },
  {
   "cell_type": "markdown",
   "id": "03e61a5c-426b-4d73-a486-1d07b1215dbd",
   "metadata": {
    "papermill": {
     "duration": 0.010157,
     "end_time": "2022-03-30T14:03:43.811522",
     "exception": false,
     "start_time": "2022-03-30T14:03:43.801365",
     "status": "completed"
    },
    "tags": []
   },
   "source": [
    "## 3 - Create Artifacts \n",
    "\n",
    "Create the artifact to show the downloaded data on the platform's pipeline. "
   ]
  },
  {
   "cell_type": "code",
   "execution_count": 5,
   "id": "24d5a3d7-c058-4d04-99f5-feec8d5a4838",
   "metadata": {
    "execution": {
     "iopub.execute_input": "2022-03-30T14:03:43.846821Z",
     "iopub.status.busy": "2022-03-30T14:03:43.846106Z",
     "iopub.status.idle": "2022-03-30T14:03:44.253006Z",
     "shell.execute_reply": "2022-03-30T14:03:44.251919Z"
    },
    "papermill": {
     "duration": 0.426979,
     "end_time": "2022-03-30T14:03:44.256330",
     "exception": false,
     "start_time": "2022-03-30T14:03:43.829351",
     "status": "completed"
    },
    "tags": []
   },
   "outputs": [],
   "source": [
    "# Here we create the visualization of the table. This is the metadata that kubeflows need to show some lines of the dataset.\n",
    "import json\n",
    "\n",
    "metadata = {\n",
    "    'outputs' : [{\n",
    "      'type': 'table',\n",
    "      'storage': 'inline',\n",
    "      'format': 'csv',\n",
    "      'header': list(final_df.columns),\n",
    "      'source': final_df.to_csv(header=False, index=False)\n",
    "    }]\n",
    "  }\n",
    "\n",
    "with open(\"mlpipeline-ui-metadata.json\", 'w') as metadata_file:\n",
    "    json.dump(metadata, metadata_file)"
   ]
  }
 ],
 "metadata": {
  "kernelspec": {
   "display_name": "Python 3 (ipykernel)",
   "language": "python",
   "name": "python3"
  },
  "language_info": {
   "codemirror_mode": {
    "name": "ipython",
    "version": 3
   },
   "file_extension": ".py",
   "mimetype": "text/x-python",
   "name": "python",
   "nbconvert_exporter": "python",
   "pygments_lexer": "ipython3",
   "version": "3.7.11"
  },
  "papermill": {
   "default_parameters": {},
   "duration": 15.795547,
   "end_time": "2022-03-30T14:03:44.889310",
   "environment_variables": {},
   "exception": null,
   "input_path": "/home/ydata/1_read_data.ipynb",
   "output_path": "/home/ydata/1_read_data.ipynb",
   "parameters": {},
   "start_time": "2022-03-30T14:03:29.093763",
   "version": "2.3.4"
  }
 },
 "nbformat": 4,
 "nbformat_minor": 5
}