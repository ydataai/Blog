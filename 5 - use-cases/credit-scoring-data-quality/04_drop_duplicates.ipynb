{
 "cells": [
  {
   "cell_type": "markdown",
   "id": "aca4bef5-f7de-4e6c-ba63-9790a77f30a5",
   "metadata": {
    "papermill": {
     "duration": 0.044421,
     "end_time": "2022-10-20T22:14:55.036251",
     "exception": false,
     "start_time": "2022-10-20T22:14:54.991830",
     "status": "completed"
    },
    "tags": []
   },
   "source": [
    "# 4. Duplicate records\n",
    "\n",
    "## Processing\n",
    "\n",
    "Duplicates can represent a massive problem for the training of a Machine Learning model. In a lot of cases it is recommend to drop the duplicate records, unless, they are one of the behaviors being modeled and their presence provides in fact relevant information for the use-case being explored.\n",
    "\n",
    "For the particular pipeline we are exploring, credit scoring, the presence of duplicates can lead to:\n",
    "\n",
    "- Overfit of the model to training data which leads to a poor generalization in production systems. Biased models are something that can be dangerous, particularly, for the example use case we are exploring;\n",
    "- Duplicates can also lead to information leakage between validation and training sets. If the same point is splitted between the training and validation, this will increase in validation performance of the model\n",
    "\n",
    "For this particular dataset, the presence of duplicates is rather small, nevertheless, we will compare our scoring model performance before and after the duplicates drop."
   ]
  },
  {
   "cell_type": "markdown",
   "id": "a6b724cb",
   "metadata": {
    "papermill": {
     "duration": 0.043364,
     "end_time": "2022-10-20T22:14:55.124107",
     "exception": false,
     "start_time": "2022-10-20T22:14:55.080743",
     "status": "completed"
    },
    "tags": []
   },
   "source": [
    "### Import the needed packages"
   ]
  },
  {
   "cell_type": "code",
   "execution_count": 1,
   "id": "c5b83744-5c37-4b77-8c7f-794c9e510096",
   "metadata": {
    "execution": {
     "iopub.execute_input": "2022-10-20T22:14:55.213309Z",
     "iopub.status.busy": "2022-10-20T22:14:55.212403Z",
     "iopub.status.idle": "2022-10-20T22:14:55.647604Z",
     "shell.execute_reply": "2022-10-20T22:14:55.646620Z"
    },
    "papermill": {
     "duration": 0.481166,
     "end_time": "2022-10-20T22:14:55.650269",
     "exception": false,
     "start_time": "2022-10-20T22:14:55.169103",
     "status": "completed"
    },
    "tags": []
   },
   "outputs": [],
   "source": [
    "import os\n",
    "\n",
    "import pickle \n",
    "\n",
    "import pandas as pd"
   ]
  },
  {
   "cell_type": "code",
   "execution_count": 2,
   "id": "86cca448-1d4c-4b75-bcb8-6f1bfed048c9",
   "metadata": {
    "execution": {
     "iopub.execute_input": "2022-10-20T22:14:55.742616Z",
     "iopub.status.busy": "2022-10-20T22:14:55.742063Z",
     "iopub.status.idle": "2022-10-20T22:14:55.758835Z",
     "shell.execute_reply": "2022-10-20T22:14:55.757618Z"
    },
    "papermill": {
     "duration": 0.065746,
     "end_time": "2022-10-20T22:14:55.760977",
     "exception": false,
     "start_time": "2022-10-20T22:14:55.695231",
     "status": "completed"
    },
    "tags": []
   },
   "outputs": [],
   "source": [
    "prep = pickle.load(open('prep_parameters.pkl', 'rb'))"
   ]
  },
  {
   "cell_type": "markdown",
   "id": "b67a98b8-18c3-4b10-935c-1ef6ef9bfc93",
   "metadata": {
    "papermill": {
     "duration": 0.044993,
     "end_time": "2022-10-20T22:14:55.850286",
     "exception": false,
     "start_time": "2022-10-20T22:14:55.805293",
     "status": "completed"
    },
    "tags": []
   },
   "source": [
    "## Identify the number of duplicates"
   ]
  },
  {
   "cell_type": "code",
   "execution_count": 3,
   "id": "7355ed27-dd0c-4666-ad16-f5b3cfec97ad",
   "metadata": {
    "execution": {
     "iopub.execute_input": "2022-10-20T22:14:55.946988Z",
     "iopub.status.busy": "2022-10-20T22:14:55.946589Z",
     "iopub.status.idle": "2022-10-20T22:14:56.230738Z",
     "shell.execute_reply": "2022-10-20T22:14:56.229474Z"
    },
    "papermill": {
     "duration": 0.337846,
     "end_time": "2022-10-20T22:14:56.233867",
     "exception": false,
     "start_time": "2022-10-20T22:14:55.896021",
     "status": "completed"
    },
    "tags": []
   },
   "outputs": [],
   "source": [
    "## Read the data from the last pipeline step\n",
    "train_data = pd.read_csv('prep_traindata.csv', index_col=[0])"
   ]
  },
  {
   "cell_type": "code",
   "execution_count": 4,
   "id": "0b80bd85-8142-4e1b-a5b2-0a3d461da135",
   "metadata": {
    "execution": {
     "iopub.execute_input": "2022-10-20T22:14:56.326823Z",
     "iopub.status.busy": "2022-10-20T22:14:56.326143Z",
     "iopub.status.idle": "2022-10-20T22:14:56.414017Z",
     "shell.execute_reply": "2022-10-20T22:14:56.412795Z"
    },
    "papermill": {
     "duration": 0.138963,
     "end_time": "2022-10-20T22:14:56.416496",
     "exception": false,
     "start_time": "2022-10-20T22:14:56.277533",
     "status": "completed"
    },
    "tags": []
   },
   "outputs": [],
   "source": [
    "n_duplicates = train_data[train_data.duplicated()].shape[0]"
   ]
  },
  {
   "cell_type": "code",
   "execution_count": 5,
   "id": "5aeaec35-3350-4e0b-8931-57c62550d4a1",
   "metadata": {
    "execution": {
     "iopub.execute_input": "2022-10-20T22:14:56.506327Z",
     "iopub.status.busy": "2022-10-20T22:14:56.505554Z",
     "iopub.status.idle": "2022-10-20T22:14:56.510888Z",
     "shell.execute_reply": "2022-10-20T22:14:56.509686Z"
    },
    "papermill": {
     "duration": 0.052859,
     "end_time": "2022-10-20T22:14:56.513384",
     "exception": false,
     "start_time": "2022-10-20T22:14:56.460525",
     "status": "completed"
    },
    "tags": []
   },
   "outputs": [],
   "source": [
    "try:\n",
    "    drop = int(os.getenv('DROP'))\n",
    "except:\n",
    "    drop = 1"
   ]
  },
  {
   "cell_type": "code",
   "execution_count": 6,
   "id": "0a6755de-417c-4e39-8047-4202848021d5",
   "metadata": {
    "execution": {
     "iopub.execute_input": "2022-10-20T22:14:56.605268Z",
     "iopub.status.busy": "2022-10-20T22:14:56.604905Z",
     "iopub.status.idle": "2022-10-20T22:14:56.611560Z",
     "shell.execute_reply": "2022-10-20T22:14:56.610256Z"
    },
    "papermill": {
     "duration": 0.058786,
     "end_time": "2022-10-20T22:14:56.614472",
     "exception": false,
     "start_time": "2022-10-20T22:14:56.555686",
     "status": "completed"
    },
    "tags": []
   },
   "outputs": [],
   "source": [
    "if drop and n_duplicates>0:\n",
    "    prep_data = train_data.drop_duplicates()\n",
    "    prep['Drop Duplicates'] = 1\n",
    "else:\n",
    "    prep_data=train_data\n",
    "    prep['Drop Duplicates'] = 0"
   ]
  },
  {
   "cell_type": "markdown",
   "id": "790a4382-e52b-4788-8f6b-3023cebe0dff",
   "metadata": {
    "papermill": {
     "duration": 0.054781,
     "end_time": "2022-10-20T22:14:56.713193",
     "exception": false,
     "start_time": "2022-10-20T22:14:56.658412",
     "status": "completed"
    },
    "tags": []
   },
   "source": [
    "## Outputs"
   ]
  },
  {
   "cell_type": "code",
   "execution_count": 7,
   "id": "e00e2ab7-afa7-4fec-91fd-865f966d6ea3",
   "metadata": {
    "execution": {
     "iopub.execute_input": "2022-10-20T22:14:56.804074Z",
     "iopub.status.busy": "2022-10-20T22:14:56.803708Z",
     "iopub.status.idle": "2022-10-20T22:14:58.199937Z",
     "shell.execute_reply": "2022-10-20T22:14:58.198854Z"
    },
    "papermill": {
     "duration": 1.444841,
     "end_time": "2022-10-20T22:14:58.202272",
     "exception": false,
     "start_time": "2022-10-20T22:14:56.757431",
     "status": "completed"
    },
    "tags": []
   },
   "outputs": [],
   "source": [
    "prep_data.to_csv('prep_traindata.csv')\n",
    "\n",
    "pickle.dump(prep, open('prep_parameters.pkl', 'wb'))"
   ]
  },
  {
   "cell_type": "markdown",
   "id": "47fff000-9e9b-4303-8240-7df7cc72bbc1",
   "metadata": {
    "papermill": {
     "duration": 0.043407,
     "end_time": "2022-10-20T22:14:58.289238",
     "exception": false,
     "start_time": "2022-10-20T22:14:58.245831",
     "status": "completed"
    },
    "tags": []
   },
   "source": [
    "### Creating the pipeline step outputs"
   ]
  },
  {
   "cell_type": "code",
   "execution_count": 8,
   "id": "43c34797-5117-4a48-86c3-cfa852969bf3",
   "metadata": {
    "execution": {
     "iopub.execute_input": "2022-10-20T22:14:58.382718Z",
     "iopub.status.busy": "2022-10-20T22:14:58.381732Z",
     "iopub.status.idle": "2022-10-20T22:14:58.428690Z",
     "shell.execute_reply": "2022-10-20T22:14:58.427542Z"
    },
    "papermill": {
     "duration": 0.094528,
     "end_time": "2022-10-20T22:14:58.431048",
     "exception": false,
     "start_time": "2022-10-20T22:14:58.336520",
     "status": "completed"
    },
    "tags": []
   },
   "outputs": [],
   "source": [
    "import json\n",
    "metadata = {\n",
    "    'outputs' : [\n",
    "        {\n",
    "      'type': 'markdown',\n",
    "      'storage': 'inline',\n",
    "      'source': f'## **Drop duplicates:** {bool(drop)}',\n",
    "        }, \n",
    "        {\n",
    "      'type': 'markdown',\n",
    "      'storage': 'inline',\n",
    "      'source': f'## **Number of duplicates:** {n_duplicates}',\n",
    "        },\n",
    "    ]\n",
    "  }\n",
    "\n",
    "with open('mlpipeline-ui-metadata.json', 'w') as metadata_file:\n",
    "    json.dump(metadata, metadata_file)"
   ]
  }
 ],
 "metadata": {
  "kernelspec": {
   "display_name": "Python 3 (ipykernel)",
   "language": "python",
   "name": "python3"
  },
  "language_info": {
   "codemirror_mode": {
    "name": "ipython",
    "version": 3
   },
   "file_extension": ".py",
   "mimetype": "text/x-python",
   "name": "python",
   "nbconvert_exporter": "python",
   "pygments_lexer": "ipython3",
   "version": "3.8.13"
  },
  "papermill": {
   "default_parameters": {},
   "duration": 4.958596,
   "end_time": "2022-10-20T22:14:58.696144",
   "environment_variables": {},
   "exception": null,
   "input_path": "/mnt/laboratory/1ffabd97-374f-483a-885a-d025b3a2e2ef/04_drop_duplicates.ipynb",
   "output_path": "/mnt/laboratory/1ffabd97-374f-483a-885a-d025b3a2e2ef/04_drop_duplicates.ipynb",
   "parameters": {},
   "start_time": "2022-10-20T22:14:53.737548",
   "version": "2.4.0"
  }
 },
 "nbformat": 4,
 "nbformat_minor": 5
}