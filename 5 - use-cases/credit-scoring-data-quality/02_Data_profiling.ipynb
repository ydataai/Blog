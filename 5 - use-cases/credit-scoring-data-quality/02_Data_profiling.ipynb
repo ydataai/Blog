{
 "cells": [
  {
   "cell_type": "markdown",
   "id": "0687a777-4363-4d03-8d67-92a2342dc569",
   "metadata": {
    "papermill": {
     "duration": 0.055079,
     "end_time": "2022-10-20T22:13:41.244399",
     "exception": false,
     "start_time": "2022-10-20T22:13:41.189320",
     "status": "completed"
    },
    "tags": []
   },
   "source": [
    "# 2. Exploratory data analysis - In-depth profiling"
   ]
  },
  {
   "cell_type": "markdown",
   "id": "ef0e9941",
   "metadata": {
    "papermill": {
     "duration": 0.051903,
     "end_time": "2022-10-20T22:13:41.348976",
     "exception": false,
     "start_time": "2022-10-20T22:13:41.297073",
     "status": "completed"
    },
    "tags": []
   },
   "source": [
    "The first step in a data preparation pipeline is the exploratory data analysis (EDA). In a nutshell, data exploration and data cleansing are hand-to-hand and both are mutually iterative steps. \n",
    "\n",
    "*But what does data exploration includes? And how to make a better data exploration giving we are building a credit scorecard model?*\n",
    "\n",
    "\n",
    "Data exploration includes both univariate and bivariate analysis and ranges from univariate statistics and frequency distributions to correlations, cross-tabulation, and characteristic analysis.\n",
    "add here detail about pandas-profiling and data exploration in general (re-use the sentence above)"
   ]
  },
  {
   "cell_type": "markdown",
   "id": "8619741d-a1d4-43ca-978d-2bbe16326d53",
   "metadata": {
    "papermill": {
     "duration": 0.056564,
     "end_time": "2022-10-20T22:13:41.455325",
     "exception": false,
     "start_time": "2022-10-20T22:13:41.398761",
     "status": "completed"
    },
    "tags": []
   },
   "source": [
    "## Read the data & computed metadata"
   ]
  },
  {
   "cell_type": "code",
   "execution_count": 1,
   "id": "84bccb73-0757-409a-8235-340baadebde1",
   "metadata": {
    "execution": {
     "iopub.execute_input": "2022-10-20T22:13:41.564178Z",
     "iopub.status.busy": "2022-10-20T22:13:41.562877Z",
     "iopub.status.idle": "2022-10-20T22:13:45.378389Z",
     "shell.execute_reply": "2022-10-20T22:13:45.377002Z"
    },
    "papermill": {
     "duration": 3.87469,
     "end_time": "2022-10-20T22:13:45.381080",
     "exception": false,
     "start_time": "2022-10-20T22:13:41.506390",
     "status": "completed"
    },
    "tags": []
   },
   "outputs": [],
   "source": [
    "%%capture\n",
    "!pip install pandas-profiling"
   ]
  },
  {
   "cell_type": "markdown",
   "id": "3359333b-911c-4b81-b47e-d3ae73db3ee0",
   "metadata": {
    "papermill": {
     "duration": 0.050897,
     "end_time": "2022-10-20T22:13:45.492619",
     "exception": false,
     "start_time": "2022-10-20T22:13:45.441722",
     "status": "completed"
    },
    "tags": []
   },
   "source": [
    "### Import needed packages"
   ]
  },
  {
   "cell_type": "code",
   "execution_count": 2,
   "id": "73932d1c-5b2f-4145-81b8-bc6a4724cbea",
   "metadata": {
    "execution": {
     "iopub.execute_input": "2022-10-20T22:13:45.596204Z",
     "iopub.status.busy": "2022-10-20T22:13:45.595837Z",
     "iopub.status.idle": "2022-10-20T22:13:46.916280Z",
     "shell.execute_reply": "2022-10-20T22:13:46.915239Z"
    },
    "papermill": {
     "duration": 1.373932,
     "end_time": "2022-10-20T22:13:46.918514",
     "exception": false,
     "start_time": "2022-10-20T22:13:45.544582",
     "status": "completed"
    },
    "tags": []
   },
   "outputs": [],
   "source": [
    "import os\n",
    "\n",
    "from pickle import load\n",
    "import pandas as pd\n",
    "\n",
    "from ydata.metadata import Metadata"
   ]
  },
  {
   "cell_type": "code",
   "execution_count": 3,
   "id": "d67b3ce6-cb30-4115-8f0a-bd5dba7b91fe",
   "metadata": {
    "execution": {
     "iopub.execute_input": "2022-10-20T22:13:47.026228Z",
     "iopub.status.busy": "2022-10-20T22:13:47.025568Z",
     "iopub.status.idle": "2022-10-20T22:13:47.115957Z",
     "shell.execute_reply": "2022-10-20T22:13:47.114825Z"
    },
    "papermill": {
     "duration": 0.14733,
     "end_time": "2022-10-20T22:13:47.118614",
     "exception": false,
     "start_time": "2022-10-20T22:13:46.971284",
     "status": "completed"
    },
    "tags": []
   },
   "outputs": [
    {
     "name": "stdout",
     "output_type": "stream",
     "text": [
      "test.csv\n"
     ]
    }
   ],
   "source": [
    "try:\n",
    "    dataset_path = os.environ['DATASET_PATH']\n",
    "    print(dataset_path)\n",
    "except:\n",
    "    dataset_path = 'cs-training.csv'\n",
    "    \n",
    "data = pd.read_csv(dataset_path, index_col=[0])"
   ]
  },
  {
   "cell_type": "code",
   "execution_count": 4,
   "id": "cc0dfb8a-649a-463f-b150-513933bdffd1",
   "metadata": {
    "execution": {
     "iopub.execute_input": "2022-10-20T22:13:47.222323Z",
     "iopub.status.busy": "2022-10-20T22:13:47.221234Z",
     "iopub.status.idle": "2022-10-20T22:13:47.228497Z",
     "shell.execute_reply": "2022-10-20T22:13:47.225361Z"
    },
    "papermill": {
     "duration": 0.061853,
     "end_time": "2022-10-20T22:13:47.230821",
     "exception": false,
     "start_time": "2022-10-20T22:13:47.168968",
     "status": "completed"
    },
    "tags": []
   },
   "outputs": [],
   "source": [
    "try:\n",
    "    label = os.environ['LABEL_NAME']\n",
    "except:\n",
    "    label = 'SeriousDlqin2yrs'"
   ]
  },
  {
   "cell_type": "code",
   "execution_count": 5,
   "id": "ae99d996-326f-43d9-8d97-566bcdd4813f",
   "metadata": {
    "execution": {
     "iopub.execute_input": "2022-10-20T22:13:47.343216Z",
     "iopub.status.busy": "2022-10-20T22:13:47.342453Z",
     "iopub.status.idle": "2022-10-20T22:13:47.369755Z",
     "shell.execute_reply": "2022-10-20T22:13:47.368605Z"
    },
    "papermill": {
     "duration": 0.084381,
     "end_time": "2022-10-20T22:13:47.373208",
     "exception": false,
     "start_time": "2022-10-20T22:13:47.288827",
     "status": "completed"
    },
    "tags": []
   },
   "outputs": [
    {
     "name": "stdout",
     "output_type": "stream",
     "text": [
      "\u001b[1mMetadata Summary \n",
      " \n",
      "\u001b[0m\u001b[1mDataset type: \u001b[0mTABULAR\n",
      "\u001b[1mDataset attributes: \u001b[0m\n",
      "\u001b[1mNumber of columns: \u001b[0m11\n",
      "\u001b[1m% of duplicate rows: \u001b[0m0\n",
      "\u001b[1mTarget column: \u001b[0m\n",
      "\n",
      "\u001b[1mColumn detail: \u001b[0m\n",
      "                                  Column  Data type Variable type\n",
      "0                       SeriousDlqin2yrs  numerical           int\n",
      "1   RevolvingUtilizationOfUnsecuredLines  numerical         float\n",
      "2                                    age  numerical           int\n",
      "3   NumberOfTime30-59DaysPastDueNotWorse  numerical           int\n",
      "4                              DebtRatio  numerical         float\n",
      "5                          MonthlyIncome  numerical         float\n",
      "6        NumberOfOpenCreditLinesAndLoans  numerical           int\n",
      "7                NumberOfTimes90DaysLate  numerical           int\n",
      "8           NumberRealEstateLoansOrLines  numerical           int\n",
      "9   NumberOfTime60-89DaysPastDueNotWorse  numerical           int\n",
      "10                    NumberOfDependents  numerical         float\n",
      "\n",
      "\u001b[1mWarnings: \u001b[0m\n",
      "       Warning                                                                                                                                                                                                                                                                          Columns\n",
      "0     skewness                                          [SeriousDlqin2yrs, RevolvingUtilizationOfUnsecuredLines, NumberOfTime30-59DaysPastDueNotWorse, DebtRatio, NumberOfOpenCreditLinesAndLoans, NumberOfTimes90DaysLate, NumberRealEstateLoansOrLines, NumberOfTime60-89DaysPastDueNotWorse]\n",
      "1     missings                                                                                                                                                                                                                                              [MonthlyIncome, NumberOfDependents]\n",
      "2        zeros  [SeriousDlqin2yrs, RevolvingUtilizationOfUnsecuredLines, age, NumberOfTime30-59DaysPastDueNotWorse, DebtRatio, MonthlyIncome, NumberOfOpenCreditLinesAndLoans, NumberOfTimes90DaysLate, NumberRealEstateLoansOrLines, NumberOfTime60-89DaysPastDueNotWorse, NumberOfDependents]\n",
      "3  correlation                                                                          [NumberOfTime30-59DaysPastDueNotWorse|NumberOfTimes90DaysLate, NumberOfTime30-59DaysPastDueNotWorse|NumberOfTime60-89DaysPastDueNotWorse, NumberOfTimes90DaysLate|NumberOfTime60-89DaysPastDueNotWorse]\n",
      "\n"
     ]
    }
   ],
   "source": [
    "meta = Metadata.load('metadata.pkl')\n",
    "print(meta)"
   ]
  },
  {
   "cell_type": "markdown",
   "id": "c3080656-b0a5-4b99-a61e-ffabdf58f165",
   "metadata": {
    "papermill": {
     "duration": 0.058756,
     "end_time": "2022-10-20T22:13:47.487421",
     "exception": false,
     "start_time": "2022-10-20T22:13:47.428665",
     "status": "completed"
    },
    "tags": []
   },
   "source": [
    "## Generating the full data profile"
   ]
  },
  {
   "cell_type": "code",
   "execution_count": 6,
   "id": "6bdca1ad-9609-41ef-9d04-46cee35ed208",
   "metadata": {
    "execution": {
     "iopub.execute_input": "2022-10-20T22:13:47.599759Z",
     "iopub.status.busy": "2022-10-20T22:13:47.598859Z",
     "iopub.status.idle": "2022-10-20T22:13:47.604157Z",
     "shell.execute_reply": "2022-10-20T22:13:47.603049Z"
    },
    "papermill": {
     "duration": 0.06817,
     "end_time": "2022-10-20T22:13:47.606504",
     "exception": false,
     "start_time": "2022-10-20T22:13:47.538334",
     "status": "completed"
    },
    "tags": []
   },
   "outputs": [],
   "source": [
    "try:\n",
    "    data_split=os.environ['DATA_SPLIT']\n",
    "except:\n",
    "    data_split='train'"
   ]
  },
  {
   "cell_type": "code",
   "execution_count": 7,
   "id": "2b7b0d4b-762d-4f53-aa8e-b14b8f26e532",
   "metadata": {
    "execution": {
     "iopub.execute_input": "2022-10-20T22:13:47.712526Z",
     "iopub.status.busy": "2022-10-20T22:13:47.712129Z",
     "iopub.status.idle": "2022-10-20T22:14:37.069184Z",
     "shell.execute_reply": "2022-10-20T22:14:37.067925Z"
    },
    "papermill": {
     "duration": 49.412228,
     "end_time": "2022-10-20T22:14:37.071957",
     "exception": false,
     "start_time": "2022-10-20T22:13:47.659729",
     "status": "completed"
    },
    "tags": []
   },
   "outputs": [
    {
     "name": "stdout",
     "output_type": "stream",
     "text": [
      "Profile Name: Test_profile\n"
     ]
    },
    {
     "data": {
      "application/vnd.jupyter.widget-view+json": {
       "model_id": "e7f3ff9c4254400b901cf2ff4aa935b7",
       "version_major": 2,
       "version_minor": 0
      },
      "text/plain": [
       "Summarize dataset:   0%|          | 0/5 [00:00<?, ?it/s]"
      ]
     },
     "metadata": {},
     "output_type": "display_data"
    },
    {
     "data": {
      "application/vnd.jupyter.widget-view+json": {
       "model_id": "c73ce662d79443a6852c3c2275f29926",
       "version_major": 2,
       "version_minor": 0
      },
      "text/plain": [
       "Generate report structure:   0%|          | 0/1 [00:00<?, ?it/s]"
      ]
     },
     "metadata": {},
     "output_type": "display_data"
    },
    {
     "data": {
      "application/vnd.jupyter.widget-view+json": {
       "model_id": "88a1f046311f4ed19f8fe4d6f88ac53d",
       "version_major": 2,
       "version_minor": 0
      },
      "text/plain": [
       "Render HTML:   0%|          | 0/1 [00:00<?, ?it/s]"
      ]
     },
     "metadata": {},
     "output_type": "display_data"
    },
    {
     "data": {
      "application/vnd.jupyter.widget-view+json": {
       "model_id": "3b17b1685da9408f9603d4ea76eb1106",
       "version_major": 2,
       "version_minor": 0
      },
      "text/plain": [
       "Export report to file:   0%|          | 0/1 [00:00<?, ?it/s]"
      ]
     },
     "metadata": {},
     "output_type": "display_data"
    }
   ],
   "source": [
    "from pandas_profiling import ProfileReport\n",
    "\n",
    "print(f'Profile Name: {data_split}_profile')\n",
    "profile = ProfileReport(df=data, title='Hotel bookings demand')\n",
    "profile.config.html.navbar_show = False\n",
    "\n",
    "profile.to_file(f'{data_split}_profile.html')"
   ]
  },
  {
   "cell_type": "markdown",
   "id": "ffd25c3b-c35d-4466-b3bd-525f56b45733",
   "metadata": {
    "papermill": {
     "duration": 0.05139,
     "end_time": "2022-10-20T22:14:37.179294",
     "exception": false,
     "start_time": "2022-10-20T22:14:37.127904",
     "status": "completed"
    },
    "tags": []
   },
   "source": [
    "## Add here the html artifact to be generated"
   ]
  },
  {
   "cell_type": "code",
   "execution_count": 8,
   "id": "99421611-2a1c-4ce3-8a43-22053c836057",
   "metadata": {
    "execution": {
     "iopub.execute_input": "2022-10-20T22:14:37.284375Z",
     "iopub.status.busy": "2022-10-20T22:14:37.283766Z",
     "iopub.status.idle": "2022-10-20T22:14:37.291312Z",
     "shell.execute_reply": "2022-10-20T22:14:37.290135Z"
    },
    "papermill": {
     "duration": 0.063592,
     "end_time": "2022-10-20T22:14:37.293363",
     "exception": false,
     "start_time": "2022-10-20T22:14:37.229771",
     "status": "completed"
    },
    "tags": []
   },
   "outputs": [],
   "source": [
    "y = data[label]\n",
    "ratio_labels = pd.DataFrame(y.value_counts(normalize=True))"
   ]
  },
  {
   "cell_type": "code",
   "execution_count": 9,
   "id": "92ae5bf8-2375-41d5-9780-bfa6d8386db6",
   "metadata": {
    "execution": {
     "iopub.execute_input": "2022-10-20T22:14:37.401453Z",
     "iopub.status.busy": "2022-10-20T22:14:37.401048Z",
     "iopub.status.idle": "2022-10-20T22:14:37.409839Z",
     "shell.execute_reply": "2022-10-20T22:14:37.408684Z"
    },
    "papermill": {
     "duration": 0.066468,
     "end_time": "2022-10-20T22:14:37.411958",
     "exception": false,
     "start_time": "2022-10-20T22:14:37.345490",
     "status": "completed"
    },
    "tags": []
   },
   "outputs": [
    {
     "name": "stdout",
     "output_type": "stream",
     "text": [
      "   SeriousDlqin2yrs\n",
      "0          0.934575\n",
      "1          0.065425\n"
     ]
    }
   ],
   "source": [
    "print(ratio_labels)"
   ]
  },
  {
   "cell_type": "code",
   "execution_count": 10,
   "id": "7884d159-747d-4abc-b957-5c2a9e137b27",
   "metadata": {
    "execution": {
     "iopub.execute_input": "2022-10-20T22:14:37.525492Z",
     "iopub.status.busy": "2022-10-20T22:14:37.525064Z",
     "iopub.status.idle": "2022-10-20T22:14:37.666540Z",
     "shell.execute_reply": "2022-10-20T22:14:37.665505Z"
    },
    "papermill": {
     "duration": 0.202458,
     "end_time": "2022-10-20T22:14:37.670198",
     "exception": false,
     "start_time": "2022-10-20T22:14:37.467740",
     "status": "completed"
    },
    "tags": []
   },
   "outputs": [],
   "source": [
    "import json\n",
    "\n",
    "metadata = {\n",
    "    'outputs' : [\n",
    "        {\n",
    "      'type': 'table',\n",
    "      'storage': 'inline',\n",
    "      'format': 'csv',\n",
    "      'header': list(ratio_labels.columns),\n",
    "      'source': ratio_labels.to_csv(header=False, index=True)\n",
    "    },\n",
    "        {\n",
    "      'type': 'web-app',\n",
    "      'storage': 'inline',\n",
    "      'source': profile.to_html(),\n",
    "    }\n",
    "    ]\n",
    "  }\n",
    "\n",
    "with open('mlpipeline-ui-metadata.json', 'w') as metadata_file:\n",
    "    json.dump(metadata, metadata_file)"
   ]
  }
 ],
 "metadata": {
  "kernelspec": {
   "display_name": "Python 3 (ipykernel)",
   "language": "python",
   "name": "python3"
  },
  "language_info": {
   "codemirror_mode": {
    "name": "ipython",
    "version": 3
   },
   "file_extension": ".py",
   "mimetype": "text/x-python",
   "name": "python",
   "nbconvert_exporter": "python",
   "pygments_lexer": "ipython3",
   "version": "3.8.13"
  },
  "papermill": {
   "default_parameters": {},
   "duration": 60.492862,
   "end_time": "2022-10-20T22:14:40.347850",
   "environment_variables": {},
   "exception": null,
   "input_path": "/mnt/laboratory/1ffabd97-374f-483a-885a-d025b3a2e2ef/02_Data_profiling.ipynb",
   "output_path": "/mnt/laboratory/1ffabd97-374f-483a-885a-d025b3a2e2ef/02_Data_profiling.ipynb",
   "parameters": {},
   "start_time": "2022-10-20T22:13:39.854988",
   "version": "2.4.0"
  },
  "widgets": {
   "application/vnd.jupyter.widget-state+json": {
    "state": {
     "02d58fa30d6043879a288b9e510dd66e": {
      "model_module": "@jupyter-widgets/base",
      "model_module_version": "1.2.0",
      "model_name": "LayoutModel",
      "state": {
       "_model_module": "@jupyter-widgets/base",
       "_model_module_version": "1.2.0",
       "_model_name": "LayoutModel",
       "_view_count": null,
       "_view_module": "@jupyter-widgets/base",
       "_view_module_version": "1.2.0",
       "_view_name": "LayoutView",
       "align_content": null,
       "align_items": null,
       "align_self": null,
       "border": null,
       "bottom": null,
       "display": null,
       "flex": null,
       "flex_flow": null,
       "grid_area": null,
       "grid_auto_columns": null,
       "grid_auto_flow": null,
       "grid_auto_rows": null,
       "grid_column": null,
       "grid_gap": null,
       "grid_row": null,
       "grid_template_areas": null,
       "grid_template_columns": null,
       "grid_template_rows": null,
       "height": null,
       "justify_content": null,
       "justify_items": null,
       "left": null,
       "margin": null,
       "max_height": null,
       "max_width": null,
       "min_height": null,
       "min_width": null,
       "object_fit": null,
       "object_position": null,
       "order": null,
       "overflow": null,
       "overflow_x": null,
       "overflow_y": null,
       "padding": null,
       "right": null,
       "top": null,
       "visibility": null,
       "width": null
      }
     },
     "05f9d612a3484833aab66fc470074288": {
      "model_module": "@jupyter-widgets/base",
      "model_module_version": "1.2.0",
      "model_name": "LayoutModel",
      "state": {
       "_model_module": "@jupyter-widgets/base",
       "_model_module_version": "1.2.0",
       "_model_name": "LayoutModel",
       "_view_count": null,
       "_view_module": "@jupyter-widgets/base",
       "_view_module_version": "1.2.0",
       "_view_name": "LayoutView",
       "align_content": null,
       "align_items": null,
       "align_self": null,
       "border": null,
       "bottom": null,
       "display": null,
       "flex": null,
       "flex_flow": null,
       "grid_area": null,
       "grid_auto_columns": null,
       "grid_auto_flow": null,
       "grid_auto_rows": null,
       "grid_column": null,
       "grid_gap": null,
       "grid_row": null,
       "grid_template_areas": null,
       "grid_template_columns": null,
       "grid_template_rows": null,
       "height": null,
       "justify_content": null,
       "justify_items": null,
       "left": null,
       "margin": null,
       "max_height": null,
       "max_width": null,
       "min_height": null,
       "min_width": null,
       "object_fit": null,
       "object_position": null,
       "order": null,
       "overflow": null,
       "overflow_x": null,
       "overflow_y": null,
       "padding": null,
       "right": null,
       "top": null,
       "visibility": null,
       "width": null
      }
     },
     "0784a3de3e9541f5a2b68b8766ec716b": {
      "model_module": "@jupyter-widgets/base",
      "model_module_version": "1.2.0",
      "model_name": "LayoutModel",
      "state": {
       "_model_module": "@jupyter-widgets/base",
       "_model_module_version": "1.2.0",
       "_model_name": "LayoutModel",
       "_view_count": null,
       "_view_module": "@jupyter-widgets/base",
       "_view_module_version": "1.2.0",
       "_view_name": "LayoutView",
       "align_content": null,
       "align_items": null,
       "align_self": null,
       "border": null,
       "bottom": null,
       "display": null,
       "flex": null,
       "flex_flow": null,
       "grid_area": null,
       "grid_auto_columns": null,
       "grid_auto_flow": null,
       "grid_auto_rows": null,
       "grid_column": null,
       "grid_gap": null,
       "grid_row": null,
       "grid_template_areas": null,
       "grid_template_columns": null,
       "grid_template_rows": null,
       "height": null,
       "justify_content": null,
       "justify_items": null,
       "left": null,
       "margin": null,
       "max_height": null,
       "max_width": null,
       "min_height": null,
       "min_width": null,
       "object_fit": null,
       "object_position": null,
       "order": null,
       "overflow": null,
       "overflow_x": null,
       "overflow_y": null,
       "padding": null,
       "right": null,
       "top": null,
       "visibility": null,
       "width": null
      }
     },
     "0d5b5959e1f54fb7979dfcfb5957a556": {
      "model_module": "@jupyter-widgets/controls",
      "model_module_version": "1.5.0",
      "model_name": "HTMLModel",
      "state": {
       "_dom_classes": [],
       "_model_module": "@jupyter-widgets/controls",
       "_model_module_version": "1.5.0",
       "_model_name": "HTMLModel",
       "_view_count": null,
       "_view_module": "@jupyter-widgets/controls",
       "_view_module_version": "1.5.0",
       "_view_name": "HTMLView",
       "description": "",
       "description_tooltip": null,
       "layout": "IPY_MODEL_d82ec27f8e0045eab3cb7be3e440407a",
       "placeholder": "​",
       "style": "IPY_MODEL_ce6af94d1edd4ac88b16bc53ba095f1c",
       "value": "Render HTML: 100%"
      }
     },
     "11e8f3122ac24e11a945300460bb5e50": {
      "model_module": "@jupyter-widgets/base",
      "model_module_version": "1.2.0",
      "model_name": "LayoutModel",
      "state": {
       "_model_module": "@jupyter-widgets/base",
       "_model_module_version": "1.2.0",
       "_model_name": "LayoutModel",
       "_view_count": null,
       "_view_module": "@jupyter-widgets/base",
       "_view_module_version": "1.2.0",
       "_view_name": "LayoutView",
       "align_content": null,
       "align_items": null,
       "align_self": null,
       "border": null,
       "bottom": null,
       "display": null,
       "flex": null,
       "flex_flow": null,
       "grid_area": null,
       "grid_auto_columns": null,
       "grid_auto_flow": null,
       "grid_auto_rows": null,
       "grid_column": null,
       "grid_gap": null,
       "grid_row": null,
       "grid_template_areas": null,
       "grid_template_columns": null,
       "grid_template_rows": null,
       "height": null,
       "justify_content": null,
       "justify_items": null,
       "left": null,
       "margin": null,
       "max_height": null,
       "max_width": null,
       "min_height": null,
       "min_width": null,
       "object_fit": null,
       "object_position": null,
       "order": null,
       "overflow": null,
       "overflow_x": null,
       "overflow_y": null,
       "padding": null,
       "right": null,
       "top": null,
       "visibility": null,
       "width": null
      }
     },
     "18fb3f6d161540538cb35e5d575f284a": {
      "model_module": "@jupyter-widgets/controls",
      "model_module_version": "1.5.0",
      "model_name": "HTMLModel",
      "state": {
       "_dom_classes": [],
       "_model_module": "@jupyter-widgets/controls",
       "_model_module_version": "1.5.0",
       "_model_name": "HTMLModel",
       "_view_count": null,
       "_view_module": "@jupyter-widgets/controls",
       "_view_module_version": "1.5.0",
       "_view_name": "HTMLView",
       "description": "",
       "description_tooltip": null,
       "layout": "IPY_MODEL_c00fddaf7d8c486eb59305d72358ed34",
       "placeholder": "​",
       "style": "IPY_MODEL_e27f6379c0dd42c79c12e5b3538e90ec",
       "value": " 1/1 [00:04&lt;00:00,  4.91s/it]"
      }
     },
     "26acab388e8f44b897324a63e65f8897": {
      "model_module": "@jupyter-widgets/base",
      "model_module_version": "1.2.0",
      "model_name": "LayoutModel",
      "state": {
       "_model_module": "@jupyter-widgets/base",
       "_model_module_version": "1.2.0",
       "_model_name": "LayoutModel",
       "_view_count": null,
       "_view_module": "@jupyter-widgets/base",
       "_view_module_version": "1.2.0",
       "_view_name": "LayoutView",
       "align_content": null,
       "align_items": null,
       "align_self": null,
       "border": null,
       "bottom": null,
       "display": null,
       "flex": null,
       "flex_flow": null,
       "grid_area": null,
       "grid_auto_columns": null,
       "grid_auto_flow": null,
       "grid_auto_rows": null,
       "grid_column": null,
       "grid_gap": null,
       "grid_row": null,
       "grid_template_areas": null,
       "grid_template_columns": null,
       "grid_template_rows": null,
       "height": null,
       "justify_content": null,
       "justify_items": null,
       "left": null,
       "margin": null,
       "max_height": null,
       "max_width": null,
       "min_height": null,
       "min_width": null,
       "object_fit": null,
       "object_position": null,
       "order": null,
       "overflow": null,
       "overflow_x": null,
       "overflow_y": null,
       "padding": null,
       "right": null,
       "top": null,
       "visibility": null,
       "width": null
      }
     },
     "2a82f1a7cf8042828febe1a3f6b66955": {
      "model_module": "@jupyter-widgets/controls",
      "model_module_version": "1.5.0",
      "model_name": "HTMLModel",
      "state": {
       "_dom_classes": [],
       "_model_module": "@jupyter-widgets/controls",
       "_model_module_version": "1.5.0",
       "_model_name": "HTMLModel",
       "_view_count": null,
       "_view_module": "@jupyter-widgets/controls",
       "_view_module_version": "1.5.0",
       "_view_name": "HTMLView",
       "description": "",
       "description_tooltip": null,
       "layout": "IPY_MODEL_05f9d612a3484833aab66fc470074288",
       "placeholder": "​",
       "style": "IPY_MODEL_e8d89376736b4a149a71294422c35c5b",
       "value": "Export report to file: 100%"
      }
     },
     "2eb0880504fb429fa39310f51435b918": {
      "model_module": "@jupyter-widgets/controls",
      "model_module_version": "1.5.0",
      "model_name": "DescriptionStyleModel",
      "state": {
       "_model_module": "@jupyter-widgets/controls",
       "_model_module_version": "1.5.0",
       "_model_name": "DescriptionStyleModel",
       "_view_count": null,
       "_view_module": "@jupyter-widgets/base",
       "_view_module_version": "1.2.0",
       "_view_name": "StyleView",
       "description_width": ""
      }
     },
     "338792c104ee41e08e4b36915818701d": {
      "model_module": "@jupyter-widgets/controls",
      "model_module_version": "1.5.0",
      "model_name": "HTMLModel",
      "state": {
       "_dom_classes": [],
       "_model_module": "@jupyter-widgets/controls",
       "_model_module_version": "1.5.0",
       "_model_name": "HTMLModel",
       "_view_count": null,
       "_view_module": "@jupyter-widgets/controls",
       "_view_module_version": "1.5.0",
       "_view_name": "HTMLView",
       "description": "",
       "description_tooltip": null,
       "layout": "IPY_MODEL_02d58fa30d6043879a288b9e510dd66e",
       "placeholder": "​",
       "style": "IPY_MODEL_2eb0880504fb429fa39310f51435b918",
       "value": " 1/1 [00:00&lt;00:00,  7.57it/s]"
      }
     },
     "3a71407b1d4c4b6285004e55b0f42de6": {
      "model_module": "@jupyter-widgets/base",
      "model_module_version": "1.2.0",
      "model_name": "LayoutModel",
      "state": {
       "_model_module": "@jupyter-widgets/base",
       "_model_module_version": "1.2.0",
       "_model_name": "LayoutModel",
       "_view_count": null,
       "_view_module": "@jupyter-widgets/base",
       "_view_module_version": "1.2.0",
       "_view_name": "LayoutView",
       "align_content": null,
       "align_items": null,
       "align_self": null,
       "border": null,
       "bottom": null,
       "display": null,
       "flex": null,
       "flex_flow": null,
       "grid_area": null,
       "grid_auto_columns": null,
       "grid_auto_flow": null,
       "grid_auto_rows": null,
       "grid_column": null,
       "grid_gap": null,
       "grid_row": null,
       "grid_template_areas": null,
       "grid_template_columns": null,
       "grid_template_rows": null,
       "height": null,
       "justify_content": null,
       "justify_items": null,
       "left": null,
       "margin": null,
       "max_height": null,
       "max_width": null,
       "min_height": null,
       "min_width": null,
       "object_fit": null,
       "object_position": null,
       "order": null,
       "overflow": null,
       "overflow_x": null,
       "overflow_y": null,
       "padding": null,
       "right": null,
       "top": null,
       "visibility": null,
       "width": null
      }
     },
     "3b17b1685da9408f9603d4ea76eb1106": {
      "model_module": "@jupyter-widgets/controls",
      "model_module_version": "1.5.0",
      "model_name": "HBoxModel",
      "state": {
       "_dom_classes": [],
       "_model_module": "@jupyter-widgets/controls",
       "_model_module_version": "1.5.0",
       "_model_name": "HBoxModel",
       "_view_count": null,
       "_view_module": "@jupyter-widgets/controls",
       "_view_module_version": "1.5.0",
       "_view_name": "HBoxView",
       "box_style": "",
       "children": [
        "IPY_MODEL_2a82f1a7cf8042828febe1a3f6b66955",
        "IPY_MODEL_d59b32de23eb4532b0cac0cbbb904ce1",
        "IPY_MODEL_338792c104ee41e08e4b36915818701d"
       ],
       "layout": "IPY_MODEL_502f07866d5f4ae8a427ceb577c58816"
      }
     },
     "4112340bfe284197a44d612a97cb7a8a": {
      "model_module": "@jupyter-widgets/controls",
      "model_module_version": "1.5.0",
      "model_name": "DescriptionStyleModel",
      "state": {
       "_model_module": "@jupyter-widgets/controls",
       "_model_module_version": "1.5.0",
       "_model_name": "DescriptionStyleModel",
       "_view_count": null,
       "_view_module": "@jupyter-widgets/base",
       "_view_module_version": "1.2.0",
       "_view_name": "StyleView",
       "description_width": ""
      }
     },
     "502f07866d5f4ae8a427ceb577c58816": {
      "model_module": "@jupyter-widgets/base",
      "model_module_version": "1.2.0",
      "model_name": "LayoutModel",
      "state": {
       "_model_module": "@jupyter-widgets/base",
       "_model_module_version": "1.2.0",
       "_model_name": "LayoutModel",
       "_view_count": null,
       "_view_module": "@jupyter-widgets/base",
       "_view_module_version": "1.2.0",
       "_view_name": "LayoutView",
       "align_content": null,
       "align_items": null,
       "align_self": null,
       "border": null,
       "bottom": null,
       "display": null,
       "flex": null,
       "flex_flow": null,
       "grid_area": null,
       "grid_auto_columns": null,
       "grid_auto_flow": null,
       "grid_auto_rows": null,
       "grid_column": null,
       "grid_gap": null,
       "grid_row": null,
       "grid_template_areas": null,
       "grid_template_columns": null,
       "grid_template_rows": null,
       "height": null,
       "justify_content": null,
       "justify_items": null,
       "left": null,
       "margin": null,
       "max_height": null,
       "max_width": null,
       "min_height": null,
       "min_width": null,
       "object_fit": null,
       "object_position": null,
       "order": null,
       "overflow": null,
       "overflow_x": null,
       "overflow_y": null,
       "padding": null,
       "right": null,
       "top": null,
       "visibility": null,
       "width": null
      }
     },
     "5f70850f06794308bfef50ccfdee5552": {
      "model_module": "@jupyter-widgets/controls",
      "model_module_version": "1.5.0",
      "model_name": "DescriptionStyleModel",
      "state": {
       "_model_module": "@jupyter-widgets/controls",
       "_model_module_version": "1.5.0",
       "_model_name": "DescriptionStyleModel",
       "_view_count": null,
       "_view_module": "@jupyter-widgets/base",
       "_view_module_version": "1.2.0",
       "_view_name": "StyleView",
       "description_width": ""
      }
     },
     "6678690b40344cba9e6d89cb567403e3": {
      "model_module": "@jupyter-widgets/controls",
      "model_module_version": "1.5.0",
      "model_name": "FloatProgressModel",
      "state": {
       "_dom_classes": [],
       "_model_module": "@jupyter-widgets/controls",
       "_model_module_version": "1.5.0",
       "_model_name": "FloatProgressModel",
       "_view_count": null,
       "_view_module": "@jupyter-widgets/controls",
       "_view_module_version": "1.5.0",
       "_view_name": "ProgressView",
       "bar_style": "success",
       "description": "",
       "description_tooltip": null,
       "layout": "IPY_MODEL_7487c63e9354470d9dd088e05cf5529b",
       "max": 1.0,
       "min": 0.0,
       "orientation": "horizontal",
       "style": "IPY_MODEL_6aa94b3f08744df7952060525e3e34e6",
       "value": 1.0
      }
     },
     "6aa94b3f08744df7952060525e3e34e6": {
      "model_module": "@jupyter-widgets/controls",
      "model_module_version": "1.5.0",
      "model_name": "ProgressStyleModel",
      "state": {
       "_model_module": "@jupyter-widgets/controls",
       "_model_module_version": "1.5.0",
       "_model_name": "ProgressStyleModel",
       "_view_count": null,
       "_view_module": "@jupyter-widgets/base",
       "_view_module_version": "1.2.0",
       "_view_name": "StyleView",
       "bar_color": null,
       "description_width": ""
      }
     },
     "70480515b58d4ced80c6698eac985abf": {
      "model_module": "@jupyter-widgets/base",
      "model_module_version": "1.2.0",
      "model_name": "LayoutModel",
      "state": {
       "_model_module": "@jupyter-widgets/base",
       "_model_module_version": "1.2.0",
       "_model_name": "LayoutModel",
       "_view_count": null,
       "_view_module": "@jupyter-widgets/base",
       "_view_module_version": "1.2.0",
       "_view_name": "LayoutView",
       "align_content": null,
       "align_items": null,
       "align_self": null,
       "border": null,
       "bottom": null,
       "display": null,
       "flex": null,
       "flex_flow": null,
       "grid_area": null,
       "grid_auto_columns": null,
       "grid_auto_flow": null,
       "grid_auto_rows": null,
       "grid_column": null,
       "grid_gap": null,
       "grid_row": null,
       "grid_template_areas": null,
       "grid_template_columns": null,
       "grid_template_rows": null,
       "height": null,
       "justify_content": null,
       "justify_items": null,
       "left": null,
       "margin": null,
       "max_height": null,
       "max_width": null,
       "min_height": null,
       "min_width": null,
       "object_fit": null,
       "object_position": null,
       "order": null,
       "overflow": null,
       "overflow_x": null,
       "overflow_y": null,
       "padding": null,
       "right": null,
       "top": null,
       "visibility": null,
       "width": null
      }
     },
     "7487c63e9354470d9dd088e05cf5529b": {
      "model_module": "@jupyter-widgets/base",
      "model_module_version": "1.2.0",
      "model_name": "LayoutModel",
      "state": {
       "_model_module": "@jupyter-widgets/base",
       "_model_module_version": "1.2.0",
       "_model_name": "LayoutModel",
       "_view_count": null,
       "_view_module": "@jupyter-widgets/base",
       "_view_module_version": "1.2.0",
       "_view_name": "LayoutView",
       "align_content": null,
       "align_items": null,
       "align_self": null,
       "border": null,
       "bottom": null,
       "display": null,
       "flex": null,
       "flex_flow": null,
       "grid_area": null,
       "grid_auto_columns": null,
       "grid_auto_flow": null,
       "grid_auto_rows": null,
       "grid_column": null,
       "grid_gap": null,
       "grid_row": null,
       "grid_template_areas": null,
       "grid_template_columns": null,
       "grid_template_rows": null,
       "height": null,
       "justify_content": null,
       "justify_items": null,
       "left": null,
       "margin": null,
       "max_height": null,
       "max_width": null,
       "min_height": null,
       "min_width": null,
       "object_fit": null,
       "object_position": null,
       "order": null,
       "overflow": null,
       "overflow_x": null,
       "overflow_y": null,
       "padding": null,
       "right": null,
       "top": null,
       "visibility": null,
       "width": null
      }
     },
     "8002b9c381324cafb7b49990fe970a7a": {
      "model_module": "@jupyter-widgets/controls",
      "model_module_version": "1.5.0",
      "model_name": "HTMLModel",
      "state": {
       "_dom_classes": [],
       "_model_module": "@jupyter-widgets/controls",
       "_model_module_version": "1.5.0",
       "_model_name": "HTMLModel",
       "_view_count": null,
       "_view_module": "@jupyter-widgets/controls",
       "_view_module_version": "1.5.0",
       "_view_name": "HTMLView",
       "description": "",
       "description_tooltip": null,
       "layout": "IPY_MODEL_70480515b58d4ced80c6698eac985abf",
       "placeholder": "​",
       "style": "IPY_MODEL_85e46b4165944cc18ae4230ee477deff",
       "value": " 1/1 [00:08&lt;00:00,  8.67s/it]"
      }
     },
     "85e46b4165944cc18ae4230ee477deff": {
      "model_module": "@jupyter-widgets/controls",
      "model_module_version": "1.5.0",
      "model_name": "DescriptionStyleModel",
      "state": {
       "_model_module": "@jupyter-widgets/controls",
       "_model_module_version": "1.5.0",
       "_model_name": "DescriptionStyleModel",
       "_view_count": null,
       "_view_module": "@jupyter-widgets/base",
       "_view_module_version": "1.2.0",
       "_view_name": "StyleView",
       "description_width": ""
      }
     },
     "88a1f046311f4ed19f8fe4d6f88ac53d": {
      "model_module": "@jupyter-widgets/controls",
      "model_module_version": "1.5.0",
      "model_name": "HBoxModel",
      "state": {
       "_dom_classes": [],
       "_model_module": "@jupyter-widgets/controls",
       "_model_module_version": "1.5.0",
       "_model_name": "HBoxModel",
       "_view_count": null,
       "_view_module": "@jupyter-widgets/controls",
       "_view_module_version": "1.5.0",
       "_view_name": "HBoxView",
       "box_style": "",
       "children": [
        "IPY_MODEL_0d5b5959e1f54fb7979dfcfb5957a556",
        "IPY_MODEL_6678690b40344cba9e6d89cb567403e3",
        "IPY_MODEL_18fb3f6d161540538cb35e5d575f284a"
       ],
       "layout": "IPY_MODEL_3a71407b1d4c4b6285004e55b0f42de6"
      }
     },
     "96f1c46e94b74d3a8d55eeff7f361a66": {
      "model_module": "@jupyter-widgets/controls",
      "model_module_version": "1.5.0",
      "model_name": "ProgressStyleModel",
      "state": {
       "_model_module": "@jupyter-widgets/controls",
       "_model_module_version": "1.5.0",
       "_model_name": "ProgressStyleModel",
       "_view_count": null,
       "_view_module": "@jupyter-widgets/base",
       "_view_module_version": "1.2.0",
       "_view_name": "StyleView",
       "bar_color": null,
       "description_width": ""
      }
     },
     "9976455f6787458f9a0ec9d6bb693b14": {
      "model_module": "@jupyter-widgets/controls",
      "model_module_version": "1.5.0",
      "model_name": "HTMLModel",
      "state": {
       "_dom_classes": [],
       "_model_module": "@jupyter-widgets/controls",
       "_model_module_version": "1.5.0",
       "_model_name": "HTMLModel",
       "_view_count": null,
       "_view_module": "@jupyter-widgets/controls",
       "_view_module_version": "1.5.0",
       "_view_name": "HTMLView",
       "description": "",
       "description_tooltip": null,
       "layout": "IPY_MODEL_26acab388e8f44b897324a63e65f8897",
       "placeholder": "​",
       "style": "IPY_MODEL_4112340bfe284197a44d612a97cb7a8a",
       "value": "Generate report structure: 100%"
      }
     },
     "a108fae755b248cb9fb2ca239d81e348": {
      "model_module": "@jupyter-widgets/controls",
      "model_module_version": "1.5.0",
      "model_name": "FloatProgressModel",
      "state": {
       "_dom_classes": [],
       "_model_module": "@jupyter-widgets/controls",
       "_model_module_version": "1.5.0",
       "_model_name": "FloatProgressModel",
       "_view_count": null,
       "_view_module": "@jupyter-widgets/controls",
       "_view_module_version": "1.5.0",
       "_view_name": "ProgressView",
       "bar_style": "success",
       "description": "",
       "description_tooltip": null,
       "layout": "IPY_MODEL_0784a3de3e9541f5a2b68b8766ec716b",
       "max": 5.0,
       "min": 0.0,
       "orientation": "horizontal",
       "style": "IPY_MODEL_bc6c1267000f4781805112ffc232c3ec",
       "value": 5.0
      }
     },
     "b741ed4b1512419ab425c77ab6514160": {
      "model_module": "@jupyter-widgets/controls",
      "model_module_version": "1.5.0",
      "model_name": "HTMLModel",
      "state": {
       "_dom_classes": [],
       "_model_module": "@jupyter-widgets/controls",
       "_model_module_version": "1.5.0",
       "_model_name": "HTMLModel",
       "_view_count": null,
       "_view_module": "@jupyter-widgets/controls",
       "_view_module_version": "1.5.0",
       "_view_name": "HTMLView",
       "description": "",
       "description_tooltip": null,
       "layout": "IPY_MODEL_fe95f659851742a387893e6eea0ec08b",
       "placeholder": "​",
       "style": "IPY_MODEL_5f70850f06794308bfef50ccfdee5552",
       "value": " 149/149 [00:34&lt;00:00,  2.77it/s, Completed]"
      }
     },
     "b8abd0de80fe4a28a5bdd1eb4a1cc56f": {
      "model_module": "@jupyter-widgets/base",
      "model_module_version": "1.2.0",
      "model_name": "LayoutModel",
      "state": {
       "_model_module": "@jupyter-widgets/base",
       "_model_module_version": "1.2.0",
       "_model_name": "LayoutModel",
       "_view_count": null,
       "_view_module": "@jupyter-widgets/base",
       "_view_module_version": "1.2.0",
       "_view_name": "LayoutView",
       "align_content": null,
       "align_items": null,
       "align_self": null,
       "border": null,
       "bottom": null,
       "display": null,
       "flex": null,
       "flex_flow": null,
       "grid_area": null,
       "grid_auto_columns": null,
       "grid_auto_flow": null,
       "grid_auto_rows": null,
       "grid_column": null,
       "grid_gap": null,
       "grid_row": null,
       "grid_template_areas": null,
       "grid_template_columns": null,
       "grid_template_rows": null,
       "height": null,
       "justify_content": null,
       "justify_items": null,
       "left": null,
       "margin": null,
       "max_height": null,
       "max_width": null,
       "min_height": null,
       "min_width": null,
       "object_fit": null,
       "object_position": null,
       "order": null,
       "overflow": null,
       "overflow_x": null,
       "overflow_y": null,
       "padding": null,
       "right": null,
       "top": null,
       "visibility": null,
       "width": null
      }
     },
     "bc6c1267000f4781805112ffc232c3ec": {
      "model_module": "@jupyter-widgets/controls",
      "model_module_version": "1.5.0",
      "model_name": "ProgressStyleModel",
      "state": {
       "_model_module": "@jupyter-widgets/controls",
       "_model_module_version": "1.5.0",
       "_model_name": "ProgressStyleModel",
       "_view_count": null,
       "_view_module": "@jupyter-widgets/base",
       "_view_module_version": "1.2.0",
       "_view_name": "StyleView",
       "bar_color": null,
       "description_width": ""
      }
     },
     "c00fddaf7d8c486eb59305d72358ed34": {
      "model_module": "@jupyter-widgets/base",
      "model_module_version": "1.2.0",
      "model_name": "LayoutModel",
      "state": {
       "_model_module": "@jupyter-widgets/base",
       "_model_module_version": "1.2.0",
       "_model_name": "LayoutModel",
       "_view_count": null,
       "_view_module": "@jupyter-widgets/base",
       "_view_module_version": "1.2.0",
       "_view_name": "LayoutView",
       "align_content": null,
       "align_items": null,
       "align_self": null,
       "border": null,
       "bottom": null,
       "display": null,
       "flex": null,
       "flex_flow": null,
       "grid_area": null,
       "grid_auto_columns": null,
       "grid_auto_flow": null,
       "grid_auto_rows": null,
       "grid_column": null,
       "grid_gap": null,
       "grid_row": null,
       "grid_template_areas": null,
       "grid_template_columns": null,
       "grid_template_rows": null,
       "height": null,
       "justify_content": null,
       "justify_items": null,
       "left": null,
       "margin": null,
       "max_height": null,
       "max_width": null,
       "min_height": null,
       "min_width": null,
       "object_fit": null,
       "object_position": null,
       "order": null,
       "overflow": null,
       "overflow_x": null,
       "overflow_y": null,
       "padding": null,
       "right": null,
       "top": null,
       "visibility": null,
       "width": null
      }
     },
     "c73ce662d79443a6852c3c2275f29926": {
      "model_module": "@jupyter-widgets/controls",
      "model_module_version": "1.5.0",
      "model_name": "HBoxModel",
      "state": {
       "_dom_classes": [],
       "_model_module": "@jupyter-widgets/controls",
       "_model_module_version": "1.5.0",
       "_model_name": "HBoxModel",
       "_view_count": null,
       "_view_module": "@jupyter-widgets/controls",
       "_view_module_version": "1.5.0",
       "_view_name": "HBoxView",
       "box_style": "",
       "children": [
        "IPY_MODEL_9976455f6787458f9a0ec9d6bb693b14",
        "IPY_MODEL_d2c8ae38d7b24d3a826313d26d48b208",
        "IPY_MODEL_8002b9c381324cafb7b49990fe970a7a"
       ],
       "layout": "IPY_MODEL_e2b954d9d7744ec7b079138bc5217099"
      }
     },
     "ccebb7d7c4f445e2a50bfab2cdf68ee9": {
      "model_module": "@jupyter-widgets/controls",
      "model_module_version": "1.5.0",
      "model_name": "HTMLModel",
      "state": {
       "_dom_classes": [],
       "_model_module": "@jupyter-widgets/controls",
       "_model_module_version": "1.5.0",
       "_model_name": "HTMLModel",
       "_view_count": null,
       "_view_module": "@jupyter-widgets/controls",
       "_view_module_version": "1.5.0",
       "_view_name": "HTMLView",
       "description": "",
       "description_tooltip": null,
       "layout": "IPY_MODEL_e6bea05558a1402a8adb8ea2cdf1c760",
       "placeholder": "​",
       "style": "IPY_MODEL_e5083eb7af9047cfab0ec486340dd5f8",
       "value": "Summarize dataset: 100%"
      }
     },
     "ce6af94d1edd4ac88b16bc53ba095f1c": {
      "model_module": "@jupyter-widgets/controls",
      "model_module_version": "1.5.0",
      "model_name": "DescriptionStyleModel",
      "state": {
       "_model_module": "@jupyter-widgets/controls",
       "_model_module_version": "1.5.0",
       "_model_name": "DescriptionStyleModel",
       "_view_count": null,
       "_view_module": "@jupyter-widgets/base",
       "_view_module_version": "1.2.0",
       "_view_name": "StyleView",
       "description_width": ""
      }
     },
     "d2c8ae38d7b24d3a826313d26d48b208": {
      "model_module": "@jupyter-widgets/controls",
      "model_module_version": "1.5.0",
      "model_name": "FloatProgressModel",
      "state": {
       "_dom_classes": [],
       "_model_module": "@jupyter-widgets/controls",
       "_model_module_version": "1.5.0",
       "_model_name": "FloatProgressModel",
       "_view_count": null,
       "_view_module": "@jupyter-widgets/controls",
       "_view_module_version": "1.5.0",
       "_view_name": "ProgressView",
       "bar_style": "success",
       "description": "",
       "description_tooltip": null,
       "layout": "IPY_MODEL_b8abd0de80fe4a28a5bdd1eb4a1cc56f",
       "max": 1.0,
       "min": 0.0,
       "orientation": "horizontal",
       "style": "IPY_MODEL_96f1c46e94b74d3a8d55eeff7f361a66",
       "value": 1.0
      }
     },
     "d59b32de23eb4532b0cac0cbbb904ce1": {
      "model_module": "@jupyter-widgets/controls",
      "model_module_version": "1.5.0",
      "model_name": "FloatProgressModel",
      "state": {
       "_dom_classes": [],
       "_model_module": "@jupyter-widgets/controls",
       "_model_module_version": "1.5.0",
       "_model_name": "FloatProgressModel",
       "_view_count": null,
       "_view_module": "@jupyter-widgets/controls",
       "_view_module_version": "1.5.0",
       "_view_name": "ProgressView",
       "bar_style": "success",
       "description": "",
       "description_tooltip": null,
       "layout": "IPY_MODEL_11e8f3122ac24e11a945300460bb5e50",
       "max": 1.0,
       "min": 0.0,
       "orientation": "horizontal",
       "style": "IPY_MODEL_e137757d50e84ec9828bc2dbec6a9bee",
       "value": 1.0
      }
     },
     "d82ec27f8e0045eab3cb7be3e440407a": {
      "model_module": "@jupyter-widgets/base",
      "model_module_version": "1.2.0",
      "model_name": "LayoutModel",
      "state": {
       "_model_module": "@jupyter-widgets/base",
       "_model_module_version": "1.2.0",
       "_model_name": "LayoutModel",
       "_view_count": null,
       "_view_module": "@jupyter-widgets/base",
       "_view_module_version": "1.2.0",
       "_view_name": "LayoutView",
       "align_content": null,
       "align_items": null,
       "align_self": null,
       "border": null,
       "bottom": null,
       "display": null,
       "flex": null,
       "flex_flow": null,
       "grid_area": null,
       "grid_auto_columns": null,
       "grid_auto_flow": null,
       "grid_auto_rows": null,
       "grid_column": null,
       "grid_gap": null,
       "grid_row": null,
       "grid_template_areas": null,
       "grid_template_columns": null,
       "grid_template_rows": null,
       "height": null,
       "justify_content": null,
       "justify_items": null,
       "left": null,
       "margin": null,
       "max_height": null,
       "max_width": null,
       "min_height": null,
       "min_width": null,
       "object_fit": null,
       "object_position": null,
       "order": null,
       "overflow": null,
       "overflow_x": null,
       "overflow_y": null,
       "padding": null,
       "right": null,
       "top": null,
       "visibility": null,
       "width": null
      }
     },
     "d9e0fb65e11645158998894fe9c7d351": {
      "model_module": "@jupyter-widgets/base",
      "model_module_version": "1.2.0",
      "model_name": "LayoutModel",
      "state": {
       "_model_module": "@jupyter-widgets/base",
       "_model_module_version": "1.2.0",
       "_model_name": "LayoutModel",
       "_view_count": null,
       "_view_module": "@jupyter-widgets/base",
       "_view_module_version": "1.2.0",
       "_view_name": "LayoutView",
       "align_content": null,
       "align_items": null,
       "align_self": null,
       "border": null,
       "bottom": null,
       "display": null,
       "flex": null,
       "flex_flow": null,
       "grid_area": null,
       "grid_auto_columns": null,
       "grid_auto_flow": null,
       "grid_auto_rows": null,
       "grid_column": null,
       "grid_gap": null,
       "grid_row": null,
       "grid_template_areas": null,
       "grid_template_columns": null,
       "grid_template_rows": null,
       "height": null,
       "justify_content": null,
       "justify_items": null,
       "left": null,
       "margin": null,
       "max_height": null,
       "max_width": null,
       "min_height": null,
       "min_width": null,
       "object_fit": null,
       "object_position": null,
       "order": null,
       "overflow": null,
       "overflow_x": null,
       "overflow_y": null,
       "padding": null,
       "right": null,
       "top": null,
       "visibility": null,
       "width": null
      }
     },
     "e137757d50e84ec9828bc2dbec6a9bee": {
      "model_module": "@jupyter-widgets/controls",
      "model_module_version": "1.5.0",
      "model_name": "ProgressStyleModel",
      "state": {
       "_model_module": "@jupyter-widgets/controls",
       "_model_module_version": "1.5.0",
       "_model_name": "ProgressStyleModel",
       "_view_count": null,
       "_view_module": "@jupyter-widgets/base",
       "_view_module_version": "1.2.0",
       "_view_name": "StyleView",
       "bar_color": null,
       "description_width": ""
      }
     },
     "e27f6379c0dd42c79c12e5b3538e90ec": {
      "model_module": "@jupyter-widgets/controls",
      "model_module_version": "1.5.0",
      "model_name": "DescriptionStyleModel",
      "state": {
       "_model_module": "@jupyter-widgets/controls",
       "_model_module_version": "1.5.0",
       "_model_name": "DescriptionStyleModel",
       "_view_count": null,
       "_view_module": "@jupyter-widgets/base",
       "_view_module_version": "1.2.0",
       "_view_name": "StyleView",
       "description_width": ""
      }
     },
     "e2b954d9d7744ec7b079138bc5217099": {
      "model_module": "@jupyter-widgets/base",
      "model_module_version": "1.2.0",
      "model_name": "LayoutModel",
      "state": {
       "_model_module": "@jupyter-widgets/base",
       "_model_module_version": "1.2.0",
       "_model_name": "LayoutModel",
       "_view_count": null,
       "_view_module": "@jupyter-widgets/base",
       "_view_module_version": "1.2.0",
       "_view_name": "LayoutView",
       "align_content": null,
       "align_items": null,
       "align_self": null,
       "border": null,
       "bottom": null,
       "display": null,
       "flex": null,
       "flex_flow": null,
       "grid_area": null,
       "grid_auto_columns": null,
       "grid_auto_flow": null,
       "grid_auto_rows": null,
       "grid_column": null,
       "grid_gap": null,
       "grid_row": null,
       "grid_template_areas": null,
       "grid_template_columns": null,
       "grid_template_rows": null,
       "height": null,
       "justify_content": null,
       "justify_items": null,
       "left": null,
       "margin": null,
       "max_height": null,
       "max_width": null,
       "min_height": null,
       "min_width": null,
       "object_fit": null,
       "object_position": null,
       "order": null,
       "overflow": null,
       "overflow_x": null,
       "overflow_y": null,
       "padding": null,
       "right": null,
       "top": null,
       "visibility": null,
       "width": null
      }
     },
     "e5083eb7af9047cfab0ec486340dd5f8": {
      "model_module": "@jupyter-widgets/controls",
      "model_module_version": "1.5.0",
      "model_name": "DescriptionStyleModel",
      "state": {
       "_model_module": "@jupyter-widgets/controls",
       "_model_module_version": "1.5.0",
       "_model_name": "DescriptionStyleModel",
       "_view_count": null,
       "_view_module": "@jupyter-widgets/base",
       "_view_module_version": "1.2.0",
       "_view_name": "StyleView",
       "description_width": ""
      }
     },
     "e6bea05558a1402a8adb8ea2cdf1c760": {
      "model_module": "@jupyter-widgets/base",
      "model_module_version": "1.2.0",
      "model_name": "LayoutModel",
      "state": {
       "_model_module": "@jupyter-widgets/base",
       "_model_module_version": "1.2.0",
       "_model_name": "LayoutModel",
       "_view_count": null,
       "_view_module": "@jupyter-widgets/base",
       "_view_module_version": "1.2.0",
       "_view_name": "LayoutView",
       "align_content": null,
       "align_items": null,
       "align_self": null,
       "border": null,
       "bottom": null,
       "display": null,
       "flex": null,
       "flex_flow": null,
       "grid_area": null,
       "grid_auto_columns": null,
       "grid_auto_flow": null,
       "grid_auto_rows": null,
       "grid_column": null,
       "grid_gap": null,
       "grid_row": null,
       "grid_template_areas": null,
       "grid_template_columns": null,
       "grid_template_rows": null,
       "height": null,
       "justify_content": null,
       "justify_items": null,
       "left": null,
       "margin": null,
       "max_height": null,
       "max_width": null,
       "min_height": null,
       "min_width": null,
       "object_fit": null,
       "object_position": null,
       "order": null,
       "overflow": null,
       "overflow_x": null,
       "overflow_y": null,
       "padding": null,
       "right": null,
       "top": null,
       "visibility": null,
       "width": null
      }
     },
     "e7f3ff9c4254400b901cf2ff4aa935b7": {
      "model_module": "@jupyter-widgets/controls",
      "model_module_version": "1.5.0",
      "model_name": "HBoxModel",
      "state": {
       "_dom_classes": [],
       "_model_module": "@jupyter-widgets/controls",
       "_model_module_version": "1.5.0",
       "_model_name": "HBoxModel",
       "_view_count": null,
       "_view_module": "@jupyter-widgets/controls",
       "_view_module_version": "1.5.0",
       "_view_name": "HBoxView",
       "box_style": "",
       "children": [
        "IPY_MODEL_ccebb7d7c4f445e2a50bfab2cdf68ee9",
        "IPY_MODEL_a108fae755b248cb9fb2ca239d81e348",
        "IPY_MODEL_b741ed4b1512419ab425c77ab6514160"
       ],
       "layout": "IPY_MODEL_d9e0fb65e11645158998894fe9c7d351"
      }
     },
     "e8d89376736b4a149a71294422c35c5b": {
      "model_module": "@jupyter-widgets/controls",
      "model_module_version": "1.5.0",
      "model_name": "DescriptionStyleModel",
      "state": {
       "_model_module": "@jupyter-widgets/controls",
       "_model_module_version": "1.5.0",
       "_model_name": "DescriptionStyleModel",
       "_view_count": null,
       "_view_module": "@jupyter-widgets/base",
       "_view_module_version": "1.2.0",
       "_view_name": "StyleView",
       "description_width": ""
      }
     },
     "fe95f659851742a387893e6eea0ec08b": {
      "model_module": "@jupyter-widgets/base",
      "model_module_version": "1.2.0",
      "model_name": "LayoutModel",
      "state": {
       "_model_module": "@jupyter-widgets/base",
       "_model_module_version": "1.2.0",
       "_model_name": "LayoutModel",
       "_view_count": null,
       "_view_module": "@jupyter-widgets/base",
       "_view_module_version": "1.2.0",
       "_view_name": "LayoutView",
       "align_content": null,
       "align_items": null,
       "align_self": null,
       "border": null,
       "bottom": null,
       "display": null,
       "flex": null,
       "flex_flow": null,
       "grid_area": null,
       "grid_auto_columns": null,
       "grid_auto_flow": null,
       "grid_auto_rows": null,
       "grid_column": null,
       "grid_gap": null,
       "grid_row": null,
       "grid_template_areas": null,
       "grid_template_columns": null,
       "grid_template_rows": null,
       "height": null,
       "justify_content": null,
       "justify_items": null,
       "left": null,
       "margin": null,
       "max_height": null,
       "max_width": null,
       "min_height": null,
       "min_width": null,
       "object_fit": null,
       "object_position": null,
       "order": null,
       "overflow": null,
       "overflow_x": null,
       "overflow_y": null,
       "padding": null,
       "right": null,
       "top": null,
       "visibility": null,
       "width": null
      }
     }
    },
    "version_major": 2,
    "version_minor": 0
   }
  }
 },
 "nbformat": 4,
 "nbformat_minor": 5
}