{
 "cells": [
  {
   "cell_type": "markdown",
   "id": "c8a676f1-a811-4a60-9786-b2a11fc7e5fd",
   "metadata": {
    "execution": {
     "iopub.execute_input": "2022-09-05T22:46:12.358397Z",
     "iopub.status.busy": "2022-09-05T22:46:12.357479Z",
     "iopub.status.idle": "2022-09-05T22:46:12.362365Z",
     "shell.execute_reply": "2022-09-05T22:46:12.361701Z"
    },
    "papermill": {
     "duration": 0.04474,
     "end_time": "2022-10-20T22:12:18.841010",
     "exception": false,
     "start_time": "2022-10-20T22:12:18.796270",
     "status": "completed"
    },
    "tags": [],
    "pycharm": {
     "name": "#%% md\n"
    }
   },
   "source": [
    "# 1. Improving credit card scoring through data quality"
   ]
  },
  {
   "cell_type": "markdown",
   "id": "0faf5f68",
   "metadata": {
    "papermill": {
     "duration": 0.045069,
     "end_time": "2022-10-20T22:12:18.929772",
     "exception": false,
     "start_time": "2022-10-20T22:12:18.884703",
     "status": "completed"
    },
    "tags": [],
    "pycharm": {
     "name": "#%% md\n"
    }
   },
   "source": [
    "We are all familiar with the axiom \"Garbage in, garbage out\", and this is very much true, specially in a setting and market where we see models getting more and more commmoditized. The business advatage will remain in the component that it is unique to every organization - the data.\n",
    "\n",
    "In every case - and particularly for credit scoring use cases - data preparation is a paramount. Nevertheless, and althoug the achievments we have observed in the past few years, data preparation is still the most challenging and time-consuming step. Ensuring data quality helps data teams to achieve bigger ROI from AI initiatives at a fraction of the effort it used to, translating into better scorecards that positively impact the business and customer experience.\n",
    "\n",
    "When we look into the credit scoring, there are particular issues that can dampen model accuracy - presence of outliers, missing values and the presence of imbalanced classes. \n",
    "\n",
    "In this usecase we will explore not only an iterative, traceable and comparable data processing for to improve the quality of the data for credit scorecards, but also how to mitigate each one of the identified challenges: missing data, presence of duplicates and last but not the least, imabalanced data.\n",
    "\n",
    "\n",
    "The dataset leveraged for the use-case can be easily found in [Kaggle - Give me some credit](https://www.kaggle.com/competitions/GiveMeSomeCredit/overview)."
   ]
  },
  {
   "cell_type": "markdown",
   "id": "522ccb94",
   "metadata": {
    "papermill": {
     "duration": 0.044454,
     "end_time": "2022-10-20T22:12:19.018587",
     "exception": false,
     "start_time": "2022-10-20T22:12:18.974133",
     "status": "completed"
    },
    "tags": [],
    "pycharm": {
     "name": "#%% md\n"
    }
   },
   "source": [
    "## Read the data\n",
    "\n",
    "The first step is to read the data. As Data Scientists it is usual to find the use of CSV as the main data sources. For that reason we enable a flexible interface to consume CSV data. \n",
    "\n",
    "- Through YData SDK - LocalConnector - this method returns automatically a Dataset object that is ready to be consumed in downstream applications such as Synthetisizer.\n",
    "- Leveraging pandas - Pandas is available in YData image. This method requires the data to be converted into Dataset, if the user wants to leverage downstream applications such as Synthesizers, or the scale from our distributed computing engine.\n",
    "\n",
    "In this particular example, we have decided to load the data while using pandas SDK method `read_csv`."
   ]
  },
  {
   "cell_type": "markdown",
   "id": "08918b8a-a05f-496d-9e66-6ca49449ff3e",
   "metadata": {
    "papermill": {
     "duration": 0.042212,
     "end_time": "2022-10-20T22:12:19.114395",
     "exception": false,
     "start_time": "2022-10-20T22:12:19.072183",
     "status": "completed"
    },
    "tags": [],
    "pycharm": {
     "name": "#%% md\n"
    }
   },
   "source": [
    "### Import needed packages"
   ]
  },
  {
   "cell_type": "code",
   "execution_count": 14,
   "id": "c6a63de2-d443-4bd9-a065-cd85759b7e0e",
   "metadata": {
    "papermill": {
     "duration": 1.428745,
     "end_time": "2022-10-20T22:12:20.586466",
     "exception": false,
     "start_time": "2022-10-20T22:12:19.157721",
     "status": "completed"
    },
    "tags": [],
    "pycharm": {
     "name": "#%%\n"
    }
   },
   "outputs": [],
   "source": [
    "import os\n",
    "\n",
    "import numpy as np\n",
    "import pandas as pd\n",
    "\n",
    "from ydata.utils.formats import read_json\n",
    "from ydata.dataset import Dataset\n",
    "from ydata.metadata import Metadata\n",
    "\n",
    "from ydata.connectors.filetype import FileType\n",
    "from ydata.connectors import GCSConnector"
   ]
  },
  {
   "cell_type": "markdown",
   "id": "77c0e416-786a-4cf9-bbf5-5383246a9c23",
   "metadata": {
    "pycharm": {
     "name": "#%% md\n"
    }
   },
   "source": [
    "### Read the data from a cloud storage"
   ]
  },
  {
   "cell_type": "code",
   "execution_count": 15,
   "id": "aca1c57e-9989-473c-813f-990ce0db5833",
   "metadata": {
    "pycharm": {
     "name": "#%%\n"
    }
   },
   "outputs": [],
   "source": [
    "token = read_json('ydata-academy.json')\n",
    "connector = GCSConnector(project_id=token['project_id'], keyfile_dict=token)"
   ]
  },
  {
   "cell_type": "code",
   "execution_count": 16,
   "id": "826e3e40-7da2-41d5-a9ef-b2996892b949",
   "metadata": {
    "papermill": {
     "duration": 3.398861,
     "end_time": "2022-10-20T22:12:24.031933",
     "exception": false,
     "start_time": "2022-10-20T22:12:20.633072",
     "status": "completed"
    },
    "tags": [],
    "pycharm": {
     "name": "#%%\n"
    }
   },
   "outputs": [
    {
     "name": "stdout",
     "output_type": "stream",
     "text": [
      "[########################################] | 100% Completed | 3.98 sms\n"
     ]
    }
   ],
   "source": [
    "dataset = connector.read_file('gs://ydata-academy/credit_scoring/data.csv', file_type=FileType.CSV)\n",
    "\n",
    "#Calculate the dataset Metadata\n",
    "metadata = Metadata(dataset)"
   ]
  },
  {
   "cell_type": "code",
   "execution_count": 17,
   "id": "31e7a014-864c-4229-b2f0-0a1ba3be81d9",
   "metadata": {
    "papermill": {
     "duration": 0.091209,
     "end_time": "2022-10-20T22:12:24.170590",
     "exception": false,
     "start_time": "2022-10-20T22:12:24.079381",
     "status": "completed"
    },
    "tags": [],
    "pycharm": {
     "name": "#%%\n"
    }
   },
   "outputs": [
    {
     "data": {
      "text/html": [
       "<div>\n",
       "<style scoped>\n",
       "    .dataframe tbody tr th:only-of-type {\n",
       "        vertical-align: middle;\n",
       "    }\n",
       "\n",
       "    .dataframe tbody tr th {\n",
       "        vertical-align: top;\n",
       "    }\n",
       "\n",
       "    .dataframe thead th {\n",
       "        text-align: right;\n",
       "    }\n",
       "</style>\n",
       "<table border=\"1\" class=\"dataframe\">\n",
       "  <thead>\n",
       "    <tr style=\"text-align: right;\">\n",
       "      <th></th>\n",
       "      <th>SeriousDlqin2yrs</th>\n",
       "      <th>RevolvingUtilizationOfUnsecuredLines</th>\n",
       "      <th>age</th>\n",
       "      <th>NumberOfTime30-59DaysPastDueNotWorse</th>\n",
       "      <th>DebtRatio</th>\n",
       "      <th>MonthlyIncome</th>\n",
       "      <th>NumberOfOpenCreditLinesAndLoans</th>\n",
       "      <th>NumberOfTimes90DaysLate</th>\n",
       "      <th>NumberRealEstateLoansOrLines</th>\n",
       "      <th>NumberOfTime60-89DaysPastDueNotWorse</th>\n",
       "      <th>NumberOfDependents</th>\n",
       "    </tr>\n",
       "  </thead>\n",
       "  <tbody>\n",
       "    <tr>\n",
       "      <th>0</th>\n",
       "      <td>1</td>\n",
       "      <td>0.766127</td>\n",
       "      <td>45</td>\n",
       "      <td>2</td>\n",
       "      <td>0.802982</td>\n",
       "      <td>9120.0</td>\n",
       "      <td>13</td>\n",
       "      <td>0</td>\n",
       "      <td>6</td>\n",
       "      <td>0</td>\n",
       "      <td>2.0</td>\n",
       "    </tr>\n",
       "    <tr>\n",
       "      <th>1</th>\n",
       "      <td>0</td>\n",
       "      <td>0.957151</td>\n",
       "      <td>40</td>\n",
       "      <td>0</td>\n",
       "      <td>0.121876</td>\n",
       "      <td>2600.0</td>\n",
       "      <td>4</td>\n",
       "      <td>0</td>\n",
       "      <td>0</td>\n",
       "      <td>0</td>\n",
       "      <td>1.0</td>\n",
       "    </tr>\n",
       "    <tr>\n",
       "      <th>2</th>\n",
       "      <td>0</td>\n",
       "      <td>0.658180</td>\n",
       "      <td>38</td>\n",
       "      <td>1</td>\n",
       "      <td>0.085113</td>\n",
       "      <td>3042.0</td>\n",
       "      <td>2</td>\n",
       "      <td>1</td>\n",
       "      <td>0</td>\n",
       "      <td>0</td>\n",
       "      <td>0.0</td>\n",
       "    </tr>\n",
       "    <tr>\n",
       "      <th>3</th>\n",
       "      <td>0</td>\n",
       "      <td>0.233810</td>\n",
       "      <td>30</td>\n",
       "      <td>0</td>\n",
       "      <td>0.036050</td>\n",
       "      <td>3300.0</td>\n",
       "      <td>5</td>\n",
       "      <td>0</td>\n",
       "      <td>0</td>\n",
       "      <td>0</td>\n",
       "      <td>0.0</td>\n",
       "    </tr>\n",
       "    <tr>\n",
       "      <th>4</th>\n",
       "      <td>0</td>\n",
       "      <td>0.907239</td>\n",
       "      <td>49</td>\n",
       "      <td>1</td>\n",
       "      <td>0.024926</td>\n",
       "      <td>63588.0</td>\n",
       "      <td>7</td>\n",
       "      <td>0</td>\n",
       "      <td>1</td>\n",
       "      <td>0</td>\n",
       "      <td>0.0</td>\n",
       "    </tr>\n",
       "    <tr>\n",
       "      <th>5</th>\n",
       "      <td>0</td>\n",
       "      <td>0.213179</td>\n",
       "      <td>74</td>\n",
       "      <td>0</td>\n",
       "      <td>0.375607</td>\n",
       "      <td>3500.0</td>\n",
       "      <td>3</td>\n",
       "      <td>0</td>\n",
       "      <td>1</td>\n",
       "      <td>0</td>\n",
       "      <td>1.0</td>\n",
       "    </tr>\n",
       "    <tr>\n",
       "      <th>6</th>\n",
       "      <td>0</td>\n",
       "      <td>0.305682</td>\n",
       "      <td>57</td>\n",
       "      <td>0</td>\n",
       "      <td>5710.000000</td>\n",
       "      <td>NaN</td>\n",
       "      <td>8</td>\n",
       "      <td>0</td>\n",
       "      <td>3</td>\n",
       "      <td>0</td>\n",
       "      <td>0.0</td>\n",
       "    </tr>\n",
       "    <tr>\n",
       "      <th>7</th>\n",
       "      <td>0</td>\n",
       "      <td>0.754464</td>\n",
       "      <td>39</td>\n",
       "      <td>0</td>\n",
       "      <td>0.209940</td>\n",
       "      <td>3500.0</td>\n",
       "      <td>8</td>\n",
       "      <td>0</td>\n",
       "      <td>0</td>\n",
       "      <td>0</td>\n",
       "      <td>0.0</td>\n",
       "    </tr>\n",
       "    <tr>\n",
       "      <th>8</th>\n",
       "      <td>0</td>\n",
       "      <td>0.116951</td>\n",
       "      <td>27</td>\n",
       "      <td>0</td>\n",
       "      <td>46.000000</td>\n",
       "      <td>NaN</td>\n",
       "      <td>2</td>\n",
       "      <td>0</td>\n",
       "      <td>0</td>\n",
       "      <td>0</td>\n",
       "      <td>NaN</td>\n",
       "    </tr>\n",
       "    <tr>\n",
       "      <th>9</th>\n",
       "      <td>0</td>\n",
       "      <td>0.189169</td>\n",
       "      <td>57</td>\n",
       "      <td>0</td>\n",
       "      <td>0.606291</td>\n",
       "      <td>23684.0</td>\n",
       "      <td>9</td>\n",
       "      <td>0</td>\n",
       "      <td>4</td>\n",
       "      <td>0</td>\n",
       "      <td>2.0</td>\n",
       "    </tr>\n",
       "    <tr>\n",
       "      <th>10</th>\n",
       "      <td>0</td>\n",
       "      <td>0.644226</td>\n",
       "      <td>30</td>\n",
       "      <td>0</td>\n",
       "      <td>0.309476</td>\n",
       "      <td>2500.0</td>\n",
       "      <td>5</td>\n",
       "      <td>0</td>\n",
       "      <td>0</td>\n",
       "      <td>0</td>\n",
       "      <td>0.0</td>\n",
       "    </tr>\n",
       "    <tr>\n",
       "      <th>11</th>\n",
       "      <td>0</td>\n",
       "      <td>0.018798</td>\n",
       "      <td>51</td>\n",
       "      <td>0</td>\n",
       "      <td>0.531529</td>\n",
       "      <td>6501.0</td>\n",
       "      <td>7</td>\n",
       "      <td>0</td>\n",
       "      <td>2</td>\n",
       "      <td>0</td>\n",
       "      <td>2.0</td>\n",
       "    </tr>\n",
       "    <tr>\n",
       "      <th>12</th>\n",
       "      <td>0</td>\n",
       "      <td>0.010352</td>\n",
       "      <td>46</td>\n",
       "      <td>0</td>\n",
       "      <td>0.298354</td>\n",
       "      <td>12454.0</td>\n",
       "      <td>13</td>\n",
       "      <td>0</td>\n",
       "      <td>2</td>\n",
       "      <td>0</td>\n",
       "      <td>2.0</td>\n",
       "    </tr>\n",
       "    <tr>\n",
       "      <th>13</th>\n",
       "      <td>1</td>\n",
       "      <td>0.964673</td>\n",
       "      <td>40</td>\n",
       "      <td>3</td>\n",
       "      <td>0.382965</td>\n",
       "      <td>13700.0</td>\n",
       "      <td>9</td>\n",
       "      <td>3</td>\n",
       "      <td>1</td>\n",
       "      <td>1</td>\n",
       "      <td>2.0</td>\n",
       "    </tr>\n",
       "    <tr>\n",
       "      <th>14</th>\n",
       "      <td>0</td>\n",
       "      <td>0.019657</td>\n",
       "      <td>76</td>\n",
       "      <td>0</td>\n",
       "      <td>477.000000</td>\n",
       "      <td>0.0</td>\n",
       "      <td>6</td>\n",
       "      <td>0</td>\n",
       "      <td>1</td>\n",
       "      <td>0</td>\n",
       "      <td>0.0</td>\n",
       "    </tr>\n",
       "    <tr>\n",
       "      <th>15</th>\n",
       "      <td>0</td>\n",
       "      <td>0.548458</td>\n",
       "      <td>64</td>\n",
       "      <td>0</td>\n",
       "      <td>0.209892</td>\n",
       "      <td>11362.0</td>\n",
       "      <td>7</td>\n",
       "      <td>0</td>\n",
       "      <td>1</td>\n",
       "      <td>0</td>\n",
       "      <td>2.0</td>\n",
       "    </tr>\n",
       "    <tr>\n",
       "      <th>16</th>\n",
       "      <td>0</td>\n",
       "      <td>0.061086</td>\n",
       "      <td>78</td>\n",
       "      <td>0</td>\n",
       "      <td>2058.000000</td>\n",
       "      <td>NaN</td>\n",
       "      <td>10</td>\n",
       "      <td>0</td>\n",
       "      <td>2</td>\n",
       "      <td>0</td>\n",
       "      <td>0.0</td>\n",
       "    </tr>\n",
       "    <tr>\n",
       "      <th>17</th>\n",
       "      <td>0</td>\n",
       "      <td>0.166284</td>\n",
       "      <td>53</td>\n",
       "      <td>0</td>\n",
       "      <td>0.188274</td>\n",
       "      <td>8800.0</td>\n",
       "      <td>7</td>\n",
       "      <td>0</td>\n",
       "      <td>0</td>\n",
       "      <td>0</td>\n",
       "      <td>0.0</td>\n",
       "    </tr>\n",
       "    <tr>\n",
       "      <th>18</th>\n",
       "      <td>0</td>\n",
       "      <td>0.221813</td>\n",
       "      <td>43</td>\n",
       "      <td>0</td>\n",
       "      <td>0.527888</td>\n",
       "      <td>3280.0</td>\n",
       "      <td>7</td>\n",
       "      <td>0</td>\n",
       "      <td>1</td>\n",
       "      <td>0</td>\n",
       "      <td>2.0</td>\n",
       "    </tr>\n",
       "    <tr>\n",
       "      <th>19</th>\n",
       "      <td>0</td>\n",
       "      <td>0.602794</td>\n",
       "      <td>25</td>\n",
       "      <td>0</td>\n",
       "      <td>0.065868</td>\n",
       "      <td>333.0</td>\n",
       "      <td>2</td>\n",
       "      <td>0</td>\n",
       "      <td>0</td>\n",
       "      <td>0</td>\n",
       "      <td>0.0</td>\n",
       "    </tr>\n",
       "  </tbody>\n",
       "</table>\n",
       "</div>"
      ],
      "text/plain": [
       "    SeriousDlqin2yrs  ...  NumberOfDependents\n",
       "0                  1  ...                 2.0\n",
       "1                  0  ...                 1.0\n",
       "2                  0  ...                 0.0\n",
       "3                  0  ...                 0.0\n",
       "4                  0  ...                 0.0\n",
       "5                  0  ...                 1.0\n",
       "6                  0  ...                 0.0\n",
       "7                  0  ...                 0.0\n",
       "8                  0  ...                 NaN\n",
       "9                  0  ...                 2.0\n",
       "10                 0  ...                 0.0\n",
       "11                 0  ...                 2.0\n",
       "12                 0  ...                 2.0\n",
       "13                 1  ...                 2.0\n",
       "14                 0  ...                 0.0\n",
       "15                 0  ...                 2.0\n",
       "16                 0  ...                 0.0\n",
       "17                 0  ...                 0.0\n",
       "18                 0  ...                 2.0\n",
       "19                 0  ...                 0.0\n",
       "\n",
       "[20 rows x 11 columns]"
      ]
     },
     "execution_count": 17,
     "metadata": {},
     "output_type": "execute_result"
    }
   ],
   "source": [
    "dataset.head(20)"
   ]
  },
  {
   "cell_type": "markdown",
   "id": "5533a97a",
   "metadata": {
    "papermill": {
     "duration": 0.044436,
     "end_time": "2022-10-20T22:12:24.261125",
     "exception": false,
     "start_time": "2022-10-20T22:12:24.216689",
     "status": "completed"
    },
    "tags": [],
    "pycharm": {
     "name": "#%% md\n"
    }
   },
   "source": [
    "## Preparing the data for the data preparation workflow\n",
    "Now that we have our dataset ready to start working, before any data analysis and preparation it is always recommended to create a holdout. This ensures unbiased results in terms of improvements achieved. "
   ]
  },
  {
   "cell_type": "code",
   "execution_count": 23,
   "id": "a02ca02d-5355-4854-9bd7-c5ce60e078a9",
   "metadata": {
    "pycharm": {
     "name": "#%%\n"
    }
   },
   "outputs": [],
   "source": [
    "data = dataset.to_pandas()"
   ]
  },
  {
   "cell_type": "code",
   "execution_count": 24,
   "id": "d2268fe6-f241-4ad7-a2be-d362693a91ac",
   "metadata": {
    "papermill": {
     "duration": 0.056558,
     "end_time": "2022-10-20T22:12:24.365792",
     "exception": false,
     "start_time": "2022-10-20T22:12:24.309234",
     "status": "completed"
    },
    "tags": [],
    "pycharm": {
     "name": "#%%\n"
    }
   },
   "outputs": [],
   "source": [
    "try:\n",
    "    holdout_size=float(os.environ['HOLDOUT_SIZE'])\n",
    "except:\n",
    "    holdout_size=0.15"
   ]
  },
  {
   "cell_type": "code",
   "execution_count": 25,
   "id": "b22df9c3-a725-4ac5-9954-4b523d208a29",
   "metadata": {
    "papermill": {
     "duration": 0.070444,
     "end_time": "2022-10-20T22:12:24.486419",
     "exception": false,
     "start_time": "2022-10-20T22:12:24.415975",
     "status": "completed"
    },
    "tags": [],
    "pycharm": {
     "name": "#%%\n"
    }
   },
   "outputs": [],
   "source": [
    "#Creating the holdout set\n",
    "msk = np.random.rand(len(data)) < (1-holdout_size)\n",
    "test = data[~msk]\n",
    "data = data[msk]"
   ]
  },
  {
   "cell_type": "code",
   "execution_count": null,
   "id": "ce11e60d-02c0-49ab-b47e-b5ff98f6a41f",
   "metadata": {
    "papermill": {
     "duration": 2.921434,
     "end_time": "2022-10-20T22:12:27.457999",
     "exception": false,
     "start_time": "2022-10-20T22:12:24.536565",
     "status": "completed"
    },
    "tags": [],
    "pycharm": {
     "name": "#%%\n"
    }
   },
   "outputs": [],
   "source": [
    "dataset = Dataset(data)\n",
    "metadata = Metadata(dataset)"
   ]
  },
  {
   "cell_type": "code",
   "execution_count": null,
   "id": "ba4f95bb-63d3-40e1-89a0-293a8f8c11d0",
   "metadata": {
    "papermill": {
     "duration": 0.061234,
     "end_time": "2022-10-20T22:12:27.567967",
     "exception": false,
     "start_time": "2022-10-20T22:12:27.506733",
     "status": "completed"
    },
    "tags": [],
    "pycharm": {
     "name": "#%%\n"
    }
   },
   "outputs": [],
   "source": [
    "print(metadata)"
   ]
  },
  {
   "cell_type": "code",
   "execution_count": null,
   "id": "60b64e59-3ed3-48be-a583-b8194c6e6187",
   "metadata": {
    "papermill": {
     "duration": 0.059256,
     "end_time": "2022-10-20T22:12:27.677383",
     "exception": false,
     "start_time": "2022-10-20T22:12:27.618127",
     "status": "completed"
    },
    "tags": [],
    "pycharm": {
     "name": "#%%\n"
    }
   },
   "outputs": [],
   "source": [
    "#Get metadata warnings\n",
    "warnings=[]\n",
    "for warning, val in metadata.warnings.items():\n",
    "    for col in val:\n",
    "        try:\n",
    "            level = col.details['level'].name\n",
    "            value = round(col.details['value'], 4)\n",
    "        except:\n",
    "            level = None\n",
    "            value = None\n",
    "        warnings.append({'warning': warning, 'column': col.column, 'level': level, 'value':value})\n",
    "\n",
    "df_warnings= pd.DataFrame(warnings)"
   ]
  },
  {
   "cell_type": "markdown",
   "id": "b5ecf980-edf0-4135-a541-73bb9c08f921",
   "metadata": {
    "execution": {
     "iopub.execute_input": "2022-09-05T22:46:16.495431Z",
     "iopub.status.busy": "2022-09-05T22:46:16.494648Z",
     "iopub.status.idle": "2022-09-05T22:46:16.498307Z",
     "shell.execute_reply": "2022-09-05T22:46:16.497592Z"
    },
    "papermill": {
     "duration": 0.047756,
     "end_time": "2022-10-20T22:12:27.774331",
     "exception": false,
     "start_time": "2022-10-20T22:12:27.726575",
     "status": "completed"
    },
    "tags": [],
    "pycharm": {
     "name": "#%% md\n"
    }
   },
   "source": [
    "## Create pipeline outputs\n",
    "Setting our pipeline outputs to share data and artifacts in-between the different steps of the pipeline, as well as for visualization.\n",
    "\n",
    "### Outputs"
   ]
  },
  {
   "cell_type": "code",
   "execution_count": 9,
   "id": "131ad374-9a13-44bb-8e9a-c4e62ad96ef1",
   "metadata": {
    "execution": {
     "iopub.execute_input": "2022-10-20T22:12:27.879929Z",
     "iopub.status.busy": "2022-10-20T22:12:27.879542Z",
     "iopub.status.idle": "2022-10-20T22:12:28.914424Z",
     "shell.execute_reply": "2022-10-20T22:12:28.913116Z"
    },
    "papermill": {
     "duration": 1.091739,
     "end_time": "2022-10-20T22:12:28.917253",
     "exception": false,
     "start_time": "2022-10-20T22:12:27.825514",
     "status": "completed"
    },
    "tags": [],
    "pycharm": {
     "name": "#%%\n"
    }
   },
   "outputs": [],
   "source": [
    "#Save the train metadata\n",
    "metadata.save('metadata.pkl')\n",
    "\n",
    "#Save the train dataset\n",
    "data.to_csv('train.csv')\n",
    "\n",
    "#Save the holdout set\n",
    "test.to_csv('test.csv')"
   ]
  },
  {
   "cell_type": "markdown",
   "id": "e07018e2-1d55-4d72-a724-068bc06f97e6",
   "metadata": {
    "papermill": {
     "duration": 0.051617,
     "end_time": "2022-10-20T22:12:29.022357",
     "exception": false,
     "start_time": "2022-10-20T22:12:28.970740",
     "status": "completed"
    },
    "tags": [],
    "pycharm": {
     "name": "#%% md\n"
    }
   },
   "source": [
    "### Visualizations"
   ]
  },
  {
   "cell_type": "code",
   "execution_count": 10,
   "id": "8c08efaf-cc84-4d32-be7a-cda1f7a28cbb",
   "metadata": {
    "execution": {
     "iopub.execute_input": "2022-10-20T22:12:29.124659Z",
     "iopub.status.busy": "2022-10-20T22:12:29.123648Z",
     "iopub.status.idle": "2022-10-20T22:12:29.170849Z",
     "shell.execute_reply": "2022-10-20T22:12:29.169343Z"
    },
    "papermill": {
     "duration": 0.100741,
     "end_time": "2022-10-20T22:12:29.174622",
     "exception": false,
     "start_time": "2022-10-20T22:12:29.073881",
     "status": "completed"
    },
    "tags": [],
    "pycharm": {
     "name": "#%%\n"
    }
   },
   "outputs": [],
   "source": [
    "import json\n",
    "\n",
    "metadata = {\n",
    "    'outputs' : [\n",
    "        {\n",
    "      'type': 'table',\n",
    "      'storage': 'inline',\n",
    "      'format': 'csv',\n",
    "      'header': list(df_warnings.columns),\n",
    "      'source': df_warnings.to_csv(header=False, index=False)\n",
    "    }\n",
    "    ]\n",
    "  }\n",
    "\n",
    "with open('mlpipeline-ui-metadata.json', 'w') as metadata_file:\n",
    "    json.dump(metadata, metadata_file)"
   ]
  }
 ],
 "metadata": {
  "kernelspec": {
   "display_name": "Python 3 (ipykernel)",
   "language": "python",
   "name": "python3"
  },
  "language_info": {
   "codemirror_mode": {
    "name": "ipython",
    "version": 3
   },
   "file_extension": ".py",
   "mimetype": "text/x-python",
   "name": "python",
   "nbconvert_exporter": "python",
   "pygments_lexer": "ipython3",
   "version": "3.8.13"
  },
  "papermill": {
   "default_parameters": {},
   "duration": 12.264266,
   "end_time": "2022-10-20T22:12:29.641723",
   "environment_variables": {},
   "exception": null,
   "input_path": "/mnt/laboratory/1ffabd97-374f-483a-885a-d025b3a2e2ef/01_Read_dataset.ipynb",
   "output_path": "/mnt/laboratory/1ffabd97-374f-483a-885a-d025b3a2e2ef/01_Read_dataset.ipynb",
   "parameters": {},
   "start_time": "2022-10-20T22:12:17.377457",
   "version": "2.4.0"
  }
 },
 "nbformat": 4,
 "nbformat_minor": 5
}