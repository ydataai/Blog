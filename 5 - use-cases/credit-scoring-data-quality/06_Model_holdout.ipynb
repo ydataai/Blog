{
 "cells": [
  {
   "cell_type": "markdown",
   "id": "fbf2b30f-4258-48e5-b641-dbbda7bc0a30",
   "metadata": {
    "papermill": {
     "duration": 0.048247,
     "end_time": "2022-10-20T22:16:55.513774",
     "exception": false,
     "start_time": "2022-10-20T22:16:55.465527",
     "status": "completed"
    },
    "tags": []
   },
   "source": [
    "### Import needed packages"
   ]
  },
  {
   "cell_type": "code",
   "execution_count": 1,
   "id": "9191fd1c-ee37-461a-a17f-00c02bca577b",
   "metadata": {
    "execution": {
     "iopub.execute_input": "2022-10-20T22:16:55.661161Z",
     "iopub.status.busy": "2022-10-20T22:16:55.660372Z",
     "iopub.status.idle": "2022-10-20T22:16:56.625992Z",
     "shell.execute_reply": "2022-10-20T22:16:56.624911Z"
    },
    "papermill": {
     "duration": 1.047275,
     "end_time": "2022-10-20T22:16:56.628904",
     "exception": false,
     "start_time": "2022-10-20T22:16:55.581629",
     "status": "completed"
    },
    "tags": []
   },
   "outputs": [],
   "source": [
    "import pickle\n",
    "\n",
    "import numpy as np\n",
    "import pandas as pd\n",
    "\n",
    "from sklearn.metrics import (f1_score, precision_score, recall_score, roc_auc_score, accuracy_score, confusion_matrix)\n",
    "from sklearn.calibration import CalibratedClassifierCV, calibration_curve"
   ]
  },
  {
   "cell_type": "code",
   "execution_count": 2,
   "id": "0d50bcff-2d1f-4c0f-b79e-10ba3f9d3fea",
   "metadata": {
    "execution": {
     "iopub.execute_input": "2022-10-20T22:16:56.715695Z",
     "iopub.status.busy": "2022-10-20T22:16:56.715066Z",
     "iopub.status.idle": "2022-10-20T22:16:56.795251Z",
     "shell.execute_reply": "2022-10-20T22:16:56.794203Z"
    },
    "papermill": {
     "duration": 0.125309,
     "end_time": "2022-10-20T22:16:56.797569",
     "exception": false,
     "start_time": "2022-10-20T22:16:56.672260",
     "status": "completed"
    },
    "tags": []
   },
   "outputs": [],
   "source": [
    "try:\n",
    "    test_data_path = os.environ['TEST_SPLIT']\n",
    "except:\n",
    "    test_data_path = 'test.csv'\n",
    "    \n",
    "test_data = pd.read_csv(test_data_path, index_col=[0])"
   ]
  },
  {
   "cell_type": "code",
   "execution_count": 3,
   "id": "48141578-2b13-4ec6-b494-209adadfe928",
   "metadata": {
    "execution": {
     "iopub.execute_input": "2022-10-20T22:16:56.884092Z",
     "iopub.status.busy": "2022-10-20T22:16:56.883214Z",
     "iopub.status.idle": "2022-10-20T22:16:59.828606Z",
     "shell.execute_reply": "2022-10-20T22:16:59.827153Z"
    },
    "papermill": {
     "duration": 2.992451,
     "end_time": "2022-10-20T22:16:59.831456",
     "exception": false,
     "start_time": "2022-10-20T22:16:56.839005",
     "status": "completed"
    },
    "tags": []
   },
   "outputs": [],
   "source": [
    "#Read the trained models\n",
    "model = pickle.load(open('best_model.pkl', 'rb'))\n",
    "\n",
    "#Read the preprocessing flow parameters\n",
    "prep = pickle.load(open('prep_parameters.pkl', 'rb'))\n",
    "\n",
    "#Import the prep method \n",
    "if prep['Imputation']:\n",
    "    imputer = pickle.load(open('prep_parameters.pkl', 'rb'))"
   ]
  },
  {
   "cell_type": "markdown",
   "id": "ed63bcc0-d631-4780-9f6e-d1971bc72b5d",
   "metadata": {
    "papermill": {
     "duration": 0.042756,
     "end_time": "2022-10-20T22:16:59.915867",
     "exception": false,
     "start_time": "2022-10-20T22:16:59.873111",
     "status": "completed"
    },
    "tags": []
   },
   "source": [
    "### Preprocess the holdout set"
   ]
  },
  {
   "cell_type": "code",
   "execution_count": 4,
   "id": "339c3c6e-f3a7-420b-9095-08b4febccbf2",
   "metadata": {
    "execution": {
     "iopub.execute_input": "2022-10-20T22:17:00.002650Z",
     "iopub.status.busy": "2022-10-20T22:17:00.002200Z",
     "iopub.status.idle": "2022-10-20T22:17:00.030536Z",
     "shell.execute_reply": "2022-10-20T22:17:00.028267Z"
    },
    "papermill": {
     "duration": 0.075213,
     "end_time": "2022-10-20T22:17:00.032837",
     "exception": false,
     "start_time": "2022-10-20T22:16:59.957624",
     "status": "completed"
    },
    "tags": []
   },
   "outputs": [],
   "source": [
    "X = test_data.dropna()\n",
    "y = np.round(pd.DataFrame(X['SeriousDlqin2yrs']))\n",
    "X = X.drop('SeriousDlqin2yrs', axis=1)"
   ]
  },
  {
   "cell_type": "code",
   "execution_count": 5,
   "id": "bfcbc074-662c-4066-82a0-ff18765ec3c6",
   "metadata": {
    "execution": {
     "iopub.execute_input": "2022-10-20T22:17:00.122469Z",
     "iopub.status.busy": "2022-10-20T22:17:00.121649Z",
     "iopub.status.idle": "2022-10-20T22:17:00.870857Z",
     "shell.execute_reply": "2022-10-20T22:17:00.869665Z"
    },
    "papermill": {
     "duration": 0.797744,
     "end_time": "2022-10-20T22:17:00.873177",
     "exception": false,
     "start_time": "2022-10-20T22:17:00.075433",
     "status": "completed"
    },
    "tags": []
   },
   "outputs": [],
   "source": [
    "pred_proba = model.predict(X)"
   ]
  },
  {
   "cell_type": "code",
   "execution_count": 6,
   "id": "1959b96c-cd31-4734-864d-1ea02b7a7b2c",
   "metadata": {
    "execution": {
     "iopub.execute_input": "2022-10-20T22:17:00.963351Z",
     "iopub.status.busy": "2022-10-20T22:17:00.963016Z",
     "iopub.status.idle": "2022-10-20T22:17:01.000979Z",
     "shell.execute_reply": "2022-10-20T22:17:00.999674Z"
    },
    "papermill": {
     "duration": 0.088315,
     "end_time": "2022-10-20T22:17:01.003501",
     "exception": false,
     "start_time": "2022-10-20T22:17:00.915186",
     "status": "completed"
    },
    "tags": []
   },
   "outputs": [
    {
     "name": "stdout",
     "output_type": "stream",
     "text": [
      "Roc_auc: 0.9223712079895398\n",
      "Precision: 0.6146234194612424\n",
      "Recall: 0.8858954041204438\n",
      "Accuracy: 0.9538150415391342\n",
      "F1 Score: 0.7257383966244726\n"
     ]
    }
   ],
   "source": [
    "recall = recall_score(y, pred_proba)\n",
    "roc_auc = roc_auc_score(y, pred_proba)\n",
    "f1 = f1_score(y, pred_proba)\n",
    "precision = precision_score(y, pred_proba)\n",
    "accuracy = accuracy_score(y, pred_proba)\n",
    "print(f'Roc_auc: {roc_auc}')\n",
    "print(f'Precision: {precision}')\n",
    "print(f'Recall: {recall}')\n",
    "print(f'Accuracy: {accuracy}')\n",
    "print(f'F1 Score: {f1}')"
   ]
  },
  {
   "cell_type": "markdown",
   "id": "85a7f796-0a4a-4cd3-ac51-59b4401388e0",
   "metadata": {
    "papermill": {
     "duration": 0.04252,
     "end_time": "2022-10-20T22:17:01.092845",
     "exception": false,
     "start_time": "2022-10-20T22:17:01.050325",
     "status": "completed"
    },
    "tags": []
   },
   "source": [
    "## Ouputs"
   ]
  },
  {
   "cell_type": "code",
   "execution_count": 7,
   "id": "596ec37c-592c-4207-9edb-79bc25e5fc73",
   "metadata": {
    "execution": {
     "iopub.execute_input": "2022-10-20T22:17:01.178272Z",
     "iopub.status.busy": "2022-10-20T22:17:01.177898Z",
     "iopub.status.idle": "2022-10-20T22:17:01.224842Z",
     "shell.execute_reply": "2022-10-20T22:17:01.223655Z"
    },
    "papermill": {
     "duration": 0.093636,
     "end_time": "2022-10-20T22:17:01.227710",
     "exception": false,
     "start_time": "2022-10-20T22:17:01.134074",
     "status": "completed"
    },
    "tags": []
   },
   "outputs": [],
   "source": [
    "import json\n",
    "\n",
    "metrics = {\n",
    "'metrics': [\n",
    "    {\n",
    "        'name': 'f1-score',\n",
    "        'numberValue':  f1,\n",
    "        'format': 'PERCENTAGE'\n",
    "    },\n",
    "    {\n",
    "        'name': 'recall-score',\n",
    "        'numberValue':  recall,\n",
    "        'format': 'PERCENTAGE'       \n",
    "    },\n",
    "    {\n",
    "        'name': 'roc-auc-score',\n",
    "        'numberValue':  roc_auc,\n",
    "        'format': 'PERCENTAGE'       \n",
    "    },\n",
    "    {\n",
    "        'name': 'precision-score',\n",
    "        'numberValue':  precision,\n",
    "        'format': 'PERCENTAGE'       \n",
    "    },\n",
    "    {\n",
    "        'name': 'wdata-imp-strategy',\n",
    "        'numberValue': prep['Imputation'],\n",
    "        'format': 'RAW'\n",
    "    },\n",
    "    {\n",
    "        'name': 'wdata-aug-strategy',\n",
    "        'numberValue': prep['Balancing'],\n",
    "        'format': 'RAW'\n",
    "    },\n",
    "]\n",
    "}\n",
    "\n",
    "with open('mlpipeline-metrics.json', 'w') as f:\n",
    "    json.dump(metrics, f)"
   ]
  }
 ],
 "metadata": {
  "kernelspec": {
   "display_name": "Python 3 (ipykernel)",
   "language": "python",
   "name": "python3"
  },
  "language_info": {
   "codemirror_mode": {
    "name": "ipython",
    "version": 3
   },
   "file_extension": ".py",
   "mimetype": "text/x-python",
   "name": "python",
   "nbconvert_exporter": "python",
   "pygments_lexer": "ipython3",
   "version": "3.8.13"
  },
  "papermill": {
   "default_parameters": {},
   "duration": 7.536404,
   "end_time": "2022-10-20T22:17:01.694169",
   "environment_variables": {},
   "exception": null,
   "input_path": "/mnt/laboratory/1ffabd97-374f-483a-885a-d025b3a2e2ef/06_Model_holdout.ipynb",
   "output_path": "/mnt/laboratory/1ffabd97-374f-483a-885a-d025b3a2e2ef/06_Model_holdout.ipynb",
   "parameters": {},
   "start_time": "2022-10-20T22:16:54.157765",
   "version": "2.4.0"
  }
 },
 "nbformat": 4,
 "nbformat_minor": 5
}