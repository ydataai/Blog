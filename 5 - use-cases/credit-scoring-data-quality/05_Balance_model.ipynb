{
 "cells": [
  {
   "cell_type": "markdown",
   "id": "3da70f32",
   "metadata": {
    "papermill": {
     "duration": 0.043644,
     "end_time": "2022-10-20T22:15:00.250676",
     "exception": false,
     "start_time": "2022-10-20T22:15:00.207032",
     "status": "completed"
    },
    "tags": []
   },
   "source": [
    "# 5. Imbalanced classes\n",
    "\n",
    "## Synthesize and Modeling the Data \n",
    "\n",
    "Oftenly in credit scoring use-cases and mainly in porfolios of secured loans as mortage loans, there is a significant presence of class imbalancement. Class imbalance occurs when the number of a certain class outweights the number of other classes present in the dataset. If a naive classifier model is used under the presence of imbalanced classes, it can achieve high accuracy by assigning all cases to the majority class - but this is very damaging for a a business and can have high costs associated with it.\n",
    "\n",
    "\n",
    "\n",
    "Since we had earlier diagnosed an imbalanced class problem, using YData's state-of-the-art synthesizers, we can generate synthetic data for the minority class and balance it.\n",
    "\n",
    "However, we would only do so for the training dataset, thus continuously evaluating the performance against the real unaltered test dataset."
   ]
  },
  {
   "cell_type": "markdown",
   "id": "96d0b698-7e76-4fc5-a8f6-73eb1b3fa68e",
   "metadata": {
    "papermill": {
     "duration": 0.044191,
     "end_time": "2022-10-20T22:15:00.336858",
     "exception": false,
     "start_time": "2022-10-20T22:15:00.292667",
     "status": "completed"
    },
    "tags": []
   },
   "source": [
    "### Import the needed packages"
   ]
  },
  {
   "cell_type": "code",
   "execution_count": 1,
   "id": "f065aa5e-c316-4686-8e15-e202a2015709",
   "metadata": {
    "execution": {
     "iopub.execute_input": "2022-10-20T22:15:00.426334Z",
     "iopub.status.busy": "2022-10-20T22:15:00.425743Z",
     "iopub.status.idle": "2022-10-20T22:15:03.382436Z",
     "shell.execute_reply": "2022-10-20T22:15:03.381149Z"
    },
    "papermill": {
     "duration": 3.00487,
     "end_time": "2022-10-20T22:15:03.385320",
     "exception": false,
     "start_time": "2022-10-20T22:15:00.380450",
     "status": "completed"
    },
    "tags": []
   },
   "outputs": [],
   "source": [
    "import os\n",
    "import sys\n",
    "\n",
    "import pickle \n",
    "\n",
    "import pandas as pd\n",
    "\n",
    "from balance_model_training import train_model, augment_minority"
   ]
  },
  {
   "cell_type": "code",
   "execution_count": 2,
   "id": "0e1f74f6",
   "metadata": {
    "execution": {
     "iopub.execute_input": "2022-10-20T22:15:03.479477Z",
     "iopub.status.busy": "2022-10-20T22:15:03.478795Z",
     "iopub.status.idle": "2022-10-20T22:15:03.485295Z",
     "shell.execute_reply": "2022-10-20T22:15:03.484176Z"
    },
    "papermill": {
     "duration": 0.052736,
     "end_time": "2022-10-20T22:15:03.487586",
     "exception": false,
     "start_time": "2022-10-20T22:15:03.434850",
     "status": "completed"
    },
    "tags": []
   },
   "outputs": [],
   "source": [
    "module_path = os.path.abspath(os.path.join('..'))\n",
    "if module_path not in sys.path:\n",
    "    sys.path.append(module_path)"
   ]
  },
  {
   "cell_type": "code",
   "execution_count": 3,
   "id": "08ebee4b-c8d5-4028-9a30-35bb80316f3c",
   "metadata": {
    "execution": {
     "iopub.execute_input": "2022-10-20T22:15:03.573762Z",
     "iopub.status.busy": "2022-10-20T22:15:03.573304Z",
     "iopub.status.idle": "2022-10-20T22:15:03.583660Z",
     "shell.execute_reply": "2022-10-20T22:15:03.582019Z"
    },
    "papermill": {
     "duration": 0.055868,
     "end_time": "2022-10-20T22:15:03.585722",
     "exception": false,
     "start_time": "2022-10-20T22:15:03.529854",
     "status": "completed"
    },
    "tags": []
   },
   "outputs": [],
   "source": [
    "try:\n",
    "    augment=int(os.getenv('AUGMENT'))\n",
    "except: \n",
    "    augment=0"
   ]
  },
  {
   "cell_type": "code",
   "execution_count": 4,
   "id": "e5e2bb60-d7dd-4fbf-b591-9bcdc4c740c9",
   "metadata": {
    "execution": {
     "iopub.execute_input": "2022-10-20T22:15:03.672355Z",
     "iopub.status.busy": "2022-10-20T22:15:03.671327Z",
     "iopub.status.idle": "2022-10-20T22:15:03.688872Z",
     "shell.execute_reply": "2022-10-20T22:15:03.687858Z"
    },
    "papermill": {
     "duration": 0.063127,
     "end_time": "2022-10-20T22:15:03.691343",
     "exception": false,
     "start_time": "2022-10-20T22:15:03.628216",
     "status": "completed"
    },
    "tags": []
   },
   "outputs": [],
   "source": [
    "prep = pickle.load(open('prep_parameters.pkl', 'rb'))"
   ]
  },
  {
   "cell_type": "markdown",
   "id": "2aafa489-1b22-405d-bc3e-9e1bbe99477f",
   "metadata": {
    "papermill": {
     "duration": 0.043216,
     "end_time": "2022-10-20T22:15:03.781773",
     "exception": false,
     "start_time": "2022-10-20T22:15:03.738557",
     "status": "completed"
    },
    "tags": []
   },
   "source": [
    "### Get the training dataset"
   ]
  },
  {
   "cell_type": "code",
   "execution_count": 5,
   "id": "af1c45e5-ad3e-4917-ae91-4052f047f8d5",
   "metadata": {
    "execution": {
     "iopub.execute_input": "2022-10-20T22:15:03.875885Z",
     "iopub.status.busy": "2022-10-20T22:15:03.875506Z",
     "iopub.status.idle": "2022-10-20T22:15:04.130061Z",
     "shell.execute_reply": "2022-10-20T22:15:04.129027Z"
    },
    "papermill": {
     "duration": 0.306619,
     "end_time": "2022-10-20T22:15:04.134402",
     "exception": false,
     "start_time": "2022-10-20T22:15:03.827783",
     "status": "completed"
    },
    "tags": []
   },
   "outputs": [],
   "source": [
    "data = pd.read_csv('prep_traindata.csv', index_col=[0])"
   ]
  },
  {
   "cell_type": "code",
   "execution_count": 6,
   "id": "b620eb0a",
   "metadata": {
    "execution": {
     "iopub.execute_input": "2022-10-20T22:15:04.225693Z",
     "iopub.status.busy": "2022-10-20T22:15:04.225163Z",
     "iopub.status.idle": "2022-10-20T22:16:50.463759Z",
     "shell.execute_reply": "2022-10-20T22:16:50.462573Z"
    },
    "papermill": {
     "duration": 106.287012,
     "end_time": "2022-10-20T22:16:50.466235",
     "exception": false,
     "start_time": "2022-10-20T22:15:04.179223",
     "status": "completed"
    },
    "tags": []
   },
   "outputs": [
    {
     "name": "stdout",
     "output_type": "stream",
     "text": [
      "90950\n",
      "(7025, 10)\n"
     ]
    },
    {
     "name": "stdout",
     "output_type": "stream",
     "text": [
      "\r",
      "[                                        ] | 0% Completed | 242.90 us"
     ]
    },
    {
     "name": "stdout",
     "output_type": "stream",
     "text": [
      "\r",
      "[##                                      ] | 5% Completed | 107.97 ms"
     ]
    },
    {
     "name": "stdout",
     "output_type": "stream",
     "text": [
      "\r",
      "[####                                    ] | 10% Completed | 213.74 ms"
     ]
    },
    {
     "name": "stdout",
     "output_type": "stream",
     "text": [
      "\r",
      "[##########                              ] | 26% Completed | 318.93 ms"
     ]
    },
    {
     "name": "stdout",
     "output_type": "stream",
     "text": [
      "\r",
      "[##################                      ] | 46% Completed | 430.13 ms"
     ]
    },
    {
     "name": "stdout",
     "output_type": "stream",
     "text": [
      "\r",
      "[###########################             ] | 69% Completed | 531.94 ms"
     ]
    },
    {
     "name": "stdout",
     "output_type": "stream",
     "text": [
      "\r",
      "[####################################    ] | 90% Completed | 634.21 ms"
     ]
    },
    {
     "name": "stdout",
     "output_type": "stream",
     "text": [
      "\r",
      "[########################################] | 100% Completed | 735.72 ms"
     ]
    },
    {
     "name": "stdout",
     "output_type": "stream",
     "text": [
      "\n"
     ]
    },
    {
     "name": "stdout",
     "output_type": "stream",
     "text": [
      "INFO: 2022-10-20 22:15:05,499 [SYNTHESIZER] - Number columns considered for synth: 10\n"
     ]
    },
    {
     "name": "stdout",
     "output_type": "stream",
     "text": [
      "INFO: 2022-10-20 22:15:16,565 [SYNTHESIZER] - Starting the synthetic data modeling process over 1x1 blocks.\n"
     ]
    },
    {
     "name": "stdout",
     "output_type": "stream",
     "text": [
      "INFO: 2022-10-20 22:15:16,569 [SYNTHESIZER] - Preprocess segment\n"
     ]
    },
    {
     "name": "stdout",
     "output_type": "stream",
     "text": [
      "INFO: 2022-10-20 22:15:16,573 [SYNTHESIZER] - Synthesizer init.\n"
     ]
    },
    {
     "name": "stdout",
     "output_type": "stream",
     "text": [
      "INFO: 2022-10-20 22:15:16,574 [SYNTHESIZER] - Processing the data prior fitting the synthesizer.\n"
     ]
    },
    {
     "name": "stdout",
     "output_type": "stream",
     "text": [
      "INFO: 2022-10-20 22:15:18,746 [SYNTHESIZER] - Start generating model samples.\n"
     ]
    },
    {
     "name": "stdout",
     "output_type": "stream",
     "text": [
      "Size training: 195950\n",
      "Size test: 45000\n",
      "Model training: DummyClassifier\n",
      "Model training: RandomForestClassifier\n"
     ]
    },
    {
     "name": "stdout",
     "output_type": "stream",
     "text": [
      "Model training: AdaBoostClassifier\n"
     ]
    },
    {
     "name": "stdout",
     "output_type": "stream",
     "text": [
      "Model training: DecisionTreeClassifier\n"
     ]
    }
   ],
   "source": [
    "if augment==1:\n",
    "    result, models = train_model(X=data, label='SeriousDlqin2yrs', augmentation=True, train_synth=True)\n",
    "else:\n",
    "    result, models = train_model(X=data, label='SeriousDlqin2yrs', augmentation=False, train_synth=False)\n",
    "    \n",
    "prep['Balancing'] = augment"
   ]
  },
  {
   "cell_type": "code",
   "execution_count": 7,
   "id": "a8de7a2c-1069-4ce6-8b7e-b4ef7e6153f8",
   "metadata": {
    "execution": {
     "iopub.execute_input": "2022-10-20T22:16:50.552569Z",
     "iopub.status.busy": "2022-10-20T22:16:50.552199Z",
     "iopub.status.idle": "2022-10-20T22:16:50.560304Z",
     "shell.execute_reply": "2022-10-20T22:16:50.559137Z"
    },
    "papermill": {
     "duration": 0.053821,
     "end_time": "2022-10-20T22:16:50.562605",
     "exception": false,
     "start_time": "2022-10-20T22:16:50.508784",
     "status": "completed"
    },
    "tags": []
   },
   "outputs": [],
   "source": [
    "#Save the best model? Does it make sense?\n",
    "#Here save the models dict? What can I do about this\n",
    "optimized_model = models[result.set_index('model')['f1_score'].idxmax()]"
   ]
  },
  {
   "cell_type": "code",
   "execution_count": 8,
   "id": "f15d0a23-839c-4230-80f5-03d3ee69e49d",
   "metadata": {
    "execution": {
     "iopub.execute_input": "2022-10-20T22:16:50.651284Z",
     "iopub.status.busy": "2022-10-20T22:16:50.650942Z",
     "iopub.status.idle": "2022-10-20T22:16:52.733490Z",
     "shell.execute_reply": "2022-10-20T22:16:52.732316Z"
    },
    "papermill": {
     "duration": 2.130613,
     "end_time": "2022-10-20T22:16:52.735992",
     "exception": false,
     "start_time": "2022-10-20T22:16:50.605379",
     "status": "completed"
    },
    "tags": []
   },
   "outputs": [],
   "source": [
    "#Here the model needs also to be an output to be shown\n",
    "pickle.dump(optimized_model, open('best_model.pkl', 'wb'))\n",
    "pickle.dump(prep, open('prep_parameters.pkl', 'wb'))"
   ]
  },
  {
   "cell_type": "markdown",
   "id": "62ca2b49-e2c8-481b-adb1-0b8ccdd0e47c",
   "metadata": {
    "papermill": {
     "duration": 0.045767,
     "end_time": "2022-10-20T22:16:52.826385",
     "exception": false,
     "start_time": "2022-10-20T22:16:52.780618",
     "status": "completed"
    },
    "tags": []
   },
   "source": [
    "### Creating the pipeline step outputs"
   ]
  },
  {
   "cell_type": "code",
   "execution_count": 9,
   "id": "f67a00b2-09e4-47aa-b1c6-85d4786680ab",
   "metadata": {
    "execution": {
     "iopub.execute_input": "2022-10-20T22:16:52.922587Z",
     "iopub.status.busy": "2022-10-20T22:16:52.922207Z",
     "iopub.status.idle": "2022-10-20T22:16:52.976008Z",
     "shell.execute_reply": "2022-10-20T22:16:52.974460Z"
    },
    "papermill": {
     "duration": 0.102042,
     "end_time": "2022-10-20T22:16:52.978606",
     "exception": false,
     "start_time": "2022-10-20T22:16:52.876564",
     "status": "completed"
    },
    "tags": []
   },
   "outputs": [],
   "source": [
    "import json \n",
    "\n",
    "metadata = {\n",
    "    'outputs' : [\n",
    "        {\n",
    "          'type': 'markdown',\n",
    "          'storage': 'inline',\n",
    "          'source': f'## **Dataset balancing:** {bool(augment)}',\n",
    "        },\n",
    "        {\n",
    "          'type': 'table',\n",
    "          'storage': 'inline',\n",
    "          'format': 'csv',\n",
    "          'header': list(result.columns),\n",
    "          'source': result.to_csv(header=False, index=False)\n",
    "        },\n",
    "    ]\n",
    "  }\n",
    "\n",
    "#heatmap_output(data=data_mask.corr()[mask_cols].drop(missing_col+mask_cols), title='Missing correlation')\n",
    "with open('mlpipeline-ui-metadata.json', 'w') as metadata_file:\n",
    "    json.dump(metadata, metadata_file)"
   ]
  }
 ],
 "metadata": {
  "kernelspec": {
   "display_name": "Python 3 (ipykernel)",
   "language": "python",
   "name": "python3"
  },
  "language_info": {
   "codemirror_mode": {
    "name": "ipython",
    "version": 3
   },
   "file_extension": ".py",
   "mimetype": "text/x-python",
   "name": "python",
   "nbconvert_exporter": "python",
   "pygments_lexer": "ipython3",
   "version": "3.8.13"
  },
  "papermill": {
   "duration": 115.245299,
   "end_time": "2022-10-20T22:16:54.046688",
   "environment_variables": {},
   "exception": null,
   "input_path": "/mnt/laboratory/1ffabd97-374f-483a-885a-d025b3a2e2ef/05_Balance_model.ipynb",
   "output_path": "/mnt/laboratory/1ffabd97-374f-483a-885a-d025b3a2e2ef/05_Balance_model.ipynb",
   "parameters": {},
   "start_time": "2022-10-20T22:14:58.801389",
   "version": "2.1.0"
  }
 },
 "nbformat": 4,
 "nbformat_minor": 5
}