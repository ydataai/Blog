{
 "cells": [
  {
   "cell_type": "markdown",
   "id": "4976c60a-db0e-46b8-b8cc-61f4edf4ab15",
   "metadata": {
    "papermill": {
     "duration": 0.014293,
     "end_time": "2022-03-30T14:06:26.682714",
     "exception": false,
     "start_time": "2022-03-30T14:06:26.668421",
     "status": "completed"
    },
    "tags": []
   },
   "source": [
    "# Synthesize Data "
   ]
  },
  {
   "cell_type": "markdown",
   "id": "923bd7b6-5274-401b-8b51-a1bdf139f64a",
   "metadata": {
    "papermill": {
     "duration": 0.013665,
     "end_time": "2022-03-30T14:06:26.707375",
     "exception": false,
     "start_time": "2022-03-30T14:06:26.693710",
     "status": "completed"
    },
    "tags": []
   },
   "source": [
    "## 0 - Setup"
   ]
  },
  {
   "cell_type": "markdown",
   "id": "28cdad08-ac1e-4b3b-9236-c40201ad6472",
   "metadata": {
    "papermill": {
     "duration": 0.018272,
     "end_time": "2022-03-30T14:06:26.748375",
     "exception": false,
     "start_time": "2022-03-30T14:06:26.730103",
     "status": "completed"
    },
    "tags": []
   },
   "source": [
    "### 0.1 - Packages "
   ]
  },
  {
   "cell_type": "code",
   "execution_count": 1,
   "id": "8dbbf7e4-bd2c-45d5-9c7a-af2c321c3380",
   "metadata": {
    "papermill": {
     "duration": 3.923738,
     "end_time": "2022-03-30T14:06:30.683364",
     "exception": false,
     "start_time": "2022-03-30T14:06:26.759626",
     "status": "completed"
    },
    "tags": []
   },
   "outputs": [
    {
     "name": "stderr",
     "output_type": "stream",
     "text": [
      "/opt/conda/lib/python3.7/site-packages/dask_gateway/client.py:21: FutureWarning: format_bytes is deprecated and will be removed in a future release. Please use dask.utils.format_bytes instead.\n",
      "  from distributed.utils import LoopRunner, format_bytes\n"
     ]
    }
   ],
   "source": [
    "from numpy import repeat\n",
    "from ydata.synthesizers.regular import RegularSynthesizer\n",
    "from ydata.connectors import LocalConnector\n",
    "from ydata.connectors.filetype import FileType\n",
    "from ydata.dataset import Dataset"
   ]
  },
  {
   "cell_type": "markdown",
   "id": "6ed1c6a9-5215-4b8d-ae1b-6d6babe3d152",
   "metadata": {
    "papermill": {
     "duration": 0.013027,
     "end_time": "2022-03-30T14:06:30.707228",
     "exception": false,
     "start_time": "2022-03-30T14:06:30.694201",
     "status": "completed"
    },
    "tags": []
   },
   "source": [
    "## 1 - Load Data"
   ]
  },
  {
   "cell_type": "code",
   "execution_count": 2,
   "id": "11a89a2b-ba74-4b0d-acbf-20edb67ea7ac",
   "metadata": {
    "papermill": {
     "duration": 14.229558,
     "end_time": "2022-03-30T14:06:44.947751",
     "exception": false,
     "start_time": "2022-03-30T14:06:30.718193",
     "status": "completed"
    },
    "tags": []
   },
   "outputs": [],
   "source": [
    "# Read the data (Only if you want to train a new network)\n",
    "# Initialize the YData's connector\n",
    "connector = LocalConnector()\n",
    "\n",
    "# Read the data\n",
    "data = connector.read_file('data_processed.csv', file_type = FileType.CSV)"
   ]
  },
  {
   "cell_type": "markdown",
   "id": "27b573cb-05d3-427a-996a-450fe888e1b6",
   "metadata": {
    "papermill": {
     "duration": 0.016556,
     "end_time": "2022-03-30T14:06:44.976223",
     "exception": false,
     "start_time": "2022-03-30T14:06:44.959667",
     "status": "completed"
    },
    "tags": []
   },
   "source": [
    "## 2 - Synthesization "
   ]
  },
  {
   "cell_type": "markdown",
   "id": "47d07bff-1eab-4218-94f7-76834cc2a192",
   "metadata": {
    "papermill": {
     "duration": 0.009695,
     "end_time": "2022-03-30T14:06:44.995666",
     "exception": false,
     "start_time": "2022-03-30T14:06:44.985971",
     "status": "completed"
    },
    "tags": []
   },
   "source": [
    "### 2.1 - Train the Synthesizer "
   ]
  },
  {
   "cell_type": "code",
   "execution_count": 3,
   "id": "aa20bc19-e4ce-4620-bcf4-2b2f8d751905",
   "metadata": {
    "papermill": {
     "duration": 15.148453,
     "end_time": "2022-03-30T14:07:00.155764",
     "exception": false,
     "start_time": "2022-03-30T14:06:45.007311",
     "status": "completed"
    },
    "tags": []
   },
   "outputs": [
    {
     "name": "stdout",
     "output_type": "stream",
     "text": [
      "INFO: 2022-03-31 13:24:30,856 [SYNTHESIZER] - Calculating metadata\n",
      "Number columns considered for synth: 9\n",
      "INFO: 2022-03-31 13:24:32,385 [SYNTHESIZER] - Synthesizer init.\n",
      "INFO: 2022-03-31 13:24:32,386 [SYNTHESIZER] - Processing the data prior fitting the synthesizer.\n"
     ]
    }
   ],
   "source": [
    "# Initialize and Load an alerady trained Synthesizer.\n",
    "network_synth = RegularSynthesizer(filter_outliers=False)\n",
    "#network_synth = network_synth.load('trained_model.pkl')\n",
    "data = data.to_pandas().query(\"Unusual == 1\")\n",
    "network_synth.fit(Dataset(data))\n",
    "network_synth.save('trained_model_unb.pkl')"
   ]
  },
  {
   "cell_type": "markdown",
   "id": "d5f96c34-8581-4bf9-9acc-c41461c02122",
   "metadata": {
    "papermill": {
     "duration": 0.253719,
     "end_time": "2022-03-30T14:07:00.430306",
     "exception": false,
     "start_time": "2022-03-30T14:07:00.176587",
     "status": "completed"
    },
    "tags": []
   },
   "source": [
    "### 2.2 - Sample Data "
   ]
  },
  {
   "cell_type": "code",
   "execution_count": 5,
   "id": "bf82ae37-892f-4697-8e43-57e1ca2a5ace",
   "metadata": {
    "papermill": {
     "duration": 5.673723,
     "end_time": "2022-03-30T14:07:06.165302",
     "exception": false,
     "start_time": "2022-03-30T14:07:00.491579",
     "status": "completed"
    },
    "tags": []
   },
   "outputs": [
    {
     "name": "stdout",
     "output_type": "stream",
     "text": [
      "INFO: 2022-03-31 13:24:56,275 [SYNTHESIZER] - Start generating model samples.\n"
     ]
    }
   ],
   "source": [
    "# Create the samples and flag them.\n",
    "synth_sample = network_synth.sample(5000).to_pandas()\n",
    "\n",
    "# Flag the created samples and assign columns \n",
    "synth_sample.index = repeat(999999, len(synth_sample))\n",
    "synth_sample.columns = data.columns"
   ]
  },
  {
   "cell_type": "markdown",
   "id": "6b1ad41b-a5f5-49ad-8620-f7205d5a32c3",
   "metadata": {
    "papermill": {
     "duration": 0.016318,
     "end_time": "2022-03-30T14:07:06.200048",
     "exception": false,
     "start_time": "2022-03-30T14:07:06.183730",
     "status": "completed"
    },
    "tags": []
   },
   "source": [
    "### 3 - Store Data "
   ]
  },
  {
   "cell_type": "code",
   "execution_count": 5,
   "id": "7e65a3ed-f5fc-4457-873d-09ef4849ee72",
   "metadata": {
    "execution": {
     "iopub.execute_input": "2022-03-30T14:07:06.234866Z",
     "iopub.status.busy": "2022-03-30T14:07:06.234474Z",
     "iopub.status.idle": "2022-03-30T14:07:06.288210Z",
     "shell.execute_reply": "2022-03-30T14:07:06.286589Z"
    },
    "papermill": {
     "duration": 0.074007,
     "end_time": "2022-03-30T14:07:06.290857",
     "exception": false,
     "start_time": "2022-03-30T14:07:06.216850",
     "status": "completed"
    },
    "tags": []
   },
   "outputs": [],
   "source": [
    "connector.write_file(data= synth_sample, path='data_sampled.csv', index=False)"
   ]
  }
 ],
 "metadata": {
  "kernelspec": {
   "display_name": "Python 3 (ipykernel)",
   "language": "python",
   "name": "python3"
  },
  "language_info": {
   "codemirror_mode": {
    "name": "ipython",
    "version": 3
   },
   "file_extension": ".py",
   "mimetype": "text/x-python",
   "name": "python",
   "nbconvert_exporter": "python",
   "pygments_lexer": "ipython3",
   "version": "3.7.11"
  },
  "papermill": {
   "default_parameters": {},
   "duration": 41.942923,
   "end_time": "2022-03-30T14:07:07.228654",
   "environment_variables": {},
   "exception": null,
   "input_path": "/home/ydata/5_synthesize_data.ipynb",
   "output_path": "/home/ydata/5_synthesize_data.ipynb",
   "parameters": {},
   "start_time": "2022-03-30T14:06:25.285731",
   "version": "2.3.4"
  }
 },
 "nbformat": 4,
 "nbformat_minor": 5
}
