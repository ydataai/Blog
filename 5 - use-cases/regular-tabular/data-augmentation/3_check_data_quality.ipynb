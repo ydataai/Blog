{
 "cells": [
  {
   "cell_type": "markdown",
   "id": "cfa2e00e-cd59-487b-ae37-2c39aa94c8a9",
   "metadata": {
    "jupyter": {
     "outputs_hidden": true
    },
    "papermill": {
     "duration": 0.038657,
     "end_time": "2022-03-30T14:05:31.903072",
     "exception": false,
     "start_time": "2022-03-30T14:05:31.864415",
     "status": "completed"
    },
    "tags": []
   },
   "source": [
    "# Data Quality Check \n",
    "\n",
    "Data quality assessment through YData's Quality package. "
   ]
  },
  {
   "cell_type": "markdown",
   "id": "bc9357c7-6096-4d2b-a900-289c40a0f7e8",
   "metadata": {
    "papermill": {
     "duration": 0.018382,
     "end_time": "2022-03-30T14:05:31.951500",
     "exception": false,
     "start_time": "2022-03-30T14:05:31.933118",
     "status": "completed"
    },
    "tags": []
   },
   "source": [
    "## 0 - Setup"
   ]
  },
  {
   "cell_type": "markdown",
   "id": "8ef54b62-9072-4312-8d37-8abe04b30dc2",
   "metadata": {
    "papermill": {
     "duration": 0.019809,
     "end_time": "2022-03-30T14:05:31.992240",
     "exception": false,
     "start_time": "2022-03-30T14:05:31.972431",
     "status": "completed"
    },
    "tags": []
   },
   "source": [
    "### 0.1 - Packages "
   ]
  },
  {
   "cell_type": "code",
   "execution_count": 1,
   "id": "2f866675-3c9c-4d02-9464-67398e4fecc1",
   "metadata": {
    "execution": {
     "iopub.execute_input": "2022-03-30T14:05:32.033787Z",
     "iopub.status.busy": "2022-03-30T14:05:32.033283Z",
     "iopub.status.idle": "2022-03-30T14:05:40.637225Z",
     "shell.execute_reply": "2022-03-30T14:05:40.635685Z"
    },
    "papermill": {
     "duration": 8.629271,
     "end_time": "2022-03-30T14:05:40.642012",
     "exception": false,
     "start_time": "2022-03-30T14:05:32.012741",
     "status": "completed"
    },
    "tags": []
   },
   "outputs": [],
   "source": [
    "%%capture \n",
    "!pip install ydata-quality==0.1.0"
   ]
  },
  {
   "cell_type": "markdown",
   "id": "bfc85003-74c8-4422-bd18-cc1440e61072",
   "metadata": {
    "papermill": {
     "duration": 0.021426,
     "end_time": "2022-03-30T14:05:40.681391",
     "exception": false,
     "start_time": "2022-03-30T14:05:40.659965",
     "status": "completed"
    },
    "tags": []
   },
   "source": [
    "### 0.2 - Imports"
   ]
  },
  {
   "cell_type": "code",
   "execution_count": 2,
   "id": "2c91cd08-1e11-41b0-a637-983568d0ff87",
   "metadata": {
    "execution": {
     "iopub.execute_input": "2022-03-30T14:05:40.732289Z",
     "iopub.status.busy": "2022-03-30T14:05:40.730879Z",
     "iopub.status.idle": "2022-03-30T14:05:46.778764Z",
     "shell.execute_reply": "2022-03-30T14:05:46.777222Z"
    },
    "papermill": {
     "duration": 6.081183,
     "end_time": "2022-03-30T14:05:46.783624",
     "exception": false,
     "start_time": "2022-03-30T14:05:40.702441",
     "status": "completed"
    },
    "tags": []
   },
   "outputs": [
    {
     "name": "stderr",
     "output_type": "stream",
     "text": [
      "/opt/conda/lib/python3.7/site-packages/dask_gateway/client.py:21: FutureWarning: format_bytes is deprecated and will be removed in a future release. Please use dask.utils.format_bytes instead.\n",
      "  from distributed.utils import LoopRunner, format_bytes\n"
     ]
    }
   ],
   "source": [
    "from ydata.connectors import LocalConnector\n",
    "from ydata.connectors.filetype import FileType\n",
    "from ydata_quality import DataQuality"
   ]
  },
  {
   "cell_type": "markdown",
   "id": "d8603474-66f8-4794-b820-5baabaec1a93",
   "metadata": {
    "papermill": {
     "duration": 0.020601,
     "end_time": "2022-03-30T14:05:46.829307",
     "exception": false,
     "start_time": "2022-03-30T14:05:46.808706",
     "status": "completed"
    },
    "tags": []
   },
   "source": [
    "## 1 - Load Data"
   ]
  },
  {
   "cell_type": "code",
   "execution_count": 3,
   "id": "cb790447-79e9-49bd-9584-72e034b6808e",
   "metadata": {
    "execution": {
     "iopub.execute_input": "2022-03-30T14:05:46.916840Z",
     "iopub.status.busy": "2022-03-30T14:05:46.916218Z",
     "iopub.status.idle": "2022-03-30T14:06:00.884755Z",
     "shell.execute_reply": "2022-03-30T14:06:00.883689Z"
    },
    "papermill": {
     "duration": 14.036724,
     "end_time": "2022-03-30T14:06:00.888650",
     "exception": false,
     "start_time": "2022-03-30T14:05:46.851926",
     "status": "completed"
    },
    "tags": []
   },
   "outputs": [],
   "source": [
    "# Initialize the YData's connector and load the data\n",
    "connector = LocalConnector()\n",
    "\n",
    "df = connector.read_file('data.csv', file_type = FileType.CSV).to_pandas()"
   ]
  },
  {
   "cell_type": "markdown",
   "id": "8c155609-0c4b-41fa-9af9-253bde932bdf",
   "metadata": {
    "papermill": {
     "duration": 0.018632,
     "end_time": "2022-03-30T14:06:00.924493",
     "exception": false,
     "start_time": "2022-03-30T14:06:00.905861",
     "status": "completed"
    },
    "tags": []
   },
   "source": [
    "## 2 - Diagnose Data Quality"
   ]
  },
  {
   "cell_type": "code",
   "execution_count": 4,
   "id": "df392b86-2976-40b3-86eb-5f8178adffed",
   "metadata": {
    "execution": {
     "iopub.execute_input": "2022-03-30T14:06:00.958925Z",
     "iopub.status.busy": "2022-03-30T14:06:00.957987Z",
     "iopub.status.idle": "2022-03-30T14:06:07.549307Z",
     "shell.execute_reply": "2022-03-30T14:06:07.546263Z"
    },
    "papermill": {
     "duration": 6.613693,
     "end_time": "2022-03-30T14:06:07.552982",
     "exception": false,
     "start_time": "2022-03-30T14:06:00.939289",
     "status": "completed"
    },
    "tags": []
   },
   "outputs": [
    {
     "name": "stdout",
     "output_type": "stream",
     "text": [
      "\u001b[1mWarnings:\u001b[0m\n",
      "\tTOTAL: 2 warning(s)\n",
      "\t\u001b[1m\u001b[38;5;11mPriority 2\u001b[0m: 2 warning(s)\n",
      "\n",
      "\n",
      "\u001b[38;5;11m\u001b[1mPriority 2\u001b[0m - \u001b[1musage allowed, limited human intelligibility\u001b[0m:\n",
      "\t\u001b[38;5;11m*\u001b[0m \u001b[1m[DUPLICATES\u001b[0m - \u001b[4mEXACT DUPLICATES]\u001b[0m Found 219 instances with exact duplicate feature values.\n",
      "\t\u001b[38;5;11m*\u001b[0m \u001b[1m[DATA RELATIONS\u001b[0m - \u001b[4mHIGH COLLINEARITY - NUMERICAL]\u001b[0m Found 4 numerical variables with high Variance Inflation Factor (VIF>5.0). The variables listed in results are highly collinear with other variables in the dataset. These will make model explainability harder and potentially give way to issues like overfitting.Depending on your end goal you might want to remove the highest VIF variables.\n",
      "\n"
     ]
    }
   ],
   "source": [
    "\n",
    "# Create a DataQuality object from the main class that holds all quality modules\n",
    "dq = DataQuality(df=df)\n",
    "\n",
    "# Run the tests and outputs a summary of the quality tests\n",
    "results = dq.evaluate()"
   ]
  }
 ],
 "metadata": {
  "kernelspec": {
   "display_name": "Python 3 (ipykernel)",
   "language": "python",
   "name": "python3"
  },
  "language_info": {
   "codemirror_mode": {
    "name": "ipython",
    "version": 3
   },
   "file_extension": ".py",
   "mimetype": "text/x-python",
   "name": "python",
   "nbconvert_exporter": "python",
   "pygments_lexer": "ipython3",
   "version": "3.8.13"
  },
  "papermill": {
   "default_parameters": {},
   "duration": 38.709895,
   "end_time": "2022-03-30T14:06:08.528969",
   "environment_variables": {},
   "exception": null,
   "input_path": "/home/ydata/3_check_data_quality.ipynb",
   "output_path": "/home/ydata/3_check_data_quality.ipynb",
   "parameters": {},
   "start_time": "2022-03-30T14:05:29.819074",
   "version": "2.3.4"
  }
 },
 "nbformat": 4,
 "nbformat_minor": 5
}
