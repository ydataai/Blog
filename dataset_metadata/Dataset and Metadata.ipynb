{
 "cells": [
  {
   "cell_type": "markdown",
   "metadata": {
    "jupyter": {
     "outputs_hidden": true
    }
   },
   "source": [
    "# The Dataset and Metadata objects"
   ]
  },
  {
   "cell_type": "markdown",
   "metadata": {
    "jupyter": {
     "outputs_hidden": false
    },
    "pycharm": {
     "name": "#%%\n"
    }
   },
   "source": [
    "Both the **Dataset** and **Metadata** objects are the pilar to leverage YData's package features.\n",
    "- The **Dataset** object it's an abstraction of differente Python engines for handling data: \n",
    "    - Dask: If you're looking for scalability and still prefer to keep it.\n",
    "    - Pandas: If you want to keep it as pythonic as possible.\n",
    "    - Numpy: If arrays are your thing.\n",
    "    \n",
    "    \n",
    "- The **Metadata** is the object that helps you extracting the main data from your dataset:\n",
    "    - The columns metadata: Both Variable and Data type (numerical, categorical, etc.)\n",
    "    - The data warnings: Checks for the presence of duplicates, variables with skewness, etc.\n",
    "    \n",
    "The **Metadata** object only works with a **Dataset** as an input. In this Notebook, we will be showing you features and capabilities of this objects and how to combine them with other pieces from YData's package offer."
   ]
  },
  {
   "cell_type": "code",
   "execution_count": 9,
   "metadata": {},
   "outputs": [],
   "source": [
    "import pandas as pd\n",
    "\n",
    "from ydata.dataset import Dataset\n",
    "from ydata.metadata import Metadata"
   ]
  },
  {
   "cell_type": "code",
   "execution_count": 10,
   "metadata": {},
   "outputs": [
    {
     "name": "stdout",
     "output_type": "stream",
     "text": [
      "\u001b[1m Dataset schema \u001b[0m\n",
      "{'encounter_id': <VariableType.INT: 'int'>, 'patient_nbr': <VariableType.INT: 'int'>, 'race': <VariableType.STR: 'string'>, 'gender': <VariableType.STR: 'string'>, 'age': <VariableType.STR: 'string'>, 'weight': <VariableType.STR: 'string'>, 'admission_type_id': <VariableType.INT: 'int'>, 'discharge_disposition_id': <VariableType.INT: 'int'>, 'admission_source_id': <VariableType.INT: 'int'>, 'time_in_hospital': <VariableType.INT: 'int'>, 'payer_code': <VariableType.STR: 'string'>, 'medical_specialty': <VariableType.STR: 'string'>, 'num_lab_procedures': <VariableType.INT: 'int'>, 'num_procedures': <VariableType.INT: 'int'>, 'num_medications': <VariableType.INT: 'int'>, 'number_outpatient': <VariableType.INT: 'int'>, 'number_emergency': <VariableType.INT: 'int'>, 'number_inpatient': <VariableType.INT: 'int'>, 'diag_1': <VariableType.STR: 'string'>, 'diag_2': <VariableType.STR: 'string'>, 'diag_3': <VariableType.STR: 'string'>, 'number_diagnoses': <VariableType.INT: 'int'>, 'max_glu_serum': <VariableType.STR: 'string'>, 'A1Cresult': <VariableType.STR: 'string'>, 'metformin': <VariableType.STR: 'string'>, 'repaglinide': <VariableType.STR: 'string'>, 'nateglinide': <VariableType.STR: 'string'>, 'chlorpropamide': <VariableType.STR: 'string'>, 'glimepiride': <VariableType.STR: 'string'>, 'acetohexamide': <VariableType.STR: 'string'>, 'glipizide': <VariableType.STR: 'string'>, 'glyburide': <VariableType.STR: 'string'>, 'tolbutamide': <VariableType.STR: 'string'>, 'pioglitazone': <VariableType.STR: 'string'>, 'rosiglitazone': <VariableType.STR: 'string'>, 'acarbose': <VariableType.STR: 'string'>, 'miglitol': <VariableType.STR: 'string'>, 'troglitazone': <VariableType.STR: 'string'>, 'tolazamide': <VariableType.STR: 'string'>, 'examide': <VariableType.STR: 'string'>, 'citoglipton': <VariableType.STR: 'string'>, 'insulin': <VariableType.STR: 'string'>, 'glyburide-metformin': <VariableType.STR: 'string'>, 'glipizide-metformin': <VariableType.STR: 'string'>, 'glimepiride-pioglitazone': <VariableType.STR: 'string'>, 'metformin-rosiglitazone': <VariableType.STR: 'string'>, 'metformin-pioglitazone': <VariableType.STR: 'string'>, 'change': <VariableType.STR: 'string'>, 'diabetesMed': <VariableType.STR: 'string'>, 'readmitted': <VariableType.STR: 'string'>}\n",
      "Delayed('_nrows-b6f42980-34a1-44b1-8652-0eac9e3d70b3')\n",
      "\n",
      "\u001b[1m Dataset shape - Number of training rows and columns for both training and holdout \u001b[0m\n",
      "(11105, 50)\n"
     ]
    }
   ],
   "source": [
    "data = pd.read_csv('diabetes.csv')\n",
    "\n",
    "#Create the dataset object\n",
    "dataset = Dataset(data)\n",
    "\n",
    "#Getting some info from the Dataset\n",
    "#Schema - Columns and variable types\n",
    "print('\\033[1m Dataset schema \\033[0m')\n",
    "print(dataset.schema)\n",
    "\n",
    "#Nrows - Number of rows\n",
    "print(dataset.nrows)\n",
    "\n",
    "print(\"\\n\\033[1m Dataset shape - Number of training rows and columns for both training and holdout \\033[0m\")\n",
    "print(dataset.shape(lazy_eval=False))"
   ]
  },
  {
   "cell_type": "markdown",
   "metadata": {},
   "source": [
    "### Extract the metadata from the Dataset"
   ]
  },
  {
   "cell_type": "code",
   "execution_count": 11,
   "metadata": {},
   "outputs": [
    {
     "name": "stdout",
     "output_type": "stream",
     "text": [
      "[########################################] | 100% Completed |  4.0s\n",
      "\n",
      "\u001b[1mMetadata summary\u001b[0m\n",
      "{'target': None, 'dataset_attrs': None, 'nrows': 11105, 'summary': {'nrows': 11105, 'cardinality': {'encounter_id': 11083.560117437017, 'patient_nbr': 9065.006722473736, 'race': 6.000274674963478, 'gender': 2.000030518198964, 'age': 10.000763017065795, 'weight': 10.000763017065795, 'admission_type_id': 7.000373866960488, 'discharge_disposition_id': 14.001495574319138, 'admission_source_id': 10.000763017065795, 'time_in_hospital': 14.001495574319138, 'payer_code': 1.0000076294721387, 'medical_specialty': 44.01477712229648, 'num_lab_procedures': 106.08581642423437, 'num_procedures': 7.000373866960488, 'num_medications': 59.026573872641585, 'number_outpatient': 14.001495574319138, 'number_emergency': 11.000923260056664, 'number_inpatient': 14.001495574319138, 'diag_1': 457.59382330741664, 'diag_2': 441.4836953993499, 'diag_3': 484.7886474548861, 'number_diagnoses': 9.000618037546497, 'max_glu_serum': 4.000122075278871, 'A1Cresult': 4.000122075278871, 'metformin': 4.000122075278871, 'repaglinide': 4.000122075278871, 'nateglinide': 2.000030518198964, 'chlorpropamide': 4.000122075278871, 'glimepiride': 4.000122075278871, 'acetohexamide': 1.0000076294721387, 'glipizide': 4.000122075278871, 'glyburide': 4.000122075278871, 'tolbutamide': 2.000030518198964, 'pioglitazone': 4.000122075278871, 'rosiglitazone': 4.000122075278871, 'acarbose': 3.000068666646041, 'miglitol': 1.0000076294721387, 'troglitazone': 2.000030518198964, 'tolazamide': 3.000068666646041, 'examide': 2.000030518198964, 'citoglipton': 2.000030518198964, 'insulin': 5.000190744562893, 'glyburide-metformin': 3.000068666646041, 'glipizide-metformin': 2.000030518198964, 'glimepiride-pioglitazone': 2.000030518198964, 'metformin-rosiglitazone': 2.000030518198964, 'metformin-pioglitazone': 2.000030518198964, 'change': 3.000068666646041, 'diabetesMed': 3.000068666646041, 'readmitted': 4.000122075278871}, 'missing_vals': encounter_id                0\n",
      "patient_nbr                 0\n",
      "race                        0\n",
      "gender                      0\n",
      "age                         0\n",
      "weight                      0\n",
      "admission_type_id           0\n",
      "discharge_disposition_id    0\n",
      "admission_source_id         0\n",
      "time_in_hospital            0\n",
      "payer_code                  0\n",
      "medical_specialty           0\n",
      "num_lab_procedures          0\n",
      "num_procedures              0\n",
      "num_medications             0\n",
      "number_outpatient           0\n",
      "number_emergency            0\n",
      "number_inpatient            0\n",
      "diag_1                      0\n",
      "diag_2                      0\n",
      "diag_3                      0\n",
      "number_diagnoses            0\n",
      "max_glu_serum               0\n",
      "A1Cresult                   0\n",
      "metformin                   0\n",
      "repaglinide                 0\n",
      "nateglinide                 0\n",
      "chlorpropamide              0\n",
      "glimepiride                 0\n",
      "acetohexamide               0\n",
      "glipizide                   0\n",
      "glyburide                   0\n",
      "tolbutamide                 0\n",
      "pioglitazone                0\n",
      "rosiglitazone               0\n",
      "acarbose                    0\n",
      "miglitol                    0\n",
      "troglitazone                0\n",
      "tolazamide                  0\n",
      "examide                     1\n",
      "citoglipton                 1\n",
      "insulin                     1\n",
      "glyburide-metformin         1\n",
      "glipizide-metformin         1\n",
      "glimepiride-pioglitazone    1\n",
      "metformin-rosiglitazone     1\n",
      "metformin-pioglitazone      1\n",
      "change                      1\n",
      "diabetesMed                 1\n",
      "readmitted                  1\n",
      "dtype: int64, 'duplicate': 21.439882562983257, 'skewness': {'encounter_id': -0.38381809182397686, 'patient_nbr': 1.3946421628240369, 'admission_type_id': 1.061715696287663, 'discharge_disposition_id': 1.8540444917871346, 'admission_source_id': 1.023395103420438, 'time_in_hospital': 1.000107289172231, 'num_lab_procedures': -0.07444367966397379, 'num_procedures': 1.1560580391698911, 'num_medications': 1.3581536050982188, 'number_outpatient': 15.492198798082757, 'number_emergency': 28.31888500033721, 'number_inpatient': 3.780167677130688, 'number_diagnoses': -0.5991560470436625}, 'string_len': {'race': 10.083295812696983, 'gender': 5.069608284556506, 'age': 7.011256190904998, 'weight': 1.1909950472760018, 'payer_code': 1.0, 'medical_specialty': 10.910941017559658, 'diag_1': 3.2287257991895544, 'diag_2': 3.2955425484016208, 'diag_3': 3.14930211616389, 'max_glu_serum': 4.0, 'A1Cresult': 3.693831607384061, 'metformin': 2.6090950022512382, 'repaglinide': 2.025934263845115, 'nateglinide': 2.0010805943268797, 'chlorpropamide': 2.009545249887438, 'glimepiride': 2.123728050427735, 'acetohexamide': 2.0, 'glipizide': 2.460513282305268, 'glyburide': 2.5314723097703737, 'tolbutamide': 2.0025213867627194, 'pioglitazone': 2.1420981539846915, 'rosiglitazone': 2.2285457001350744, 'acarbose': 2.0147681224673573, 'miglitol': 2.0, 'troglitazone': 2.0010805943268797, 'tolazamide': 2.005042773525439, 'examide': 2.0, 'citoglipton': 2.0, 'insulin': 3.427413544668588, 'glyburide-metformin': 2.001801152737752, 'glipizide-metformin': 2.0, 'glimepiride-pioglitazone': 2.0, 'metformin-rosiglitazone': 2.0, 'metformin-pioglitazone': 2.0, 'change': 2.0, 'diabetesMed': 2.7373018731988474, 'readmitted': 2.4907240634005765}, 'unique_vals': {'encounter_id': 0.001981089599279604, 'patient_nbr': 0.18370103556956327, 'race': 0.9994597028365602, 'gender': 0.9998199009455201, 'age': 0.9990995047276002, 'weight': 0.9990995047276002, 'admission_type_id': 0.9993696533093201, 'discharge_disposition_id': 0.9987393066186403, 'admission_source_id': 0.9990995047276002, 'time_in_hospital': 0.9987393066186403, 'payer_code': 0.99990995047276, 'medical_specialty': 0.9960378208014408, 'num_lab_procedures': 0.9904547501125619, 'num_procedures': 0.9993696533093201, 'num_medications': 0.994687077892841, 'number_outpatient': 0.9987393066186403, 'number_emergency': 0.9990094552003602, 'number_inpatient': 0.9987393066186403, 'diag_1': 0.9588473660513283, 'diag_2': 0.960288158487168, 'diag_3': 0.9564160288158488, 'number_diagnoses': 0.9991895542548401, 'max_glu_serum': 0.9996398018910401, 'A1Cresult': 0.9996398018910401, 'metformin': 0.9996398018910401, 'repaglinide': 0.9996398018910401, 'nateglinide': 0.9998199009455201, 'chlorpropamide': 0.9996398018910401, 'glimepiride': 0.9996398018910401, 'acetohexamide': 0.99990995047276, 'glipizide': 0.9996398018910401, 'glyburide': 0.9996398018910401, 'tolbutamide': 0.9998199009455201, 'pioglitazone': 0.9996398018910401, 'rosiglitazone': 0.9996398018910401, 'acarbose': 0.9997298514182801, 'miglitol': 0.99990995047276, 'troglitazone': 0.9998199009455201, 'tolazamide': 0.9997298514182801, 'examide': 0.9998199009455201, 'citoglipton': 0.9998199009455201, 'insulin': 0.9995497523638001, 'glyburide-metformin': 0.9997298514182801, 'glipizide-metformin': 0.9998199009455201, 'glimepiride-pioglitazone': 0.9998199009455201, 'metformin-rosiglitazone': 0.9998199009455201, 'metformin-pioglitazone': 0.9998199009455201, 'change': 0.9997298514182801, 'diabetesMed': 0.9997298514182801, 'readmitted': 0.9996398018910401}}}\n",
      "\n",
      "\u001b[4mtarget\u001b[0m\n",
      "None\n",
      "\n",
      "\u001b[4mdataset_attrs\u001b[0m\n",
      "None\n",
      "\n",
      "\u001b[4mnrows\u001b[0m\n",
      "11105\n",
      "\n",
      "\u001b[4msummary\u001b[0m\n",
      "{'nrows': 11105, 'cardinality': {'encounter_id': 11083.560117437017, 'patient_nbr': 9065.006722473736, 'race': 6.000274674963478, 'gender': 2.000030518198964, 'age': 10.000763017065795, 'weight': 10.000763017065795, 'admission_type_id': 7.000373866960488, 'discharge_disposition_id': 14.001495574319138, 'admission_source_id': 10.000763017065795, 'time_in_hospital': 14.001495574319138, 'payer_code': 1.0000076294721387, 'medical_specialty': 44.01477712229648, 'num_lab_procedures': 106.08581642423437, 'num_procedures': 7.000373866960488, 'num_medications': 59.026573872641585, 'number_outpatient': 14.001495574319138, 'number_emergency': 11.000923260056664, 'number_inpatient': 14.001495574319138, 'diag_1': 457.59382330741664, 'diag_2': 441.4836953993499, 'diag_3': 484.7886474548861, 'number_diagnoses': 9.000618037546497, 'max_glu_serum': 4.000122075278871, 'A1Cresult': 4.000122075278871, 'metformin': 4.000122075278871, 'repaglinide': 4.000122075278871, 'nateglinide': 2.000030518198964, 'chlorpropamide': 4.000122075278871, 'glimepiride': 4.000122075278871, 'acetohexamide': 1.0000076294721387, 'glipizide': 4.000122075278871, 'glyburide': 4.000122075278871, 'tolbutamide': 2.000030518198964, 'pioglitazone': 4.000122075278871, 'rosiglitazone': 4.000122075278871, 'acarbose': 3.000068666646041, 'miglitol': 1.0000076294721387, 'troglitazone': 2.000030518198964, 'tolazamide': 3.000068666646041, 'examide': 2.000030518198964, 'citoglipton': 2.000030518198964, 'insulin': 5.000190744562893, 'glyburide-metformin': 3.000068666646041, 'glipizide-metformin': 2.000030518198964, 'glimepiride-pioglitazone': 2.000030518198964, 'metformin-rosiglitazone': 2.000030518198964, 'metformin-pioglitazone': 2.000030518198964, 'change': 3.000068666646041, 'diabetesMed': 3.000068666646041, 'readmitted': 4.000122075278871}, 'missing_vals': encounter_id                0\n",
      "patient_nbr                 0\n",
      "race                        0\n",
      "gender                      0\n",
      "age                         0\n",
      "weight                      0\n",
      "admission_type_id           0\n",
      "discharge_disposition_id    0\n",
      "admission_source_id         0\n",
      "time_in_hospital            0\n",
      "payer_code                  0\n",
      "medical_specialty           0\n",
      "num_lab_procedures          0\n",
      "num_procedures              0\n",
      "num_medications             0\n",
      "number_outpatient           0\n",
      "number_emergency            0\n",
      "number_inpatient            0\n",
      "diag_1                      0\n",
      "diag_2                      0\n",
      "diag_3                      0\n",
      "number_diagnoses            0\n",
      "max_glu_serum               0\n",
      "A1Cresult                   0\n",
      "metformin                   0\n",
      "repaglinide                 0\n",
      "nateglinide                 0\n",
      "chlorpropamide              0\n",
      "glimepiride                 0\n",
      "acetohexamide               0\n",
      "glipizide                   0\n",
      "glyburide                   0\n",
      "tolbutamide                 0\n",
      "pioglitazone                0\n",
      "rosiglitazone               0\n",
      "acarbose                    0\n",
      "miglitol                    0\n",
      "troglitazone                0\n",
      "tolazamide                  0\n",
      "examide                     1\n",
      "citoglipton                 1\n",
      "insulin                     1\n",
      "glyburide-metformin         1\n",
      "glipizide-metformin         1\n",
      "glimepiride-pioglitazone    1\n",
      "metformin-rosiglitazone     1\n",
      "metformin-pioglitazone      1\n",
      "change                      1\n",
      "diabetesMed                 1\n",
      "readmitted                  1\n",
      "dtype: int64, 'duplicate': 21.439882562983257, 'skewness': {'encounter_id': -0.38381809182397686, 'patient_nbr': 1.3946421628240369, 'admission_type_id': 1.061715696287663, 'discharge_disposition_id': 1.8540444917871346, 'admission_source_id': 1.023395103420438, 'time_in_hospital': 1.000107289172231, 'num_lab_procedures': -0.07444367966397379, 'num_procedures': 1.1560580391698911, 'num_medications': 1.3581536050982188, 'number_outpatient': 15.492198798082757, 'number_emergency': 28.31888500033721, 'number_inpatient': 3.780167677130688, 'number_diagnoses': -0.5991560470436625}, 'string_len': {'race': 10.083295812696983, 'gender': 5.069608284556506, 'age': 7.011256190904998, 'weight': 1.1909950472760018, 'payer_code': 1.0, 'medical_specialty': 10.910941017559658, 'diag_1': 3.2287257991895544, 'diag_2': 3.2955425484016208, 'diag_3': 3.14930211616389, 'max_glu_serum': 4.0, 'A1Cresult': 3.693831607384061, 'metformin': 2.6090950022512382, 'repaglinide': 2.025934263845115, 'nateglinide': 2.0010805943268797, 'chlorpropamide': 2.009545249887438, 'glimepiride': 2.123728050427735, 'acetohexamide': 2.0, 'glipizide': 2.460513282305268, 'glyburide': 2.5314723097703737, 'tolbutamide': 2.0025213867627194, 'pioglitazone': 2.1420981539846915, 'rosiglitazone': 2.2285457001350744, 'acarbose': 2.0147681224673573, 'miglitol': 2.0, 'troglitazone': 2.0010805943268797, 'tolazamide': 2.005042773525439, 'examide': 2.0, 'citoglipton': 2.0, 'insulin': 3.427413544668588, 'glyburide-metformin': 2.001801152737752, 'glipizide-metformin': 2.0, 'glimepiride-pioglitazone': 2.0, 'metformin-rosiglitazone': 2.0, 'metformin-pioglitazone': 2.0, 'change': 2.0, 'diabetesMed': 2.7373018731988474, 'readmitted': 2.4907240634005765}, 'unique_vals': {'encounter_id': 0.001981089599279604, 'patient_nbr': 0.18370103556956327, 'race': 0.9994597028365602, 'gender': 0.9998199009455201, 'age': 0.9990995047276002, 'weight': 0.9990995047276002, 'admission_type_id': 0.9993696533093201, 'discharge_disposition_id': 0.9987393066186403, 'admission_source_id': 0.9990995047276002, 'time_in_hospital': 0.9987393066186403, 'payer_code': 0.99990995047276, 'medical_specialty': 0.9960378208014408, 'num_lab_procedures': 0.9904547501125619, 'num_procedures': 0.9993696533093201, 'num_medications': 0.994687077892841, 'number_outpatient': 0.9987393066186403, 'number_emergency': 0.9990094552003602, 'number_inpatient': 0.9987393066186403, 'diag_1': 0.9588473660513283, 'diag_2': 0.960288158487168, 'diag_3': 0.9564160288158488, 'number_diagnoses': 0.9991895542548401, 'max_glu_serum': 0.9996398018910401, 'A1Cresult': 0.9996398018910401, 'metformin': 0.9996398018910401, 'repaglinide': 0.9996398018910401, 'nateglinide': 0.9998199009455201, 'chlorpropamide': 0.9996398018910401, 'glimepiride': 0.9996398018910401, 'acetohexamide': 0.99990995047276, 'glipizide': 0.9996398018910401, 'glyburide': 0.9996398018910401, 'tolbutamide': 0.9998199009455201, 'pioglitazone': 0.9996398018910401, 'rosiglitazone': 0.9996398018910401, 'acarbose': 0.9997298514182801, 'miglitol': 0.99990995047276, 'troglitazone': 0.9998199009455201, 'tolazamide': 0.9997298514182801, 'examide': 0.9998199009455201, 'citoglipton': 0.9998199009455201, 'insulin': 0.9995497523638001, 'glyburide-metformin': 0.9997298514182801, 'glipizide-metformin': 0.9998199009455201, 'glimepiride-pioglitazone': 0.9998199009455201, 'metformin-rosiglitazone': 0.9998199009455201, 'metformin-pioglitazone': 0.9998199009455201, 'change': 0.9997298514182801, 'diabetesMed': 0.9997298514182801, 'readmitted': 0.9996398018910401}}\n"
     ]
    }
   ],
   "source": [
    "#init the metadata object\n",
    "metadata = Metadata()\n",
    "\n",
    "#calculate the Metadata of a given Dataset\n",
    "metadata(dataset)\n",
    "\n",
    "#Getting the all metadata summary\n",
    "print('\\n\\033[1mMetadata summary\\033[0m')\n",
    "print(metadata.summary)\n",
    "\n",
    "for item, values in metadata.summary.items():\n",
    "    print('\\n\\033[4m'+item+'\\033[0m')\n",
    "    print(values)"
   ]
  },
  {
   "cell_type": "code",
   "execution_count": 12,
   "metadata": {},
   "outputs": [],
   "source": [
    "## Setting the target variable\n",
    "metadata.target='readmitted'"
   ]
  },
  {
   "cell_type": "markdown",
   "metadata": {},
   "source": [
    "### Updating columns datatypes\n",
    "The automated inferences might not be totally correct in all the cases. For that reason, we always recommend to update the datatypes accordingly to the user understanding of the data. \n",
    "\n",
    "The update can be done by column or for a group of columns."
   ]
  },
  {
   "cell_type": "code",
   "execution_count": 13,
   "metadata": {},
   "outputs": [
    {
     "name": "stdout",
     "output_type": "stream",
     "text": [
      "{'columns': {'encounter_id': {'var-type': 'int', 'data-type': 'numerical'}, 'patient_nbr': {'var-type': 'int', 'data-type': 'numerical'}, 'race': {'var-type': 'string', 'data-type': 'categorical'}, 'gender': {'var-type': 'string', 'data-type': 'categorical'}, 'age': {'var-type': 'string', 'data-type': 'categorical'}, 'weight': {'var-type': 'string', 'data-type': 'categorical'}, 'admission_type_id': {'var-type': 'int', 'data-type': 'categorical'}, 'discharge_disposition_id': {'var-type': 'int', 'data-type': 'categorical'}, 'admission_source_id': {'var-type': 'int', 'data-type': 'categorical'}, 'time_in_hospital': {'var-type': 'int', 'data-type': 'categorical'}, 'payer_code': {'var-type': 'string', 'data-type': 'categorical'}, 'medical_specialty': {'var-type': 'string', 'data-type': 'categorical'}, 'num_lab_procedures': {'var-type': 'int', 'data-type': 'categorical'}, 'num_procedures': {'var-type': 'int', 'data-type': 'categorical'}, 'num_medications': {'var-type': 'int', 'data-type': 'categorical'}, 'number_outpatient': {'var-type': 'int', 'data-type': 'categorical'}, 'number_emergency': {'var-type': 'int', 'data-type': 'categorical'}, 'number_inpatient': {'var-type': 'int', 'data-type': 'categorical'}, 'diag_1': {'var-type': 'string', 'data-type': 'categorical'}, 'diag_2': {'var-type': 'string', 'data-type': 'categorical'}, 'diag_3': {'var-type': 'string', 'data-type': 'categorical'}, 'number_diagnoses': {'var-type': 'int', 'data-type': 'categorical'}, 'max_glu_serum': {'var-type': 'string', 'data-type': 'categorical'}, 'A1Cresult': {'var-type': 'string', 'data-type': 'categorical'}, 'metformin': {'var-type': 'string', 'data-type': 'categorical'}, 'repaglinide': {'var-type': 'string', 'data-type': 'categorical'}, 'nateglinide': {'var-type': 'string', 'data-type': 'categorical'}, 'chlorpropamide': {'var-type': 'string', 'data-type': 'categorical'}, 'glimepiride': {'var-type': 'string', 'data-type': 'categorical'}, 'acetohexamide': {'var-type': 'string', 'data-type': 'categorical'}, 'glipizide': {'var-type': 'string', 'data-type': 'categorical'}, 'glyburide': {'var-type': 'string', 'data-type': 'categorical'}, 'tolbutamide': {'var-type': 'string', 'data-type': 'categorical'}, 'pioglitazone': {'var-type': 'string', 'data-type': 'categorical'}, 'rosiglitazone': {'var-type': 'string', 'data-type': 'categorical'}, 'acarbose': {'var-type': 'string', 'data-type': 'categorical'}, 'miglitol': {'var-type': 'string', 'data-type': 'categorical'}, 'troglitazone': {'var-type': 'string', 'data-type': 'categorical'}, 'tolazamide': {'var-type': 'string', 'data-type': 'categorical'}, 'examide': {'var-type': 'string', 'data-type': 'categorical'}, 'citoglipton': {'var-type': 'string', 'data-type': 'categorical'}, 'insulin': {'var-type': 'string', 'data-type': 'categorical'}, 'glyburide-metformin': {'var-type': 'string', 'data-type': 'categorical'}, 'glipizide-metformin': {'var-type': 'string', 'data-type': 'categorical'}, 'glimepiride-pioglitazone': {'var-type': 'string', 'data-type': 'categorical'}, 'metformin-rosiglitazone': {'var-type': 'string', 'data-type': 'categorical'}, 'metformin-pioglitazone': {'var-type': 'string', 'data-type': 'categorical'}, 'change': {'var-type': 'string', 'data-type': 'categorical'}, 'diabetesMed': {'var-type': 'string', 'data-type': 'categorical'}, 'readmitted': {'var-type': 'string', 'data-type': 'categorical'}}, 'target': 'readmitted', 'shape': (11105, 50), 'warnings': {}}\n"
     ]
    }
   ],
   "source": [
    "print(metadata)"
   ]
  },
  {
   "cell_type": "markdown",
   "metadata": {},
   "source": [
    "In this particular example, the 'encounter_id' columns have been mistakenly identified as a numerical columns instead of an ID. The code snippet below shows how to change the datatypes:"
   ]
  },
  {
   "cell_type": "code",
   "execution_count": 15,
   "metadata": {},
   "outputs": [
    {
     "name": "stdout",
     "output_type": "stream",
     "text": [
      "\n",
      "\u001b[1mChanging one column data type\u001b[0m\n",
      "'encounter_id': ID\n",
      "\n",
      "\u001b[1mChanging multiple columns data types\u001b[0m\n",
      "'patient_nbr': ID\n",
      "'admission_type_id': ID\n"
     ]
    }
   ],
   "source": [
    "#Getting the all metadata summary\n",
    "print('\\n\\033[1mChanging one column data type\\033[0m')\n",
    "metadata.columns = {'encounter_id': 'id'}\n",
    "\n",
    "print(f\"'encounter_id': {metadata.columns['encounter_id'].datatype.name}\")\n",
    "\n",
    "print('\\n\\033[1mChanging multiple columns data types\\033[0m')\n",
    "metadata.columns = {'patient_nbr': 'id',\n",
    "                    'admission_type_id': 'id'}\n",
    "\n",
    "print(f\"'patient_nbr': {metadata.columns['patient_nbr'].datatype.name}\")\n",
    "print(f\"'admission_type_id': {metadata.columns['admission_type_id'].datatype.name}\")"
   ]
  },
  {
   "cell_type": "markdown",
   "metadata": {},
   "source": [
    "### Filtering metadata by columns\n",
    "For some activities the full metadata might not be needed and only a portion of the calls shall be considered for a certain activity (eg. data synthesis). The Metadata object allows the users to select only the needed columns, as per the example below."
   ]
  },
  {
   "cell_type": "code",
   "execution_count": 23,
   "metadata": {},
   "outputs": [
    {
     "name": "stdout",
     "output_type": "stream",
     "text": [
      "\n",
      "\u001b[1mNew avaialble metadata\u001b[0m\n",
      "{'columns': {'encounter_id': {'var-type': 'int', 'data-type': 'id'}, 'age': {'var-type': 'string', 'data-type': 'categorical'}, 'acarbose': {'var-type': 'string', 'data-type': 'categorical'}, 'readmitted': {'var-type': 'string', 'data-type': 'categorical'}}, 'target': None, 'shape': (11105, 4), 'warnings': {}}\n"
     ]
    }
   ],
   "source": [
    "filtered_metadata = metadata['encounter_id', 'age', 'acarbose', 'readmitted']\n",
    "\n",
    "print('\\n\\033[1mNew avaialble metadata\\033[0m')\n",
    "print(filtered_metadata)"
   ]
  },
  {
   "cell_type": "markdown",
   "metadata": {},
   "source": [
    "## YData connectors and the Metadata"
   ]
  },
  {
   "cell_type": "code",
   "execution_count": 16,
   "metadata": {},
   "outputs": [],
   "source": [
    "import os\n",
    "from pathlib import Path\n",
    "from ydata.connectors import GCSConnector\n",
    "from ydata.utils.formats import read_json"
   ]
  },
  {
   "cell_type": "code",
   "execution_count": 19,
   "metadata": {},
   "outputs": [],
   "source": [
    "token = read_json('gcs_credentials.json')\n",
    "conn = GCSConnector(project_id=token['project_id'], keyfile_dict=token)\n",
    "data = conn.read_file('gs://ydata_testdata/tabular/diabetes/data.csv')"
   ]
  },
  {
   "cell_type": "code",
   "execution_count": 20,
   "metadata": {},
   "outputs": [
    {
     "data": {
      "text/plain": [
       "<ydata.metadata.metadata.Metadata at 0x7ff8e52d9d10>"
      ]
     },
     "execution_count": 20,
     "metadata": {},
     "output_type": "execute_result"
    }
   ],
   "source": [
    "# The Ydata connectors already return an object of type Dataset.\n",
    "diabetes_metadata = Metadata()\n",
    "diabetes_metadata(data)"
   ]
  },
  {
   "cell_type": "code",
   "execution_count": 21,
   "metadata": {},
   "outputs": [
    {
     "name": "stdout",
     "output_type": "stream",
     "text": [
      "{'columns': {'encounter_id': {'var-type': 'int', 'data-type': 'numerical'}, 'patient_nbr': {'var-type': 'int', 'data-type': 'numerical'}, 'race': {'var-type': 'string', 'data-type': 'categorical'}, 'gender': {'var-type': 'string', 'data-type': 'categorical'}, 'age': {'var-type': 'string', 'data-type': 'categorical'}, 'weight': {'var-type': 'string', 'data-type': 'categorical'}, 'admission_type_id': {'var-type': 'int', 'data-type': 'categorical'}, 'discharge_disposition_id': {'var-type': 'int', 'data-type': 'categorical'}, 'admission_source_id': {'var-type': 'int', 'data-type': 'categorical'}, 'time_in_hospital': {'var-type': 'int', 'data-type': 'categorical'}, 'payer_code': {'var-type': 'string', 'data-type': 'categorical'}, 'medical_specialty': {'var-type': 'string', 'data-type': 'categorical'}, 'num_lab_procedures': {'var-type': 'int', 'data-type': 'categorical'}, 'num_procedures': {'var-type': 'int', 'data-type': 'categorical'}, 'num_medications': {'var-type': 'int', 'data-type': 'categorical'}, 'number_outpatient': {'var-type': 'int', 'data-type': 'categorical'}, 'number_emergency': {'var-type': 'int', 'data-type': 'categorical'}, 'number_inpatient': {'var-type': 'int', 'data-type': 'categorical'}, 'diag_1': {'var-type': 'string', 'data-type': 'categorical'}, 'diag_2': {'var-type': 'string', 'data-type': 'categorical'}, 'diag_3': {'var-type': 'string', 'data-type': 'categorical'}, 'number_diagnoses': {'var-type': 'int', 'data-type': 'categorical'}, 'max_glu_serum': {'var-type': 'string', 'data-type': 'categorical'}, 'A1Cresult': {'var-type': 'string', 'data-type': 'categorical'}, 'metformin': {'var-type': 'string', 'data-type': 'categorical'}, 'repaglinide': {'var-type': 'string', 'data-type': 'categorical'}, 'nateglinide': {'var-type': 'string', 'data-type': 'categorical'}, 'chlorpropamide': {'var-type': 'string', 'data-type': 'categorical'}, 'glimepiride': {'var-type': 'string', 'data-type': 'categorical'}, 'acetohexamide': {'var-type': 'string', 'data-type': 'categorical'}, 'glipizide': {'var-type': 'string', 'data-type': 'categorical'}, 'glyburide': {'var-type': 'string', 'data-type': 'categorical'}, 'tolbutamide': {'var-type': 'string', 'data-type': 'categorical'}, 'pioglitazone': {'var-type': 'string', 'data-type': 'categorical'}, 'rosiglitazone': {'var-type': 'string', 'data-type': 'categorical'}, 'acarbose': {'var-type': 'string', 'data-type': 'categorical'}, 'miglitol': {'var-type': 'string', 'data-type': 'categorical'}, 'troglitazone': {'var-type': 'string', 'data-type': 'categorical'}, 'tolazamide': {'var-type': 'string', 'data-type': 'categorical'}, 'examide': {'var-type': 'string', 'data-type': 'categorical'}, 'citoglipton': {'var-type': 'string', 'data-type': 'categorical'}, 'insulin': {'var-type': 'string', 'data-type': 'categorical'}, 'glyburide-metformin': {'var-type': 'string', 'data-type': 'categorical'}, 'glipizide-metformin': {'var-type': 'string', 'data-type': 'categorical'}, 'glimepiride-pioglitazone': {'var-type': 'string', 'data-type': 'categorical'}, 'metformin-rosiglitazone': {'var-type': 'string', 'data-type': 'categorical'}, 'metformin-pioglitazone': {'var-type': 'string', 'data-type': 'categorical'}, 'change': {'var-type': 'string', 'data-type': 'categorical'}, 'diabetesMed': {'var-type': 'string', 'data-type': 'categorical'}, 'readmitted': {'var-type': 'string', 'data-type': 'categorical'}}, 'target': None, 'shape': (101766, 50), 'warnings': {}}\n"
     ]
    }
   ],
   "source": [
    "print(diabetes_metadata)"
   ]
  },
  {
   "cell_type": "markdown",
   "metadata": {},
   "source": [
    "## The dataset"
   ]
  }
 ],
 "metadata": {
  "kernelspec": {
   "display_name": "Python 3 (ipykernel)",
   "language": "python",
   "name": "python3"
  },
  "language_info": {
   "codemirror_mode": {
    "name": "ipython",
    "version": 3
   },
   "file_extension": ".py",
   "mimetype": "text/x-python",
   "name": "python",
   "nbconvert_exporter": "python",
   "pygments_lexer": "ipython3",
   "version": "3.7.11"
  }
 },
 "nbformat": 4,
 "nbformat_minor": 4
}
