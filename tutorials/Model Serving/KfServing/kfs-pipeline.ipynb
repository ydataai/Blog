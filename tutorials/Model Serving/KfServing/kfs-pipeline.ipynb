{
 "cells": [
  {
   "cell_type": "markdown",
   "source": [
    "# KFServing Pipeline samples\n",
    "\n",
    "This notebook assumes your cluster has KFServing >= v0.5.0 installed which supports the v1beta1 API."
   ],
   "metadata": {}
  },
  {
   "cell_type": "markdown",
   "source": [
    "### Install the necessary kfp library"
   ],
   "metadata": {}
  },
  {
   "cell_type": "code",
   "execution_count": null,
   "source": [],
   "outputs": [],
   "metadata": {}
  },
  {
   "cell_type": "code",
   "execution_count": 16,
   "source": [
    "import kfp.compiler as compiler\n",
    "import kfp.dsl as dsl\n",
    "import kfp\n",
    "from kfp import components\n",
    "\n",
    "\n",
    "# Create kfp client\n",
    "# Note: Add the KubeFlow Pipeline endpoint below if the client is not running on the same cluster.\n",
    "# Example: kfp.Client('http://192.168.1.27:31380/pipeline')\n",
    "namespace = 'your_namespace'\n",
    "client = kfp.Client()\n",
    "EXPERIMENT_NAME = 'KFServing Experiments'\n",
    "experiment = client.create_experiment(name=EXPERIMENT_NAME, namespace='andre')"
   ],
   "outputs": [
    {
     "output_type": "display_data",
     "data": {
      "text/html": [
       "<a href=\"https://dev.azure.ydata.ai/_/pipeline//#/experiments/details/2fb5b228-15f1-413c-8c92-594d5278ce83\" target=\"_blank\" >Experiment details</a>."
      ],
      "text/plain": [
       "<IPython.core.display.HTML object>"
      ]
     },
     "metadata": {}
    }
   ],
   "metadata": {}
  },
  {
   "cell_type": "markdown",
   "source": [
    "### TensorFlow example"
   ],
   "metadata": {}
  },
  {
   "cell_type": "code",
   "execution_count": 17,
   "source": [
    "kfserving_op = components.load_component_from_url('https://raw.githubusercontent.com/kubeflow/pipelines/master/components/kubeflow/kfserving/component.yaml')\n",
    "\n",
    "@dsl.pipeline(\n",
    "  name='KFServing pipeline',\n",
    "  description='A pipeline for KFServing.'\n",
    ")\n",
    "def kfservingPipeline(\n",
    "    action='apply',\n",
    "    model_name='tensorflow-sample',\n",
    "    model_uri='gs://kfserving-samples/models/tensorflow/flowers',\n",
    "    namespace=namespace,\n",
    "    framework='tensorflow'):\n",
    "\n",
    "    kfserving = kfserving_op(action = action,\n",
    "                             model_name=model_name,\n",
    "                             model_uri=model_uri,\n",
    "                             namespace=namespace,\n",
    "                             framework=framework).set_image_pull_policy('Always')\n",
    "\n",
    "# Compile pipeline\n",
    "compiler.Compiler().compile(kfservingPipeline, 'tf-flower.tar.gz')\n",
    "\n",
    "# Execute pipeline\n",
    "run = client.run_pipeline(experiment.id, 'tf-flower', 'tf-flower.tar.gz')"
   ],
   "outputs": [
    {
     "output_type": "display_data",
     "data": {
      "text/html": [
       "<a href=\"https://dev.azure.ydata.ai/_/pipeline//#/runs/details/3d2c94c9-4da5-4b02-860e-afd9d06191f7\" target=\"_blank\" >Run details</a>."
      ],
      "text/plain": [
       "<IPython.core.display.HTML object>"
      ]
     },
     "metadata": {}
    }
   ],
   "metadata": {}
  },
  {
   "cell_type": "markdown",
   "source": [
    "### Custom model example"
   ],
   "metadata": {}
  },
  {
   "cell_type": "code",
   "execution_count": 6,
   "source": [
    "kfserving_op = components.load_component_from_url('https://raw.githubusercontent.com/kubeflow/pipelines/master/components/kubeflow/kfserving/component.yaml')\n",
    "\n",
    "@dsl.pipeline(\n",
    "  name='KFServing pipeline',\n",
    "  description='A pipeline for KFServing.'\n",
    ")\n",
    "def kfservingPipeline(\n",
    "    action='apply',\n",
    "    model_name='max-image-segmenter',\n",
    "    namespace=namespace,\n",
    "    custom_model_spec='{\"name\": \"image-segmenter\", \"image\": \"codait/max-image-segmenter:latest\", \"port\": \"5000\"}'\n",
    "):\n",
    "\n",
    "    kfserving = kfserving_op(action=action,\n",
    "                             model_name=model_name,\n",
    "                             namespace=namespace,\n",
    "                             custom_model_spec=custom_model_spec).set_image_pull_policy('Always')\n",
    "\n",
    "# Compile pipeline\n",
    "compiler.Compiler().compile(kfservingPipeline, 'custom.tar.gz')\n",
    "\n",
    "# Execute pipeline\n",
    "run = client.run_pipeline(experiment.id, 'custom-model', 'custom.tar.gz')"
   ],
   "outputs": [
    {
     "output_type": "display_data",
     "data": {
      "text/html": [
       "<a href=\"https://dev.azure.ydata.ai/_/pipeline//#/runs/details/d9017fdb-8829-4697-bf11-895d368b543c\" target=\"_blank\" >Run details</a>."
      ],
      "text/plain": [
       "<IPython.core.display.HTML object>"
      ]
     },
     "metadata": {}
    }
   ],
   "metadata": {}
  },
  {
   "cell_type": "code",
   "execution_count": null,
   "source": [],
   "outputs": [],
   "metadata": {}
  }
 ],
 "metadata": {
  "kernelspec": {
   "display_name": "Python 3 (ipykernel)",
   "language": "python",
   "name": "python3"
  },
  "language_info": {
   "codemirror_mode": {
    "name": "ipython",
    "version": 3
   },
   "file_extension": ".py",
   "mimetype": "text/x-python",
   "name": "python",
   "nbconvert_exporter": "python",
   "pygments_lexer": "ipython3",
   "version": "3.7.11"
  }
 },
 "nbformat": 4,
 "nbformat_minor": 4
}