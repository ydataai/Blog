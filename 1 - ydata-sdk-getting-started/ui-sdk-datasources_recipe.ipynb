{
 "cells": [
  {
   "cell_type": "markdown",
   "id": "72439b87-dc52-4287-bc17-7eb0e9be283d",
   "metadata": {},
   "source": [
    "# Labs SDK - Datasources quick Start\n",
    "This SDK allows you to interact with the platform components programatically from your Labs. This example notebook covers the interaction at the level of the *Connectors & DataSources*.\n",
    "\n",
    "Every method of the SDK contains an argument called `namespace` that allows you to overide the `namespace` where you are in. The namespace is the UID of your current *Project*\n",
    "\n",
    "### What can I do?!\n",
    "\n",
    "* Access the Connectors already created in the UI \n",
    "* Access the Datasources already create in the UI\n",
    "* Create a Connector that your are using in the lab in the UI\n",
    "* Create a new Dataset in the UI "
   ]
  },
  {
   "cell_type": "markdown",
   "id": "605cbb99-61d5-458e-97b8-aea03947eeca",
   "metadata": {
    "jp-MarkdownHeadingCollapsed": true,
    "tags": []
   },
   "source": [
    "##### Auxiliary functions"
   ]
  },
  {
   "cell_type": "code",
   "execution_count": 106,
   "id": "a34efd38-5d00-4bac-8b17-f117df531deb",
   "metadata": {},
   "outputs": [],
   "source": [
    "from ipywidgets import widgets\n",
    "from IPython.display import display\n",
    "\n",
    "conn_name = widgets.Text(\n",
    "    description='Connector Name',\n",
    "    disabled=False\n",
    ")\n",
    "Key_id = widgets.Text(\n",
    "    description='Key ID',\n",
    "    disabled=False\n",
    ")\n",
    "\n",
    "key_secret = widgets.Text(\n",
    "    description='Key secret',\n",
    "    disabled=False\n",
    ")\n",
    "\n",
    "region = widgets.Text(\n",
    "    description='Region',\n",
    "    disabled=False\n",
    ")\n",
    "\n",
    "conn_inputs = widgets.HBox([conn_name, Key_id, key_secret, region])"
   ]
  },
  {
   "cell_type": "code",
   "execution_count": 107,
   "id": "c976be8b-a8b3-4cc4-9d90-36c669f95a28",
   "metadata": {},
   "outputs": [],
   "source": [
    "ds_name = widgets.Text(\n",
    "    description='Datasource Name',\n",
    "    disabled=False\n",
    ")\n",
    "ds_path = widgets.Text(\n",
    "    description='Dataset path',\n",
    "    disabled=False\n",
    ")\n",
    "\n",
    "dataset_inputs=conn_inputs = widgets.HBox([ds_name, ds_path])"
   ]
  },
  {
   "cell_type": "markdown",
   "id": "f00f3dff-beac-4ffe-b769-a4e82396d06a",
   "metadata": {},
   "source": [
    "## Connectors Module\n",
    "\n",
    "### What is a Connector?\n",
    "\n",
    "A Connector a connector, as its name implies, allows reusable connections to DataSources to access data through them.\n",
    "\n",
    "It's from the responsability of each connector to implement those methods and the behaviour, but all of them returns a Connection. Through the SDK the following coonector actions are possible:\n",
    "\n",
    "Connectors:\n",
    "\n",
    "- **Connectors.list** - List of all available Connectors within the user namespace\n",
    "- **Connectors.get**  - Get a particular Connectors details like uid, name, credentials, type (aws-s3, azure-blob, gcs, file, mysql, azure-sql, google-bigquery)."
   ]
  },
  {
   "cell_type": "code",
   "execution_count": 1,
   "id": "c6e7cc93-b13e-42fb-9af2-90629aafacdc",
   "metadata": {},
   "outputs": [
    {
     "data": {
      "text/plain": [
       "[FileConnector(uid=39b03a65-33cd-421b-a580-852ac0db39c3, name=House pricing, path=house_price_train.csv) ,\n",
       " GoogleCloudStorageConnector(uid=5bbf90c6-f41e-4690-93a7-b8fc3fbc1f09, name=YData Synthetic) ,\n",
       " FileConnector(uid=6c760e79-de4b-4565-8d71-98b878d25641, name=New validation, path=data.csv) ,\n",
       " AWSS3Connector(uid=7a32a105-40c8-4f80-a852-b82d89f46d17, name=S3 Conn, region=eu-central-1) ,\n",
       " FileConnector(uid=7b374793-bdba-41fc-845d-afa4fe00be62, name=Teste upload, path=data.csv) ,\n",
       " AzureSQLConnector(uid=9a173727-778f-4ba0-969e-e01953b8b89f, name=Berka, host=ydata.database.windows.net, port=1433, database=berka) ,\n",
       " GoogleCloudStorageConnector(uid=9c38f5f0-3348-4371-ac94-ef998fa93fd8, name=Academy) ,\n",
       " FileConnector(uid=e1992fe0-9a25-4abe-9273-1b212a02881a, name=Validation upload, path=data.csv) ,\n",
       " MySQLConnector(uid=f0f53f7b-677e-4b9a-b2c7-68f1ce79ca15, name=Berka validation, host=datascience-tests.c1xxv3f18hni.eu-west-1.rds.amazonaws.com, port=3306, database=berka ]"
      ]
     },
     "execution_count": 1,
     "metadata": {},
     "output_type": "execute_result"
    }
   ],
   "source": [
    "#Get the list of the available connectors\n",
    "from ydata.labs import Connectors\n",
    "\n",
    "Connectors.list()"
   ]
  },
  {
   "cell_type": "markdown",
   "id": "4927ca6e-446a-4692-a731-b4d746f970e2",
   "metadata": {},
   "source": [
    "Explain what I'm going to do next and what could have been done instead."
   ]
  },
  {
   "cell_type": "markdown",
   "id": "7ec8f6b6-a283-4a0a-99d5-3729a1af28a4",
   "metadata": {
    "tags": []
   },
   "source": [
    "## How to create a Connector and a Datasource in the UI?"
   ]
  },
  {
   "cell_type": "markdown",
   "id": "5140a26a-505f-406f-8e15-068716359fd6",
   "metadata": {},
   "source": [
    "For this example we are using an *AWS S3 Connector*, but there are a few other connnectors that you can leverage."
   ]
  },
  {
   "cell_type": "markdown",
   "id": "3386b826-10f9-4705-ac92-ff6a9a5bb548",
   "metadata": {
    "tags": []
   },
   "source": [
    "### Create a Connector (AWSConnector)"
   ]
  },
  {
   "cell_type": "code",
   "execution_count": 104,
   "id": "ea4afe3d-96d7-4244-8d65-78f60450fbd0",
   "metadata": {},
   "outputs": [
    {
     "data": {
      "application/vnd.jupyter.widget-view+json": {
       "model_id": "5759dce20f984e85b84374d320d95af2",
       "version_major": 2,
       "version_minor": 0
      },
      "text/plain": [
       "HBox(children=(Text(value='', description='Connector Name'), Text(value='', description='Key ID'), Text(value=…"
      ]
     },
     "metadata": {},
     "output_type": "display_data"
    }
   ],
   "source": [
    "display(conn_inputs)"
   ]
  },
  {
   "cell_type": "code",
   "execution_count": 94,
   "id": "accc1c2b-8dbd-40d4-80cd-0da3270a79f4",
   "metadata": {},
   "outputs": [],
   "source": [
    "from ydata.labs import AWSS3Connector\n",
    "from ydata.labs import AWSS3DataSource, DataType, FileType\n",
    "\n",
    "connector = AWSS3Connector(name=conn_name.value,\n",
    "                           key_id=Key_id.value,\n",
    "                           key_secret=key_secret.value,\n",
    "                           region=region.value)\n",
    "connector.create()"
   ]
  },
  {
   "cell_type": "markdown",
   "id": "b524def7-f43e-454d-9a1a-1ee582d3d2c7",
   "metadata": {},
   "source": [
    "### Create & Explore the Datasource from the connector"
   ]
  },
  {
   "cell_type": "code",
   "execution_count": 108,
   "id": "6ac6aca6-4431-44ea-8629-3868fe04c64f",
   "metadata": {},
   "outputs": [
    {
     "data": {
      "application/vnd.jupyter.widget-view+json": {
       "model_id": "348cb974f61045859b64134d09463976",
       "version_major": 2,
       "version_minor": 0
      },
      "text/plain": [
       "HBox(children=(Text(value='', description='Datasource Name'), Text(value='', description='Dataset path')))"
      ]
     },
     "metadata": {},
     "output_type": "display_data"
    }
   ],
   "source": [
    "display(dataset_inputs)"
   ]
  },
  {
   "cell_type": "code",
   "execution_count": 3,
   "id": "ffb99cca-7ba2-492b-ac97-ad8fd26011c3",
   "metadata": {},
   "outputs": [],
   "source": [
    "datasource = AWSS3DataSource(name=ds_name.value,\n",
    "                             connector=connector,\n",
    "                             data_type=DataType.TABULAR, #Dataset can be of type TABULAR or TIMESERIES\n",
    "                             path=ds_path.value,\n",
    "                             file_type=FileType.CSV, #File type can be CSV or PARQUET\n",
    "                             sub_sample=1000, # type Optional[int] and default None\n",
    "                             separator=',' # str and default ','\n",
    "                            )\n",
    "\n",
    "datasource.create()"
   ]
  },
  {
   "cell_type": "code",
   "execution_count": null,
   "id": "937a5e5b-70b5-45ab-bb31-244c0832f1d8",
   "metadata": {},
   "outputs": [],
   "source": [
    "#list available datasources to confirm the creation\n",
    "from ydata.labs import DataSources"
   ]
  },
  {
   "cell_type": "code",
   "execution_count": 9,
   "id": "ad11be21-3650-47b4-b3ab-d39948580fa4",
   "metadata": {},
   "outputs": [
    {
     "data": {
      "text/plain": [
       "[GCSDataSource(uid='32c54776-c090-4df4-92f4-5d47459b1fee', name='Customer', metadata=Metadata(columns=[Column(name='CustomerID', data_type='categorical', var_type='string'), Column(name='Count', data_type='numerical', var_type='int'), Column(name='Country', data_type='categorical', var_type='string'), Column(name='State', data_type='categorical', var_type='string'), Column(name='City', data_type='categorical', var_type='string'), Column(name='Zip Code', data_type='numerical', var_type='int'), Column(name='Lat Long', data_type='categorical', var_type='string'), Column(name='Latitude', data_type='numerical', var_type='float'), Column(name='Longitude', data_type='numerical', var_type='float'), Column(name='Gender', data_type='categorical', var_type='string'), Column(name='Senior Citizen', data_type='categorical', var_type='string'), Column(name='Partner', data_type='categorical', var_type='string'), Column(name='Dependents', data_type='categorical', var_type='string'), Column(name='Tenure Months', data_type='numerical', var_type='int'), Column(name='Phone Service', data_type='categorical', var_type='string'), Column(name='Multiple Lines', data_type='categorical', var_type='string'), Column(name='Internet Service', data_type='categorical', var_type='string'), Column(name='Online Security', data_type='categorical', var_type='string'), Column(name='Online Backup', data_type='categorical', var_type='string'), Column(name='Device Protection', data_type='categorical', var_type='string'), Column(name='Tech Support', data_type='categorical', var_type='string'), Column(name='Streaming TV', data_type='categorical', var_type='string'), Column(name='Streaming Movies', data_type='categorical', var_type='string'), Column(name='Contract', data_type='categorical', var_type='string'), Column(name='Paperless Billing', data_type='categorical', var_type='string'), Column(name='Payment Method', data_type='categorical', var_type='string'), Column(name='Monthly Charges', data_type='numerical', var_type='float'), Column(name='Total Charges', data_type='numerical', var_type='float'), Column(name='Churn Label', data_type='categorical', var_type='string'), Column(name='Churn Value', data_type='numerical', var_type='int'), Column(name='CLTV', data_type='numerical', var_type='int'), Column(name='Churn Reason', data_type='categorical', var_type='string')]), connector_ref=ConnectorRef(uid='9c38f5f0-3348-4371-ac94-ef998fa93fd8', type=<ConnectorType.GCS: 'gcs'>), data_type=<DataType.TABULAR: 'tabular'>, sub_sample=None, path='gs://ydata-academy/customer_churn/data.csv', separator=',', file_type=<FileType.CSV: 'csv'>),\n",
       " FileDataSource(uid='4d294ac1-189b-4ea5-bfca-60722bb9aa2a', name='Test DS', metadata=Metadata(columns=[Column(name='CustomerID', data_type='categorical', var_type='string'), Column(name='Count', data_type='numerical', var_type='float'), Column(name='Country', data_type='categorical', var_type='string'), Column(name='State', data_type='categorical', var_type='string'), Column(name='City', data_type='categorical', var_type='string'), Column(name='Zip Code', data_type='numerical', var_type='float'), Column(name='Lat Long', data_type='categorical', var_type='string'), Column(name='Latitude', data_type='numerical', var_type='float'), Column(name='Longitude', data_type='numerical', var_type='float'), Column(name='Gender', data_type='categorical', var_type='string'), Column(name='Senior Citizen', data_type='categorical', var_type='string'), Column(name='Partner', data_type='categorical', var_type='string'), Column(name='Dependents', data_type='categorical', var_type='string'), Column(name='Tenure Months', data_type='numerical', var_type='float'), Column(name='Phone Service', data_type='categorical', var_type='string'), Column(name='Multiple Lines', data_type='categorical', var_type='string'), Column(name='Internet Service', data_type='categorical', var_type='string'), Column(name='Online Security', data_type='categorical', var_type='string'), Column(name='Online Backup', data_type='categorical', var_type='string'), Column(name='Device Protection', data_type='categorical', var_type='string'), Column(name='Tech Support', data_type='categorical', var_type='string'), Column(name='Streaming TV', data_type='categorical', var_type='string'), Column(name='Streaming Movies', data_type='categorical', var_type='string'), Column(name='Contract', data_type='categorical', var_type='string'), Column(name='Paperless Billing', data_type='categorical', var_type='string'), Column(name='Payment Method', data_type='categorical', var_type='string'), Column(name='Monthly Charges', data_type='numerical', var_type='float'), Column(name='Total Charges', data_type='numerical', var_type='float'), Column(name='Churn Label', data_type='categorical', var_type='string'), Column(name='Churn Value', data_type='numerical', var_type='float'), Column(name='CLTV', data_type='numerical', var_type='float'), Column(name='Churn Reason', data_type='categorical', var_type='string')]), connector_ref=ConnectorRef(uid='7b374793-bdba-41fc-845d-afa4fe00be62', type=<ConnectorType.FILE: 'file'>), data_type=<DataType.TABULAR: 'tabular'>, sub_sample=None, path='data.csv', separator=',', file_type=<FileType.CSV: 'csv'>),\n",
       " AWSS3DataSource(uid='6f3346b7-cb65-4804-b50b-d85cc3c3e402', name='Diabetes test - S3', metadata=Metadata(columns=[]), connector_ref=ConnectorRef(uid='a5653b35-a7b3-4858-8536-d0c698ead394', type=<ConnectorType.AWS_S3: 'aws-s3'>), data_type=<DataType.TABULAR: 'tabular'>, sub_sample=1000, path='s3://ydata-dev/regular/diabetes/data.csv', separator=',', file_type=<FileType.CSV: 'csv'>),\n",
       " FileDataSource(uid='7d6f173e-f3af-487b-8b80-76787b15fe86', name='Validation upload data', metadata=Metadata(columns=[Column(name='CustomerID', data_type='categorical', var_type='string'), Column(name='Count', data_type='numerical', var_type='float'), Column(name='Country', data_type='categorical', var_type='string'), Column(name='State', data_type='categorical', var_type='string'), Column(name='City', data_type='categorical', var_type='string'), Column(name='Zip Code', data_type='numerical', var_type='float'), Column(name='Lat Long', data_type='categorical', var_type='string'), Column(name='Latitude', data_type='numerical', var_type='float'), Column(name='Longitude', data_type='numerical', var_type='float'), Column(name='Gender', data_type='categorical', var_type='string'), Column(name='Senior Citizen', data_type='categorical', var_type='string'), Column(name='Partner', data_type='categorical', var_type='string'), Column(name='Dependents', data_type='categorical', var_type='string'), Column(name='Tenure Months', data_type='numerical', var_type='float'), Column(name='Phone Service', data_type='categorical', var_type='string'), Column(name='Multiple Lines', data_type='categorical', var_type='string'), Column(name='Internet Service', data_type='categorical', var_type='string'), Column(name='Online Security', data_type='categorical', var_type='string'), Column(name='Online Backup', data_type='categorical', var_type='string'), Column(name='Device Protection', data_type='categorical', var_type='string'), Column(name='Tech Support', data_type='categorical', var_type='string'), Column(name='Streaming TV', data_type='categorical', var_type='string'), Column(name='Streaming Movies', data_type='categorical', var_type='string'), Column(name='Contract', data_type='categorical', var_type='string'), Column(name='Paperless Billing', data_type='categorical', var_type='string'), Column(name='Payment Method', data_type='categorical', var_type='string'), Column(name='Monthly Charges', data_type='numerical', var_type='float'), Column(name='Total Charges', data_type='numerical', var_type='float'), Column(name='Churn Label', data_type='categorical', var_type='string'), Column(name='Churn Value', data_type='numerical', var_type='float'), Column(name='CLTV', data_type='numerical', var_type='float'), Column(name='Churn Reason', data_type='categorical', var_type='string')]), connector_ref=ConnectorRef(uid='6c760e79-de4b-4565-8d71-98b878d25641', type=<ConnectorType.FILE: 'file'>), data_type=<DataType.TABULAR: 'tabular'>, sub_sample=None, path='data.csv', separator=',', file_type=<FileType.CSV: 'csv'>),\n",
       " FileDataSource(uid='9eac5c6c-5c8d-4ebb-a53a-c4acdd738693', name='House validation', metadata=Metadata(columns=[Column(name='Id', data_type='numerical', var_type='float'), Column(name='MSSubClass', data_type='numerical', var_type='float'), Column(name='MSZoning', data_type='categorical', var_type='string'), Column(name='LotFrontage', data_type='numerical', var_type='float'), Column(name='LotArea', data_type='numerical', var_type='float'), Column(name='Street', data_type='categorical', var_type='string'), Column(name='Alley', data_type='categorical', var_type='string'), Column(name='LotShape', data_type='categorical', var_type='string'), Column(name='LandContour', data_type='categorical', var_type='string'), Column(name='Utilities', data_type='categorical', var_type='string'), Column(name='LotConfig', data_type='categorical', var_type='string'), Column(name='LandSlope', data_type='categorical', var_type='string'), Column(name='Neighborhood', data_type='categorical', var_type='string'), Column(name='Condition1', data_type='categorical', var_type='string'), Column(name='Condition2', data_type='categorical', var_type='string'), Column(name='BldgType', data_type='categorical', var_type='string'), Column(name='HouseStyle', data_type='categorical', var_type='string'), Column(name='OverallQual', data_type='numerical', var_type='float'), Column(name='OverallCond', data_type='numerical', var_type='float'), Column(name='YearBuilt', data_type='numerical', var_type='float'), Column(name='YearRemodAdd', data_type='numerical', var_type='float'), Column(name='RoofStyle', data_type='categorical', var_type='string'), Column(name='RoofMatl', data_type='categorical', var_type='string'), Column(name='Exterior1st', data_type='categorical', var_type='string'), Column(name='Exterior2nd', data_type='categorical', var_type='string'), Column(name='MasVnrType', data_type='categorical', var_type='string'), Column(name='MasVnrArea', data_type='numerical', var_type='float'), Column(name='ExterQual', data_type='categorical', var_type='string'), Column(name='ExterCond', data_type='categorical', var_type='string'), Column(name='Foundation', data_type='categorical', var_type='string'), Column(name='BsmtQual', data_type='categorical', var_type='string'), Column(name='BsmtCond', data_type='categorical', var_type='string'), Column(name='BsmtExposure', data_type='categorical', var_type='string'), Column(name='BsmtFinType1', data_type='categorical', var_type='string'), Column(name='BsmtFinSF1', data_type='numerical', var_type='float'), Column(name='BsmtFinType2', data_type='categorical', var_type='string'), Column(name='BsmtFinSF2', data_type='numerical', var_type='float'), Column(name='BsmtUnfSF', data_type='numerical', var_type='float'), Column(name='TotalBsmtSF', data_type='numerical', var_type='float'), Column(name='Heating', data_type='categorical', var_type='string'), Column(name='HeatingQC', data_type='categorical', var_type='string'), Column(name='CentralAir', data_type='categorical', var_type='string'), Column(name='Electrical', data_type='categorical', var_type='string'), Column(name='1stFlrSF', data_type='numerical', var_type='float'), Column(name='2ndFlrSF', data_type='numerical', var_type='float'), Column(name='LowQualFinSF', data_type='numerical', var_type='float'), Column(name='GrLivArea', data_type='numerical', var_type='float'), Column(name='BsmtFullBath', data_type='numerical', var_type='float'), Column(name='BsmtHalfBath', data_type='numerical', var_type='float'), Column(name='FullBath', data_type='numerical', var_type='float'), Column(name='HalfBath', data_type='numerical', var_type='float'), Column(name='BedroomAbvGr', data_type='numerical', var_type='float'), Column(name='KitchenAbvGr', data_type='numerical', var_type='float'), Column(name='KitchenQual', data_type='categorical', var_type='string'), Column(name='TotRmsAbvGrd', data_type='numerical', var_type='float'), Column(name='Functional', data_type='categorical', var_type='string'), Column(name='Fireplaces', data_type='numerical', var_type='float'), Column(name='FireplaceQu', data_type='categorical', var_type='string'), Column(name='GarageType', data_type='categorical', var_type='string'), Column(name='GarageYrBlt', data_type='numerical', var_type='float'), Column(name='GarageFinish', data_type='categorical', var_type='string'), Column(name='GarageCars', data_type='numerical', var_type='float'), Column(name='GarageArea', data_type='numerical', var_type='float'), Column(name='GarageQual', data_type='categorical', var_type='string'), Column(name='GarageCond', data_type='categorical', var_type='string'), Column(name='PavedDrive', data_type='categorical', var_type='string'), Column(name='WoodDeckSF', data_type='numerical', var_type='float'), Column(name='OpenPorchSF', data_type='numerical', var_type='float'), Column(name='EnclosedPorch', data_type='numerical', var_type='float'), Column(name='3SsnPorch', data_type='numerical', var_type='float'), Column(name='ScreenPorch', data_type='numerical', var_type='float'), Column(name='PoolArea', data_type='numerical', var_type='float'), Column(name='PoolQC', data_type='categorical', var_type='string'), Column(name='Fence', data_type='categorical', var_type='string'), Column(name='MiscFeature', data_type='categorical', var_type='string'), Column(name='MiscVal', data_type='numerical', var_type='float'), Column(name='MoSold', data_type='numerical', var_type='float'), Column(name='YrSold', data_type='numerical', var_type='float'), Column(name='SaleType', data_type='categorical', var_type='string'), Column(name='SaleCondition', data_type='categorical', var_type='string'), Column(name='SalePrice', data_type='numerical', var_type='float')]), connector_ref=ConnectorRef(uid='39b03a65-33cd-421b-a580-852ac0db39c3', type=<ConnectorType.FILE: 'file'>), data_type=<DataType.TABULAR: 'tabular'>, sub_sample=None, path='house_price_train.csv', separator=',', file_type=<FileType.CSV: 'csv'>),\n",
       " AWSS3DataSource(uid='d1a42ac5-c69f-444e-b040-bd65e07a99a3', name='S3 dataset', metadata=Metadata(columns=[Column(name='Time', data_type='numerical', var_type='float'), Column(name='V1', data_type='numerical', var_type='float'), Column(name='V2', data_type='numerical', var_type='float'), Column(name='V3', data_type='numerical', var_type='float'), Column(name='V4', data_type='numerical', var_type='float'), Column(name='V5', data_type='numerical', var_type='float'), Column(name='V6', data_type='numerical', var_type='float'), Column(name='V7', data_type='numerical', var_type='float'), Column(name='V8', data_type='numerical', var_type='float'), Column(name='V9', data_type='numerical', var_type='float'), Column(name='V10', data_type='numerical', var_type='float'), Column(name='V11', data_type='numerical', var_type='float'), Column(name='V12', data_type='numerical', var_type='float'), Column(name='V13', data_type='numerical', var_type='float'), Column(name='V14', data_type='numerical', var_type='float'), Column(name='V15', data_type='numerical', var_type='float'), Column(name='V16', data_type='numerical', var_type='float'), Column(name='V17', data_type='numerical', var_type='float'), Column(name='V18', data_type='numerical', var_type='float'), Column(name='V19', data_type='numerical', var_type='float'), Column(name='V20', data_type='numerical', var_type='float'), Column(name='V21', data_type='numerical', var_type='float'), Column(name='V22', data_type='numerical', var_type='float'), Column(name='V23', data_type='numerical', var_type='float'), Column(name='V24', data_type='numerical', var_type='float'), Column(name='V25', data_type='numerical', var_type='float'), Column(name='V26', data_type='numerical', var_type='float'), Column(name='V27', data_type='numerical', var_type='float'), Column(name='V28', data_type='numerical', var_type='float'), Column(name='Amount', data_type='numerical', var_type='float'), Column(name='Class', data_type='numerical', var_type='int')]), connector_ref=ConnectorRef(uid='7a32a105-40c8-4f80-a852-b82d89f46d17', type=<ConnectorType.AWS_S3: 'aws-s3'>), data_type=<DataType.TABULAR: 'tabular'>, sub_sample=None, path='s3://ydata-dev/regular/credit_fraud/data.csv', separator=',', file_type=<FileType.CSV: 'csv'>),\n",
       " AzureSQLDataSource(uid='dea62abe-5546-4990-9a66-ad4cf88e7ec8', name='Berka account', metadata=Metadata(columns=[Column(name='account_id', data_type='numerical', var_type='int'), Column(name='district_id', data_type='numerical', var_type='int'), Column(name='frequency', data_type='categorical', var_type='string'), Column(name='date', data_type='numerical', var_type='int')]), connector_ref=ConnectorRef(uid='9a173727-778f-4ba0-969e-e01953b8b89f', type=<ConnectorType.AZURE_SQL: 'azure-sql'>), data_type=<DataType.TABULAR: 'tabular'>, sub_sample=None, query='SELECT * FROM berka.account;'),\n",
       " MySQLDataSource(uid='e08f6c39-76fd-4fab-a733-60cb2118211b', name='Berka Transactions', metadata=Metadata(columns=[Column(name='trans_id', data_type='numerical', var_type='int'), Column(name='account_id', data_type='numerical', var_type='int'), Column(name='date', data_type='numerical', var_type='int'), Column(name='type', data_type='categorical', var_type='string'), Column(name='operation', data_type='categorical', var_type='string'), Column(name='amount', data_type='numerical', var_type='float'), Column(name='balance', data_type='numerical', var_type='float'), Column(name='k_symbol', data_type='categorical', var_type='string'), Column(name='bank', data_type='categorical', var_type='string'), Column(name='account', data_type='numerical', var_type='float')]), connector_ref=ConnectorRef(uid='f0f53f7b-677e-4b9a-b2c7-68f1ce79ca15', type=<ConnectorType.MYSQL: 'mysql'>), data_type=<DataType.TABULAR: 'tabular'>, sub_sample=None, query='select * from trans;')]"
      ]
     },
     "execution_count": 9,
     "metadata": {},
     "output_type": "execute_result"
    }
   ],
   "source": [
    "DataSources.list()"
   ]
  },
  {
   "cell_type": "markdown",
   "id": "e087d378-2bf6-47cf-adc9-5ada37db9677",
   "metadata": {},
   "source": [
    "### Writing a Dataset using a Connector created in the UI"
   ]
  },
  {
   "cell_type": "code",
   "execution_count": 17,
   "id": "02f1293f-bbd7-488f-ae24-1f1eb16a19e4",
   "metadata": {},
   "outputs": [
    {
     "data": {
      "text/html": [
       "<div>\n",
       "<style scoped>\n",
       "    .dataframe tbody tr th:only-of-type {\n",
       "        vertical-align: middle;\n",
       "    }\n",
       "\n",
       "    .dataframe tbody tr th {\n",
       "        vertical-align: top;\n",
       "    }\n",
       "\n",
       "    .dataframe thead th {\n",
       "        text-align: right;\n",
       "    }\n",
       "</style>\n",
       "<table border=\"1\" class=\"dataframe\">\n",
       "  <thead>\n",
       "    <tr style=\"text-align: right;\">\n",
       "      <th></th>\n",
       "      <th>CustomerID</th>\n",
       "      <th>Count</th>\n",
       "      <th>Country</th>\n",
       "      <th>State</th>\n",
       "      <th>City</th>\n",
       "      <th>Zip Code</th>\n",
       "      <th>Lat Long</th>\n",
       "      <th>Latitude</th>\n",
       "      <th>Longitude</th>\n",
       "      <th>Gender</th>\n",
       "      <th>...</th>\n",
       "      <th>Streaming Movies</th>\n",
       "      <th>Contract</th>\n",
       "      <th>Paperless Billing</th>\n",
       "      <th>Payment Method</th>\n",
       "      <th>Monthly Charges</th>\n",
       "      <th>Total Charges</th>\n",
       "      <th>Churn Label</th>\n",
       "      <th>Churn Value</th>\n",
       "      <th>CLTV</th>\n",
       "      <th>Churn Reason</th>\n",
       "    </tr>\n",
       "  </thead>\n",
       "  <tbody>\n",
       "    <tr>\n",
       "      <th>0</th>\n",
       "      <td>3668-QPYBK</td>\n",
       "      <td>1</td>\n",
       "      <td>United States</td>\n",
       "      <td>California</td>\n",
       "      <td>Los Angeles</td>\n",
       "      <td>90003</td>\n",
       "      <td>33.964131, -118.272783</td>\n",
       "      <td>33.964131</td>\n",
       "      <td>-118.272783</td>\n",
       "      <td>Male</td>\n",
       "      <td>...</td>\n",
       "      <td>No</td>\n",
       "      <td>Month-to-month</td>\n",
       "      <td>Yes</td>\n",
       "      <td>Mailed check</td>\n",
       "      <td>53.85</td>\n",
       "      <td>108.15</td>\n",
       "      <td>Yes</td>\n",
       "      <td>1</td>\n",
       "      <td>3239</td>\n",
       "      <td>Competitor made better offer</td>\n",
       "    </tr>\n",
       "    <tr>\n",
       "      <th>1</th>\n",
       "      <td>9237-HQITU</td>\n",
       "      <td>1</td>\n",
       "      <td>United States</td>\n",
       "      <td>California</td>\n",
       "      <td>Los Angeles</td>\n",
       "      <td>90005</td>\n",
       "      <td>34.059281, -118.30742</td>\n",
       "      <td>34.059281</td>\n",
       "      <td>-118.307420</td>\n",
       "      <td>Female</td>\n",
       "      <td>...</td>\n",
       "      <td>No</td>\n",
       "      <td>Month-to-month</td>\n",
       "      <td>Yes</td>\n",
       "      <td>Electronic check</td>\n",
       "      <td>70.70</td>\n",
       "      <td>151.65</td>\n",
       "      <td>Yes</td>\n",
       "      <td>1</td>\n",
       "      <td>2701</td>\n",
       "      <td>Moved</td>\n",
       "    </tr>\n",
       "    <tr>\n",
       "      <th>2</th>\n",
       "      <td>9305-CDSKC</td>\n",
       "      <td>1</td>\n",
       "      <td>United States</td>\n",
       "      <td>California</td>\n",
       "      <td>Los Angeles</td>\n",
       "      <td>90006</td>\n",
       "      <td>34.048013, -118.293953</td>\n",
       "      <td>34.048013</td>\n",
       "      <td>-118.293953</td>\n",
       "      <td>Female</td>\n",
       "      <td>...</td>\n",
       "      <td>Yes</td>\n",
       "      <td>Month-to-month</td>\n",
       "      <td>Yes</td>\n",
       "      <td>Electronic check</td>\n",
       "      <td>99.65</td>\n",
       "      <td>820.50</td>\n",
       "      <td>Yes</td>\n",
       "      <td>1</td>\n",
       "      <td>5372</td>\n",
       "      <td>Moved</td>\n",
       "    </tr>\n",
       "    <tr>\n",
       "      <th>3</th>\n",
       "      <td>7892-POOKP</td>\n",
       "      <td>1</td>\n",
       "      <td>United States</td>\n",
       "      <td>California</td>\n",
       "      <td>Los Angeles</td>\n",
       "      <td>90010</td>\n",
       "      <td>34.062125, -118.315709</td>\n",
       "      <td>34.062125</td>\n",
       "      <td>-118.315709</td>\n",
       "      <td>Female</td>\n",
       "      <td>...</td>\n",
       "      <td>Yes</td>\n",
       "      <td>Month-to-month</td>\n",
       "      <td>Yes</td>\n",
       "      <td>Electronic check</td>\n",
       "      <td>104.80</td>\n",
       "      <td>3046.05</td>\n",
       "      <td>Yes</td>\n",
       "      <td>1</td>\n",
       "      <td>5003</td>\n",
       "      <td>Moved</td>\n",
       "    </tr>\n",
       "    <tr>\n",
       "      <th>4</th>\n",
       "      <td>0280-XJGEX</td>\n",
       "      <td>1</td>\n",
       "      <td>United States</td>\n",
       "      <td>California</td>\n",
       "      <td>Los Angeles</td>\n",
       "      <td>90015</td>\n",
       "      <td>34.039224, -118.266293</td>\n",
       "      <td>34.039224</td>\n",
       "      <td>-118.266293</td>\n",
       "      <td>Male</td>\n",
       "      <td>...</td>\n",
       "      <td>Yes</td>\n",
       "      <td>Month-to-month</td>\n",
       "      <td>Yes</td>\n",
       "      <td>Bank transfer (automatic)</td>\n",
       "      <td>103.70</td>\n",
       "      <td>5036.30</td>\n",
       "      <td>Yes</td>\n",
       "      <td>1</td>\n",
       "      <td>5340</td>\n",
       "      <td>Competitor had better devices</td>\n",
       "    </tr>\n",
       "  </tbody>\n",
       "</table>\n",
       "<p>5 rows × 32 columns</p>\n",
       "</div>"
      ],
      "text/plain": [
       "   CustomerID  Count        Country       State         City  Zip Code  \\\n",
       "0  3668-QPYBK      1  United States  California  Los Angeles     90003   \n",
       "1  9237-HQITU      1  United States  California  Los Angeles     90005   \n",
       "2  9305-CDSKC      1  United States  California  Los Angeles     90006   \n",
       "3  7892-POOKP      1  United States  California  Los Angeles     90010   \n",
       "4  0280-XJGEX      1  United States  California  Los Angeles     90015   \n",
       "\n",
       "                 Lat Long   Latitude   Longitude  Gender  ...  \\\n",
       "0  33.964131, -118.272783  33.964131 -118.272783    Male  ...   \n",
       "1   34.059281, -118.30742  34.059281 -118.307420  Female  ...   \n",
       "2  34.048013, -118.293953  34.048013 -118.293953  Female  ...   \n",
       "3  34.062125, -118.315709  34.062125 -118.315709  Female  ...   \n",
       "4  34.039224, -118.266293  34.039224 -118.266293    Male  ...   \n",
       "\n",
       "  Streaming Movies        Contract Paperless Billing  \\\n",
       "0               No  Month-to-month               Yes   \n",
       "1               No  Month-to-month               Yes   \n",
       "2              Yes  Month-to-month               Yes   \n",
       "3              Yes  Month-to-month               Yes   \n",
       "4              Yes  Month-to-month               Yes   \n",
       "\n",
       "              Payment Method Monthly Charges Total Charges Churn Label  \\\n",
       "0               Mailed check           53.85        108.15         Yes   \n",
       "1           Electronic check           70.70        151.65         Yes   \n",
       "2           Electronic check           99.65        820.50         Yes   \n",
       "3           Electronic check          104.80       3046.05         Yes   \n",
       "4  Bank transfer (automatic)          103.70       5036.30         Yes   \n",
       "\n",
       "  Churn Value  CLTV                   Churn Reason  \n",
       "0           1  3239   Competitor made better offer  \n",
       "1           1  2701                          Moved  \n",
       "2           1  5372                          Moved  \n",
       "3           1  5003                          Moved  \n",
       "4           1  5340  Competitor had better devices  \n",
       "\n",
       "[5 rows x 32 columns]"
      ]
     },
     "execution_count": 17,
     "metadata": {},
     "output_type": "execute_result"
    }
   ],
   "source": [
    "from ydata.labs import Connectors\n",
    "from ydata.labs import DataSources\n",
    "from ydata.metadata import Metadata\n",
    "\n",
    "# Creating a Dataset from the Data Source\n",
    "datasource = DataSources.get(uid='datasource-uid',\n",
    "                             namespace='namespace-id')\n",
    "\n",
    "dataset = datasource.read()\n",
    "\n",
    "dataset.head()"
   ]
  },
  {
   "cell_type": "code",
   "execution_count": 18,
   "id": "6068b7dc-2e8d-4aa6-9042-041f2ca2d026",
   "metadata": {},
   "outputs": [],
   "source": [
    "##Getting original datasource connector so we can write a new version of dataset to the same bucket\n",
    "conn = datasource.connector"
   ]
  },
  {
   "cell_type": "code",
   "execution_count": 25,
   "id": "9f90fa61-61d2-4a3f-a994-73d14fdb10a4",
   "metadata": {},
   "outputs": [],
   "source": [
    "#Filtering the dataset\n",
    "list_columns = [] #list of columns to subselect the dataset\n",
    "fltr_dataset = dataset.select_columns(list_columns]).head()"
   ]
  },
  {
   "cell_type": "code",
   "execution_count": null,
   "id": "fffab050-f6ae-4033-9ff9-2a55eea5ae19",
   "metadata": {},
   "outputs": [],
   "source": [
    "#writing the data \n",
    "conn.write_file(data=fltr_dataset, \n",
    "                path='{output-path}')"
   ]
  }
 ],
 "metadata": {
  "kernelspec": {
   "display_name": "Python 3 (ipykernel)",
   "language": "python",
   "name": "python3"
  },
  "language_info": {
   "codemirror_mode": {
    "name": "ipython",
    "version": 3
   },
   "file_extension": ".py",
   "mimetype": "text/x-python",
   "name": "python",
   "nbconvert_exporter": "python",
   "pygments_lexer": "ipython3",
   "version": "3.8.15"
  }
 },
 "nbformat": 4,
 "nbformat_minor": 5
}
