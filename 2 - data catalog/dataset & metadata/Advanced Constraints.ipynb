{
 "cells": [
  {
   "cell_type": "markdown",
   "metadata": {
    "jupyter": {
     "outputs_hidden": true
    }
   },
   "source": [
    "# Advanced Constraints"
   ]
  },
  {
   "cell_type": "markdown",
   "metadata": {
    "jupyter": {
     "outputs_hidden": false
    },
    "pycharm": {
     "name": "#%%\n"
    }
   },
   "source": [
    "The purpose of this tutorial is to demonstrate the advanced capabilities of the **Constraint Engine**. For an introduction to the constraints, refer to [Dataset & Constraints](https://github.com/ydataai/academy/blob/master/3%20-%20dataset-metadata/Metadata%20%26%20Constraints.ipynb).\n",
    "\n",
    "The plan of this notebook is as follows:\n",
    "\n",
    "1. **Rows versus Columns constraints**: we introduce the difference between rows and columns constraints and demonstrate how they can be used together.\n",
    "2. **Custom Constraints**: we show how to create your own constraints based on any python function. In addition, we show an advanced example to validate constraints with time dependencies between the rows.\n"
   ]
  },
  {
   "cell_type": "code",
   "execution_count": 6,
   "metadata": {},
   "outputs": [],
   "source": [
    "from ydata.constraints.engine import ConstraintEngine"
   ]
  },
  {
   "cell_type": "markdown",
   "metadata": {},
   "source": [
    "## Toy dataset: a transactional dataset\n",
    "\n",
    "To illustrate this tutorial, we will generate a toy dataset representing the transaction on a bank account.   \n",
    "Each row represents a transaction. The dataset has only 3 columns:\n",
    "\n",
    "1. `amount`: the amount of the transaction\n",
    "2. `balance`: the current balance after the transaction is applied\n",
    "3. `constant`: a constant value (for the purpose of demonstrating some constraints)\n",
    "\n",
    "It is a very generous example, so the amount can only be positive such that your balance keeps growing! The amount is generated randomly according to normal distribution."
   ]
  },
  {
   "cell_type": "code",
   "execution_count": 3,
   "metadata": {},
   "outputs": [],
   "source": [
    "import numpy as np\n",
    "import pandas as pd\n",
    "\n",
    "from ydata.dataset import Dataset\n",
    "from ydata.metadata import Metadata\n",
    "\n",
    "def calculate_balance(df):\n",
    "    df['balance'] = df['amount'].cumsum()\n",
    "    return df\n",
    "\n",
    "n = 10 ** 3\n",
    "mu, sigma = 0, 0.1\n",
    "data = 100 * np.abs(np.random.normal(mu, sigma, n))\n",
    "df = pd.DataFrame()\n",
    "df['amount'] = data\n",
    "df['constant'] = 10\n",
    "df = calculate_balance(df)\n",
    "df = df.reset_index()"
   ]
  },
  {
   "cell_type": "code",
   "execution_count": 60,
   "metadata": {},
   "outputs": [
    {
     "data": {
      "text/html": [
       "<div>\n",
       "<style scoped>\n",
       "    .dataframe tbody tr th:only-of-type {\n",
       "        vertical-align: middle;\n",
       "    }\n",
       "\n",
       "    .dataframe tbody tr th {\n",
       "        vertical-align: top;\n",
       "    }\n",
       "\n",
       "    .dataframe thead th {\n",
       "        text-align: right;\n",
       "    }\n",
       "</style>\n",
       "<table border=\"1\" class=\"dataframe\">\n",
       "  <thead>\n",
       "    <tr style=\"text-align: right;\">\n",
       "      <th></th>\n",
       "      <th>index</th>\n",
       "      <th>amount</th>\n",
       "      <th>constant</th>\n",
       "      <th>balance</th>\n",
       "    </tr>\n",
       "  </thead>\n",
       "  <tbody>\n",
       "    <tr>\n",
       "      <th>0</th>\n",
       "      <td>0</td>\n",
       "      <td>15.134607</td>\n",
       "      <td>10</td>\n",
       "      <td>15.134607</td>\n",
       "    </tr>\n",
       "    <tr>\n",
       "      <th>1</th>\n",
       "      <td>1</td>\n",
       "      <td>4.135724</td>\n",
       "      <td>10</td>\n",
       "      <td>19.270331</td>\n",
       "    </tr>\n",
       "    <tr>\n",
       "      <th>2</th>\n",
       "      <td>2</td>\n",
       "      <td>20.515678</td>\n",
       "      <td>10</td>\n",
       "      <td>39.786009</td>\n",
       "    </tr>\n",
       "    <tr>\n",
       "      <th>3</th>\n",
       "      <td>3</td>\n",
       "      <td>3.057633</td>\n",
       "      <td>10</td>\n",
       "      <td>42.843642</td>\n",
       "    </tr>\n",
       "    <tr>\n",
       "      <th>4</th>\n",
       "      <td>4</td>\n",
       "      <td>4.660475</td>\n",
       "      <td>10</td>\n",
       "      <td>47.504117</td>\n",
       "    </tr>\n",
       "    <tr>\n",
       "      <th>...</th>\n",
       "      <td>...</td>\n",
       "      <td>...</td>\n",
       "      <td>...</td>\n",
       "      <td>...</td>\n",
       "    </tr>\n",
       "    <tr>\n",
       "      <th>995</th>\n",
       "      <td>995</td>\n",
       "      <td>7.668661</td>\n",
       "      <td>10</td>\n",
       "      <td>7427.040967</td>\n",
       "    </tr>\n",
       "    <tr>\n",
       "      <th>996</th>\n",
       "      <td>996</td>\n",
       "      <td>7.033443</td>\n",
       "      <td>10</td>\n",
       "      <td>7434.074410</td>\n",
       "    </tr>\n",
       "    <tr>\n",
       "      <th>997</th>\n",
       "      <td>997</td>\n",
       "      <td>2.299090</td>\n",
       "      <td>10</td>\n",
       "      <td>7436.373500</td>\n",
       "    </tr>\n",
       "    <tr>\n",
       "      <th>998</th>\n",
       "      <td>998</td>\n",
       "      <td>24.251009</td>\n",
       "      <td>10</td>\n",
       "      <td>7460.624508</td>\n",
       "    </tr>\n",
       "    <tr>\n",
       "      <th>999</th>\n",
       "      <td>999</td>\n",
       "      <td>0.902701</td>\n",
       "      <td>10</td>\n",
       "      <td>7461.527209</td>\n",
       "    </tr>\n",
       "  </tbody>\n",
       "</table>\n",
       "<p>1000 rows × 4 columns</p>\n",
       "</div>"
      ],
      "text/plain": [
       "     index     amount  constant      balance\n",
       "0        0  15.134607        10    15.134607\n",
       "1        1   4.135724        10    19.270331\n",
       "2        2  20.515678        10    39.786009\n",
       "3        3   3.057633        10    42.843642\n",
       "4        4   4.660475        10    47.504117\n",
       "..     ...        ...       ...          ...\n",
       "995    995   7.668661        10  7427.040967\n",
       "996    996   7.033443        10  7434.074410\n",
       "997    997   2.299090        10  7436.373500\n",
       "998    998  24.251009        10  7460.624508\n",
       "999    999   0.902701        10  7461.527209\n",
       "\n",
       "[1000 rows x 4 columns]"
      ]
     },
     "execution_count": 60,
     "metadata": {},
     "output_type": "execute_result"
    }
   ],
   "source": [
    "df"
   ]
  },
  {
   "cell_type": "markdown",
   "metadata": {},
   "source": [
    "# Rows versus Columns constraints\n",
    "\n",
    "Generally, when it comes to validate constraints on a tabular dataset, there are two different aspects:\n",
    "1. the constraints that apply to the data points (e.g.: each row should have the column `balance` positive)\n",
    "2. the constraints that apply to quantity linked to the columns (e.g.: the average of the column `balance` must be positive)\n",
    "\n",
    "They are conceptually different because the **rows** constraints are applied to each data points independently while the **columns** constraint are applied to an aggregation of all rows and represent a **domain** validation.\n",
    "\n",
    "Both are useful to validate the quality of your data and perfectly works together seamlessly. However, there is conceptual difference on the output: the **rows** constraints return a mask indicating for each rows if the constraint is violated; the **columns** constraints returns a boolean indicating if a column violates the constraint or not."
   ]
  },
  {
   "cell_type": "markdown",
   "metadata": {},
   "source": [
    "In the example below, add two columns constraints during the metadata calculation:\n",
    "- the mean of the columns `amount` and `constant` must be between 7 and 10\n",
    "- the standard deviation of the columns `amount` and `constant` must be between 0 and 8"
   ]
  },
  {
   "cell_type": "code",
   "execution_count": 28,
   "metadata": {},
   "outputs": [
    {
     "name": "stdout",
     "output_type": "stream",
     "text": [
      "[########################################] | 100% Completed | 101.72 ms\n",
      "[########################################] | 100% Completed | 102.63 ms\n",
      "[########################################] | 100% Completed | 102.34 ms\n",
      "[########################################] | 100% Completed | 204.14 ms\n",
      "sample size: 10538\n",
      "[########################################] | 100% Completed | 101.38 ms\n",
      "sample size: 10538\n",
      "[########################################] | 100% Completed | 102.23 ms\n",
      "[########################################] | 100% Completed | 101.23 ms\n",
      "[########################################] | 100% Completed | 101.58 ms\n",
      "[########################################] | 100% Completed | 100.99 ms\n",
      "[########################################] | 100% Completed | 205.82 ms\n"
     ]
    }
   ],
   "source": [
    "c1 = MeanBetween(lower_bound=7, upper_bound=10, columns=['amount', 'constant'])\n",
    "c2 = StandardDeviationBetween(lower_bound=0, upper_bound=8, columns=['amount', 'constant'])\n",
    "\n",
    "m = Metadata(original, constraints=[c1, c2])\n",
    "m = m(original)"
   ]
  },
  {
   "cell_type": "markdown",
   "metadata": {},
   "source": [
    "It is possible to have a summary of the constraints directly from the `Metadata` object.    \n",
    "\n",
    "In the field `violation_per_constraint`, it is possible to access more information for each constraint. For instance, `StandardDeviationBetween` shows that 1 column out of 2 columns have been violated."
   ]
  },
  {
   "cell_type": "code",
   "execution_count": 29,
   "metadata": {},
   "outputs": [
    {
     "data": {
      "text/plain": [
       "{'rows_violation_count': 0,\n",
       " 'rows_violation_ratio': 0.0,\n",
       " 'violation_per_constraint': {'MeanBetweenRange on columns [amount, constant]': {'column_violation_count': 0,\n",
       "   'column_violation_ratio': 0.0,\n",
       "   'violated_columns': [],\n",
       "   'validation_time': 0.12},\n",
       "  'StandardDeviationBetween on columns [amount, constant]': {'column_violation_count': 1,\n",
       "   'column_violation_ratio': 0.5,\n",
       "   'violated_columns': ['constant'],\n",
       "   'validation_time': 0.12}}}"
      ]
     },
     "execution_count": 29,
     "metadata": {},
     "output_type": "execute_result"
    }
   ],
   "source": [
    "m.summary['constraints']"
   ]
  },
  {
   "cell_type": "markdown",
   "metadata": {},
   "source": [
    "Finally, it is possible to have a pretty print summary of the constraint engine validation:"
   ]
  },
  {
   "cell_type": "code",
   "execution_count": 26,
   "metadata": {},
   "outputs": [
    {
     "data": {
      "text/plain": [
       "\n",
       "\u001b[1mConstraint Engine \n",
       " \n",
       "\u001b[0mNumber of Constraints: 2\n",
       "Number of Constraints Violated: 1 (50.0%)\n",
       "\n",
       "MeanBetweenRange on columns [amount, constant]: 0 (0.0%)\n",
       "StandardDeviationBetween on columns [amount, constant]: \u001b[1m 1 violated (50.0%) \u001b[0m"
      ]
     },
     "execution_count": 26,
     "metadata": {},
     "output_type": "execute_result"
    }
   ],
   "source": [
    "m._constraint_engine"
   ]
  },
  {
   "cell_type": "markdown",
   "metadata": {},
   "source": [
    "## Columns constraints\n",
    "\n",
    "In this section, we provide multiple examples of columns constraints."
   ]
  },
  {
   "cell_type": "code",
   "execution_count": 12,
   "metadata": {},
   "outputs": [],
   "source": [
    "from ydata.constraints.columns import MeanBetween, StandardDeviationBetween, QuantileBetween, UniqueValuesBetween, NullValuesCountLowerThan, SumLowerThan, Constant"
   ]
  },
  {
   "cell_type": "markdown",
   "metadata": {},
   "source": [
    "We would like to make sure that the mean value of the columns `amount` and the column `constant` is between 7 and 10 (included):"
   ]
  },
  {
   "cell_type": "code",
   "execution_count": 13,
   "metadata": {},
   "outputs": [
    {
     "name": "stdout",
     "output_type": "stream",
     "text": [
      "sample size: 10538\n"
     ]
    },
    {
     "data": {
      "text/html": [
       "<div>\n",
       "<style scoped>\n",
       "    .dataframe tbody tr th:only-of-type {\n",
       "        vertical-align: middle;\n",
       "    }\n",
       "\n",
       "    .dataframe tbody tr th {\n",
       "        vertical-align: top;\n",
       "    }\n",
       "\n",
       "    .dataframe thead th {\n",
       "        text-align: right;\n",
       "    }\n",
       "</style>\n",
       "<table border=\"1\" class=\"dataframe\">\n",
       "  <thead>\n",
       "    <tr style=\"text-align: right;\">\n",
       "      <th></th>\n",
       "      <th>amount</th>\n",
       "      <th>constant</th>\n",
       "    </tr>\n",
       "  </thead>\n",
       "  <tbody>\n",
       "    <tr>\n",
       "      <th>0</th>\n",
       "      <td>True</td>\n",
       "      <td>True</td>\n",
       "    </tr>\n",
       "  </tbody>\n",
       "</table>\n",
       "</div>"
      ],
      "text/plain": [
       "   amount  constant\n",
       "0    True      True"
      ]
     },
     "execution_count": 13,
     "metadata": {},
     "output_type": "execute_result"
    }
   ],
   "source": [
    "c = MeanBetween(lower_bound=7, upper_bound=10, columns=['amount', 'constant'])\n",
    "c.validate(dataset)"
   ]
  },
  {
   "cell_type": "markdown",
   "metadata": {},
   "source": [
    "We would like to make sure that the standard deviation is comprised between 0 (excluded) and 8:"
   ]
  },
  {
   "cell_type": "code",
   "execution_count": 16,
   "metadata": {},
   "outputs": [
    {
     "name": "stdout",
     "output_type": "stream",
     "text": [
      "sample size: 10538\n"
     ]
    },
    {
     "data": {
      "text/html": [
       "<div>\n",
       "<style scoped>\n",
       "    .dataframe tbody tr th:only-of-type {\n",
       "        vertical-align: middle;\n",
       "    }\n",
       "\n",
       "    .dataframe tbody tr th {\n",
       "        vertical-align: top;\n",
       "    }\n",
       "\n",
       "    .dataframe thead th {\n",
       "        text-align: right;\n",
       "    }\n",
       "</style>\n",
       "<table border=\"1\" class=\"dataframe\">\n",
       "  <thead>\n",
       "    <tr style=\"text-align: right;\">\n",
       "      <th></th>\n",
       "      <th>amount</th>\n",
       "      <th>constant</th>\n",
       "    </tr>\n",
       "  </thead>\n",
       "  <tbody>\n",
       "    <tr>\n",
       "      <th>0</th>\n",
       "      <td>True</td>\n",
       "      <td>False</td>\n",
       "    </tr>\n",
       "  </tbody>\n",
       "</table>\n",
       "</div>"
      ],
      "text/plain": [
       "   amount  constant\n",
       "0    True     False"
      ]
     },
     "execution_count": 16,
     "metadata": {},
     "output_type": "execute_result"
    }
   ],
   "source": [
    "c = StandardDeviationBetween(lower_bound=0, upper_bound=8, columns=['amount', 'constant'])\n",
    "c.validate(dataset)"
   ]
  },
  {
   "cell_type": "markdown",
   "metadata": {},
   "source": [
    "Because the column `constant` is constant, its standard deviation is exactly 0 and thus, the column violate the constraint!"
   ]
  },
  {
   "cell_type": "markdown",
   "metadata": {},
   "source": [
    "It is also possible to constraint any quantile to any particular interval. For instance, the following constraint check that the 25% centile is between 3 and 3.2:"
   ]
  },
  {
   "cell_type": "code",
   "execution_count": 18,
   "metadata": {},
   "outputs": [
    {
     "name": "stdout",
     "output_type": "stream",
     "text": [
      "sample size: 10538\n"
     ]
    },
    {
     "data": {
      "text/html": [
       "<div>\n",
       "<style scoped>\n",
       "    .dataframe tbody tr th:only-of-type {\n",
       "        vertical-align: middle;\n",
       "    }\n",
       "\n",
       "    .dataframe tbody tr th {\n",
       "        vertical-align: top;\n",
       "    }\n",
       "\n",
       "    .dataframe thead th {\n",
       "        text-align: right;\n",
       "    }\n",
       "</style>\n",
       "<table border=\"1\" class=\"dataframe\">\n",
       "  <thead>\n",
       "    <tr style=\"text-align: right;\">\n",
       "      <th></th>\n",
       "      <th>amount</th>\n",
       "    </tr>\n",
       "  </thead>\n",
       "  <tbody>\n",
       "    <tr>\n",
       "      <th>0</th>\n",
       "      <td>False</td>\n",
       "    </tr>\n",
       "  </tbody>\n",
       "</table>\n",
       "</div>"
      ],
      "text/plain": [
       "   amount\n",
       "0   False"
      ]
     },
     "execution_count": 18,
     "metadata": {},
     "output_type": "execute_result"
    }
   ],
   "source": [
    "c = QuantileBetween(quantile=0.25, lower_bound=3, upper_bound=3.2, columns='amount')\n",
    "c.validate(dataset)"
   ]
  },
  {
   "cell_type": "markdown",
   "metadata": {},
   "source": [
    "It is possible check that the number of unique value in a column belong to a given interval. The following example is equivalent to check that a column is constant as it requires the number of unique values to be between 0 (excluded) and 1:"
   ]
  },
  {
   "cell_type": "code",
   "execution_count": 19,
   "metadata": {},
   "outputs": [
    {
     "name": "stdout",
     "output_type": "stream",
     "text": [
      "sample size: 10538\n"
     ]
    },
    {
     "data": {
      "text/html": [
       "<div>\n",
       "<style scoped>\n",
       "    .dataframe tbody tr th:only-of-type {\n",
       "        vertical-align: middle;\n",
       "    }\n",
       "\n",
       "    .dataframe tbody tr th {\n",
       "        vertical-align: top;\n",
       "    }\n",
       "\n",
       "    .dataframe thead th {\n",
       "        text-align: right;\n",
       "    }\n",
       "</style>\n",
       "<table border=\"1\" class=\"dataframe\">\n",
       "  <thead>\n",
       "    <tr style=\"text-align: right;\">\n",
       "      <th></th>\n",
       "      <th>constant</th>\n",
       "    </tr>\n",
       "  </thead>\n",
       "  <tbody>\n",
       "    <tr>\n",
       "      <th>0</th>\n",
       "      <td>True</td>\n",
       "    </tr>\n",
       "  </tbody>\n",
       "</table>\n",
       "</div>"
      ],
      "text/plain": [
       "   constant\n",
       "0      True"
      ]
     },
     "execution_count": 19,
     "metadata": {},
     "output_type": "execute_result"
    }
   ],
   "source": [
    "c = UniqueValuesBetween(lower_bound=0, upper_bound=1, columns='constant')\n",
    "c.validate(dataset)"
   ]
  },
  {
   "cell_type": "markdown",
   "metadata": {},
   "source": [
    "For such a trivial example, we directly provide a constraint `Constant`:"
   ]
  },
  {
   "cell_type": "code",
   "execution_count": 21,
   "metadata": {},
   "outputs": [
    {
     "name": "stdout",
     "output_type": "stream",
     "text": [
      "sample size: 10538\n"
     ]
    },
    {
     "data": {
      "text/html": [
       "<div>\n",
       "<style scoped>\n",
       "    .dataframe tbody tr th:only-of-type {\n",
       "        vertical-align: middle;\n",
       "    }\n",
       "\n",
       "    .dataframe tbody tr th {\n",
       "        vertical-align: top;\n",
       "    }\n",
       "\n",
       "    .dataframe thead th {\n",
       "        text-align: right;\n",
       "    }\n",
       "</style>\n",
       "<table border=\"1\" class=\"dataframe\">\n",
       "  <thead>\n",
       "    <tr style=\"text-align: right;\">\n",
       "      <th></th>\n",
       "      <th>constant</th>\n",
       "    </tr>\n",
       "  </thead>\n",
       "  <tbody>\n",
       "    <tr>\n",
       "      <th>0</th>\n",
       "      <td>True</td>\n",
       "    </tr>\n",
       "  </tbody>\n",
       "</table>\n",
       "</div>"
      ],
      "text/plain": [
       "   constant\n",
       "0      True"
      ]
     },
     "execution_count": 21,
     "metadata": {},
     "output_type": "execute_result"
    }
   ],
   "source": [
    "c = Constant(columns='constant')\n",
    "c.validate(dataset)"
   ]
  },
  {
   "cell_type": "markdown",
   "metadata": {},
   "source": [
    "Finally, it is possible check that the sum of a column is lower than a value value:"
   ]
  },
  {
   "cell_type": "code",
   "execution_count": 22,
   "metadata": {},
   "outputs": [
    {
     "name": "stdout",
     "output_type": "stream",
     "text": [
      "sample size: 10538\n"
     ]
    },
    {
     "data": {
      "text/html": [
       "<div>\n",
       "<style scoped>\n",
       "    .dataframe tbody tr th:only-of-type {\n",
       "        vertical-align: middle;\n",
       "    }\n",
       "\n",
       "    .dataframe tbody tr th {\n",
       "        vertical-align: top;\n",
       "    }\n",
       "\n",
       "    .dataframe thead th {\n",
       "        text-align: right;\n",
       "    }\n",
       "</style>\n",
       "<table border=\"1\" class=\"dataframe\">\n",
       "  <thead>\n",
       "    <tr style=\"text-align: right;\">\n",
       "      <th></th>\n",
       "      <th>constant</th>\n",
       "    </tr>\n",
       "  </thead>\n",
       "  <tbody>\n",
       "    <tr>\n",
       "      <th>0</th>\n",
       "      <td>True</td>\n",
       "    </tr>\n",
       "  </tbody>\n",
       "</table>\n",
       "</div>"
      ],
      "text/plain": [
       "   constant\n",
       "0      True"
      ]
     },
     "execution_count": 22,
     "metadata": {},
     "output_type": "execute_result"
    }
   ],
   "source": [
    "c = SumLowerThan(value=10001, columns='constant')\n",
    "c.validate(dataset)"
   ]
  },
  {
   "cell_type": "markdown",
   "metadata": {},
   "source": [
    "## Mixing Rows and Columns constraints"
   ]
  },
  {
   "cell_type": "markdown",
   "metadata": {},
   "source": [
    "The Constraint Engine accepts both type of constraints:"
   ]
  },
  {
   "cell_type": "code",
   "execution_count": 32,
   "metadata": {},
   "outputs": [
    {
     "name": "stdout",
     "output_type": "stream",
     "text": [
      "[########################################] | 100% Completed | 101.31 ms\n",
      "[########################################] | 100% Completed | 101.80 ms\n",
      "[########################################] | 100% Completed | 104.47 ms\n",
      "[########################################] | 100% Completed | 204.66 ms\n",
      "sample size: 10538\n",
      "[########################################] | 100% Completed | 101.30 ms\n",
      "sample size: 10538\n",
      "[########################################] | 100% Completed | 101.70 ms\n",
      "sample size: 10538\n",
      "[########################################] | 100% Completed | 105.58 ms\n",
      "[########################################] | 100% Completed | 101.79 ms\n",
      "[########################################] | 100% Completed | 101.43 ms\n",
      "[########################################] | 100% Completed | 104.55 ms\n",
      "[########################################] | 100% Completed | 206.17 ms\n"
     ]
    }
   ],
   "source": [
    "from ydata.constraints.rows import GreaterThan\n",
    "\n",
    "# Rows constraint\n",
    "c1 = GreaterThan(columns=['amount', 'balance'], value=1)\n",
    "\n",
    "# Column constraint\n",
    "c2 = MeanBetween(lower_bound=7, upper_bound=10, columns=['amount', 'constant'])\n",
    "c3 = StandardDeviationBetween(lower_bound=0, upper_bound=8, columns=['amount', 'constant'])\n",
    "\n",
    "m = Metadata(original, constraints=[c1, c2, c3])\n",
    "m = m(original)"
   ]
  },
  {
   "cell_type": "code",
   "execution_count": 34,
   "metadata": {},
   "outputs": [
    {
     "data": {
      "text/plain": [
       "\n",
       "\u001b[1mConstraint Engine \n",
       " \n",
       "\u001b[0mNumber of Constraints: 3\n",
       "Number of Constraints Violated: 2 (66.66666666666667%)\n",
       "\n",
       "GreaterThan 1 on columns [amount, balance]: \u001b[1m 75 violated (7.5%) \u001b[0m\n",
       "MeanBetweenRange on columns [amount, constant]: 0 (0.0%)\n",
       "StandardDeviationBetween on columns [amount, constant]: \u001b[1m 1 violated (50.0%) \u001b[0m"
      ]
     },
     "execution_count": 34,
     "metadata": {},
     "output_type": "execute_result"
    }
   ],
   "source": [
    "m._constraint_engine"
   ]
  },
  {
   "cell_type": "markdown",
   "metadata": {},
   "source": [
    "Remember that for **rows** constraints, the percentage refers to the number of violated rows (e.g. 7.5% for the constraint `GreaterThan`) while it refers to columns for **columns** constraints (e.g. 50% of columns are violated for the constraint `StandardDeviationBetween`)."
   ]
  },
  {
   "cell_type": "markdown",
   "metadata": {},
   "source": [
    "# Custom constraints\n",
    "\n",
    "The constraints engine comes with several pre-defined constraints to validate your dataset. \n",
    "\n",
    "However, in some cases, your constraints cannot be directly expressed by these default constraints. In thise case, you can create your own custom constraints from any Python function or lambda."
   ]
  },
  {
   "cell_type": "code",
   "execution_count": 35,
   "metadata": {},
   "outputs": [],
   "source": [
    "from ydata.constraints.rows import CustomConstraint"
   ]
  },
  {
   "cell_type": "markdown",
   "metadata": {},
   "source": [
    "## A simple example"
   ]
  },
  {
   "cell_type": "markdown",
   "metadata": {},
   "source": [
    "In the following example, we create a `CustomConstraint` to validate that each row is strictly lower than 10. Keep in mind that this is just a toy example and that in reality, the function could be arbitrarily complex depending on your own use-case:"
   ]
  },
  {
   "cell_type": "code",
   "execution_count": 44,
   "metadata": {},
   "outputs": [
    {
     "data": {
      "text/html": [
       "<div>\n",
       "<style scoped>\n",
       "    .dataframe tbody tr th:only-of-type {\n",
       "        vertical-align: middle;\n",
       "    }\n",
       "\n",
       "    .dataframe tbody tr th {\n",
       "        vertical-align: top;\n",
       "    }\n",
       "\n",
       "    .dataframe thead th {\n",
       "        text-align: right;\n",
       "    }\n",
       "</style>\n",
       "<table border=\"1\" class=\"dataframe\">\n",
       "  <thead>\n",
       "    <tr style=\"text-align: right;\">\n",
       "      <th></th>\n",
       "      <th>constant</th>\n",
       "      <th>amount</th>\n",
       "    </tr>\n",
       "  </thead>\n",
       "  <tbody>\n",
       "    <tr>\n",
       "      <th>0</th>\n",
       "      <td>False</td>\n",
       "      <td>False</td>\n",
       "    </tr>\n",
       "    <tr>\n",
       "      <th>1</th>\n",
       "      <td>False</td>\n",
       "      <td>True</td>\n",
       "    </tr>\n",
       "    <tr>\n",
       "      <th>2</th>\n",
       "      <td>False</td>\n",
       "      <td>False</td>\n",
       "    </tr>\n",
       "    <tr>\n",
       "      <th>3</th>\n",
       "      <td>False</td>\n",
       "      <td>True</td>\n",
       "    </tr>\n",
       "    <tr>\n",
       "      <th>4</th>\n",
       "      <td>False</td>\n",
       "      <td>True</td>\n",
       "    </tr>\n",
       "    <tr>\n",
       "      <th>...</th>\n",
       "      <td>...</td>\n",
       "      <td>...</td>\n",
       "    </tr>\n",
       "    <tr>\n",
       "      <th>995</th>\n",
       "      <td>False</td>\n",
       "      <td>True</td>\n",
       "    </tr>\n",
       "    <tr>\n",
       "      <th>996</th>\n",
       "      <td>False</td>\n",
       "      <td>True</td>\n",
       "    </tr>\n",
       "    <tr>\n",
       "      <th>997</th>\n",
       "      <td>False</td>\n",
       "      <td>True</td>\n",
       "    </tr>\n",
       "    <tr>\n",
       "      <th>998</th>\n",
       "      <td>False</td>\n",
       "      <td>False</td>\n",
       "    </tr>\n",
       "    <tr>\n",
       "      <th>999</th>\n",
       "      <td>False</td>\n",
       "      <td>True</td>\n",
       "    </tr>\n",
       "  </tbody>\n",
       "</table>\n",
       "<p>1000 rows × 2 columns</p>\n",
       "</div>"
      ],
      "text/plain": [
       "     constant  amount\n",
       "0       False   False\n",
       "1       False    True\n",
       "2       False   False\n",
       "3       False    True\n",
       "4       False    True\n",
       "..        ...     ...\n",
       "995     False    True\n",
       "996     False    True\n",
       "997     False    True\n",
       "998     False   False\n",
       "999     False    True\n",
       "\n",
       "[1000 rows x 2 columns]"
      ]
     },
     "execution_count": 44,
     "metadata": {},
     "output_type": "execute_result"
    }
   ],
   "source": [
    "c = CustomConstraint(name='Positive', columns=['constant', 'amount'], check=lambda x: x < 10)\n",
    "mask = c.validate(dataset)\n",
    "mask"
   ]
  },
  {
   "cell_type": "markdown",
   "metadata": {},
   "source": [
    "We can check the number of non-violated rows. As expected, all rows in `constaint` are violated while about 25% are violated for the columne `amount`."
   ]
  },
  {
   "cell_type": "code",
   "execution_count": 45,
   "metadata": {},
   "outputs": [
    {
     "data": {
      "text/plain": [
       "constant      0\n",
       "amount      716\n",
       "dtype: int64"
      ]
     },
     "execution_count": 45,
     "metadata": {},
     "output_type": "execute_result"
    }
   ],
   "source": [
    "mask.sum()"
   ]
  },
  {
   "cell_type": "markdown",
   "metadata": {},
   "source": [
    "We can easily select the violated rows for any columns. For instance, to select all violated rows for the column `amount`:"
   ]
  },
  {
   "cell_type": "code",
   "execution_count": 46,
   "metadata": {},
   "outputs": [
    {
     "data": {
      "text/html": [
       "<div>\n",
       "<style scoped>\n",
       "    .dataframe tbody tr th:only-of-type {\n",
       "        vertical-align: middle;\n",
       "    }\n",
       "\n",
       "    .dataframe tbody tr th {\n",
       "        vertical-align: top;\n",
       "    }\n",
       "\n",
       "    .dataframe thead th {\n",
       "        text-align: right;\n",
       "    }\n",
       "</style>\n",
       "<table border=\"1\" class=\"dataframe\">\n",
       "  <thead>\n",
       "    <tr style=\"text-align: right;\">\n",
       "      <th></th>\n",
       "      <th>index</th>\n",
       "      <th>amount</th>\n",
       "      <th>constant</th>\n",
       "      <th>balance</th>\n",
       "    </tr>\n",
       "  </thead>\n",
       "  <tbody>\n",
       "    <tr>\n",
       "      <th>0</th>\n",
       "      <td>0</td>\n",
       "      <td>15.134607</td>\n",
       "      <td>10</td>\n",
       "      <td>15.134607</td>\n",
       "    </tr>\n",
       "    <tr>\n",
       "      <th>2</th>\n",
       "      <td>2</td>\n",
       "      <td>20.515678</td>\n",
       "      <td>10</td>\n",
       "      <td>39.786009</td>\n",
       "    </tr>\n",
       "    <tr>\n",
       "      <th>5</th>\n",
       "      <td>5</td>\n",
       "      <td>13.179534</td>\n",
       "      <td>10</td>\n",
       "      <td>60.683651</td>\n",
       "    </tr>\n",
       "    <tr>\n",
       "      <th>6</th>\n",
       "      <td>6</td>\n",
       "      <td>11.621866</td>\n",
       "      <td>10</td>\n",
       "      <td>72.305517</td>\n",
       "    </tr>\n",
       "    <tr>\n",
       "      <th>7</th>\n",
       "      <td>7</td>\n",
       "      <td>26.016555</td>\n",
       "      <td>10</td>\n",
       "      <td>98.322073</td>\n",
       "    </tr>\n",
       "    <tr>\n",
       "      <th>...</th>\n",
       "      <td>...</td>\n",
       "      <td>...</td>\n",
       "      <td>...</td>\n",
       "      <td>...</td>\n",
       "    </tr>\n",
       "    <tr>\n",
       "      <th>980</th>\n",
       "      <td>980</td>\n",
       "      <td>12.388076</td>\n",
       "      <td>10</td>\n",
       "      <td>7311.747307</td>\n",
       "    </tr>\n",
       "    <tr>\n",
       "      <th>985</th>\n",
       "      <td>985</td>\n",
       "      <td>11.927358</td>\n",
       "      <td>10</td>\n",
       "      <td>7345.530319</td>\n",
       "    </tr>\n",
       "    <tr>\n",
       "      <th>989</th>\n",
       "      <td>989</td>\n",
       "      <td>23.876584</td>\n",
       "      <td>10</td>\n",
       "      <td>7386.815833</td>\n",
       "    </tr>\n",
       "    <tr>\n",
       "      <th>993</th>\n",
       "      <td>993</td>\n",
       "      <td>11.655929</td>\n",
       "      <td>10</td>\n",
       "      <td>7414.858869</td>\n",
       "    </tr>\n",
       "    <tr>\n",
       "      <th>998</th>\n",
       "      <td>998</td>\n",
       "      <td>24.251009</td>\n",
       "      <td>10</td>\n",
       "      <td>7460.624508</td>\n",
       "    </tr>\n",
       "  </tbody>\n",
       "</table>\n",
       "<p>284 rows × 4 columns</p>\n",
       "</div>"
      ],
      "text/plain": [
       "     index     amount  constant      balance\n",
       "0        0  15.134607        10    15.134607\n",
       "2        2  20.515678        10    39.786009\n",
       "5        5  13.179534        10    60.683651\n",
       "6        6  11.621866        10    72.305517\n",
       "7        7  26.016555        10    98.322073\n",
       "..     ...        ...       ...          ...\n",
       "980    980  12.388076        10  7311.747307\n",
       "985    985  11.927358        10  7345.530319\n",
       "989    989  23.876584        10  7386.815833\n",
       "993    993  11.655929        10  7414.858869\n",
       "998    998  24.251009        10  7460.624508\n",
       "\n",
       "[284 rows x 4 columns]"
      ]
     },
     "execution_count": 46,
     "metadata": {},
     "output_type": "execute_result"
    }
   ],
   "source": [
    "df[~mask['amount']]"
   ]
  },
  {
   "cell_type": "markdown",
   "metadata": {},
   "source": [
    "## Custom constraints for series\n",
    "\n",
    "A more complex example is the validation of time series when the rows have calculated values that depends on the previous rows.   \n",
    "To handle such complex yet common use-cases, we provide a special synthax to refer to previous rows.\n",
    "\n",
    "Imagine the following example: our dataset represents transactions on a bank account, and a structural constraint that **must** be respected is that the total amount at transaction **n** must be equal to the total amount at step **n-1** plus the amount of the transaction **n**.\n",
    "If such constraint is violated it means that the data has some integrity issues. Although the example is fairly simple to understand, checking such integrity constraint with temporal dependency can be tricky.    \n",
    "\n",
    "However, this is made simple with the `Constraint Engine` and the `Custom Constraint` as illustrated on the following example:"
   ]
  },
  {
   "cell_type": "code",
   "execution_count": 54,
   "metadata": {},
   "outputs": [],
   "source": [
    "def check_balance_with_serie(df):\n",
    "    return df['balance|n'] == df['balance|n-1'] + df['amount|n']  # "
   ]
  },
  {
   "cell_type": "code",
   "execution_count": 55,
   "metadata": {},
   "outputs": [],
   "source": [
    "# The custom synthax `column|n-k` is understood as the value `n-k` of the column `column` where `n` is the current row.\n",
    "c = CustomConstraint(name=\"Balance Check with Serie\", check=check_balance_with_serie,\n",
    "                          available_columns=['balance|n', 'amount|n', 'balance|n-1'])"
   ]
  },
  {
   "cell_type": "markdown",
   "metadata": {},
   "source": [
    "There is no restriction on the order of the temporal dependencies. For instance, `amount|n-5` would refer to the amount five rows behind the current one.\n",
    "\n",
    "It is important to specify what colums you want to make available to your function using the parameter `available_columns` as above. It serves the purpose of preventing side effects and optimizing the validation of such constraint."
   ]
  },
  {
   "cell_type": "code",
   "execution_count": 57,
   "metadata": {},
   "outputs": [
    {
     "data": {
      "text/plain": [
       "0    1000\n",
       "dtype: int64"
      ]
     },
     "execution_count": 57,
     "metadata": {},
     "output_type": "execute_result"
    }
   ],
   "source": [
    "mask = c.validate(dataset)\n",
    "mask.sum()"
   ]
  },
  {
   "cell_type": "markdown",
   "metadata": {},
   "source": [
    "Because our dataset was constructed precisely to respect this constraint, we obtain no violated rows, as expected."
   ]
  },
  {
   "cell_type": "markdown",
   "metadata": {},
   "source": [
    "# Conclusion"
   ]
  },
  {
   "cell_type": "markdown",
   "metadata": {},
   "source": [
    "The `Constraint Engine` is a versatile tool to validate constraints and detect issues in your dataset. Because structural constraints takes two forms, we offer two different types of constraints:\n",
    "\n",
    "1. Rows constraints that check the validaty of each row,\n",
    "2. Column constraints that check the validity of a column property.\n",
    "\n",
    "When your constraint cannot be expressed with the default `Constraint` objects that we offer, it is possible to define `CustomConstraint` with no restriction, using Python function or lambda.\n",
    "\n",
    "Finally, we also allow to define constraints with time dependency between the rows, allowing to check the integrity of complex relationships."
   ]
  }
 ],
 "metadata": {
  "kernelspec": {
   "display_name": "ydata",
   "language": "python",
   "name": "ydata"
  },
  "language_info": {
   "codemirror_mode": {
    "name": "ipython",
    "version": 3
   },
   "file_extension": ".py",
   "mimetype": "text/x-python",
   "name": "python",
   "nbconvert_exporter": "python",
   "pygments_lexer": "ipython3",
   "version": "3.10.6"
  }
 },
 "nbformat": 4,
 "nbformat_minor": 4
}
