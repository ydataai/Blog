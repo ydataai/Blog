{
 "cells": [
  {
   "cell_type": "markdown",
   "metadata": {
    "jupyter": {
     "outputs_hidden": true
    }
   },
   "source": [
    "# The Metadata and Constraints"
   ]
  },
  {
   "cell_type": "markdown",
   "metadata": {
    "jupyter": {
     "outputs_hidden": false
    },
    "pycharm": {
     "name": "#%%\n"
    }
   },
   "source": [
    "**Metadata** objects are the pilar to leverage YData's package features. The **Metadata** is the object that can be shared between the different features and elements of YData plataform: *profiling*, *synthesizer* and *report*.    \n",
    "    \n",
    "- The object helps you extracting the main data from your dataset:\n",
    "    - The **columns metadata**: Both Variable and Data type (numerical, categorical, etc.)\n",
    "    - The **data warnings**: Checks for the presence of duplicates, variables with skewness, etc.\n",
    "    - The **data constraints**: They refer to business rules validation of the data. Constraints are flexible and easy to use. \n",
    "    \n",
    "In this Notebook, we will be showing you features and capabilities of this objects and how to combine them with other pieces from YData's package offer.\n",
    "\n",
    "The dataset used to explore the Metadata and Constraints can be found win [\"Kaggle - Home Loans\"](https://www.kaggle.com/code/sazid28/home-loan-prediction/data)."
   ]
  },
  {
   "cell_type": "code",
   "execution_count": 5,
   "metadata": {},
   "outputs": [],
   "source": [
    "import pandas as pd\n",
    "\n",
    "from ydata.connectors import LocalConnector\n",
    "from ydata.connectors.filetype import FileType\n",
    "from ydata.metadata import Metadata"
   ]
  },
  {
   "cell_type": "code",
   "execution_count": 6,
   "metadata": {},
   "outputs": [],
   "source": [
    "#Read a local dataset using YData LocalConnector\n",
    "conn = LocalConnector()\n",
    "data = conn.read_file('train.csv', file_type=FileType.CSV)"
   ]
  },
  {
   "cell_type": "code",
   "execution_count": 8,
   "metadata": {},
   "outputs": [
    {
     "data": {
      "text/html": [
       "<div>\n",
       "<style scoped>\n",
       "    .dataframe tbody tr th:only-of-type {\n",
       "        vertical-align: middle;\n",
       "    }\n",
       "\n",
       "    .dataframe tbody tr th {\n",
       "        vertical-align: top;\n",
       "    }\n",
       "\n",
       "    .dataframe thead th {\n",
       "        text-align: right;\n",
       "    }\n",
       "</style>\n",
       "<table border=\"1\" class=\"dataframe\">\n",
       "  <thead>\n",
       "    <tr style=\"text-align: right;\">\n",
       "      <th></th>\n",
       "      <th>Loan_ID</th>\n",
       "      <th>Gender</th>\n",
       "      <th>Married</th>\n",
       "      <th>Dependents</th>\n",
       "      <th>Education</th>\n",
       "      <th>Self_Employed</th>\n",
       "      <th>ApplicantIncome</th>\n",
       "      <th>CoapplicantIncome</th>\n",
       "      <th>LoanAmount</th>\n",
       "      <th>Loan_Amount_Term</th>\n",
       "      <th>Credit_History</th>\n",
       "      <th>Property_Area</th>\n",
       "      <th>Loan_Status</th>\n",
       "    </tr>\n",
       "    <tr>\n",
       "      <th>idx</th>\n",
       "      <th></th>\n",
       "      <th></th>\n",
       "      <th></th>\n",
       "      <th></th>\n",
       "      <th></th>\n",
       "      <th></th>\n",
       "      <th></th>\n",
       "      <th></th>\n",
       "      <th></th>\n",
       "      <th></th>\n",
       "      <th></th>\n",
       "      <th></th>\n",
       "      <th></th>\n",
       "    </tr>\n",
       "  </thead>\n",
       "  <tbody>\n",
       "    <tr>\n",
       "      <th>0</th>\n",
       "      <td>LP001002</td>\n",
       "      <td>Male</td>\n",
       "      <td>No</td>\n",
       "      <td>0</td>\n",
       "      <td>Graduate</td>\n",
       "      <td>No</td>\n",
       "      <td>5849.0</td>\n",
       "      <td>0.0</td>\n",
       "      <td>NaN</td>\n",
       "      <td>360.0</td>\n",
       "      <td>1.0</td>\n",
       "      <td>Urban</td>\n",
       "      <td>Y</td>\n",
       "    </tr>\n",
       "    <tr>\n",
       "      <th>1</th>\n",
       "      <td>LP001003</td>\n",
       "      <td>Male</td>\n",
       "      <td>Yes</td>\n",
       "      <td>1</td>\n",
       "      <td>Graduate</td>\n",
       "      <td>No</td>\n",
       "      <td>4583.0</td>\n",
       "      <td>1508.0</td>\n",
       "      <td>128.0</td>\n",
       "      <td>360.0</td>\n",
       "      <td>1.0</td>\n",
       "      <td>Rural</td>\n",
       "      <td>N</td>\n",
       "    </tr>\n",
       "    <tr>\n",
       "      <th>2</th>\n",
       "      <td>LP001005</td>\n",
       "      <td>Male</td>\n",
       "      <td>Yes</td>\n",
       "      <td>0</td>\n",
       "      <td>Graduate</td>\n",
       "      <td>Yes</td>\n",
       "      <td>3000.0</td>\n",
       "      <td>0.0</td>\n",
       "      <td>66.0</td>\n",
       "      <td>360.0</td>\n",
       "      <td>1.0</td>\n",
       "      <td>Urban</td>\n",
       "      <td>Y</td>\n",
       "    </tr>\n",
       "    <tr>\n",
       "      <th>3</th>\n",
       "      <td>LP001006</td>\n",
       "      <td>Male</td>\n",
       "      <td>Yes</td>\n",
       "      <td>0</td>\n",
       "      <td>Not Graduate</td>\n",
       "      <td>No</td>\n",
       "      <td>2583.0</td>\n",
       "      <td>2358.0</td>\n",
       "      <td>120.0</td>\n",
       "      <td>360.0</td>\n",
       "      <td>1.0</td>\n",
       "      <td>Urban</td>\n",
       "      <td>Y</td>\n",
       "    </tr>\n",
       "    <tr>\n",
       "      <th>4</th>\n",
       "      <td>LP001008</td>\n",
       "      <td>Male</td>\n",
       "      <td>No</td>\n",
       "      <td>0</td>\n",
       "      <td>Graduate</td>\n",
       "      <td>No</td>\n",
       "      <td>6000.0</td>\n",
       "      <td>0.0</td>\n",
       "      <td>141.0</td>\n",
       "      <td>360.0</td>\n",
       "      <td>1.0</td>\n",
       "      <td>Urban</td>\n",
       "      <td>Y</td>\n",
       "    </tr>\n",
       "    <tr>\n",
       "      <th>...</th>\n",
       "      <td>...</td>\n",
       "      <td>...</td>\n",
       "      <td>...</td>\n",
       "      <td>...</td>\n",
       "      <td>...</td>\n",
       "      <td>...</td>\n",
       "      <td>...</td>\n",
       "      <td>...</td>\n",
       "      <td>...</td>\n",
       "      <td>...</td>\n",
       "      <td>...</td>\n",
       "      <td>...</td>\n",
       "      <td>...</td>\n",
       "    </tr>\n",
       "    <tr>\n",
       "      <th>95</th>\n",
       "      <td>LP001326</td>\n",
       "      <td>Male</td>\n",
       "      <td>No</td>\n",
       "      <td>0</td>\n",
       "      <td>Graduate</td>\n",
       "      <td>NaN</td>\n",
       "      <td>6782.0</td>\n",
       "      <td>0.0</td>\n",
       "      <td>NaN</td>\n",
       "      <td>360.0</td>\n",
       "      <td>NaN</td>\n",
       "      <td>Urban</td>\n",
       "      <td>N</td>\n",
       "    </tr>\n",
       "    <tr>\n",
       "      <th>96</th>\n",
       "      <td>LP001327</td>\n",
       "      <td>Female</td>\n",
       "      <td>Yes</td>\n",
       "      <td>0</td>\n",
       "      <td>Graduate</td>\n",
       "      <td>No</td>\n",
       "      <td>2484.0</td>\n",
       "      <td>2302.0</td>\n",
       "      <td>137.0</td>\n",
       "      <td>360.0</td>\n",
       "      <td>1.0</td>\n",
       "      <td>Semiurban</td>\n",
       "      <td>Y</td>\n",
       "    </tr>\n",
       "    <tr>\n",
       "      <th>97</th>\n",
       "      <td>LP001333</td>\n",
       "      <td>Male</td>\n",
       "      <td>Yes</td>\n",
       "      <td>0</td>\n",
       "      <td>Graduate</td>\n",
       "      <td>No</td>\n",
       "      <td>1977.0</td>\n",
       "      <td>997.0</td>\n",
       "      <td>50.0</td>\n",
       "      <td>360.0</td>\n",
       "      <td>1.0</td>\n",
       "      <td>Semiurban</td>\n",
       "      <td>Y</td>\n",
       "    </tr>\n",
       "    <tr>\n",
       "      <th>98</th>\n",
       "      <td>LP001334</td>\n",
       "      <td>Male</td>\n",
       "      <td>Yes</td>\n",
       "      <td>0</td>\n",
       "      <td>Not Graduate</td>\n",
       "      <td>No</td>\n",
       "      <td>4188.0</td>\n",
       "      <td>0.0</td>\n",
       "      <td>115.0</td>\n",
       "      <td>180.0</td>\n",
       "      <td>1.0</td>\n",
       "      <td>Semiurban</td>\n",
       "      <td>Y</td>\n",
       "    </tr>\n",
       "    <tr>\n",
       "      <th>99</th>\n",
       "      <td>LP001343</td>\n",
       "      <td>Male</td>\n",
       "      <td>Yes</td>\n",
       "      <td>0</td>\n",
       "      <td>Graduate</td>\n",
       "      <td>No</td>\n",
       "      <td>1759.0</td>\n",
       "      <td>3541.0</td>\n",
       "      <td>131.0</td>\n",
       "      <td>360.0</td>\n",
       "      <td>1.0</td>\n",
       "      <td>Semiurban</td>\n",
       "      <td>Y</td>\n",
       "    </tr>\n",
       "  </tbody>\n",
       "</table>\n",
       "<p>100 rows × 13 columns</p>\n",
       "</div>"
      ],
      "text/plain": [
       "      Loan_ID  Gender Married Dependents     Education Self_Employed  \\\n",
       "idx                                                                    \n",
       "0    LP001002    Male      No          0      Graduate            No   \n",
       "1    LP001003    Male     Yes          1      Graduate            No   \n",
       "2    LP001005    Male     Yes          0      Graduate           Yes   \n",
       "3    LP001006    Male     Yes          0  Not Graduate            No   \n",
       "4    LP001008    Male      No          0      Graduate            No   \n",
       "..        ...     ...     ...        ...           ...           ...   \n",
       "95   LP001326    Male      No          0      Graduate           NaN   \n",
       "96   LP001327  Female     Yes          0      Graduate            No   \n",
       "97   LP001333    Male     Yes          0      Graduate            No   \n",
       "98   LP001334    Male     Yes          0  Not Graduate            No   \n",
       "99   LP001343    Male     Yes          0      Graduate            No   \n",
       "\n",
       "     ApplicantIncome  CoapplicantIncome  LoanAmount  Loan_Amount_Term  \\\n",
       "idx                                                                     \n",
       "0             5849.0                0.0         NaN             360.0   \n",
       "1             4583.0             1508.0       128.0             360.0   \n",
       "2             3000.0                0.0        66.0             360.0   \n",
       "3             2583.0             2358.0       120.0             360.0   \n",
       "4             6000.0                0.0       141.0             360.0   \n",
       "..               ...                ...         ...               ...   \n",
       "95            6782.0                0.0         NaN             360.0   \n",
       "96            2484.0             2302.0       137.0             360.0   \n",
       "97            1977.0              997.0        50.0             360.0   \n",
       "98            4188.0                0.0       115.0             180.0   \n",
       "99            1759.0             3541.0       131.0             360.0   \n",
       "\n",
       "     Credit_History Property_Area Loan_Status  \n",
       "idx                                            \n",
       "0               1.0         Urban           Y  \n",
       "1               1.0         Rural           N  \n",
       "2               1.0         Urban           Y  \n",
       "3               1.0         Urban           Y  \n",
       "4               1.0         Urban           Y  \n",
       "..              ...           ...         ...  \n",
       "95              NaN         Urban           N  \n",
       "96              1.0     Semiurban           Y  \n",
       "97              1.0     Semiurban           Y  \n",
       "98              1.0     Semiurban           Y  \n",
       "99              1.0     Semiurban           Y  \n",
       "\n",
       "[100 rows x 13 columns]"
      ]
     },
     "execution_count": 8,
     "metadata": {},
     "output_type": "execute_result"
    }
   ],
   "source": [
    "data.head(100)"
   ]
  },
  {
   "cell_type": "code",
   "execution_count": 10,
   "metadata": {},
   "outputs": [
    {
     "name": "stdout",
     "output_type": "stream",
     "text": [
      "\u001b[1mMetadata Summary \n",
      " \n",
      "\u001b[0m\u001b[1mDataset type: \u001b[0mTABULAR\n",
      "\u001b[1mDataset attributes: \u001b[0m\n",
      "\u001b[1mNumber of columns: \u001b[0m13\n",
      "\u001b[1m% of duplicate rows: \u001b[0m0\n",
      "\u001b[1mTarget column: \u001b[0m\n",
      "\n",
      "\u001b[1mColumn detail: \u001b[0m\n",
      "               Column    Data type Variable type\n",
      "0             Loan_ID  categorical        string\n",
      "1              Gender  categorical        string\n",
      "2             Married  categorical        string\n",
      "3          Dependents  categorical        string\n",
      "4           Education  categorical        string\n",
      "5       Self_Employed  categorical        string\n",
      "6     ApplicantIncome    numerical         float\n",
      "7   CoapplicantIncome    numerical         float\n",
      "8          LoanAmount    numerical         float\n",
      "9    Loan_Amount_Term  categorical         float\n",
      "10     Credit_History  categorical         float\n",
      "11      Property_Area  categorical        string\n",
      "12        Loan_Status  categorical        string\n",
      "\n",
      "\u001b[1mWarnings: \u001b[0m\n",
      "                   Warning                                           Columns\n",
      "0     WarningType.SKEWNESS  [ApplicantIncome, CoapplicantIncome, LoanAmount]\n",
      "1  WarningType.CARDINALITY                                         [Loan_ID]\n",
      "\n"
     ]
    }
   ],
   "source": [
    "#Extract the Metadata from the Dataset\n",
    "metadata = Metadata(data)\n",
    "print(metadata)"
   ]
  },
  {
   "cell_type": "code",
   "execution_count": 12,
   "metadata": {},
   "outputs": [
    {
     "name": "stdout",
     "output_type": "stream",
     "text": [
      "\n",
      "\u001b[1mMetadata summary\u001b[0m\n",
      "{'nrows': 614, 'unique_counts': {'Loan_ID': 615.8848935456124, 'Gender': 2.000030518198964, 'Married': 2.000030518198964, 'Dependents': 4.000122075278871, 'Education': 2.000030518198964, 'Self_Employed': 2.000030518198964, 'ApplicantIncome': 503.93251285042095, 'CoapplicantIncome': 286.62587550498984, 'LoanAmount': 203.31505047385306, 'Loan_Amount_Term': 10.000763017065795, 'Credit_History': 2.000030518198964, 'Property_Area': 3.000068666646041, 'Loan_Status': 2.000030518198964}, 'missing_vals': Loan_ID               0\n",
      "Gender               13\n",
      "Married               3\n",
      "Dependents           15\n",
      "Education             0\n",
      "Self_Employed        32\n",
      "ApplicantIncome       0\n",
      "CoapplicantIncome     0\n",
      "LoanAmount           22\n",
      "Loan_Amount_Term     14\n",
      "Credit_History       50\n",
      "Property_Area         0\n",
      "Loan_Status           0\n",
      "dtype: int64, 'duplicate': 0.00021817470207423177, 'skewness': {'ApplicantIncome': 6.539513113994625, 'CoapplicantIncome': 7.491531216657306, 'LoanAmount': 2.677551679256058, 'Loan_Amount_Term': -2.362414124216269, 'Credit_History': -1.8823610612186696}, 'string_len': {'Loan_ID': 8.0, 'Gender': 4.372712146422629, 'Married': 2.65139116202946, 'Dependents': 1.0851419031719534, 'Education': 8.872964169381108, 'Self_Employed': 2.140893470790378, 'Property_Area': 6.517915309446254, 'Loan_Status': 1.0}, 'email': {'Loan_ID': 0.0, 'Gender': 0.0, 'Married': 0.0, 'Dependents': 0.0, 'Education': 0.0, 'Self_Employed': 0.0, 'Property_Area': 0.0, 'Loan_Status': 0.0}, 'word_count': {'Loan_ID': 1.0, 'Gender': 1.0, 'Married': 1.0, 'Dependents': 1.0, 'Education': 1.218241042345277, 'Self_Employed': 1.0, 'Property_Area': 1.0, 'Loan_Status': 1.0}, 'iscategorical': {'Loan_ID': -0.0016286644951140066, 'Gender': 0.996742671009772, 'Married': 0.996742671009772, 'Dependents': 0.993485342019544, 'Education': 0.996742671009772, 'Self_Employed': 0.996742671009772, 'ApplicantIncome': 0.18078175895765472, 'CoapplicantIncome': 0.5342019543973942, 'LoanAmount': 0.6693811074918566, 'Loan_Amount_Term': 0.9837133550488599, 'Credit_History': 0.996742671009772, 'Property_Area': 0.995114006514658, 'Loan_Status': 0.996742671009772}, 'constraints': {}}\n"
     ]
    }
   ],
   "source": [
    "#print metadata summary\n",
    "print('\\n\\033[1mMetadata summary\\033[0m')\n",
    "print(metadata.summary)"
   ]
  },
  {
   "cell_type": "code",
   "execution_count": 13,
   "metadata": {},
   "outputs": [],
   "source": [
    "## Setting the target variable\n",
    "metadata.target='Loan_Status'"
   ]
  },
  {
   "cell_type": "code",
   "execution_count": 15,
   "metadata": {},
   "outputs": [
    {
     "name": "stdout",
     "output_type": "stream",
     "text": [
      "Loan_Status\n"
     ]
    }
   ],
   "source": [
    "print(metadata.target.name)"
   ]
  },
  {
   "cell_type": "markdown",
   "metadata": {},
   "source": [
    "### Updating columns datatypes\n",
    "The automated inferences might not be totally correct in all the cases. For that reason, we always recommend to update the datatypes accordingly to the user understanding of the data. \n",
    "\n",
    "The update can be done by column or for a group of columns."
   ]
  },
  {
   "cell_type": "markdown",
   "metadata": {},
   "source": [
    "In this particular example, the 'encounter_id' columns have been mistakenly identified as a numerical columns instead of an ID. The code snippet below shows how to change the datatypes:"
   ]
  },
  {
   "cell_type": "code",
   "execution_count": 20,
   "metadata": {},
   "outputs": [
    {
     "name": "stdout",
     "output_type": "stream",
     "text": [
      "\n",
      "\u001b[1mChanging one column data type\u001b[0m\n",
      "'Loan_ID': ID\n",
      "\n",
      "\u001b[1mChanging multiple columns data types\u001b[0m\n",
      "'Loan_ID': ID\n",
      "'Dependents': CATEGORICAL\n"
     ]
    }
   ],
   "source": [
    "#Getting the all metadata summary\n",
    "print('\\n\\033[1mChanging one column data type\\033[0m')\n",
    "metadata.columns = {'Loan_ID': 'id'}\n",
    "\n",
    "print(f\"'Loan_ID': {metadata.columns['Loan_ID'].datatype.name}\")\n",
    "\n",
    "print('\\n\\033[1mChanging multiple columns data types\\033[0m')\n",
    "metadata.columns = {'Loan_ID': 'id',\n",
    "                    'Dependents': 'categorical'}\n",
    "\n",
    "print(f\"'Loan_ID': {metadata.columns['Loan_ID'].datatype.name}\")\n",
    "print(f\"'Dependents': {metadata.columns['Dependents'].datatype.name}\")"
   ]
  },
  {
   "cell_type": "code",
   "execution_count": null,
   "metadata": {},
   "outputs": [],
   "source": [
    "#Filtering the Metadata\n",
    "filtered_metadata = metadata['Loan_ID', 'age', 'acarbose', 'readmitted']\n",
    "\n",
    "print('\\n\\033[1mNew avaialble metadata\\033[0m')\n",
    "print(filtered_metadata)"
   ]
  },
  {
   "cell_type": "markdown",
   "metadata": {},
   "source": [
    "### Filtering metadata by columns\n",
    "For some activities the full metadata might not be needed and only a portion of the calls shall be considered for a certain activity (eg. data synthesis). The Metadata object allows the users to select only the needed columns, as per the example below."
   ]
  },
  {
   "cell_type": "code",
   "execution_count": 22,
   "metadata": {},
   "outputs": [
    {
     "name": "stdout",
     "output_type": "stream",
     "text": [
      "\n",
      "\u001b[1mNew avaialble metadata\u001b[0m\n",
      "\u001b[1mMetadata Summary \n",
      " \n",
      "\u001b[0m\u001b[1mDataset type: \u001b[0mTABULAR\n",
      "\u001b[1mDataset attributes: \u001b[0m\n",
      "\u001b[1mNumber of columns: \u001b[0m3\n",
      "\u001b[1m% of duplicate rows: \u001b[0m0\n",
      "\u001b[1mTarget column: \u001b[0m\n",
      "\n",
      "\u001b[1mColumn detail: \u001b[0m\n",
      "          Column    Data type Variable type\n",
      "0        Married  categorical        string\n",
      "1     Dependents  categorical        string\n",
      "2  Property_Area  categorical        string\n",
      "\n",
      "\u001b[1mWarnings: \u001b[0m\n",
      "Empty DataFrame\n",
      "Columns: []\n",
      "Index: []\n",
      "\n"
     ]
    }
   ],
   "source": [
    "filtered_metadata = metadata[['encounter_id', 'Married', 'acarbose', 'Dependents', 'Property_Area']]\n",
    "\n",
    "print('\\n\\033[1mNew avaialble metadata\\033[0m')\n",
    "print(filtered_metadata)"
   ]
  },
  {
   "cell_type": "markdown",
   "metadata": {},
   "source": [
    "## Metadata & Constrains \n",
    "The constrains engine allows the user to define a certain level of expectations and validations for a certain dataset. This engine is helpfull to identify potential inconsistencies and descrepencies between records and business rules or logic. \n",
    "They can also be leverage to keep expectations and validations while building an data engineering/preprocessing flow.\n",
    "\n",
    "Constraints can be built as complex as needed. Following this tutorial provides a few **Constraints** examples - from default (`Positive`, `GreaterThan`) to customer."
   ]
  },
  {
   "cell_type": "code",
   "execution_count": 28,
   "metadata": {},
   "outputs": [],
   "source": [
    "from ydata.constraints.engine import ConstraintEngine\n",
    "from ydata.constraints.constraint import GreaterThan, Positive, CustomConstraint"
   ]
  },
  {
   "cell_type": "code",
   "execution_count": 30,
   "metadata": {},
   "outputs": [],
   "source": [
    "c1 = GreaterThan(columns=['CoapplicantIncome', 'LoanAmount'], value=0)\n",
    "c2 = Positive(columns=['CoapplicantIncome'])\n",
    "\n",
    "ce = ConstraintEngine()\n",
    "ce.add_constraints([c1,c2])\n",
    "ce.validate(data)"
   ]
  },
  {
   "cell_type": "code",
   "execution_count": 32,
   "metadata": {},
   "outputs": [
    {
     "data": {
      "text/plain": [
       "{'violation_count': 283,\n",
       " 'violation_ratio': 0.4609120521172638,\n",
       " 'violation_per_constraint': {\"GreaterThan(columns=['CoapplicantIncome', 'LoanAmount'], value=0)\": {'violation_count': 283,\n",
       "   'violation_ratio': 0.4609120521172638,\n",
       "   'validation_time': (171.41376328468323,)},\n",
       "  \"Positive(columns=['CoapplicantIncome'])\": {'violation_count': 273,\n",
       "   'violation_ratio': 0.44462540716612375,\n",
       "   'validation_time': (0.07076382637023926,)}}}"
      ]
     },
     "execution_count": 32,
     "metadata": {},
     "output_type": "execute_result"
    }
   ],
   "source": [
    "ce.summary()"
   ]
  },
  {
   "cell_type": "markdown",
   "metadata": {},
   "source": [
    "### Constrains integration with Metadata\n",
    "Constraints Engine can be easily integrated with your Metadata object and downstream application such as YData synthesizers. The below example show case how to add a constraint engine and leverage it to profile the data."
   ]
  },
  {
   "cell_type": "code",
   "execution_count": 33,
   "metadata": {},
   "outputs": [],
   "source": [
    "const_metadata = Metadata(data, constraints=[c1,c2])"
   ]
  },
  {
   "cell_type": "code",
   "execution_count": 35,
   "metadata": {},
   "outputs": [
    {
     "data": {
      "text/plain": [
       "{'violation_count': 283,\n",
       " 'violation_ratio': 0.4609120521172638,\n",
       " 'violation_per_constraint': {\"GreaterThan(columns=['CoapplicantIncome', 'LoanAmount'], value=0)\": {'violation_count': 283,\n",
       "   'violation_ratio': 0.4609120521172638,\n",
       "   'validation_time': (179.3317892551422,)},\n",
       "  \"Positive(columns=['CoapplicantIncome'])\": {'violation_count': 273,\n",
       "   'violation_ratio': 0.44462540716612375,\n",
       "   'validation_time': (0.08627104759216309,)}}}"
      ]
     },
     "execution_count": 35,
     "metadata": {},
     "output_type": "execute_result"
    }
   ],
   "source": [
    "const_metadata.summary['constraints']"
   ]
  }
 ],
 "metadata": {
  "kernelspec": {
   "display_name": "Python 3 (ipykernel)",
   "language": "python",
   "name": "python3"
  },
  "language_info": {
   "codemirror_mode": {
    "name": "ipython",
    "version": 3
   },
   "file_extension": ".py",
   "mimetype": "text/x-python",
   "name": "python",
   "nbconvert_exporter": "python",
   "pygments_lexer": "ipython3",
   "version": "3.8.13"
  }
 },
 "nbformat": 4,
 "nbformat_minor": 4
}
