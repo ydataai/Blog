{
 "cells": [
  {
   "cell_type": "markdown",
   "id": "2b2a5a29",
   "metadata": {},
   "source": [
    "# **Calculated Features**\n",
    "Real datasets often have underlying complex business rules. YData's platform allows a seamless combination of manually defined business rules with powerful synthesis technologies via a feature called **Calculated Features**, improving the quality of the generated datasets.\n",
    "\n",
    "## Outline\n",
    "* What are **Calculated Features**?\n",
    "* An example dataset: loans\n",
    "* Exploring the dataset\n",
    "* Synthesizing data with and without **Calculated Features**\n",
    "* Evaluating the synthetic data\n",
    "\n",
    "## What are **Calculated Features**?\n",
    "Features that are based on business rules and typically have a deterministic nature, through a combination of pre-existing features.\n",
    "\n",
    "These calculated features, regardless of complexity, can be directly synthesized. However, the quality of the synthetic features can be improved if we infuse our models with some of the business logic we know right from the start.  \n",
    "\n",
    "In this notebook, we will exemplify how business rules for feature calculation can be passed to YData's `RegularSynthesizer` and applied to the synthesis process as a way to improve fidelity.\n",
    "\n",
    "## An example dataset: loans\n",
    "For this example we have chosen a loans dataset from *LendingClub* loans. The original file can be found [here](https://data.world/lpetrocelli/lendingclub-loan-data-2017-q-1).\n",
    "\n",
    "Loans, as a heavily procedural financial instrument, have of course underlying business logic. We expect our dataset to reflect some of these, like for instance: calculation of revolving credit utilization rate, monthly installment values and total payments.\n",
    "\n",
    "## Exploring the dataset\n",
    "First, let's read the dataset using a Google Cloud Connector, inspect the data and check, if, as expected, the business logic we mentioned is verified."
   ]
  },
  {
   "cell_type": "code",
   "execution_count": 1,
   "id": "ad5e88c8-ab9e-43a6-8f50-028d3856ead7",
   "metadata": {},
   "outputs": [
    {
     "ename": "KeyboardInterrupt",
     "evalue": "",
     "output_type": "error",
     "traceback": [
      "\u001b[0;31m---------------------------------------------------------------------------\u001b[0m",
      "\u001b[0;31mKeyboardInterrupt\u001b[0m                         Traceback (most recent call last)",
      "\u001b[0;32m/tmp/ipykernel_47810/1910371394.py\u001b[0m in \u001b[0;36m<module>\u001b[0;34m\u001b[0m\n\u001b[1;32m     13\u001b[0m \u001b[0;34m\u001b[0m\u001b[0m\n\u001b[1;32m     14\u001b[0m \u001b[0;31m# Reading our data file from the GCS cloud\u001b[0m\u001b[0;34m\u001b[0m\u001b[0;34m\u001b[0m\u001b[0;34m\u001b[0m\u001b[0m\n\u001b[0;32m---> 15\u001b[0;31m \u001b[0mconnector\u001b[0m \u001b[0;34m=\u001b[0m \u001b[0mGCSConnector\u001b[0m\u001b[0;34m(\u001b[0m\u001b[0mproject_id\u001b[0m\u001b[0;34m=\u001b[0m\u001b[0;34m'ydatasynthetic'\u001b[0m\u001b[0;34m)\u001b[0m\u001b[0;34m\u001b[0m\u001b[0;34m\u001b[0m\u001b[0m\n\u001b[0m\u001b[1;32m     16\u001b[0m \u001b[0mreal_ds\u001b[0m \u001b[0;34m=\u001b[0m \u001b[0mconnector\u001b[0m\u001b[0;34m.\u001b[0m\u001b[0mread_file\u001b[0m\u001b[0;34m(\u001b[0m\u001b[0;34m\"gs://ydata_testdata/tabular/loan_data/loan_samples.csv.zip\"\u001b[0m\u001b[0;34m,\u001b[0m \u001b[0mfile_type\u001b[0m\u001b[0;34m=\u001b[0m\u001b[0;34m'csv'\u001b[0m\u001b[0;34m)\u001b[0m\u001b[0;34m\u001b[0m\u001b[0;34m\u001b[0m\u001b[0m\n\u001b[1;32m     17\u001b[0m \u001b[0;34m\u001b[0m\u001b[0m\n",
      "\u001b[0;32m~/miniconda3/envs/academy/lib/python3.7/site-packages/ydata/connectors/storages/gcs_connector.py\u001b[0m in \u001b[0;36m__init__\u001b[0;34m(self, project_id, gcs_credentials, key_path, keyfile_dict, encoding, **kwargs)\u001b[0m\n\u001b[1;32m     30\u001b[0m                  \u001b[0mkey_path\u001b[0m\u001b[0;34m=\u001b[0m\u001b[0;32mNone\u001b[0m\u001b[0;34m,\u001b[0m \u001b[0mkeyfile_dict\u001b[0m\u001b[0;34m=\u001b[0m\u001b[0;32mNone\u001b[0m\u001b[0;34m,\u001b[0m\u001b[0;34m\u001b[0m\u001b[0;34m\u001b[0m\u001b[0m\n\u001b[1;32m     31\u001b[0m                  encoding='utf-8', **kwargs):\n\u001b[0;32m---> 32\u001b[0;31m         \u001b[0msuper\u001b[0m\u001b[0;34m(\u001b[0m\u001b[0;34m)\u001b[0m\u001b[0;34m.\u001b[0m\u001b[0m__init__\u001b[0m\u001b[0;34m(\u001b[0m\u001b[0;34m)\u001b[0m\u001b[0;34m\u001b[0m\u001b[0;34m\u001b[0m\u001b[0m\n\u001b[0m\u001b[1;32m     33\u001b[0m         \u001b[0mself\u001b[0m\u001b[0;34m.\u001b[0m\u001b[0m_project_id\u001b[0m \u001b[0;34m=\u001b[0m \u001b[0mproject_id\u001b[0m\u001b[0;34m\u001b[0m\u001b[0;34m\u001b[0m\u001b[0m\n\u001b[1;32m     34\u001b[0m         \u001b[0mself\u001b[0m\u001b[0;34m.\u001b[0m\u001b[0m_gcs_credentials\u001b[0m \u001b[0;34m=\u001b[0m \u001b[0mgcs_credentials\u001b[0m\u001b[0;34m\u001b[0m\u001b[0;34m\u001b[0m\u001b[0m\n",
      "\u001b[0;32m~/miniconda3/envs/academy/lib/python3.7/site-packages/ydata/connectors/storages/object_storage_connector.py\u001b[0m in \u001b[0;36m__init__\u001b[0;34m(self)\u001b[0m\n\u001b[1;32m     22\u001b[0m     \"\"\"\n\u001b[1;32m     23\u001b[0m     \u001b[0;32mdef\u001b[0m \u001b[0m__init__\u001b[0m\u001b[0;34m(\u001b[0m\u001b[0mself\u001b[0m\u001b[0;34m)\u001b[0m\u001b[0;34m:\u001b[0m\u001b[0;34m\u001b[0m\u001b[0;34m\u001b[0m\u001b[0m\n\u001b[0;32m---> 24\u001b[0;31m         \u001b[0msuper\u001b[0m\u001b[0;34m(\u001b[0m\u001b[0;34m)\u001b[0m\u001b[0;34m.\u001b[0m\u001b[0m__init__\u001b[0m\u001b[0;34m(\u001b[0m\u001b[0;34m)\u001b[0m\u001b[0;34m\u001b[0m\u001b[0;34m\u001b[0m\u001b[0m\n\u001b[0m\u001b[1;32m     25\u001b[0m         \u001b[0mself\u001b[0m\u001b[0;34m.\u001b[0m\u001b[0m_client\u001b[0m \u001b[0;34m=\u001b[0m \u001b[0;32mNone\u001b[0m\u001b[0;34m\u001b[0m\u001b[0;34m\u001b[0m\u001b[0m\n\u001b[1;32m     26\u001b[0m         \u001b[0mself\u001b[0m\u001b[0;34m.\u001b[0m\u001b[0m_filesystem\u001b[0m \u001b[0;34m=\u001b[0m \u001b[0;32mNone\u001b[0m\u001b[0;34m\u001b[0m\u001b[0;34m\u001b[0m\u001b[0m\n",
      "\u001b[0;32m~/miniconda3/envs/academy/lib/python3.7/site-packages/ydata/connectors/storages/base_connector.py\u001b[0m in \u001b[0;36m__init__\u001b[0;34m(self)\u001b[0m\n\u001b[1;32m     22\u001b[0m         \u001b[0mself\u001b[0m\u001b[0;34m.\u001b[0m\u001b[0mid\u001b[0m \u001b[0;34m=\u001b[0m \u001b[0muuid1\u001b[0m\u001b[0;34m(\u001b[0m\u001b[0;34m)\u001b[0m\u001b[0;34m\u001b[0m\u001b[0;34m\u001b[0m\u001b[0m\n\u001b[1;32m     23\u001b[0m         \u001b[0mself\u001b[0m\u001b[0;34m.\u001b[0m\u001b[0mcreation_date\u001b[0m \u001b[0;34m=\u001b[0m \u001b[0mdatetime\u001b[0m\u001b[0;34m.\u001b[0m\u001b[0mutcnow\u001b[0m\u001b[0;34m(\u001b[0m\u001b[0;34m)\u001b[0m\u001b[0;34m\u001b[0m\u001b[0;34m\u001b[0m\u001b[0m\n\u001b[0;32m---> 24\u001b[0;31m         \u001b[0mself\u001b[0m\u001b[0;34m.\u001b[0m\u001b[0mcluster_client\u001b[0m \u001b[0;34m=\u001b[0m \u001b[0mself\u001b[0m\u001b[0;34m.\u001b[0m\u001b[0m_init_cluster_client\u001b[0m\u001b[0;34m(\u001b[0m\u001b[0;34m)\u001b[0m\u001b[0;34m\u001b[0m\u001b[0;34m\u001b[0m\u001b[0m\n\u001b[0m\u001b[1;32m     25\u001b[0m         \u001b[0mself\u001b[0m\u001b[0;34m.\u001b[0m\u001b[0mstorage_options\u001b[0m \u001b[0;34m=\u001b[0m \u001b[0;32mNone\u001b[0m\u001b[0;34m\u001b[0m\u001b[0;34m\u001b[0m\u001b[0m\n\u001b[1;32m     26\u001b[0m \u001b[0;34m\u001b[0m\u001b[0m\n",
      "\u001b[0;32m~/miniconda3/envs/academy/lib/python3.7/site-packages/ydata/connectors/storages/base_connector.py\u001b[0m in \u001b[0;36m_init_cluster_client\u001b[0;34m(self)\u001b[0m\n\u001b[1;32m     27\u001b[0m     \u001b[0;32mdef\u001b[0m \u001b[0m_init_cluster_client\u001b[0m\u001b[0;34m(\u001b[0m\u001b[0mself\u001b[0m\u001b[0;34m)\u001b[0m\u001b[0;34m:\u001b[0m\u001b[0;34m\u001b[0m\u001b[0;34m\u001b[0m\u001b[0m\n\u001b[1;32m     28\u001b[0m         \u001b[0;32mif\u001b[0m \u001b[0mRUNNING_ENV\u001b[0m \u001b[0;34m==\u001b[0m \u001b[0;34m'LOCAL'\u001b[0m\u001b[0;34m:\u001b[0m\u001b[0;34m\u001b[0m\u001b[0;34m\u001b[0m\u001b[0m\n\u001b[0;32m---> 29\u001b[0;31m             \u001b[0;32mreturn\u001b[0m \u001b[0mClient\u001b[0m\u001b[0;34m(\u001b[0m\u001b[0;34m)\u001b[0m\u001b[0;34m\u001b[0m\u001b[0;34m\u001b[0m\u001b[0m\n\u001b[0m\u001b[1;32m     30\u001b[0m         \u001b[0;32melse\u001b[0m\u001b[0;34m:\u001b[0m\u001b[0;34m\u001b[0m\u001b[0;34m\u001b[0m\u001b[0m\n\u001b[1;32m     31\u001b[0m             \u001b[0;32mreturn\u001b[0m \u001b[0mcluster\u001b[0m\u001b[0;34m.\u001b[0m\u001b[0mget_client\u001b[0m\u001b[0;34m(\u001b[0m\u001b[0;34m)\u001b[0m\u001b[0;34m\u001b[0m\u001b[0;34m\u001b[0m\u001b[0m\n",
      "\u001b[0;32m~/miniconda3/envs/academy/lib/python3.7/site-packages/distributed/client.py\u001b[0m in \u001b[0;36m__init__\u001b[0;34m(self, address, loop, timeout, set_as_default, scheduler_file, security, asynchronous, name, heartbeat_interval, serializers, deserializers, extensions, direct_to_workers, connection_limit, **kwargs)\u001b[0m\n\u001b[1;32m    921\u001b[0m             \u001b[0mext\u001b[0m\u001b[0;34m(\u001b[0m\u001b[0mself\u001b[0m\u001b[0;34m)\u001b[0m\u001b[0;34m\u001b[0m\u001b[0;34m\u001b[0m\u001b[0m\n\u001b[1;32m    922\u001b[0m \u001b[0;34m\u001b[0m\u001b[0m\n\u001b[0;32m--> 923\u001b[0;31m         \u001b[0mself\u001b[0m\u001b[0;34m.\u001b[0m\u001b[0mstart\u001b[0m\u001b[0;34m(\u001b[0m\u001b[0mtimeout\u001b[0m\u001b[0;34m=\u001b[0m\u001b[0mtimeout\u001b[0m\u001b[0;34m)\u001b[0m\u001b[0;34m\u001b[0m\u001b[0;34m\u001b[0m\u001b[0m\n\u001b[0m\u001b[1;32m    924\u001b[0m         \u001b[0mClient\u001b[0m\u001b[0;34m.\u001b[0m\u001b[0m_instances\u001b[0m\u001b[0;34m.\u001b[0m\u001b[0madd\u001b[0m\u001b[0;34m(\u001b[0m\u001b[0mself\u001b[0m\u001b[0;34m)\u001b[0m\u001b[0;34m\u001b[0m\u001b[0;34m\u001b[0m\u001b[0m\n\u001b[1;32m    925\u001b[0m \u001b[0;34m\u001b[0m\u001b[0m\n",
      "\u001b[0;32m~/miniconda3/envs/academy/lib/python3.7/site-packages/distributed/client.py\u001b[0m in \u001b[0;36mstart\u001b[0;34m(self, **kwargs)\u001b[0m\n\u001b[1;32m   1079\u001b[0m             \u001b[0mself\u001b[0m\u001b[0;34m.\u001b[0m\u001b[0m_started\u001b[0m \u001b[0;34m=\u001b[0m \u001b[0masyncio\u001b[0m\u001b[0;34m.\u001b[0m\u001b[0mensure_future\u001b[0m\u001b[0;34m(\u001b[0m\u001b[0mself\u001b[0m\u001b[0;34m.\u001b[0m\u001b[0m_start\u001b[0m\u001b[0;34m(\u001b[0m\u001b[0;34m**\u001b[0m\u001b[0mkwargs\u001b[0m\u001b[0;34m)\u001b[0m\u001b[0;34m)\u001b[0m\u001b[0;34m\u001b[0m\u001b[0;34m\u001b[0m\u001b[0m\n\u001b[1;32m   1080\u001b[0m         \u001b[0;32melse\u001b[0m\u001b[0;34m:\u001b[0m\u001b[0;34m\u001b[0m\u001b[0;34m\u001b[0m\u001b[0m\n\u001b[0;32m-> 1081\u001b[0;31m             \u001b[0msync\u001b[0m\u001b[0;34m(\u001b[0m\u001b[0mself\u001b[0m\u001b[0;34m.\u001b[0m\u001b[0mloop\u001b[0m\u001b[0;34m,\u001b[0m \u001b[0mself\u001b[0m\u001b[0;34m.\u001b[0m\u001b[0m_start\u001b[0m\u001b[0;34m,\u001b[0m \u001b[0;34m**\u001b[0m\u001b[0mkwargs\u001b[0m\u001b[0;34m)\u001b[0m\u001b[0;34m\u001b[0m\u001b[0;34m\u001b[0m\u001b[0m\n\u001b[0m\u001b[1;32m   1082\u001b[0m \u001b[0;34m\u001b[0m\u001b[0m\n\u001b[1;32m   1083\u001b[0m     \u001b[0;32mdef\u001b[0m \u001b[0m__await__\u001b[0m\u001b[0;34m(\u001b[0m\u001b[0mself\u001b[0m\u001b[0;34m)\u001b[0m\u001b[0;34m:\u001b[0m\u001b[0;34m\u001b[0m\u001b[0;34m\u001b[0m\u001b[0m\n",
      "\u001b[0;32m~/miniconda3/envs/academy/lib/python3.7/site-packages/distributed/utils.py\u001b[0m in \u001b[0;36msync\u001b[0;34m(loop, func, callback_timeout, *args, **kwargs)\u001b[0m\n\u001b[1;32m    358\u001b[0m     \u001b[0;32melse\u001b[0m\u001b[0;34m:\u001b[0m\u001b[0;34m\u001b[0m\u001b[0;34m\u001b[0m\u001b[0m\n\u001b[1;32m    359\u001b[0m         \u001b[0;32mwhile\u001b[0m \u001b[0;32mnot\u001b[0m \u001b[0me\u001b[0m\u001b[0;34m.\u001b[0m\u001b[0mis_set\u001b[0m\u001b[0;34m(\u001b[0m\u001b[0;34m)\u001b[0m\u001b[0;34m:\u001b[0m\u001b[0;34m\u001b[0m\u001b[0;34m\u001b[0m\u001b[0m\n\u001b[0;32m--> 360\u001b[0;31m             \u001b[0me\u001b[0m\u001b[0;34m.\u001b[0m\u001b[0mwait\u001b[0m\u001b[0;34m(\u001b[0m\u001b[0;36m10\u001b[0m\u001b[0;34m)\u001b[0m\u001b[0;34m\u001b[0m\u001b[0;34m\u001b[0m\u001b[0m\n\u001b[0m\u001b[1;32m    361\u001b[0m     \u001b[0;32mif\u001b[0m \u001b[0merror\u001b[0m\u001b[0;34m[\u001b[0m\u001b[0;36m0\u001b[0m\u001b[0;34m]\u001b[0m\u001b[0;34m:\u001b[0m\u001b[0;34m\u001b[0m\u001b[0;34m\u001b[0m\u001b[0m\n\u001b[1;32m    362\u001b[0m         \u001b[0mtyp\u001b[0m\u001b[0;34m,\u001b[0m \u001b[0mexc\u001b[0m\u001b[0;34m,\u001b[0m \u001b[0mtb\u001b[0m \u001b[0;34m=\u001b[0m \u001b[0merror\u001b[0m\u001b[0;34m[\u001b[0m\u001b[0;36m0\u001b[0m\u001b[0;34m]\u001b[0m\u001b[0;34m\u001b[0m\u001b[0;34m\u001b[0m\u001b[0m\n",
      "\u001b[0;32m~/miniconda3/envs/academy/lib/python3.7/threading.py\u001b[0m in \u001b[0;36mwait\u001b[0;34m(self, timeout)\u001b[0m\n\u001b[1;32m    550\u001b[0m             \u001b[0msignaled\u001b[0m \u001b[0;34m=\u001b[0m \u001b[0mself\u001b[0m\u001b[0;34m.\u001b[0m\u001b[0m_flag\u001b[0m\u001b[0;34m\u001b[0m\u001b[0;34m\u001b[0m\u001b[0m\n\u001b[1;32m    551\u001b[0m             \u001b[0;32mif\u001b[0m \u001b[0;32mnot\u001b[0m \u001b[0msignaled\u001b[0m\u001b[0;34m:\u001b[0m\u001b[0;34m\u001b[0m\u001b[0;34m\u001b[0m\u001b[0m\n\u001b[0;32m--> 552\u001b[0;31m                 \u001b[0msignaled\u001b[0m \u001b[0;34m=\u001b[0m \u001b[0mself\u001b[0m\u001b[0;34m.\u001b[0m\u001b[0m_cond\u001b[0m\u001b[0;34m.\u001b[0m\u001b[0mwait\u001b[0m\u001b[0;34m(\u001b[0m\u001b[0mtimeout\u001b[0m\u001b[0;34m)\u001b[0m\u001b[0;34m\u001b[0m\u001b[0;34m\u001b[0m\u001b[0m\n\u001b[0m\u001b[1;32m    553\u001b[0m             \u001b[0;32mreturn\u001b[0m \u001b[0msignaled\u001b[0m\u001b[0;34m\u001b[0m\u001b[0;34m\u001b[0m\u001b[0m\n\u001b[1;32m    554\u001b[0m \u001b[0;34m\u001b[0m\u001b[0m\n",
      "\u001b[0;32m~/miniconda3/envs/academy/lib/python3.7/threading.py\u001b[0m in \u001b[0;36mwait\u001b[0;34m(self, timeout)\u001b[0m\n\u001b[1;32m    298\u001b[0m             \u001b[0;32melse\u001b[0m\u001b[0;34m:\u001b[0m\u001b[0;34m\u001b[0m\u001b[0;34m\u001b[0m\u001b[0m\n\u001b[1;32m    299\u001b[0m                 \u001b[0;32mif\u001b[0m \u001b[0mtimeout\u001b[0m \u001b[0;34m>\u001b[0m \u001b[0;36m0\u001b[0m\u001b[0;34m:\u001b[0m\u001b[0;34m\u001b[0m\u001b[0;34m\u001b[0m\u001b[0m\n\u001b[0;32m--> 300\u001b[0;31m                     \u001b[0mgotit\u001b[0m \u001b[0;34m=\u001b[0m \u001b[0mwaiter\u001b[0m\u001b[0;34m.\u001b[0m\u001b[0macquire\u001b[0m\u001b[0;34m(\u001b[0m\u001b[0;32mTrue\u001b[0m\u001b[0;34m,\u001b[0m \u001b[0mtimeout\u001b[0m\u001b[0;34m)\u001b[0m\u001b[0;34m\u001b[0m\u001b[0;34m\u001b[0m\u001b[0m\n\u001b[0m\u001b[1;32m    301\u001b[0m                 \u001b[0;32melse\u001b[0m\u001b[0;34m:\u001b[0m\u001b[0;34m\u001b[0m\u001b[0;34m\u001b[0m\u001b[0m\n\u001b[1;32m    302\u001b[0m                     \u001b[0mgotit\u001b[0m \u001b[0;34m=\u001b[0m \u001b[0mwaiter\u001b[0m\u001b[0;34m.\u001b[0m\u001b[0macquire\u001b[0m\u001b[0;34m(\u001b[0m\u001b[0;32mFalse\u001b[0m\u001b[0;34m)\u001b[0m\u001b[0;34m\u001b[0m\u001b[0;34m\u001b[0m\u001b[0m\n",
      "\u001b[0;31mKeyboardInterrupt\u001b[0m: "
     ]
    }
   ],
   "source": [
    "from warnings import filterwarnings\n",
    "filterwarnings('ignore')\n",
    "\n",
    "from IPython.core.interactiveshell import InteractiveShell\n",
    "InteractiveShell.ast_node_interactivity = \"all\"\n",
    "\n",
    "from ydata.connectors import GCSConnector\n",
    "from ydata.synthesizers.regular import RegularSynthesizer\n",
    "from ydata.metadata.metadata import Metadata\n",
    "from ydata.metadata.column import Column\n",
    "from ydata.utils.data_types import DataType, VariableType\n",
    "from utils import viz_main, viz_side_by_side # a couple of visualization utilities\n",
    "\n",
    "# Reading our data file from the GCS cloud\n",
    "connector = GCSConnector(project_id='ydatasynthetic')\n",
    "real_ds = connector.read_file(\"gs://ydata_testdata/tabular/loan_data/loan_samples.csv.zip\", file_type='csv')\n",
    "\n",
    "# Inspecting head of the dataset\n",
    "real_ds._train.head().T"
   ]
  },
  {
   "cell_type": "markdown",
   "id": "98e6d497",
   "metadata": {},
   "source": [
    "Before verifying the business logic, let's first detail it: \n",
    "* The expected revolving balance (product of revolving balance utilization rate by total credit limit) should match the actual revolving balance\n",
    "* For any given record, the average payment components should add up to the total payment\n",
    "* For any given record, the cumulative payments should add up to the expected payment\n",
    "\n",
    "The following visualizations will help us us validate these assumptions. "
   ]
  },
  {
   "cell_type": "code",
   "execution_count": null,
   "id": "328c92be",
   "metadata": {},
   "outputs": [],
   "source": [
    "viz_main(real_ds)"
   ]
  },
  {
   "cell_type": "markdown",
   "id": "bc9ac15b",
   "metadata": {},
   "source": [
    "The 3 aspects mentioned are indeed verified in the real data and any synthetic equivalent should exhibit these properties.\n",
    "\n",
    "Let's check if we can leverage YData's `RegularSynthesizer`'s to achieve just that!"
   ]
  },
  {
   "cell_type": "markdown",
   "id": "0fd91e62",
   "metadata": {},
   "source": [
    "## Synthesizing data with and without **Calculated Features**\n",
    "\n",
    "### Setting up"
   ]
  },
  {
   "cell_type": "code",
   "execution_count": null,
   "id": "4cff9b31",
   "metadata": {},
   "outputs": [],
   "source": [
    "# Creating a metadata object\n",
    "metadata = Metadata()\n",
    "print(metadata(real_ds))\n",
    "\n",
    "# Only term feature should be categorical\n",
    "metadata.columns.update({c: Column(c, DataType.NUMERICAL, VariableType.FLOAT) for c in real_ds.columns if c != 'term'})"
   ]
  },
  {
   "cell_type": "markdown",
   "id": "2b17de70",
   "metadata": {},
   "source": [
    "Everything regarding dataset metadata seems well specified, so we can proceed towards synthesis."
   ]
  },
  {
   "cell_type": "markdown",
   "id": "40ce6169",
   "metadata": {},
   "source": [
    "### Regular Synthesis \n",
    "Direct synthesis is obtained by passing the dataset and metadata objects to the `RegularSynthesizer`'s fit method."
   ]
  },
  {
   "cell_type": "code",
   "execution_count": null,
   "id": "4458f789",
   "metadata": {},
   "outputs": [],
   "source": [
    "SAMPLE_SIZE = 1000\n",
    "# Fit a synthesizer without using Calculated Features\n",
    "synth_reg = RegularSynthesizer()\n",
    "synth_reg.fit(real_ds, metadata=metadata)\n",
    "\n",
    "# Obtaining samples\n",
    "samples_reg = synth_reg.sample(SAMPLE_SIZE)"
   ]
  },
  {
   "cell_type": "markdown",
   "id": "de264b8f",
   "metadata": {},
   "source": [
    "### Synthesis with **Calculated Features**\n",
    "To produce the desired **Calculated Features** we will first translate each business rule into a function (either a regular method or a `lambda`) and infuse them into the `RegularSynthesizer`. "
   ]
  },
  {
   "cell_type": "markdown",
   "id": "b2df28ae",
   "metadata": {},
   "source": [
    "Revolving credit utilization is computed as the quotient of revolving credit balance and the total limit of credit:"
   ]
  },
  {
   "cell_type": "code",
   "execution_count": null,
   "id": "8e99569f",
   "metadata": {},
   "outputs": [],
   "source": [
    "# Computes the revolving credit utilization based on the current revolving balance and the credit limit.\n",
    "get_revolving_util = lambda revol_bal, total_rev_hi_lim : (revol_bal/total_rev_hi_lim).values"
   ]
  },
  {
   "cell_type": "markdown",
   "id": "ecc4711c",
   "metadata": {},
   "source": [
    "The installment (to be paid each month) is calculated according to the [formula for amortization](https://en.wikipedia.org/wiki/Amortization_calculator):"
   ]
  },
  {
   "cell_type": "code",
   "execution_count": null,
   "id": "8bd24dbd",
   "metadata": {},
   "outputs": [],
   "source": [
    "def get_installment(int_rate, loan_amnt, term):\n",
    "    \"Computes the installment values due monthly based on an amortization loan schedule.\"\n",
    "    n = term.str.rstrip('m').astype('int')  # The total number of periods\n",
    "    period_int = int_rate/12  # The adjusted annual interest for the monthly installment periods\n",
    "    return loan_amnt*((period_int*(1+period_int)**n)/((1+period_int)**n-1)).values"
   ]
  },
  {
   "cell_type": "markdown",
   "id": "86cf5498",
   "metadata": {},
   "source": [
    "The total payment is computed as the sum of all payment parcels:"
   ]
  },
  {
   "cell_type": "code",
   "execution_count": null,
   "id": "0979d3dd",
   "metadata": {},
   "outputs": [],
   "source": [
    "def get_total_payment(total_rec_int, total_rec_late_fee, total_rec_prncp):\n",
    "    \"Computes total payment as the sum of all payment parcels.\"\n",
    "    return (total_rec_int + total_rec_late_fee + total_rec_prncp).values"
   ]
  },
  {
   "cell_type": "markdown",
   "id": "74360298",
   "metadata": {},
   "source": [
    "We can now train and sample from a synthesizer with this additional information:"
   ]
  },
  {
   "cell_type": "code",
   "execution_count": null,
   "id": "5a4da8c1",
   "metadata": {},
   "outputs": [],
   "source": [
    "calculated_features = [\n",
    "    {\n",
    "        'calculated_features': 'revol_util',\n",
    "        'function': get_revolving_util,\n",
    "        'calculated_from': [\"revol_bal\", \"total_rev_hi_lim\"]\n",
    "    },\n",
    "    {\n",
    "        'calculated_features': 'installment',\n",
    "        'function': get_installment,\n",
    "        'calculated_from': [\"int_rate\", \"loan_amnt\", \"term\"]\n",
    "    },\n",
    "    {\n",
    "        'calculated_features': 'total_pymnt',\n",
    "        'function': get_total_payment,\n",
    "        'calculated_from': [\"total_rec_int\", \"total_rec_late_fee\", \"total_rec_prncp\"]\n",
    "    },\n",
    "]"
   ]
  },
  {
   "cell_type": "code",
   "execution_count": null,
   "id": "5ac1cd34",
   "metadata": {},
   "outputs": [],
   "source": [
    "# Fit a synthesizer using Calculated Features\n",
    "synth_calcft = RegularSynthesizer()\n",
    "synth_calcft.fit(real_ds, metadata=metadata, calculated_features=calculated_features)\n",
    "\n",
    "# Obtaining samples\n",
    "samples_calcft = synth_calcft.sample(SAMPLE_SIZE)"
   ]
  },
  {
   "cell_type": "markdown",
   "id": "110842d2",
   "metadata": {},
   "source": [
    "## Evaluating the synthetic data\n",
    "Let's evaluate the effectiveness of our **Calculated Features** by redoing our EDA visualizations for both cases (with and without the manually defined business logic). "
   ]
  },
  {
   "cell_type": "code",
   "execution_count": null,
   "id": "ace3e5ff",
   "metadata": {},
   "outputs": [],
   "source": [
    "viz_side_by_side({'Regular Synthesis': samples_reg, 'Synthetic data with Calculated Features': samples_calcft})"
   ]
  },
  {
   "cell_type": "markdown",
   "id": "93bd98ba",
   "metadata": {},
   "source": [
    "The addition of the **Calculated Features** guarantees that the generated data tighthly adheres to our business constraints. Without it, instead of deterministic behaviours, we obtain close approximations. Combining data-driven modelling processes with domain knowledge guarantees we play to the strength's of each: learning the continuous distributions of the underlying features while maintaining the exact nature of business logic when they need to be combined."
   ]
  },
  {
   "cell_type": "markdown",
   "id": "a10e97e7",
   "metadata": {},
   "source": [
    "### Wrapping up\n",
    "As the synthetic data sample visualizations showed, by using **Calculated Features** we were able to verify the business rules found in the real data.\n",
    "\n",
    "Defining **Calculated Features** is easy and allows us to guarantee that the produced samples respect intricate deterministic relationships. You can leverage this feature to make the synthetization models adhere to the specific constraints of your domain, simply by specifying them as functions. "
   ]
  }
 ],
 "metadata": {
  "kernelspec": {
   "display_name": "Python 3 (ipykernel)",
   "language": "python",
   "name": "python3"
  },
  "language_info": {
   "codemirror_mode": {
    "name": "ipython",
    "version": 3
   },
   "file_extension": ".py",
   "mimetype": "text/x-python",
   "name": "python",
   "nbconvert_exporter": "python",
   "pygments_lexer": "ipython3",
   "version": "3.7.12"
  }
 },
 "nbformat": 4,
 "nbformat_minor": 5
}
