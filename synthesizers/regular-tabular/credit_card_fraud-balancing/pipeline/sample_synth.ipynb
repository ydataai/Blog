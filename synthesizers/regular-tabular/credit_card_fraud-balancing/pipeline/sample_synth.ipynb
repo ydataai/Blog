{
 "cells": [
  {
   "cell_type": "markdown",
   "id": "7cd15869-e739-4ef3-ac6b-27d54d1c79eb",
   "metadata": {},
   "source": [
    "# Creating synthetic samples\n",
    "After training the synthesizer on top of fraudulent events we are able to generate as many as desired synthetic samples, always having in mind there's a trade-off between the number of records used for the model training and privacy."
   ]
  },
  {
   "cell_type": "code",
   "execution_count": 2,
   "id": "2a0d36b9-f22d-4d92-9941-9e66d347c1a8",
   "metadata": {},
   "outputs": [],
   "source": [
    "#Importing the required packages\n",
    "import os \n",
    "\n",
    "from ydata.synthesizers.regular import RegularSynthesizer\n",
    "\n",
    "try:\n",
    "    os.mkdir('outputs')\n",
    "except FileExistsError as e:\n",
    "    print('Directory already exists')"
   ]
  },
  {
   "cell_type": "markdown",
   "id": "89c7b884-45cc-470c-b741-6c3e156899ac",
   "metadata": {},
   "source": [
    "### Init the synth & Samples generation"
   ]
  },
  {
   "cell_type": "code",
   "execution_count": 5,
   "id": "7d2727e5-c93f-4683-9f30-ac13c06057e8",
   "metadata": {},
   "outputs": [],
   "source": [
    "n_samples = os.environ['NSAMPLES']"
   ]
  },
  {
   "cell_type": "code",
   "execution_count": 7,
   "id": "137444d4-58a6-4d0f-b3e0-b2b64ac58815",
   "metadata": {},
   "outputs": [
    {
     "name": "stdout",
     "output_type": "stream",
     "text": [
      "INFO: 2022-02-20 23:44:25,790 [SYNTHESIZER] - Start generating model samples.\n"
     ]
    }
   ],
   "source": [
    "model = RegularSynthesizer.load('outputs/synth_model.pkl')\n",
    "synth_data = model.sample(int(n_samples))"
   ]
  },
  {
   "cell_type": "markdown",
   "id": "1ec46e81-b913-4215-bf77-923fc109fd82",
   "metadata": {},
   "source": [
    "### Sending the synthetic samples to the next pipeline stage"
   ]
  },
  {
   "cell_type": "code",
   "execution_count": null,
   "id": "79d908cf-07b2-42d5-b905-c11c5cb10a54",
   "metadata": {},
   "outputs": [],
   "source": [
    "OUTPUT_PATH=os.environ['OUTPUT_PATH']"
   ]
  },
  {
   "cell_type": "code",
   "execution_count": 9,
   "id": "f9f95405-6a91-437a-90a7-9913f3427fda",
   "metadata": {},
   "outputs": [],
   "source": [
    "from ydata.connectors.filetype import FileType\n",
    "from ydata.connectors import LocalConnector\n",
    "\n",
    "conn = LocalConnector()"
   ]
  },
  {
   "cell_type": "code",
   "execution_count": 8,
   "id": "150624ca-f3c6-4a68-a4b0-490674b013ef",
   "metadata": {},
   "outputs": [],
   "source": [
    "#Creating the output with the synthetic sample\n",
    "conn.write_file(synth_data, path=OUTPUT_PATH, file_type = FileType.CSV)"
   ]
  }
 ],
 "metadata": {
  "kernelspec": {
   "display_name": "Python 3 (ipykernel)",
   "language": "python",
   "name": "python3"
  },
  "language_info": {
   "codemirror_mode": {
    "name": "ipython",
    "version": 3
   },
   "file_extension": ".py",
   "mimetype": "text/x-python",
   "name": "python",
   "nbconvert_exporter": "python",
   "pygments_lexer": "ipython3",
   "version": "3.7.11"
  }
 },
 "nbformat": 4,
 "nbformat_minor": 5
}
