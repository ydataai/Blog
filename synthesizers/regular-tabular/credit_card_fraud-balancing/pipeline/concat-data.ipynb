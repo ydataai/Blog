{
 "cells": [
  {
   "cell_type": "markdown",
   "id": "8bf31b4e-dac7-497e-801d-3b933aeb62da",
   "metadata": {},
   "source": [
    "# Combining Synthetic and Real sample"
   ]
  },
  {
   "cell_type": "markdown",
   "id": "81a97fc5-67c2-4eaa-8593-c238b0c0d216",
   "metadata": {},
   "source": [
    "### Reading the data from previous pipeline steps"
   ]
  },
  {
   "cell_type": "code",
   "execution_count": 11,
   "id": "7a232bf6-ee06-430c-97b7-e0fdcb15c2dc",
   "metadata": {},
   "outputs": [],
   "source": [
    "#Import the required packages\n",
    "import os\n",
    "\n",
    "import pandas as pd\n",
    "from sklearn.utils import shuffle"
   ]
  },
  {
   "cell_type": "code",
   "execution_count": 8,
   "id": "5e6ee675-1f52-4809-af70-331e602721a7",
   "metadata": {},
   "outputs": [],
   "source": [
    "DATA_PATH = os.environ['SYNTH_DATA_PATH']\n",
    "\n",
    "synth_samples = pd.read_csv(DATA_PATH)\n",
    "real_samples = pd.read_csv('outputs/non_fraud.csv')\n",
    "\n",
    "data = pd.concat([synth_samples, real_samples], axis=0)"
   ]
  },
  {
   "cell_type": "code",
   "execution_count": 12,
   "id": "a65414c8-05f7-49fe-b512-3dc16c52de08",
   "metadata": {},
   "outputs": [],
   "source": [
    "data = shuffle(data)"
   ]
  },
  {
   "cell_type": "markdown",
   "id": "9a0fc153-d37d-428a-83bf-342ccd7be37a",
   "metadata": {},
   "source": [
    "### Prepare the pipeline step output"
   ]
  },
  {
   "cell_type": "code",
   "execution_count": 15,
   "id": "c9504d10-0136-4987-8797-e9cccb6ae500",
   "metadata": {},
   "outputs": [],
   "source": [
    "OUTPUT_PATH=os.environ['OUTPUT_PATH']\n",
    "data.to_csv(OUTPUT_PATH)"
   ]
  }
 ],
 "metadata": {
  "kernelspec": {
   "display_name": "Python 3 (ipykernel)",
   "language": "python",
   "name": "python3"
  },
  "language_info": {
   "codemirror_mode": {
    "name": "ipython",
    "version": 3
   },
   "file_extension": ".py",
   "mimetype": "text/x-python",
   "name": "python",
   "nbconvert_exporter": "python",
   "pygments_lexer": "ipython3",
   "version": "3.7.11"
  }
 },
 "nbformat": 4,
 "nbformat_minor": 5
}
