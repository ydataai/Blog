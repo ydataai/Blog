{
 "cells": [
  {
   "cell_type": "code",
   "execution_count": 1,
   "id": "dab24009-9b6b-4c36-8b4a-87fa0c64f6a7",
   "metadata": {},
   "outputs": [],
   "source": [
    "import pandas as pd\n",
    "import numpy as np\n",
    "from ydata.synthesizers.regular.model import RegularSynthesizer\n",
    "from ydata.metadata import Metadata\n",
    "from ydata.dataset import Dataset\n",
    "from ydata.labs import DataSources\n",
    "from ydata.report import SyntheticDataProfile\n",
    "from ydata.report.reports.report_type import ReportType\n",
    "from ydata.synthesizers.privacy import PrivacyLevel"
   ]
  },
  {
   "cell_type": "markdown",
   "id": "1138a0e8-53db-4c9f-9069-728f6ddca426",
   "metadata": {
    "tags": []
   },
   "source": [
    "## **Auxiliary Functions**"
   ]
  },
  {
   "cell_type": "code",
   "execution_count": 2,
   "id": "dcbc0412-2050-44ee-b263-dc15bb0f0314",
   "metadata": {},
   "outputs": [],
   "source": [
    "# Auxiliary function used to train and sample from a regular synthesizer.\n",
    "def train_and_sample_from_synthesizer(data: Dataset, metadata: Metadata, privacy_level: PrivacyLevel):\n",
    "    synthesizer = RegularSynthesizer()\n",
    "    synthesizer.fit(data, metadata=metadata, privacy_level=privacy_level)\n",
    "    holdout_dataset = Dataset(synthesizer._holdout._data.compute())\n",
    "    train_dataset = Dataset(synthesizer._holdout._train_data.compute())\n",
    "    return holdout_dataset, train_dataset, synthesizer.sample(n_samples=len(holdout_dataset))"
   ]
  },
  {
   "cell_type": "code",
   "execution_count": 3,
   "id": "91a55ff9-96af-463c-bed6-726645e4a1eb",
   "metadata": {},
   "outputs": [],
   "source": [
    "# Auxiliary function used to obtain the fidelity, utility, and privacy scores.\n",
    "def get_report_metrics(holdout_data: Dataset, train_data: Dataset, synth_data: Dataset, target: str):\n",
    "    sdf = SyntheticDataProfile(report_type=ReportType.TABULAR)\n",
    "    data_types = {k: v.datatype for k, v in metadata.columns.items()}\n",
    "\n",
    "    sdf.generate_report(real=holdout_data,\n",
    "                        synth=synth_data,\n",
    "                        target=target,\n",
    "                        data_types=data_types,\n",
    "                        training_data=train_data,\n",
    "                        metadata=metadata,\n",
    "                        pdf=False)\n",
    "\n",
    "    return sdf.get_summary()"
   ]
  },
  {
   "cell_type": "markdown",
   "id": "46805f4c-18b4-4048-b1cb-e02d930e5a90",
   "metadata": {},
   "source": [
    "# **YData Privacy Layer**\n",
    "\n",
    "YData synthesizers now offer a privacy layer that can provide differential privacy to the end-user by selecting one of three levels:\n",
    "- High fidelity - the default behavior, which leads to synthetic data with higher fidelity/utility and less privacy.\n",
    "- High privacy - enables the generation of synthetic data with higher privacy, accepting a loss of fidelity and utility.\n",
    "- Balanced fidelity/privacy - tries to find a balance between high fidelity, utility, and privacy, aiming to reach good enough results in all three settings.\n",
    "\n",
    "This notebook describes how to use the privacy layer with the regular synthesizer. The same logic here explained can be equally applied to the time series synthesizer.\n",
    "\n",
    "We will use the Breast Cancer Wisconsin dataset to demonstrate how to take advantage of the privacy layer. This dataset contains computed features from a digitized image of a fine needle aspirate (FNA) of several breast masses. Each row has the diagnosis (M for malignant and B for benign) and 32 real-valued features computed for the cell nuclei. The diagnosis is the dataset target."
   ]
  },
  {
   "cell_type": "code",
   "execution_count": 4,
   "id": "5ff57fcf-aaa9-49f6-8f12-ea0efe78ce1b",
   "metadata": {},
   "outputs": [
    {
     "name": "stdout",
     "output_type": "stream",
     "text": [
      "[########################################] | 100% Completed | 101.66 ms\n",
      "[########################################] | 100% Completed | 101.82 ms\n",
      "[########################################] | 100% Completed | 103.16 ms\n",
      "[########################################] | 100% Completed | 101.47 ms\n",
      "[########################################] | 100% Completed | 661.24 ms\n"
     ]
    }
   ],
   "source": [
    "datasource = DataSources.get(uid='{dasource-uid}')\n",
    "data = datasource.read()\n",
    "data = data.drop_columns(columns=[\"id\"])\n",
    "metadata = Metadata(data)\n",
    "_target = \"diagnosis\""
   ]
  },
  {
   "cell_type": "code",
   "execution_count": 5,
   "id": "0487b44d-d6e4-4688-9f4a-1ddf337259bb",
   "metadata": {},
   "outputs": [
    {
     "data": {
      "text/html": [
       "<div>\n",
       "<style scoped>\n",
       "    .dataframe tbody tr th:only-of-type {\n",
       "        vertical-align: middle;\n",
       "    }\n",
       "\n",
       "    .dataframe tbody tr th {\n",
       "        vertical-align: top;\n",
       "    }\n",
       "\n",
       "    .dataframe thead th {\n",
       "        text-align: right;\n",
       "    }\n",
       "</style>\n",
       "<table border=\"1\" class=\"dataframe\">\n",
       "  <thead>\n",
       "    <tr style=\"text-align: right;\">\n",
       "      <th></th>\n",
       "      <th>diagnosis</th>\n",
       "      <th>radius_mean</th>\n",
       "      <th>texture_mean</th>\n",
       "      <th>perimeter_mean</th>\n",
       "      <th>area_mean</th>\n",
       "      <th>smoothness_mean</th>\n",
       "      <th>compactness_mean</th>\n",
       "      <th>concavity_mean</th>\n",
       "      <th>concave points_mean</th>\n",
       "      <th>symmetry_mean</th>\n",
       "      <th>...</th>\n",
       "      <th>radius_worst</th>\n",
       "      <th>texture_worst</th>\n",
       "      <th>perimeter_worst</th>\n",
       "      <th>area_worst</th>\n",
       "      <th>smoothness_worst</th>\n",
       "      <th>compactness_worst</th>\n",
       "      <th>concavity_worst</th>\n",
       "      <th>concave points_worst</th>\n",
       "      <th>symmetry_worst</th>\n",
       "      <th>fractal_dimension_worst</th>\n",
       "    </tr>\n",
       "  </thead>\n",
       "  <tbody>\n",
       "    <tr>\n",
       "      <th>0</th>\n",
       "      <td>M</td>\n",
       "      <td>17.99</td>\n",
       "      <td>10.38</td>\n",
       "      <td>122.80</td>\n",
       "      <td>1001.0</td>\n",
       "      <td>0.11840</td>\n",
       "      <td>0.27760</td>\n",
       "      <td>0.3001</td>\n",
       "      <td>0.14710</td>\n",
       "      <td>0.2419</td>\n",
       "      <td>...</td>\n",
       "      <td>25.38</td>\n",
       "      <td>17.33</td>\n",
       "      <td>184.60</td>\n",
       "      <td>2019.0</td>\n",
       "      <td>0.1622</td>\n",
       "      <td>0.6656</td>\n",
       "      <td>0.7119</td>\n",
       "      <td>0.2654</td>\n",
       "      <td>0.4601</td>\n",
       "      <td>0.11890</td>\n",
       "    </tr>\n",
       "    <tr>\n",
       "      <th>1</th>\n",
       "      <td>M</td>\n",
       "      <td>20.57</td>\n",
       "      <td>17.77</td>\n",
       "      <td>132.90</td>\n",
       "      <td>1326.0</td>\n",
       "      <td>0.08474</td>\n",
       "      <td>0.07864</td>\n",
       "      <td>0.0869</td>\n",
       "      <td>0.07017</td>\n",
       "      <td>0.1812</td>\n",
       "      <td>...</td>\n",
       "      <td>24.99</td>\n",
       "      <td>23.41</td>\n",
       "      <td>158.80</td>\n",
       "      <td>1956.0</td>\n",
       "      <td>0.1238</td>\n",
       "      <td>0.1866</td>\n",
       "      <td>0.2416</td>\n",
       "      <td>0.1860</td>\n",
       "      <td>0.2750</td>\n",
       "      <td>0.08902</td>\n",
       "    </tr>\n",
       "    <tr>\n",
       "      <th>2</th>\n",
       "      <td>M</td>\n",
       "      <td>19.69</td>\n",
       "      <td>21.25</td>\n",
       "      <td>130.00</td>\n",
       "      <td>1203.0</td>\n",
       "      <td>0.10960</td>\n",
       "      <td>0.15990</td>\n",
       "      <td>0.1974</td>\n",
       "      <td>0.12790</td>\n",
       "      <td>0.2069</td>\n",
       "      <td>...</td>\n",
       "      <td>23.57</td>\n",
       "      <td>25.53</td>\n",
       "      <td>152.50</td>\n",
       "      <td>1709.0</td>\n",
       "      <td>0.1444</td>\n",
       "      <td>0.4245</td>\n",
       "      <td>0.4504</td>\n",
       "      <td>0.2430</td>\n",
       "      <td>0.3613</td>\n",
       "      <td>0.08758</td>\n",
       "    </tr>\n",
       "    <tr>\n",
       "      <th>3</th>\n",
       "      <td>M</td>\n",
       "      <td>11.42</td>\n",
       "      <td>20.38</td>\n",
       "      <td>77.58</td>\n",
       "      <td>386.1</td>\n",
       "      <td>0.14250</td>\n",
       "      <td>0.28390</td>\n",
       "      <td>0.2414</td>\n",
       "      <td>0.10520</td>\n",
       "      <td>0.2597</td>\n",
       "      <td>...</td>\n",
       "      <td>14.91</td>\n",
       "      <td>26.50</td>\n",
       "      <td>98.87</td>\n",
       "      <td>567.7</td>\n",
       "      <td>0.2098</td>\n",
       "      <td>0.8663</td>\n",
       "      <td>0.6869</td>\n",
       "      <td>0.2575</td>\n",
       "      <td>0.6638</td>\n",
       "      <td>0.17300</td>\n",
       "    </tr>\n",
       "    <tr>\n",
       "      <th>4</th>\n",
       "      <td>M</td>\n",
       "      <td>20.29</td>\n",
       "      <td>14.34</td>\n",
       "      <td>135.10</td>\n",
       "      <td>1297.0</td>\n",
       "      <td>0.10030</td>\n",
       "      <td>0.13280</td>\n",
       "      <td>0.1980</td>\n",
       "      <td>0.10430</td>\n",
       "      <td>0.1809</td>\n",
       "      <td>...</td>\n",
       "      <td>22.54</td>\n",
       "      <td>16.67</td>\n",
       "      <td>152.20</td>\n",
       "      <td>1575.0</td>\n",
       "      <td>0.1374</td>\n",
       "      <td>0.2050</td>\n",
       "      <td>0.4000</td>\n",
       "      <td>0.1625</td>\n",
       "      <td>0.2364</td>\n",
       "      <td>0.07678</td>\n",
       "    </tr>\n",
       "  </tbody>\n",
       "</table>\n",
       "<p>5 rows × 31 columns</p>\n",
       "</div>"
      ],
      "text/plain": [
       "  diagnosis  radius_mean  texture_mean  perimeter_mean  area_mean  \\\n",
       "0         M        17.99         10.38          122.80     1001.0   \n",
       "1         M        20.57         17.77          132.90     1326.0   \n",
       "2         M        19.69         21.25          130.00     1203.0   \n",
       "3         M        11.42         20.38           77.58      386.1   \n",
       "4         M        20.29         14.34          135.10     1297.0   \n",
       "\n",
       "   smoothness_mean  compactness_mean  concavity_mean  concave points_mean  \\\n",
       "0          0.11840           0.27760          0.3001              0.14710   \n",
       "1          0.08474           0.07864          0.0869              0.07017   \n",
       "2          0.10960           0.15990          0.1974              0.12790   \n",
       "3          0.14250           0.28390          0.2414              0.10520   \n",
       "4          0.10030           0.13280          0.1980              0.10430   \n",
       "\n",
       "   symmetry_mean  ...  radius_worst  texture_worst  perimeter_worst  \\\n",
       "0         0.2419  ...         25.38          17.33           184.60   \n",
       "1         0.1812  ...         24.99          23.41           158.80   \n",
       "2         0.2069  ...         23.57          25.53           152.50   \n",
       "3         0.2597  ...         14.91          26.50            98.87   \n",
       "4         0.1809  ...         22.54          16.67           152.20   \n",
       "\n",
       "   area_worst  smoothness_worst  compactness_worst  concavity_worst  \\\n",
       "0      2019.0            0.1622             0.6656           0.7119   \n",
       "1      1956.0            0.1238             0.1866           0.2416   \n",
       "2      1709.0            0.1444             0.4245           0.4504   \n",
       "3       567.7            0.2098             0.8663           0.6869   \n",
       "4      1575.0            0.1374             0.2050           0.4000   \n",
       "\n",
       "   concave points_worst  symmetry_worst  fractal_dimension_worst  \n",
       "0                0.2654          0.4601                  0.11890  \n",
       "1                0.1860          0.2750                  0.08902  \n",
       "2                0.2430          0.3613                  0.08758  \n",
       "3                0.2575          0.6638                  0.17300  \n",
       "4                0.1625          0.2364                  0.07678  \n",
       "\n",
       "[5 rows x 31 columns]"
      ]
     },
     "execution_count": 5,
     "metadata": {},
     "output_type": "execute_result"
    }
   ],
   "source": [
    "data.head()"
   ]
  },
  {
   "cell_type": "markdown",
   "id": "756b950a-652c-41bb-beb8-2cb6942c3e58",
   "metadata": {
    "tags": []
   },
   "source": [
    "## **High Fidelity**\n",
    "\n",
    "The synthesizer has a parameter named `privacy_level`, which is optional and defaults to the high-fidelity setting. Nevertheless, we can also explicitly specify this level. We just have to import the `PrivacyLevel` enumeration and chose the `HIGH_FIDELITY` option."
   ]
  },
  {
   "cell_type": "code",
   "execution_count": 6,
   "id": "17428366-037f-44c2-8d90-e48e59241b8d",
   "metadata": {},
   "outputs": [
    {
     "name": "stdout",
     "output_type": "stream",
     "text": [
      "INFO: 2023-03-16 12:45:57,677 [SYNTHESIZER] - Number columns considered for synth: 31\n",
      "INFO: 2023-03-16 12:45:58,011 [SYNTHESIZER] - Starting the synthetic data modeling process over 1x1 blocks.\n",
      "INFO: 2023-03-16 12:45:58,012 [SYNTHESIZER] - Preprocess segment\n",
      "INFO: 2023-03-16 12:45:58,016 [SYNTHESIZER] - Synthesizer init.\n",
      "INFO: 2023-03-16 12:45:58,016 [SYNTHESIZER] - Processing the data prior fitting the synthesizer.\n",
      "INFO: 2023-03-16 12:45:58,713 [SYNTHESIZER] - Start generating model samples.\n"
     ]
    }
   ],
   "source": [
    "holdout_dataset, train_dataset, synthetic_dataset = train_and_sample_from_synthesizer(data=data, metadata=metadata, privacy_level=PrivacyLevel.HIGH_FIDELITY)"
   ]
  },
  {
   "cell_type": "code",
   "execution_count": 7,
   "id": "9b30bca2-53aa-41a3-bcb4-ad69bd8d2f8c",
   "metadata": {},
   "outputs": [
    {
     "name": "stdout",
     "output_type": "stream",
     "text": [
      "INFO: 2023-03-16 12:45:59,120 [PROFILEREPORT] - Starting metrics calculation.\n",
      "INFO: 2023-03-16 12:45:59,174 [PROFILEREPORT] - Synthetic data quality report selected target variable: diagnosis\n",
      "INFO: 2023-03-16 12:45:59,175 [PROFILEREPORT] - preparing data format.\n",
      "INFO: 2023-03-16 12:45:59,255 [PROFILEREPORT] - Preparing the data for metrics calculation\n",
      "INFO: 2023-03-16 12:45:59,310 [PROFILEREPORT] - Calculating privacy metrics.\n",
      "INFO: 2023-03-16 12:45:59,313 [PROFILEREPORT] - Calculating metric [Exact Matches].\n",
      "INFO: 2023-03-16 12:45:59,317 [PROFILEREPORT] - Metric [Exact Matches] took 0.00s.\n",
      "INFO: 2023-03-16 12:45:59,319 [PROFILEREPORT] - Calculating metric [Membership Inference Score].\n",
      "INFO: 2023-03-16 12:45:59,320 [PROFILEREPORT] - Membership Disclosure Score sample size was reduce to match the dataset with size 114.\n",
      "INFO: 2023-03-16 12:45:59,329 [PROFILEREPORT] - Metric [Membership Inference Score] took 0.01s.\n",
      "INFO: 2023-03-16 12:45:59,331 [PROFILEREPORT] - Calculating metric [Neighbours Privacy].\n",
      "INFO: 2023-03-16 12:45:59,339 [PROFILEREPORT] - Metric [Neighbours Privacy] took 0.01s.\n",
      "INFO: 2023-03-16 12:45:59,341 [PROFILEREPORT] - Calculating metric [Synth Classifier].\n",
      "INFO: 2023-03-16 12:45:59,482 [PROFILEREPORT] - Metric [Synth Classifier] took 0.14s.\n",
      "INFO: 2023-03-16 12:45:59,482 [PROFILEREPORT] - Calculating fidelity metrics.\n",
      "INFO: 2023-03-16 12:45:59,484 [PROFILEREPORT] - Calculating metric [Correlation Similarity].\n",
      "INFO: 2023-03-16 12:45:59,754 [PROFILEREPORT] - Metric [Correlation Similarity] took 0.27s.\n",
      "INFO: 2023-03-16 12:45:59,755 [PROFILEREPORT] - Calculating metric [Distance Distribution].\n",
      "INFO: 2023-03-16 12:45:59,763 [PROFILEREPORT] - Metric [Distance Distribution] took 0.01s.\n",
      "INFO: 2023-03-16 12:45:59,765 [PROFILEREPORT] - Calculating metric [Statistical Similarity].\n",
      "INFO: 2023-03-16 12:45:59,775 [PROFILEREPORT] - Metric [Statistical Similarity] took 0.01s.\n",
      "INFO: 2023-03-16 12:45:59,777 [PROFILEREPORT] - Calculating metric [Category Coverage].\n",
      "INFO: 2023-03-16 12:45:59,780 [PROFILEREPORT] - Metric [Category Coverage] took 0.00s.\n",
      "INFO: 2023-03-16 12:45:59,781 [PROFILEREPORT] - Calculating metric [Missing Category Coverage].\n",
      "INFO: 2023-03-16 12:45:59,785 [PROFILEREPORT] - Metric [Missing Category Coverage] took 0.00s.\n",
      "INFO: 2023-03-16 12:45:59,787 [PROFILEREPORT] - Calculating metric [Range Coverage].\n",
      "INFO: 2023-03-16 12:45:59,791 [PROFILEREPORT] - Metric [Range Coverage] took 0.00s.\n",
      "INFO: 2023-03-16 12:45:59,793 [PROFILEREPORT] - Calculating metric [Kolmogorov-Smirnov Test].\n",
      "INFO: 2023-03-16 12:45:59,803 [PROFILEREPORT] - Metric [Kolmogorov-Smirnov Test] took 0.01s.\n",
      "INFO: 2023-03-16 12:45:59,804 [PROFILEREPORT] - Calculating metric [Chi-Squared Test].\n",
      "INFO: 2023-03-16 12:45:59,809 [PROFILEREPORT] - Metric [Chi-Squared Test] took 0.00s.\n",
      "INFO: 2023-03-16 12:45:59,810 [PROFILEREPORT] - Calculating metric [Missing Values Similarity].\n",
      "INFO: 2023-03-16 12:45:59,811 [PROFILEREPORT] - Metric [Missing Values Similarity] took 0.00s.\n",
      "INFO: 2023-03-16 12:45:59,812 [PROFILEREPORT] - Calculating metric [Mutual Information].\n",
      "INFO: 2023-03-16 12:46:01,476 [PROFILEREPORT] - Metric [Mutual Information] took 1.66s.\n",
      "INFO: 2023-03-16 12:46:01,478 [PROFILEREPORT] - Calculating metric [Dimensionality Reduction].\n",
      "INFO: 2023-03-16 12:46:01,513 [PROFILEREPORT] - Metric [Dimensionality Reduction] took 0.04s.\n",
      "INFO: 2023-03-16 12:46:01,514 [PROFILEREPORT] - Calculating utility metrics.\n",
      "INFO: 2023-03-16 12:46:01,516 [PROFILEREPORT] - Calculating metric [QScore].\n",
      "INFO: 2023-03-16 12:46:02,890 [PROFILEREPORT] - Metric [QScore] took 1.37s.\n",
      "INFO: 2023-03-16 12:46:02,891 [PROFILEREPORT] - Calculating metric [Train on Synthetic Test on Real].\n",
      "INFO: 2023-03-16 12:46:03,884 [PROFILEREPORT] - Metric [Train on Synthetic Test on Real] took 0.99s.\n",
      "INFO: 2023-03-16 12:46:03,885 [PROFILEREPORT] - Calculating metric [Feature Importance].\n",
      "INFO: 2023-03-16 12:46:04,754 [PROFILEREPORT] - Metric [Feature Importance] took 0.87s.\n"
     ]
    }
   ],
   "source": [
    "%%capture\n",
    "summary_metrics = get_report_metrics(holdout_data=holdout_dataset, train_data=train_dataset, synth_data=synthetic_dataset, target=_target)"
   ]
  },
  {
   "cell_type": "code",
   "execution_count": 8,
   "id": "d1a3cfe2-f65a-49f6-add4-55740637df81",
   "metadata": {},
   "outputs": [
    {
     "name": "stdout",
     "output_type": "stream",
     "text": [
      "\u001b[1mHIGH_FIDELITY\n",
      "\u001b[1mFidelity: 0.89\n",
      "\u001b[1mUtility: 0.70\n",
      "\u001b[1mPrivacy: 0.67\n"
     ]
    }
   ],
   "source": [
    "print(f\"\\033[1m{PrivacyLevel.HIGH_FIDELITY.name}\")\n",
    "print(f\"\\033[1mFidelity: {summary_metrics['fidelity']:.2f}\")\n",
    "print(f\"\\033[1mUtility: {summary_metrics['utility']:.2f}\")\n",
    "print(f\"\\033[1mPrivacy: {summary_metrics['privacy']:.2f}\")"
   ]
  },
  {
   "cell_type": "markdown",
   "id": "53790dda-a606-467c-b79c-997904fbab72",
   "metadata": {},
   "source": [
    "## **High Privacy**\n",
    "\n",
    "To achieve high privacy, the `privacy_level` parameter must be defined with the `HIGH_PRIVACY` option of the `PrivacyLevel` enumeration."
   ]
  },
  {
   "cell_type": "code",
   "execution_count": 9,
   "id": "b5487e96-0298-4e02-bcc0-3ae1efe7626d",
   "metadata": {},
   "outputs": [
    {
     "name": "stdout",
     "output_type": "stream",
     "text": [
      "INFO: 2023-03-16 12:46:05,413 [SYNTHESIZER] - Number columns considered for synth: 31\n",
      "INFO: 2023-03-16 12:46:19,376 [SYNTHESIZER] - Starting the synthetic data modeling process over 1x1 blocks.\n",
      "INFO: 2023-03-16 12:46:19,378 [SYNTHESIZER] - Preprocess segment\n",
      "INFO: 2023-03-16 12:46:19,382 [SYNTHESIZER] - Synthesizer init.\n",
      "INFO: 2023-03-16 12:46:19,383 [SYNTHESIZER] - Processing the data prior fitting the synthesizer.\n",
      "INFO: 2023-03-16 12:46:20,005 [SYNTHESIZER] - Start generating model samples.\n"
     ]
    }
   ],
   "source": [
    "holdout_dataset, train_dataset, synthetic_dataset = train_and_sample_from_synthesizer(data=data, metadata=metadata, privacy_level=PrivacyLevel.HIGH_PRIVACY)"
   ]
  },
  {
   "cell_type": "code",
   "execution_count": 10,
   "id": "ea614bc7-ad55-414f-af86-33253aef033a",
   "metadata": {},
   "outputs": [
    {
     "name": "stdout",
     "output_type": "stream",
     "text": [
      "INFO: 2023-03-16 12:46:20,387 [PROFILEREPORT] - Starting metrics calculation.\n",
      "INFO: 2023-03-16 12:46:20,434 [PROFILEREPORT] - Synthetic data quality report selected target variable: diagnosis\n",
      "INFO: 2023-03-16 12:46:20,434 [PROFILEREPORT] - preparing data format.\n",
      "INFO: 2023-03-16 12:46:20,513 [PROFILEREPORT] - Preparing the data for metrics calculation\n",
      "INFO: 2023-03-16 12:46:20,566 [PROFILEREPORT] - Calculating privacy metrics.\n",
      "INFO: 2023-03-16 12:46:20,568 [PROFILEREPORT] - Calculating metric [Exact Matches].\n",
      "INFO: 2023-03-16 12:46:20,570 [PROFILEREPORT] - Metric [Exact Matches] took 0.00s.\n",
      "INFO: 2023-03-16 12:46:20,571 [PROFILEREPORT] - Calculating metric [Membership Inference Score].\n",
      "INFO: 2023-03-16 12:46:20,572 [PROFILEREPORT] - Membership Disclosure Score sample size was reduce to match the dataset with size 114.\n",
      "INFO: 2023-03-16 12:46:20,577 [PROFILEREPORT] - Metric [Membership Inference Score] took 0.00s.\n",
      "INFO: 2023-03-16 12:46:20,578 [PROFILEREPORT] - Calculating metric [Neighbours Privacy].\n",
      "INFO: 2023-03-16 12:46:20,582 [PROFILEREPORT] - Metric [Neighbours Privacy] took 0.00s.\n",
      "INFO: 2023-03-16 12:46:20,584 [PROFILEREPORT] - Calculating metric [Synth Classifier].\n",
      "INFO: 2023-03-16 12:46:20,661 [PROFILEREPORT] - Metric [Synth Classifier] took 0.08s.\n",
      "INFO: 2023-03-16 12:46:20,662 [PROFILEREPORT] - Calculating fidelity metrics.\n",
      "INFO: 2023-03-16 12:46:20,664 [PROFILEREPORT] - Calculating metric [Correlation Similarity].\n",
      "INFO: 2023-03-16 12:46:20,941 [PROFILEREPORT] - Metric [Correlation Similarity] took 0.28s.\n",
      "INFO: 2023-03-16 12:46:20,942 [PROFILEREPORT] - Calculating metric [Distance Distribution].\n",
      "INFO: 2023-03-16 12:46:20,951 [PROFILEREPORT] - Metric [Distance Distribution] took 0.01s.\n",
      "INFO: 2023-03-16 12:46:20,953 [PROFILEREPORT] - Calculating metric [Statistical Similarity].\n",
      "INFO: 2023-03-16 12:46:20,965 [PROFILEREPORT] - Metric [Statistical Similarity] took 0.01s.\n",
      "INFO: 2023-03-16 12:46:20,966 [PROFILEREPORT] - Calculating metric [Category Coverage].\n",
      "INFO: 2023-03-16 12:46:20,969 [PROFILEREPORT] - Metric [Category Coverage] took 0.00s.\n",
      "INFO: 2023-03-16 12:46:20,971 [PROFILEREPORT] - Calculating metric [Missing Category Coverage].\n",
      "INFO: 2023-03-16 12:46:20,977 [PROFILEREPORT] - Metric [Missing Category Coverage] took 0.01s.\n",
      "INFO: 2023-03-16 12:46:20,979 [PROFILEREPORT] - Calculating metric [Range Coverage].\n",
      "INFO: 2023-03-16 12:46:20,984 [PROFILEREPORT] - Metric [Range Coverage] took 0.01s.\n",
      "INFO: 2023-03-16 12:46:20,986 [PROFILEREPORT] - Calculating metric [Kolmogorov-Smirnov Test].\n",
      "INFO: 2023-03-16 12:46:20,998 [PROFILEREPORT] - Metric [Kolmogorov-Smirnov Test] took 0.01s.\n",
      "INFO: 2023-03-16 12:46:20,999 [PROFILEREPORT] - Calculating metric [Chi-Squared Test].\n",
      "INFO: 2023-03-16 12:46:21,006 [PROFILEREPORT] - Metric [Chi-Squared Test] took 0.01s.\n",
      "INFO: 2023-03-16 12:46:21,007 [PROFILEREPORT] - Calculating metric [Missing Values Similarity].\n",
      "INFO: 2023-03-16 12:46:21,008 [PROFILEREPORT] - Metric [Missing Values Similarity] took 0.00s.\n",
      "INFO: 2023-03-16 12:46:21,009 [PROFILEREPORT] - Calculating metric [Mutual Information].\n",
      "INFO: 2023-03-16 12:46:22,657 [PROFILEREPORT] - Metric [Mutual Information] took 1.65s.\n",
      "INFO: 2023-03-16 12:46:22,658 [PROFILEREPORT] - Calculating metric [Dimensionality Reduction].\n",
      "INFO: 2023-03-16 12:46:22,695 [PROFILEREPORT] - Metric [Dimensionality Reduction] took 0.04s.\n",
      "INFO: 2023-03-16 12:46:22,696 [PROFILEREPORT] - Calculating utility metrics.\n",
      "INFO: 2023-03-16 12:46:22,698 [PROFILEREPORT] - Calculating metric [QScore].\n",
      "INFO: 2023-03-16 12:46:24,023 [PROFILEREPORT] - Metric [QScore] took 1.33s.\n",
      "INFO: 2023-03-16 12:46:24,024 [PROFILEREPORT] - Calculating metric [Train on Synthetic Test on Real].\n",
      "INFO: 2023-03-16 12:46:24,980 [PROFILEREPORT] - Metric [Train on Synthetic Test on Real] took 0.95s.\n",
      "INFO: 2023-03-16 12:46:24,981 [PROFILEREPORT] - Calculating metric [Feature Importance].\n",
      "INFO: 2023-03-16 12:46:25,809 [PROFILEREPORT] - Metric [Feature Importance] took 0.83s.\n"
     ]
    }
   ],
   "source": [
    "%%capture\n",
    "summary_metrics = get_report_metrics(holdout_data=holdout_dataset, train_data=train_dataset, synth_data=synthetic_dataset, target=_target)"
   ]
  },
  {
   "cell_type": "code",
   "execution_count": 11,
   "id": "811a1ee8-2d59-4709-b1f6-ec9a90241e2a",
   "metadata": {},
   "outputs": [
    {
     "name": "stdout",
     "output_type": "stream",
     "text": [
      "\u001b[1mHIGH_PRIVACY\n",
      "\u001b[1mFidelity: 0.70\n",
      "\u001b[1mUtility: 0.46\n",
      "\u001b[1mPrivacy: 0.99\n"
     ]
    }
   ],
   "source": [
    "print(f\"\\033[1m{PrivacyLevel.HIGH_PRIVACY.name}\")\n",
    "print(f\"\\033[1mFidelity: {summary_metrics['fidelity']:.2f}\")\n",
    "print(f\"\\033[1mUtility: {summary_metrics['utility']:.2f}\")\n",
    "print(f\"\\033[1mPrivacy: {summary_metrics['privacy']:.2f}\")"
   ]
  },
  {
   "cell_type": "markdown",
   "id": "ba4b1d04-8435-4091-9bfc-5aa7548b0607",
   "metadata": {},
   "source": [
    "## **Balanced Fidelity/Privacy**\n",
    "\n",
    "To achieve the balanced setting between fidelity, utility, and privacy, the `privacy_level` parameter must be defined with the `BALANCED_PRIVACY_FIDELITY` option of the `PrivacyLevel` enumeration."
   ]
  },
  {
   "cell_type": "code",
   "execution_count": 12,
   "id": "3b542997-5d31-489c-9b95-8f722aac1fd2",
   "metadata": {},
   "outputs": [
    {
     "name": "stdout",
     "output_type": "stream",
     "text": [
      "INFO: 2023-03-16 12:46:26,617 [SYNTHESIZER] - Number columns considered for synth: 31\n",
      "INFO: 2023-03-16 12:46:40,463 [SYNTHESIZER] - Starting the synthetic data modeling process over 1x1 blocks.\n",
      "INFO: 2023-03-16 12:46:40,465 [SYNTHESIZER] - Preprocess segment\n",
      "INFO: 2023-03-16 12:46:40,469 [SYNTHESIZER] - Synthesizer init.\n",
      "INFO: 2023-03-16 12:46:40,470 [SYNTHESIZER] - Processing the data prior fitting the synthesizer.\n",
      "INFO: 2023-03-16 12:46:41,157 [SYNTHESIZER] - Start generating model samples.\n"
     ]
    }
   ],
   "source": [
    "holdout_dataset, train_dataset, synthetic_dataset = train_and_sample_from_synthesizer(data=data, metadata=metadata, privacy_level=PrivacyLevel.BALANCED_PRIVACY_FIDELITY)"
   ]
  },
  {
   "cell_type": "code",
   "execution_count": 13,
   "id": "f99ab142-93c1-4918-8c32-9a901d94aba8",
   "metadata": {},
   "outputs": [
    {
     "name": "stdout",
     "output_type": "stream",
     "text": [
      "INFO: 2023-03-16 12:46:41,633 [PROFILEREPORT] - Starting metrics calculation.\n",
      "INFO: 2023-03-16 12:46:41,679 [PROFILEREPORT] - Synthetic data quality report selected target variable: diagnosis\n",
      "INFO: 2023-03-16 12:46:41,679 [PROFILEREPORT] - preparing data format.\n",
      "INFO: 2023-03-16 12:46:41,756 [PROFILEREPORT] - Preparing the data for metrics calculation\n",
      "INFO: 2023-03-16 12:46:41,808 [PROFILEREPORT] - Calculating privacy metrics.\n",
      "INFO: 2023-03-16 12:46:41,810 [PROFILEREPORT] - Calculating metric [Exact Matches].\n",
      "INFO: 2023-03-16 12:46:41,813 [PROFILEREPORT] - Metric [Exact Matches] took 0.00s.\n",
      "INFO: 2023-03-16 12:46:41,814 [PROFILEREPORT] - Calculating metric [Membership Inference Score].\n",
      "INFO: 2023-03-16 12:46:41,815 [PROFILEREPORT] - Membership Disclosure Score sample size was reduce to match the dataset with size 114.\n",
      "INFO: 2023-03-16 12:46:41,820 [PROFILEREPORT] - Metric [Membership Inference Score] took 0.00s.\n",
      "INFO: 2023-03-16 12:46:41,822 [PROFILEREPORT] - Calculating metric [Neighbours Privacy].\n",
      "INFO: 2023-03-16 12:46:41,827 [PROFILEREPORT] - Metric [Neighbours Privacy] took 0.00s.\n",
      "INFO: 2023-03-16 12:46:41,829 [PROFILEREPORT] - Calculating metric [Synth Classifier].\n",
      "INFO: 2023-03-16 12:46:41,949 [PROFILEREPORT] - Metric [Synth Classifier] took 0.12s.\n",
      "INFO: 2023-03-16 12:46:41,949 [PROFILEREPORT] - Calculating fidelity metrics.\n",
      "INFO: 2023-03-16 12:46:41,951 [PROFILEREPORT] - Calculating metric [Correlation Similarity].\n",
      "INFO: 2023-03-16 12:46:42,205 [PROFILEREPORT] - Metric [Correlation Similarity] took 0.25s.\n",
      "INFO: 2023-03-16 12:46:42,207 [PROFILEREPORT] - Calculating metric [Distance Distribution].\n",
      "INFO: 2023-03-16 12:46:42,214 [PROFILEREPORT] - Metric [Distance Distribution] took 0.01s.\n",
      "INFO: 2023-03-16 12:46:42,215 [PROFILEREPORT] - Calculating metric [Statistical Similarity].\n",
      "INFO: 2023-03-16 12:46:42,227 [PROFILEREPORT] - Metric [Statistical Similarity] took 0.01s.\n",
      "INFO: 2023-03-16 12:46:42,228 [PROFILEREPORT] - Calculating metric [Category Coverage].\n",
      "INFO: 2023-03-16 12:46:42,230 [PROFILEREPORT] - Metric [Category Coverage] took 0.00s.\n",
      "INFO: 2023-03-16 12:46:42,232 [PROFILEREPORT] - Calculating metric [Missing Category Coverage].\n",
      "INFO: 2023-03-16 12:46:42,237 [PROFILEREPORT] - Metric [Missing Category Coverage] took 0.00s.\n",
      "INFO: 2023-03-16 12:46:42,239 [PROFILEREPORT] - Calculating metric [Range Coverage].\n",
      "INFO: 2023-03-16 12:46:42,243 [PROFILEREPORT] - Metric [Range Coverage] took 0.00s.\n",
      "INFO: 2023-03-16 12:46:42,244 [PROFILEREPORT] - Calculating metric [Kolmogorov-Smirnov Test].\n",
      "INFO: 2023-03-16 12:46:42,254 [PROFILEREPORT] - Metric [Kolmogorov-Smirnov Test] took 0.01s.\n",
      "INFO: 2023-03-16 12:46:42,255 [PROFILEREPORT] - Calculating metric [Chi-Squared Test].\n",
      "INFO: 2023-03-16 12:46:42,260 [PROFILEREPORT] - Metric [Chi-Squared Test] took 0.00s.\n",
      "INFO: 2023-03-16 12:46:42,261 [PROFILEREPORT] - Calculating metric [Missing Values Similarity].\n",
      "INFO: 2023-03-16 12:46:42,261 [PROFILEREPORT] - Metric [Missing Values Similarity] took 0.00s.\n",
      "INFO: 2023-03-16 12:46:42,262 [PROFILEREPORT] - Calculating metric [Mutual Information].\n",
      "INFO: 2023-03-16 12:46:43,860 [PROFILEREPORT] - Metric [Mutual Information] took 1.60s.\n",
      "INFO: 2023-03-16 12:46:43,861 [PROFILEREPORT] - Calculating metric [Dimensionality Reduction].\n",
      "INFO: 2023-03-16 12:46:43,903 [PROFILEREPORT] - Metric [Dimensionality Reduction] took 0.04s.\n",
      "INFO: 2023-03-16 12:46:43,904 [PROFILEREPORT] - Calculating utility metrics.\n",
      "INFO: 2023-03-16 12:46:43,905 [PROFILEREPORT] - Calculating metric [QScore].\n",
      "INFO: 2023-03-16 12:46:45,229 [PROFILEREPORT] - Metric [QScore] took 1.32s.\n",
      "INFO: 2023-03-16 12:46:45,230 [PROFILEREPORT] - Calculating metric [Train on Synthetic Test on Real].\n",
      "INFO: 2023-03-16 12:46:46,097 [PROFILEREPORT] - Metric [Train on Synthetic Test on Real] took 0.87s.\n",
      "INFO: 2023-03-16 12:46:46,099 [PROFILEREPORT] - Calculating metric [Feature Importance].\n",
      "INFO: 2023-03-16 12:46:46,958 [PROFILEREPORT] - Metric [Feature Importance] took 0.86s.\n"
     ]
    }
   ],
   "source": [
    "%%capture\n",
    "summary_metrics = get_report_metrics(holdout_data=holdout_dataset, train_data=train_dataset, synth_data=synthetic_dataset, target=_target)"
   ]
  },
  {
   "cell_type": "code",
   "execution_count": 14,
   "id": "48ea56d8-2565-48e9-b678-b51eac9c0dbd",
   "metadata": {},
   "outputs": [
    {
     "name": "stdout",
     "output_type": "stream",
     "text": [
      "\u001b[1mBALANCED_PRIVACY_FIDELITY\n",
      "\u001b[1mFidelity: 0.79\n",
      "\u001b[1mUtility: 0.63\n",
      "\u001b[1mPrivacy: 0.96\n"
     ]
    }
   ],
   "source": [
    "print(f\"\\033[1m{PrivacyLevel.BALANCED_PRIVACY_FIDELITY.name}\")\n",
    "print(f\"\\033[1mFidelity: {summary_metrics['fidelity']:.2f}\")\n",
    "print(f\"\\033[1mUtility: {summary_metrics['utility']:.2f}\")\n",
    "print(f\"\\033[1mPrivacy: {summary_metrics['privacy']:.2f}\")"
   ]
  }
 ],
 "metadata": {
  "kernelspec": {
   "display_name": "Python 3 (ipykernel)",
   "language": "python",
   "name": "python3"
  },
  "language_info": {
   "codemirror_mode": {
    "name": "ipython",
    "version": 3
   },
   "file_extension": ".py",
   "mimetype": "text/x-python",
   "name": "python",
   "nbconvert_exporter": "python",
   "pygments_lexer": "ipython3",
   "version": "3.10.8"
  }
 },
 "nbformat": 4,
 "nbformat_minor": 5
}
