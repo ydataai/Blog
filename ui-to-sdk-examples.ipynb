{
 "cells": [
  {
   "cell_type": "markdown",
   "id": "8d869204-1d14-43bc-8c62-6517e12d57e1",
   "metadata": {
    "tags": []
   },
   "source": [
    "# Platform SDK - Quick Start\n",
    "This SDK allows you to interact with the platform components programatically.\n",
    "\n",
    "Every method of the SDK contains an argument called `namespace` that allows you to overide the `namespace` where you are in.\n",
    "\n",
    "### What can i do?!\n",
    "\n",
    "* Access your DataSources and create a connector directly from it\n",
    "* Access your Synthesizers and retrain it\n",
    "* Generate a sample in a synthesiser \n",
    "\n",
    "### Which modules are available?\n",
    "\n",
    "* Datasources\n",
    "* Synthesizers"
   ]
  },
  {
   "cell_type": "markdown",
   "id": "ee6f0288-98a2-484e-8958-c318c9f1b5f1",
   "metadata": {
    "tags": []
   },
   "source": [
    "## DataSources Module\n",
    "\n",
    "### What is a DataSource?\n",
    "\n",
    "A DataSource is an abstract class that exposes methods to access a connector and from that the data from that connector.\n",
    "\n",
    "It's from the responsability of each data source to implement those methods and the behaviour, but all of them returns the same, a Dataset."
   ]
  },
  {
   "cell_type": "code",
   "execution_count": 1,
   "id": "6f2c66da-33a9-4aef-bcda-b6beb092ce7c",
   "metadata": {},
   "outputs": [],
   "source": [
    "from ydata.platform.datasources import DataSources"
   ]
  },
  {
   "cell_type": "markdown",
   "id": "17106c7b-4ac4-4dde-b9f4-6a1a46a4fca1",
   "metadata": {},
   "source": [
    "### How to list my datasources?"
   ]
  },
  {
   "cell_type": "code",
   "execution_count": 3,
   "id": "633120fa-acfa-4919-814d-28b09392d4bb",
   "metadata": {},
   "outputs": [
    {
     "name": "stdout",
     "output_type": "stream",
     "text": [
      "[AWSS3DataSource(uid=28fc1d86-e843-4933-a721-76a9d22e0e77, data_type=DataType.TABULAR, region=eu-central-1, file_type=FileType.CSV, path=s3://ydata-demos/syntheticdata/cardiovascular_disease/data.csv), AWSS3DataSource(uid=5b8462a0-74b0-4391-8d0d-bac89f7614ef, data_type=DataType.TABULAR, region=eu-central-1, file_type=FileType.CSV, path=s3://ydata-dev/regular/diamonds/data.csv), AWSS3DataSource(uid=6e41046b-4a5a-488b-8f21-51503d5821c2, data_type=DataType.TABULAR, region=eu-central-1, file_type=FileType.CSV, path=s3://ydata-dev/regular/cardio/data.csv)]\n"
     ]
    }
   ],
   "source": [
    "my_datasources = DataSources.list()\n",
    "print(my_datasources)"
   ]
  },
  {
   "cell_type": "markdown",
   "id": "ec40c77b-1178-4c3d-93c3-954ed10963ac",
   "metadata": {},
   "source": [
    "### How to access a specific datasource?"
   ]
  },
  {
   "cell_type": "code",
   "execution_count": 2,
   "id": "a6242139-3ffa-4b95-952b-959daf6ce723",
   "metadata": {},
   "outputs": [
    {
     "name": "stdout",
     "output_type": "stream",
     "text": [
      "Data Type DataType.TABULAR\n",
      "\n",
      "Metadata columns=[Column(name='age', data_type=<DataType.CATEGORICAL: 'categorical'>, var_type=<VariableType.INT: 'int'>), Column(name='gender', data_type=<DataType.CATEGORICAL: 'categorical'>, var_type=<VariableType.INT: 'int'>), Column(name='height', data_type=<DataType.CATEGORICAL: 'categorical'>, var_type=<VariableType.INT: 'int'>), Column(name='weight', data_type=<DataType.NUMERICAL: 'numerical'>, var_type=<VariableType.FLOAT: 'float'>), Column(name='ap_hi', data_type=<DataType.CATEGORICAL: 'categorical'>, var_type=<VariableType.INT: 'int'>), Column(name='ap_lo', data_type=<DataType.CATEGORICAL: 'categorical'>, var_type=<VariableType.INT: 'int'>), Column(name='cholesterol', data_type=<DataType.CATEGORICAL: 'categorical'>, var_type=<VariableType.INT: 'int'>), Column(name='gluc', data_type=<DataType.CATEGORICAL: 'categorical'>, var_type=<VariableType.INT: 'int'>), Column(name='smoke', data_type=<DataType.CATEGORICAL: 'categorical'>, var_type=<VariableType.INT: 'int'>), Column(name='alco', data_type=<DataType.CATEGORICAL: 'categorical'>, var_type=<VariableType.INT: 'int'>), Column(name='active', data_type=<DataType.CATEGORICAL: 'categorical'>, var_type=<VariableType.INT: 'int'>), Column(name='cardio', data_type=<DataType.CATEGORICAL: 'categorical'>, var_type=<VariableType.INT: 'int'>)]\n",
      "\n",
      "Name cardiovascular disease\n"
     ]
    }
   ],
   "source": [
    "datasource = DataSources.get('28fc1d86-e843-4933-a721-76a9d22e0e77')\n",
    "\n",
    "print(f'Data Type {datasource.data_type}')\n",
    "print(f'\\nMetadata {datasource.metadata}')\n",
    "print(f'\\nName {datasource.name}')"
   ]
  },
  {
   "cell_type": "markdown",
   "id": "5e6d9893-fb31-4fa4-952c-397fa46d6439",
   "metadata": {},
   "source": [
    "### How to access data?"
   ]
  },
  {
   "cell_type": "code",
   "execution_count": 4,
   "id": "f29f7e37-0dc0-49c6-994a-e029bbb1c381",
   "metadata": {},
   "outputs": [
    {
     "name": "stdout",
     "output_type": "stream",
     "text": [
      "<ydata.dataset.dataset.Dataset object at 0x7f238272bd50>\n"
     ]
    }
   ],
   "source": [
    "# connector = datasource.connector\n",
    "# print(f'Connector: {connector}')\n",
    "\n",
    "sample_data = datasource.read_sample()\n",
    "print(sample_data)\n",
    "\n",
    "# full_data = datasource.read()"
   ]
  },
  {
   "cell_type": "markdown",
   "id": "09f35472-2263-427d-b465-1e2715447d67",
   "metadata": {},
   "source": [
    "## Synthesizers Module"
   ]
  },
  {
   "cell_type": "code",
   "execution_count": 3,
   "id": "2c2e7fd6-a867-4f27-a911-2181d921699f",
   "metadata": {},
   "outputs": [],
   "source": [
    "from ydata.platform.synthesizers import Synthesizers"
   ]
  },
  {
   "cell_type": "markdown",
   "id": "89f93893-43ed-402b-90fa-68fbe0f15229",
   "metadata": {},
   "source": [
    "### How to list my synthesizers?"
   ]
  },
  {
   "cell_type": "code",
   "execution_count": 4,
   "id": "f870a1d8-42ef-49ec-860a-59d8e2a0ad3a",
   "metadata": {},
   "outputs": [
    {
     "name": "stdout",
     "output_type": "stream",
     "text": [
      "[Synthesizer(uid='7c6a2ead-60a1-420b-9b78-b6847bdeb19f', name='cv none', data_source_uid='28fc1d86-e843-4933-a721-76a9d22e0e77', date=datetime.datetime(2021, 9, 15, 9, 41, 53, tzinfo=datetime.timezone.utc), status=<Status.finished: 'finished'>, metadata=Metadata(columns=[Column(name='age', data_type=<DataType.CATEGORICAL: 'categorical'>, var_type=<VariableType.INT: 'int'>, generation=True, index=None), Column(name='gender', data_type=<DataType.CATEGORICAL: 'categorical'>, var_type=<VariableType.INT: 'int'>, generation=True, index=None), Column(name='height', data_type=<DataType.CATEGORICAL: 'categorical'>, var_type=<VariableType.INT: 'int'>, generation=True, index=None), Column(name='weight', data_type=<DataType.NUMERICAL: 'numerical'>, var_type=<VariableType.FLOAT: 'float'>, generation=True, index=None), Column(name='ap_hi', data_type=<DataType.CATEGORICAL: 'categorical'>, var_type=<VariableType.INT: 'int'>, generation=True, index=None), Column(name='ap_lo', data_type=<DataType.CATEGORICAL: 'categorical'>, var_type=<VariableType.INT: 'int'>, generation=True, index=None), Column(name='cholesterol', data_type=<DataType.CATEGORICAL: 'categorical'>, var_type=<VariableType.INT: 'int'>, generation=True, index=None), Column(name='gluc', data_type=<DataType.CATEGORICAL: 'categorical'>, var_type=<VariableType.INT: 'int'>, generation=True, index=None), Column(name='smoke', data_type=<DataType.CATEGORICAL: 'categorical'>, var_type=<VariableType.INT: 'int'>, generation=True, index=None), Column(name='alco', data_type=<DataType.CATEGORICAL: 'categorical'>, var_type=<VariableType.INT: 'int'>, generation=True, index=None), Column(name='active', data_type=<DataType.CATEGORICAL: 'categorical'>, var_type=<VariableType.INT: 'int'>, generation=True, index=None), Column(name='cardio', data_type=<DataType.CATEGORICAL: 'categorical'>, var_type=<VariableType.INT: 'int'>, generation=True, index=None)], target=None), namespace='portela')]\n"
     ]
    }
   ],
   "source": [
    "synthesizers = Synthesizers.list()\n",
    "print(synthesizers)"
   ]
  },
  {
   "cell_type": "markdown",
   "id": "f2621a28-0c8b-495f-8c63-82e377cac6a6",
   "metadata": {},
   "source": [
    "### How to access a specific synthesizer?"
   ]
  },
  {
   "cell_type": "code",
   "execution_count": 5,
   "id": "8811b141-d44a-4554-886f-b354c2986e36",
   "metadata": {},
   "outputs": [
    {
     "name": "stdout",
     "output_type": "stream",
     "text": [
      "status Status.finished\n",
      "metadata columns=[Column(name='age', data_type=<DataType.CATEGORICAL: 'categorical'>, var_type=<VariableType.INT: 'int'>, generation=True, index=None), Column(name='gender', data_type=<DataType.CATEGORICAL: 'categorical'>, var_type=<VariableType.INT: 'int'>, generation=True, index=None), Column(name='height', data_type=<DataType.CATEGORICAL: 'categorical'>, var_type=<VariableType.INT: 'int'>, generation=True, index=None), Column(name='weight', data_type=<DataType.NUMERICAL: 'numerical'>, var_type=<VariableType.FLOAT: 'float'>, generation=True, index=None), Column(name='ap_hi', data_type=<DataType.CATEGORICAL: 'categorical'>, var_type=<VariableType.INT: 'int'>, generation=True, index=None), Column(name='ap_lo', data_type=<DataType.CATEGORICAL: 'categorical'>, var_type=<VariableType.INT: 'int'>, generation=True, index=None), Column(name='cholesterol', data_type=<DataType.CATEGORICAL: 'categorical'>, var_type=<VariableType.INT: 'int'>, generation=True, index=None), Column(name='gluc', data_type=<DataType.CATEGORICAL: 'categorical'>, var_type=<VariableType.INT: 'int'>, generation=True, index=None), Column(name='smoke', data_type=<DataType.CATEGORICAL: 'categorical'>, var_type=<VariableType.INT: 'int'>, generation=True, index=None), Column(name='alco', data_type=<DataType.CATEGORICAL: 'categorical'>, var_type=<VariableType.INT: 'int'>, generation=True, index=None), Column(name='active', data_type=<DataType.CATEGORICAL: 'categorical'>, var_type=<VariableType.INT: 'int'>, generation=True, index=None), Column(name='cardio', data_type=<DataType.CATEGORICAL: 'categorical'>, var_type=<VariableType.INT: 'int'>, generation=True, index=None)] target=None\n"
     ]
    }
   ],
   "source": [
    "synthesizer = Synthesizers.get('7c6a2ead-60a1-420b-9b78-b6847bdeb19f')\n",
    "print(f'status {synthesizer.status}')\n",
    "print(f'metadata {synthesizer.metadata}')"
   ]
  },
  {
   "cell_type": "markdown",
   "id": "4f439af5-e8e0-4d4e-ae7f-9b4fef90deae",
   "metadata": {},
   "source": [
    "### Generating a sample from the synthesizer"
   ]
  },
  {
   "cell_type": "code",
   "execution_count": 7,
   "id": "b3ca1bdf-6049-425c-af97-fd50f885959a",
   "metadata": {},
   "outputs": [
    {
     "name": "stdout",
     "output_type": "stream",
     "text": [
      "generated sample \n",
      "uid='3a940d5b-0f88-4fa2-8539-052b45593120' author='luis.portela@ydata.ai' total_records=200 link=''\n"
     ]
    }
   ],
   "source": [
    "sample = synthesizer.sample(200)\n",
    "\n",
    "print(f'generated sample \\n{sample}')"
   ]
  },
  {
   "cell_type": "markdown",
   "id": "e1aa5cba-b22d-45e9-82a3-a8d5b096fb19",
   "metadata": {},
   "source": [
    "### List samples for a synthesizer"
   ]
  },
  {
   "cell_type": "code",
   "execution_count": 9,
   "id": "aedd6c0d-9b8b-4e64-b007-0506f996581e",
   "metadata": {},
   "outputs": [
    {
     "name": "stdout",
     "output_type": "stream",
     "text": [
      "[Sample(uid='3a940d5b-0f88-4fa2-8539-052b45593120', author='luis.portela@ydata.ai', total_records=200, link=''), Sample(uid='6e1d4cc0-6b71-4264-aafd-12dc3c6fb302', author='luis.portela@ydata.ai', total_records=100, link=''), Sample(uid='6fa65e6b-f0de-40cd-b4bf-27dcc1bd2a36', author='luis.portela@ydata.ai', total_records=100, link=''), Sample(uid='ee2ababc-50f2-431f-a0d5-de62b20ee7a2', author='luis.portela@ydata.ai', total_records=100, link='')]\n"
     ]
    }
   ],
   "source": [
    "samples = synthesizer.list_samples()\n",
    "print(samples)"
   ]
  },
  {
   "cell_type": "markdown",
   "id": "12447637-79b1-49f9-8104-935b95e020e4",
   "metadata": {},
   "source": [
    "## Access to a specific sample"
   ]
  },
  {
   "cell_type": "code",
   "execution_count": 11,
   "id": "74b6aa4d-f049-49d0-8288-0119f44e76be",
   "metadata": {},
   "outputs": [
    {
     "name": "stdout",
     "output_type": "stream",
     "text": [
      "uid='3a940d5b-0f88-4fa2-8539-052b45593120' author='luis.portela@ydata.ai' total_records=200 link=''\n"
     ]
    }
   ],
   "source": [
    "sample = synthesizer.get_sample('3a940d5b-0f88-4fa2-8539-052b45593120')\n",
    "print(sample)"
   ]
  },
  {
   "cell_type": "code",
   "execution_count": null,
   "id": "7d4722cc-dcea-459d-b9f0-08fe3e5e51e1",
   "metadata": {},
   "outputs": [],
   "source": []
  }
 ],
 "metadata": {
  "kernelspec": {
   "display_name": "Python 3 (ipykernel)",
   "language": "python",
   "name": "python3"
  },
  "language_info": {
   "codemirror_mode": {
    "name": "ipython",
    "version": 3
   },
   "file_extension": ".py",
   "mimetype": "text/x-python",
   "name": "python",
   "nbconvert_exporter": "python",
   "pygments_lexer": "ipython3",
   "version": "3.7.11"
  }
 },
 "nbformat": 4,
 "nbformat_minor": 5
}
