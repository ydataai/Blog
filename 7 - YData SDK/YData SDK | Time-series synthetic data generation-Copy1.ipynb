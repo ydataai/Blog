{
 "cells": [
  {
   "cell_type": "markdown",
   "metadata": {
    "id": "C1MuJhH-CAeq"
   },
   "source": [
    "# YData SDK | Time-series synthetic data generation quickstart"
   ]
  },
  {
   "cell_type": "markdown",
   "metadata": {},
   "source": [
    "#### Install ydata-sdk"
   ]
  },
  {
   "cell_type": "code",
   "execution_count": 3,
   "metadata": {
    "colab": {
     "base_uri": "https://localhost:8080/"
    },
    "id": "ttTo99_4CDIl",
    "outputId": "df6199b9-cca7-403c-91a2-8bac1137da3a"
   },
   "outputs": [
    {
     "name": "stdout",
     "output_type": "stream",
     "text": [
      "Collecting ydata-sdk\n",
      "  Downloading ydata_sdk-1.0.1-py310-none-any.whl.metadata (7.4 kB)\n",
      "Collecting httpx==0.23.3 (from ydata-sdk)\n",
      "  Downloading httpx-0.23.3-py3-none-any.whl.metadata (7.1 kB)\n",
      "Collecting ydata-core>=0.2.0 (from ydata-sdk)\n",
      "  Downloading ydata_core-0.7.0-py2.py3-none-any.whl.metadata (1.5 kB)\n",
      "Requirement already satisfied: pandas>=1.5.0 in /usr/local/lib/python3.10/dist-packages (from ydata-sdk) (2.2.2)\n",
      "Collecting prettytable==3.6.0 (from ydata-sdk)\n",
      "  Downloading prettytable-3.6.0-py3-none-any.whl.metadata (25 kB)\n",
      "Collecting pydantic==1.10.9 (from ydata-sdk)\n",
      "  Downloading pydantic-1.10.9-cp310-cp310-manylinux_2_17_x86_64.manylinux2014_x86_64.whl.metadata (147 kB)\n",
      "\u001b[2K     \u001b[90m━━━━━━━━━━━━━━━━━━━━━━━━━━━━━━━━━━━━━━━━\u001b[0m \u001b[32m147.8/147.8 kB\u001b[0m \u001b[31m4.5 MB/s\u001b[0m eta \u001b[36m0:00:00\u001b[0m\n",
      "\u001b[?25hCollecting typeguard==2.13.3 (from ydata-sdk)\n",
      "  Downloading typeguard-2.13.3-py3-none-any.whl.metadata (3.6 kB)\n",
      "Collecting ydata-datascience (from ydata-sdk)\n",
      "  Downloading ydata_datascience-0.7.0-py2.py3-none-any.whl.metadata (1.5 kB)\n",
      "Requirement already satisfied: certifi in /usr/local/lib/python3.10/dist-packages (from httpx==0.23.3->ydata-sdk) (2024.8.30)\n",
      "Collecting httpcore<0.17.0,>=0.15.0 (from httpx==0.23.3->ydata-sdk)\n",
      "  Downloading httpcore-0.16.3-py3-none-any.whl.metadata (16 kB)\n",
      "Collecting rfc3986<2,>=1.3 (from rfc3986[idna2008]<2,>=1.3->httpx==0.23.3->ydata-sdk)\n",
      "  Downloading rfc3986-1.5.0-py2.py3-none-any.whl.metadata (6.5 kB)\n",
      "Requirement already satisfied: sniffio in /usr/local/lib/python3.10/dist-packages (from httpx==0.23.3->ydata-sdk) (1.3.1)\n",
      "Requirement already satisfied: wcwidth in /usr/local/lib/python3.10/dist-packages (from prettytable==3.6.0->ydata-sdk) (0.2.13)\n",
      "Requirement already satisfied: typing-extensions>=4.2.0 in /usr/local/lib/python3.10/dist-packages (from pydantic==1.10.9->ydata-sdk) (4.12.2)\n",
      "Requirement already satisfied: numpy>=1.22.4 in /usr/local/lib/python3.10/dist-packages (from pandas>=1.5.0->ydata-sdk) (1.26.4)\n",
      "Requirement already satisfied: python-dateutil>=2.8.2 in /usr/local/lib/python3.10/dist-packages (from pandas>=1.5.0->ydata-sdk) (2.8.2)\n",
      "Requirement already satisfied: pytz>=2020.1 in /usr/local/lib/python3.10/dist-packages (from pandas>=1.5.0->ydata-sdk) (2024.2)\n",
      "Requirement already satisfied: tzdata>=2022.7 in /usr/local/lib/python3.10/dist-packages (from pandas>=1.5.0->ydata-sdk) (2024.2)\n",
      "Requirement already satisfied: h11<0.15,>=0.13 in /usr/local/lib/python3.10/dist-packages (from httpcore<0.17.0,>=0.15.0->httpx==0.23.3->ydata-sdk) (0.14.0)\n",
      "Requirement already satisfied: anyio<5.0,>=3.0 in /usr/local/lib/python3.10/dist-packages (from httpcore<0.17.0,>=0.15.0->httpx==0.23.3->ydata-sdk) (3.7.1)\n",
      "Requirement already satisfied: six>=1.5 in /usr/local/lib/python3.10/dist-packages (from python-dateutil>=2.8.2->pandas>=1.5.0->ydata-sdk) (1.16.0)\n",
      "Requirement already satisfied: idna in /usr/local/lib/python3.10/dist-packages (from rfc3986[idna2008]<2,>=1.3->httpx==0.23.3->ydata-sdk) (3.10)\n",
      "Requirement already satisfied: exceptiongroup in /usr/local/lib/python3.10/dist-packages (from anyio<5.0,>=3.0->httpcore<0.17.0,>=0.15.0->httpx==0.23.3->ydata-sdk) (1.2.2)\n",
      "Downloading ydata_sdk-1.0.1-py310-none-any.whl (124 kB)\n",
      "\u001b[2K   \u001b[90m━━━━━━━━━━━━━━━━━━━━━━━━━━━━━━━━━━━━━━━━\u001b[0m \u001b[32m124.2/124.2 kB\u001b[0m \u001b[31m7.8 MB/s\u001b[0m eta \u001b[36m0:00:00\u001b[0m\n",
      "\u001b[?25hDownloading httpx-0.23.3-py3-none-any.whl (71 kB)\n",
      "\u001b[2K   \u001b[90m━━━━━━━━━━━━━━━━━━━━━━━━━━━━━━━━━━━━━━━━\u001b[0m \u001b[32m71.5/71.5 kB\u001b[0m \u001b[31m5.3 MB/s\u001b[0m eta \u001b[36m0:00:00\u001b[0m\n",
      "\u001b[?25hDownloading prettytable-3.6.0-py3-none-any.whl (27 kB)\n",
      "Downloading pydantic-1.10.9-cp310-cp310-manylinux_2_17_x86_64.manylinux2014_x86_64.whl (3.1 MB)\n",
      "\u001b[2K   \u001b[90m━━━━━━━━━━━━━━━━━━━━━━━━━━━━━━━━━━━━━━━━\u001b[0m \u001b[32m3.1/3.1 MB\u001b[0m \u001b[31m35.7 MB/s\u001b[0m eta \u001b[36m0:00:00\u001b[0m\n",
      "\u001b[?25hDownloading typeguard-2.13.3-py3-none-any.whl (17 kB)\n",
      "Downloading ydata_core-0.7.0-py2.py3-none-any.whl (4.6 kB)\n",
      "Downloading ydata_datascience-0.7.0-py2.py3-none-any.whl (4.2 kB)\n",
      "Downloading httpcore-0.16.3-py3-none-any.whl (69 kB)\n",
      "\u001b[2K   \u001b[90m━━━━━━━━━━━━━━━━━━━━━━━━━━━━━━━━━━━━━━━━\u001b[0m \u001b[32m69.6/69.6 kB\u001b[0m \u001b[31m5.1 MB/s\u001b[0m eta \u001b[36m0:00:00\u001b[0m\n",
      "\u001b[?25hDownloading rfc3986-1.5.0-py2.py3-none-any.whl (31 kB)\n",
      "Installing collected packages: ydata-datascience, ydata-core, rfc3986, typeguard, pydantic, prettytable, httpcore, httpx, ydata-sdk\n",
      "  Attempting uninstall: typeguard\n",
      "    Found existing installation: typeguard 4.4.1\n",
      "    Uninstalling typeguard-4.4.1:\n",
      "      Successfully uninstalled typeguard-4.4.1\n",
      "  Attempting uninstall: pydantic\n",
      "    Found existing installation: pydantic 2.9.2\n",
      "    Uninstalling pydantic-2.9.2:\n",
      "      Successfully uninstalled pydantic-2.9.2\n",
      "  Attempting uninstall: prettytable\n",
      "    Found existing installation: prettytable 3.12.0\n",
      "    Uninstalling prettytable-3.12.0:\n",
      "      Successfully uninstalled prettytable-3.12.0\n",
      "  Attempting uninstall: httpcore\n",
      "    Found existing installation: httpcore 1.0.6\n",
      "    Uninstalling httpcore-1.0.6:\n",
      "      Successfully uninstalled httpcore-1.0.6\n",
      "  Attempting uninstall: httpx\n",
      "    Found existing installation: httpx 0.27.2\n",
      "    Uninstalling httpx-0.27.2:\n",
      "      Successfully uninstalled httpx-0.27.2\n",
      "\u001b[31mERROR: pip's dependency resolver does not currently take into account all the packages that are installed. This behaviour is the source of the following dependency conflicts.\n",
      "albumentations 1.4.20 requires pydantic>=2.7.0, but you have pydantic 1.10.9 which is incompatible.\n",
      "inflect 7.4.0 requires typeguard>=4.0.1, but you have typeguard 2.13.3 which is incompatible.\n",
      "langchain 0.3.7 requires pydantic<3.0.0,>=2.7.4, but you have pydantic 1.10.9 which is incompatible.\n",
      "langchain-core 0.3.17 requires pydantic<3.0.0,>=2.5.2; python_full_version < \"3.12.4\", but you have pydantic 1.10.9 which is incompatible.\u001b[0m\u001b[31m\n",
      "\u001b[0mSuccessfully installed httpcore-0.16.3 httpx-0.23.3 prettytable-3.6.0 pydantic-1.10.9 rfc3986-1.5.0 typeguard-2.13.3 ydata-core-0.7.0 ydata-datascience-0.7.0 ydata-sdk-1.0.1\n"
     ]
    }
   ],
   "source": [
    "!pip install ydata-sdk"
   ]
  },
  {
   "cell_type": "markdown",
   "metadata": {
    "id": "BfiznmfQCfrB"
   },
   "source": [
    "#### Authentication"
   ]
  },
  {
   "cell_type": "code",
   "execution_count": 4,
   "metadata": {
    "id": "9YWqODSOCiAS"
   },
   "outputs": [],
   "source": [
    "import os\n",
    "\n",
    "# Do not forget to add your token as env variable\n",
    "os.environ[\"YDATA_TOKEN\"] = '{insert-token}'"
   ]
  },
  {
   "cell_type": "markdown",
   "metadata": {
    "id": "dZclRfztDJuv"
   },
   "source": [
    "#### Sampling an example dataset for a multientity & multivariate time-series dataset"
   ]
  },
  {
   "cell_type": "code",
   "execution_count": 2,
   "metadata": {
    "colab": {
     "base_uri": "https://localhost:8080/"
    },
    "id": "H-QmreOsDQTs",
    "outputId": "17d6aa03-3c54-4a0d-c2f2-3a0e9ea5b07e"
   },
   "outputs": [
    {
     "name": "stdout",
     "output_type": "stream",
     "text": [
      "   entity_id  time  feature_0  feature_1  feature_2\n",
      "0          0     0   0.463602   0.060326   0.244735\n",
      "1          0     1   0.254560   0.226478   0.160453\n",
      "2          0     2   0.451870   0.656529   0.817230\n",
      "3          0     3   0.688637   0.952739   0.041068\n",
      "4          0     4   0.954968   0.079913   0.770322\n"
     ]
    }
   ],
   "source": [
    "# Generate the dataset\n",
    "from ydata.sdk.dataset import get_dataset\n",
    "\n",
    "time_series_data = get_dataset('timeseries')\n",
    "\n",
    "print(time_series_data.head())"
   ]
  },
  {
   "cell_type": "markdown",
   "metadata": {
    "id": "NKRFzKxNBzfj"
   },
   "source": [
    "## Train a Synthetic data generator\n",
    "\n",
    "### From a pandas dataframe"
   ]
  },
  {
   "cell_type": "code",
   "execution_count": 6,
   "metadata": {
    "id": "BYJnPyMfxi1O"
   },
   "outputs": [],
   "source": [
    "from ydata.sdk.synthesizers import TimeSeriesSynthesizer\n",
    "\n",
    "# We initialize a time series synthesizer\n",
    "# As long as the synthesizer does not call `fit`, it exists only locally\n",
    "synth = TimeSeriesSynthesizer(name='Time-series synth')\n",
    "\n",
    "# We train the synthesizer on our dataset\n",
    "# sortbykey -> variable that define the time order for the sequence\n",
    "synth.fit(time_series_data, sortbykey='time', entities='entity_id')"
   ]
  },
  {
   "cell_type": "markdown",
   "metadata": {
    "id": "vk_dWr4pCLAS"
   },
   "source": [
    "### From an existing Datasource\n",
    "\n",
    "In case there are Datasources already available in [YData Fabric Data Catalog]() it is also possible to leverage them to train a synthetic data generator using **ydata-sdk**.\n",
    "- **List your available datasources:** List available datasources using DataSource.list(). This method will provide you important information such as name, creation data and UID/ID.\n",
    "- **Access the data**: The method get will return the data from the datasource as a pandas dataframe."
   ]
  },
  {
   "cell_type": "code",
   "execution_count": 20,
   "metadata": {
    "id": "wL2SfOW8NYmF"
   },
   "outputs": [],
   "source": [
    "### list the available datasources\n",
    "from ydata.sdk.datasources import DataSource\n",
    "\n",
    "DataSource.list()"
   ]
  },
  {
   "cell_type": "code",
   "execution_count": null,
   "metadata": {
    "id": "kjIHgtyDNHyF"
   },
   "outputs": [],
   "source": [
    "from ydata.sdk.datasources import DataSource\n",
    "\n",
    "dataset = DataSource.get('<DATASOURCE_UID>')\n",
    "\n",
    "# We initialize a time series synthesizer\n",
    "# As long as the synthesizer does not call `fit`, it exists only locally\n",
    "synth = TimeSeriesSynthesizer(name='Time-series synth - from datasource')\n",
    "\n",
    "# We train the synthesizer on our dataset\n",
    "# sortbykey -> variable that define the time order for the sequence\n",
    "synth.fit(time_series_data, sortbykey='time', entities='entity_id')"
   ]
  },
  {
   "cell_type": "markdown",
   "metadata": {
    "id": "HAdFCd3iBod4"
   },
   "source": [
    "### Generate samples from an already trained synthesizer\n",
    "\n",
    "#### From the synthesizer in context in the notebook"
   ]
  },
  {
   "cell_type": "code",
   "execution_count": 11,
   "metadata": {
    "colab": {
     "base_uri": "https://localhost:8080/",
     "height": 206
    },
    "id": "b53Ar34JFxez",
    "outputId": "5a51d132-4c19-47e5-a895-8186eeb6dd15"
   },
   "outputs": [
    {
     "data": {
      "application/vnd.google.colaboratory.intrinsic+json": {
       "summary": "{\n  \"name\": \"sample\",\n  \"rows\": 1000,\n  \"fields\": [\n    {\n      \"column\": \"entity_id\",\n      \"properties\": {\n        \"dtype\": \"number\",\n        \"std\": 1,\n        \"min\": 0,\n        \"max\": 4,\n        \"num_unique_values\": 5,\n        \"samples\": [\n          3,\n          1,\n          4\n        ],\n        \"semantic_type\": \"\",\n        \"description\": \"\"\n      }\n    },\n    {\n      \"column\": \"time\",\n      \"properties\": {\n        \"dtype\": \"number\",\n        \"std\": 2,\n        \"min\": 0,\n        \"max\": 9,\n        \"num_unique_values\": 10,\n        \"samples\": [\n          8,\n          1,\n          5\n        ],\n        \"semantic_type\": \"\",\n        \"description\": \"\"\n      }\n    },\n    {\n      \"column\": \"feature_0\",\n      \"properties\": {\n        \"dtype\": \"number\",\n        \"std\": 0.2893772035453071,\n        \"min\": 0.0005040948655472,\n        \"max\": 0.9996615655981432,\n        \"num_unique_values\": 993,\n        \"samples\": [\n          0.0161188907025622,\n          0.5134520164734634,\n          0.4761715349019288\n        ],\n        \"semantic_type\": \"\",\n        \"description\": \"\"\n      }\n    },\n    {\n      \"column\": \"feature_1\",\n      \"properties\": {\n        \"dtype\": \"number\",\n        \"std\": 0.28836327219690705,\n        \"min\": 0.0011260374211483,\n        \"max\": 0.9988655583011952,\n        \"num_unique_values\": 997,\n        \"samples\": [\n          0.9416311008375426,\n          0.3619338356703662,\n          0.8103046846789932\n        ],\n        \"semantic_type\": \"\",\n        \"description\": \"\"\n      }\n    },\n    {\n      \"column\": \"feature_2\",\n      \"properties\": {\n        \"dtype\": \"number\",\n        \"std\": 0.3017734653595487,\n        \"min\": 0.001012655837647,\n        \"max\": 0.9998544504600712,\n        \"num_unique_values\": 998,\n        \"samples\": [\n          0.8718601769610124,\n          0.8000892436312166,\n          0.3336079698869232\n        ],\n        \"semantic_type\": \"\",\n        \"description\": \"\"\n      }\n    }\n  ]\n}",
       "type": "dataframe",
       "variable_name": "sample"
      },
      "text/html": [
       "\n",
       "  <div id=\"df-c74ea644-394a-4561-9fcd-0d431e4ebfe8\" class=\"colab-df-container\">\n",
       "    <div>\n",
       "<style scoped>\n",
       "    .dataframe tbody tr th:only-of-type {\n",
       "        vertical-align: middle;\n",
       "    }\n",
       "\n",
       "    .dataframe tbody tr th {\n",
       "        vertical-align: top;\n",
       "    }\n",
       "\n",
       "    .dataframe thead th {\n",
       "        text-align: right;\n",
       "    }\n",
       "</style>\n",
       "<table border=\"1\" class=\"dataframe\">\n",
       "  <thead>\n",
       "    <tr style=\"text-align: right;\">\n",
       "      <th></th>\n",
       "      <th>entity_id</th>\n",
       "      <th>time</th>\n",
       "      <th>feature_0</th>\n",
       "      <th>feature_1</th>\n",
       "      <th>feature_2</th>\n",
       "    </tr>\n",
       "  </thead>\n",
       "  <tbody>\n",
       "    <tr>\n",
       "      <th>0</th>\n",
       "      <td>0</td>\n",
       "      <td>0</td>\n",
       "      <td>0.460319</td>\n",
       "      <td>0.048843</td>\n",
       "      <td>0.253955</td>\n",
       "    </tr>\n",
       "    <tr>\n",
       "      <th>1</th>\n",
       "      <td>3</td>\n",
       "      <td>0</td>\n",
       "      <td>0.821496</td>\n",
       "      <td>0.371858</td>\n",
       "      <td>0.765149</td>\n",
       "    </tr>\n",
       "    <tr>\n",
       "      <th>2</th>\n",
       "      <td>3</td>\n",
       "      <td>0</td>\n",
       "      <td>0.471228</td>\n",
       "      <td>0.661962</td>\n",
       "      <td>0.319301</td>\n",
       "    </tr>\n",
       "    <tr>\n",
       "      <th>3</th>\n",
       "      <td>3</td>\n",
       "      <td>0</td>\n",
       "      <td>0.796105</td>\n",
       "      <td>0.567648</td>\n",
       "      <td>0.706034</td>\n",
       "    </tr>\n",
       "    <tr>\n",
       "      <th>4</th>\n",
       "      <td>3</td>\n",
       "      <td>0</td>\n",
       "      <td>0.786350</td>\n",
       "      <td>0.251308</td>\n",
       "      <td>0.557679</td>\n",
       "    </tr>\n",
       "  </tbody>\n",
       "</table>\n",
       "</div>\n",
       "    <div class=\"colab-df-buttons\">\n",
       "\n",
       "  <div class=\"colab-df-container\">\n",
       "    <button class=\"colab-df-convert\" onclick=\"convertToInteractive('df-c74ea644-394a-4561-9fcd-0d431e4ebfe8')\"\n",
       "            title=\"Convert this dataframe to an interactive table.\"\n",
       "            style=\"display:none;\">\n",
       "\n",
       "  <svg xmlns=\"http://www.w3.org/2000/svg\" height=\"24px\" viewBox=\"0 -960 960 960\">\n",
       "    <path d=\"M120-120v-720h720v720H120Zm60-500h600v-160H180v160Zm220 220h160v-160H400v160Zm0 220h160v-160H400v160ZM180-400h160v-160H180v160Zm440 0h160v-160H620v160ZM180-180h160v-160H180v160Zm440 0h160v-160H620v160Z\"/>\n",
       "  </svg>\n",
       "    </button>\n",
       "\n",
       "  <style>\n",
       "    .colab-df-container {\n",
       "      display:flex;\n",
       "      gap: 12px;\n",
       "    }\n",
       "\n",
       "    .colab-df-convert {\n",
       "      background-color: #E8F0FE;\n",
       "      border: none;\n",
       "      border-radius: 50%;\n",
       "      cursor: pointer;\n",
       "      display: none;\n",
       "      fill: #1967D2;\n",
       "      height: 32px;\n",
       "      padding: 0 0 0 0;\n",
       "      width: 32px;\n",
       "    }\n",
       "\n",
       "    .colab-df-convert:hover {\n",
       "      background-color: #E2EBFA;\n",
       "      box-shadow: 0px 1px 2px rgba(60, 64, 67, 0.3), 0px 1px 3px 1px rgba(60, 64, 67, 0.15);\n",
       "      fill: #174EA6;\n",
       "    }\n",
       "\n",
       "    .colab-df-buttons div {\n",
       "      margin-bottom: 4px;\n",
       "    }\n",
       "\n",
       "    [theme=dark] .colab-df-convert {\n",
       "      background-color: #3B4455;\n",
       "      fill: #D2E3FC;\n",
       "    }\n",
       "\n",
       "    [theme=dark] .colab-df-convert:hover {\n",
       "      background-color: #434B5C;\n",
       "      box-shadow: 0px 1px 3px 1px rgba(0, 0, 0, 0.15);\n",
       "      filter: drop-shadow(0px 1px 2px rgba(0, 0, 0, 0.3));\n",
       "      fill: #FFFFFF;\n",
       "    }\n",
       "  </style>\n",
       "\n",
       "    <script>\n",
       "      const buttonEl =\n",
       "        document.querySelector('#df-c74ea644-394a-4561-9fcd-0d431e4ebfe8 button.colab-df-convert');\n",
       "      buttonEl.style.display =\n",
       "        google.colab.kernel.accessAllowed ? 'block' : 'none';\n",
       "\n",
       "      async function convertToInteractive(key) {\n",
       "        const element = document.querySelector('#df-c74ea644-394a-4561-9fcd-0d431e4ebfe8');\n",
       "        const dataTable =\n",
       "          await google.colab.kernel.invokeFunction('convertToInteractive',\n",
       "                                                    [key], {});\n",
       "        if (!dataTable) return;\n",
       "\n",
       "        const docLinkHtml = 'Like what you see? Visit the ' +\n",
       "          '<a target=\"_blank\" href=https://colab.research.google.com/notebooks/data_table.ipynb>data table notebook</a>'\n",
       "          + ' to learn more about interactive tables.';\n",
       "        element.innerHTML = '';\n",
       "        dataTable['output_type'] = 'display_data';\n",
       "        await google.colab.output.renderOutput(dataTable, element);\n",
       "        const docLink = document.createElement('div');\n",
       "        docLink.innerHTML = docLinkHtml;\n",
       "        element.appendChild(docLink);\n",
       "      }\n",
       "    </script>\n",
       "  </div>\n",
       "\n",
       "\n",
       "<div id=\"df-692abc94-a068-43d1-8c59-d20dd4d54e56\">\n",
       "  <button class=\"colab-df-quickchart\" onclick=\"quickchart('df-692abc94-a068-43d1-8c59-d20dd4d54e56')\"\n",
       "            title=\"Suggest charts\"\n",
       "            style=\"display:none;\">\n",
       "\n",
       "<svg xmlns=\"http://www.w3.org/2000/svg\" height=\"24px\"viewBox=\"0 0 24 24\"\n",
       "     width=\"24px\">\n",
       "    <g>\n",
       "        <path d=\"M19 3H5c-1.1 0-2 .9-2 2v14c0 1.1.9 2 2 2h14c1.1 0 2-.9 2-2V5c0-1.1-.9-2-2-2zM9 17H7v-7h2v7zm4 0h-2V7h2v10zm4 0h-2v-4h2v4z\"/>\n",
       "    </g>\n",
       "</svg>\n",
       "  </button>\n",
       "\n",
       "<style>\n",
       "  .colab-df-quickchart {\n",
       "      --bg-color: #E8F0FE;\n",
       "      --fill-color: #1967D2;\n",
       "      --hover-bg-color: #E2EBFA;\n",
       "      --hover-fill-color: #174EA6;\n",
       "      --disabled-fill-color: #AAA;\n",
       "      --disabled-bg-color: #DDD;\n",
       "  }\n",
       "\n",
       "  [theme=dark] .colab-df-quickchart {\n",
       "      --bg-color: #3B4455;\n",
       "      --fill-color: #D2E3FC;\n",
       "      --hover-bg-color: #434B5C;\n",
       "      --hover-fill-color: #FFFFFF;\n",
       "      --disabled-bg-color: #3B4455;\n",
       "      --disabled-fill-color: #666;\n",
       "  }\n",
       "\n",
       "  .colab-df-quickchart {\n",
       "    background-color: var(--bg-color);\n",
       "    border: none;\n",
       "    border-radius: 50%;\n",
       "    cursor: pointer;\n",
       "    display: none;\n",
       "    fill: var(--fill-color);\n",
       "    height: 32px;\n",
       "    padding: 0;\n",
       "    width: 32px;\n",
       "  }\n",
       "\n",
       "  .colab-df-quickchart:hover {\n",
       "    background-color: var(--hover-bg-color);\n",
       "    box-shadow: 0 1px 2px rgba(60, 64, 67, 0.3), 0 1px 3px 1px rgba(60, 64, 67, 0.15);\n",
       "    fill: var(--button-hover-fill-color);\n",
       "  }\n",
       "\n",
       "  .colab-df-quickchart-complete:disabled,\n",
       "  .colab-df-quickchart-complete:disabled:hover {\n",
       "    background-color: var(--disabled-bg-color);\n",
       "    fill: var(--disabled-fill-color);\n",
       "    box-shadow: none;\n",
       "  }\n",
       "\n",
       "  .colab-df-spinner {\n",
       "    border: 2px solid var(--fill-color);\n",
       "    border-color: transparent;\n",
       "    border-bottom-color: var(--fill-color);\n",
       "    animation:\n",
       "      spin 1s steps(1) infinite;\n",
       "  }\n",
       "\n",
       "  @keyframes spin {\n",
       "    0% {\n",
       "      border-color: transparent;\n",
       "      border-bottom-color: var(--fill-color);\n",
       "      border-left-color: var(--fill-color);\n",
       "    }\n",
       "    20% {\n",
       "      border-color: transparent;\n",
       "      border-left-color: var(--fill-color);\n",
       "      border-top-color: var(--fill-color);\n",
       "    }\n",
       "    30% {\n",
       "      border-color: transparent;\n",
       "      border-left-color: var(--fill-color);\n",
       "      border-top-color: var(--fill-color);\n",
       "      border-right-color: var(--fill-color);\n",
       "    }\n",
       "    40% {\n",
       "      border-color: transparent;\n",
       "      border-right-color: var(--fill-color);\n",
       "      border-top-color: var(--fill-color);\n",
       "    }\n",
       "    60% {\n",
       "      border-color: transparent;\n",
       "      border-right-color: var(--fill-color);\n",
       "    }\n",
       "    80% {\n",
       "      border-color: transparent;\n",
       "      border-right-color: var(--fill-color);\n",
       "      border-bottom-color: var(--fill-color);\n",
       "    }\n",
       "    90% {\n",
       "      border-color: transparent;\n",
       "      border-bottom-color: var(--fill-color);\n",
       "    }\n",
       "  }\n",
       "</style>\n",
       "\n",
       "  <script>\n",
       "    async function quickchart(key) {\n",
       "      const quickchartButtonEl =\n",
       "        document.querySelector('#' + key + ' button');\n",
       "      quickchartButtonEl.disabled = true;  // To prevent multiple clicks.\n",
       "      quickchartButtonEl.classList.add('colab-df-spinner');\n",
       "      try {\n",
       "        const charts = await google.colab.kernel.invokeFunction(\n",
       "            'suggestCharts', [key], {});\n",
       "      } catch (error) {\n",
       "        console.error('Error during call to suggestCharts:', error);\n",
       "      }\n",
       "      quickchartButtonEl.classList.remove('colab-df-spinner');\n",
       "      quickchartButtonEl.classList.add('colab-df-quickchart-complete');\n",
       "    }\n",
       "    (() => {\n",
       "      let quickchartButtonEl =\n",
       "        document.querySelector('#df-692abc94-a068-43d1-8c59-d20dd4d54e56 button');\n",
       "      quickchartButtonEl.style.display =\n",
       "        google.colab.kernel.accessAllowed ? 'block' : 'none';\n",
       "    })();\n",
       "  </script>\n",
       "</div>\n",
       "\n",
       "    </div>\n",
       "  </div>\n"
      ],
      "text/plain": [
       "   entity_id  time  feature_0  feature_1  feature_2\n",
       "0          0     0   0.460319   0.048843   0.253955\n",
       "1          3     0   0.821496   0.371858   0.765149\n",
       "2          3     0   0.471228   0.661962   0.319301\n",
       "3          3     0   0.796105   0.567648   0.706034\n",
       "4          3     0   0.786350   0.251308   0.557679"
      ]
     },
     "execution_count": 11,
     "metadata": {},
     "output_type": "execute_result"
    }
   ],
   "source": [
    "# Generate a sample with x number of entities\n",
    "# In this example the objective is to generate a dataset with the same size as the original. For that reason, 5 entities will be generated.\n",
    "\n",
    "sample = synth.sample(n_entities=5)\n",
    "\n",
    "sample.head()"
   ]
  },
  {
   "cell_type": "markdown",
   "metadata": {
    "id": "8bmYy5PfGTJU"
   },
   "source": [
    "### From a previously trained synthetic data generation model\n",
    "\n",
    "Users can access previously trained synthetic data generation models using the get method and passing the synthesizer's unique identifier (UID/ID). This allows for leveraging existing models without retraining.\n",
    "\n",
    "\n",
    "**Get the details of trained synths:** Call the TimeSeriesSynthesizer.list method to get a list of the previously trained synthetic data generators.\n",
    "\n",
    "**Retrieve the synthesizer:** Call TimeSeriesSynthesizer.get(id='your_synth_uid') providing the desired synthesizer's UID/ID.\n",
    "\n",
    "**Generate data:** Use the retrieved synthesizer's sample() method to generate new synthetic data."
   ]
  },
  {
   "cell_type": "code",
   "execution_count": null,
   "metadata": {
    "id": "6TUG3e__ITWT"
   },
   "outputs": [],
   "source": [
    "# List the trained synthetic data generators to get the uid synthetisizer\n",
    "TimeSeriesSynthesizer.list()"
   ]
  },
  {
   "cell_type": "code",
   "execution_count": null,
   "metadata": {},
   "outputs": [],
   "source": [
    "synth = TimeSeriesSynthesizer(uid='{insert-synth-id}').get()\n",
    "\n",
    "# Generate a new synthetic dataset with the sample method\n",
    "sample = synth.sample(n_entities=5)\n",
    "\n",
    "sample.head()"
   ]
  }
 ],
 "metadata": {
  "colab": {
   "collapsed_sections": [
    "C1MuJhH-CAeq",
    "dZclRfztDJuv"
   ],
   "provenance": []
  },
  "kernelspec": {
   "display_name": "Python 3 (ipykernel)",
   "language": "python",
   "name": "python3"
  },
  "language_info": {
   "codemirror_mode": {
    "name": "ipython",
    "version": 3
   },
   "file_extension": ".py",
   "mimetype": "text/x-python",
   "name": "python",
   "nbconvert_exporter": "python",
   "pygments_lexer": "ipython3",
   "version": "3.10.12"
  }
 },
 "nbformat": 4,
 "nbformat_minor": 4
}
