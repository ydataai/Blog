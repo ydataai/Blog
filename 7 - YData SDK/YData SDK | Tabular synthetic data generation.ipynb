{
 "cells": [
  {
   "cell_type": "markdown",
   "metadata": {
    "id": "C1MuJhH-CAeq"
   },
   "source": [
    "# YData SDK | Tabular synthetic data generation quickstart"
   ]
  },
  {
   "cell_type": "markdown",
   "metadata": {},
   "source": [
    "#### Install ydata-sdk"
   ]
  },
  {
   "cell_type": "code",
   "execution_count": 3,
   "metadata": {
    "colab": {
     "base_uri": "https://localhost:8080/"
    },
    "id": "ttTo99_4CDIl",
    "outputId": "df6199b9-cca7-403c-91a2-8bac1137da3a"
   },
   "outputs": [
    {
     "name": "stdout",
     "output_type": "stream",
     "text": [
      "Collecting ydata-sdk\n",
      "  Downloading ydata_sdk-1.0.1-py310-none-any.whl.metadata (7.4 kB)\n",
      "Collecting httpx==0.23.3 (from ydata-sdk)\n",
      "  Downloading httpx-0.23.3-py3-none-any.whl.metadata (7.1 kB)\n",
      "Collecting ydata-core>=0.2.0 (from ydata-sdk)\n",
      "  Downloading ydata_core-0.7.0-py2.py3-none-any.whl.metadata (1.5 kB)\n",
      "Requirement already satisfied: pandas>=1.5.0 in /usr/local/lib/python3.10/dist-packages (from ydata-sdk) (2.2.2)\n",
      "Collecting prettytable==3.6.0 (from ydata-sdk)\n",
      "  Downloading prettytable-3.6.0-py3-none-any.whl.metadata (25 kB)\n",
      "Collecting pydantic==1.10.9 (from ydata-sdk)\n",
      "  Downloading pydantic-1.10.9-cp310-cp310-manylinux_2_17_x86_64.manylinux2014_x86_64.whl.metadata (147 kB)\n",
      "\u001b[2K     \u001b[90m━━━━━━━━━━━━━━━━━━━━━━━━━━━━━━━━━━━━━━━━\u001b[0m \u001b[32m147.8/147.8 kB\u001b[0m \u001b[31m4.5 MB/s\u001b[0m eta \u001b[36m0:00:00\u001b[0m\n",
      "\u001b[?25hCollecting typeguard==2.13.3 (from ydata-sdk)\n",
      "  Downloading typeguard-2.13.3-py3-none-any.whl.metadata (3.6 kB)\n",
      "Collecting ydata-datascience (from ydata-sdk)\n",
      "  Downloading ydata_datascience-0.7.0-py2.py3-none-any.whl.metadata (1.5 kB)\n",
      "Requirement already satisfied: certifi in /usr/local/lib/python3.10/dist-packages (from httpx==0.23.3->ydata-sdk) (2024.8.30)\n",
      "Collecting httpcore<0.17.0,>=0.15.0 (from httpx==0.23.3->ydata-sdk)\n",
      "  Downloading httpcore-0.16.3-py3-none-any.whl.metadata (16 kB)\n",
      "Collecting rfc3986<2,>=1.3 (from rfc3986[idna2008]<2,>=1.3->httpx==0.23.3->ydata-sdk)\n",
      "  Downloading rfc3986-1.5.0-py2.py3-none-any.whl.metadata (6.5 kB)\n",
      "Requirement already satisfied: sniffio in /usr/local/lib/python3.10/dist-packages (from httpx==0.23.3->ydata-sdk) (1.3.1)\n",
      "Requirement already satisfied: wcwidth in /usr/local/lib/python3.10/dist-packages (from prettytable==3.6.0->ydata-sdk) (0.2.13)\n",
      "Requirement already satisfied: typing-extensions>=4.2.0 in /usr/local/lib/python3.10/dist-packages (from pydantic==1.10.9->ydata-sdk) (4.12.2)\n",
      "Requirement already satisfied: numpy>=1.22.4 in /usr/local/lib/python3.10/dist-packages (from pandas>=1.5.0->ydata-sdk) (1.26.4)\n",
      "Requirement already satisfied: python-dateutil>=2.8.2 in /usr/local/lib/python3.10/dist-packages (from pandas>=1.5.0->ydata-sdk) (2.8.2)\n",
      "Requirement already satisfied: pytz>=2020.1 in /usr/local/lib/python3.10/dist-packages (from pandas>=1.5.0->ydata-sdk) (2024.2)\n",
      "Requirement already satisfied: tzdata>=2022.7 in /usr/local/lib/python3.10/dist-packages (from pandas>=1.5.0->ydata-sdk) (2024.2)\n",
      "Requirement already satisfied: h11<0.15,>=0.13 in /usr/local/lib/python3.10/dist-packages (from httpcore<0.17.0,>=0.15.0->httpx==0.23.3->ydata-sdk) (0.14.0)\n",
      "Requirement already satisfied: anyio<5.0,>=3.0 in /usr/local/lib/python3.10/dist-packages (from httpcore<0.17.0,>=0.15.0->httpx==0.23.3->ydata-sdk) (3.7.1)\n",
      "Requirement already satisfied: six>=1.5 in /usr/local/lib/python3.10/dist-packages (from python-dateutil>=2.8.2->pandas>=1.5.0->ydata-sdk) (1.16.0)\n",
      "Requirement already satisfied: idna in /usr/local/lib/python3.10/dist-packages (from rfc3986[idna2008]<2,>=1.3->httpx==0.23.3->ydata-sdk) (3.10)\n",
      "Requirement already satisfied: exceptiongroup in /usr/local/lib/python3.10/dist-packages (from anyio<5.0,>=3.0->httpcore<0.17.0,>=0.15.0->httpx==0.23.3->ydata-sdk) (1.2.2)\n",
      "Downloading ydata_sdk-1.0.1-py310-none-any.whl (124 kB)\n",
      "\u001b[2K   \u001b[90m━━━━━━━━━━━━━━━━━━━━━━━━━━━━━━━━━━━━━━━━\u001b[0m \u001b[32m124.2/124.2 kB\u001b[0m \u001b[31m7.8 MB/s\u001b[0m eta \u001b[36m0:00:00\u001b[0m\n",
      "\u001b[?25hDownloading httpx-0.23.3-py3-none-any.whl (71 kB)\n",
      "\u001b[2K   \u001b[90m━━━━━━━━━━━━━━━━━━━━━━━━━━━━━━━━━━━━━━━━\u001b[0m \u001b[32m71.5/71.5 kB\u001b[0m \u001b[31m5.3 MB/s\u001b[0m eta \u001b[36m0:00:00\u001b[0m\n",
      "\u001b[?25hDownloading prettytable-3.6.0-py3-none-any.whl (27 kB)\n",
      "Downloading pydantic-1.10.9-cp310-cp310-manylinux_2_17_x86_64.manylinux2014_x86_64.whl (3.1 MB)\n",
      "\u001b[2K   \u001b[90m━━━━━━━━━━━━━━━━━━━━━━━━━━━━━━━━━━━━━━━━\u001b[0m \u001b[32m3.1/3.1 MB\u001b[0m \u001b[31m35.7 MB/s\u001b[0m eta \u001b[36m0:00:00\u001b[0m\n",
      "\u001b[?25hDownloading typeguard-2.13.3-py3-none-any.whl (17 kB)\n",
      "Downloading ydata_core-0.7.0-py2.py3-none-any.whl (4.6 kB)\n",
      "Downloading ydata_datascience-0.7.0-py2.py3-none-any.whl (4.2 kB)\n",
      "Downloading httpcore-0.16.3-py3-none-any.whl (69 kB)\n",
      "\u001b[2K   \u001b[90m━━━━━━━━━━━━━━━━━━━━━━━━━━━━━━━━━━━━━━━━\u001b[0m \u001b[32m69.6/69.6 kB\u001b[0m \u001b[31m5.1 MB/s\u001b[0m eta \u001b[36m0:00:00\u001b[0m\n",
      "\u001b[?25hDownloading rfc3986-1.5.0-py2.py3-none-any.whl (31 kB)\n",
      "Installing collected packages: ydata-datascience, ydata-core, rfc3986, typeguard, pydantic, prettytable, httpcore, httpx, ydata-sdk\n",
      "  Attempting uninstall: typeguard\n",
      "    Found existing installation: typeguard 4.4.1\n",
      "    Uninstalling typeguard-4.4.1:\n",
      "      Successfully uninstalled typeguard-4.4.1\n",
      "  Attempting uninstall: pydantic\n",
      "    Found existing installation: pydantic 2.9.2\n",
      "    Uninstalling pydantic-2.9.2:\n",
      "      Successfully uninstalled pydantic-2.9.2\n",
      "  Attempting uninstall: prettytable\n",
      "    Found existing installation: prettytable 3.12.0\n",
      "    Uninstalling prettytable-3.12.0:\n",
      "      Successfully uninstalled prettytable-3.12.0\n",
      "  Attempting uninstall: httpcore\n",
      "    Found existing installation: httpcore 1.0.6\n",
      "    Uninstalling httpcore-1.0.6:\n",
      "      Successfully uninstalled httpcore-1.0.6\n",
      "  Attempting uninstall: httpx\n",
      "    Found existing installation: httpx 0.27.2\n",
      "    Uninstalling httpx-0.27.2:\n",
      "      Successfully uninstalled httpx-0.27.2\n",
      "\u001b[31mERROR: pip's dependency resolver does not currently take into account all the packages that are installed. This behaviour is the source of the following dependency conflicts.\n",
      "albumentations 1.4.20 requires pydantic>=2.7.0, but you have pydantic 1.10.9 which is incompatible.\n",
      "inflect 7.4.0 requires typeguard>=4.0.1, but you have typeguard 2.13.3 which is incompatible.\n",
      "langchain 0.3.7 requires pydantic<3.0.0,>=2.7.4, but you have pydantic 1.10.9 which is incompatible.\n",
      "langchain-core 0.3.17 requires pydantic<3.0.0,>=2.5.2; python_full_version < \"3.12.4\", but you have pydantic 1.10.9 which is incompatible.\u001b[0m\u001b[31m\n",
      "\u001b[0mSuccessfully installed httpcore-0.16.3 httpx-0.23.3 prettytable-3.6.0 pydantic-1.10.9 rfc3986-1.5.0 typeguard-2.13.3 ydata-core-0.7.0 ydata-datascience-0.7.0 ydata-sdk-1.0.1\n"
     ]
    }
   ],
   "source": [
    "!pip install ydata-sdk"
   ]
  },
  {
   "cell_type": "markdown",
   "metadata": {
    "id": "BfiznmfQCfrB"
   },
   "source": [
    "#### Authentication"
   ]
  },
  {
   "cell_type": "code",
   "execution_count": 4,
   "metadata": {
    "id": "9YWqODSOCiAS"
   },
   "outputs": [],
   "source": [
    "import os\n",
    "\n",
    "# Do not forget to add your token as env variable\n",
    "os.environ[\"YDATA_TOKEN\"] = '{insert-token}'"
   ]
  },
  {
   "cell_type": "markdown",
   "metadata": {
    "id": "dZclRfztDJuv"
   },
   "source": [
    "#### Sampling an example dataset for a multientity & multivariate time-series dataset"
   ]
  },
  {
   "cell_type": "code",
   "execution_count": 2,
   "metadata": {
    "colab": {
     "base_uri": "https://localhost:8080/"
    },
    "id": "H-QmreOsDQTs",
    "outputId": "17d6aa03-3c54-4a0d-c2f2-3a0e9ea5b07e"
   },
   "outputs": [
    {
     "name": "stdout",
     "output_type": "stream",
     "text": [
      "   entity_id  time  feature_0  feature_1  feature_2\n",
      "0          0     0   0.463602   0.060326   0.244735\n",
      "1          0     1   0.254560   0.226478   0.160453\n",
      "2          0     2   0.451870   0.656529   0.817230\n",
      "3          0     3   0.688637   0.952739   0.041068\n",
      "4          0     4   0.954968   0.079913   0.770322\n"
     ]
    }
   ],
   "source": [
    "# Generate the dataset\n",
    "from ydata.sdk.dataset import get_dataset\n",
    "\n",
    "dataset = get_dataset('titanic')\n",
    "\n",
    "print(dataset.head())"
   ]
  },
  {
   "cell_type": "markdown",
   "metadata": {
    "id": "NKRFzKxNBzfj"
   },
   "source": [
    "## Train a Synthetic data generator\n",
    "\n",
    "### From a pandas dataframe"
   ]
  },
  {
   "cell_type": "code",
   "execution_count": 6,
   "metadata": {
    "id": "BYJnPyMfxi1O"
   },
   "outputs": [],
   "source": [
    "from ydata.sdk.synthesizers import RegularSynthesizer\n",
    "\n",
    "# We initialize a time series synthesizer\n",
    "# As long as the synthesizer does not call `fit`, it exists only locally\n",
    "synth = RegularSynthesizer(name='Titanic synth')\n",
    "\n",
    "# We train the synthesizer on our dataset\n",
    "# sortbykey -> variable that define the time order for the sequence\n",
    "synth.fit(dataset)"
   ]
  },
  {
   "cell_type": "markdown",
   "metadata": {
    "id": "vk_dWr4pCLAS"
   },
   "source": [
    "### From an existing Datasource\n",
    "\n",
    "In case there are Datasources already available in [YData Fabric Data Catalog]() it is also possible to leverage them to train a synthetic data generator using **ydata-sdk**.\n",
    "- **List your available datasources:** List available datasources using DataSource.list(). This method will provide you important information such as name, creation data and UID/ID.\n",
    "- **Access the data**: The method get will return the data from the datasource as a pandas dataframe."
   ]
  },
  {
   "cell_type": "code",
   "execution_count": 20,
   "metadata": {
    "id": "wL2SfOW8NYmF"
   },
   "outputs": [],
   "source": [
    "### list the available datasources\n",
    "from ydata.sdk.datasources import DataSource\n",
    "\n",
    "DataSource.list()"
   ]
  },
  {
   "cell_type": "code",
   "execution_count": null,
   "metadata": {
    "id": "kjIHgtyDNHyF"
   },
   "outputs": [],
   "source": [
    "from ydata.sdk.datasources import DataSource\n",
    "\n",
    "dataset = DataSource.get('<DATASOURCE_UID>')\n",
    "\n",
    "# We initialize a time series synthesizer\n",
    "# As long as the synthesizer does not call `fit`, it exists only locally\n",
    "synth = RegularSynthesizer(name='Titanic synth - from datasource')\n",
    "\n",
    "# We train the synthesizer on our dataset\n",
    "# sortbykey -> variable that define the time order for the sequence\n",
    "synth.fit(dataset)"
   ]
  },
  {
   "cell_type": "markdown",
   "metadata": {
    "id": "HAdFCd3iBod4"
   },
   "source": [
    "### Generate samples from an already trained synthesizer\n",
    "\n",
    "#### From the synthesizer in context in the notebook"
   ]
  },
  {
   "cell_type": "code",
   "execution_count": null,
   "metadata": {},
   "outputs": [],
   "source": [
    "# Generate a sample with x number of rows\n",
    "sample = synth.sample(1000)\n",
    "\n",
    "sample.head()"
   ]
  },
  {
   "cell_type": "markdown",
   "metadata": {
    "id": "8bmYy5PfGTJU"
   },
   "source": [
    "### From a previously trained synthetic data generation model\n",
    "\n",
    "Users can access previously trained synthetic data generation models using the get method and passing the synthesizer's unique identifier (UID/ID). This allows for leveraging existing models without retraining.\n",
    "\n",
    "\n",
    "**Get the details of trained synths:** Call the TimeSeriesSynthesizer.list method to get a list of the previously trained synthetic data generators.\n",
    "\n",
    "**Retrieve the synthesizer:** Call TimeSeriesSynthesizer.get(id='your_synth_uid') providing the desired synthesizer's UID/ID.\n",
    "\n",
    "**Generate data:** Use the retrieved synthesizer's sample() method to generate new synthetic data."
   ]
  },
  {
   "cell_type": "code",
   "execution_count": null,
   "metadata": {
    "id": "6TUG3e__ITWT"
   },
   "outputs": [],
   "source": [
    "# List the trained synthetic data generators to get the uid synthetisizer\n",
    "RegularSynthesizer.list()"
   ]
  },
  {
   "cell_type": "code",
   "execution_count": null,
   "metadata": {},
   "outputs": [],
   "source": [
    "synth = RegularSynthesizer(uid='{insert-synth-id}').get()\n",
    "\n",
    "# Generate a new synthetic dataset with the sample method\n",
    "sample = synth.sample(10000)\n",
    "\n",
    "sample.head()"
   ]
  }
 ],
 "metadata": {
  "colab": {
   "collapsed_sections": [
    "C1MuJhH-CAeq",
    "dZclRfztDJuv"
   ],
   "provenance": []
  },
  "kernelspec": {
   "display_name": "Python 3 (ipykernel)",
   "language": "python",
   "name": "python3"
  },
  "language_info": {
   "codemirror_mode": {
    "name": "ipython",
    "version": 3
   },
   "file_extension": ".py",
   "mimetype": "text/x-python",
   "name": "python",
   "nbconvert_exporter": "python",
   "pygments_lexer": "ipython3",
   "version": "3.10.12"
  }
 },
 "nbformat": 4,
 "nbformat_minor": 4
}
