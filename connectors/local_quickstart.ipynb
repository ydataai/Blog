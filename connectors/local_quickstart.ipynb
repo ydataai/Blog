{
 "cells": [
  {
   "cell_type": "markdown",
   "metadata": {
    "collapsed": true,
    "pycharm": {
     "name": "#%% md\n"
    }
   },
   "source": [
    "# Local Connector - Quick Start\n",
    "The Local connector enables you to read/write data from and to local files. To read and load files from your lab using our connectors enables scalability to the ML flows.\n",
    "\n",
    "## Storage and Performance Notes\n",
    "The reading from local files is expected to be done for datasets of smaller size. For bigger workloads it is recommended to keep the data stored in remote FileSystems."
   ]
  },
  {
   "cell_type": "code",
   "execution_count": null,
   "outputs": [],
   "source": [
    "from ydata.connectors import LocalConnector\n",
    "from ydata.connectors.filetype import FileType"
   ],
   "metadata": {
    "collapsed": false,
    "pycharm": {
     "name": "#%%\n"
    }
   }
  },
  {
   "cell_type": "markdown",
   "source": [
    "As this connector reads the data from a localfile no credentials input is required.\n",
    "When providing the file path please confirm that you have provided the full path file - including the extension.\n",
    "FileType.CSV makes sure that the the type of your file is respected, even in the absence of an explicit path.\n",
    "\n",
    "### Reading the data"
   ],
   "metadata": {
    "collapsed": false,
    "pycharm": {
     "name": "#%% md\n"
    }
   }
  },
  {
   "cell_type": "code",
   "execution_count": null,
   "outputs": [],
   "source": [
    "connector = LocalConnector()\n",
    "data = connector.read_file(path='{insert-file-path}.csv', file_type=FileType.CSV)\n",
    "\n",
    "#Check the dataset header\n",
    "data.head(20)"
   ],
   "metadata": {
    "collapsed": false,
    "pycharm": {
     "name": "#%% Read the full dataset\n"
    }
   }
  },
  {
   "cell_type": "code",
   "execution_count": null,
   "outputs": [],
   "source": [
    "#Read a sample of the dataset\n",
    "sample = connector.read_sample(path='{insert-file-path}.csv',\n",
    "                               sample_size=2000,\n",
    "                               file_type=FileType.CSV)\n",
    "\n",
    "#Get the dataset shape\n",
    "sample.shape(lazy_eval=False)"
   ],
   "metadata": {
    "collapsed": false,
    "pycharm": {
     "name": "#%%\n"
    }
   }
  },
  {
   "cell_type": "markdown",
   "source": [
    "### Listing the available files in a certain directory"
   ],
   "metadata": {
    "collapsed": false,
    "pycharm": {
     "name": "#%% md\n"
    }
   }
  },
  {
   "cell_type": "code",
   "execution_count": null,
   "outputs": [],
   "source": [
    "#Return a dictionary with a list of subdictories and available files\n",
    "#{'dirs': [], 'files': []}\n",
    "files_dir = connector.list(path='{insert-directory}')"
   ],
   "metadata": {
    "collapsed": false,
    "pycharm": {
     "name": "#%%\n"
    }
   }
  },
  {
   "cell_type": "markdown",
   "source": [
    "### Write file"
   ],
   "metadata": {
    "collapsed": false,
    "pycharm": {
     "name": "#%% md\n"
    }
   }
  },
  {
   "cell_type": "code",
   "execution_count": null,
   "outputs": [],
   "source": [
    "connector.write_file(data=data,\n",
    "                     path='{insert-file-path}.csv',\n",
    "                     files_dir=FileType.CSV)"
   ],
   "metadata": {
    "collapsed": false,
    "pycharm": {
     "name": "#%%Write a file to a local directory\n"
    }
   }
  }
 ],
 "metadata": {
  "kernelspec": {
   "display_name": "Python 3",
   "language": "python",
   "name": "python3"
  },
  "language_info": {
   "codemirror_mode": {
    "name": "ipython",
    "version": 2
   },
   "file_extension": ".py",
   "mimetype": "text/x-python",
   "name": "python",
   "nbconvert_exporter": "python",
   "pygments_lexer": "ipython2",
   "version": "2.7.6"
  }
 },
 "nbformat": 4,
 "nbformat_minor": 0
}