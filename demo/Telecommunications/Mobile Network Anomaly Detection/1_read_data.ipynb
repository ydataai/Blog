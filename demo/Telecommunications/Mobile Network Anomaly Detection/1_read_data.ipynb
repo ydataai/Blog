{
 "cells": [
  {
   "cell_type": "markdown",
   "id": "d2c4139e-6877-44da-8864-4d7d9b57dae9",
   "metadata": {
    "papermill": {
     "duration": 1.385909,
     "end_time": "2022-03-17T18:21:17.981872",
     "exception": false,
     "start_time": "2022-03-17T18:21:16.595963",
     "status": "completed"
    },
    "tags": []
   },
   "source": [
    "# Mobile Network Anomaly Detection\n",
    "\n",
    "<span style=\"font-size:15px; line-height:1.5em\"> Traditionally, the design of a cellular network focuses on the optimization of energy and resources that guarantees a smooth operation even during peak hours (i.e. periods with higher traffic load). In order to adapt to the varying user demands in the most efficient way with regards to energy savings and utilization of frequency resources would be optimal to detect which ones are abnormal bnehaviours in the utilization of the newtork. <br>\n",
    "In this notebook, we are exploiting the power of YData's Synthesizer to have a better balanced dataset to improve the detecion of these anomalies. <br><br>\n",
    "<u>Target:</u>\n",
    "The target variable can assume two values: <br>\n",
    "• 0 (normal):  activity corresponds to normal behavior of any working day. <br>\n",
    "• 1 (unusual): activity differs from the behavior usually observed. "
   ]
  },
  {
   "cell_type": "markdown",
   "id": "c7239681-ded7-47d1-a379-252bc446c5c3",
   "metadata": {},
   "source": [
    "## 0 - Imports \n",
    "\n",
    "Importing all the packages needed in the reading data step. "
   ]
  },
  {
   "cell_type": "code",
   "execution_count": null,
   "id": "fbad54a8-d71d-43ba-b9c2-d61cdb0db920",
   "metadata": {},
   "outputs": [],
   "source": [
    "import json\n",
    "from ydata.connectors import GCSConnector, LocalConnector\n",
    "from ydata.connectors.filetype import FileType\n",
    "from ydata.utils.formats import read_json"
   ]
  },
  {
   "cell_type": "markdown",
   "id": "acfe7391-17d5-40bf-8202-c8e50bccce28",
   "metadata": {},
   "source": [
    "## 1 - Load Data\n",
    "\n",
    "Load the data from Google Cloud Storage with YData's connector. "
   ]
  },
  {
   "cell_type": "code",
   "execution_count": 2,
   "id": "e132737c-8e64-4b43-a859-b2f3783aee22",
   "metadata": {
    "papermill": {
     "duration": 0.131806,
     "end_time": "2022-03-17T18:21:18.119400",
     "exception": false,
     "start_time": "2022-03-17T18:21:17.987594",
     "status": "completed"
    },
    "tags": []
   },
   "outputs": [],
   "source": [
    "# Initialize the YData's connector\n",
    "token = read_json('gcs_credentials.json')\n",
    "connector = GCSConnector('ydatasynthetic', keyfile_dict=token)"
   ]
  },
  {
   "cell_type": "code",
   "execution_count": 3,
   "id": "7e5100b4-085e-4557-9e78-a4a5ad898a3c",
   "metadata": {
    "papermill": {
     "duration": 8.234626,
     "end_time": "2022-03-17T18:21:26.359173",
     "exception": false,
     "start_time": "2022-03-17T18:21:18.124547",
     "status": "completed"
    },
    "tags": []
   },
   "outputs": [],
   "source": [
    "# Read the data from the Cloud Storage \n",
    "data = connector.read_file('gs://ydata_testdata/tabular/mobile_network/data.csv', file_type = FileType.CSV)\n",
    "final_df = data.to_pandas()"
   ]
  },
  {
   "cell_type": "markdown",
   "id": "87f86ded-8c03-46a9-8531-a05e619de2bd",
   "metadata": {},
   "source": [
    "## 2 - Store Data \n",
    "\n",
    "Make the data available for the next steps storing it locally with YData's Local Connector. "
   ]
  },
  {
   "cell_type": "code",
   "execution_count": 4,
   "id": "2c1c3e0f-113c-4368-b465-edb0aaddffb9",
   "metadata": {
    "execution": {
     "iopub.execute_input": "2022-03-17T18:21:26.371435Z",
     "iopub.status.busy": "2022-03-17T18:21:26.371206Z",
     "iopub.status.idle": "2022-03-17T18:21:26.672461Z",
     "shell.execute_reply": "2022-03-17T18:21:26.671721Z"
    },
    "papermill": {
     "duration": 0.310014,
     "end_time": "2022-03-17T18:21:26.674611",
     "exception": false,
     "start_time": "2022-03-17T18:21:26.364597",
     "status": "completed"
    },
    "tags": []
   },
   "outputs": [
    {
     "name": "stderr",
     "output_type": "stream",
     "text": [
      "/opt/conda/lib/python3.7/site-packages/distributed/client.py:1265: VersionMismatchWarning: Mismatched versions found\n",
      "\n",
      "+---------+----------------+----------------+----------------+\n",
      "| Package | client         | scheduler      | workers        |\n",
      "+---------+----------------+----------------+----------------+\n",
      "| python  | 3.7.11.final.0 | 3.7.10.final.0 | 3.7.10.final.0 |\n",
      "+---------+----------------+----------------+----------------+\n",
      "  warnings.warn(version_module.VersionMismatchWarning(msg[0][\"warning\"]))\n"
     ]
    }
   ],
   "source": [
    "local_connector = LocalConnector()\n",
    "local_connector.write_file(data=final_df, path='data.csv', index=False)"
   ]
  },
  {
   "cell_type": "markdown",
   "id": "03e61a5c-426b-4d73-a486-1d07b1215dbd",
   "metadata": {},
   "source": [
    "## 3 - Create Artifacts \n",
    "\n",
    "Create the artifact to show the downloaded data on the platform's pipeline. "
   ]
  },
  {
   "cell_type": "code",
   "execution_count": 5,
   "id": "24d5a3d7-c058-4d04-99f5-feec8d5a4838",
   "metadata": {
    "execution": {
     "iopub.execute_input": "2022-03-17T18:21:26.687398Z",
     "iopub.status.busy": "2022-03-17T18:21:26.686762Z",
     "iopub.status.idle": "2022-03-17T18:21:26.934853Z",
     "shell.execute_reply": "2022-03-17T18:21:26.934111Z"
    },
    "papermill": {
     "duration": 0.25676,
     "end_time": "2022-03-17T18:21:26.936886",
     "exception": false,
     "start_time": "2022-03-17T18:21:26.680126",
     "status": "completed"
    },
    "tags": []
   },
   "outputs": [],
   "source": [
    "# Here we create the visualization of the table. This is the metadata that kubeflows need to show some lines of the dataset.\n",
    "import json\n",
    "\n",
    "metadata = {\n",
    "    'outputs' : [{\n",
    "      'type': 'table',\n",
    "      'storage': 'inline',\n",
    "      'format': 'csv',\n",
    "      'header': list(final_df.columns),\n",
    "      'source': final_df.to_csv(header=False, index=False)\n",
    "    }]\n",
    "  }\n",
    "\n",
    "with open(\"mlpipeline-ui-metadata.json\", 'w') as metadata_file:\n",
    "    json.dump(metadata, metadata_file)"
   ]
  }
 ],
 "metadata": {
  "kernelspec": {
   "display_name": "Python 3 (ipykernel)",
   "language": "python",
   "name": "python3"
  },
  "language_info": {
   "codemirror_mode": {
    "name": "ipython",
    "version": 3
   },
   "file_extension": ".py",
   "mimetype": "text/x-python",
   "name": "python",
   "nbconvert_exporter": "python",
   "pygments_lexer": "ipython3",
   "version": "3.7.11"
  },
  "papermill": {
   "default_parameters": {},
   "duration": 12.012699,
   "end_time": "2022-03-17T18:21:27.579021",
   "environment_variables": {},
   "exception": null,
   "input_path": "/home/ydata/read_data.ipynb",
   "output_path": "/home/ydata/read_data.ipynb",
   "parameters": {},
   "start_time": "2022-03-17T18:21:15.566322",
   "version": "2.3.4"
  }
 },
 "nbformat": 4,
 "nbformat_minor": 5
}
