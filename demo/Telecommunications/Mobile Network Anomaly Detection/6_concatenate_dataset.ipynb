{
 "cells": [
  {
   "cell_type": "markdown",
   "id": "d7e65ae7-657f-4ab7-b6a8-e052f8a05da0",
   "metadata": {
    "papermill": {
     "duration": 1.48039,
     "end_time": "2022-03-17T18:24:07.795654",
     "exception": false,
     "start_time": "2022-03-17T18:24:06.315264",
     "status": "completed"
    },
    "tags": []
   },
   "source": [
    "# Concatenate Data"
   ]
  },
  {
   "cell_type": "markdown",
   "id": "9cf2a3ca-5eb8-492d-b2a4-eb2bcc0cedcf",
   "metadata": {},
   "source": [
    "## 0 - Imports "
   ]
  },
  {
   "cell_type": "code",
   "execution_count": null,
   "id": "7d82bfa3-caea-4a5b-a61b-ea160d5bb9c9",
   "metadata": {},
   "outputs": [],
   "source": [
    "from pandas import concat\n",
    "from ydata.connectors import LocalConnector\n",
    "from ydata.connectors.filetype import FileType"
   ]
  },
  {
   "cell_type": "markdown",
   "id": "3e1b10d3-06ac-4e25-9f75-2d62edd0615d",
   "metadata": {},
   "source": [
    "## 1 - Load Data"
   ]
  },
  {
   "cell_type": "code",
   "execution_count": 2,
   "id": "991513f6-2190-433b-b9f7-90496221b05d",
   "metadata": {
    "papermill": {
     "duration": 14.785363,
     "end_time": "2022-03-17T18:24:22.584470",
     "exception": false,
     "start_time": "2022-03-17T18:24:07.799107",
     "status": "completed"
    },
    "tags": []
   },
   "outputs": [],
   "source": [
    "# Initialize the YData's connector\n",
    "connector = LocalConnector()\n",
    "\n",
    "data_processed = connector.read_file('data_processed.csv', file_type=FileType.CSV).to_pandas()\n",
    "data_sampled = connector.read_file('data_sampled.csv', file_type=FileType.CSV).to_pandas()"
   ]
  },
  {
   "cell_type": "markdown",
   "id": "caf0e816-2c39-4522-8def-19dc1911fbba",
   "metadata": {},
   "source": [
    "## 2 - Concatenate "
   ]
  },
  {
   "cell_type": "code",
   "execution_count": 3,
   "id": "9b487920-7e12-4550-a818-fb67aa7cf7a4",
   "metadata": {
    "papermill": {
     "duration": 0.397533,
     "end_time": "2022-03-17T18:24:22.989066",
     "exception": false,
     "start_time": "2022-03-17T18:24:22.591533",
     "status": "completed"
    },
    "tags": []
   },
   "outputs": [],
   "source": [
    "# Concatenate syntheized data and original data\n",
    "data_augmented = concat([data_processed, data_sampled])\n",
    "\n",
    "connector.write_file(data= data_augmented, path='data_augmented.csv', index=False)"
   ]
  }
 ],
 "metadata": {
  "kernelspec": {
   "display_name": "Python 3 (ipykernel)",
   "language": "python",
   "name": "python3"
  },
  "language_info": {
   "codemirror_mode": {
    "name": "ipython",
    "version": 3
   },
   "file_extension": ".py",
   "mimetype": "text/x-python",
   "name": "python",
   "nbconvert_exporter": "python",
   "pygments_lexer": "ipython3",
   "version": "3.7.11"
  },
  "papermill": {
   "default_parameters": {},
   "duration": 18.714371,
   "end_time": "2022-03-17T18:24:23.927598",
   "environment_variables": {},
   "exception": null,
   "input_path": "/home/ydata/concatenate_dataset.ipynb",
   "output_path": "/home/ydata/concatenate_dataset.ipynb",
   "parameters": {},
   "start_time": "2022-03-17T18:24:05.213227",
   "version": "2.3.4"
  }
 },
 "nbformat": 4,
 "nbformat_minor": 5
}
