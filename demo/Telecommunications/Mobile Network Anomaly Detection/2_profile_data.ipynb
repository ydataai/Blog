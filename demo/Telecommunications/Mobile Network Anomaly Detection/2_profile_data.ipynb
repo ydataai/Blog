{
 "cells": [
  {
   "cell_type": "markdown",
   "id": "fec0aca2-d195-45f3-9555-b236b6c1e6dc",
   "metadata": {
    "jupyter": {
     "outputs_hidden": true
    },
    "tags": []
   },
   "source": [
    "# Profile Data \n",
    "\n",
    "Data Profiling through YData's Pandas Profiling. "
   ]
  },
  {
   "cell_type": "markdown",
   "id": "79c5a7ad-eee7-49f8-a44d-56bfc5195a84",
   "metadata": {},
   "source": [
    "## 0 - Setup "
   ]
  },
  {
   "cell_type": "markdown",
   "id": "ed7280ec-f3f7-4f99-ae07-d2bbd9ab74cd",
   "metadata": {},
   "source": [
    "### 0.1 - Package"
   ]
  },
  {
   "cell_type": "code",
   "execution_count": 1,
   "id": "9a3ff9ee-4e2c-4038-a998-b948687da47a",
   "metadata": {},
   "outputs": [],
   "source": [
    "%%capture \n",
    "!pip install pandas-profiling-master.zip"
   ]
  },
  {
   "cell_type": "markdown",
   "id": "b0b82b45-a159-435e-b448-b2663d3140b1",
   "metadata": {},
   "source": [
    "### 0.2 - Imports "
   ]
  },
  {
   "cell_type": "code",
   "execution_count": 2,
   "id": "850f9298-4466-4098-b9e7-ba0ef5db465f",
   "metadata": {},
   "outputs": [
    {
     "name": "stderr",
     "output_type": "stream",
     "text": [
      "/opt/conda/lib/python3.7/site-packages/dask_gateway/client.py:21: FutureWarning: format_bytes is deprecated and will be removed in a future release. Please use dask.utils.format_bytes instead.\n",
      "  from distributed.utils import LoopRunner, format_bytes\n"
     ]
    }
   ],
   "source": [
    "from pandas_profiling import ProfileReport\n",
    "from ydata.connectors import LocalConnector\n",
    "from ydata.connectors.filetype import FileType\n",
    "from ydata.utils.formats import read_json"
   ]
  },
  {
   "cell_type": "markdown",
   "id": "b7972c4e-8860-438c-a950-aa3c2138f348",
   "metadata": {},
   "source": [
    "## 1 - Load Data"
   ]
  },
  {
   "cell_type": "code",
   "execution_count": 3,
   "id": "fed0d3f4-2c07-4373-8e54-8706158538f5",
   "metadata": {},
   "outputs": [],
   "source": [
    "# Read data\n",
    "connector = LocalConnector()\n",
    "\n",
    "df = connector.read_file('data.csv')"
   ]
  },
  {
   "cell_type": "markdown",
   "id": "f79063fc-fc80-45ef-86ac-ec1520cfaa3f",
   "metadata": {},
   "source": [
    "## 2 - Profile Data"
   ]
  },
  {
   "cell_type": "code",
   "execution_count": 4,
   "id": "3c788bac-d400-426e-8008-cb60398d4de7",
   "metadata": {
    "tags": []
   },
   "outputs": [],
   "source": [
    "profile = ProfileReport(df.to_pandas(), title=\"Network Mobile\", ydata_mode=True)"
   ]
  },
  {
   "cell_type": "markdown",
   "id": "4975c0d8-5896-4e90-b404-b21333036f17",
   "metadata": {},
   "source": [
    "## 3 - Create Artifacts "
   ]
  },
  {
   "cell_type": "code",
   "execution_count": 5,
   "id": "b95330e6-e81d-4cad-b015-041f5ac205c2",
   "metadata": {
    "collapsed": true,
    "jupyter": {
     "outputs_hidden": true
    },
    "tags": []
   },
   "outputs": [
    {
     "data": {
      "application/vnd.jupyter.widget-view+json": {
       "model_id": "036fed30674341b7936a371e43722a4f",
       "version_major": 2,
       "version_minor": 0
      },
      "text/plain": [
       "HBox(children=(FloatProgress(value=0.0, description='Summarize dataset', max=24.0, style=ProgressStyle(descrip…"
      ]
     },
     "metadata": {},
     "output_type": "display_data"
    },
    {
     "name": "stdout",
     "output_type": "stream",
     "text": [
      "\n"
     ]
    },
    {
     "data": {
      "application/vnd.jupyter.widget-view+json": {
       "model_id": "426377bded454c7e89c357f80ce0dfe8",
       "version_major": 2,
       "version_minor": 0
      },
      "text/plain": [
       "HBox(children=(FloatProgress(value=0.0, description='Generate report structure', max=1.0, style=ProgressStyle(…"
      ]
     },
     "metadata": {},
     "output_type": "display_data"
    },
    {
     "name": "stdout",
     "output_type": "stream",
     "text": [
      "\n"
     ]
    },
    {
     "data": {
      "application/vnd.jupyter.widget-view+json": {
       "model_id": "8088769ca079408e9c0dfb07c5b8094f",
       "version_major": 2,
       "version_minor": 0
      },
      "text/plain": [
       "HBox(children=(FloatProgress(value=0.0, description='Render HTML', max=1.0, style=ProgressStyle(description_wi…"
      ]
     },
     "metadata": {},
     "output_type": "display_data"
    },
    {
     "name": "stdout",
     "output_type": "stream",
     "text": [
      "\n"
     ]
    },
    {
     "name": "stderr",
     "output_type": "stream",
     "text": [
      "distributed.client - ERROR - Failed to reconnect to scheduler after 30.00 seconds, closing client\n"
     ]
    }
   ],
   "source": [
    "import json\n",
    "# Artifact \n",
    "metadata = {\n",
    "    'outputs' : [{\n",
    "      'type': 'web-app',\n",
    "      'storage': 'inline',\n",
    "      'source': profile.to_html(),\n",
    "    }]\n",
    "  }\n",
    "\n",
    "with open('mlpipeline-ui-metadata.json', 'w') as metadata_file:\n",
    "    json.dump(metadata, metadata_file)"
   ]
  }
 ],
 "metadata": {
  "kernelspec": {
   "display_name": "Python 3 (ipykernel)",
   "language": "python",
   "name": "python3"
  },
  "language_info": {
   "codemirror_mode": {
    "name": "ipython",
    "version": 3
   },
   "file_extension": ".py",
   "mimetype": "text/x-python",
   "name": "python",
   "nbconvert_exporter": "python",
   "pygments_lexer": "ipython3",
   "version": "3.7.11"
  }
 },
 "nbformat": 4,
 "nbformat_minor": 5
}
