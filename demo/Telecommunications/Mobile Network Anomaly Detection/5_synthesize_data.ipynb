{
 "cells": [
  {
   "cell_type": "markdown",
   "id": "4976c60a-db0e-46b8-b8cc-61f4edf4ab15",
   "metadata": {
    "papermill": {
     "duration": 2.27968,
     "end_time": "2022-03-17T18:23:27.847869",
     "exception": false,
     "start_time": "2022-03-17T18:23:25.568189",
     "status": "completed"
    },
    "tags": []
   },
   "source": [
    "# Synthesize Data "
   ]
  },
  {
   "cell_type": "markdown",
   "id": "923bd7b6-5274-401b-8b51-a1bdf139f64a",
   "metadata": {},
   "source": [
    "## 0 - Setup"
   ]
  },
  {
   "cell_type": "markdown",
   "id": "28cdad08-ac1e-4b3b-9236-c40201ad6472",
   "metadata": {},
   "source": [
    "### 0.1 - Packages "
   ]
  },
  {
   "cell_type": "code",
   "execution_count": null,
   "id": "8dbbf7e4-bd2c-45d5-9c7a-af2c321c3380",
   "metadata": {},
   "outputs": [],
   "source": [
    "from numpy import repeat\n",
    "from ydata.synthesizers.regular import RegularSynthesizer\n",
    "from ydata.connectors import LocalConnector\n",
    "from ydata.connectors.filetype import FileType"
   ]
  },
  {
   "cell_type": "markdown",
   "id": "6ed1c6a9-5215-4b8d-ae1b-6d6babe3d152",
   "metadata": {},
   "source": [
    "## 1 - Load Data"
   ]
  },
  {
   "cell_type": "code",
   "execution_count": 2,
   "id": "11a89a2b-ba74-4b0d-acbf-20edb67ea7ac",
   "metadata": {
    "papermill": {
     "duration": 17.939621,
     "end_time": "2022-03-17T18:23:45.795285",
     "exception": false,
     "start_time": "2022-03-17T18:23:27.855664",
     "status": "completed"
    },
    "tags": []
   },
   "outputs": [],
   "source": [
    "# Read the data (Only if you want to train a new network)\n",
    "# Initialize the YData's connector\n",
    "connector = LocalConnector()\n",
    "\n",
    "# Read the data\n",
    "data = connector.read_file('data_processed.csv', file_type = FileType.CSV)"
   ]
  },
  {
   "cell_type": "markdown",
   "id": "27b573cb-05d3-427a-996a-450fe888e1b6",
   "metadata": {},
   "source": [
    "## 2 - Synthesization "
   ]
  },
  {
   "cell_type": "markdown",
   "id": "47d07bff-1eab-4218-94f7-76834cc2a192",
   "metadata": {},
   "source": [
    "### 2.1 - Train the Synthesizer "
   ]
  },
  {
   "cell_type": "code",
   "execution_count": 3,
   "id": "aa20bc19-e4ce-4620-bcf4-2b2f8d751905",
   "metadata": {
    "papermill": {
     "duration": 0.014127,
     "end_time": "2022-03-17T18:23:45.816875",
     "exception": false,
     "start_time": "2022-03-17T18:23:45.802748",
     "status": "completed"
    },
    "tags": []
   },
   "outputs": [],
   "source": [
    "# Initialize and Load an alerady trained Synthesizer.\n",
    "network_synth = RegularSynthesizer(filter_outliers=False)\n",
    "#network_synth = network_synth.load('trained_model.pkl')\n",
    "network_synth.fit(data)\n",
    "network_synth.save('trained_model_v2.pkl')"
   ]
  },
  {
   "cell_type": "markdown",
   "id": "d5f96c34-8581-4bf9-9acc-c41461c02122",
   "metadata": {
    "papermill": {
     "duration": 11.006167,
     "end_time": "2022-03-17T18:23:56.828136",
     "exception": false,
     "start_time": "2022-03-17T18:23:45.821969",
     "status": "completed"
    },
    "tags": []
   },
   "source": [
    "### 2.2 - Sample Data "
   ]
  },
  {
   "cell_type": "code",
   "execution_count": 8,
   "id": "bf82ae37-892f-4697-8e43-57e1ca2a5ace",
   "metadata": {
    "papermill": {
     "duration": 7.321018,
     "end_time": "2022-03-17T18:24:04.156237",
     "exception": false,
     "start_time": "2022-03-17T18:23:56.835219",
     "status": "completed"
    },
    "tags": []
   },
   "outputs": [
    {
     "name": "stdout",
     "output_type": "stream",
     "text": [
      "INFO: 2022-03-17 18:27:44,163 [SYNTHESIZER] - Start generating model samples.\n"
     ]
    }
   ],
   "source": [
    "# Create the samples and flag them.\n",
    "synth_sample = network_synth.sample(5000).to_pandas()\n",
    "\n",
    "# Flag the created samples and assign columns \n",
    "synth_sample.index = repeat(999999, len(synth_sample))\n",
    "synth_sample.columns = data.to_pandas().columns"
   ]
  },
  {
   "cell_type": "markdown",
   "id": "6b1ad41b-a5f5-49ad-8620-f7205d5a32c3",
   "metadata": {
    "papermill": {
     "duration": 0.123866,
     "end_time": "2022-03-17T18:24:04.288862",
     "exception": false,
     "start_time": "2022-03-17T18:24:04.164996",
     "status": "completed"
    },
    "tags": []
   },
   "source": [
    "### 3 - Store Data "
   ]
  },
  {
   "cell_type": "code",
   "execution_count": 10,
   "id": "7e65a3ed-f5fc-4457-873d-09ef4849ee72",
   "metadata": {
    "papermill": {
     "duration": 0.045764,
     "end_time": "2022-03-17T18:24:04.342584",
     "exception": false,
     "start_time": "2022-03-17T18:24:04.296820",
     "status": "completed"
    },
    "tags": []
   },
   "outputs": [],
   "source": [
    "connector.write_file(data= synth_sample, path='data_sampled.csv', index=False)"
   ]
  }
 ],
 "metadata": {
  "kernelspec": {
   "display_name": "Python 3 (ipykernel)",
   "language": "python",
   "name": "python3"
  },
  "language_info": {
   "codemirror_mode": {
    "name": "ipython",
    "version": 3
   },
   "file_extension": ".py",
   "mimetype": "text/x-python",
   "name": "python",
   "nbconvert_exporter": "python",
   "pygments_lexer": "ipython3",
   "version": "3.7.11"
  },
  "papermill": {
   "default_parameters": {},
   "duration": 40.730949,
   "end_time": "2022-03-17T18:24:05.175254",
   "environment_variables": {},
   "exception": null,
   "input_path": "/home/ydata/synthesize_data.ipynb",
   "output_path": "/home/ydata/synthesize_data.ipynb",
   "parameters": {},
   "start_time": "2022-03-17T18:23:24.444305",
   "version": "2.3.4"
  }
 },
 "nbformat": 4,
 "nbformat_minor": 5
}
