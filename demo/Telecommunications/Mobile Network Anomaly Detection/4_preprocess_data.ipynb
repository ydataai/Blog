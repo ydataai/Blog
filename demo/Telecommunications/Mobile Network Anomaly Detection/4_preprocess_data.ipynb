{
 "cells": [
  {
   "cell_type": "markdown",
   "id": "6ce04436-358b-4b53-a942-dbf0472abb63",
   "metadata": {
    "execution": {
     "iopub.execute_input": "2022-03-17T18:23:04.814760Z",
     "iopub.status.busy": "2022-03-17T18:23:04.812935Z",
     "iopub.status.idle": "2022-03-17T18:23:06.176237Z",
     "shell.execute_reply": "2022-03-17T18:23:06.175358Z"
    },
    "papermill": {
     "duration": 1.372311,
     "end_time": "2022-03-17T18:23:06.179211",
     "exception": false,
     "start_time": "2022-03-17T18:23:04.806900",
     "status": "completed"
    },
    "tags": []
   },
   "source": [
    "# Preprocess Data"
   ]
  },
  {
   "cell_type": "markdown",
   "id": "6c3fb6d6-5646-41c4-a6e1-5348356a3006",
   "metadata": {},
   "source": [
    "# 0 - Setup"
   ]
  },
  {
   "cell_type": "markdown",
   "id": "1bdd316f-3613-4c9b-8070-c49d10c5584a",
   "metadata": {},
   "source": [
    "### 0.1 Packages "
   ]
  },
  {
   "cell_type": "code",
   "execution_count": null,
   "id": "c85ea6aa-8d55-4df5-8cf9-73fa5d406fb6",
   "metadata": {},
   "outputs": [],
   "source": [
    "from ydata.connectors import LocalConnector\n",
    "from ydata.connectors.filetype import FileType\n",
    "from ydata.utils.formats import read_json"
   ]
  },
  {
   "cell_type": "markdown",
   "id": "de17f65e-ae29-4d6f-808f-2fd3333dc2e8",
   "metadata": {},
   "source": [
    "## 1 - Load Data"
   ]
  },
  {
   "cell_type": "code",
   "execution_count": 2,
   "id": "f57fd320-87b3-4227-82ad-cae3549cd6bf",
   "metadata": {
    "execution": {
     "iopub.execute_input": "2022-03-17T18:23:06.188512Z",
     "iopub.status.busy": "2022-03-17T18:23:06.187912Z",
     "iopub.status.idle": "2022-03-17T18:23:23.536636Z",
     "shell.execute_reply": "2022-03-17T18:23:23.535584Z"
    },
    "papermill": {
     "duration": 17.355855,
     "end_time": "2022-03-17T18:23:23.538943",
     "exception": false,
     "start_time": "2022-03-17T18:23:06.183088",
     "status": "completed"
    },
    "tags": []
   },
   "outputs": [],
   "source": [
    "# Initialize the YData's connector\n",
    "connector = LocalConnector()\n",
    "\n",
    "# Read the data \n",
    "data = connector.read_file('data.csv', file_type = FileType.CSV).to_pandas()"
   ]
  },
  {
   "cell_type": "markdown",
   "id": "7d1f6076-0e29-4aee-994e-76dce3e3ee58",
   "metadata": {},
   "source": [
    "## 2 - Data Processing "
   ]
  },
  {
   "cell_type": "code",
   "execution_count": 3,
   "id": "08df7e54-0d69-49b5-a8b9-de9f9c55fdee",
   "metadata": {
    "execution": {
     "iopub.execute_input": "2022-03-17T18:23:23.548734Z",
     "iopub.status.busy": "2022-03-17T18:23:23.548427Z",
     "iopub.status.idle": "2022-03-17T18:23:23.584208Z",
     "shell.execute_reply": "2022-03-17T18:23:23.582982Z"
    },
    "papermill": {
     "duration": 0.044057,
     "end_time": "2022-03-17T18:23:23.586934",
     "exception": false,
     "start_time": "2022-03-17T18:23:23.542877",
     "status": "completed"
    },
    "tags": []
   },
   "outputs": [],
   "source": [
    "# Do the little preprocessing\n",
    "data.drop_duplicates(inplace=True)\n",
    "data.drop(['meanUE_DL', 'maxUE_DL', 'maxUE_UL'], axis=1, inplace=True)"
   ]
  },
  {
   "cell_type": "markdown",
   "id": "04e5c28d-9581-481f-8373-02ad241184d5",
   "metadata": {},
   "source": [
    "## 3 - Store Data "
   ]
  },
  {
   "cell_type": "code",
   "execution_count": 4,
   "id": "296db964-0f59-486f-a010-59cadfc7d960",
   "metadata": {
    "execution": {
     "iopub.execute_input": "2022-03-17T18:23:23.595779Z",
     "iopub.status.busy": "2022-03-17T18:23:23.595475Z",
     "iopub.status.idle": "2022-03-17T18:23:23.801070Z",
     "shell.execute_reply": "2022-03-17T18:23:23.800203Z"
    },
    "papermill": {
     "duration": 0.212691,
     "end_time": "2022-03-17T18:23:23.803413",
     "exception": false,
     "start_time": "2022-03-17T18:23:23.590722",
     "status": "completed"
    },
    "tags": []
   },
   "outputs": [],
   "source": [
    "# Output the changed data\n",
    "\n",
    "connector.write_file(data=data, path='data_processed.csv', index=False)"
   ]
  }
 ],
 "metadata": {
  "kernelspec": {
   "display_name": "Python 3 (ipykernel)",
   "language": "python",
   "name": "python3"
  },
  "language_info": {
   "codemirror_mode": {
    "name": "ipython",
    "version": 3
   },
   "file_extension": ".py",
   "mimetype": "text/x-python",
   "name": "python",
   "nbconvert_exporter": "python",
   "pygments_lexer": "ipython3",
   "version": "3.7.11"
  },
  "papermill": {
   "default_parameters": {},
   "duration": 20.586152,
   "end_time": "2022-03-17T18:23:24.428644",
   "environment_variables": {},
   "exception": null,
   "input_path": "/home/ydata/preprocess_data.ipynb",
   "output_path": "/home/ydata/preprocess_data.ipynb",
   "parameters": {},
   "start_time": "2022-03-17T18:23:03.842492",
   "version": "2.3.4"
  }
 },
 "nbformat": 4,
 "nbformat_minor": 5
}
