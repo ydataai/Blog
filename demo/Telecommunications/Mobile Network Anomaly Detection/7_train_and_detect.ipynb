{
 "cells": [
  {
   "cell_type": "markdown",
   "id": "7bea8e98-849a-4d7f-b33a-36c02d0c10f8",
   "metadata": {
    "papermill": {
     "duration": 0.828085,
     "end_time": "2022-03-17T18:24:26.131174",
     "exception": false,
     "start_time": "2022-03-17T18:24:25.303089",
     "status": "completed"
    },
    "tags": []
   },
   "source": [
    "# Anomaly Detection "
   ]
  },
  {
   "cell_type": "markdown",
   "id": "e4c664db-ee7d-4c77-bbf4-6dcbe5a424ed",
   "metadata": {},
   "source": [
    "## 0 - Imports"
   ]
  },
  {
   "cell_type": "code",
   "execution_count": 1,
   "id": "a3de3bf7-cad0-4f28-9b74-9116b1ea987a",
   "metadata": {},
   "outputs": [],
   "source": [
    "%%capture\n",
    "import json\n",
    "from sklearn.tree import DecisionTreeClassifier\n",
    "from sklearn.model_selection import train_test_split\n",
    "from sklearn.metrics import accuracy_score, f1_score\n",
    "\n",
    "# Proprietary \n",
    "from ydata.connectors import LocalConnector\n",
    "from ydata.connectors.filetype import FileType"
   ]
  },
  {
   "cell_type": "markdown",
   "id": "4b2f4dc7-fe0a-48e7-b845-2572e54a27d9",
   "metadata": {
    "papermill": {
     "duration": 1.764324,
     "end_time": "2022-03-17T18:24:27.903593",
     "exception": false,
     "start_time": "2022-03-17T18:24:26.139269",
     "status": "completed"
    },
    "tags": []
   },
   "source": [
    "## 1 - Load Data "
   ]
  },
  {
   "cell_type": "code",
   "execution_count": 2,
   "id": "96686440-06ce-43e5-a5f1-8c2d343536d1",
   "metadata": {
    "papermill": {
     "duration": 16.171069,
     "end_time": "2022-03-17T18:24:44.080776",
     "exception": false,
     "start_time": "2022-03-17T18:24:27.909707",
     "status": "completed"
    },
    "tags": []
   },
   "outputs": [],
   "source": [
    "# Initialize connector and read data\n",
    "connector = LocalConnector()\n",
    "\n",
    "# Read the data. Augumented and original\n",
    "aug_df = connector.read_file('data_augmented.csv', file_type = FileType.CSV).to_pandas()\n",
    "orig_df = connector.read_file('data_processed.csv', file_type = FileType.CSV).to_pandas()"
   ]
  },
  {
   "cell_type": "markdown",
   "id": "1249d8aa-4ff6-43e5-bf5e-c127c12ac445",
   "metadata": {},
   "source": [
    "## 2 - Classification "
   ]
  },
  {
   "cell_type": "markdown",
   "id": "41a4abd2-b72f-4858-8966-9d57c815e2e2",
   "metadata": {},
   "source": [
    "### 2.1 - Split the Data "
   ]
  },
  {
   "cell_type": "code",
   "execution_count": null,
   "id": "296338ef-1b57-450b-8eed-964ff4592e3d",
   "metadata": {},
   "outputs": [],
   "source": [
    "# Split the data into train and test\n",
    "x_train, x_test = train_test_split(orig_df)\n",
    "x_train_augmented = aug_df.drop(x_test.index)"
   ]
  },
  {
   "cell_type": "markdown",
   "id": "35fade63-f663-4595-aedc-0834c6002134",
   "metadata": {},
   "source": [
    "### 2.2 - Model Training "
   ]
  },
  {
   "cell_type": "code",
   "execution_count": 4,
   "id": "8189246b-c31a-4f98-a967-c14907be08a1",
   "metadata": {
    "papermill": {
     "duration": 0.024656,
     "end_time": "2022-03-17T18:24:44.124454",
     "exception": false,
     "start_time": "2022-03-17T18:24:44.099798",
     "status": "completed"
    },
    "tags": []
   },
   "outputs": [],
   "source": [
    "# Create the DecisionTreeClassifier. One for the normal data and another for the augmented data.\n",
    "orig_tree_clf = DecisionTreeClassifier()\n",
    "aug_tree_clf = DecisionTreeClassifier()\n",
    "\n",
    "# Fit the model and predict\n",
    "orig_tree_clf.fit(x_train.drop('Unusual', axis=1), x_train['Unusual'])\n",
    "aug_tree_clf.fit(x_train_augmented.drop('Unusual', axis=1), x_train_augmented['Unusual'])"
   ]
  },
  {
   "cell_type": "markdown",
   "id": "ee3fef69-932d-4da2-a8e2-5b70cee0a723",
   "metadata": {},
   "source": [
    "### 2.3 - Predict "
   ]
  },
  {
   "cell_type": "code",
   "execution_count": 5,
   "id": "fe42647e-cda7-42be-a2d3-de31087255ad",
   "metadata": {
    "papermill": {
     "duration": 0.497445,
     "end_time": "2022-03-17T18:24:44.628064",
     "exception": false,
     "start_time": "2022-03-17T18:24:44.130619",
     "status": "completed"
    },
    "tags": []
   },
   "outputs": [],
   "source": [
    "preds = orig_tree_clf.predict(x_test.drop('Unusual', axis=1))\n",
    "aug_preds = aug_tree_clf.predict(x_test.drop('Unusual', axis=1))"
   ]
  },
  {
   "cell_type": "markdown",
   "id": "73615fe9-0c31-4115-a76d-56fe0c51daeb",
   "metadata": {},
   "source": [
    "### 2.4 - Evaluate Predictions "
   ]
  },
  {
   "cell_type": "code",
   "execution_count": 6,
   "id": "71e7f74a-8d2a-4dc4-9bc8-983a0cc2b3d1",
   "metadata": {
    "papermill": {
     "duration": 0.022742,
     "end_time": "2022-03-17T18:24:44.657283",
     "exception": false,
     "start_time": "2022-03-17T18:24:44.634541",
     "status": "completed"
    },
    "tags": []
   },
   "outputs": [],
   "source": [
    "# Look at F1 score and Accuracy\n",
    "acc = accuracy_score(x_test['Unusual'].values, preds)\n",
    "f1 = f1_score(x_test['Unusual'].values, preds)\n",
    "aug_acc = accuracy_score(x_test['Unusual'].values, aug_preds)\n",
    "aug_f1 = f1_score(x_test['Unusual'].values, aug_preds)"
   ]
  },
  {
   "cell_type": "markdown",
   "id": "562eb8af-20ba-497d-b72c-19d70e9bfcc5",
   "metadata": {},
   "source": [
    "## 3 - Create Artifacts "
   ]
  },
  {
   "cell_type": "code",
   "execution_count": 7,
   "id": "4136fd2d-b3ed-496e-b6be-29a5f1773204",
   "metadata": {
    "papermill": {
     "duration": 0.014178,
     "end_time": "2022-03-17T18:24:44.677689",
     "exception": false,
     "start_time": "2022-03-17T18:24:44.663511",
     "status": "completed"
    },
    "tags": []
   },
   "outputs": [],
   "source": [
    "# Create Artifact. The table with the metrics will be shown on the \"Run Output\"  section of the \"Runs\". \n",
    "metrics = {\n",
    "    'metrics': [\n",
    "        {\n",
    "            'name': 'accuracy-score',\n",
    "            'numberValue':  acc,\n",
    "            'format': 'PERCENTAGE'\n",
    "        },\n",
    "        {\n",
    "            'name': 'f1-score',\n",
    "            'numberValue':  f1,\n",
    "            'format': 'PERCENTAGE'\n",
    "        },\n",
    "         {\n",
    "            'name': 'augmented-accuracy-score',\n",
    "            'numberValue':  aug_acc,\n",
    "            'format': 'PERCENTAGE'\n",
    "        },\n",
    "         {\n",
    "            'name': 'augmented-f1-score',\n",
    "            'numberValue':  aug_f1,\n",
    "            'format': 'PERCENTAGE'\n",
    "        }\n",
    "    ]\n",
    "  }\n",
    "\n",
    "with open(\"mlpipeline-metrics.json\", 'w') as f:\n",
    "    json.dump(metrics, f)"
   ]
  }
 ],
 "metadata": {
  "kernelspec": {
   "display_name": "Python 3 (ipykernel)",
   "language": "python",
   "name": "python3"
  },
  "language_info": {
   "codemirror_mode": {
    "name": "ipython",
    "version": 3
   },
   "file_extension": ".py",
   "mimetype": "text/x-python",
   "name": "python",
   "nbconvert_exporter": "python",
   "pygments_lexer": "ipython3",
   "version": "3.7.11"
  },
  "papermill": {
   "default_parameters": {},
   "duration": 21.458153,
   "end_time": "2022-03-17T18:24:45.412092",
   "environment_variables": {},
   "exception": null,
   "input_path": "/home/ydata/train_and_detect.ipynb",
   "output_path": "/home/ydata/train_and_detect.ipynb",
   "parameters": {},
   "start_time": "2022-03-17T18:24:23.953939",
   "version": "2.3.4"
  }
 },
 "nbformat": 4,
 "nbformat_minor": 5
}
