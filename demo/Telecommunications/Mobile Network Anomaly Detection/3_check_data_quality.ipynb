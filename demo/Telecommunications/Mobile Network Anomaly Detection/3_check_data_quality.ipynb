{
 "cells": [
  {
   "cell_type": "markdown",
   "id": "cfa2e00e-cd59-487b-ae37-2c39aa94c8a9",
   "metadata": {
    "jupyter": {
     "outputs_hidden": true
    },
    "tags": []
   },
   "source": [
    "# Data Quality Check \n",
    "\n",
    "Data quality assessment through YData's Quality package. "
   ]
  },
  {
   "cell_type": "markdown",
   "id": "bc9357c7-6096-4d2b-a900-289c40a0f7e8",
   "metadata": {},
   "source": [
    "## 0 - Setup"
   ]
  },
  {
   "cell_type": "markdown",
   "id": "8ef54b62-9072-4312-8d37-8abe04b30dc2",
   "metadata": {},
   "source": [
    "### 0.1 - Packages "
   ]
  },
  {
   "cell_type": "code",
   "execution_count": 1,
   "id": "2f866675-3c9c-4d02-9464-67398e4fecc1",
   "metadata": {},
   "outputs": [],
   "source": [
    "%%capture \n",
    "!pip install ydata-quality==0.1.0"
   ]
  },
  {
   "cell_type": "markdown",
   "id": "bfc85003-74c8-4422-bd18-cc1440e61072",
   "metadata": {},
   "source": [
    "### 0.2 - Imports"
   ]
  },
  {
   "cell_type": "code",
   "execution_count": 2,
   "id": "2c91cd08-1e11-41b0-a637-983568d0ff87",
   "metadata": {},
   "outputs": [
    {
     "name": "stderr",
     "output_type": "stream",
     "text": [
      "/opt/conda/lib/python3.7/site-packages/dask_gateway/client.py:21: FutureWarning: format_bytes is deprecated and will be removed in a future release. Please use dask.utils.format_bytes instead.\n",
      "  from distributed.utils import LoopRunner, format_bytes\n"
     ]
    }
   ],
   "source": [
    "from ydata.connectors import LocalConnector\n",
    "from ydata.connectors.filetype import FileType\n",
    "from ydata_quality import DataQuality"
   ]
  },
  {
   "cell_type": "markdown",
   "id": "d8603474-66f8-4794-b820-5baabaec1a93",
   "metadata": {},
   "source": [
    "## 1 - Load Data"
   ]
  },
  {
   "cell_type": "code",
   "execution_count": 2,
   "id": "cb790447-79e9-49bd-9584-72e034b6808e",
   "metadata": {},
   "outputs": [
    {
     "ename": "NameError",
     "evalue": "name 'LocalConnector' is not defined",
     "output_type": "error",
     "traceback": [
      "\u001b[0;31m---------------------------------------------------------------------------\u001b[0m",
      "\u001b[0;31mNameError\u001b[0m                                 Traceback (most recent call last)",
      "\u001b[0;32m/tmp/ipykernel_105/3860893333.py\u001b[0m in \u001b[0;36m<module>\u001b[0;34m\u001b[0m\n\u001b[1;32m      1\u001b[0m \u001b[0;31m# Initialize the YData's connector and load the data\u001b[0m\u001b[0;34m\u001b[0m\u001b[0;34m\u001b[0m\u001b[0;34m\u001b[0m\u001b[0m\n\u001b[0;32m----> 2\u001b[0;31m \u001b[0mconnector\u001b[0m \u001b[0;34m=\u001b[0m \u001b[0mLocalConnector\u001b[0m\u001b[0;34m(\u001b[0m\u001b[0;34m)\u001b[0m\u001b[0;34m\u001b[0m\u001b[0;34m\u001b[0m\u001b[0m\n\u001b[0m\u001b[1;32m      3\u001b[0m \u001b[0;34m\u001b[0m\u001b[0m\n\u001b[1;32m      4\u001b[0m \u001b[0mdf\u001b[0m \u001b[0;34m=\u001b[0m \u001b[0mconnector\u001b[0m\u001b[0;34m.\u001b[0m\u001b[0mread_file\u001b[0m\u001b[0;34m(\u001b[0m\u001b[0;34m'data.csv'\u001b[0m\u001b[0;34m,\u001b[0m \u001b[0mfile_type\u001b[0m \u001b[0;34m=\u001b[0m \u001b[0mFileType\u001b[0m\u001b[0;34m.\u001b[0m\u001b[0mCSV\u001b[0m\u001b[0;34m)\u001b[0m\u001b[0;34m.\u001b[0m\u001b[0mto_pandas\u001b[0m\u001b[0;34m(\u001b[0m\u001b[0;34m)\u001b[0m\u001b[0;34m\u001b[0m\u001b[0;34m\u001b[0m\u001b[0m\n",
      "\u001b[0;31mNameError\u001b[0m: name 'LocalConnector' is not defined"
     ]
    }
   ],
   "source": [
    "# Initialize the YData's connector and load the data\n",
    "connector = LocalConnector()\n",
    "\n",
    "df = connector.read_file('data.csv', file_type = FileType.CSV).to_pandas()"
   ]
  },
  {
   "cell_type": "markdown",
   "id": "8c155609-0c4b-41fa-9af9-253bde932bdf",
   "metadata": {},
   "source": [
    "## 2 - Diagnose Data Quality"
   ]
  },
  {
   "cell_type": "code",
   "execution_count": 3,
   "id": "df392b86-2976-40b3-86eb-5f8178adffed",
   "metadata": {
    "tags": []
   },
   "outputs": [
    {
     "name": "stdout",
     "output_type": "stream",
     "text": [
      "\u001b[1mWarnings:\u001b[0m\n",
      "\tTOTAL: 3 warning(s)\n",
      "\t\u001b[1m\u001b[38;5;11mPriority 2\u001b[0m: 3 warning(s)\n",
      "\n",
      "\n",
      "\u001b[38;5;11m\u001b[1mPriority 2\u001b[0m - \u001b[1musage allowed, limited human intelligibility\u001b[0m:\n",
      "\t\u001b[38;5;11m*\u001b[0m \u001b[1m[DATA RELATIONS\u001b[0m - \u001b[4mCONFOUNDED CORRELATIONS]\u001b[0m \n",
      "                Found 7 independently correlated variable pairs that disappeared after controling                for the remaining variables. This is an indicator of potential confounder effects in the dataset.\n",
      "\t\u001b[38;5;11m*\u001b[0m \u001b[1m[DUPLICATES\u001b[0m - \u001b[4mEXACT DUPLICATES]\u001b[0m Found 219 instances with exact duplicate feature values.\n",
      "\t\u001b[38;5;11m*\u001b[0m \u001b[1m[DATA RELATIONS\u001b[0m - \u001b[4mHIGH COLLINEARITY - NUMERICAL]\u001b[0m Found 4 numerical variables with high Variance Inflation Factor (VIF>5.0). The variables listed in results are highly collinear with other variables in the dataset. These will make model explainability harder and potentially give way to issues like overfitting.Depending on your end goal you might want to remove the highest VIF variables.\n",
      "\n"
     ]
    }
   ],
   "source": [
    "\n",
    "# Create a DataQuality object from the main class that holds all quality modules\n",
    "dq = DataQuality(df=df)\n",
    "\n",
    "# Run the tests and outputs a summary of the quality tests\n",
    "results = dq.evaluate()"
   ]
  }
 ],
 "metadata": {
  "kernelspec": {
   "display_name": "Python 3 (ipykernel)",
   "language": "python",
   "name": "python3"
  },
  "language_info": {
   "codemirror_mode": {
    "name": "ipython",
    "version": 3
   },
   "file_extension": ".py",
   "mimetype": "text/x-python",
   "name": "python",
   "nbconvert_exporter": "python",
   "pygments_lexer": "ipython3",
   "version": "3.7.11"
  }
 },
 "nbformat": 4,
 "nbformat_minor": 5
}
