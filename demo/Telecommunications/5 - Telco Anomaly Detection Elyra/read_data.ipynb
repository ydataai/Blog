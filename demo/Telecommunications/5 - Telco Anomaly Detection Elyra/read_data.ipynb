{
 "cells": [
  {
   "cell_type": "code",
   "execution_count": 19,
   "id": "5049addd-2077-4b25-bcbc-f729a49d3c8e",
   "metadata": {},
   "outputs": [],
   "source": [
    "# Imports the packages that are needed\n",
    "import json\n",
    "from ydata.connectors import GCSConnector\n",
    "from ydata.connectors.filetype import FileType\n",
    "from ydata.utils.formats import read_json"
   ]
  },
  {
   "cell_type": "code",
   "execution_count": 20,
   "id": "e132737c-8e64-4b43-a859-b2f3783aee22",
   "metadata": {},
   "outputs": [
    {
     "name": "stderr",
     "output_type": "stream",
     "text": [
      "/opt/conda/lib/python3.7/site-packages/distributed/client.py:1128: VersionMismatchWarning: Mismatched versions found\n",
      "\n",
      "+---------+----------------+----------------+----------------+\n",
      "| Package | client         | scheduler      | workers        |\n",
      "+---------+----------------+----------------+----------------+\n",
      "| numpy   | 1.20.3         | 1.19.5         | 1.19.5         |\n",
      "| python  | 3.7.11.final.0 | 3.7.10.final.0 | 3.7.10.final.0 |\n",
      "+---------+----------------+----------------+----------------+\n",
      "  warnings.warn(version_module.VersionMismatchWarning(msg[0][\"warning\"]))\n"
     ]
    }
   ],
   "source": [
    "# Initialize the YData's connector \n",
    "token = read_json('gcs_credentials.json')\n",
    "connector = GCSConnector('ydatasynthetic', keyfile_dict=token)"
   ]
  },
  {
   "cell_type": "code",
   "execution_count": 21,
   "id": "7e5100b4-085e-4557-9e78-a4a5ad898a3c",
   "metadata": {},
   "outputs": [],
   "source": [
    "# Read the data from the Cloud Storage \n",
    "data = connector.read_file('gs://ydata_testdata/tabular/mobile_network/data.csv', file_type = FileType.CSV)"
   ]
  },
  {
   "cell_type": "code",
   "execution_count": 22,
   "id": "eae29b9a-865a-4fe3-be4d-e5f4bb187453",
   "metadata": {
    "tags": []
   },
   "outputs": [],
   "source": [
    "# Output the data. In the elyra pipeline, you need to output the data in order to let it be available for the next steps.\n",
    "final_df = data.to_pandas()\n",
    "final_df.to_csv('data.csv', index=False)"
   ]
  },
  {
   "cell_type": "code",
   "execution_count": 24,
   "id": "24d5a3d7-c058-4d04-99f5-feec8d5a4838",
   "metadata": {},
   "outputs": [],
   "source": [
    "# Here we create the visualization of the table. This is the metadata that kubeflows need to show some lines of the dataset.\n",
    "import json\n",
    "\n",
    "schema = [{\"name\": c, \"type\": \"NUMBER\" } for c in final_df.columns]\n",
    "\n",
    "metadata = {\n",
    "    'outputs' : [{\n",
    "      'type': 'table',\n",
    "      'storage': 'inline',\n",
    "      'format': 'csv',\n",
    "      'header': [x['name'] for x in schema],\n",
    "      'source': final_df.to_csv(header=False, index=False)\n",
    "    }]\n",
    "  }\n",
    "\n",
    "with open(\"mlpipeline-ui-metadata.json\", 'w') as metadata_file:\n",
    "    json.dump(metadata, metadata_file)"
   ]
  }
 ],
 "metadata": {
  "kernelspec": {
   "display_name": "Python 3 (ipykernel)",
   "language": "python",
   "name": "python3"
  },
  "language_info": {
   "codemirror_mode": {
    "name": "ipython",
    "version": 3
   },
   "file_extension": ".py",
   "mimetype": "text/x-python",
   "name": "python",
   "nbconvert_exporter": "python",
   "pygments_lexer": "ipython3",
   "version": "3.7.11"
  }
 },
 "nbformat": 4,
 "nbformat_minor": 5
}
