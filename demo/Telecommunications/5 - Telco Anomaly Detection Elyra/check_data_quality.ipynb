{
 "cells": [
  {
   "cell_type": "code",
   "execution_count": 1,
   "id": "6ae68d55-1b56-408e-8d6e-ed7fe45e9653",
   "metadata": {
    "collapsed": true,
    "jupyter": {
     "outputs_hidden": true
    },
    "tags": []
   },
   "outputs": [
    {
     "name": "stdout",
     "output_type": "stream",
     "text": [
      "Requirement already satisfied: ydata-quality==0.1.0 in /opt/conda/lib/python3.7/site-packages (0.1.0)\n",
      "Requirement already satisfied: pydantic==1.8.2 in /opt/conda/lib/python3.7/site-packages (from ydata-quality==0.1.0) (1.8.2)\n",
      "Requirement already satisfied: statsmodels==0.12.2 in /opt/conda/lib/python3.7/site-packages (from ydata-quality==0.1.0) (0.12.2)\n",
      "Requirement already satisfied: numpy==1.20.3 in /opt/conda/lib/python3.7/site-packages (from ydata-quality==0.1.0) (1.20.3)\n",
      "Requirement already satisfied: scikit-learn==0.24.2 in /opt/conda/lib/python3.7/site-packages (from ydata-quality==0.1.0) (0.24.2)\n",
      "Requirement already satisfied: pandas==1.2.* in /opt/conda/lib/python3.7/site-packages (from ydata-quality==0.1.0) (1.2.3)\n",
      "Requirement already satisfied: matplotlib==3.4.2 in /opt/conda/lib/python3.7/site-packages (from ydata-quality==0.1.0) (3.4.2)\n",
      "Requirement already satisfied: dython==0.6.7 in /opt/conda/lib/python3.7/site-packages (from ydata-quality==0.1.0) (0.6.7)\n",
      "Requirement already satisfied: seaborn in /opt/conda/lib/python3.7/site-packages (from dython==0.6.7->ydata-quality==0.1.0) (0.11.2)\n",
      "Requirement already satisfied: scipy in /opt/conda/lib/python3.7/site-packages (from dython==0.6.7->ydata-quality==0.1.0) (1.7.3)\n",
      "Requirement already satisfied: scikit-plot>=0.3.7 in /opt/conda/lib/python3.7/site-packages (from dython==0.6.7->ydata-quality==0.1.0) (0.3.7)\n",
      "Requirement already satisfied: python-dateutil>=2.7 in /opt/conda/lib/python3.7/site-packages (from matplotlib==3.4.2->ydata-quality==0.1.0) (2.8.2)\n",
      "Requirement already satisfied: cycler>=0.10 in /opt/conda/lib/python3.7/site-packages (from matplotlib==3.4.2->ydata-quality==0.1.0) (0.10.0)\n",
      "Requirement already satisfied: pyparsing>=2.2.1 in /opt/conda/lib/python3.7/site-packages (from matplotlib==3.4.2->ydata-quality==0.1.0) (2.4.7)\n",
      "Requirement already satisfied: kiwisolver>=1.0.1 in /opt/conda/lib/python3.7/site-packages (from matplotlib==3.4.2->ydata-quality==0.1.0) (1.3.2)\n",
      "Requirement already satisfied: pillow>=6.2.0 in /opt/conda/lib/python3.7/site-packages (from matplotlib==3.4.2->ydata-quality==0.1.0) (8.4.0)\n",
      "Requirement already satisfied: pytz>=2017.3 in /opt/conda/lib/python3.7/site-packages (from pandas==1.2.*->ydata-quality==0.1.0) (2021.3)\n",
      "Requirement already satisfied: typing-extensions>=3.7.4.3 in /opt/conda/lib/python3.7/site-packages (from pydantic==1.8.2->ydata-quality==0.1.0) (3.7.4.3)\n",
      "Requirement already satisfied: joblib>=0.11 in /opt/conda/lib/python3.7/site-packages (from scikit-learn==0.24.2->ydata-quality==0.1.0) (1.1.0)\n",
      "Requirement already satisfied: threadpoolctl>=2.0.0 in /opt/conda/lib/python3.7/site-packages (from scikit-learn==0.24.2->ydata-quality==0.1.0) (3.0.0)\n",
      "Requirement already satisfied: patsy>=0.5 in /opt/conda/lib/python3.7/site-packages (from statsmodels==0.12.2->ydata-quality==0.1.0) (0.5.2)\n",
      "Requirement already satisfied: six in /opt/conda/lib/python3.7/site-packages (from cycler>=0.10->matplotlib==3.4.2->ydata-quality==0.1.0) (1.15.0)\n",
      "\u001b[33mWARNING: You are using pip version 21.3.1; however, version 22.0.3 is available.\n",
      "You should consider upgrading via the '/opt/conda/bin/python -m pip install --upgrade pip' command.\u001b[0m\n"
     ]
    }
   ],
   "source": [
    "# Install the PyPI package of YData Quality\n",
    "!pip install ydata-quality==0.1.0"
   ]
  },
  {
   "cell_type": "code",
   "execution_count": 78,
   "id": "df392b86-2976-40b3-86eb-5f8178adffed",
   "metadata": {
    "tags": []
   },
   "outputs": [
    {
     "name": "stdout",
     "output_type": "stream",
     "text": [
      "\u001b[1mWarnings:\u001b[0m\n",
      "\tTOTAL: 2 warning(s)\n",
      "\t\u001b[1m\u001b[38;5;11mPriority 2\u001b[0m: 2 warning(s)\n",
      "\n",
      "\n",
      "\u001b[38;5;11m\u001b[1mPriority 2\u001b[0m - \u001b[1musage allowed, limited human intelligibility\u001b[0m:\n",
      "\t\u001b[38;5;11m*\u001b[0m \u001b[1m[DUPLICATES\u001b[0m - \u001b[4mEXACT DUPLICATES]\u001b[0m Found 219 instances with exact duplicate feature values.\n",
      "\t\u001b[38;5;11m*\u001b[0m \u001b[1m[DATA RELATIONS\u001b[0m - \u001b[4mHIGH COLLINEARITY - NUMERICAL]\u001b[0m Found 4 numerical variables with high Variance Inflation Factor (VIF>5.0). The variables listed in results are highly collinear with other variables in the dataset. These will make model explainability harder and potentially give way to issues like overfitting.Depending on your end goal you might want to remove the highest VIF variables.\n",
      "\n"
     ]
    }
   ],
   "source": [
    "from ydata_quality import DataQuality\n",
    "import pandas as pd\n",
    "\n",
    "#Load in the data\n",
    "df = pd.read_csv('data.csv')\n",
    "\n",
    "# Create a DataQuality object from the main class that holds all quality modules\n",
    "dq = DataQuality(df=df)\n",
    "\n",
    "# Run the tests and outputs a summary of the quality tests\n",
    "results = dq.evaluate()"
   ]
  },
  {
   "cell_type": "code",
   "execution_count": 115,
   "id": "bedc0e96-e9a3-4c89-b607-d6732b273189",
   "metadata": {},
   "outputs": [],
   "source": [
    "# As there is not direct possibility of printing the summary as visualization, this is the attempt of putting it as HTML.\n",
    "from collections import Counter \n",
    "from ydata_quality.core.warnings import WarningStyling\n",
    "\n",
    "prio_counts = Counter([warn.priority.value for warn in dq._warnings])\n",
    "text1 = (r'<b> Warnings: <\\b>')\n",
    "text2 = (rf'TOTAL: {len(dq._warnings)} warning(s)')\n",
    "for prio, count in prio_counts.items():\n",
    "    text3 = (rf\" <b> Priority {prio} <\\b> : {count} warning(s) \" )\n",
    "warns = [[warn for warn in dq._warnings if warn.priority.value == level] for level in range(4)]\n",
    "text5 = \"\"\n",
    "for warn_list in warns:\n",
    "    if len(warn_list) > 0:\n",
    "        text4 = (rf'{warn_list[0].priority}')\n",
    "    for warn in warn_list:\n",
    "        text5 = text5 + (rf\"{warn}\")\n",
    "text = text1+text2+text3+text4+text5"
   ]
  },
  {
   "cell_type": "code",
   "execution_count": 116,
   "id": "136077bf-6115-4431-980d-b506978623ea",
   "metadata": {},
   "outputs": [],
   "source": [
    "html_text= f\"<!DOCTYPE html><html><body>{text}</body></html>\""
   ]
  },
  {
   "cell_type": "code",
   "execution_count": 117,
   "id": "c58aac9d-a187-4b28-bddf-91dd428e343d",
   "metadata": {},
   "outputs": [
    {
     "data": {
      "text/plain": [
       "'<!DOCTYPE html><html><body><b> Warnings: <\\\\b>TOTAL: 2 warning(s) <b> Priority 2 <\\\\b> : 2 warning(s) \\x1b[38;5;11m\\x1b[1mPriority 2\\x1b[0m - \\x1b[1musage allowed, limited human intelligibility\\x1b[0m:\\x1b[38;5;11m*\\x1b[0m \\x1b[1m[DUPLICATES\\x1b[0m - \\x1b[4mEXACT DUPLICATES]\\x1b[0m Found 219 instances with exact duplicate feature values.\\x1b[38;5;11m*\\x1b[0m \\x1b[1m[DATA RELATIONS\\x1b[0m - \\x1b[4mHIGH COLLINEARITY - NUMERICAL]\\x1b[0m Found 4 numerical variables with high Variance Inflation Factor (VIF>5.0). The variables listed in results are highly collinear with other variables in the dataset. These will make model explainability harder and potentially give way to issues like overfitting.Depending on your end goal you might want to remove the highest VIF variables.</body></html>'"
      ]
     },
     "execution_count": 117,
     "metadata": {},
     "output_type": "execute_result"
    }
   ],
   "source": [
    "html_text"
   ]
  },
  {
   "cell_type": "code",
   "execution_count": 81,
   "id": "2acde717-98d3-427e-8788-bfeb421ca3e8",
   "metadata": {},
   "outputs": [],
   "source": [
    "import json \n",
    "metadata = {\n",
    "    'outputs' : [{\n",
    "      'type': 'web-app',\n",
    "      'storage': 'inline',\n",
    "      'source': html_text,\n",
    "    }]\n",
    "  }\n",
    "\n",
    "with open(\"mlpipeline-ui-metadata.json\", 'w') as metadata_file:\n",
    "    json.dump(metadata, metadata_file)"
   ]
  }
 ],
 "metadata": {
  "kernelspec": {
   "display_name": "Python 3 (ipykernel)",
   "language": "python",
   "name": "python3"
  },
  "language_info": {
   "codemirror_mode": {
    "name": "ipython",
    "version": 3
   },
   "file_extension": ".py",
   "mimetype": "text/x-python",
   "name": "python",
   "nbconvert_exporter": "python",
   "pygments_lexer": "ipython3",
   "version": "3.7.11"
  }
 },
 "nbformat": 4,
 "nbformat_minor": 5
}
