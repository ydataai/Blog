{
 "cells": [
  {
   "cell_type": "code",
   "execution_count": 1,
   "id": "735ce6f6-6a07-4e70-b50c-e8c70a61f914",
   "metadata": {},
   "outputs": [
    {
     "name": "stderr",
     "output_type": "stream",
     "text": [
      "/opt/conda/lib/python3.7/site-packages/dask_gateway/client.py:21: FutureWarning: format_bytes is deprecated and will be removed in a future release. Please use dask.utils.format_bytes instead.\n",
      "  from distributed.utils import LoopRunner, format_bytes\n"
     ]
    }
   ],
   "source": [
    "# Import the packages\n",
    "import pandas as pd\n",
    "from numpy import repeat\n",
    "from ydata.dataset import Dataset\n",
    "from ydata.synthesizers.regular import RegularSynthesizer\n",
    "from ydata.connectors import GCSConnector\n",
    "from ydata.connectors.filetype import FileType\n",
    "from ydata.utils.formats import read_json"
   ]
  },
  {
   "cell_type": "code",
   "execution_count": 2,
   "id": "11a89a2b-ba74-4b0d-acbf-20edb67ea7ac",
   "metadata": {
    "tags": []
   },
   "outputs": [
    {
     "name": "stderr",
     "output_type": "stream",
     "text": [
      "/opt/conda/lib/python3.7/site-packages/distributed/client.py:1128: VersionMismatchWarning: Mismatched versions found\n",
      "\n",
      "+-------------+--------+-----------+---------+\n",
      "| Package     | client | scheduler | workers |\n",
      "+-------------+--------+-----------+---------+\n",
      "| cloudpickle | 2.0.0  | 1.6.0     | None    |\n",
      "+-------------+--------+-----------+---------+\n",
      "  warnings.warn(version_module.VersionMismatchWarning(msg[0][\"warning\"]))\n"
     ]
    }
   ],
   "source": [
    "# Read the data (Only if you want to train a new network)\n",
    "# Initialize the YData's connector \n",
    "token = read_json('gcs_credentials.json')\n",
    "connector = GCSConnector('ydatasynthetic', keyfile_dict=token)\n",
    "\n",
    "# Read the data\n",
    "data = connector.read_file('gs://pipelines_artifacts/telco_anomaly_outputs/data_processed.csv', file_type = FileType.CSV)"
   ]
  },
  {
   "cell_type": "code",
   "execution_count": 3,
   "id": "aa20bc19-e4ce-4620-bcf4-2b2f8d751905",
   "metadata": {
    "tags": []
   },
   "outputs": [],
   "source": [
    "# Initialize and Load an alerady trained Synthesizer.\n",
    "network_synth = RegularSynthesizer(filter_outliers=False)\n",
    "network_synth = network_synth.load('processed_data_trained_synth.pkl')"
   ]
  },
  {
   "cell_type": "code",
   "execution_count": null,
   "id": "0d65dac6-ef2d-4c26-94d5-6e3a8f4afc08",
   "metadata": {
    "collapsed": true,
    "jupyter": {
     "outputs_hidden": true
    },
    "tags": []
   },
   "outputs": [
    {
     "name": "stdout",
     "output_type": "stream",
     "text": [
      "INFO: 2022-02-14 18:49:45,337 [SYNTHESIZER] - Calculating metadata\n",
      "INFO: 2022-02-14 18:49:46,758 Start data preprocessing.\n"
     ]
    },
    {
     "name": "stderr",
     "output_type": "stream",
     "text": [
      "/opt/conda/lib/python3.7/site-packages/sklearn/mixture/_base.py:269: ConvergenceWarning: Initialization 1 did not converge. Try different init parameters, or increase max_iter, tol or check for degenerate data.\n",
      "  % (init + 1), ConvergenceWarning)\n"
     ]
    },
    {
     "name": "stdout",
     "output_type": "stream",
     "text": [
      "INFO: 2022-02-14 18:49:50,532 End data preprocessing.\n",
      "INFO: 2022-02-14 18:49:51,602 [SYNTHESIZER] - Synthesizer init. Synthesizer: CTGAN\n",
      "INFO: 2022-02-14 18:49:51,604 [SYNTHESIZER] - Processing the data prior fitting the synthesizer.\n",
      "INFO: 2022-02-14 18:49:57,117 [SYNTHESIZER] - Training running on a cpu device.\n"
     ]
    }
   ],
   "source": [
    "# In case you want to train a new network.\n",
    "#network_synth.fit(data)"
   ]
  },
  {
   "cell_type": "code",
   "execution_count": 13,
   "id": "bf82ae37-892f-4697-8e43-57e1ca2a5ace",
   "metadata": {
    "collapsed": true,
    "jupyter": {
     "outputs_hidden": true
    },
    "tags": []
   },
   "outputs": [
    {
     "name": "stdout",
     "output_type": "stream",
     "text": [
      "INFO: 2022-02-09 15:13:22,454 [SYNTHESIZER] - Start generating model samples.\n",
      "INFO: 2022-02-09 15:13:22,456 [SYNTHESIZER] - Current batch_size is set as 1000\n"
     ]
    }
   ],
   "source": [
    "# Create the samples and flag them.\n",
    "synth_sample = network_synth.sample(5000).to_pandas()\n",
    "synth_sample.index = repeat(999999, len(synth_sample))"
   ]
  },
  {
   "cell_type": "code",
   "execution_count": null,
   "id": "7e65a3ed-f5fc-4457-873d-09ef4849ee72",
   "metadata": {},
   "outputs": [],
   "source": [
    "connector.write_file(data= synth_sample, path='gs://pipelines_artifacts/telco_anomaly_outputs/data_sampled.csv', index=False)\n"
   ]
  }
 ],
 "metadata": {
  "kernelspec": {
   "display_name": "Python 3 (ipykernel)",
   "language": "python",
   "name": "python3"
  },
  "language_info": {
   "codemirror_mode": {
    "name": "ipython",
    "version": 3
   },
   "file_extension": ".py",
   "mimetype": "text/x-python",
   "name": "python",
   "nbconvert_exporter": "python",
   "pygments_lexer": "ipython3",
   "version": "3.7.11"
  }
 },
 "nbformat": 4,
 "nbformat_minor": 5
}
