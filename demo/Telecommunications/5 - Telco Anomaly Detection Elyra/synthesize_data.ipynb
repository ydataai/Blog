{
 "cells": [
  {
   "cell_type": "code",
   "execution_count": 5,
   "id": "735ce6f6-6a07-4e70-b50c-e8c70a61f914",
   "metadata": {},
   "outputs": [],
   "source": [
    "# Import the packages\n",
    "from numpy import repeat\n",
    "from ydata.synthesizers.regular import RegularSynthesizer\n",
    "from ydata.connectors import LocalConnector\n",
    "from ydata.connectors.filetype import FileType"
   ]
  },
  {
   "cell_type": "code",
   "execution_count": 7,
   "id": "11a89a2b-ba74-4b0d-acbf-20edb67ea7ac",
   "metadata": {
    "tags": []
   },
   "outputs": [],
   "source": [
    "# Read the data (Only if you want to train a new network)\n",
    "# Initialize the YData's connector\n",
    "connector = LocalConnector()\n",
    "\n",
    "# Read the data\n",
    "data = connector.read_file('data_processed.csv', file_type = FileType.CSV)"
   ]
  },
  {
   "cell_type": "code",
   "execution_count": 8,
   "id": "aa20bc19-e4ce-4620-bcf4-2b2f8d751905",
   "metadata": {
    "tags": []
   },
   "outputs": [
    {
     "name": "stderr",
     "output_type": "stream",
     "text": [
      "/opt/conda/lib/python3.7/site-packages/sklearn/base.py:315: UserWarning: Trying to unpickle estimator BayesianRidge from version 0.23.2 when using version 0.24.2. This might lead to breaking code or invalid results. Use at your own risk.\n",
      "  UserWarning)\n",
      "/opt/conda/lib/python3.7/site-packages/sklearn/base.py:315: UserWarning: Trying to unpickle estimator SimpleImputer from version 0.23.2 when using version 0.24.2. This might lead to breaking code or invalid results. Use at your own risk.\n",
      "  UserWarning)\n",
      "/opt/conda/lib/python3.7/site-packages/sklearn/base.py:315: UserWarning: Trying to unpickle estimator MinMaxScaler from version 0.23.2 when using version 0.24.2. This might lead to breaking code or invalid results. Use at your own risk.\n",
      "  UserWarning)\n",
      "/opt/conda/lib/python3.7/site-packages/sklearn/base.py:315: UserWarning: Trying to unpickle estimator BayesianGaussianMixture from version 0.23.2 when using version 0.24.2. This might lead to breaking code or invalid results. Use at your own risk.\n",
      "  UserWarning)\n",
      "/opt/conda/lib/python3.7/site-packages/sklearn/base.py:315: UserWarning: Trying to unpickle estimator Pipeline from version 0.23.2 when using version 0.24.2. This might lead to breaking code or invalid results. Use at your own risk.\n",
      "  UserWarning)\n",
      "/opt/conda/lib/python3.7/site-packages/sklearn/base.py:315: UserWarning: Trying to unpickle estimator OneHotEncoder from version 0.23.2 when using version 0.24.2. This might lead to breaking code or invalid results. Use at your own risk.\n",
      "  UserWarning)\n"
     ]
    }
   ],
   "source": [
    "# Initialize and Load an alerady trained Synthesizer.\n",
    "network_synth = RegularSynthesizer(filter_outliers=False)\n",
    "network_synth = network_synth.load('trained_model.pkl')"
   ]
  },
  {
   "cell_type": "code",
   "execution_count": 9,
   "id": "0d65dac6-ef2d-4c26-94d5-6e3a8f4afc08",
   "metadata": {
    "tags": []
   },
   "outputs": [],
   "source": [
    "# In case you want to train a new network.\n",
    "#network_synth.fit(data)"
   ]
  },
  {
   "cell_type": "code",
   "execution_count": 12,
   "id": "bf82ae37-892f-4697-8e43-57e1ca2a5ace",
   "metadata": {
    "tags": []
   },
   "outputs": [
    {
     "name": "stdout",
     "output_type": "stream",
     "text": [
      "INFO: 2022-02-17 14:45:49,641 [SYNTHESIZER] - Start generating model samples.\n"
     ]
    }
   ],
   "source": [
    "# Create the samples and flag them.\n",
    "synth_sample = network_synth.sample(5000).to_pandas()\n",
    "synth_sample.index = repeat(999999, len(synth_sample))"
   ]
  },
  {
   "cell_type": "code",
   "execution_count": 17,
   "id": "4f8a1707-a794-436d-8ada-cfff1af42c61",
   "metadata": {},
   "outputs": [],
   "source": [
    "synth_sample.columns = data.to_pandas().columns"
   ]
  },
  {
   "cell_type": "code",
   "execution_count": 18,
   "id": "7e65a3ed-f5fc-4457-873d-09ef4849ee72",
   "metadata": {},
   "outputs": [],
   "source": [
    "connector.write_file(data= synth_sample, path='data_sampled.csv', index=False)"
   ]
  }
 ],
 "metadata": {
  "kernelspec": {
   "display_name": "Python 3 (ipykernel)",
   "language": "python",
   "name": "python3"
  },
  "language_info": {
   "codemirror_mode": {
    "name": "ipython",
    "version": 3
   },
   "file_extension": ".py",
   "mimetype": "text/x-python",
   "name": "python",
   "nbconvert_exporter": "python",
   "pygments_lexer": "ipython3",
   "version": "3.7.11"
  }
 },
 "nbformat": 4,
 "nbformat_minor": 5
}
