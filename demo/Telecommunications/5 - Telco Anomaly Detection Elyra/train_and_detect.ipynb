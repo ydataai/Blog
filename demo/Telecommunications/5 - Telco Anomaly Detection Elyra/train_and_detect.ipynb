{
 "cells": [
  {
   "cell_type": "code",
   "execution_count": 3,
   "id": "5673779f-b6c8-4074-88d7-12ba5e9fdb07",
   "metadata": {},
   "outputs": [],
   "source": [
    "# Import the needed packages\n",
    "import json\n",
    "from sklearn.tree import DecisionTreeClassifier\n",
    "from sklearn.model_selection import train_test_split\n",
    "from sklearn.metrics import accuracy_score, f1_score"
   ]
  },
  {
   "cell_type": "code",
   "execution_count": 4,
   "id": "5ad7f7c1-f2e1-40f0-8d57-dab4d1e29edc",
   "metadata": {},
   "outputs": [
    {
     "name": "stderr",
     "output_type": "stream",
     "text": [
      "/opt/conda/lib/python3.7/site-packages/dask_gateway/client.py:21: FutureWarning: format_bytes is deprecated and will be removed in a future release. Please use dask.utils.format_bytes instead.\n",
      "  from distributed.utils import LoopRunner, format_bytes\n"
     ]
    }
   ],
   "source": [
    "from ydata.connectors import LocalConnector\n",
    "from ydata.connectors.filetype import FileType"
   ]
  },
  {
   "cell_type": "code",
   "execution_count": 5,
   "id": "96686440-06ce-43e5-a5f1-8c2d343536d1",
   "metadata": {
    "tags": []
   },
   "outputs": [],
   "source": [
    "# Initialize connector and read data\n",
    "connector = LocalConnector()\n",
    "\n",
    "# Read the data. Augumented and original\n",
    "aug_df = connector.read_file('data_augmented.csv', file_type = FileType.CSV).to_pandas()\n",
    "orig_df = connector.read_file('data_processed.csv', file_type = FileType.CSV).to_pandas()"
   ]
  },
  {
   "cell_type": "code",
   "execution_count": 8,
   "id": "31bff5ef-4102-485c-b27b-dfc0c2a67de1",
   "metadata": {},
   "outputs": [
    {
     "name": "stdout",
     "output_type": "stream",
     "text": [
      "Index(['PRBUsageUL', 'PRBUsageDL', 'meanThr_DL', 'meanThr_UL', 'maxThr_DL',\n",
      "       'maxThr_UL', 'meanUE_UL', 'maxUE_UL+DL', 'Unusual', '14.147', '2.627',\n",
      "       '0.907', '0.081', '32.678', '1.104', '1.152', '9', '0'],\n",
      "      dtype='object')\n"
     ]
    }
   ],
   "source": []
  },
  {
   "cell_type": "code",
   "execution_count": null,
   "id": "8189246b-c31a-4f98-a967-c14907be08a1",
   "metadata": {},
   "outputs": [],
   "source": [
    "# Create the DecisionTreeClassifier. One for the normal data and another for the augmented data.\n",
    "orig_tree_clf = DecisionTreeClassifier()\n",
    "aug_tree_clf = DecisionTreeClassifier()\n",
    "\n",
    "# Split the data into train and test\n",
    "x_train, x_test = train_test_split(orig_df)\n",
    "x_train_augmented = aug_df.drop(x_test.index)"
   ]
  },
  {
   "cell_type": "code",
   "execution_count": null,
   "id": "fe42647e-cda7-42be-a2d3-de31087255ad",
   "metadata": {},
   "outputs": [],
   "source": [
    "# Fit the model and predict\n",
    "orig_tree_clf.fit(x_train.drop('Unusual', axis=1), x_train['Unusual'])\n",
    "aug_tree_clf.fit(x_train_augmented.drop('Unusual', axis=1), x_train_augmented['Unusual'])\n",
    "\n",
    "preds = orig_tree_clf.predict(x_test.drop('Unusual', axis=1))\n",
    "aug_preds = aug_tree_clf.predict(x_test.drop('Unusual', axis=1))"
   ]
  },
  {
   "cell_type": "code",
   "execution_count": null,
   "id": "71e7f74a-8d2a-4dc4-9bc8-983a0cc2b3d1",
   "metadata": {},
   "outputs": [],
   "source": [
    "# Look at F1 score and Accuracy\n",
    "\n",
    "acc = accuracy_score(x_test['Unusual'].values, preds)\n",
    "f1 = f1_score(x_test['Unusual'].values, preds)\n",
    "aug_acc = accuracy_score(x_test['Unusual'].values, aug_preds)\n",
    "aug_f1 = f1_score(x_test['Unusual'].values, aug_preds)"
   ]
  },
  {
   "cell_type": "code",
   "execution_count": null,
   "id": "4136fd2d-b3ed-496e-b6be-29a5f1773204",
   "metadata": {},
   "outputs": [],
   "source": [
    "# Create Artifact. The table with the metrics will be shown on the \"Run Output\"  section of the \"Runs\". \n",
    "metrics = {\n",
    "    'metrics': [\n",
    "        {\n",
    "            'name': 'accuracy-score',\n",
    "            'numberValue':  acc,\n",
    "            'format': 'PERCENTAGE'\n",
    "        },\n",
    "        {\n",
    "            'name': 'f1-score',\n",
    "            'numberValue':  f1,\n",
    "            'format': 'PERCENTAGE'\n",
    "        },\n",
    "         {\n",
    "            'name': 'augmented-accuracy-score',\n",
    "            'numberValue':  aug_acc,\n",
    "            'format': 'PERCENTAGE'\n",
    "        },\n",
    "         {\n",
    "            'name': 'augmented-f1-score',\n",
    "            'numberValue':  aug_f1,\n",
    "            'format': 'PERCENTAGE'\n",
    "        }\n",
    "    ]\n",
    "  }\n",
    "\n",
    "with open(\"mlpipeline-metrics.json\", 'w') as f:\n",
    "    json.dump(metrics, f)"
   ]
  }
 ],
 "metadata": {
  "kernelspec": {
   "display_name": "Python 3 (ipykernel)",
   "language": "python",
   "name": "python3"
  },
  "language_info": {
   "codemirror_mode": {
    "name": "ipython",
    "version": 3
   },
   "file_extension": ".py",
   "mimetype": "text/x-python",
   "name": "python",
   "nbconvert_exporter": "python",
   "pygments_lexer": "ipython3",
   "version": "3.7.11"
  }
 },
 "nbformat": 4,
 "nbformat_minor": 5
}
