{
 "cells": [
  {
   "cell_type": "code",
   "execution_count": null,
   "id": "6c1b1fb8-007f-4087-9e6d-740c99c4a12e",
   "metadata": {},
   "outputs": [],
   "source": [
    "from pandas import read_csv\n",
    "\n",
    "data = read_csv('data.csv')"
   ]
  },
  {
   "cell_type": "code",
   "execution_count": null,
   "id": "08df7e54-0d69-49b5-a8b9-de9f9c55fdee",
   "metadata": {},
   "outputs": [],
   "source": [
    "# Do the little preprocessing\n",
    "data.drop_duplicates(inplace=True)\n",
    "data.drop(['meanUE_DL', 'maxUE_DL', 'maxUE_UL'], axis=1, inplace=True)"
   ]
  },
  {
   "cell_type": "code",
   "execution_count": null,
   "id": "296db964-0f59-486f-a010-59cadfc7d960",
   "metadata": {},
   "outputs": [],
   "source": [
    "# Output the changed data\n",
    "\n",
    "data.to_csv('data_processed.csv', index=False)"
   ]
  }
 ],
 "metadata": {
  "kernelspec": {
   "display_name": "Python 3 (ipykernel)",
   "language": "python",
   "name": "python3"
  },
  "language_info": {
   "codemirror_mode": {
    "name": "ipython",
    "version": 3
   },
   "file_extension": ".py",
   "mimetype": "text/x-python",
   "name": "python",
   "nbconvert_exporter": "python",
   "pygments_lexer": "ipython3",
   "version": "3.7.11"
  }
 },
 "nbformat": 4,
 "nbformat_minor": 5
}
