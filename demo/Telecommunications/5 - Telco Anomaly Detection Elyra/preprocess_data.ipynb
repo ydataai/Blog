{
 "cells": [
  {
   "cell_type": "code",
   "execution_count": null,
   "id": "6c1b1fb8-007f-4087-9e6d-740c99c4a12e",
   "metadata": {},
   "outputs": [],
   "source": [
    "from ydata.connectors import GCSConnector\n",
    "from ydata.connectors.filetype import FileType\n",
    "from ydata.utils.formats import read_json"
   ]
  },
  {
   "cell_type": "code",
   "execution_count": null,
   "id": "f57fd320-87b3-4227-82ad-cae3549cd6bf",
   "metadata": {},
   "outputs": [],
   "source": [
    "# Initialize the YData's connector \n",
    "token = read_json('gcs_credentials.json')\n",
    "connector = GCSConnector('ydatasynthetic', keyfile_dict=token)\n",
    "\n",
    "# Read the data \n",
    "data = connector.read_file('gs://ydata_testdata/tabular/mobile_network/data.csv', file_type = FileType.CSV).to_pandas()"
   ]
  },
  {
   "cell_type": "code",
   "execution_count": null,
   "id": "08df7e54-0d69-49b5-a8b9-de9f9c55fdee",
   "metadata": {},
   "outputs": [],
   "source": [
    "# Do the little preprocessing\n",
    "data.drop_duplicates(inplace=True)\n",
    "data.drop(['meanUE_DL', 'maxUE_DL', 'maxUE_UL'], axis=1, inplace=True)"
   ]
  },
  {
   "cell_type": "code",
   "execution_count": null,
   "id": "296db964-0f59-486f-a010-59cadfc7d960",
   "metadata": {},
   "outputs": [],
   "source": [
    "# Output the changed data\n",
    "\n",
    "connector.write_file(data=data, path='gs://pipelines_artifacts/telco_anomaly_outputs/data_processed.csv', index=False)"
   ]
  }
 ],
 "metadata": {
  "kernelspec": {
   "display_name": "Python 3 (ipykernel)",
   "language": "python",
   "name": "python3"
  },
  "language_info": {
   "codemirror_mode": {
    "name": "ipython",
    "version": 3
   },
   "file_extension": ".py",
   "mimetype": "text/x-python",
   "name": "python",
   "nbconvert_exporter": "python",
   "pygments_lexer": "ipython3",
   "version": "3.7.11"
  }
 },
 "nbformat": 4,
 "nbformat_minor": 5
}
