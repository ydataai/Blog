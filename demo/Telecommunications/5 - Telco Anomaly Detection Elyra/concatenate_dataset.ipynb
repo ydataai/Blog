{
 "cells": [
  {
   "cell_type": "code",
   "execution_count": null,
   "id": "991513f6-2190-433b-b9f7-90496221b05d",
   "metadata": {},
   "outputs": [],
   "source": [
    "import pandas as pd "
   ]
  },
  {
   "cell_type": "code",
   "execution_count": null,
   "id": "9b487920-7e12-4550-a818-fb67aa7cf7a4",
   "metadata": {},
   "outputs": [],
   "source": [
    "# Concatenate syntheized data and original data\n",
    "data_augmented = pd.concat([pd.read_csv('data_processed.csv'), pd.read_csv('data_sampled.csv')])\n",
    "data_augmented.to_csv('data_augmented.csv', index=False)"
   ]
  }
 ],
 "metadata": {
  "kernelspec": {
   "display_name": "Python 3 (ipykernel)",
   "language": "python",
   "name": "python3"
  },
  "language_info": {
   "codemirror_mode": {
    "name": "ipython",
    "version": 3
   },
   "file_extension": ".py",
   "mimetype": "text/x-python",
   "name": "python",
   "nbconvert_exporter": "python",
   "pygments_lexer": "ipython3",
   "version": "3.7.11"
  }
 },
 "nbformat": 4,
 "nbformat_minor": 5
}
