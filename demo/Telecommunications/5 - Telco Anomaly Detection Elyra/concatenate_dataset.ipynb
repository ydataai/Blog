{
 "cells": [
  {
   "cell_type": "code",
   "execution_count": 1,
   "id": "ca805daa-0cd2-49fd-a00a-3f70a745ac39",
   "metadata": {},
   "outputs": [
    {
     "name": "stderr",
     "output_type": "stream",
     "text": [
      "/opt/conda/lib/python3.7/site-packages/dask_gateway/client.py:21: FutureWarning: format_bytes is deprecated and will be removed in a future release. Please use dask.utils.format_bytes instead.\n",
      "  from distributed.utils import LoopRunner, format_bytes\n"
     ]
    }
   ],
   "source": [
    "from pandas import concat\n",
    "from ydata.connectors import LocalConnector\n",
    "from ydata.connectors.filetype import FileType"
   ]
  },
  {
   "cell_type": "code",
   "execution_count": 2,
   "id": "991513f6-2190-433b-b9f7-90496221b05d",
   "metadata": {},
   "outputs": [],
   "source": [
    "# Initialize the YData's connector\n",
    "connector = LocalConnector()\n",
    "\n",
    "data_processed = connector.read_file('data_processed.csv', file_type=FileType.CSV).to_pandas()\n",
    "data_sampled = connector.read_file('data_sampled.csv', file_type=FileType.CSV).to_pandas()"
   ]
  },
  {
   "cell_type": "code",
   "execution_count": 3,
   "id": "9b487920-7e12-4550-a818-fb67aa7cf7a4",
   "metadata": {},
   "outputs": [],
   "source": [
    "# Concatenate syntheized data and original data\n",
    "data_augmented = concat([data_processed, data_sampled])\n",
    "\n",
    "connector.write_file(data= data_augmented, path='data_augmented.csv', index=False)"
   ]
  }
 ],
 "metadata": {
  "kernelspec": {
   "display_name": "Python 3 (ipykernel)",
   "language": "python",
   "name": "python3"
  },
  "language_info": {
   "codemirror_mode": {
    "name": "ipython",
    "version": 3
   },
   "file_extension": ".py",
   "mimetype": "text/x-python",
   "name": "python",
   "nbconvert_exporter": "python",
   "pygments_lexer": "ipython3",
   "version": "3.7.11"
  }
 },
 "nbformat": 4,
 "nbformat_minor": 5
}
