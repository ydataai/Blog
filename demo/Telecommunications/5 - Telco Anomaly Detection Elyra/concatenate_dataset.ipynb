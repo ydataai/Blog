{
 "cells": [
  {
   "cell_type": "code",
   "execution_count": null,
   "id": "ca805daa-0cd2-49fd-a00a-3f70a745ac39",
   "metadata": {},
   "outputs": [],
   "source": [
    "from pandas import concat\n",
    "from ydata.connectors import GCSConnector\n",
    "from ydata.connectors.filetype import FileType\n",
    "from ydata.utils.formats import read_json"
   ]
  },
  {
   "cell_type": "code",
   "execution_count": null,
   "id": "991513f6-2190-433b-b9f7-90496221b05d",
   "metadata": {},
   "outputs": [],
   "source": [
    "# Initialize the YData's connector \n",
    "token = read_json('gcs_credentials.json')\n",
    "connector = GCSConnector('ydatasynthetic', keyfile_dict=token)\n",
    "\n",
    "data_processed = connector.read_file('gs://ydata_testdata/tabular/mobile_network/data_processed.csv', file_type = FileType.CSV).to_pandas()\n",
    "data_sampled = connector.read_file('gs://ydata_testdata/tabular/mobile_network/data_sampled.csv', file_type = FileType.CSV).to_pandas()"
   ]
  },
  {
   "cell_type": "code",
   "execution_count": null,
   "id": "9b487920-7e12-4550-a818-fb67aa7cf7a4",
   "metadata": {},
   "outputs": [],
   "source": [
    "# Concatenate syntheized data and original data\n",
    "data_augmented = concat([data_processed, data_sampled])\n",
    "\n",
    "connector.write_file(data= data_augmented, path='gs://pipelines_artifacts/telco_anomaly_outputs/data_augmented.csv', index=False)"
   ]
  }
 ],
 "metadata": {
  "kernelspec": {
   "display_name": "Python 3 (ipykernel)",
   "language": "python",
   "name": "python3"
  },
  "language_info": {
   "codemirror_mode": {
    "name": "ipython",
    "version": 3
   },
   "file_extension": ".py",
   "mimetype": "text/x-python",
   "name": "python",
   "nbconvert_exporter": "python",
   "pygments_lexer": "ipython3",
   "version": "3.7.11"
  }
 },
 "nbformat": 4,
 "nbformat_minor": 5
}
