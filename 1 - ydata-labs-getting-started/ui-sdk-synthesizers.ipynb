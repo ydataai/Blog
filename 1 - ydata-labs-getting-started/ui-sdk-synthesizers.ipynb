{
 "cells": [
  {
   "cell_type": "markdown",
   "id": "60962785-2e04-4f5c-8d5c-42d6b1fd5a2e",
   "metadata": {},
   "source": [
    "# Platform SDK - Quick Start\n",
    "This SDK allows you to interact with the platform components programatically.\n",
    "\n",
    "Every method of the SDK contains an argument called `namespace` that allows you to overide the `namespace` where you are in.\n",
    "\n",
    "### What can i do?!\n",
    "\n",
    "* Access your DataSources and create a connector directly from it\n",
    "* Access your Synthesizers and retrain it\n",
    "* Generate a sample in a synthesiser \n",
    "\n",
    "### Which modules are available?\n",
    "\n",
    "* Connectors\n",
    "* Datasources\n",
    "* Synthesizers"
   ]
  },
  {
   "cell_type": "markdown",
   "id": "7746251a-dcb6-4086-a5bf-a0af7049bc79",
   "metadata": {},
   "source": [
    "## Synthesizers Module"
   ]
  },
  {
   "cell_type": "markdown",
   "id": "845c1719-be11-4ddd-8921-9b84a1305411",
   "metadata": {},
   "source": [
    "The platform SDK synthesizers module allows to interact and consume any of the synthesizer elements created at the level of the UI. Through the SDK the user is able to perform the following actions:\n",
    "\n",
    "Synthesizers\n",
    "- **synthesizers.list** - List the synthesizers available within the user namespace\n",
    "- **synthesizers.get** - Access a particular synthesizer. The user is able to get the synthesizer training status and associated dataset metadata\n",
    "\n",
    "Synthesizer & Samples\n",
    "- **synthesizer.list_sample** - Access the history of samples generated using the synth\n",
    "- **synthesizer.sample** - Generate a sample with n records\n",
    "- **synthesizer.get_sample** - Access to a particular sample previously generated through the uuid"
   ]
  },
  {
   "cell_type": "code",
   "execution_count": 3,
   "id": "844ec178-8f99-4056-8a32-991cf4ac83f9",
   "metadata": {},
   "outputs": [
    {
     "data": {
      "text/plain": [
       "[Synthesizer(uid='269f43bf-3b21-45fd-9951-6afc5cfc0b9e', name='Customer synth', data_source_uid='7d6f173e-f3af-487b-8b80-76787b15fe86', date=datetime.datetime(2022, 11, 21, 21, 50, 18, tzinfo=datetime.timezone.utc), status=<Status.failed: 'failed'>, metadata=Metadata(columns=[Column(name='CustomerID', data_type='categorical', var_type='string', generation=True), Column(name='Count', data_type='numerical', var_type='float', generation=True), Column(name='Country', data_type='categorical', var_type='string', generation=True), Column(name='State', data_type='categorical', var_type='string', generation=True), Column(name='City', data_type='categorical', var_type='string', generation=True), Column(name='Zip Code', data_type='numerical', var_type='float', generation=True), Column(name='Lat Long', data_type='categorical', var_type='string', generation=True), Column(name='Latitude', data_type='numerical', var_type='float', generation=True), Column(name='Longitude', data_type='numerical', var_type='float', generation=True), Column(name='Gender', data_type='categorical', var_type='string', generation=True), Column(name='Senior Citizen', data_type='categorical', var_type='string', generation=True), Column(name='Partner', data_type='categorical', var_type='string', generation=True), Column(name='Dependents', data_type='categorical', var_type='string', generation=True), Column(name='Tenure Months', data_type='numerical', var_type='float', generation=True), Column(name='Phone Service', data_type='categorical', var_type='string', generation=True), Column(name='Multiple Lines', data_type='categorical', var_type='string', generation=True), Column(name='Internet Service', data_type='categorical', var_type='string', generation=True), Column(name='Online Security', data_type='categorical', var_type='string', generation=True), Column(name='Online Backup', data_type='categorical', var_type='string', generation=True), Column(name='Device Protection', data_type='categorical', var_type='string', generation=True), Column(name='Tech Support', data_type='categorical', var_type='string', generation=True), Column(name='Streaming TV', data_type='categorical', var_type='string', generation=True), Column(name='Streaming Movies', data_type='categorical', var_type='string', generation=True), Column(name='Contract', data_type='categorical', var_type='string', generation=True), Column(name='Paperless Billing', data_type='categorical', var_type='string', generation=True), Column(name='Payment Method', data_type='categorical', var_type='string', generation=True), Column(name='Monthly Charges', data_type='numerical', var_type='float', generation=True), Column(name='Total Charges', data_type='numerical', var_type='float', generation=True), Column(name='Churn Label', data_type='categorical', var_type='string', generation=True), Column(name='Churn Value', data_type='numerical', var_type='float', generation=True), Column(name='CLTV', data_type='numerical', var_type='float', generation=True), Column(name='Churn Reason', data_type='categorical', var_type='string', generation=True)], target='Churn Label'), namespace='0e974c84-cfa8-4e4e-bb7b-7340bb2ec145'),\n",
       " Synthesizer(uid='7e3a7614-9c62-4faa-8970-1be4f9a19961', name='Credit Fraud - Synth', data_source_uid='c92e011c-1f92-48c7-b878-8a6c93636524', date=datetime.datetime(2022, 11, 23, 15, 9, 20, tzinfo=datetime.timezone.utc), status=<Status.failed: 'failed'>, metadata=Metadata(columns=[Column(name='Time', data_type='numerical', var_type='float', generation=True), Column(name='V1', data_type='numerical', var_type='float', generation=True), Column(name='V2', data_type='numerical', var_type='float', generation=False), Column(name='V3', data_type='numerical', var_type='float', generation=True), Column(name='V4', data_type='numerical', var_type='float', generation=True), Column(name='V5', data_type='numerical', var_type='float', generation=True), Column(name='V6', data_type='numerical', var_type='float', generation=True), Column(name='V7', data_type='numerical', var_type='float', generation=True), Column(name='V8', data_type='numerical', var_type='float', generation=True), Column(name='V9', data_type='numerical', var_type='float', generation=True), Column(name='V10', data_type='numerical', var_type='float', generation=True), Column(name='V11', data_type='numerical', var_type='float', generation=True), Column(name='V12', data_type='numerical', var_type='float', generation=True), Column(name='V13', data_type='numerical', var_type='float', generation=True), Column(name='V14', data_type='numerical', var_type='float', generation=True), Column(name='V15', data_type='numerical', var_type='float', generation=True), Column(name='V16', data_type='numerical', var_type='float', generation=True), Column(name='V17', data_type='numerical', var_type='float', generation=True), Column(name='V18', data_type='numerical', var_type='float', generation=True), Column(name='V19', data_type='numerical', var_type='float', generation=True), Column(name='V20', data_type='numerical', var_type='float', generation=True), Column(name='V21', data_type='numerical', var_type='float', generation=True), Column(name='V22', data_type='numerical', var_type='float', generation=True), Column(name='V23', data_type='numerical', var_type='float', generation=True), Column(name='V24', data_type='numerical', var_type='float', generation=True), Column(name='V25', data_type='numerical', var_type='float', generation=True), Column(name='V26', data_type='numerical', var_type='float', generation=True), Column(name='V27', data_type='numerical', var_type='float', generation=True), Column(name='V28', data_type='numerical', var_type='float', generation=True), Column(name='Amount', data_type='numerical', var_type='float', generation=True), Column(name='Class', data_type='numerical', var_type='int', generation=True)], target='Class'), namespace='0e974c84-cfa8-4e4e-bb7b-7340bb2ec145'),\n",
       " Synthesizer(uid='91c0644b-aeef-40be-a7e9-d4940a50627e', name='Customer', data_source_uid='32c54776-c090-4df4-92f4-5d47459b1fee', date=datetime.datetime(2022, 11, 21, 22, 43, 38, tzinfo=datetime.timezone.utc), status=<Status.finished: 'finished'>, metadata=Metadata(columns=[Column(name='CustomerID', data_type='categorical', var_type='string', generation=True), Column(name='Count', data_type='numerical', var_type='int', generation=True), Column(name='Country', data_type='categorical', var_type='string', generation=True), Column(name='State', data_type='categorical', var_type='string', generation=True), Column(name='City', data_type='categorical', var_type='string', generation=True), Column(name='Zip Code', data_type='numerical', var_type='int', generation=True), Column(name='Lat Long', data_type='categorical', var_type='string', generation=True), Column(name='Latitude', data_type='numerical', var_type='float', generation=True), Column(name='Longitude', data_type='numerical', var_type='float', generation=True), Column(name='Gender', data_type='categorical', var_type='string', generation=True), Column(name='Senior Citizen', data_type='categorical', var_type='string', generation=True), Column(name='Partner', data_type='categorical', var_type='string', generation=True), Column(name='Dependents', data_type='categorical', var_type='string', generation=True), Column(name='Tenure Months', data_type='numerical', var_type='int', generation=True), Column(name='Phone Service', data_type='categorical', var_type='string', generation=True), Column(name='Multiple Lines', data_type='categorical', var_type='string', generation=True), Column(name='Internet Service', data_type='categorical', var_type='string', generation=True), Column(name='Online Security', data_type='categorical', var_type='string', generation=True), Column(name='Online Backup', data_type='categorical', var_type='string', generation=True), Column(name='Device Protection', data_type='categorical', var_type='string', generation=True), Column(name='Tech Support', data_type='categorical', var_type='string', generation=True), Column(name='Streaming TV', data_type='categorical', var_type='string', generation=True), Column(name='Streaming Movies', data_type='categorical', var_type='string', generation=True), Column(name='Contract', data_type='categorical', var_type='string', generation=True), Column(name='Paperless Billing', data_type='categorical', var_type='string', generation=True), Column(name='Payment Method', data_type='categorical', var_type='string', generation=True), Column(name='Monthly Charges', data_type='numerical', var_type='float', generation=True), Column(name='Total Charges', data_type='numerical', var_type='float', generation=True), Column(name='Churn Label', data_type='categorical', var_type='string', generation=True), Column(name='Churn Value', data_type='numerical', var_type='int', generation=True), Column(name='CLTV', data_type='numerical', var_type='int', generation=True), Column(name='Churn Reason', data_type='categorical', var_type='string', generation=True)], target='Churn Label'), namespace='0e974c84-cfa8-4e4e-bb7b-7340bb2ec145'),\n",
       " Synthesizer(uid='ead441e8-9fd3-4175-8b59-6296fa1a0dcf', name='Account berka', data_source_uid='dea62abe-5546-4990-9a66-ad4cf88e7ec8', date=datetime.datetime(2022, 11, 18, 20, 1, 57, tzinfo=datetime.timezone.utc), status=<Status.finished: 'finished'>, metadata=Metadata(columns=[Column(name='account_id', data_type='id', var_type='int', generation=True), Column(name='district_id', data_type='numerical', var_type='int', generation=True), Column(name='frequency', data_type='categorical', var_type='string', generation=True), Column(name='date', data_type='numerical', var_type='int', generation=True)], target=None), namespace='0e974c84-cfa8-4e4e-bb7b-7340bb2ec145'),\n",
       " Synthesizer(uid='ebf555c1-a37d-4654-b0f7-c9e83f859c6f', name='Credit fraud', data_source_uid='c92e011c-1f92-48c7-b878-8a6c93636524', date=datetime.datetime(2022, 11, 23, 15, 13, 10, tzinfo=datetime.timezone.utc), status=<Status.finished: 'finished'>, metadata=Metadata(columns=[Column(name='Time', data_type='numerical', var_type='float', generation=True), Column(name='V1', data_type='numerical', var_type='float', generation=True), Column(name='V2', data_type='numerical', var_type='float', generation=True), Column(name='V3', data_type='numerical', var_type='float', generation=True), Column(name='V4', data_type='numerical', var_type='float', generation=True), Column(name='V5', data_type='numerical', var_type='float', generation=True), Column(name='V6', data_type='numerical', var_type='float', generation=True), Column(name='V7', data_type='numerical', var_type='float', generation=True), Column(name='V8', data_type='numerical', var_type='float', generation=True), Column(name='V9', data_type='numerical', var_type='float', generation=True), Column(name='V10', data_type='numerical', var_type='float', generation=True), Column(name='V11', data_type='numerical', var_type='float', generation=True), Column(name='V12', data_type='numerical', var_type='float', generation=True), Column(name='V13', data_type='numerical', var_type='float', generation=True), Column(name='V14', data_type='numerical', var_type='float', generation=True), Column(name='V15', data_type='numerical', var_type='float', generation=True), Column(name='V16', data_type='numerical', var_type='float', generation=True), Column(name='V17', data_type='numerical', var_type='float', generation=True), Column(name='V18', data_type='numerical', var_type='float', generation=True), Column(name='V19', data_type='numerical', var_type='float', generation=True), Column(name='V20', data_type='numerical', var_type='float', generation=True), Column(name='V21', data_type='numerical', var_type='float', generation=True), Column(name='V22', data_type='numerical', var_type='float', generation=True), Column(name='V23', data_type='numerical', var_type='float', generation=True), Column(name='V24', data_type='numerical', var_type='float', generation=True), Column(name='V25', data_type='numerical', var_type='float', generation=True), Column(name='V26', data_type='numerical', var_type='float', generation=True), Column(name='V27', data_type='numerical', var_type='float', generation=True), Column(name='V28', data_type='numerical', var_type='float', generation=True), Column(name='Amount', data_type='numerical', var_type='float', generation=True), Column(name='Class', data_type='numerical', var_type='int', generation=True)], target='Class'), namespace='0e974c84-cfa8-4e4e-bb7b-7340bb2ec145'),\n",
       " Synthesizer(uid='f3017078-0011-492e-8be3-c916560e4be4', name='Customer synth - New train', data_source_uid='32c54776-c090-4df4-92f4-5d47459b1fee', date=datetime.datetime(2022, 11, 23, 22, 45, 24, tzinfo=datetime.timezone.utc), status=<Status.finished: 'finished'>, metadata=Metadata(columns=[Column(name='CustomerID', data_type='id', var_type='string', generation=True), Column(name='Count', data_type='numerical', var_type='int', generation=True), Column(name='Country', data_type='categorical', var_type='string', generation=True), Column(name='State', data_type='categorical', var_type='string', generation=True), Column(name='City', data_type='categorical', var_type='string', generation=True), Column(name='Zip Code', data_type='numerical', var_type='int', generation=True), Column(name='Lat Long', data_type='categorical', var_type='string', generation=False), Column(name='Latitude', data_type='numerical', var_type='float', generation=False), Column(name='Longitude', data_type='numerical', var_type='float', generation=False), Column(name='Gender', data_type='categorical', var_type='string', generation=True), Column(name='Senior Citizen', data_type='categorical', var_type='string', generation=True), Column(name='Partner', data_type='categorical', var_type='string', generation=True), Column(name='Dependents', data_type='categorical', var_type='string', generation=True), Column(name='Tenure Months', data_type='numerical', var_type='int', generation=True), Column(name='Phone Service', data_type='categorical', var_type='string', generation=True), Column(name='Multiple Lines', data_type='categorical', var_type='string', generation=True), Column(name='Internet Service', data_type='categorical', var_type='string', generation=True), Column(name='Online Security', data_type='categorical', var_type='string', generation=True), Column(name='Online Backup', data_type='categorical', var_type='string', generation=True), Column(name='Device Protection', data_type='categorical', var_type='string', generation=True), Column(name='Tech Support', data_type='categorical', var_type='string', generation=True), Column(name='Streaming TV', data_type='categorical', var_type='string', generation=True), Column(name='Streaming Movies', data_type='categorical', var_type='string', generation=True), Column(name='Contract', data_type='categorical', var_type='string', generation=True), Column(name='Paperless Billing', data_type='categorical', var_type='string', generation=True), Column(name='Payment Method', data_type='categorical', var_type='string', generation=True), Column(name='Monthly Charges', data_type='numerical', var_type='float', generation=True), Column(name='Total Charges', data_type='numerical', var_type='float', generation=True), Column(name='Churn Label', data_type='categorical', var_type='string', generation=False), Column(name='Churn Value', data_type='numerical', var_type='int', generation=True), Column(name='CLTV', data_type='numerical', var_type='int', generation=True), Column(name='Churn Reason', data_type='categorical', var_type='string', generation=False)], target='Churn Value'), namespace='0e974c84-cfa8-4e4e-bb7b-7340bb2ec145'),\n",
       " Synthesizer(uid='fe212133-314f-4772-ba74-4b30c5a4795f', name='Customer synth - no ID', data_source_uid='32c54776-c090-4df4-92f4-5d47459b1fee', date=datetime.datetime(2022, 11, 21, 22, 31, 51, tzinfo=datetime.timezone.utc), status=<Status.failed: 'failed'>, metadata=Metadata(columns=[Column(name='CustomerID', data_type='categorical', var_type='string', generation=False), Column(name='Count', data_type='numerical', var_type='int', generation=True), Column(name='Country', data_type='categorical', var_type='string', generation=True), Column(name='State', data_type='categorical', var_type='string', generation=True), Column(name='City', data_type='categorical', var_type='string', generation=True), Column(name='Zip Code', data_type='numerical', var_type='int', generation=True), Column(name='Lat Long', data_type='categorical', var_type='string', generation=True), Column(name='Latitude', data_type='numerical', var_type='float', generation=True), Column(name='Longitude', data_type='numerical', var_type='float', generation=True), Column(name='Gender', data_type='categorical', var_type='string', generation=True), Column(name='Senior Citizen', data_type='categorical', var_type='string', generation=True), Column(name='Partner', data_type='categorical', var_type='string', generation=True), Column(name='Dependents', data_type='categorical', var_type='string', generation=True), Column(name='Tenure Months', data_type='numerical', var_type='int', generation=True), Column(name='Phone Service', data_type='categorical', var_type='string', generation=True), Column(name='Multiple Lines', data_type='categorical', var_type='string', generation=True), Column(name='Internet Service', data_type='categorical', var_type='string', generation=True), Column(name='Online Security', data_type='categorical', var_type='string', generation=True), Column(name='Online Backup', data_type='categorical', var_type='string', generation=True), Column(name='Device Protection', data_type='categorical', var_type='string', generation=True), Column(name='Tech Support', data_type='categorical', var_type='string', generation=True), Column(name='Streaming TV', data_type='categorical', var_type='string', generation=True), Column(name='Streaming Movies', data_type='categorical', var_type='string', generation=True), Column(name='Contract', data_type='categorical', var_type='string', generation=True), Column(name='Paperless Billing', data_type='categorical', var_type='string', generation=True), Column(name='Payment Method', data_type='categorical', var_type='string', generation=True), Column(name='Monthly Charges', data_type='numerical', var_type='float', generation=True), Column(name='Total Charges', data_type='numerical', var_type='float', generation=True), Column(name='Churn Label', data_type='categorical', var_type='string', generation=True), Column(name='Churn Value', data_type='numerical', var_type='int', generation=True), Column(name='CLTV', data_type='numerical', var_type='int', generation=True), Column(name='Churn Reason', data_type='categorical', var_type='string', generation=True)], target='Churn Label'), namespace='0e974c84-cfa8-4e4e-bb7b-7340bb2ec145')]"
      ]
     },
     "execution_count": 3,
     "metadata": {},
     "output_type": "execute_result"
    }
   ],
   "source": [
    "##listing my available synthesizers\n",
    "from ydata.labs import Synthesizers\n",
    "\n",
    "synthesizers = Synthesizers.list()\n",
    "synthesizers"
   ]
  },
  {
   "cell_type": "markdown",
   "id": "d1c06657-55ff-4764-ae00-0dbc092c0ef3",
   "metadata": {},
   "source": [
    "### How to access a specific synthesizer?"
   ]
  },
  {
   "cell_type": "code",
   "execution_count": 6,
   "id": "e568b754-5686-42cf-afd7-77fe680e7808",
   "metadata": {},
   "outputs": [
    {
     "name": "stdout",
     "output_type": "stream",
     "text": [
      "status Status.finished\n",
      "metadata columns=[Column(name='CustomerID', data_type='id', var_type='string', generation=True), Column(name='Count', data_type='numerical', var_type='int', generation=True), Column(name='Country', data_type='categorical', var_type='string', generation=True), Column(name='State', data_type='categorical', var_type='string', generation=True), Column(name='City', data_type='categorical', var_type='string', generation=True), Column(name='Zip Code', data_type='numerical', var_type='int', generation=True), Column(name='Lat Long', data_type='categorical', var_type='string', generation=False), Column(name='Latitude', data_type='numerical', var_type='float', generation=False), Column(name='Longitude', data_type='numerical', var_type='float', generation=False), Column(name='Gender', data_type='categorical', var_type='string', generation=True), Column(name='Senior Citizen', data_type='categorical', var_type='string', generation=True), Column(name='Partner', data_type='categorical', var_type='string', generation=True), Column(name='Dependents', data_type='categorical', var_type='string', generation=True), Column(name='Tenure Months', data_type='numerical', var_type='int', generation=True), Column(name='Phone Service', data_type='categorical', var_type='string', generation=True), Column(name='Multiple Lines', data_type='categorical', var_type='string', generation=True), Column(name='Internet Service', data_type='categorical', var_type='string', generation=True), Column(name='Online Security', data_type='categorical', var_type='string', generation=True), Column(name='Online Backup', data_type='categorical', var_type='string', generation=True), Column(name='Device Protection', data_type='categorical', var_type='string', generation=True), Column(name='Tech Support', data_type='categorical', var_type='string', generation=True), Column(name='Streaming TV', data_type='categorical', var_type='string', generation=True), Column(name='Streaming Movies', data_type='categorical', var_type='string', generation=True), Column(name='Contract', data_type='categorical', var_type='string', generation=True), Column(name='Paperless Billing', data_type='categorical', var_type='string', generation=True), Column(name='Payment Method', data_type='categorical', var_type='string', generation=True), Column(name='Monthly Charges', data_type='numerical', var_type='float', generation=True), Column(name='Total Charges', data_type='numerical', var_type='float', generation=True), Column(name='Churn Label', data_type='categorical', var_type='string', generation=False), Column(name='Churn Value', data_type='numerical', var_type='int', generation=True), Column(name='CLTV', data_type='numerical', var_type='int', generation=True), Column(name='Churn Reason', data_type='categorical', var_type='string', generation=False)] target='Churn Value'\n"
     ]
    }
   ],
   "source": [
    "synthesizer = Synthesizers.get(uid='synthesizer-id', namespace='namespace-id')\n",
    "print(f'status {synthesizer.status}')\n",
    "print(f'metadata {synthesizer.metadata}')"
   ]
  },
  {
   "cell_type": "markdown",
   "id": "f2444941-b22f-42eb-8521-abfcd5a4cde1",
   "metadata": {},
   "source": [
    "### Generating a sample from the synthesizer"
   ]
  },
  {
   "cell_type": "code",
   "execution_count": null,
   "id": "30d5807d-29d0-4fd5-85ba-3926e3239186",
   "metadata": {},
   "outputs": [],
   "source": [
    "synthesizer.sample(1000)"
   ]
  }
 ],
 "metadata": {
  "kernelspec": {
   "display_name": "Python 3 (ipykernel)",
   "language": "python",
   "name": "python3"
  },
  "language_info": {
   "codemirror_mode": {
    "name": "ipython",
    "version": 3
   },
   "file_extension": ".py",
   "mimetype": "text/x-python",
   "name": "python",
   "nbconvert_exporter": "python",
   "pygments_lexer": "ipython3",
   "version": "3.8.15"
  }
 },
 "nbformat": 4,
 "nbformat_minor": 5
}
