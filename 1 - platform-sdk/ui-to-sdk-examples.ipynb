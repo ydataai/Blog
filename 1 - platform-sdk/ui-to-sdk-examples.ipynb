{
 "cells": [
  {
   "cell_type": "markdown",
   "id": "8d869204-1d14-43bc-8c62-6517e12d57e1",
   "metadata": {
    "tags": []
   },
   "source": [
    "# Platform SDK - Quick Start\n",
    "This SDK allows you to interact with the platform components programatically.\n",
    "\n",
    "Every method of the SDK contains an argument called `namespace` that allows you to overide the `namespace` where you are in.\n",
    "\n",
    "### What can i do?!\n",
    "\n",
    "* Access your DataSources and create a connector directly from it\n",
    "* Access your Synthesizers and retrain it\n",
    "* Generate a sample in a synthesiser \n",
    "\n",
    "### Which modules are available?\n",
    "\n",
    "* Datasources\n",
    "* Synthesizers"
   ]
  },
  {
   "cell_type": "markdown",
   "id": "ee6f0288-98a2-484e-8958-c318c9f1b5f1",
   "metadata": {
    "tags": []
   },
   "source": [
    "## DataSources Module\n",
    "\n",
    "### What is a DataSource?\n",
    "\n",
    "A DataSource is an abstract class that exposes methods to access a connector and from that the data from that connector.\n",
    "\n",
    "It's from the responsability of each data source to implement those methods and the behaviour, but all of them returns a Dataset. Through the SDK the following datasource actions are possible:\n",
    "\n",
    "Datasources:\n",
    "\n",
    "- **DataSources.list** - List of all available datasources within the user namespace\n",
    "- **DataSources.get** - Get a particular datasource details like data type (tabular or time-series), metadata and name.\n",
    "\n",
    "Datasource\n",
    "- **datasource.metadata** - Get the metadata from a selected datasource. This includes column, variable and datatypes information.\n",
    "- **datasource.read** - Read all data from a selected datasource. This method returns a Dataset object\n",
    "- **datasource.read_sample** - Read a sample of size n from a selected datasource. This method returns a Dataset object."
   ]
  },
  {
   "cell_type": "code",
   "execution_count": 1,
   "id": "6f2c66da-33a9-4aef-bcda-b6beb092ce7c",
   "metadata": {},
   "outputs": [],
   "source": [
    "from ydata.platform.datasources import DataSources"
   ]
  },
  {
   "cell_type": "markdown",
   "id": "17106c7b-4ac4-4dde-b9f4-6a1a46a4fca1",
   "metadata": {},
   "source": [
    "### How to list my datasources?"
   ]
  },
  {
   "cell_type": "code",
   "execution_count": 2,
   "id": "633120fa-acfa-4919-814d-28b09392d4bb",
   "metadata": {},
   "outputs": [
    {
     "name": "stdout",
     "output_type": "stream",
     "text": [
      "[GoogleCloudStorageDataSource(uid=1ee82408-5c7f-41b9-90fd-c0437b87e137, data_type=DataType.TABULAR, file_type=FileType.CSV, path=gs://ydata_testdata/stress_test_data/cardio_stress/*.csv), GoogleCloudStorageDataSource(uid=2d2981da-0f18-4622-8f89-dae9e27be838, data_type=DataType.TABULAR, file_type=FileType.CSV, path=gs://ydata_testdata/tabular/diamonds/data.csv), GoogleCloudStorageDataSource(uid=2dc592ff-3eab-487d-9f4d-bee1dddd2e8f, data_type=DataType.TIMESERIES, file_type=FileType.CSV, path=gs://ydata_testdata/timeseries/energy_spot_prices/spot_prices.csv), GoogleCloudStorageDataSource(uid=5333c910-6185-4290-a2fc-6b31659938d0, data_type=DataType.TIMESERIES, file_type=FileType.CSV, path=gs://ydata_testdata/timeseries/gas/20160930_203718.csv), GoogleCloudStorageDataSource(uid=5759d69f-e127-419d-a382-71d2cc01025a, data_type=DataType.TIMESERIES, file_type=FileType.CSV, path=gs://ydata_testdata/timeseries/paysim/data_with_timestamps.csv), AWSS3DataSource(uid=62f9e9c1-bdb8-4648-b3ef-cf253e517051, data_type=DataType.TABULAR, region=eu-central-1, file_type=FileType.PARQUET, path=s3://ydata-dev/regular/census/data.parquet), AzureBlobDataSource(uid=9696120e-982b-4fcf-a828-d74c0942d520, data_type=DataType.TABULAR, file_type=FileType.PARQUET, path=abfs://creditfraud/data.parquet/*.parquet), AzureBlobDataSource(uid=a41d3add-655c-4016-a06b-69147c8164b8, data_type=DataType.TABULAR, file_type=FileType.CSV, path=abfs://creditfraud/data.csv), GoogleCloudStorageDataSource(uid=be94abbc-889d-46b2-b99a-820011d7f409, data_type=DataType.TIMESERIES, file_type=FileType.CSV, path=gs://ydata_testdata/timeseries/airquality_beijing/data.csv), GoogleCloudStorageDataSource(uid=da1cfde9-0f91-4b78-a470-c4c86d718703, data_type=DataType.TABULAR, file_type=FileType.CSV, path=gs://ydata_testdata/tabular/financial_distress/data.csv)]\n"
     ]
    }
   ],
   "source": [
    "my_datasources = DataSources.list()\n",
    "print(my_datasources)"
   ]
  },
  {
   "cell_type": "markdown",
   "id": "ec40c77b-1178-4c3d-93c3-954ed10963ac",
   "metadata": {},
   "source": [
    "### How to access a specific datasource?"
   ]
  },
  {
   "cell_type": "code",
   "execution_count": 4,
   "id": "a6242139-3ffa-4b95-952b-959daf6ce723",
   "metadata": {},
   "outputs": [
    {
     "name": "stdout",
     "output_type": "stream",
     "text": [
      "Data Type DataType.TABULAR\n",
      "\n",
      "Metadata columns=[Column(name='carat', data_type='categorical', var_type='float'), Column(name='cut', data_type='categorical', var_type='string'), Column(name='color', data_type='categorical', var_type='string'), Column(name='clarity', data_type='categorical', var_type='string'), Column(name='depth', data_type='categorical', var_type='float'), Column(name='table', data_type='categorical', var_type='float'), Column(name='price', data_type='numerical', var_type='int'), Column(name='x', data_type='categorical', var_type='float'), Column(name='y', data_type='categorical', var_type='float'), Column(name='z', data_type='categorical', var_type='float')]\n",
      "\n",
      "Name Diamonds\n"
     ]
    }
   ],
   "source": [
    "datasource = DataSources.get('2d2981da-0f18-4622-8f89-dae9e27be838')\n",
    "\n",
    "print(f'Data Type {datasource.data_type}')\n",
    "print(f'\\nMetadata {datasource.metadata}')\n",
    "print(f'\\nName {datasource.name}')"
   ]
  },
  {
   "cell_type": "markdown",
   "id": "5e6d9893-fb31-4fa4-952c-397fa46d6439",
   "metadata": {},
   "source": [
    "### How to access data?"
   ]
  },
  {
   "cell_type": "code",
   "execution_count": 5,
   "id": "f29f7e37-0dc0-49c6-994a-e029bbb1c381",
   "metadata": {},
   "outputs": [
    {
     "name": "stdout",
     "output_type": "stream",
     "text": [
      "\u001b[1mDataset \n",
      " \n",
      "\u001b[0m\u001b[1mShape: \u001b[0m(10000, 10)\n",
      "\u001b[1mSchema: \u001b[0m\n",
      "    Column Variable type\n",
      "0    carat         float\n",
      "1      cut        string\n",
      "2    color        string\n",
      "3  clarity        string\n",
      "4    depth         float\n",
      "5    table         float\n",
      "6    price           int\n",
      "7        x         float\n",
      "8        y         float\n",
      "9        z         float\n",
      "\n",
      "\n"
     ]
    }
   ],
   "source": [
    "# connector = datasource.connector\n",
    "# print(f'Connector: {connector}')\n",
    "\n",
    "sample_data = datasource.read_sample()\n",
    "print(sample_data)\n",
    "\n",
    "# full_data = datasource.read()"
   ]
  },
  {
   "cell_type": "markdown",
   "id": "09f35472-2263-427d-b465-1e2715447d67",
   "metadata": {},
   "source": [
    "## Synthesizers Module"
   ]
  },
  {
   "cell_type": "markdown",
   "id": "a0bb8524-51e1-4215-81bb-bc4e7a833c6c",
   "metadata": {},
   "source": [
    "The platform SDK synthesizers module allows to interact and consume any of the synthesizer elements created at the level of the UI. Through the SDK the user is able to perform the following actions:\n",
    "\n",
    "Synthesizers\n",
    "- **synthesizers.list** - List the synthesizers available within the user namespace\n",
    "- **synthesizers.get** - Access a particular synthesizer. The user is able to get the synthesizer training status and associated dataset metadata\n",
    "\n",
    "Synthesizer & Samples\n",
    "- **synthesizer.list_sample** - Access the history of samples generated using the synth\n",
    "- **synthesizer.sample** - Generate a sample with n records\n",
    "- **synthesizer.get_sample** - Access to a particular sample previously generated through the uuid"
   ]
  },
  {
   "cell_type": "code",
   "execution_count": 6,
   "id": "2c2e7fd6-a867-4f27-a911-2181d921699f",
   "metadata": {},
   "outputs": [],
   "source": [
    "from ydata.platform.synthesizers import Synthesizers"
   ]
  },
  {
   "cell_type": "markdown",
   "id": "89f93893-43ed-402b-90fa-68fbe0f15229",
   "metadata": {},
   "source": [
    "### How to list my synthesizers?"
   ]
  },
  {
   "cell_type": "code",
   "execution_count": 12,
   "id": "f870a1d8-42ef-49ec-860a-59d8e2a0ad3a",
   "metadata": {},
   "outputs": [
    {
     "data": {
      "text/plain": [
       "[Synthesizer(uid='0096e03c-4a0f-466d-bb47-ff1e8b972c0b', name='Diamonds', data_source_uid='2d2981da-0f18-4622-8f89-dae9e27be838', date=datetime.datetime(2022, 7, 6, 21, 56, 22, tzinfo=datetime.timezone.utc), status=<Status.failed: 'failed'>, metadata=Metadata(columns=[Column(name='carat', data_type='numerical', var_type='float', generation=True), Column(name='cut', data_type='categorical', var_type='string', generation=True), Column(name='color', data_type='categorical', var_type='string', generation=True), Column(name='clarity', data_type='categorical', var_type='string', generation=True), Column(name='depth', data_type='categorical', var_type='float', generation=True), Column(name='table', data_type='categorical', var_type='float', generation=True), Column(name='price', data_type='numerical', var_type='int', generation=True), Column(name='x', data_type='categorical', var_type='float', generation=True), Column(name='y', data_type='categorical', var_type='float', generation=True), Column(name='z', data_type='categorical', var_type='float', generation=True)], target='carat'), namespace='45685d15-0577-4001-834b-701ed6a52ad0'),\n",
       " Synthesizer(uid='44479a21-bc43-49c4-8e82-b52858e11009', name='Census - synth', data_source_uid='62f9e9c1-bdb8-4648-b3ef-cf253e517051', date=datetime.datetime(2022, 7, 9, 18, 25, 4, tzinfo=datetime.timezone.utc), status=<Status.finished: 'finished'>, metadata=Metadata(columns=[Column(name='Column_0', data_type='categorical', var_type='int', generation=True), Column(name='Column_1', data_type='categorical', var_type='string', generation=True), Column(name='Column_2', data_type='numerical', var_type='int', generation=True), Column(name='Column_3', data_type='categorical', var_type='string', generation=True), Column(name='Column_4', data_type='categorical', var_type='int', generation=True), Column(name='Column_5', data_type='categorical', var_type='string', generation=True), Column(name='Column_6', data_type='categorical', var_type='string', generation=True), Column(name='Column_7', data_type='categorical', var_type='string', generation=True), Column(name='Column_8', data_type='categorical', var_type='string', generation=True), Column(name='Column_9', data_type='categorical', var_type='string', generation=True), Column(name='Column_10', data_type='categorical', var_type='int', generation=True), Column(name='Column_11', data_type='categorical', var_type='int', generation=True), Column(name='Column_12', data_type='categorical', var_type='int', generation=True), Column(name='Column_13', data_type='categorical', var_type='string', generation=True), Column(name='Column_14', data_type='categorical', var_type='string', generation=True)], target='Column_14'), namespace='45685d15-0577-4001-834b-701ed6a52ad0'),\n",
       " Synthesizer(uid='5c34b84e-3ac1-493d-8ae8-e4577ad387da', name='Beijing AIQ', data_source_uid='be94abbc-889d-46b2-b99a-820011d7f409', date=datetime.datetime(2022, 7, 7, 17, 2, 27, tzinfo=datetime.timezone.utc), status=<Status.finished: 'finished'>, metadata=Metadata(columns=[TimeseriesColumn(name='No', data_type='numerical', var_type='int', generation=True, sort_by=True, entity=False, entity_attribute=False), TimeseriesColumn(name='PM2.5', data_type='numerical', var_type='float', generation=True, sort_by=False, entity=False, entity_attribute=False), TimeseriesColumn(name='PM10', data_type='numerical', var_type='float', generation=True, sort_by=False, entity=False, entity_attribute=False), TimeseriesColumn(name='SO2', data_type='numerical', var_type='float', generation=True, sort_by=False, entity=False, entity_attribute=False), TimeseriesColumn(name='NO2', data_type='numerical', var_type='float', generation=True, sort_by=False, entity=False, entity_attribute=False), TimeseriesColumn(name='CO', data_type='numerical', var_type='float', generation=True, sort_by=False, entity=False, entity_attribute=False), TimeseriesColumn(name='O3', data_type='numerical', var_type='float', generation=True, sort_by=False, entity=False, entity_attribute=False), TimeseriesColumn(name='TEMP', data_type='numerical', var_type='float', generation=True, sort_by=False, entity=False, entity_attribute=False), TimeseriesColumn(name='PRES', data_type='numerical', var_type='float', generation=True, sort_by=False, entity=False, entity_attribute=False), TimeseriesColumn(name='DEWP', data_type='numerical', var_type='float', generation=True, sort_by=False, entity=False, entity_attribute=False), TimeseriesColumn(name='RAIN', data_type='numerical', var_type='float', generation=True, sort_by=False, entity=False, entity_attribute=False), TimeseriesColumn(name='wd', data_type='categorical', var_type='string', generation=True, sort_by=False, entity=False, entity_attribute=False), TimeseriesColumn(name='WSPM', data_type='numerical', var_type='float', generation=True, sort_by=False, entity=False, entity_attribute=False), TimeseriesColumn(name='station', data_type='categorical', var_type='string', generation=True, sort_by=False, entity=False, entity_attribute=False), TimeseriesColumn(name='Datetime', data_type='categorical', var_type='string', generation=False, sort_by=False, entity=False, entity_attribute=False)], target='PM2.5'), namespace='45685d15-0577-4001-834b-701ed6a52ad0'),\n",
       " Synthesizer(uid='bc7f7da9-050f-4745-86a2-f50ccca87b85', name='Beijing - Synth', data_source_uid='be94abbc-889d-46b2-b99a-820011d7f409', date=datetime.datetime(2022, 7, 7, 8, 8, 40, tzinfo=datetime.timezone.utc), status=<Status.failed: 'failed'>, metadata=Metadata(columns=[TimeseriesColumn(name='No', data_type='numerical', var_type='int', generation=True, sort_by=True, entity=False, entity_attribute=False), TimeseriesColumn(name='PM2.5', data_type='numerical', var_type='float', generation=True, sort_by=False, entity=False, entity_attribute=False), TimeseriesColumn(name='PM10', data_type='numerical', var_type='float', generation=True, sort_by=False, entity=False, entity_attribute=False), TimeseriesColumn(name='SO2', data_type='numerical', var_type='float', generation=True, sort_by=False, entity=False, entity_attribute=False), TimeseriesColumn(name='NO2', data_type='numerical', var_type='float', generation=True, sort_by=False, entity=False, entity_attribute=False), TimeseriesColumn(name='CO', data_type='numerical', var_type='float', generation=True, sort_by=False, entity=False, entity_attribute=False), TimeseriesColumn(name='O3', data_type='numerical', var_type='float', generation=True, sort_by=False, entity=False, entity_attribute=False), TimeseriesColumn(name='TEMP', data_type='numerical', var_type='float', generation=True, sort_by=False, entity=False, entity_attribute=False), TimeseriesColumn(name='PRES', data_type='numerical', var_type='float', generation=True, sort_by=False, entity=False, entity_attribute=False), TimeseriesColumn(name='DEWP', data_type='numerical', var_type='float', generation=True, sort_by=False, entity=False, entity_attribute=False), TimeseriesColumn(name='RAIN', data_type='numerical', var_type='float', generation=True, sort_by=False, entity=False, entity_attribute=False), TimeseriesColumn(name='wd', data_type='categorical', var_type='string', generation=True, sort_by=False, entity=False, entity_attribute=False), TimeseriesColumn(name='WSPM', data_type='numerical', var_type='float', generation=True, sort_by=False, entity=False, entity_attribute=False), TimeseriesColumn(name='station', data_type='categorical', var_type='string', generation=True, sort_by=False, entity=False, entity_attribute=False), TimeseriesColumn(name='Datetime', data_type='categorical', var_type='string', generation=False, sort_by=False, entity=False, entity_attribute=False)], target='No'), namespace='45685d15-0577-4001-834b-701ed6a52ad0'),\n",
       " Synthesizer(uid='e42d79eb-c3b1-4e77-980c-d56c0ce1dd7a', name='GAS - Consumption', data_source_uid='5333c910-6185-4290-a2fc-6b31659938d0', date=datetime.datetime(2022, 7, 8, 3, 32, 51, tzinfo=datetime.timezone.utc), status=<Status.finished: 'finished'>, metadata=Metadata(columns=[TimeseriesColumn(name='Time (s)', data_type='numerical', var_type='float', generation=True, sort_by=True, entity=False, entity_attribute=False), TimeseriesColumn(name='CO (ppm)', data_type='numerical', var_type='float', generation=True, sort_by=False, entity=False, entity_attribute=False), TimeseriesColumn(name='Humidity (%r.h.)', data_type='numerical', var_type='float', generation=True, sort_by=False, entity=False, entity_attribute=False), TimeseriesColumn(name='Temperature (C)', data_type='numerical', var_type='float', generation=True, sort_by=False, entity=False, entity_attribute=False), TimeseriesColumn(name='Flow rate (mL/min)', data_type='numerical', var_type='float', generation=True, sort_by=False, entity=False, entity_attribute=False), TimeseriesColumn(name='Heater voltage (V)', data_type='numerical', var_type='float', generation=True, sort_by=False, entity=False, entity_attribute=False), TimeseriesColumn(name='R1 (MOhm)', data_type='numerical', var_type='float', generation=True, sort_by=False, entity=False, entity_attribute=False), TimeseriesColumn(name='R2 (MOhm)', data_type='numerical', var_type='float', generation=True, sort_by=False, entity=False, entity_attribute=False), TimeseriesColumn(name='R3 (MOhm)', data_type='numerical', var_type='float', generation=True, sort_by=False, entity=False, entity_attribute=False), TimeseriesColumn(name='R4 (MOhm)', data_type='numerical', var_type='float', generation=True, sort_by=False, entity=False, entity_attribute=False), TimeseriesColumn(name='R5 (MOhm)', data_type='numerical', var_type='float', generation=True, sort_by=False, entity=False, entity_attribute=False), TimeseriesColumn(name='R6 (MOhm)', data_type='numerical', var_type='float', generation=True, sort_by=False, entity=False, entity_attribute=False), TimeseriesColumn(name='R7 (MOhm)', data_type='numerical', var_type='float', generation=True, sort_by=False, entity=False, entity_attribute=False), TimeseriesColumn(name='R8 (MOhm)', data_type='numerical', var_type='float', generation=True, sort_by=False, entity=False, entity_attribute=False), TimeseriesColumn(name='R9 (MOhm)', data_type='numerical', var_type='float', generation=True, sort_by=False, entity=False, entity_attribute=False), TimeseriesColumn(name='R10 (MOhm)', data_type='numerical', var_type='float', generation=True, sort_by=False, entity=False, entity_attribute=False), TimeseriesColumn(name='R11 (MOhm)', data_type='numerical', var_type='float', generation=True, sort_by=False, entity=False, entity_attribute=False), TimeseriesColumn(name='R12 (MOhm)', data_type='numerical', var_type='float', generation=True, sort_by=False, entity=False, entity_attribute=False), TimeseriesColumn(name='R13 (MOhm)', data_type='numerical', var_type='float', generation=True, sort_by=False, entity=False, entity_attribute=False), TimeseriesColumn(name='R14 (MOhm)', data_type='numerical', var_type='float', generation=True, sort_by=False, entity=False, entity_attribute=False)], target='Humidity (%r.h.)'), namespace='45685d15-0577-4001-834b-701ed6a52ad0')]"
      ]
     },
     "execution_count": 12,
     "metadata": {},
     "output_type": "execute_result"
    }
   ],
   "source": [
    "synthesizers = Synthesizers.list()\n",
    "synthesizers"
   ]
  },
  {
   "cell_type": "markdown",
   "id": "f2621a28-0c8b-495f-8c63-82e377cac6a6",
   "metadata": {},
   "source": [
    "### How to access a specific synthesizer?"
   ]
  },
  {
   "cell_type": "code",
   "execution_count": 8,
   "id": "8811b141-d44a-4554-886f-b354c2986e36",
   "metadata": {},
   "outputs": [
    {
     "name": "stdout",
     "output_type": "stream",
     "text": [
      "status Status.finished\n",
      "metadata columns=[Column(name='Column_0', data_type='categorical', var_type='int', generation=True), Column(name='Column_1', data_type='categorical', var_type='string', generation=True), Column(name='Column_2', data_type='numerical', var_type='int', generation=True), Column(name='Column_3', data_type='categorical', var_type='string', generation=True), Column(name='Column_4', data_type='categorical', var_type='int', generation=True), Column(name='Column_5', data_type='categorical', var_type='string', generation=True), Column(name='Column_6', data_type='categorical', var_type='string', generation=True), Column(name='Column_7', data_type='categorical', var_type='string', generation=True), Column(name='Column_8', data_type='categorical', var_type='string', generation=True), Column(name='Column_9', data_type='categorical', var_type='string', generation=True), Column(name='Column_10', data_type='categorical', var_type='int', generation=True), Column(name='Column_11', data_type='categorical', var_type='int', generation=True), Column(name='Column_12', data_type='categorical', var_type='int', generation=True), Column(name='Column_13', data_type='categorical', var_type='string', generation=True), Column(name='Column_14', data_type='categorical', var_type='string', generation=True)] target='Column_14'\n"
     ]
    }
   ],
   "source": [
    "synthesizer = Synthesizers.get('44479a21-bc43-49c4-8e82-b52858e11009')\n",
    "print(f'status {synthesizer.status}')\n",
    "print(f'metadata {synthesizer.metadata}')"
   ]
  },
  {
   "cell_type": "markdown",
   "id": "4f439af5-e8e0-4d4e-ae7f-9b4fef90deae",
   "metadata": {},
   "source": [
    "### Generating a sample from the synthesizer"
   ]
  },
  {
   "cell_type": "code",
   "execution_count": 7,
   "id": "b3ca1bdf-6049-425c-af97-fd50f885959a",
   "metadata": {},
   "outputs": [
    {
     "name": "stdout",
     "output_type": "stream",
     "text": [
      "generated sample \n",
      "uid='3a940d5b-0f88-4fa2-8539-052b45593120' author='luis.portela@ydata.ai' total_records=200 link=''\n"
     ]
    }
   ],
   "source": [
    "sample = synthesizer.sample(200)\n",
    "\n",
    "print(f'generated sample \\n{sample}')"
   ]
  },
  {
   "cell_type": "markdown",
   "id": "e1aa5cba-b22d-45e9-82a3-a8d5b096fb19",
   "metadata": {},
   "source": [
    "### List samples for a synthesizer"
   ]
  },
  {
   "cell_type": "code",
   "execution_count": 9,
   "id": "aedd6c0d-9b8b-4e64-b007-0506f996581e",
   "metadata": {},
   "outputs": [
    {
     "name": "stdout",
     "output_type": "stream",
     "text": [
      "[Sample(uid='9cbb2893-d95c-43ea-8032-42c29c14e08c', author='fabiana.clemente@ydata.ai', total_records=50000, link='')]\n"
     ]
    }
   ],
   "source": [
    "samples = synthesizer.list_samples()\n",
    "print(samples)"
   ]
  },
  {
   "cell_type": "markdown",
   "id": "12447637-79b1-49f9-8104-935b95e020e4",
   "metadata": {},
   "source": [
    "## Access to a specific sample"
   ]
  },
  {
   "cell_type": "code",
   "execution_count": 10,
   "id": "74b6aa4d-f049-49d0-8288-0119f44e76be",
   "metadata": {},
   "outputs": [
    {
     "name": "stdout",
     "output_type": "stream",
     "text": [
      "uid='9cbb2893-d95c-43ea-8032-42c29c14e08c' author='fabiana.clemente@ydata.ai' total_records=50000 link=''\n"
     ]
    }
   ],
   "source": [
    "sample = synthesizer.get_sample('9cbb2893-d95c-43ea-8032-42c29c14e08c')\n",
    "print(sample)"
   ]
  }
 ],
 "metadata": {
  "kernelspec": {
   "display_name": "Python 3 (ipykernel)",
   "language": "python",
   "name": "python3"
  },
  "language_info": {
   "codemirror_mode": {
    "name": "ipython",
    "version": 3
   },
   "file_extension": ".py",
   "mimetype": "text/x-python",
   "name": "python",
   "nbconvert_exporter": "python",
   "pygments_lexer": "ipython3",
   "version": "3.8.13"
  }
 },
 "nbformat": 4,
 "nbformat_minor": 5
}
