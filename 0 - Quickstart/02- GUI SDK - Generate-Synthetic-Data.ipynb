{
 "cells": [
  {
   "cell_type": "markdown",
   "id": "7ef89e7b-0fa7-4bf9-8176-34ed2e938e08",
   "metadata": {},
   "source": [
    "## **YData Fabric GUI SDK - Generate Synthetic Data**\n",
    "\n",
    "In this quickstart example, we demonstrate how to generate synthetic data using a Fabric synthetic data generation capabilities. For the SaaS community version it is possible to generate synthetic data samples from a Synthetic Data generator that have been previously trained through the GUI. \n",
    "\n",
    "If you don't have yet a dataset, grab the \"census.csv\" in this example and follow the next steps in the UI:\n",
    "\n",
    "- *Upload the CSV through the Data Catalog*\n",
    "\n",
    "<img src =\"img/Upload_csv_data_catalog.png\" width = \"600\" height = \"300\" >\n",
    "\n",
    "- *Create a Synthetic data generation through the GUI*\n",
    "\n",
    "<img src =\"img/synthetic_data.png\" width = \"600\" height = \"300\" >\n",
    "\n",
    "- *Copy the code snippet from \"Use in Labs\"*\n",
    "\n",
    "The code snippet will be similar to the code available in the next cell"
   ]
  },
  {
   "cell_type": "code",
   "execution_count": 11,
   "id": "37cb7f43-528b-4d17-9016-11ae1e731b31",
   "metadata": {
    "tags": []
   },
   "outputs": [],
   "source": [
    "# Importing YData's platform SDK\n",
    "from ydata.labs import Synthesizers\n",
    "# Accessing the Synthesizer and printing its details\n",
    "synthesizer = Synthesizers.get(uid='{add-synth-id}')"
   ]
  },
  {
   "cell_type": "code",
   "execution_count": 10,
   "id": "d4fddc84-1a72-42ec-9fc8-5e653c433332",
   "metadata": {
    "tags": []
   },
   "outputs": [],
   "source": [
    "# Sampling from existing synth\n",
    "synth_dataset = synthesizer.sample(10000) # The generated sample will be created in the UI under the Generation tab"
   ]
  },
  {
   "cell_type": "code",
   "execution_count": 12,
   "id": "17fcc1f2-287a-4dab-9bb2-d305f454027e",
   "metadata": {
    "tags": []
   },
   "outputs": [
    {
     "data": {
      "text/html": [
       "<div>\n",
       "<style scoped>\n",
       "    .dataframe tbody tr th:only-of-type {\n",
       "        vertical-align: middle;\n",
       "    }\n",
       "\n",
       "    .dataframe tbody tr th {\n",
       "        vertical-align: top;\n",
       "    }\n",
       "\n",
       "    .dataframe thead th {\n",
       "        text-align: right;\n",
       "    }\n",
       "</style>\n",
       "<table border=\"1\" class=\"dataframe\">\n",
       "  <thead>\n",
       "    <tr style=\"text-align: right;\">\n",
       "      <th></th>\n",
       "      <th>Column_0</th>\n",
       "      <th>Column_1</th>\n",
       "      <th>Column_2</th>\n",
       "      <th>Column_3</th>\n",
       "      <th>Column_4</th>\n",
       "      <th>Column_5</th>\n",
       "      <th>Column_6</th>\n",
       "      <th>Column_7</th>\n",
       "      <th>Column_8</th>\n",
       "      <th>Column_9</th>\n",
       "      <th>Column_10</th>\n",
       "      <th>Column_11</th>\n",
       "      <th>Column_12</th>\n",
       "      <th>Column_13</th>\n",
       "      <th>Column_14</th>\n",
       "    </tr>\n",
       "  </thead>\n",
       "  <tbody>\n",
       "    <tr>\n",
       "      <th>0</th>\n",
       "      <td>52</td>\n",
       "      <td>Private</td>\n",
       "      <td>195638</td>\n",
       "      <td>11th</td>\n",
       "      <td>7</td>\n",
       "      <td>Separated</td>\n",
       "      <td>Handlers-cleaners</td>\n",
       "      <td>Unmarried</td>\n",
       "      <td>Black</td>\n",
       "      <td>Female</td>\n",
       "      <td>0</td>\n",
       "      <td>0</td>\n",
       "      <td>40</td>\n",
       "      <td>United-States</td>\n",
       "      <td>&lt;=50K</td>\n",
       "    </tr>\n",
       "    <tr>\n",
       "      <th>1</th>\n",
       "      <td>32</td>\n",
       "      <td>Private</td>\n",
       "      <td>185480</td>\n",
       "      <td>Assoc-voc</td>\n",
       "      <td>11</td>\n",
       "      <td>Married-civ-spouse</td>\n",
       "      <td>Handlers-cleaners</td>\n",
       "      <td>Husband</td>\n",
       "      <td>White</td>\n",
       "      <td>Male</td>\n",
       "      <td>0</td>\n",
       "      <td>0</td>\n",
       "      <td>38</td>\n",
       "      <td>United-States</td>\n",
       "      <td>&gt;50K</td>\n",
       "    </tr>\n",
       "    <tr>\n",
       "      <th>2</th>\n",
       "      <td>32</td>\n",
       "      <td>Federal-gov</td>\n",
       "      <td>148138</td>\n",
       "      <td>Some-college</td>\n",
       "      <td>10</td>\n",
       "      <td>Never-married</td>\n",
       "      <td>Adm-clerical</td>\n",
       "      <td>Unmarried</td>\n",
       "      <td>White</td>\n",
       "      <td>Female</td>\n",
       "      <td>0</td>\n",
       "      <td>0</td>\n",
       "      <td>18</td>\n",
       "      <td>United-States</td>\n",
       "      <td>&lt;=50K</td>\n",
       "    </tr>\n",
       "    <tr>\n",
       "      <th>3</th>\n",
       "      <td>22</td>\n",
       "      <td>Private</td>\n",
       "      <td>250647</td>\n",
       "      <td>Some-college</td>\n",
       "      <td>10</td>\n",
       "      <td>Never-married</td>\n",
       "      <td>Other-service</td>\n",
       "      <td>Not-in-family</td>\n",
       "      <td>White</td>\n",
       "      <td>Male</td>\n",
       "      <td>4101</td>\n",
       "      <td>0</td>\n",
       "      <td>40</td>\n",
       "      <td>United-States</td>\n",
       "      <td>&lt;=50K</td>\n",
       "    </tr>\n",
       "    <tr>\n",
       "      <th>4</th>\n",
       "      <td>32</td>\n",
       "      <td>Local-gov</td>\n",
       "      <td>84119</td>\n",
       "      <td>Some-college</td>\n",
       "      <td>10</td>\n",
       "      <td>Divorced</td>\n",
       "      <td>Adm-clerical</td>\n",
       "      <td>Not-in-family</td>\n",
       "      <td>White</td>\n",
       "      <td>Female</td>\n",
       "      <td>0</td>\n",
       "      <td>0</td>\n",
       "      <td>40</td>\n",
       "      <td>United-States</td>\n",
       "      <td>&lt;=50K</td>\n",
       "    </tr>\n",
       "  </tbody>\n",
       "</table>\n",
       "</div>"
      ],
      "text/plain": [
       "   Column_0      Column_1  Column_2       Column_3  Column_4  \\\n",
       "0        52       Private    195638           11th         7   \n",
       "1        32       Private    185480      Assoc-voc        11   \n",
       "2        32   Federal-gov    148138   Some-college        10   \n",
       "3        22       Private    250647   Some-college        10   \n",
       "4        32     Local-gov     84119   Some-college        10   \n",
       "\n",
       "              Column_5            Column_6        Column_7 Column_8 Column_9  \\\n",
       "0            Separated   Handlers-cleaners       Unmarried    Black   Female   \n",
       "1   Married-civ-spouse   Handlers-cleaners         Husband    White     Male   \n",
       "2        Never-married        Adm-clerical       Unmarried    White   Female   \n",
       "3        Never-married       Other-service   Not-in-family    White     Male   \n",
       "4             Divorced        Adm-clerical   Not-in-family    White   Female   \n",
       "\n",
       "   Column_10  Column_11  Column_12       Column_13 Column_14  \n",
       "0          0          0         40   United-States     <=50K  \n",
       "1          0          0         38   United-States      >50K  \n",
       "2          0          0         18   United-States     <=50K  \n",
       "3       4101          0         40   United-States     <=50K  \n",
       "4          0          0         40   United-States     <=50K  "
      ]
     },
     "execution_count": 12,
     "metadata": {},
     "output_type": "execute_result"
    }
   ],
   "source": [
    "synth_dataset.head()"
   ]
  },
  {
   "cell_type": "markdown",
   "id": "d964e7e0-765f-4078-9349-47e50dbf6fc0",
   "metadata": {},
   "source": [
    "Any sample generated through the labs will be also available through the UI along with the Synthetic Data Quality PDF report and profiling compare."
   ]
  },
  {
   "cell_type": "markdown",
   "id": "b7bff958-6962-417f-afab-30dd9b55849e",
   "metadata": {
    "tags": []
   },
   "source": [
    "- *Synthetic data profiling compare*\n",
    "\n",
    "<img src =\"img/profiling.png\" width = \"600\" height = \"300\" >"
   ]
  }
 ],
 "metadata": {
  "kernelspec": {
   "display_name": "Python 3 (ipykernel)",
   "language": "python",
   "name": "python3"
  },
  "language_info": {
   "codemirror_mode": {
    "name": "ipython",
    "version": 3
   },
   "file_extension": ".py",
   "mimetype": "text/x-python",
   "name": "python",
   "nbconvert_exporter": "python",
   "pygments_lexer": "ipython3",
   "version": "3.10.7"
  }
 },
 "nbformat": 4,
 "nbformat_minor": 5
}
