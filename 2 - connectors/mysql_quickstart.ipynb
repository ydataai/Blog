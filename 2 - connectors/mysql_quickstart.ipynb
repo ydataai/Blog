{
 "cells": [
  {
   "cell_type": "markdown",
   "metadata": {},
   "source": [
    "# MySQL Connector - Quick Start\n",
    "\n",
    "The MySQL connector enables you to read/write data within the a MySQL database server with ease and integrate it with YData's platform.\n",
    "Reading a dataset from a MySQL server directly into a YData's `Dataset` allows its usage for Data Quality, Data Synthetisation and Preprocessing blocks.\n",
    "\n",
    "The MySQLConnector allows the user to perform the following actions:\n",
    "\n",
    "*More information*\n",
    "- **MySQLConnector.get_database_schema** - Validates wether a given blob is available.\n",
    "\n",
    "*Read & Write data*\n",
    "- **MySQLConnector.get_table** - Reads the data available within a given schema. Returns a Dataset object.\n",
    "- **MySQLConnector.query** - Reads the data retrieved by a database query. Returns a Dataset object.\n",
    "- **MySQLConnector.sample_query** - Reads a sample (sample_size) from the a query retrieved data. Returns a Dataset object.\n",
    "- **MySQLConnector.read_database** - Reads the full database data.\n",
    "- **MySQLConnector.write_table** - Writes a Dataset into a new schema table.\n",
    "\n",
    "This tutorial covers:\n",
    "- How to read data from MySQLConnector\n",
    "- How to read data (sample) from MySQLConnector\n",
    "- How to write data to MySQLConnector"
   ]
  },
  {
   "cell_type": "code",
   "execution_count": 7,
   "metadata": {},
   "outputs": [],
   "source": [
    "from ydata.connectors import MySQLConnector"
   ]
  },
  {
   "cell_type": "code",
   "execution_count": 8,
   "metadata": {},
   "outputs": [],
   "source": [
    "USERNAME = '{insert-username}'\n",
    "PASSWORD = '{insert-password}'\n",
    "HOSTNAME = '{insert-hostname}'\n",
    "PORT = '3306'\n",
    "DATABASE_NAME = '{insert-database-name}'\n",
    "\n",
    "conn_str = {\n",
    "    \"hostname\": f'{HOSTNAME}',\n",
    "    \"username\":f'{USERNAME}',\n",
    "    \"password\": f'{PASSWORD}',\n",
    "    \"port\": f'{PORT}',\n",
    "    \"database\": f'{DATABASE_NAME}'\n",
    "}\n",
    "\n",
    "conn = MySQLConnector(conn_string=conn_str)"
   ]
  },
  {
   "cell_type": "markdown",
   "metadata": {},
   "source": [
    "### Get database schema details\n",
    "\n",
    "For given schema at a AzureSQL server database it is possible to check the `tables` metadata as well as the relations between them."
   ]
  },
  {
   "cell_type": "code",
   "execution_count": 10,
   "metadata": {},
   "outputs": [
    {
     "name": "stdout",
     "output_type": "stream",
     "text": [
      "2022-07-11 21:32:01,131 INFO sqlalchemy.engine.base.Engine SHOW FULL TABLES FROM `berka`\n",
      "2022-07-11 21:32:01,133 INFO sqlalchemy.engine.base.Engine {}\n",
      "2022-07-11 21:32:01,139 INFO sqlalchemy.engine.base.Engine SHOW CREATE TABLE `account`\n",
      "2022-07-11 21:32:01,140 INFO sqlalchemy.engine.base.Engine {}\n",
      "2022-07-11 21:32:01,146 INFO sqlalchemy.engine.base.Engine \n",
      "                    select table_schema, table_name, column_name\n",
      "                    from information_schema.columns\n",
      "                    where (table_schema, table_name, lower(column_name)) in\n",
      "                    ((%(table_data_1_1)s, %(table_data_1_2)s, %(table_data_1_3)s));\n",
      "                \n",
      "2022-07-11 21:32:01,147 INFO sqlalchemy.engine.base.Engine {'table_data_1_1': 'berka', 'table_data_1_2': 'district', 'table_data_1_3': 'a1'}\n",
      "2022-07-11 21:32:01,151 INFO sqlalchemy.engine.base.Engine SHOW CREATE TABLE `district`\n",
      "2022-07-11 21:32:01,152 INFO sqlalchemy.engine.base.Engine {}\n",
      "2022-07-11 21:32:01,161 INFO sqlalchemy.engine.base.Engine SHOW CREATE TABLE `card`\n",
      "2022-07-11 21:32:01,163 INFO sqlalchemy.engine.base.Engine {}\n",
      "2022-07-11 21:32:01,168 INFO sqlalchemy.engine.base.Engine \n",
      "                    select table_schema, table_name, column_name\n",
      "                    from information_schema.columns\n",
      "                    where (table_schema, table_name, lower(column_name)) in\n",
      "                    ((%(table_data_1_1)s, %(table_data_1_2)s, %(table_data_1_3)s));\n",
      "                \n",
      "2022-07-11 21:32:01,170 INFO sqlalchemy.engine.base.Engine {'table_data_1_1': 'berka', 'table_data_1_2': 'disp', 'table_data_1_3': 'disp_id'}\n",
      "2022-07-11 21:32:01,175 INFO sqlalchemy.engine.base.Engine SHOW CREATE TABLE `disp`\n",
      "2022-07-11 21:32:01,176 INFO sqlalchemy.engine.base.Engine {}\n",
      "2022-07-11 21:32:01,202 INFO sqlalchemy.engine.base.Engine \n",
      "                    select table_schema, table_name, column_name\n",
      "                    from information_schema.columns\n",
      "                    where (table_schema, table_name, lower(column_name)) in\n",
      "                    ((%(table_data_1_1)s, %(table_data_1_2)s, %(table_data_1_3)s), (%(table_data_2_1)s, %(table_data_2_2)s, %(table_data_2_3)s));\n",
      "                \n",
      "2022-07-11 21:32:01,207 INFO sqlalchemy.engine.base.Engine {'table_data_1_1': 'berka', 'table_data_1_2': 'account', 'table_data_1_3': 'account_id', 'table_data_2_1': 'berka', 'table_data_2_2': 'client', 'table_data_2_3': 'client_id'}\n",
      "2022-07-11 21:32:01,223 INFO sqlalchemy.engine.base.Engine SHOW CREATE TABLE `client`\n",
      "2022-07-11 21:32:01,224 INFO sqlalchemy.engine.base.Engine {}\n",
      "2022-07-11 21:32:01,230 INFO sqlalchemy.engine.base.Engine \n",
      "                    select table_schema, table_name, column_name\n",
      "                    from information_schema.columns\n",
      "                    where (table_schema, table_name, lower(column_name)) in\n",
      "                    ((%(table_data_1_1)s, %(table_data_1_2)s, %(table_data_1_3)s));\n",
      "                \n",
      "2022-07-11 21:32:01,233 INFO sqlalchemy.engine.base.Engine {'table_data_1_1': 'berka', 'table_data_1_2': 'district', 'table_data_1_3': 'a1'}\n",
      "2022-07-11 21:32:01,239 INFO sqlalchemy.engine.base.Engine SHOW CREATE TABLE `loan`\n",
      "2022-07-11 21:32:01,241 INFO sqlalchemy.engine.base.Engine {}\n",
      "2022-07-11 21:32:01,250 INFO sqlalchemy.engine.base.Engine \n",
      "                    select table_schema, table_name, column_name\n",
      "                    from information_schema.columns\n",
      "                    where (table_schema, table_name, lower(column_name)) in\n",
      "                    ((%(table_data_1_1)s, %(table_data_1_2)s, %(table_data_1_3)s));\n",
      "                \n",
      "2022-07-11 21:32:01,252 INFO sqlalchemy.engine.base.Engine {'table_data_1_1': 'berka', 'table_data_1_2': 'account', 'table_data_1_3': 'account_id'}\n",
      "2022-07-11 21:32:01,259 INFO sqlalchemy.engine.base.Engine SHOW CREATE TABLE `order`\n",
      "2022-07-11 21:32:01,261 INFO sqlalchemy.engine.base.Engine {}\n",
      "2022-07-11 21:32:01,265 INFO sqlalchemy.engine.base.Engine \n",
      "                    select table_schema, table_name, column_name\n",
      "                    from information_schema.columns\n",
      "                    where (table_schema, table_name, lower(column_name)) in\n",
      "                    ((%(table_data_1_1)s, %(table_data_1_2)s, %(table_data_1_3)s));\n",
      "                \n",
      "2022-07-11 21:32:01,266 INFO sqlalchemy.engine.base.Engine {'table_data_1_1': 'berka', 'table_data_1_2': 'account', 'table_data_1_3': 'account_id'}\n",
      "2022-07-11 21:32:01,271 INFO sqlalchemy.engine.base.Engine SHOW CREATE TABLE `trans`\n",
      "2022-07-11 21:32:01,273 INFO sqlalchemy.engine.base.Engine {}\n",
      "2022-07-11 21:32:01,280 INFO sqlalchemy.engine.base.Engine \n",
      "                    select table_schema, table_name, column_name\n",
      "                    from information_schema.columns\n",
      "                    where (table_schema, table_name, lower(column_name)) in\n",
      "                    ((%(table_data_1_1)s, %(table_data_1_2)s, %(table_data_1_3)s));\n",
      "                \n",
      "2022-07-11 21:32:01,281 INFO sqlalchemy.engine.base.Engine {'table_data_1_1': 'berka', 'table_data_1_2': 'account', 'table_data_1_3': 'account_id'}\n"
     ]
    }
   ],
   "source": [
    "#Get the details from a selected schema from a MySQL schema/database\n",
    "schema = conn.get_database_schema()"
   ]
  },
  {
   "cell_type": "markdown",
   "metadata": {},
   "source": [
    "## Reading the data"
   ]
  },
  {
   "cell_type": "markdown",
   "metadata": {},
   "source": [
    "AzureSQL server connector allows to consume the data from a table, or get the data from query with the method `get_table` and `query`, respectively.\n",
    "The method `query_sample` enables the user to extract n rows *sample_size* from a given query results.\n",
    "\n",
    "The `index_col`argument it is not mandatory, but is highly recommended to be set by the user, for performance reasons. The column set as index should can only be of integer type for proper indexing."
   ]
  },
  {
   "cell_type": "code",
   "execution_count": 16,
   "metadata": {},
   "outputs": [
    {
     "name": "stdout",
     "output_type": "stream",
     "text": [
      "2022-07-11 21:34:18,868 INFO sqlalchemy.engine.base.Engine SHOW FULL TABLES FROM `berka`\n",
      "2022-07-11 21:34:18,870 INFO sqlalchemy.engine.base.Engine {}\n",
      "2022-07-11 21:34:18,875 INFO sqlalchemy.engine.base.Engine SHOW CREATE TABLE `account`\n",
      "2022-07-11 21:34:18,876 INFO sqlalchemy.engine.base.Engine {}\n",
      "2022-07-11 21:34:18,882 INFO sqlalchemy.engine.base.Engine \n",
      "                    select table_schema, table_name, column_name\n",
      "                    from information_schema.columns\n",
      "                    where (table_schema, table_name, lower(column_name)) in\n",
      "                    ((%(table_data_1_1)s, %(table_data_1_2)s, %(table_data_1_3)s));\n",
      "                \n",
      "2022-07-11 21:34:18,883 INFO sqlalchemy.engine.base.Engine {'table_data_1_1': 'berka', 'table_data_1_2': 'district', 'table_data_1_3': 'a1'}\n",
      "2022-07-11 21:34:18,887 INFO sqlalchemy.engine.base.Engine SHOW CREATE TABLE `district`\n",
      "2022-07-11 21:34:18,888 INFO sqlalchemy.engine.base.Engine {}\n",
      "2022-07-11 21:34:18,894 INFO sqlalchemy.engine.base.Engine SHOW CREATE TABLE `card`\n",
      "2022-07-11 21:34:18,895 INFO sqlalchemy.engine.base.Engine {}\n",
      "2022-07-11 21:34:18,913 INFO sqlalchemy.engine.base.Engine \n",
      "                    select table_schema, table_name, column_name\n",
      "                    from information_schema.columns\n",
      "                    where (table_schema, table_name, lower(column_name)) in\n",
      "                    ((%(table_data_1_1)s, %(table_data_1_2)s, %(table_data_1_3)s));\n",
      "                \n",
      "2022-07-11 21:34:18,914 INFO sqlalchemy.engine.base.Engine {'table_data_1_1': 'berka', 'table_data_1_2': 'disp', 'table_data_1_3': 'disp_id'}\n",
      "2022-07-11 21:34:18,935 INFO sqlalchemy.engine.base.Engine SHOW CREATE TABLE `disp`\n",
      "2022-07-11 21:34:18,940 INFO sqlalchemy.engine.base.Engine {}\n",
      "2022-07-11 21:34:18,964 INFO sqlalchemy.engine.base.Engine \n",
      "                    select table_schema, table_name, column_name\n",
      "                    from information_schema.columns\n",
      "                    where (table_schema, table_name, lower(column_name)) in\n",
      "                    ((%(table_data_1_1)s, %(table_data_1_2)s, %(table_data_1_3)s), (%(table_data_2_1)s, %(table_data_2_2)s, %(table_data_2_3)s));\n",
      "                \n",
      "2022-07-11 21:34:18,966 INFO sqlalchemy.engine.base.Engine {'table_data_1_1': 'berka', 'table_data_1_2': 'account', 'table_data_1_3': 'account_id', 'table_data_2_1': 'berka', 'table_data_2_2': 'client', 'table_data_2_3': 'client_id'}\n",
      "2022-07-11 21:34:18,984 INFO sqlalchemy.engine.base.Engine SHOW CREATE TABLE `client`\n",
      "2022-07-11 21:34:18,986 INFO sqlalchemy.engine.base.Engine {}\n",
      "2022-07-11 21:34:18,992 INFO sqlalchemy.engine.base.Engine \n",
      "                    select table_schema, table_name, column_name\n",
      "                    from information_schema.columns\n",
      "                    where (table_schema, table_name, lower(column_name)) in\n",
      "                    ((%(table_data_1_1)s, %(table_data_1_2)s, %(table_data_1_3)s));\n",
      "                \n",
      "2022-07-11 21:34:19,005 INFO sqlalchemy.engine.base.Engine {'table_data_1_1': 'berka', 'table_data_1_2': 'district', 'table_data_1_3': 'a1'}\n",
      "2022-07-11 21:34:19,013 INFO sqlalchemy.engine.base.Engine SHOW CREATE TABLE `loan`\n",
      "2022-07-11 21:34:19,016 INFO sqlalchemy.engine.base.Engine {}\n",
      "2022-07-11 21:34:19,020 INFO sqlalchemy.engine.base.Engine \n",
      "                    select table_schema, table_name, column_name\n",
      "                    from information_schema.columns\n",
      "                    where (table_schema, table_name, lower(column_name)) in\n",
      "                    ((%(table_data_1_1)s, %(table_data_1_2)s, %(table_data_1_3)s));\n",
      "                \n",
      "2022-07-11 21:34:19,023 INFO sqlalchemy.engine.base.Engine {'table_data_1_1': 'berka', 'table_data_1_2': 'account', 'table_data_1_3': 'account_id'}\n",
      "2022-07-11 21:34:19,027 INFO sqlalchemy.engine.base.Engine SHOW CREATE TABLE `order`\n",
      "2022-07-11 21:34:19,028 INFO sqlalchemy.engine.base.Engine {}\n",
      "2022-07-11 21:34:19,033 INFO sqlalchemy.engine.base.Engine \n",
      "                    select table_schema, table_name, column_name\n",
      "                    from information_schema.columns\n",
      "                    where (table_schema, table_name, lower(column_name)) in\n",
      "                    ((%(table_data_1_1)s, %(table_data_1_2)s, %(table_data_1_3)s));\n",
      "                \n",
      "2022-07-11 21:34:19,035 INFO sqlalchemy.engine.base.Engine {'table_data_1_1': 'berka', 'table_data_1_2': 'account', 'table_data_1_3': 'account_id'}\n",
      "2022-07-11 21:34:19,039 INFO sqlalchemy.engine.base.Engine SHOW CREATE TABLE `trans`\n",
      "2022-07-11 21:34:19,042 INFO sqlalchemy.engine.base.Engine {}\n",
      "2022-07-11 21:34:19,048 INFO sqlalchemy.engine.base.Engine \n",
      "                    select table_schema, table_name, column_name\n",
      "                    from information_schema.columns\n",
      "                    where (table_schema, table_name, lower(column_name)) in\n",
      "                    ((%(table_data_1_1)s, %(table_data_1_2)s, %(table_data_1_3)s));\n",
      "                \n",
      "2022-07-11 21:34:19,049 INFO sqlalchemy.engine.base.Engine {'table_data_1_1': 'berka', 'table_data_1_2': 'account', 'table_data_1_3': 'account_id'}\n"
     ]
    }
   ],
   "source": [
    "#Reading all records from a table from a schema of the selected database\n",
    "data_table = conn.get_table(table='{insert-table-name}', index_col='{insert-col-name}')"
   ]
  },
  {
   "cell_type": "code",
   "execution_count": 20,
   "metadata": {},
   "outputs": [
    {
     "name": "stdout",
     "output_type": "stream",
     "text": [
      "2022-07-11 21:38:42,774 INFO sqlalchemy.engine.base.OptionEngine Select * from berka.account;\n",
      "2022-07-11 21:38:42,776 INFO sqlalchemy.engine.base.OptionEngine {}\n"
     ]
    },
    {
     "data": {
      "text/html": [
       "<div>\n",
       "<style scoped>\n",
       "    .dataframe tbody tr th:only-of-type {\n",
       "        vertical-align: middle;\n",
       "    }\n",
       "\n",
       "    .dataframe tbody tr th {\n",
       "        vertical-align: top;\n",
       "    }\n",
       "\n",
       "    .dataframe thead th {\n",
       "        text-align: right;\n",
       "    }\n",
       "</style>\n",
       "<table border=\"1\" class=\"dataframe\">\n",
       "  <thead>\n",
       "    <tr style=\"text-align: right;\">\n",
       "      <th></th>\n",
       "      <th>account_id</th>\n",
       "      <th>district_id</th>\n",
       "      <th>frequency</th>\n",
       "      <th>date</th>\n",
       "    </tr>\n",
       "    <tr>\n",
       "      <th>idx</th>\n",
       "      <th></th>\n",
       "      <th></th>\n",
       "      <th></th>\n",
       "      <th></th>\n",
       "    </tr>\n",
       "  </thead>\n",
       "  <tbody>\n",
       "    <tr>\n",
       "      <th>0</th>\n",
       "      <td>1</td>\n",
       "      <td>18</td>\n",
       "      <td>POPLATEK MESICNE</td>\n",
       "      <td>950324</td>\n",
       "    </tr>\n",
       "    <tr>\n",
       "      <th>1</th>\n",
       "      <td>2</td>\n",
       "      <td>1</td>\n",
       "      <td>POPLATEK MESICNE</td>\n",
       "      <td>930226</td>\n",
       "    </tr>\n",
       "    <tr>\n",
       "      <th>2</th>\n",
       "      <td>3</td>\n",
       "      <td>5</td>\n",
       "      <td>POPLATEK MESICNE</td>\n",
       "      <td>970707</td>\n",
       "    </tr>\n",
       "    <tr>\n",
       "      <th>3</th>\n",
       "      <td>4</td>\n",
       "      <td>12</td>\n",
       "      <td>POPLATEK MESICNE</td>\n",
       "      <td>960221</td>\n",
       "    </tr>\n",
       "    <tr>\n",
       "      <th>4</th>\n",
       "      <td>5</td>\n",
       "      <td>15</td>\n",
       "      <td>POPLATEK MESICNE</td>\n",
       "      <td>970530</td>\n",
       "    </tr>\n",
       "    <tr>\n",
       "      <th>...</th>\n",
       "      <td>...</td>\n",
       "      <td>...</td>\n",
       "      <td>...</td>\n",
       "      <td>...</td>\n",
       "    </tr>\n",
       "    <tr>\n",
       "      <th>95</th>\n",
       "      <td>103</td>\n",
       "      <td>44</td>\n",
       "      <td>POPLATEK MESICNE</td>\n",
       "      <td>960310</td>\n",
       "    </tr>\n",
       "    <tr>\n",
       "      <th>96</th>\n",
       "      <td>104</td>\n",
       "      <td>37</td>\n",
       "      <td>POPLATEK MESICNE</td>\n",
       "      <td>930415</td>\n",
       "    </tr>\n",
       "    <tr>\n",
       "      <th>97</th>\n",
       "      <td>105</td>\n",
       "      <td>21</td>\n",
       "      <td>POPLATEK MESICNE</td>\n",
       "      <td>970710</td>\n",
       "    </tr>\n",
       "    <tr>\n",
       "      <th>98</th>\n",
       "      <td>106</td>\n",
       "      <td>63</td>\n",
       "      <td>POPLATEK MESICNE</td>\n",
       "      <td>941127</td>\n",
       "    </tr>\n",
       "    <tr>\n",
       "      <th>99</th>\n",
       "      <td>107</td>\n",
       "      <td>64</td>\n",
       "      <td>POPLATEK MESICNE</td>\n",
       "      <td>931105</td>\n",
       "    </tr>\n",
       "  </tbody>\n",
       "</table>\n",
       "<p>100 rows × 4 columns</p>\n",
       "</div>"
      ],
      "text/plain": [
       "     account_id  district_id         frequency    date\n",
       "idx                                                   \n",
       "0             1           18  POPLATEK MESICNE  950324\n",
       "1             2            1  POPLATEK MESICNE  930226\n",
       "2             3            5  POPLATEK MESICNE  970707\n",
       "3             4           12  POPLATEK MESICNE  960221\n",
       "4             5           15  POPLATEK MESICNE  970530\n",
       "..          ...          ...               ...     ...\n",
       "95          103           44  POPLATEK MESICNE  960310\n",
       "96          104           37  POPLATEK MESICNE  930415\n",
       "97          105           21  POPLATEK MESICNE  970710\n",
       "98          106           63  POPLATEK MESICNE  941127\n",
       "99          107           64  POPLATEK MESICNE  931105\n",
       "\n",
       "[100 rows x 4 columns]"
      ]
     },
     "execution_count": 20,
     "metadata": {},
     "output_type": "execute_result"
    }
   ],
   "source": [
    "#Reading a query from a database\n",
    "data = conn.query(\"{insert-query-str}\")\n",
    "data.head(100)"
   ]
  },
  {
   "cell_type": "code",
   "execution_count": 21,
   "metadata": {},
   "outputs": [
    {
     "name": "stdout",
     "output_type": "stream",
     "text": [
      "2022-07-11 21:39:42,536 INFO sqlalchemy.engine.base.OptionEngine Select * from berka.account ORDER BY RAND() LIMIT 100;\n",
      "2022-07-11 21:39:42,538 INFO sqlalchemy.engine.base.OptionEngine {}\n",
      "100\n"
     ]
    }
   ],
   "source": [
    "#Reading a sample from a provided query\n",
    "data_sample = conn.sample_query('{insert-query-str}', sample_size=100)\n",
    "print(len(data_sample))"
   ]
  },
  {
   "cell_type": "markdown",
   "metadata": {},
   "source": [
    "### Reading the whole database\n",
    "The `read_database` method enable the user to consume the full database into YData's platform. This will create a *MultiDataset* object containing the data from each table as well as the respective schema with variables types and relations hold between the different tables."
   ]
  },
  {
   "cell_type": "code",
   "execution_count": 6,
   "metadata": {},
   "outputs": [],
   "source": [
    "database = conn.read_database()"
   ]
  },
  {
   "cell_type": "markdown",
   "metadata": {},
   "source": [
    "## Writing the data\n",
    "YData MySQL server connector only enables the user to write the data to a new table to be created by the connector.\n",
    "If trying to write the information into a an already existing tale, an exception will be raise."
   ]
  },
  {
   "cell_type": "code",
   "execution_count": null,
   "metadata": {},
   "outputs": [],
   "source": [
    "conn.write_table(data=data_sample,\n",
    "                 name='{inser-new-table-name}',\n",
    "                 db_schema='{insert-schema}')\n"
   ]
  }
 ],
 "metadata": {
  "kernelspec": {
   "display_name": "Python 3 (ipykernel)",
   "language": "python",
   "name": "python3"
  },
  "language_info": {
   "codemirror_mode": {
    "name": "ipython",
    "version": 3
   },
   "file_extension": ".py",
   "mimetype": "text/x-python",
   "name": "python",
   "nbconvert_exporter": "python",
   "pygments_lexer": "ipython3",
   "version": "3.8.13"
  }
 },
 "nbformat": 4,
 "nbformat_minor": 4
}
