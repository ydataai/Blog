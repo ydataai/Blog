{
 "cells": [
  {
   "cell_type": "markdown",
   "metadata": {},
   "source": [
    "# Big Query Connector - Quick Start\n",
    "The BigQuery connector enables you to read/write data within BigQuery with ease and integrate it with YData's platform. \n",
    "Reading a dataset from BigQuery directly into a YData's `Dataset` allows its usage for Data Quality, Data Synthetisation and Preprocessing blocks.\n",
    "\n",
    "## Storage and Performance Notes\n",
    "BigQuery is not intended to hold large volumes of data as a pure data storage service. Its main advantages are based on the ability to execute SQL-like queries on existing tables which can efficiently aggregate data into new views. As such, for storage purposes we advise the use of Google Cloud Storage and provide the method `write_query_to_gcs`, available from the `BigQueryConnector`, that allows the user to export a given query to a Google Cloud Storage object.\n",
    "\n",
    "The BigQuery connector allows the user to perform the following actions:\n",
    "- **BiQueryConnector.datasets** - Returns a list with the name of the available datasets\n",
    "- **BiQueryConnector.list_tables** - Returns a list of the avaiable tables within a chosen dataset.\n",
    "- **BiQueryConnector.table_schema** - Returns a the schema for a selected table.\n",
    "- **BiQueryConnector.delete_dataset_if_exists** - Deletes a selected dataset. This action is only possible if the provided credentials have delete access. \n",
    "- **BiQueryConnector.delete_table_if_exists** - Deletes a selected table. This action is only possible if the provided credentials have delete access. \n",
    "- **BiQueryConnector.query** - Returns the data retrieved from a certain query as a Dataset object. The user is able to set the number of 'n_samples' to be fetched. "
   ]
  },
  {
   "cell_type": "code",
   "execution_count": 20,
   "metadata": {},
   "outputs": [],
   "source": [
    "from ydata.connectors import BigQueryConnector\n",
    "from ydata.utils.formats import read_json"
   ]
  },
  {
   "cell_type": "code",
   "execution_count": 21,
   "metadata": {},
   "outputs": [],
   "source": [
    "# Load your credentials from a file\\n\",\n",
    "#token = read_json('{insert-path-to-credentials}')\n",
    "\n",
    "token = read_json('gcs_credentials.json')\n",
    "\n",
    "# Instantiate the Connector\n",
    "#connector = BigQueryConnector(project_id='{insert-project-id}', keyfile_dict=token)\n",
    "\n",
    "connector = BigQueryConnector(project_id='ydatasynthetic', keyfile_dict=token)"
   ]
  },
  {
   "cell_type": "code",
   "execution_count": 22,
   "metadata": {},
   "outputs": [
    {
     "name": "stdout",
     "output_type": "stream",
     "text": [
      "['cardio_data', 'connectors_dev', 'dataset_test', 'decision_tree']\n",
      "['cardio_data', 'table_test', 'table_test1', 'table_test2']\n"
     ]
    }
   ],
   "source": [
    "# Check the available datasets\n",
    "print(connector.datasets)\n",
    "\n",
    "# Check the available tables for a given dataset\n",
    "print(connector.list_tables('{insert-dataset}'))"
   ]
  },
  {
   "cell_type": "code",
   "execution_count": 23,
   "metadata": {},
   "outputs": [
    {
     "data": {
      "text/plain": [
       "[{'name': 'age', 'type': 'INTEGER', 'mode': 'NULLABLE'},\n",
       " {'name': 'gender', 'type': 'INTEGER', 'mode': 'NULLABLE'},\n",
       " {'name': 'height', 'type': 'INTEGER', 'mode': 'NULLABLE'},\n",
       " {'name': 'weight', 'type': 'FLOAT', 'mode': 'NULLABLE'},\n",
       " {'name': 'ap_hi', 'type': 'INTEGER', 'mode': 'NULLABLE'},\n",
       " {'name': 'ap_lo', 'type': 'INTEGER', 'mode': 'NULLABLE'},\n",
       " {'name': 'cholesterol', 'type': 'INTEGER', 'mode': 'NULLABLE'},\n",
       " {'name': 'gluc', 'type': 'INTEGER', 'mode': 'NULLABLE'},\n",
       " {'name': 'smoke', 'type': 'INTEGER', 'mode': 'NULLABLE'},\n",
       " {'name': 'alco', 'type': 'INTEGER', 'mode': 'NULLABLE'},\n",
       " {'name': 'active', 'type': 'INTEGER', 'mode': 'NULLABLE'},\n",
       " {'name': 'cardio', 'type': 'INTEGER', 'mode': 'NULLABLE'}]"
      ]
     },
     "execution_count": 23,
     "metadata": {},
     "output_type": "execute_result"
    }
   ],
   "source": [
    "#Returns a of dictionaries with the column names and details (type and mode)\n",
    "connector.table_schema(dataset='{insert-dataset}', table='{insert-table}')"
   ]
  },
  {
   "cell_type": "code",
   "execution_count": null,
   "metadata": {},
   "outputs": [
    {
     "name": "stderr",
     "output_type": "stream",
     "text": [
      "Query complete after 1.44s: 100%|██████████| 1/1 [00:01<00:00,  1.44s/query]\n",
      "Downloading: 100%|██████████| 70000/70000 [00:02<00:00, 29079.85rows/s]\n"
     ]
    }
   ],
   "source": [
    "# Load a dataset\n",
    "data = connector.query(\n",
    "    \"SELECT * FROM {indert-dataset}.{insert-table}\"\n",
    ")"
   ]
  },
  {
   "cell_type": "code",
   "execution_count": 27,
   "metadata": {},
   "outputs": [
    {
     "data": {
      "text/html": [
       "<div>\n",
       "<style scoped>\n",
       "    .dataframe tbody tr th:only-of-type {\n",
       "        vertical-align: middle;\n",
       "    }\n",
       "\n",
       "    .dataframe tbody tr th {\n",
       "        vertical-align: top;\n",
       "    }\n",
       "\n",
       "    .dataframe thead th {\n",
       "        text-align: right;\n",
       "    }\n",
       "</style>\n",
       "<table border=\"1\" class=\"dataframe\">\n",
       "  <thead>\n",
       "    <tr style=\"text-align: right;\">\n",
       "      <th></th>\n",
       "      <th>age</th>\n",
       "      <th>gender</th>\n",
       "      <th>height</th>\n",
       "      <th>weight</th>\n",
       "      <th>ap_hi</th>\n",
       "      <th>ap_lo</th>\n",
       "      <th>cholesterol</th>\n",
       "      <th>gluc</th>\n",
       "      <th>smoke</th>\n",
       "      <th>alco</th>\n",
       "      <th>active</th>\n",
       "      <th>cardio</th>\n",
       "    </tr>\n",
       "    <tr>\n",
       "      <th>idx</th>\n",
       "      <th></th>\n",
       "      <th></th>\n",
       "      <th></th>\n",
       "      <th></th>\n",
       "      <th></th>\n",
       "      <th></th>\n",
       "      <th></th>\n",
       "      <th></th>\n",
       "      <th></th>\n",
       "      <th></th>\n",
       "      <th></th>\n",
       "      <th></th>\n",
       "    </tr>\n",
       "  </thead>\n",
       "  <tbody>\n",
       "    <tr>\n",
       "      <th>0</th>\n",
       "      <td>65</td>\n",
       "      <td>1</td>\n",
       "      <td>55</td>\n",
       "      <td>81.0</td>\n",
       "      <td>130</td>\n",
       "      <td>90</td>\n",
       "      <td>1</td>\n",
       "      <td>1</td>\n",
       "      <td>0</td>\n",
       "      <td>0</td>\n",
       "      <td>1</td>\n",
       "      <td>1</td>\n",
       "    </tr>\n",
       "    <tr>\n",
       "      <th>1</th>\n",
       "      <td>52</td>\n",
       "      <td>1</td>\n",
       "      <td>57</td>\n",
       "      <td>61.0</td>\n",
       "      <td>130</td>\n",
       "      <td>90</td>\n",
       "      <td>1</td>\n",
       "      <td>1</td>\n",
       "      <td>0</td>\n",
       "      <td>0</td>\n",
       "      <td>1</td>\n",
       "      <td>1</td>\n",
       "    </tr>\n",
       "    <tr>\n",
       "      <th>2</th>\n",
       "      <td>51</td>\n",
       "      <td>1</td>\n",
       "      <td>59</td>\n",
       "      <td>57.6</td>\n",
       "      <td>125</td>\n",
       "      <td>67</td>\n",
       "      <td>1</td>\n",
       "      <td>1</td>\n",
       "      <td>0</td>\n",
       "      <td>0</td>\n",
       "      <td>0</td>\n",
       "      <td>0</td>\n",
       "    </tr>\n",
       "    <tr>\n",
       "      <th>3</th>\n",
       "      <td>53</td>\n",
       "      <td>1</td>\n",
       "      <td>60</td>\n",
       "      <td>69.0</td>\n",
       "      <td>110</td>\n",
       "      <td>70</td>\n",
       "      <td>1</td>\n",
       "      <td>1</td>\n",
       "      <td>0</td>\n",
       "      <td>0</td>\n",
       "      <td>0</td>\n",
       "      <td>0</td>\n",
       "    </tr>\n",
       "    <tr>\n",
       "      <th>4</th>\n",
       "      <td>58</td>\n",
       "      <td>1</td>\n",
       "      <td>64</td>\n",
       "      <td>61.0</td>\n",
       "      <td>130</td>\n",
       "      <td>70</td>\n",
       "      <td>1</td>\n",
       "      <td>1</td>\n",
       "      <td>0</td>\n",
       "      <td>0</td>\n",
       "      <td>1</td>\n",
       "      <td>0</td>\n",
       "    </tr>\n",
       "    <tr>\n",
       "      <th>5</th>\n",
       "      <td>53</td>\n",
       "      <td>1</td>\n",
       "      <td>65</td>\n",
       "      <td>60.0</td>\n",
       "      <td>120</td>\n",
       "      <td>80</td>\n",
       "      <td>1</td>\n",
       "      <td>1</td>\n",
       "      <td>0</td>\n",
       "      <td>0</td>\n",
       "      <td>1</td>\n",
       "      <td>0</td>\n",
       "    </tr>\n",
       "    <tr>\n",
       "      <th>6</th>\n",
       "      <td>55</td>\n",
       "      <td>2</td>\n",
       "      <td>65</td>\n",
       "      <td>72.0</td>\n",
       "      <td>130</td>\n",
       "      <td>80</td>\n",
       "      <td>1</td>\n",
       "      <td>1</td>\n",
       "      <td>0</td>\n",
       "      <td>0</td>\n",
       "      <td>0</td>\n",
       "      <td>0</td>\n",
       "    </tr>\n",
       "    <tr>\n",
       "      <th>7</th>\n",
       "      <td>59</td>\n",
       "      <td>1</td>\n",
       "      <td>66</td>\n",
       "      <td>63.0</td>\n",
       "      <td>12</td>\n",
       "      <td>80</td>\n",
       "      <td>1</td>\n",
       "      <td>1</td>\n",
       "      <td>0</td>\n",
       "      <td>0</td>\n",
       "      <td>0</td>\n",
       "      <td>1</td>\n",
       "    </tr>\n",
       "    <tr>\n",
       "      <th>8</th>\n",
       "      <td>40</td>\n",
       "      <td>2</td>\n",
       "      <td>67</td>\n",
       "      <td>60.0</td>\n",
       "      <td>110</td>\n",
       "      <td>80</td>\n",
       "      <td>1</td>\n",
       "      <td>1</td>\n",
       "      <td>1</td>\n",
       "      <td>1</td>\n",
       "      <td>1</td>\n",
       "      <td>0</td>\n",
       "    </tr>\n",
       "    <tr>\n",
       "      <th>9</th>\n",
       "      <td>61</td>\n",
       "      <td>1</td>\n",
       "      <td>67</td>\n",
       "      <td>57.0</td>\n",
       "      <td>120</td>\n",
       "      <td>90</td>\n",
       "      <td>1</td>\n",
       "      <td>1</td>\n",
       "      <td>0</td>\n",
       "      <td>0</td>\n",
       "      <td>1</td>\n",
       "      <td>1</td>\n",
       "    </tr>\n",
       "  </tbody>\n",
       "</table>\n",
       "</div>"
      ],
      "text/plain": [
       "     age  gender  height  weight  ap_hi  ap_lo  cholesterol  gluc  smoke  \\\n",
       "idx                                                                        \n",
       "0     65       1      55    81.0    130     90            1     1      0   \n",
       "1     52       1      57    61.0    130     90            1     1      0   \n",
       "2     51       1      59    57.6    125     67            1     1      0   \n",
       "3     53       1      60    69.0    110     70            1     1      0   \n",
       "4     58       1      64    61.0    130     70            1     1      0   \n",
       "5     53       1      65    60.0    120     80            1     1      0   \n",
       "6     55       2      65    72.0    130     80            1     1      0   \n",
       "7     59       1      66    63.0     12     80            1     1      0   \n",
       "8     40       2      67    60.0    110     80            1     1      1   \n",
       "9     61       1      67    57.0    120     90            1     1      0   \n",
       "\n",
       "     alco  active  cardio  \n",
       "idx                        \n",
       "0       0       1       1  \n",
       "1       0       1       1  \n",
       "2       0       0       0  \n",
       "3       0       0       0  \n",
       "4       0       1       0  \n",
       "5       0       1       0  \n",
       "6       0       0       0  \n",
       "7       0       0       1  \n",
       "8       1       1       0  \n",
       "9       0       1       1  "
      ]
     },
     "execution_count": 27,
     "metadata": {},
     "output_type": "execute_result"
    }
   ],
   "source": [
    "data.head(10)"
   ]
  },
  {
   "cell_type": "code",
   "execution_count": 26,
   "metadata": {},
   "outputs": [
    {
     "name": "stderr",
     "output_type": "stream",
     "text": [
      "/opt/conda/lib/python3.8/site-packages/google/cloud/bigquery/table.py:1860: UserWarning: Cannot use bqstorage_client if max_results is set, reverting to fetching data with the REST endpoint.\n",
      "  if not self._validate_bqstorage(bqstorage_client, create_bqstorage_client):\n"
     ]
    }
   ],
   "source": [
    "# Load a sample of a dataset\n",
    "small_data = connector.query(\n",
    "    \"SELECT * FROM {dataset_name}.{table_name}\",\n",
    "    n_sample=10_000\n",
    ")"
   ]
  },
  {
   "cell_type": "markdown",
   "metadata": {},
   "source": [
    "## Advanced\n",
    "With `BigQueryConnector`, you can access useful properties and methods directly from the main class."
   ]
  },
  {
   "cell_type": "code",
   "execution_count": 15,
   "metadata": {},
   "outputs": [
    {
     "data": {
      "text/plain": [
       "['connectors_dev', 'dataset_test', 'decision_tree']"
      ]
     },
     "execution_count": 15,
     "metadata": {},
     "output_type": "execute_result"
    }
   ],
   "source": [
    "# List the datasets of a given project\n",
    "connector.datasets"
   ]
  },
  {
   "cell_type": "code",
   "execution_count": 16,
   "metadata": {},
   "outputs": [
    {
     "data": {
      "text/plain": [
       "<google.cloud.bigquery.client.Client at 0x7fcebc7fb940>"
      ]
     },
     "execution_count": 16,
     "metadata": {},
     "output_type": "execute_result"
    }
   ],
   "source": [
    "# Access the BigQuery Client\n",
    "connector.client"
   ]
  },
  {
   "cell_type": "code",
   "execution_count": 17,
   "metadata": {},
   "outputs": [],
   "source": [
    "# Create a new dataset\n",
    "connector.get_or_create_dataset(dataset='{insert-dataset}')"
   ]
  },
  {
   "cell_type": "code",
   "execution_count": null,
   "metadata": {},
   "outputs": [],
   "source": [
    "# Delete a dataset. WARNING: POTENTIAL LOSS OF DATA\n",
    "connector.delete_table_if_exists(dataset='{insert-dataset}', table='{insert-table}')"
   ]
  },
  {
   "cell_type": "code",
   "execution_count": null,
   "metadata": {},
   "outputs": [],
   "source": [
    "# Delete a dataset. WARNING: POTENTIAL LOSS OF DATA \n",
    "connector.delete_dataset_if_exists(dataset='{insert-dataset}')"
   ]
  },
  {
   "cell_type": "markdown",
   "metadata": {},
   "source": [
    "### Example #1 - Execute Pandas transformations and store to BigQuery"
   ]
  },
  {
   "cell_type": "code",
   "execution_count": null,
   "metadata": {},
   "outputs": [],
   "source": [
    "# export data to pandas\n",
    "small_df = small_data.to_pandas()\n",
    "#\n",
    "# DO TRANSFORMATIONS\n",
    "# (...)\n",
    "# \n",
    "# Write results to BigQuery table\n",
    "connector.write_table_from_data(data=small_df, dataset='{insert-dataset}', table='{insert-table}')"
   ]
  },
  {
   "cell_type": "markdown",
   "metadata": {},
   "source": [
    "### Example #2 - Write a BigQuery results to Google Cloud Storage"
   ]
  },
  {
   "cell_type": "code",
   "execution_count": null,
   "metadata": {},
   "outputs": [],
   "source": [
    "# Run a query in BigQuery and store it in Google Cloud Storage\n",
    "connector.write_query_to_gcs(query=\"{insert-query}\",\n",
    "                                path=\"gs://{insert-bucket}/{insert-filepath}\")"
   ]
  }
 ],
 "metadata": {
  "kernelspec": {
   "display_name": "Python 3 (ipykernel)",
   "language": "python",
   "name": "python3"
  },
  "language_info": {
   "codemirror_mode": {
    "name": "ipython",
    "version": 3
   },
   "file_extension": ".py",
   "mimetype": "text/x-python",
   "name": "python",
   "nbconvert_exporter": "python",
   "pygments_lexer": "ipython3",
   "version": "3.8.13"
  }
 },
 "nbformat": 4,
 "nbformat_minor": 4
}
