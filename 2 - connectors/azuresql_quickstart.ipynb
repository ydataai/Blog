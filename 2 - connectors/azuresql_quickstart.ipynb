{
 "cells": [
  {
   "cell_type": "markdown",
   "metadata": {},
   "source": [
    "# Azure SQL Connector - Quick Start\n",
    "\n",
    "The AzureSQL connector enables you to read/write data within the Azure SQL server with ease and integrate it with YData's platform.\n",
    "Reading a dataset from Azure SQL server directly into a YData's `Dataset` allows its usage for Data Quality, Data Synthetisation and Preprocessing blocks.\n",
    "\n",
    "The AzureSQLConnector allows the user to perform the following actions:\n",
    "- **AzureSQLConnector.check_blob** - Validates wether a given blob is available.\n",
    "- **AzureSQLConnector.delete_blob_if_exists** - Deletes a given blob. This action is only possible if the provided credentials have delete access. \n",
    "- **AzureSQLConnector.read** - Reads from a folder or file/blob given a certain file_type (Parquet or CSV).\n",
    "- **AzureSQLConnector.read_sample** - Reads a sample (sample_size) from a folder or file/blob given a certain file_type (Parquet or CSV).\n",
    "\n",
    "This tutorial covers:\n",
    "- How to read data from AzureSQLConnector\n",
    "- How to read data (sample) from AzureSQLConnector\n",
    "- How to write data to AzureSQLConnector\n",
    "- Read data from Synapses RDBMS"
   ]
  },
  {
   "cell_type": "code",
   "execution_count": 1,
   "metadata": {},
   "outputs": [],
   "source": [
    "from ydata.connectors import AzureSQLConnector"
   ]
  },
  {
   "cell_type": "code",
   "execution_count": 2,
   "metadata": {},
   "outputs": [],
   "source": [
    "USERNAME = '{insert-username}'\n",
    "PASSWORD = '{insert-password}'\n",
    "HOSTNAME = '{insert-hostname}'\n",
    "PORT = '1433'\n",
    "DATABASE_NAME = '{insert-database}'\n",
    "\n",
    "conn_str = {\n",
    "    \"hostname\": f'{HOSTNAME}',\n",
    "    \"username\":f'{USERNAME}',\n",
    "    \"password\": f'{PASSWORD}',\n",
    "    \"port\": f'{PORT}',\n",
    "    \"database\": f'{DATABASE_NAME}'\n",
    "}\n",
    "\n",
    "conn = AzureSQLConnector(conn_string=conn_str)"
   ]
  },
  {
   "cell_type": "markdown",
   "metadata": {},
   "source": [
    "### Get database schema details\n",
    "\n",
    "For given schema at a AzureSQL server database it is possible to check the `tables` metadata as well as the relations between them."
   ]
  },
  {
   "cell_type": "code",
   "execution_count": null,
   "metadata": {},
   "outputs": [],
   "source": [
    "#Get the details from a selected schema from the database\n",
    "#Schema is a mandatory input. The user can only access the information per selected schema\n",
    "conn.get_database_schema(db_schema='berka')"
   ]
  },
  {
   "cell_type": "markdown",
   "metadata": {},
   "source": [
    "## Reading the data"
   ]
  },
  {
   "cell_type": "markdown",
   "metadata": {},
   "source": [
    "AzureSQL server connector allows to consume the data from a table, or get the data from query with the method `get_table` and `query`, respectively. \n",
    "The method `query_sample` enables the user to extract n rows *sample_size* from a given query results."
   ]
  },
  {
   "cell_type": "code",
   "execution_count": null,
   "metadata": {},
   "outputs": [],
   "source": [
    "#Reading all records from a table from a schema of the selected database\n",
    "data_table = conn.get_table(table='{insert-table-name}', db_schema='{insert-schema-name}')"
   ]
  },
  {
   "cell_type": "code",
   "execution_count": 18,
   "metadata": {},
   "outputs": [],
   "source": [
    "#Reading a query from a database\n",
    "#For AzureSQL server it is mandatory to keep the schema reference for each query table\n",
    "data = conn.query(\"Select {inser-columns-select} from {schema}.{table};\")"
   ]
  },
  {
   "cell_type": "code",
   "execution_count": 19,
   "metadata": {},
   "outputs": [],
   "source": [
    "#Reading a query from a database\n",
    "#For AzureSQL server it is mandatory to keep the schema reference for each table\n",
    "data = conn.query(\"Select {inser-columns-select} from {schema}.{table};\")\n",
    "\n",
    "#Reading a sample from a provided query\n",
    "data_sample = conn.sample_query('{insert-query-str}', sample_size=10000)"
   ]
  },
  {
   "cell_type": "markdown",
   "metadata": {},
   "source": [
    "### Reading the whole database"
   ]
  },
  {
   "cell_type": "code",
   "execution_count": 6,
   "metadata": {},
   "outputs": [],
   "source": [
    "#Example here\n",
    "database = conn.read_database(db_schema='{insert-schema}')"
   ]
  },
  {
   "cell_type": "markdown",
   "metadata": {},
   "source": [
    "## Writing the data\n",
    "YData AzureSQL server connector only enables the user to write the data to a new table to be created by the connector. \n",
    "If trying to write the information into a an already existing tale, an exception will be raise."
   ]
  },
  {
   "cell_type": "code",
   "execution_count": null,
   "metadata": {},
   "outputs": [],
   "source": [
    "conn.write_table(data=data_sample,\n",
    "                 name='{inser-new-table-name}',\n",
    "                 db_schema='{insert-schema}')"
   ]
  }
 ],
 "metadata": {
  "kernelspec": {
   "display_name": "Python 3 (ipykernel)",
   "language": "python",
   "name": "python3"
  },
  "language_info": {
   "codemirror_mode": {
    "name": "ipython",
    "version": 3
   },
   "file_extension": ".py",
   "mimetype": "text/x-python",
   "name": "python",
   "nbconvert_exporter": "python",
   "pygments_lexer": "ipython3",
   "version": "3.8.13"
  }
 },
 "nbformat": 4,
 "nbformat_minor": 4
}
