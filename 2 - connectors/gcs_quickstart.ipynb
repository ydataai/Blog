{
 "cells": [
  {
   "cell_type": "markdown",
   "metadata": {},
   "source": [
    "# Google Cloud Storage Connector - Quick Start\n",
    "\n",
    "The CGS connector enables you to read/write data within the Google Cloud Storage with ease and integrate it with YData's platform.\n",
    "Reading a dataset from GCS directly into a YData's `Dataset` allows its usage for Data Quality, Data Synthetisation and Preprocessing blocks.\n",
    "\n",
    "The GCSConnector allows the user to perform the following actions:\n",
    "- **GCSConnector.check_blob** - Validates wether a given blob is available.\n",
    "- **GCSConnector.delete_blob_if_exists** - Deletes a given blob. This action is only possible if the provided credentials have delete access. \n",
    "- **GCSConnector.read** - Reads from a folder or file/blob given a certain file_type (Parquet or CSV).\n",
    "- **GCSConnector.read_sample** - Reads a sample (sample_size) from a folder or file/blob given a certain file_type (Parquet or CSV).\n",
    "\n",
    "This tutorial covers:\n",
    "- How to read data from GCS\n",
    "- How to read data (sample) from GCS\n",
    "- How to write data to GCS"
   ]
  },
  {
   "cell_type": "code",
   "execution_count": 1,
   "metadata": {},
   "outputs": [],
   "source": [
    "# Import the necessary packages\n",
    "from ydata.connectors import GCSConnector\n",
    "from ydata.connectors.filetype import FileType\n",
    "from ydata.utils.formats import read_json"
   ]
  },
  {
   "cell_type": "code",
   "execution_count": 2,
   "metadata": {},
   "outputs": [],
   "source": [
    "# Load your credentials from a file\n",
    "#token = read_json('{insert-path-to-credentials}')\n",
    "\n",
    "# Load your credentials from a file\n",
    "token = read_json('gcs_credentials.json')"
   ]
  },
  {
   "cell_type": "code",
   "execution_count": 3,
   "metadata": {},
   "outputs": [],
   "source": [
    "# Instantiate the Connector\n",
    "connector = GCSConnector(project_id=token['project_id'], keyfile_dict=token)"
   ]
  },
  {
   "cell_type": "code",
   "execution_count": null,
   "metadata": {},
   "outputs": [],
   "source": [
    "# Load a dataset\n",
    "# The file_type argument is optional. If not provided, we will infer it from the path you have provided.\n",
    "#data = connector.read_file('gs://{insert-bucket}/{insert-filepath}', file_type=FileType.CSV)\n",
    "\n",
    "data = connector.read_file('gs://{insert-bucket}/{insert-filepath}', file_type=FileType.CSV)\n",
    "data.head(100)"
   ]
  },
  {
   "cell_type": "code",
   "execution_count": null,
   "metadata": {
    "collapsed": false,
    "jupyter": {
     "outputs_hidden": false
    },
    "pycharm": {
     "name": "#%%\n"
    }
   },
   "outputs": [],
   "source": [
    "# For a quick glimpse, we can load a small subset of the data - let's say 100 rows\n",
    "very_small_data = connector.read_sample('gs://{insert-bucket}/{insert-filepath}', sample_size=100, file_type=FileType.CSV)"
   ]
  },
  {
   "cell_type": "code",
   "execution_count": null,
   "metadata": {},
   "outputs": [],
   "source": [
    "# Now imagine we want to store the sampled data.\n",
    "connector.write_file(small_data, 'gs://{insert-bucket}/{insert-filepath}')"
   ]
  },
  {
   "cell_type": "code",
   "execution_count": null,
   "metadata": {},
   "outputs": [],
   "source": [
    "# Alternatively, we can write a new Dataframe \n",
    "from pandas.util.testing import makeDataFrame\n",
    "dummy_df = makeDataFrame()\n",
    "connector.write_file(dummy_df, 'gs://{insert-bucket}/{insert-filepath}', write_index=True)"
   ]
  },
  {
   "cell_type": "markdown",
   "metadata": {},
   "source": [
    "## Advanced\n",
    "Advanced features enable you to manage Google Cloud Storage directly through the connector."
   ]
  },
  {
   "cell_type": "code",
   "execution_count": null,
   "metadata": {},
   "outputs": [],
   "source": [
    "#Reading multiple CSV files from a folder\n",
    "data = connector.read('gs://{insert-bucket}/{insert-folder}/*.csv', file_type=FileType.CSV)\n",
    "\n",
    "#or\n",
    "\n",
    "data = connector.read('gs://{insert-bucket}/{insert-folder}/', file_type=FileType.CSV)"
   ]
  },
  {
   "cell_type": "code",
   "execution_count": null,
   "metadata": {},
   "outputs": [],
   "source": [
    "# Delete a specific blob\n",
    "connector.delete_blob_if_exists('gs://{insert-bucket}/{insert-filepath}')"
   ]
  },
  {
   "cell_type": "code",
   "execution_count": null,
   "metadata": {},
   "outputs": [],
   "source": [
    "# List the contents under a given bucket\n",
    "connector.ls('gs://{insert-bucket}/')"
   ]
  },
  {
   "cell_type": "code",
   "execution_count": null,
   "metadata": {},
   "outputs": [],
   "source": [
    "# List the contents under a given bucket\n",
    "connector.ls('gs://{insert-bucket}/{insert-path}')"
   ]
  }
 ],
 "metadata": {
  "kernelspec": {
   "display_name": "Python 3 (ipykernel)",
   "language": "python",
   "name": "python3"
  },
  "language_info": {
   "codemirror_mode": {
    "name": "ipython",
    "version": 3
   },
   "file_extension": ".py",
   "mimetype": "text/x-python",
   "name": "python",
   "nbconvert_exporter": "python",
   "pygments_lexer": "ipython3",
   "version": "3.8.13"
  }
 },
 "nbformat": 4,
 "nbformat_minor": 4
}
