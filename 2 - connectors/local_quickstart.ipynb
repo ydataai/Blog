{
 "cells": [
  {
   "cell_type": "markdown",
   "metadata": {
    "pycharm": {
     "name": "#%% md\n"
    }
   },
   "source": [
    "# Local Connector - Quick Start\n",
    "The Local connector enables you to read/write data from and to local files. To read and load files from your lab using our connectors enables scalability to the ML flows.\n",
    "\n",
    "## Storage and Performance Notes\n",
    "The reading from local files is expected to be done for datasets of smaller size. For bigger workloads it is recommended to keep the data stored in remote FileSystems."
   ]
  },
  {
   "cell_type": "code",
   "execution_count": null,
   "metadata": {
    "collapsed": false,
    "jupyter": {
     "outputs_hidden": false
    },
    "pycharm": {
     "name": "#%%\n"
    }
   },
   "outputs": [],
   "source": [
    "from ydata.connectors import LocalConnector\n",
    "from ydata.connectors.filetype import FileType"
   ]
  },
  {
   "cell_type": "markdown",
   "metadata": {
    "pycharm": {
     "name": "#%% md\n"
    }
   },
   "source": [
    "As this connector reads the data from a localfile no credentials input is required.\n",
    "When providing the file path please confirm that you have provided the full path file - including the extension.\n",
    "FileType.CSV makes sure that the the type of your file is respected, even in the absence of an explicit path.\n",
    "\n",
    "### Reading the data"
   ]
  },
  {
   "cell_type": "code",
   "execution_count": null,
   "metadata": {
    "collapsed": false,
    "jupyter": {
     "outputs_hidden": false
    },
    "pycharm": {
     "name": "#%% Read the full dataset\n"
    }
   },
   "outputs": [],
   "source": [
    "connector = LocalConnector()\n",
    "data = connector.read_file(path='{insert-file-path}.csv', file_type=FileType.CSV)\n",
    "\n",
    "#Get the dataset shape\n",
    "data.shape(lazy_eval=False)"
   ]
  },
  {
   "cell_type": "code",
   "execution_count": null,
   "metadata": {
    "collapsed": false,
    "jupyter": {
     "outputs_hidden": false
    },
    "pycharm": {
     "name": "#%%\n"
    }
   },
   "outputs": [],
   "source": [
    "#Read a sample of the dataset\n",
    "sample = connector.read_sample(path='{insert-file-path}.csv',\n",
    "                               sample_size=2000,\n",
    "                               file_type=FileType.CSV)\n",
    "\n",
    "#Get the dataset shape\n",
    "sample.shape(lazy_eval=False)"
   ]
  },
  {
   "cell_type": "markdown",
   "metadata": {
    "pycharm": {
     "name": "#%% md\n"
    }
   },
   "source": [
    "### Listing the available files in a certain directory"
   ]
  },
  {
   "cell_type": "code",
   "execution_count": null,
   "metadata": {
    "collapsed": false,
    "jupyter": {
     "outputs_hidden": false
    },
    "pycharm": {
     "name": "#%%\n"
    }
   },
   "outputs": [],
   "source": [
    "#Return a dictionary with a list of subdictories and available files\n",
    "#{'dirs': [], 'files': []}\n",
    "files_dir = connector.list(path='{insert-directory}')"
   ]
  },
  {
   "cell_type": "markdown",
   "metadata": {
    "pycharm": {
     "name": "#%% md\n"
    }
   },
   "source": [
    "### Write file"
   ]
  },
  {
   "cell_type": "code",
   "execution_count": null,
   "metadata": {
    "collapsed": false,
    "jupyter": {
     "outputs_hidden": false
    },
    "pycharm": {
     "name": "#%%Write a file to a local directory\n"
    }
   },
   "outputs": [],
   "source": [
    "connector.write_file(data=data,\n",
    "                     path='{insert-file-path}.csv',\n",
    "                     files_dir=FileType.CSV)"
   ]
  }
 ],
 "metadata": {
  "kernelspec": {
   "display_name": "Python 3 (ipykernel)",
   "language": "python",
   "name": "python3"
  },
  "language_info": {
   "codemirror_mode": {
    "name": "ipython",
    "version": 3
   },
   "file_extension": ".py",
   "mimetype": "text/x-python",
   "name": "python",
   "nbconvert_exporter": "python",
   "pygments_lexer": "ipython3",
   "version": "3.7.11"
  }
 },
 "nbformat": 4,
 "nbformat_minor": 4
}
