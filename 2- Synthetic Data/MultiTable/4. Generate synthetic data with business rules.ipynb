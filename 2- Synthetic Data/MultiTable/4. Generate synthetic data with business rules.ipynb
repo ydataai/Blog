{
 "cells": [
  {
   "cell_type": "markdown",
   "id": "869be392",
   "metadata": {},
   "source": [
    "# Multi-Table Synthesis with Business Rules\n",
    "\n",
    "Combining synthetic data with traditional anonymization enhances privacy and data utility while ensuring compliance with regulations. Synthetic data reduces re-identification risks by not being directly tied to individuals, preserving the usefulness of data for analysis. This approach also facilitates safer data sharing and collaboration by adding an extra layer of privacy protection that allows to replicate the same schema while protecting certain identifiers, like zip-codes or even unique identifiers, making it a strategic choice for organizations handling sensitive information. \n",
    "\n",
    "In this notebook we will be exploring how to combine the benefits of the `MultiTableSynthesizer`with YData Fabric Anonymizer."
   ]
  },
  {
   "cell_type": "markdown",
   "id": "9d9e33ee-c9cb-407e-827e-d55ae6a47911",
   "metadata": {},
   "source": [
    "## Getting your database from the Data Catalog\n",
    "\n",
    "In this example we have create our database in a MySQL server and [created a Dataset in Fabric Data Catalog](https://docs.sdk.ydata.ai/0.10/get-started/create_multitable_dataset/). "
   ]
  },
  {
   "cell_type": "code",
   "execution_count": 1,
   "id": "99519bbc-4a71-4808-8b6d-57cb46119159",
   "metadata": {
    "tags": []
   },
   "outputs": [],
   "source": [
    "# Importing YData's packages\n",
    "from ydata.labs import DataSources\n",
    "# Reading the Dataset from the DataSource\n",
    "datasource = DataSources.get(uid='1a068d4c-0e25-4653-adee-78aa3aeeb084')\n",
    "\n",
    "#datasource = DataSources.get(uid='{insert-datasource-uid}')\n",
    "\n",
    "dataset = datasource.dataset"
   ]
  },
  {
   "cell_type": "markdown",
   "id": "877abd3b",
   "metadata": {},
   "source": [
    "## Training & sampling a Database Synthetic Data generator"
   ]
  },
  {
   "cell_type": "markdown",
   "id": "6fdec661",
   "metadata": {},
   "source": [
    "The calculated features functionality allows the generation of specific columns based on data from other columns according to the business rules specified in custom functions.\n",
    "\n",
    "In this example, the `Berka` database transactions table can be considered a time series. For that reason, the table **trans** will to be set as a `timeseries` and the column `date` as the table time order reference (**sortbykey**). For that reason we need to calculate a new `MultiMetadata`. "
   ]
  },
  {
   "cell_type": "code",
   "execution_count": 2,
   "id": "308c304c-6c68-4969-9f6a-e0932dfb3bd3",
   "metadata": {
    "tags": []
   },
   "outputs": [
    {
     "name": "stderr",
     "output_type": "stream",
     "text": [
      "/home/ydata/.venv/lib/python3.10/site-packages/distributed/client.py:3163: UserWarning: Sending large graph of size 9.55 MiB.\n",
      "This may cause some slowdown.\n",
      "Consider scattering data ahead of time and using futures.\n",
      "  warnings.warn(\n",
      "/home/ydata/.venv/lib/python3.10/site-packages/distributed/client.py:3163: UserWarning: Sending large graph of size 9.55 MiB.\n",
      "This may cause some slowdown.\n",
      "Consider scattering data ahead of time and using futures.\n",
      "  warnings.warn(\n",
      "/home/ydata/.venv/lib/python3.10/site-packages/distributed/client.py:3163: UserWarning: Sending large graph of size 9.55 MiB.\n",
      "This may cause some slowdown.\n",
      "Consider scattering data ahead of time and using futures.\n",
      "  warnings.warn(\n",
      "/home/ydata/.venv/lib/python3.10/site-packages/distributed/client.py:3163: UserWarning: Sending large graph of size 9.55 MiB.\n",
      "This may cause some slowdown.\n",
      "Consider scattering data ahead of time and using futures.\n",
      "  warnings.warn(\n",
      "/home/ydata/.venv/lib/python3.10/site-packages/distributed/client.py:3163: UserWarning: Sending large graph of size 9.55 MiB.\n",
      "This may cause some slowdown.\n",
      "Consider scattering data ahead of time and using futures.\n",
      "  warnings.warn(\n",
      "/home/ydata/.venv/lib/python3.10/site-packages/distributed/client.py:3163: UserWarning: Sending large graph of size 9.55 MiB.\n",
      "This may cause some slowdown.\n",
      "Consider scattering data ahead of time and using futures.\n",
      "  warnings.warn(\n",
      "/home/ydata/.venv/lib/python3.10/site-packages/distributed/client.py:3163: UserWarning: Sending large graph of size 9.55 MiB.\n",
      "This may cause some slowdown.\n",
      "Consider scattering data ahead of time and using futures.\n",
      "  warnings.warn(\n",
      "/home/ydata/.venv/lib/python3.10/site-packages/distributed/client.py:3163: UserWarning: Sending large graph of size 9.55 MiB.\n",
      "This may cause some slowdown.\n",
      "Consider scattering data ahead of time and using futures.\n",
      "  warnings.warn(\n",
      "/home/ydata/.venv/lib/python3.10/site-packages/distributed/client.py:3163: UserWarning: Sending large graph of size 9.55 MiB.\n",
      "This may cause some slowdown.\n",
      "Consider scattering data ahead of time and using futures.\n",
      "  warnings.warn(\n",
      "/home/ydata/.venv/lib/python3.10/site-packages/distributed/client.py:3163: UserWarning: Sending large graph of size 9.55 MiB.\n",
      "This may cause some slowdown.\n",
      "Consider scattering data ahead of time and using futures.\n",
      "  warnings.warn(\n",
      "/home/ydata/.venv/lib/python3.10/site-packages/distributed/client.py:3163: UserWarning: Sending large graph of size 9.55 MiB.\n",
      "This may cause some slowdown.\n",
      "Consider scattering data ahead of time and using futures.\n",
      "  warnings.warn(\n",
      "/home/ydata/.venv/lib/python3.10/site-packages/distributed/client.py:3163: UserWarning: Sending large graph of size 9.55 MiB.\n",
      "This may cause some slowdown.\n",
      "Consider scattering data ahead of time and using futures.\n",
      "  warnings.warn(\n",
      "/home/ydata/.venv/lib/python3.10/site-packages/distributed/client.py:3163: UserWarning: Sending large graph of size 9.55 MiB.\n",
      "This may cause some slowdown.\n",
      "Consider scattering data ahead of time and using futures.\n",
      "  warnings.warn(\n",
      "/home/ydata/.venv/lib/python3.10/site-packages/distributed/client.py:3163: UserWarning: Sending large graph of size 9.67 MiB.\n",
      "This may cause some slowdown.\n",
      "Consider scattering data ahead of time and using futures.\n",
      "  warnings.warn(\n",
      "/home/ydata/.venv/lib/python3.10/site-packages/distributed/client.py:3163: UserWarning: Sending large graph of size 9.57 MiB.\n",
      "This may cause some slowdown.\n",
      "Consider scattering data ahead of time and using futures.\n",
      "  warnings.warn(\n",
      "/home/ydata/.venv/lib/python3.10/site-packages/distributed/client.py:3163: UserWarning: Sending large graph of size 9.56 MiB.\n",
      "This may cause some slowdown.\n",
      "Consider scattering data ahead of time and using futures.\n",
      "  warnings.warn(\n"
     ]
    }
   ],
   "source": [
    "from ydata.metadata.multimetadata import MultiMetadata\n",
    "\n",
    "dataset_type = {\n",
    "    'trans': 'timeseries'\n",
    "}\n",
    "\n",
    "dataset_attrs = {\n",
    "    'trans': {\n",
    "        'sortbykey': 'date',\n",
    "        'entities': []\n",
    "    }\n",
    "}\n",
    "\n",
    "metadata = MultiMetadata(dataset, dataset_attrs=dataset_attrs, dataset_type=dataset_type)"
   ]
  },
  {
   "cell_type": "markdown",
   "id": "0851c37b-6f50-4a54-bee9-114f4a115690",
   "metadata": {},
   "source": [
    "In this example, the following columns are calculated features:\n",
    "- The `full_name` column from the `client` table is generated by concatenating the first and last names of each client, which are available in the `first_name` and `last_name` columns of the same table.\n",
    "- The `a10_sum` column from the `client` table is generated by summing all the values from the `a10` column of the `district` table for each client. Since this is an inter-table calculated feature (i.e., several tables are used), there is a need to establish the relationship between the tables (in this case, between the `client` and the `district`). The user should include the primary and foreign keys in the base columns, and establish the relationship inside the custom function (see the `get_a10_sum` function)."
   ]
  },
  {
   "cell_type": "code",
   "execution_count": 10,
   "id": "9dc6af6d-6d9c-4abf-8c2e-e7531327e84e",
   "metadata": {
    "tags": []
   },
   "outputs": [],
   "source": [
    "import pandas as pd\n",
    "import numpy as np\n",
    "\n",
    "def get_full_name(first_name, last_name):\n",
    "    full_names = []\n",
    "    for ix in range(first_name.shape[0]):\n",
    "        full_names.append(first_name[ix].strip() + \" \" + last_name[ix].strip())\n",
    "    return np.asarray(full_names)\n",
    "\n",
    "def get_a10_sum(client_id, district_id, a1, a10):\n",
    "    a1_s = pd.Series(a1, name=\"a1\")\n",
    "    a10_s = pd.Series(a10, name=\"a10\")\n",
    "    district_data = pd.concat([a1_s, a10_s], axis=1)\n",
    "    a10_sum = pd.Series(0, index=client_id)\n",
    "    for c, d in zip(client_id, district_id):\n",
    "        a10_sum[c] = district_data[district_data[\"a1\"] == d][\"a10\"].sum()\n",
    "    return a10_sum.values\n",
    "\n",
    "calculated_features=[\n",
    "    {\n",
    "      \"calculated_features\": \"client.full_name\",\n",
    "      \"function\": get_full_name,\n",
    "      \"calculated_from\": [\"client.first_name\", \"client.last_name\"],\n",
    "    },\n",
    "    {\n",
    "      \"calculated_features\": \"client.a10_sum\",\n",
    "      \"function\": get_a10_sum,\n",
    "      \"calculated_from\": [\"client.client_id\", \"client.district_id\", \"district.a1\", \"district.a10\"]\n",
    "    }\n",
    "]"
   ]
  },
  {
   "cell_type": "code",
   "execution_count": null,
   "id": "74693170",
   "metadata": {
    "tags": []
   },
   "outputs": [
    {
     "name": "stdout",
     "output_type": "stream",
     "text": [
      "INFO: 2024-02-08 00:19:57,951 (1/9) - Fitting table: [district]\n",
      "INFO: 2024-02-08 00:20:00,587 [SYNTHESIZER] - Number columns considered for synth: 16\n",
      "INFO: 2024-02-08 00:20:00,881 [SYNTHESIZER] - Starting the synthetic data modeling process over 1x1 blocks.\n",
      "INFO: 2024-02-08 00:20:00,884 [SYNTHESIZER] - Preprocess segment\n",
      "INFO: 2024-02-08 00:20:00,891 [SYNTHESIZER] - Synthesizer init.\n",
      "INFO: 2024-02-08 00:20:00,891 [SYNTHESIZER] - Processing the data prior fitting the synthesizer.\n",
      "INFO: 2024-02-08 00:20:01,214 (2/9) - Fitting table: [client]\n"
     ]
    }
   ],
   "source": [
    "from ydata.synthesizers.multitable.model import MultiTableSynthesizer\n",
    "\n",
    "synth = MultiTableSynthesizer()\n",
    "synth.fit(dataset, metadata, calculated_features=calculated_features)"
   ]
  },
  {
   "cell_type": "markdown",
   "id": "15a72b2c",
   "metadata": {},
   "source": [
    "To generate the synthetic data we call the `sample` method.\n",
    "\n",
    "Since there is a need to keep the consistency of the tables, as well as the referential integrity, to sample from trained synthesizers the number of records is set through a ratio based on the original number of records (e.g., 1.0 is equivalent to the size of the original database)."
   ]
  },
  {
   "cell_type": "code",
   "execution_count": null,
   "id": "165781c6-058c-4e1a-8877-8e952bb586ed",
   "metadata": {
    "tags": []
   },
   "outputs": [],
   "source": [
    "sample = synth.sample(n_samples=1.)\n",
    "print(sample)"
   ]
  },
  {
   "cell_type": "code",
   "execution_count": null,
   "id": "3ddf4276-2f1c-431d-80f2-63aa544554a6",
   "metadata": {
    "tags": []
   },
   "outputs": [],
   "source": [
    "dataset['client'].head()"
   ]
  },
  {
   "cell_type": "code",
   "execution_count": null,
   "id": "64e047d7-cce8-4577-a6ac-6a94562a73eb",
   "metadata": {},
   "outputs": [],
   "source": []
  }
 ],
 "metadata": {
  "kernelspec": {
   "display_name": "Python 3 (ipykernel)",
   "language": "python",
   "name": "python3"
  },
  "language_info": {
   "codemirror_mode": {
    "name": "ipython",
    "version": 3
   },
   "file_extension": ".py",
   "mimetype": "text/x-python",
   "name": "python",
   "nbconvert_exporter": "python",
   "pygments_lexer": "ipython3",
   "version": "3.10.12"
  }
 },
 "nbformat": 4,
 "nbformat_minor": 5
}
