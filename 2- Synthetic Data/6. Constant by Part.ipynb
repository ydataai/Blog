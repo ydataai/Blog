{
 "cells": [
  {
   "cell_type": "markdown",
   "id": "e6a90a39-427f-4ec5-9ff6-75c9c9bf7140",
   "metadata": {
    "tags": []
   },
   "source": [
    "# Synthesizer constant-by-part trajectories\n",
    "\n",
    "Constant-by-part trajectories are trajectories for which the value are constant for an arbitrary number of timesteps before changing the value.   \n",
    "A typical example would be a sensor that measures a value every few seconds but the quantity measures is expected to move every minute or so.    \n",
    "Another example could be the director rate of central banks which are reported periodically but might not change for each report.\n",
    "\n",
    "This behavior is in general hard to replicate for any generative model. However in this notebook, we present a solution to mitigate this problem and help the synthetic data to respect the constant-by-part behavior.    \n",
    "We will take the example of the Unemployment rate associated to the region of a given store. The Unemployment rate is reported less frequently than the sampling rate, such that it is constant by part."
   ]
  },
  {
   "cell_type": "code",
   "execution_count": 1,
   "id": "f79dbe7b-369d-4f4e-9245-4468580d5af6",
   "metadata": {},
   "outputs": [],
   "source": [
    "import pandas as pd\n",
    "import numpy as np\n",
    "import matplotlib.pyplot as plt\n",
    "\n",
    "from ydata.synthesizers.timeseries.model import TimeSeriesSynthesizer\n",
    "from ydata.metadata import Metadata\n",
    "from ydata.dataset import Dataset\n",
    "from ydata.dataset.dataset_type import DatasetType"
   ]
  },
  {
   "cell_type": "code",
   "execution_count": 16,
   "id": "6b9f69cd-b07b-4b30-9a54-85178616a2a9",
   "metadata": {},
   "outputs": [],
   "source": [
    "original_df = pd.read_csv('Walmart.csv')\n",
    "original_df = original_df[original_df.Store == 1]"
   ]
  },
  {
   "cell_type": "code",
   "execution_count": 17,
   "id": "e87bd65e-a89c-4ab3-b9ee-683cd6014c74",
   "metadata": {},
   "outputs": [
    {
     "data": {
      "text/html": [
       "<div>\n",
       "<style scoped>\n",
       "    .dataframe tbody tr th:only-of-type {\n",
       "        vertical-align: middle;\n",
       "    }\n",
       "\n",
       "    .dataframe tbody tr th {\n",
       "        vertical-align: top;\n",
       "    }\n",
       "\n",
       "    .dataframe thead th {\n",
       "        text-align: right;\n",
       "    }\n",
       "</style>\n",
       "<table border=\"1\" class=\"dataframe\">\n",
       "  <thead>\n",
       "    <tr style=\"text-align: right;\">\n",
       "      <th></th>\n",
       "      <th>Store</th>\n",
       "      <th>Date</th>\n",
       "      <th>Weekly_Sales</th>\n",
       "      <th>Holiday_Flag</th>\n",
       "      <th>Temperature</th>\n",
       "      <th>Fuel_Price</th>\n",
       "      <th>CPI</th>\n",
       "      <th>Unemployment</th>\n",
       "    </tr>\n",
       "  </thead>\n",
       "  <tbody>\n",
       "    <tr>\n",
       "      <th>0</th>\n",
       "      <td>1</td>\n",
       "      <td>05-02-2010</td>\n",
       "      <td>1643690.90</td>\n",
       "      <td>0</td>\n",
       "      <td>42.31</td>\n",
       "      <td>2.572</td>\n",
       "      <td>211.096358</td>\n",
       "      <td>8.106</td>\n",
       "    </tr>\n",
       "    <tr>\n",
       "      <th>1</th>\n",
       "      <td>1</td>\n",
       "      <td>12-02-2010</td>\n",
       "      <td>1641957.44</td>\n",
       "      <td>1</td>\n",
       "      <td>38.51</td>\n",
       "      <td>2.548</td>\n",
       "      <td>211.242170</td>\n",
       "      <td>8.106</td>\n",
       "    </tr>\n",
       "    <tr>\n",
       "      <th>2</th>\n",
       "      <td>1</td>\n",
       "      <td>19-02-2010</td>\n",
       "      <td>1611968.17</td>\n",
       "      <td>0</td>\n",
       "      <td>39.93</td>\n",
       "      <td>2.514</td>\n",
       "      <td>211.289143</td>\n",
       "      <td>8.106</td>\n",
       "    </tr>\n",
       "    <tr>\n",
       "      <th>3</th>\n",
       "      <td>1</td>\n",
       "      <td>26-02-2010</td>\n",
       "      <td>1409727.59</td>\n",
       "      <td>0</td>\n",
       "      <td>46.63</td>\n",
       "      <td>2.561</td>\n",
       "      <td>211.319643</td>\n",
       "      <td>8.106</td>\n",
       "    </tr>\n",
       "    <tr>\n",
       "      <th>4</th>\n",
       "      <td>1</td>\n",
       "      <td>05-03-2010</td>\n",
       "      <td>1554806.68</td>\n",
       "      <td>0</td>\n",
       "      <td>46.50</td>\n",
       "      <td>2.625</td>\n",
       "      <td>211.350143</td>\n",
       "      <td>8.106</td>\n",
       "    </tr>\n",
       "    <tr>\n",
       "      <th>...</th>\n",
       "      <td>...</td>\n",
       "      <td>...</td>\n",
       "      <td>...</td>\n",
       "      <td>...</td>\n",
       "      <td>...</td>\n",
       "      <td>...</td>\n",
       "      <td>...</td>\n",
       "      <td>...</td>\n",
       "    </tr>\n",
       "    <tr>\n",
       "      <th>138</th>\n",
       "      <td>1</td>\n",
       "      <td>28-09-2012</td>\n",
       "      <td>1437059.26</td>\n",
       "      <td>0</td>\n",
       "      <td>76.08</td>\n",
       "      <td>3.666</td>\n",
       "      <td>222.981658</td>\n",
       "      <td>6.908</td>\n",
       "    </tr>\n",
       "    <tr>\n",
       "      <th>139</th>\n",
       "      <td>1</td>\n",
       "      <td>05-10-2012</td>\n",
       "      <td>1670785.97</td>\n",
       "      <td>0</td>\n",
       "      <td>68.55</td>\n",
       "      <td>3.617</td>\n",
       "      <td>223.181477</td>\n",
       "      <td>6.573</td>\n",
       "    </tr>\n",
       "    <tr>\n",
       "      <th>140</th>\n",
       "      <td>1</td>\n",
       "      <td>12-10-2012</td>\n",
       "      <td>1573072.81</td>\n",
       "      <td>0</td>\n",
       "      <td>62.99</td>\n",
       "      <td>3.601</td>\n",
       "      <td>223.381296</td>\n",
       "      <td>6.573</td>\n",
       "    </tr>\n",
       "    <tr>\n",
       "      <th>141</th>\n",
       "      <td>1</td>\n",
       "      <td>19-10-2012</td>\n",
       "      <td>1508068.77</td>\n",
       "      <td>0</td>\n",
       "      <td>67.97</td>\n",
       "      <td>3.594</td>\n",
       "      <td>223.425723</td>\n",
       "      <td>6.573</td>\n",
       "    </tr>\n",
       "    <tr>\n",
       "      <th>142</th>\n",
       "      <td>1</td>\n",
       "      <td>26-10-2012</td>\n",
       "      <td>1493659.74</td>\n",
       "      <td>0</td>\n",
       "      <td>69.16</td>\n",
       "      <td>3.506</td>\n",
       "      <td>223.444251</td>\n",
       "      <td>6.573</td>\n",
       "    </tr>\n",
       "  </tbody>\n",
       "</table>\n",
       "<p>143 rows × 8 columns</p>\n",
       "</div>"
      ],
      "text/plain": [
       "     Store        Date  Weekly_Sales  Holiday_Flag  Temperature  Fuel_Price  \\\n",
       "0        1  05-02-2010    1643690.90             0        42.31       2.572   \n",
       "1        1  12-02-2010    1641957.44             1        38.51       2.548   \n",
       "2        1  19-02-2010    1611968.17             0        39.93       2.514   \n",
       "3        1  26-02-2010    1409727.59             0        46.63       2.561   \n",
       "4        1  05-03-2010    1554806.68             0        46.50       2.625   \n",
       "..     ...         ...           ...           ...          ...         ...   \n",
       "138      1  28-09-2012    1437059.26             0        76.08       3.666   \n",
       "139      1  05-10-2012    1670785.97             0        68.55       3.617   \n",
       "140      1  12-10-2012    1573072.81             0        62.99       3.601   \n",
       "141      1  19-10-2012    1508068.77             0        67.97       3.594   \n",
       "142      1  26-10-2012    1493659.74             0        69.16       3.506   \n",
       "\n",
       "            CPI  Unemployment  \n",
       "0    211.096358         8.106  \n",
       "1    211.242170         8.106  \n",
       "2    211.289143         8.106  \n",
       "3    211.319643         8.106  \n",
       "4    211.350143         8.106  \n",
       "..          ...           ...  \n",
       "138  222.981658         6.908  \n",
       "139  223.181477         6.573  \n",
       "140  223.381296         6.573  \n",
       "141  223.425723         6.573  \n",
       "142  223.444251         6.573  \n",
       "\n",
       "[143 rows x 8 columns]"
      ]
     },
     "execution_count": 17,
     "metadata": {},
     "output_type": "execute_result"
    }
   ],
   "source": [
    "original_df"
   ]
  },
  {
   "cell_type": "markdown",
   "id": "b08af514-facb-4e82-873e-91035532ae17",
   "metadata": {},
   "source": [
    "We can observe that the `Unemployment` trajectory is constant by part: it remains constant for approximately 13 steps before a value change.    \n",
    "Note that the number of steps between value changes is not constant and varies between 8 and 14."
   ]
  },
  {
   "cell_type": "code",
   "execution_count": 5,
   "id": "edf1c7f1-d758-459b-9c35-0bd4e7767d79",
   "metadata": {},
   "outputs": [
    {
     "data": {
      "text/plain": [
       "<matplotlib.legend.Legend at 0x7fb1e7a41cf0>"
      ]
     },
     "execution_count": 5,
     "metadata": {},
     "output_type": "execute_result"
    },
    {
     "data": {
      "image/png": "[encoded data removed]",
      "text/plain": [
       "<Figure size 1000x500 with 1 Axes>"
      ]
     },
     "metadata": {},
     "output_type": "display_data"
    }
   ],
   "source": [
    "plt.figure(figsize=[10, 5])\n",
    "plt.title(f\"Unemployment distribution\")\n",
    "original_df['Unemployment'].plot(color=\"#040404\", label=\"ORIGINAL\")\n",
    "plt.xlabel(\"Bin\")\n",
    "plt.ylabel(\"Nº\")\n",
    "plt.legend()"
   ]
  },
  {
   "cell_type": "markdown",
   "id": "24081656-5843-49cd-bdeb-bcc03b079e97",
   "metadata": {},
   "source": [
    "We define two functions:\n",
    "- `find_change_points` which calculates a mask on the original data to indicate where the steps are located. It does not use the values, only indicate the change points.\n",
    "- `apply_change_points` which uses the previously computed change points on the synthetic data and recompute the trajectory to respect the constant-by-part behavior of the original data."
   ]
  },
  {
   "cell_type": "code",
   "execution_count": 6,
   "id": "512df3a0-a383-46f9-9070-d8dc89a894af",
   "metadata": {},
   "outputs": [],
   "source": [
    "def find_change_points(df: pd.DataFrame, columns: list[str]) -> dict[str, pd.Series]:\n",
    "    markers = {}\n",
    "    for c in columns:\n",
    "        derivative = original_df[c] - original_df[c].shift(1)\n",
    "        derivative[0] = 0\n",
    "        markers[c] = (derivative != 0).astype(int)\n",
    "    return markers"
   ]
  },
  {
   "cell_type": "code",
   "execution_count": 7,
   "id": "fd66a17d-1f23-4c20-ba29-78630a666f75",
   "metadata": {},
   "outputs": [],
   "source": [
    "def apply_change_points(df: pd.DataFrame, markers: dict[str, pd.Series]) -> pd.DataFrame:\n",
    "    for c, m in markers.items():\n",
    "        ratio = df.shape[0] // m.shape[0]\n",
    "        mask = pd.concat([m] * ratio).reset_index(drop=True)\n",
    "        zero = df.loc[0, c]\n",
    "        df.loc[df[mask == 0].index, c] = np.NaN\n",
    "        df.loc[0, c] = zero\n",
    "        df[c] = df[c].ffill()\n",
    "    return df"
   ]
  },
  {
   "cell_type": "markdown",
   "id": "7ab50ea7-48a1-4a29-bcef-55036dc5ae6b",
   "metadata": {},
   "source": [
    "We compute the change points on the original data for the column `Unemployment`."
   ]
  },
  {
   "cell_type": "code",
   "execution_count": 8,
   "id": "3a58aa6f-939c-4923-9ed1-fe1bf4555962",
   "metadata": {},
   "outputs": [],
   "source": [
    "markers = find_change_points(original_df, ['Unemployment'])"
   ]
  },
  {
   "cell_type": "markdown",
   "id": "79afd479-4f71-4142-9ab5-68bbc9994f62",
   "metadata": {},
   "source": [
    "We train a synthesizer as we would do for any other dataset, regardless of the columns with a constant-by-part behavior."
   ]
  },
  {
   "cell_type": "code",
   "execution_count": 9,
   "id": "bd4c8d83-696f-4f20-b4a5-bc0b7e08fa4c",
   "metadata": {},
   "outputs": [
    {
     "name": "stdout",
     "output_type": "stream",
     "text": [
      "[########################################] | 100% Completed | 102.23 ms\n",
      "[########################################] | 100% Completed | 102.24 ms\n",
      "[########################################] | 100% Completed | 101.22 ms\n",
      "[########################################] | 100% Completed | 101.32 ms\n",
      "[########################################] | 100% Completed | 101.34 ms\n",
      "[########################################] | 100% Completed | 102.18 ms\n",
      "[########################################] | 100% Completed | 103.70 ms\n",
      "[########################################] | 100% Completed | 131.21 ms\n",
      "[########################################] | 100% Completed | 105.90 ms\n",
      "[########################################] | 100% Completed | 101.87 ms\n",
      "[########################################] | 100% Completed | 103.48 ms\n",
      "[########################################] | 100% Completed | 101.35 ms\n",
      "[########################################] | 100% Completed | 101.91 ms\n",
      "[########################################] | 100% Completed | 102.66 ms\n",
      "[########################################] | 100% Completed | 106.10 ms\n",
      "[########################################] | 100% Completed | 102.96 ms\n",
      "[########################################] | 100% Completed | 101.64 ms\n",
      "[########################################] | 100% Completed | 102.03 ms\n",
      "INFO: 2024-02-28 10:50:29,191 [SYNTHESIZER] - Initializing Time Series SYNTHESIZER.\n",
      "INFO: 2024-02-28 10:50:29,192 [SYNTHESIZER] - Number columns considered for synth: 8\n",
      "INFO: 2024-02-28 10:50:29,254 [SYNTHESIZER] - Starting the synthetic data modeling process over 1x1 blocks.\n",
      "INFO: 2024-02-28 10:50:29,255 [SYNTHESIZER] - Preprocess segment\n",
      "INFO: 2024-02-28 10:50:29,256 [SYNTHESIZER] - Synthesizer init.\n",
      "INFO: 2024-02-28 10:50:29,257 [SYNTHESIZER] - Processing the data prior fitting the synthesizer.\n"
     ]
    },
    {
     "data": {
      "text/plain": [
       "<ydata.synthesizers.timeseries.model.TimeSeriesSynthesizer at 0x7fb1e7af8ca0>"
      ]
     },
     "execution_count": 9,
     "metadata": {},
     "output_type": "execute_result"
    }
   ],
   "source": [
    "original = Dataset(original_df)\n",
    "original.astype('Date', 'datetime', '%d-%m-%Y')\n",
    "metadata = Metadata()\n",
    "dataset_attrs = {\n",
    "    \"sortbykey\": \"Date\"\n",
    "}\n",
    "m = metadata(original, dataset_attrs, dataset_type=DatasetType.TIMESERIES)\n",
    "\n",
    "synthesizer = TimeSeriesSynthesizer()\n",
    "synthesizer.fit(original, metadata=m)"
   ]
  },
  {
   "cell_type": "markdown",
   "id": "a2852caa-5c92-409d-951f-e760876f149d",
   "metadata": {},
   "source": [
    "We synthesize a few trajectories from the training "
   ]
  },
  {
   "cell_type": "code",
   "execution_count": 10,
   "id": "a30e6ccd-8577-4355-a2d0-367b654c2e7f",
   "metadata": {},
   "outputs": [
    {
     "name": "stdout",
     "output_type": "stream",
     "text": [
      "INFO: 2024-02-28 10:50:29,323 [SYNTHESIZER] - Start generating model samples.\n",
      "INFO: 2024-02-28 10:50:29,462 [SYNTHESIZER] - Start generating model samples.\n",
      "INFO: 2024-02-28 10:50:29,708 [SYNTHESIZER] - Start generating model samples.\n",
      "INFO: 2024-02-28 10:50:29,950 [SYNTHESIZER] - Start generating model samples.\n"
     ]
    }
   ],
   "source": [
    "sample = synthesizer.sample(n_entities=4)\n",
    "sample_df = sample.to_pandas()"
   ]
  },
  {
   "cell_type": "code",
   "execution_count": 11,
   "id": "8291026a-8000-4eb5-8027-65b2dcc4e344",
   "metadata": {},
   "outputs": [],
   "source": [
    "sample_df = sample_df.sort_values(by=['entity', 'Date'], ignore_index=True)"
   ]
  },
  {
   "cell_type": "markdown",
   "id": "c29b1dba-3255-42ea-bb70-3b61fba57a12",
   "metadata": {},
   "source": [
    "We apply the change points and reconstruct the trajectory automatically."
   ]
  },
  {
   "cell_type": "code",
   "execution_count": 12,
   "id": "5d9c5795-9bb9-4e0d-ae2b-c97f28894e3b",
   "metadata": {},
   "outputs": [],
   "source": [
    "sample_df = apply_change_points(sample_df, markers)"
   ]
  },
  {
   "cell_type": "markdown",
   "id": "8218b11d-3656-48ad-9be5-e16cf774e6b0",
   "metadata": {},
   "source": [
    "The trajectories are different from the original and respect the constant-by-part behavior."
   ]
  },
  {
   "cell_type": "code",
   "execution_count": 13,
   "id": "9fef73a6-d58e-4931-9860-57e6c37f243e",
   "metadata": {},
   "outputs": [
    {
     "data": {
      "image/png": "[encoded data removed]",
      "text/plain": [
       "<Figure size 1000x500 with 1 Axes>"
      ]
     },
     "metadata": {},
     "output_type": "display_data"
    }
   ],
   "source": [
    "plt.figure(figsize=[10, 5])\n",
    "plt.title(f\"Unemployment distribution\")\n",
    "for i in range(4):\n",
    "    original_df['Unemployment'].plot(color=\"#040404\", label=\"ORIGINAL\")\n",
    "    sample_df[sample_df['entity'] == f'entity_{i}'].reset_index()['Unemployment'].plot(alpha=0.7)"
   ]
  },
  {
   "cell_type": "markdown",
   "id": "b1cf7b6b-f222-47cb-904e-22095b0ffa4c",
   "metadata": {},
   "source": [
    "The overall value distribution still respect the original distribution."
   ]
  },
  {
   "cell_type": "code",
   "execution_count": 14,
   "id": "6f71cd2f-5bac-499d-b2d1-33a573673de9",
   "metadata": {},
   "outputs": [
    {
     "data": {
      "text/plain": [
       "<matplotlib.legend.Legend at 0x7fb1e57d0d00>"
      ]
     },
     "execution_count": 14,
     "metadata": {},
     "output_type": "execute_result"
    },
    {
     "data": {
      "image/png": "[encoded data removed]",
      "text/plain": [
       "<Figure size 1000x500 with 1 Axes>"
      ]
     },
     "metadata": {},
     "output_type": "display_data"
    }
   ],
   "source": [
    "plt.figure(figsize=[10, 5])\n",
    "plt.title(f\"Unemployment distribution\")\n",
    "original_df['Unemployment'].hist(color=\"#040404\", label=\"ORIGINAL\", grid=False, bins=20, alpha=0.5, density=True)\n",
    "sample_df['Unemployment'].hist(color=\"#E32212\", label=\"SYNTHETIC\", grid=False, bins=20, alpha=0.5, density=True)\n",
    "plt.xlabel(\"Bin\")\n",
    "plt.ylabel(\"Nº\")\n",
    "plt.legend()\n"
   ]
  }
 ],
 "metadata": {
  "kernelspec": {
   "display_name": "Python 3 (ipykernel)",
   "language": "python",
   "name": "python3"
  },
  "language_info": {
   "codemirror_mode": {
    "name": "ipython",
    "version": 3
   },
   "file_extension": ".py",
   "mimetype": "text/x-python",
   "name": "python",
   "nbconvert_exporter": "python",
   "pygments_lexer": "ipython3",
   "version": "3.10.13"
  }
 },
 "nbformat": 4,
 "nbformat_minor": 5
}
