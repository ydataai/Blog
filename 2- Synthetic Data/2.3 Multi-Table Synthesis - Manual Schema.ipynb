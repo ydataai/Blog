{
 "cells": [
  {
   "cell_type": "markdown",
   "id": "869be392",
   "metadata": {},
   "source": [
    "# Multi-Table Synthesis - Manual Schema\n",
    "\n",
    "### How to synthesize data from a database schema\n",
    "\n",
    "Relational databases (RDBMS) are a type of data storage that allows users to access data that is stored in various tables connected through primary and foreign keys. They serve a variety of different use cases, as they offer benefits such as security and reliability. \n",
    "\n",
    "For many data science scenarios, a single-table model is usually the go-to, but the truth is that RDBMS and table-like storages are important for more complex use cases, such as systems testing, replicating a database for customer segmentation, or even for data migrations between on-prem and the cloud. \n",
    "\n",
    "YData Fabric offers an easy-to-use and familiar interface through the SDK to support Multi-Table Synthesis. With the SDK and a few lines of code, users can replicate full relational databases while maintaining the consistency of all the keys and the statistical information of cross-table relations. \n",
    "\n",
    "[Berka](https://data.world/lpetrocelli/czech-financial-dataset-real-anonymized-transactions) is the dataset chosen to demo Fabric Multi-Table synthesis properties and interface. "
   ]
  },
  {
   "cell_type": "markdown",
   "id": "cc8f6e2e",
   "metadata": {},
   "source": [
    "## Getting the data from an RDBMS"
   ]
  },
  {
   "cell_type": "markdown",
   "id": "46db5899",
   "metadata": {},
   "source": [
    "We start by creating the RDBMS connector through the SDK."
   ]
  },
  {
   "cell_type": "code",
   "execution_count": 1,
   "id": "1087bd5e-c68e-4197-8efe-8c02828aa004",
   "metadata": {},
   "outputs": [],
   "source": [
    "from ydata.connectors.storages.rdbms_connector import MySQLConnector\n",
    "\n",
    "USERNAME = '<username>'\n",
    "PASSWORD = '<password>'\n",
    "HOSTNAME = '<hostname>'\n",
    "PORT = '3306'\n",
    "DATABASE_NAME = '<database>'\n",
    "\n",
    "conn_str = {\n",
    "    \"hostname\": f'{HOSTNAME}',\n",
    "    \"username\": f'{USERNAME}',\n",
    "    \"password\": f'{PASSWORD}',\n",
    "    \"port\": f'{PORT}',\n",
    "    \"database\": f'{DATABASE_NAME}'\n",
    "}\n",
    "\n",
    "connector = MySQLConnector(conn_string=conn_str)"
   ]
  },
  {
   "cell_type": "markdown",
   "id": "3014c252-8bd2-4636-900e-ad9832098774",
   "metadata": {},
   "source": [
    "We will use the `get_tables` method to retrieve only the tables `account` and `order`. The lazy loading will also be disabled so that the data is immediately fetched."
   ]
  },
  {
   "cell_type": "code",
   "execution_count": 2,
   "id": "002184a9",
   "metadata": {
    "tags": []
   },
   "outputs": [],
   "source": [
    "tables = [\"account\", \"order\"]\n",
    "data = connector.get_tables(tables, lazy=False)\n",
    "account_data = data[\"account\"]\n",
    "order_data = data[\"order\"]"
   ]
  },
  {
   "cell_type": "markdown",
   "id": "06bab5ff-d9f6-4eaa-bffe-f4f85b9f13b9",
   "metadata": {},
   "source": [
    "## Defining the database schema\n",
    "\n",
    "We will now manually define the schema for this database subset of 2 tables. The `account` only has a primary key (`account_id`). The `order` table has a primary key (`order_id`), but it also has a 1-N foreign key with the `account` table."
   ]
  },
  {
   "cell_type": "code",
   "execution_count": 3,
   "id": "c45543f4-ae7c-49f5-a34a-522a07926c03",
   "metadata": {},
   "outputs": [
    {
     "data": {
      "text/plain": [
       "{'account': TableSchema(primary_keys=['account_id'], foreign_keys=[]),\n",
       " 'order': TableSchema(primary_keys=['order_id'], foreign_keys=[ForeignReference(table='order', column='account_id', parent_table='account', parent_column='account_id', relation_type=<RelationType.ONE_TO_MANY: '1-n'>)])}"
      ]
     },
     "execution_count": 3,
     "metadata": {},
     "output_type": "execute_result"
    }
   ],
   "source": [
    "from ydata.dataset.multidataset import MultiTableSchema\n",
    "\n",
    "schema = MultiTableSchema({\"account\": {\"primary_keys\": [\"account_id\"]},\n",
    "                           \"order\": {\"primary_keys\": [\"order_id\"]}})\n",
    "schema.add_foreign_key(table=\"order\", column=\"account_id\",\n",
    "                       parent_table=\"account\", parent_column=\"account_id\",\n",
    "                       relation_type=\"1-n\")\n",
    "schema"
   ]
  },
  {
   "cell_type": "markdown",
   "id": "ec3b9c06-27ea-43cb-8a40-6ad56aabe0a9",
   "metadata": {},
   "source": [
    "Alternatively, we can also load the schema from a JSON string or file."
   ]
  },
  {
   "cell_type": "code",
   "execution_count": 4,
   "id": "86943dc0-e1a0-4906-9a86-6a0a5431cef5",
   "metadata": {},
   "outputs": [
    {
     "data": {
      "text/plain": [
       "{'account': TableSchema(primary_keys=['account_id'], foreign_keys=[]),\n",
       " 'order': TableSchema(primary_keys=['order_id'], foreign_keys=[ForeignReference(table='order', column='account_id', parent_table='account', parent_column='account_id', relation_type=<RelationType.ONE_TO_MANY: '1-n'>)])}"
      ]
     },
     "execution_count": 4,
     "metadata": {},
     "output_type": "execute_result"
    }
   ],
   "source": [
    "from json import loads as json_loads\n",
    "from ydata.dataset.multidataset import MultiTableSchema\n",
    "\n",
    "json_schema = '{\"account\": {\"primary_keys\": [\"account_id\"], \"foreign_keys\": []}, \"order\": {\"primary_keys\": [\"order_id\"], \"foreign_keys\": [{\"table\": \"order\", \"column\": \"account_id\", \"parent_table\": \"account\", \"parent_column\": \"account_id\", \"relation_type\": \"1-n\"}]}}'\n",
    "MultiTableSchema(json_loads(json_schema))\n",
    "schema"
   ]
  },
  {
   "cell_type": "markdown",
   "id": "f94c74a9-20de-4eaf-a942-fe25ccffa6a1",
   "metadata": {},
   "source": [
    "## Creating the MultiDataset\n",
    "\n",
    "We can now manually create the `MultiDataset` from the database schema and the independent datasets that represent each table."
   ]
  },
  {
   "cell_type": "code",
   "execution_count": 5,
   "id": "f95a2af4-473b-48a3-af8f-49e5b52fc0a2",
   "metadata": {},
   "outputs": [
    {
     "name": "stdout",
     "output_type": "stream",
     "text": [
      "\u001b[1mMultiDataset Summary \n",
      " \n",
      "\u001b[0m\u001b[1mNumber of tables: \u001b[0m2 \n",
      " \n",
      "  Table name  Num cols  Num rows  Primary keys  Foreign keys Notes\n",
      "0    account         4      4500  [account_id]                    \n",
      "1      order         6      6471    [order_id]  [account_id]      \n"
     ]
    }
   ],
   "source": [
    "from ydata.dataset.multidataset import MultiDataset\n",
    "\n",
    "new_data = MultiDataset({\"account\": account_data, \"order\": order_data}, schema=schema)\n",
    "print(new_data)"
   ]
  },
  {
   "cell_type": "markdown",
   "id": "04400aa3-8e92-40ff-bf07-44fda5c26c72",
   "metadata": {},
   "source": [
    "Let's display the data of the `order` table."
   ]
  },
  {
   "cell_type": "code",
   "execution_count": 6,
   "id": "f921089f-311f-411d-8554-94b4502b939e",
   "metadata": {
    "tags": []
   },
   "outputs": [
    {
     "data": {
      "text/html": [
       "<div>\n",
       "<style scoped>\n",
       "    .dataframe tbody tr th:only-of-type {\n",
       "        vertical-align: middle;\n",
       "    }\n",
       "\n",
       "    .dataframe tbody tr th {\n",
       "        vertical-align: top;\n",
       "    }\n",
       "\n",
       "    .dataframe thead th {\n",
       "        text-align: right;\n",
       "    }\n",
       "</style>\n",
       "<table border=\"1\" class=\"dataframe\">\n",
       "  <thead>\n",
       "    <tr style=\"text-align: right;\">\n",
       "      <th></th>\n",
       "      <th>order_id</th>\n",
       "      <th>account_id</th>\n",
       "      <th>bank_to</th>\n",
       "      <th>account_to</th>\n",
       "      <th>amount</th>\n",
       "      <th>k_symbol</th>\n",
       "    </tr>\n",
       "  </thead>\n",
       "  <tbody>\n",
       "    <tr>\n",
       "      <th>0</th>\n",
       "      <td>29401</td>\n",
       "      <td>1</td>\n",
       "      <td>YZ</td>\n",
       "      <td>87144583</td>\n",
       "      <td>2452.0</td>\n",
       "      <td>SIPO</td>\n",
       "    </tr>\n",
       "    <tr>\n",
       "      <th>1</th>\n",
       "      <td>29402</td>\n",
       "      <td>2</td>\n",
       "      <td>ST</td>\n",
       "      <td>89597016</td>\n",
       "      <td>3373.0</td>\n",
       "      <td>UVER</td>\n",
       "    </tr>\n",
       "    <tr>\n",
       "      <th>2</th>\n",
       "      <td>29403</td>\n",
       "      <td>2</td>\n",
       "      <td>QR</td>\n",
       "      <td>13943797</td>\n",
       "      <td>7266.0</td>\n",
       "      <td>SIPO</td>\n",
       "    </tr>\n",
       "    <tr>\n",
       "      <th>3</th>\n",
       "      <td>29404</td>\n",
       "      <td>3</td>\n",
       "      <td>WX</td>\n",
       "      <td>83084338</td>\n",
       "      <td>1135.0</td>\n",
       "      <td>SIPO</td>\n",
       "    </tr>\n",
       "    <tr>\n",
       "      <th>4</th>\n",
       "      <td>29405</td>\n",
       "      <td>3</td>\n",
       "      <td>CD</td>\n",
       "      <td>24485939</td>\n",
       "      <td>327.0</td>\n",
       "      <td></td>\n",
       "    </tr>\n",
       "    <tr>\n",
       "      <th>...</th>\n",
       "      <td>...</td>\n",
       "      <td>...</td>\n",
       "      <td>...</td>\n",
       "      <td>...</td>\n",
       "      <td>...</td>\n",
       "      <td>...</td>\n",
       "    </tr>\n",
       "    <tr>\n",
       "      <th>6466</th>\n",
       "      <td>46334</td>\n",
       "      <td>11362</td>\n",
       "      <td>YZ</td>\n",
       "      <td>70641225</td>\n",
       "      <td>4780.0</td>\n",
       "      <td>SIPO</td>\n",
       "    </tr>\n",
       "    <tr>\n",
       "      <th>6467</th>\n",
       "      <td>46335</td>\n",
       "      <td>11362</td>\n",
       "      <td>MN</td>\n",
       "      <td>78507822</td>\n",
       "      <td>56.0</td>\n",
       "      <td></td>\n",
       "    </tr>\n",
       "    <tr>\n",
       "      <th>6468</th>\n",
       "      <td>46336</td>\n",
       "      <td>11362</td>\n",
       "      <td>ST</td>\n",
       "      <td>40799850</td>\n",
       "      <td>330.0</td>\n",
       "      <td>POJISTNE</td>\n",
       "    </tr>\n",
       "    <tr>\n",
       "      <th>6469</th>\n",
       "      <td>46337</td>\n",
       "      <td>11362</td>\n",
       "      <td>KL</td>\n",
       "      <td>20009470</td>\n",
       "      <td>129.0</td>\n",
       "      <td></td>\n",
       "    </tr>\n",
       "    <tr>\n",
       "      <th>6470</th>\n",
       "      <td>46338</td>\n",
       "      <td>11362</td>\n",
       "      <td>MN</td>\n",
       "      <td>61540514</td>\n",
       "      <td>5392.0</td>\n",
       "      <td>UVER</td>\n",
       "    </tr>\n",
       "  </tbody>\n",
       "</table>\n",
       "<p>6471 rows × 6 columns</p>\n",
       "</div>"
      ],
      "text/plain": [
       "      order_id  account_id bank_to  account_to  amount  k_symbol\n",
       "0        29401           1      YZ    87144583  2452.0      SIPO\n",
       "1        29402           2      ST    89597016  3373.0      UVER\n",
       "2        29403           2      QR    13943797  7266.0      SIPO\n",
       "3        29404           3      WX    83084338  1135.0      SIPO\n",
       "4        29405           3      CD    24485939   327.0          \n",
       "...        ...         ...     ...         ...     ...       ...\n",
       "6466     46334       11362      YZ    70641225  4780.0      SIPO\n",
       "6467     46335       11362      MN    78507822    56.0          \n",
       "6468     46336       11362      ST    40799850   330.0  POJISTNE\n",
       "6469     46337       11362      KL    20009470   129.0          \n",
       "6470     46338       11362      MN    61540514  5392.0      UVER\n",
       "\n",
       "[6471 rows x 6 columns]"
      ]
     },
     "execution_count": 6,
     "metadata": {},
     "output_type": "execute_result"
    }
   ],
   "source": [
    "new_data['order'].to_pandas()"
   ]
  },
  {
   "cell_type": "markdown",
   "id": "8faf53cb-4062-4aa1-bf54-2c0044a19c85",
   "metadata": {},
   "source": [
    "## Creating the MultiMetadata\n",
    "\n",
    "Similarly to what was done for the `MultiDataset`, we can create the `MultiMetadata` by providing the individual `Metadata` objects for each table."
   ]
  },
  {
   "cell_type": "code",
   "execution_count": 7,
   "id": "bff6e82c-2905-473c-8390-abde02eef3b5",
   "metadata": {},
   "outputs": [],
   "source": [
    "from ydata.metadata import Metadata\n",
    "\n",
    "account_meta = Metadata(account_data)\n",
    "order_meta = Metadata(order_data)"
   ]
  },
  {
   "cell_type": "code",
   "execution_count": 8,
   "id": "0899442f-c163-452d-bed7-82184121982e",
   "metadata": {},
   "outputs": [
    {
     "name": "stdout",
     "output_type": "stream",
     "text": [
      "\u001b[1mMultiMetadata Summary \n",
      " \n",
      "\u001b[0m\u001b[1mNumber of tables: \u001b[0m2 \n",
      " \n",
      "  Table name  # cols Primary keys  Foreign keys PK characteristics      FK characteristics Notes\n",
      "0    account       4   account_id                             [id]                              \n",
      "1      order       6     order_id  [account_id]               [id]  {'account_id': ['id']}      \n"
     ]
    }
   ],
   "source": [
    "from ydata.metadata.multimetadata import MultiMetadata\n",
    "\n",
    "metadata = MultiMetadata(new_data, {\"account\": account_meta, \"order\": order_meta}, schema=schema)\n",
    "print(metadata)"
   ]
  },
  {
   "cell_type": "markdown",
   "id": "877abd3b",
   "metadata": {},
   "source": [
    "## Synthesizer definition, training, and sampling"
   ]
  },
  {
   "cell_type": "markdown",
   "id": "6fdec661",
   "metadata": {},
   "source": [
    "We can now train the synthesizer by creating a `MultiTableSynthesizer` and passing the data and the metadata."
   ]
  },
  {
   "cell_type": "code",
   "execution_count": 9,
   "id": "74693170",
   "metadata": {
    "tags": []
   },
   "outputs": [
    {
     "name": "stdout",
     "output_type": "stream",
     "text": [
      "INFO: 2023-12-28 10:24:19,962 (1/2) - Fitting table: [account]\n",
      "INFO: 2023-12-28 10:24:20,314 [SYNTHESIZER] - Number columns considered for synth: 4\n",
      "INFO: 2023-12-28 10:24:20,376 [SYNTHESIZER] - Starting the synthetic data modeling process over 1x1 blocks.\n",
      "INFO: 2023-12-28 10:24:20,379 [SYNTHESIZER] - Preprocess segment\n",
      "INFO: 2023-12-28 10:24:20,381 [SYNTHESIZER] - Synthesizer init.\n",
      "INFO: 2023-12-28 10:24:20,382 [SYNTHESIZER] - Processing the data prior fitting the synthesizer.\n",
      "INFO: 2023-12-28 10:24:20,686 (2/2) - Fitting table: [order]\n",
      "INFO: 2023-12-28 10:24:21,466 [SYNTHESIZER] - Number columns considered for synth: 10\n",
      "INFO: 2023-12-28 10:24:21,678 [SYNTHESIZER] - Starting the synthetic data modeling process over 1x1 blocks.\n",
      "INFO: 2023-12-28 10:24:21,681 [SYNTHESIZER] - Preprocess segment\n",
      "INFO: 2023-12-28 10:24:21,684 [SYNTHESIZER] - Synthesizer init.\n",
      "INFO: 2023-12-28 10:24:21,685 [SYNTHESIZER] - Processing the data prior fitting the synthesizer.\n"
     ]
    },
    {
     "data": {
      "text/plain": [
       "<ydata.synthesizers.multitable.model.MultiTableSynthesizer at 0x7f5767f77af0>"
      ]
     },
     "execution_count": 9,
     "metadata": {},
     "output_type": "execute_result"
    }
   ],
   "source": [
    "from ydata.synthesizers.multitable.model import MultiTableSynthesizer\n",
    "\n",
    "synth = MultiTableSynthesizer()\n",
    "synth.fit(data, metadata)"
   ]
  },
  {
   "cell_type": "markdown",
   "id": "15a72b2c",
   "metadata": {},
   "source": [
    "To generate the synthetic data we call the `sample` method.\n",
    "\n",
    "Since there is a need to keep the consistency of the tables, as well as the referential integrity, to sample from trained synthesizers the number of records is set through a ratio based on the original number of records (e.g., 1.0 is equivalent to the size of the original database)."
   ]
  },
  {
   "cell_type": "code",
   "execution_count": 10,
   "id": "165781c6-058c-4e1a-8877-8e952bb586ed",
   "metadata": {
    "tags": []
   },
   "outputs": [
    {
     "name": "stdout",
     "output_type": "stream",
     "text": [
      "INFO: 2023-12-28 10:24:23,732 (1/2) - Synthesizing table: account\n",
      "INFO: 2023-12-28 10:24:23,733 [SYNTHESIZER] - Start generating model samples.\n",
      "INFO: 2023-12-28 10:24:24,024 (2/2) - Synthesizing table: order\n",
      "INFO: 2023-12-28 10:24:24,086 [SYNTHESIZER] - Start generating model samples.\n"
     ]
    }
   ],
   "source": [
    "sample = synth.sample(n_samples=1.)"
   ]
  },
  {
   "cell_type": "markdown",
   "id": "710ac51d",
   "metadata": {},
   "source": [
    "We can now display the sampled data of the `account` and `order` tables."
   ]
  },
  {
   "cell_type": "code",
   "execution_count": 11,
   "id": "3ddf4276-2f1c-431d-80f2-63aa544554a6",
   "metadata": {},
   "outputs": [
    {
     "data": {
      "text/html": [
       "<div>\n",
       "<style scoped>\n",
       "    .dataframe tbody tr th:only-of-type {\n",
       "        vertical-align: middle;\n",
       "    }\n",
       "\n",
       "    .dataframe tbody tr th {\n",
       "        vertical-align: top;\n",
       "    }\n",
       "\n",
       "    .dataframe thead th {\n",
       "        text-align: right;\n",
       "    }\n",
       "</style>\n",
       "<table border=\"1\" class=\"dataframe\">\n",
       "  <thead>\n",
       "    <tr style=\"text-align: right;\">\n",
       "      <th></th>\n",
       "      <th>account_id</th>\n",
       "      <th>district_id</th>\n",
       "      <th>frequency</th>\n",
       "      <th>date</th>\n",
       "    </tr>\n",
       "  </thead>\n",
       "  <tbody>\n",
       "    <tr>\n",
       "      <th>0</th>\n",
       "      <td>1</td>\n",
       "      <td>28</td>\n",
       "      <td>POPLATEK MESICNE</td>\n",
       "      <td>931123</td>\n",
       "    </tr>\n",
       "    <tr>\n",
       "      <th>1</th>\n",
       "      <td>2</td>\n",
       "      <td>44</td>\n",
       "      <td>POPLATEK MESICNE</td>\n",
       "      <td>960725</td>\n",
       "    </tr>\n",
       "    <tr>\n",
       "      <th>2</th>\n",
       "      <td>3</td>\n",
       "      <td>55</td>\n",
       "      <td>POPLATEK MESICNE</td>\n",
       "      <td>950310</td>\n",
       "    </tr>\n",
       "    <tr>\n",
       "      <th>3</th>\n",
       "      <td>4</td>\n",
       "      <td>73</td>\n",
       "      <td>POPLATEK MESICNE</td>\n",
       "      <td>971209</td>\n",
       "    </tr>\n",
       "    <tr>\n",
       "      <th>4</th>\n",
       "      <td>5</td>\n",
       "      <td>60</td>\n",
       "      <td>POPLATEK PO OBRATU</td>\n",
       "      <td>930414</td>\n",
       "    </tr>\n",
       "    <tr>\n",
       "      <th>...</th>\n",
       "      <td>...</td>\n",
       "      <td>...</td>\n",
       "      <td>...</td>\n",
       "      <td>...</td>\n",
       "    </tr>\n",
       "    <tr>\n",
       "      <th>4495</th>\n",
       "      <td>4496</td>\n",
       "      <td>69</td>\n",
       "      <td>POPLATEK MESICNE</td>\n",
       "      <td>960830</td>\n",
       "    </tr>\n",
       "    <tr>\n",
       "      <th>4496</th>\n",
       "      <td>4497</td>\n",
       "      <td>55</td>\n",
       "      <td>POPLATEK MESICNE</td>\n",
       "      <td>931222</td>\n",
       "    </tr>\n",
       "    <tr>\n",
       "      <th>4497</th>\n",
       "      <td>4498</td>\n",
       "      <td>74</td>\n",
       "      <td>POPLATEK MESICNE</td>\n",
       "      <td>951019</td>\n",
       "    </tr>\n",
       "    <tr>\n",
       "      <th>4498</th>\n",
       "      <td>4499</td>\n",
       "      <td>66</td>\n",
       "      <td>POPLATEK MESICNE</td>\n",
       "      <td>970523</td>\n",
       "    </tr>\n",
       "    <tr>\n",
       "      <th>4499</th>\n",
       "      <td>4500</td>\n",
       "      <td>57</td>\n",
       "      <td>POPLATEK MESICNE</td>\n",
       "      <td>950405</td>\n",
       "    </tr>\n",
       "  </tbody>\n",
       "</table>\n",
       "<p>4500 rows × 4 columns</p>\n",
       "</div>"
      ],
      "text/plain": [
       "      account_id  district_id           frequency    date\n",
       "0              1           28    POPLATEK MESICNE  931123\n",
       "1              2           44    POPLATEK MESICNE  960725\n",
       "2              3           55    POPLATEK MESICNE  950310\n",
       "3              4           73    POPLATEK MESICNE  971209\n",
       "4              5           60  POPLATEK PO OBRATU  930414\n",
       "...          ...          ...                 ...     ...\n",
       "4495        4496           69    POPLATEK MESICNE  960830\n",
       "4496        4497           55    POPLATEK MESICNE  931222\n",
       "4497        4498           74    POPLATEK MESICNE  951019\n",
       "4498        4499           66    POPLATEK MESICNE  970523\n",
       "4499        4500           57    POPLATEK MESICNE  950405\n",
       "\n",
       "[4500 rows x 4 columns]"
      ]
     },
     "execution_count": 11,
     "metadata": {},
     "output_type": "execute_result"
    }
   ],
   "source": [
    "sample['account'].to_pandas()"
   ]
  },
  {
   "cell_type": "code",
   "execution_count": 12,
   "id": "f901b287-e131-4b6d-a846-5815477aad39",
   "metadata": {
    "tags": []
   },
   "outputs": [
    {
     "data": {
      "text/html": [
       "<div>\n",
       "<style scoped>\n",
       "    .dataframe tbody tr th:only-of-type {\n",
       "        vertical-align: middle;\n",
       "    }\n",
       "\n",
       "    .dataframe tbody tr th {\n",
       "        vertical-align: top;\n",
       "    }\n",
       "\n",
       "    .dataframe thead th {\n",
       "        text-align: right;\n",
       "    }\n",
       "</style>\n",
       "<table border=\"1\" class=\"dataframe\">\n",
       "  <thead>\n",
       "    <tr style=\"text-align: right;\">\n",
       "      <th></th>\n",
       "      <th>order_id</th>\n",
       "      <th>account_id</th>\n",
       "      <th>bank_to</th>\n",
       "      <th>account_to</th>\n",
       "      <th>amount</th>\n",
       "      <th>k_symbol</th>\n",
       "    </tr>\n",
       "  </thead>\n",
       "  <tbody>\n",
       "    <tr>\n",
       "      <th>0</th>\n",
       "      <td>1</td>\n",
       "      <td>1.0</td>\n",
       "      <td>QR</td>\n",
       "      <td>24663144.0</td>\n",
       "      <td>3600.0</td>\n",
       "      <td>SIPO</td>\n",
       "    </tr>\n",
       "    <tr>\n",
       "      <th>1</th>\n",
       "      <td>2</td>\n",
       "      <td>2.0</td>\n",
       "      <td>GH</td>\n",
       "      <td>9780645.0</td>\n",
       "      <td>3146.0</td>\n",
       "      <td>SIPO</td>\n",
       "    </tr>\n",
       "    <tr>\n",
       "      <th>2</th>\n",
       "      <td>3</td>\n",
       "      <td>3.0</td>\n",
       "      <td>AB</td>\n",
       "      <td>60398054.0</td>\n",
       "      <td>3954.0</td>\n",
       "      <td>SIPO</td>\n",
       "    </tr>\n",
       "    <tr>\n",
       "      <th>3</th>\n",
       "      <td>4</td>\n",
       "      <td>3.0</td>\n",
       "      <td>AB</td>\n",
       "      <td>57657045.0</td>\n",
       "      <td>2885.0</td>\n",
       "      <td>SIPO</td>\n",
       "    </tr>\n",
       "    <tr>\n",
       "      <th>4</th>\n",
       "      <td>6</td>\n",
       "      <td>4.0</td>\n",
       "      <td>AB</td>\n",
       "      <td>88882463.0</td>\n",
       "      <td>1836.0</td>\n",
       "      <td>POJISTNE</td>\n",
       "    </tr>\n",
       "    <tr>\n",
       "      <th>...</th>\n",
       "      <td>...</td>\n",
       "      <td>...</td>\n",
       "      <td>...</td>\n",
       "      <td>...</td>\n",
       "      <td>...</td>\n",
       "      <td>...</td>\n",
       "    </tr>\n",
       "    <tr>\n",
       "      <th>6383</th>\n",
       "      <td>7668</td>\n",
       "      <td>3749.0</td>\n",
       "      <td>AB</td>\n",
       "      <td>4569364.0</td>\n",
       "      <td>1616.0</td>\n",
       "      <td>UVER</td>\n",
       "    </tr>\n",
       "    <tr>\n",
       "      <th>6384</th>\n",
       "      <td>7669</td>\n",
       "      <td>3750.0</td>\n",
       "      <td>AB</td>\n",
       "      <td>8696937.0</td>\n",
       "      <td>2989.0</td>\n",
       "      <td>UVER</td>\n",
       "    </tr>\n",
       "    <tr>\n",
       "      <th>6385</th>\n",
       "      <td>7670</td>\n",
       "      <td>3751.0</td>\n",
       "      <td>MN</td>\n",
       "      <td>34760767.0</td>\n",
       "      <td>3312.0</td>\n",
       "      <td>UVER</td>\n",
       "    </tr>\n",
       "    <tr>\n",
       "      <th>6386</th>\n",
       "      <td>7671</td>\n",
       "      <td>3751.0</td>\n",
       "      <td>WX</td>\n",
       "      <td>26197701.0</td>\n",
       "      <td>4285.0</td>\n",
       "      <td>LEASING</td>\n",
       "    </tr>\n",
       "    <tr>\n",
       "      <th>6387</th>\n",
       "      <td>7672</td>\n",
       "      <td>3752.0</td>\n",
       "      <td>GH</td>\n",
       "      <td>63854801.0</td>\n",
       "      <td>1541.0</td>\n",
       "      <td>SIPO</td>\n",
       "    </tr>\n",
       "  </tbody>\n",
       "</table>\n",
       "<p>6388 rows × 6 columns</p>\n",
       "</div>"
      ],
      "text/plain": [
       "      order_id  account_id bank_to  account_to  amount  k_symbol\n",
       "0            1         1.0      QR  24663144.0  3600.0      SIPO\n",
       "1            2         2.0      GH   9780645.0  3146.0      SIPO\n",
       "2            3         3.0      AB  60398054.0  3954.0      SIPO\n",
       "3            4         3.0      AB  57657045.0  2885.0      SIPO\n",
       "4            6         4.0      AB  88882463.0  1836.0  POJISTNE\n",
       "...        ...         ...     ...         ...     ...       ...\n",
       "6383      7668      3749.0      AB   4569364.0  1616.0      UVER\n",
       "6384      7669      3750.0      AB   8696937.0  2989.0      UVER\n",
       "6385      7670      3751.0      MN  34760767.0  3312.0      UVER\n",
       "6386      7671      3751.0      WX  26197701.0  4285.0   LEASING\n",
       "6387      7672      3752.0      GH  63854801.0  1541.0      SIPO\n",
       "\n",
       "[6388 rows x 6 columns]"
      ]
     },
     "execution_count": 12,
     "metadata": {},
     "output_type": "execute_result"
    }
   ],
   "source": [
    "sample['order'].to_pandas()"
   ]
  }
 ],
 "metadata": {
  "kernelspec": {
   "display_name": "Python 3 (ipykernel)",
   "language": "python",
   "name": "python3"
  },
  "language_info": {
   "codemirror_mode": {
    "name": "ipython",
    "version": 3
   },
   "file_extension": ".py",
   "mimetype": "text/x-python",
   "name": "python",
   "nbconvert_exporter": "python",
   "pygments_lexer": "ipython3",
   "version": "3.10.13"
  }
 },
 "nbformat": 4,
 "nbformat_minor": 5
}
