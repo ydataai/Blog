{
 "cells": [
  {
   "cell_type": "markdown",
   "id": "0f06017d-571b-433a-b5ef-cf4bd4184708",
   "metadata": {},
   "source": [
    "# Fraud classifier | Training the classifier\n",
    "Let's try to develop a model basedo n the assumption that everything is ok with our dataset, and understand how good is our classifier to indetify fraudulent events.\n",
    "Here we've decided to develop a classifier using [RandomForest from the scikit-learn](https://scikit-learn.org/stable/modules/generated/sklearn.ensemble.RandomForestClassifier.html) package."
   ]
  },
  {
   "cell_type": "code",
   "execution_count": null,
   "id": "b5b48606-af8e-4c83-927e-61f07d010741",
   "metadata": {},
   "outputs": [],
   "source": [
    "!pip install xgboost"
   ]
  },
  {
   "cell_type": "code",
   "execution_count": 38,
   "id": "feb8d24b-9ba0-4aee-80ed-4c192f0ef17c",
   "metadata": {},
   "outputs": [],
   "source": [
    "#Import the conectors packages required\n",
    "import os\n",
    "import pandas as pd\n",
    "import matplotlib.pyplot as plt\n",
    "\n",
    "#Using XGBOOST model to train the model\n",
    "from xgboost import XGBClassifier\n",
    "\n",
    "#Data scaling and preprocessing before training the model\n",
    "from sklearn.preprocessing import RobustScaler, StandardScaler\n",
    "from sklearn.metrics import accuracy_score, classification_report, plot_confusion_matrix\n",
    "from sklearn.model_selection import train_test_split"
   ]
  },
  {
   "cell_type": "code",
   "execution_count": 27,
   "id": "3ea1bb77-5e8c-4040-8508-5494ed774222",
   "metadata": {},
   "outputs": [],
   "source": [
    "def preprocess_df(df, std_scaler, rob_scaler):\n",
    "    df['Amount'] = std_scaler.fit_transform(df['Amount'].values.reshape(-1,1))\n",
    "    df['Time'] = rob_scaler.fit_transform(df['Time'].values.reshape(-1,1))\n",
    "    return df"
   ]
  },
  {
   "cell_type": "code",
   "execution_count": 31,
   "id": "fd577c08-8c06-43fb-ade4-06b7e4bd59c7",
   "metadata": {},
   "outputs": [],
   "source": [
    "#Function to define the classifier to be used\n",
    "\n",
    "def XGBoost_Classifier(X, y, Xtest):\n",
    "    \"\"\"XGBoost training code\"\"\"\n",
    "    classifier = XGBClassifier()\n",
    "    print('Start fitting XGBoost classifier')\n",
    "    classifier.fit(X, y)\n",
    "    y_pred = classifier.predict(Xtest)\n",
    "    print('Classifier trained.')\n",
    "    return classifier, y_pred"
   ]
  },
  {
   "cell_type": "markdown",
   "id": "50f91a3f-c1c6-47c7-a040-b9e762e2509d",
   "metadata": {},
   "source": [
    "### Reading the dataset"
   ]
  },
  {
   "cell_type": "code",
   "execution_count": 25,
   "id": "5c8fdc2f-22f4-436d-ac66-b31e97315bdb",
   "metadata": {},
   "outputs": [],
   "source": [
    "path = os.environ['DATA_PATH']\n",
    "data = pd.read_csv(path)"
   ]
  },
  {
   "cell_type": "markdown",
   "id": "14b35a13-6fa9-4e09-9996-01097b55bb42",
   "metadata": {},
   "source": [
    "#### Preparing the data for the classifier"
   ]
  },
  {
   "cell_type": "code",
   "execution_count": 26,
   "id": "e4e6b654-abfb-4df5-89a0-0fbea31fe16b",
   "metadata": {},
   "outputs": [
    {
     "name": "stdout",
     "output_type": "stream",
     "text": [
      "Number transactions train dataset:  199364\n",
      "Number transactions test dataset:  85443\n",
      "Total number of transactions:  284807\n"
     ]
    }
   ],
   "source": [
    "X = data.drop('Class', axis=1)\n",
    "cols = X.columns\n",
    "X = X.values\n",
    "y = data['Class']\n",
    "\n",
    "X_train, X_test, y_train, y_test = train_test_split(X,y,test_size = 0.3, random_state = 0)\n",
    "\n",
    "print(\"Number transactions train dataset: \", len(X_train))\n",
    "print(\"Number transactions test dataset: \", len(X_test))\n",
    "print(\"Total number of transactions: \", len(X_train)+len(X_test))"
   ]
  },
  {
   "cell_type": "code",
   "execution_count": 29,
   "id": "78040d41-3d41-49c8-ad59-ce018bca10f7",
   "metadata": {},
   "outputs": [],
   "source": [
    "X_train = pd.DataFrame(X_train, columns=cols)\n",
    "X_test = pd.DataFrame(X_test, columns=cols)"
   ]
  },
  {
   "cell_type": "code",
   "execution_count": 30,
   "id": "1a6a3465-81a5-4b46-841a-86b17d3dc938",
   "metadata": {},
   "outputs": [],
   "source": [
    "stdscaler = StandardScaler()\n",
    "robscaler = RobustScaler()\n",
    "\n",
    "X_train = preprocess_df(X_train, stdscaler, robscaler)\n",
    "X_test = preprocess_df(X_test, stdscaler, robscaler)"
   ]
  },
  {
   "cell_type": "code",
   "execution_count": 32,
   "id": "78725a11-5ffe-4b50-ad03-8688e271f8d7",
   "metadata": {},
   "outputs": [
    {
     "name": "stdout",
     "output_type": "stream",
     "text": [
      "Start fitting XGBoost classifier\n"
     ]
    },
    {
     "name": "stderr",
     "output_type": "stream",
     "text": [
      "/opt/conda/lib/python3.7/site-packages/xgboost/sklearn.py:1224: UserWarning: The use of label encoder in XGBClassifier is deprecated and will be removed in a future release. To remove this warning, do the following: 1) Pass option use_label_encoder=False when constructing XGBClassifier object; and 2) Encode your labels (y) as integers starting with 0, i.e. 0, 1, 2, ..., [num_class - 1].\n",
      "  warnings.warn(label_encoder_deprecation_msg, UserWarning)\n"
     ]
    },
    {
     "name": "stdout",
     "output_type": "stream",
     "text": [
      "[00:10:06] WARNING: ../src/learner.cc:1115: Starting in XGBoost 1.3.0, the default evaluation metric used with the objective 'binary:logistic' was changed from 'error' to 'logloss'. Explicitly set eval_metric if you'd like to restore the old behavior.\n",
      "Classifier trained.\n"
     ]
    }
   ],
   "source": [
    "classifier_model, y_pred = XGBoost_Classifier(X_train, y_train, X_test)"
   ]
  },
  {
   "cell_type": "code",
   "execution_count": 34,
   "id": "f582651f-e470-43e8-aea5-018fe1c7b200",
   "metadata": {},
   "outputs": [
    {
     "name": "stdout",
     "output_type": "stream",
     "text": [
      "Overall accuracy score : 0.9996137776061234\n",
      "Classifier performance report: \n",
      "              precision    recall  f1-score   support\n",
      "\n",
      "      Normal       1.00      1.00      1.00     85295\n",
      "       Fraud       0.97      0.80      0.88       148\n",
      "\n",
      "    accuracy                           1.00     85443\n",
      "   macro avg       0.98      0.90      0.94     85443\n",
      "weighted avg       1.00      1.00      1.00     85443\n",
      "\n"
     ]
    }
   ],
   "source": [
    "# Print precision / recall report\n",
    "print('Overall accuracy score :',accuracy_score(y_test, y_pred))\n",
    "print('Classifier performance report: ')\n",
    "print(classification_report(y_test, y_pred, target_names=['Normal', 'Fraud']))"
   ]
  },
  {
   "cell_type": "markdown",
   "id": "6b4a67c3-5522-44d4-b705-6a359bfc9459",
   "metadata": {},
   "source": [
    "#### Output the confusion matrix"
   ]
  },
  {
   "cell_type": "code",
   "execution_count": 39,
   "id": "75d2d15a-7862-4d62-a323-554882f0fee4",
   "metadata": {},
   "outputs": [
    {
     "data": {
      "image/png": "[encoded data removed]",
      "text/plain": [
       "<Figure size 1440x576 with 4 Axes>"
      ]
     },
     "metadata": {
      "needs_background": "light"
     },
     "output_type": "display_data"
    }
   ],
   "source": [
    "def print_confusion_matrix(model, X_test, y_test):\n",
    "    \"\"\" Plot normalized and non-normalized confusion matrices \"\"\"\n",
    "    titles_options = [(\"Confusion matrix, without normalization\", None),\n",
    "                      (\"Normalized confusion matrix\", 'true')]\n",
    "\n",
    "    fig, axes = plt.subplots(1,2,figsize=(20,8))\n",
    "    for (title, normalize), ax in zip(titles_options, axes):\n",
    "\n",
    "        disp = plot_confusion_matrix(model, X_test, y_test,\n",
    "                                     display_labels=[\"Normal\", \"Fraud\"],\n",
    "                                     cmap=plt.cm.OrRd,\n",
    "                                     normalize=normalize,\n",
    "                                     ax=ax)\n",
    "\n",
    "        ax.set_title(title, fontsize=20, pad=10)\n",
    "\n",
    "print_confusion_matrix(classifier_model, X_test, y_test)"
   ]
  },
  {
   "cell_type": "markdown",
   "id": "f2f7c996-3d78-49e0-87d7-93d3beb5a2c2",
   "metadata": {},
   "source": [
    "### Prepare the pipeline outputs"
   ]
  }
 ],
 "metadata": {
  "kernelspec": {
   "display_name": "Python 3 (ipykernel)",
   "language": "python",
   "name": "python3"
  },
  "language_info": {
   "codemirror_mode": {
    "name": "ipython",
    "version": 3
   },
   "file_extension": ".py",
   "mimetype": "text/x-python",
   "name": "python",
   "nbconvert_exporter": "python",
   "pygments_lexer": "ipython3",
   "version": "3.7.11"
  }
 },
 "nbformat": 4,
 "nbformat_minor": 5
}
