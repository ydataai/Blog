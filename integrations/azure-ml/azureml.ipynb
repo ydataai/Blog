{
 "cells": [
  {
   "cell_type": "markdown",
   "id": "88a7d959-4d32-4e34-af16-e01060757747",
   "metadata": {},
   "source": [
    "## Train an image classification model on YData and deploy it on Azure Container Instance (ACI)\n",
    "\n",
    "In this tutorial, you train a machine learning model on YData and then deploy it on Azure.\n",
    "\n",
    "This tutorial trains a simple logistic regression modelusing the [MNIST](https://azure.microsoft.com/services/open-datasets/catalog/mnist/) dataset and [scikit-learn](http://scikit-learn.org) with Azure Machine Learning.  MNIST is a popular dataset consisting of 70,000 grayscale images. Each image is a handwritten digit of 28x28 pixels, representing a number from 0 to 9. The goal is to create a multi-class classifier to identify the digit a given image represents. \n",
    "\n",
    "Learn how to:\n",
    "\n",
    "> * Set up your development environment\n",
    "> * Access and examine the data\n",
    "> * Train and pickle a simple logistic regression model using YData\n",
    "> * Review training results\n",
    "> * Set up your testing environment on ACI\n",
    "> * Retrieve the model from your workspace\n",
    "> * Test the model locally\n",
    "> * Deploy the model to ACI\n",
    "> * Test the deployed model"
   ]
  },
  {
   "cell_type": "markdown",
   "id": "bb3f652b-3cfa-4d63-b156-b89a2cd2656c",
   "metadata": {},
   "source": [
    "## Set up your development environment\n",
    "\n",
    "All the setup for your development work can be accomplished in a Python notebook.  Setup includes:\n",
    "\n",
    "* Importing Python packages\n",
    "* Connecting to a workspace to enable communication between your local computer and remote resources\n",
    "* Creating a remote compute target to use for training\n",
    "\n",
    "### Import packages\n",
    "\n",
    "Import Python packages you need in this session. Also display the Azure Machine Learning SDK version."
   ]
  },
  {
   "cell_type": "code",
   "execution_count": 23,
   "id": "52155713-0acf-4a9e-9963-f4e7cea5836e",
   "metadata": {},
   "outputs": [
    {
     "name": "stdout",
     "output_type": "stream",
     "text": [
      "Requirement already satisfied: azureml-sdk in /opt/conda/lib/python3.7/site-packages (1.34.0)\n",
      "Requirement already satisfied: scikit-learn==0.22.1 in /opt/conda/lib/python3.7/site-packages (0.22.1)\n",
      "Requirement already satisfied: pandas in /opt/conda/lib/python3.7/site-packages (1.2.3)\n",
      "Requirement already satisfied: numpy in /opt/conda/lib/python3.7/site-packages (1.18.5)\n",
      "Requirement already satisfied: matplotlib in /opt/conda/lib/python3.7/site-packages (3.4.2)\n",
      "Requirement already satisfied: joblib>=0.11 in /opt/conda/lib/python3.7/site-packages (from scikit-learn==0.22.1) (1.0.1)\n",
      "Requirement already satisfied: scipy>=0.17.0 in /opt/conda/lib/python3.7/site-packages (from scikit-learn==0.22.1) (1.4.1)\n",
      "Requirement already satisfied: azureml-dataset-runtime[fuse]~=1.34.0 in /opt/conda/lib/python3.7/site-packages (from azureml-sdk) (1.34.0)\n",
      "Requirement already satisfied: azureml-core~=1.34.0 in /opt/conda/lib/python3.7/site-packages (from azureml-sdk) (1.34.0)\n",
      "Requirement already satisfied: azureml-train-core~=1.34.0 in /opt/conda/lib/python3.7/site-packages (from azureml-sdk) (1.34.0)\n",
      "Requirement already satisfied: azureml-pipeline~=1.34.0 in /opt/conda/lib/python3.7/site-packages (from azureml-sdk) (1.34.0)\n",
      "Requirement already satisfied: azureml-train-automl-client~=1.34.0 in /opt/conda/lib/python3.7/site-packages (from azureml-sdk) (1.34.0)\n",
      "Requirement already satisfied: python-dateutil<3.0.0,>=2.7.3 in /opt/conda/lib/python3.7/site-packages (from azureml-core~=1.34.0->azureml-sdk) (2.8.2)\n",
      "Requirement already satisfied: cryptography!=1.9,!=2.0.*,!=2.1.*,!=2.2.*,<4.0.0 in /opt/conda/lib/python3.7/site-packages (from azureml-core~=1.34.0->azureml-sdk) (3.4.7)\n",
      "Requirement already satisfied: urllib3<=1.26.6,>=1.23 in /opt/conda/lib/python3.7/site-packages (from azureml-core~=1.34.0->azureml-sdk) (1.25.11)\n",
      "Requirement already satisfied: ruamel.yaml<0.17.5,>=0.15.35 in /opt/conda/lib/python3.7/site-packages (from azureml-core~=1.34.0->azureml-sdk) (0.17.4)\n",
      "Requirement already satisfied: azure-mgmt-storage<16.0.0,>=1.5.0 in /opt/conda/lib/python3.7/site-packages (from azureml-core~=1.34.0->azureml-sdk) (11.2.0)\n",
      "Requirement already satisfied: ndg-httpsclient<=0.5.1 in /opt/conda/lib/python3.7/site-packages (from azureml-core~=1.34.0->azureml-sdk) (0.5.1)\n",
      "Requirement already satisfied: pathspec<1.0.0 in /opt/conda/lib/python3.7/site-packages (from azureml-core~=1.34.0->azureml-sdk) (0.8.1)\n",
      "Requirement already satisfied: pyopenssl<21.0.0 in /opt/conda/lib/python3.7/site-packages (from azureml-core~=1.34.0->azureml-sdk) (20.0.1)\n",
      "Requirement already satisfied: jmespath<1.0.0 in /opt/conda/lib/python3.7/site-packages (from azureml-core~=1.34.0->azureml-sdk) (0.10.0)\n",
      "Requirement already satisfied: jsonpickle<3.0.0 in /opt/conda/lib/python3.7/site-packages (from azureml-core~=1.34.0->azureml-sdk) (2.0.0)\n",
      "Requirement already satisfied: azure-mgmt-authorization<1.0.0,>=0.40.0 in /opt/conda/lib/python3.7/site-packages (from azureml-core~=1.34.0->azureml-sdk) (0.61.0)\n",
      "Requirement already satisfied: SecretStorage<4.0.0 in /opt/conda/lib/python3.7/site-packages (from azureml-core~=1.34.0->azureml-sdk) (3.3.1)\n",
      "Requirement already satisfied: azure-mgmt-containerregistry>=2.0.0 in /opt/conda/lib/python3.7/site-packages (from azureml-core~=1.34.0->azureml-sdk) (8.1.0)\n",
      "Requirement already satisfied: azure-common<2.0.0,>=1.1.12 in /opt/conda/lib/python3.7/site-packages (from azureml-core~=1.34.0->azureml-sdk) (1.1.25)\n",
      "Requirement already satisfied: msrest<1.0.0,>=0.5.1 in /opt/conda/lib/python3.7/site-packages (from azureml-core~=1.34.0->azureml-sdk) (0.6.21)\n",
      "Requirement already satisfied: pytz in /opt/conda/lib/python3.7/site-packages (from azureml-core~=1.34.0->azureml-sdk) (2021.1)\n",
      "Requirement already satisfied: requests<3.0.0,>=2.19.1 in /opt/conda/lib/python3.7/site-packages (from azureml-core~=1.34.0->azureml-sdk) (2.25.1)\n",
      "Requirement already satisfied: backports.tempfile in /opt/conda/lib/python3.7/site-packages (from azureml-core~=1.34.0->azureml-sdk) (1.0)\n",
      "Requirement already satisfied: contextlib2<22.0.0 in /opt/conda/lib/python3.7/site-packages (from azureml-core~=1.34.0->azureml-sdk) (21.6.0)\n",
      "Requirement already satisfied: azure-mgmt-keyvault<10.0.0,>=0.40.0 in /opt/conda/lib/python3.7/site-packages (from azureml-core~=1.34.0->azureml-sdk) (9.1.0)\n",
      "Requirement already satisfied: azure-graphrbac<1.0.0,>=0.40.0 in /opt/conda/lib/python3.7/site-packages (from azureml-core~=1.34.0->azureml-sdk) (0.61.1)\n",
      "Requirement already satisfied: docker<6.0.0 in /opt/conda/lib/python3.7/site-packages (from azureml-core~=1.34.0->azureml-sdk) (5.0.2)\n",
      "Requirement already satisfied: PyJWT<3.0.0 in /opt/conda/lib/python3.7/site-packages (from azureml-core~=1.34.0->azureml-sdk) (2.1.0)\n",
      "Requirement already satisfied: msrestazure<=0.6.4,>=0.4.33 in /opt/conda/lib/python3.7/site-packages (from azureml-core~=1.34.0->azureml-sdk) (0.6.4)\n",
      "Requirement already satisfied: azure-mgmt-resource<15.0.0,>=1.2.1 in /opt/conda/lib/python3.7/site-packages (from azureml-core~=1.34.0->azureml-sdk) (13.0.0)\n",
      "Requirement already satisfied: adal<=1.2.7,>=1.2.0 in /opt/conda/lib/python3.7/site-packages (from azureml-core~=1.34.0->azureml-sdk) (1.2.7)\n",
      "Requirement already satisfied: azure-mgmt-core<2.0.0,>=1.2.0 in /opt/conda/lib/python3.7/site-packages (from azure-mgmt-containerregistry>=2.0.0->azureml-core~=1.34.0->azureml-sdk) (1.3.0)\n",
      "Requirement already satisfied: azure-core<2.0.0,>=1.15.0 in /opt/conda/lib/python3.7/site-packages (from azure-mgmt-core<2.0.0,>=1.2.0->azure-mgmt-containerregistry>=2.0.0->azureml-core~=1.34.0->azureml-sdk) (1.16.0)\n",
      "Requirement already satisfied: six>=1.11.0 in /opt/conda/lib/python3.7/site-packages (from azure-core<2.0.0,>=1.15.0->azure-mgmt-core<2.0.0,>=1.2.0->azure-mgmt-containerregistry>=2.0.0->azureml-core~=1.34.0->azureml-sdk) (1.16.0)\n",
      "Requirement already satisfied: pyarrow<4.0.0,>=0.17.0 in /opt/conda/lib/python3.7/site-packages (from azureml-dataset-runtime[fuse]~=1.34.0->azureml-sdk) (2.0.0)\n",
      "Requirement already satisfied: azureml-dataprep<2.23.0a,>=2.22.0a in /opt/conda/lib/python3.7/site-packages (from azureml-dataset-runtime[fuse]~=1.34.0->azureml-sdk) (2.22.2)\n",
      "Requirement already satisfied: fusepy<4.0.0,>=3.0.1 in /opt/conda/lib/python3.7/site-packages (from azureml-dataset-runtime[fuse]~=1.34.0->azureml-sdk) (3.0.1)\n",
      "Requirement already satisfied: azure-identity<1.5.0,>=1.2.0 in /opt/conda/lib/python3.7/site-packages (from azureml-dataprep<2.23.0a,>=2.22.0a->azureml-dataset-runtime[fuse]~=1.34.0->azureml-sdk) (1.4.1)\n",
      "Requirement already satisfied: azureml-dataprep-native<39.0.0,>=38.0.0 in /opt/conda/lib/python3.7/site-packages (from azureml-dataprep<2.23.0a,>=2.22.0a->azureml-dataset-runtime[fuse]~=1.34.0->azureml-sdk) (38.0.0)\n",
      "Requirement already satisfied: dotnetcore2<3.0.0,>=2.1.14 in /opt/conda/lib/python3.7/site-packages (from azureml-dataprep<2.23.0a,>=2.22.0a->azureml-dataset-runtime[fuse]~=1.34.0->azureml-sdk) (2.1.21)\n",
      "Requirement already satisfied: azureml-dataprep-rslex~=1.20.0dev0 in /opt/conda/lib/python3.7/site-packages (from azureml-dataprep<2.23.0a,>=2.22.0a->azureml-dataset-runtime[fuse]~=1.34.0->azureml-sdk) (1.20.2)\n",
      "Requirement already satisfied: cloudpickle<2.0.0,>=1.1.0 in /opt/conda/lib/python3.7/site-packages (from azureml-dataprep<2.23.0a,>=2.22.0a->azureml-dataset-runtime[fuse]~=1.34.0->azureml-sdk) (1.6.0)\n",
      "Requirement already satisfied: msal<2.0.0,>=1.3.0 in /opt/conda/lib/python3.7/site-packages (from azure-identity<1.5.0,>=1.2.0->azureml-dataprep<2.23.0a,>=2.22.0a->azureml-dataset-runtime[fuse]~=1.34.0->azureml-sdk) (1.12.0)\n",
      "Requirement already satisfied: msal-extensions~=0.2.2 in /opt/conda/lib/python3.7/site-packages (from azure-identity<1.5.0,>=1.2.0->azureml-dataprep<2.23.0a,>=2.22.0a->azureml-dataset-runtime[fuse]~=1.34.0->azureml-sdk) (0.2.2)\n",
      "Requirement already satisfied: azureml-pipeline-steps~=1.34.0 in /opt/conda/lib/python3.7/site-packages (from azureml-pipeline~=1.34.0->azureml-sdk) (1.34.0)\n",
      "Requirement already satisfied: azureml-pipeline-core~=1.34.0 in /opt/conda/lib/python3.7/site-packages (from azureml-pipeline~=1.34.0->azureml-sdk) (1.34.0)\n",
      "Requirement already satisfied: azureml-automl-core~=1.34.0 in /opt/conda/lib/python3.7/site-packages (from azureml-train-automl-client~=1.34.0->azureml-sdk) (1.34.1)\n",
      "Requirement already satisfied: azureml-telemetry~=1.34.0 in /opt/conda/lib/python3.7/site-packages (from azureml-train-automl-client~=1.34.0->azureml-sdk) (1.34.0)\n",
      "Requirement already satisfied: applicationinsights in /opt/conda/lib/python3.7/site-packages (from azureml-telemetry~=1.34.0->azureml-train-automl-client~=1.34.0->azureml-sdk) (0.11.10)\n",
      "Requirement already satisfied: azureml-train-restclients-hyperdrive~=1.34.0 in /opt/conda/lib/python3.7/site-packages (from azureml-train-core~=1.34.0->azureml-sdk) (1.34.0)\n",
      "Requirement already satisfied: cffi>=1.12 in /opt/conda/lib/python3.7/site-packages (from cryptography!=1.9,!=2.0.*,!=2.1.*,!=2.2.*,<4.0.0->azureml-core~=1.34.0->azureml-sdk) (1.14.6)\n",
      "Requirement already satisfied: pycparser in /opt/conda/lib/python3.7/site-packages (from cffi>=1.12->cryptography!=1.9,!=2.0.*,!=2.1.*,!=2.2.*,<4.0.0->azureml-core~=1.34.0->azureml-sdk) (2.20)\n",
      "Requirement already satisfied: websocket-client>=0.32.0 in /opt/conda/lib/python3.7/site-packages (from docker<6.0.0->azureml-core~=1.34.0->azureml-sdk) (1.1.0)\n",
      "Requirement already satisfied: distro>=1.2.0 in /opt/conda/lib/python3.7/site-packages (from dotnetcore2<3.0.0,>=2.1.14->azureml-dataprep<2.23.0a,>=2.22.0a->azureml-dataset-runtime[fuse]~=1.34.0->azureml-sdk) (1.6.0)\n",
      "Requirement already satisfied: importlib-metadata in /opt/conda/lib/python3.7/site-packages (from jsonpickle<3.0.0->azureml-core~=1.34.0->azureml-sdk) (3.10.1)\n",
      "Requirement already satisfied: portalocker~=1.0 in /opt/conda/lib/python3.7/site-packages (from msal-extensions~=0.2.2->azure-identity<1.5.0,>=1.2.0->azureml-dataprep<2.23.0a,>=2.22.0a->azureml-dataset-runtime[fuse]~=1.34.0->azureml-sdk) (1.7.1)\n",
      "Requirement already satisfied: certifi>=2017.4.17 in /opt/conda/lib/python3.7/site-packages (from msrest<1.0.0,>=0.5.1->azureml-core~=1.34.0->azureml-sdk) (2021.5.30)\n",
      "Requirement already satisfied: requests-oauthlib>=0.5.0 in /opt/conda/lib/python3.7/site-packages (from msrest<1.0.0,>=0.5.1->azureml-core~=1.34.0->azureml-sdk) (1.3.0)\n",
      "Requirement already satisfied: isodate>=0.6.0 in /opt/conda/lib/python3.7/site-packages (from msrest<1.0.0,>=0.5.1->azureml-core~=1.34.0->azureml-sdk) (0.6.0)\n",
      "Requirement already satisfied: pyasn1>=0.1.1 in /opt/conda/lib/python3.7/site-packages (from ndg-httpsclient<=0.5.1->azureml-core~=1.34.0->azureml-sdk) (0.4.8)\n",
      "Requirement already satisfied: chardet<5,>=3.0.2 in /opt/conda/lib/python3.7/site-packages (from requests<3.0.0,>=2.19.1->azureml-core~=1.34.0->azureml-sdk) (4.0.0)\n",
      "Requirement already satisfied: idna<3,>=2.5 in /opt/conda/lib/python3.7/site-packages (from requests<3.0.0,>=2.19.1->azureml-core~=1.34.0->azureml-sdk) (2.10)\n",
      "Requirement already satisfied: oauthlib>=3.0.0 in /opt/conda/lib/python3.7/site-packages (from requests-oauthlib>=0.5.0->msrest<1.0.0,>=0.5.1->azureml-core~=1.34.0->azureml-sdk) (3.1.1)\n",
      "Requirement already satisfied: ruamel.yaml.clib>=0.1.2 in /opt/conda/lib/python3.7/site-packages (from ruamel.yaml<0.17.5,>=0.15.35->azureml-core~=1.34.0->azureml-sdk) (0.2.6)\n",
      "Requirement already satisfied: jeepney>=0.6 in /opt/conda/lib/python3.7/site-packages (from SecretStorage<4.0.0->azureml-core~=1.34.0->azureml-sdk) (0.7.0)\n",
      "Requirement already satisfied: pillow>=6.2.0 in /opt/conda/lib/python3.7/site-packages (from matplotlib) (8.3.1)\n",
      "Requirement already satisfied: pyparsing>=2.2.1 in /opt/conda/lib/python3.7/site-packages (from matplotlib) (2.4.7)\n",
      "Requirement already satisfied: cycler>=0.10 in /opt/conda/lib/python3.7/site-packages (from matplotlib) (0.10.0)\n",
      "Requirement already satisfied: kiwisolver>=1.0.1 in /opt/conda/lib/python3.7/site-packages (from matplotlib) (1.3.1)\n",
      "Requirement already satisfied: backports.weakref in /opt/conda/lib/python3.7/site-packages (from backports.tempfile->azureml-core~=1.34.0->azureml-sdk) (1.0.post1)\n",
      "Requirement already satisfied: typing-extensions>=3.6.4 in /opt/conda/lib/python3.7/site-packages (from importlib-metadata->jsonpickle<3.0.0->azureml-core~=1.34.0->azureml-sdk) (3.10.0.0)\n",
      "Requirement already satisfied: zipp>=0.5 in /opt/conda/lib/python3.7/site-packages (from importlib-metadata->jsonpickle<3.0.0->azureml-core~=1.34.0->azureml-sdk) (3.5.0)\n"
     ]
    }
   ],
   "source": [
    "!pip install azureml-sdk scikit-learn==0.22.1 pandas numpy matplotlib"
   ]
  },
  {
   "cell_type": "markdown",
   "id": "df41b6ed-d97e-42b7-b0a3-b0f066eef12d",
   "metadata": {},
   "source": [
    "### Connect to workspace\n",
    "\n",
    "Download your Azure Workspace configuration file and upload it in this working directory - It will be used to remotely access your Azure Workspace from YData\n",
    "\n",
    "Create a workspace object from the existing workspace. `Workspace.from_config()` reads the file **config.json** and loads the details into an object named `ws`."
   ]
  },
  {
   "cell_type": "code",
   "execution_count": 24,
   "id": "74a69c26-169d-4401-a8b0-73380173c916",
   "metadata": {},
   "outputs": [],
   "source": [
    "from azureml.core import Workspace\n",
    "ws_other_environment = Workspace.from_config(path=\"./config.json\")"
   ]
  },
  {
   "cell_type": "code",
   "execution_count": 25,
   "id": "cb1dba63-e19c-4f51-add2-8e31812a00ae",
   "metadata": {
    "gather": {
     "logged": 1633332195879
    },
    "tags": [
     "check version"
    ]
   },
   "outputs": [
    {
     "name": "stdout",
     "output_type": "stream",
     "text": [
      "Azure ML SDK Version:  1.34.0\n"
     ]
    }
   ],
   "source": [
    "%matplotlib inline\n",
    "import numpy as np\n",
    "import matplotlib.pyplot as plt\n",
    "\n",
    "import azureml.core\n",
    "from azureml.core import Workspace\n",
    "\n",
    "# check core SDK version number\n",
    "print(\"Azure ML SDK Version: \", azureml.core.VERSION)"
   ]
  },
  {
   "cell_type": "markdown",
   "id": "5d941493-142c-40e1-a3ef-fafc3937ed0c",
   "metadata": {},
   "source": [
    "### Load workspace configuration from the config.json file in the current folder"
   ]
  },
  {
   "cell_type": "code",
   "execution_count": 26,
   "id": "f4ceabf7-bd45-4a8e-b1b6-2e06ded1664a",
   "metadata": {
    "gather": {
     "logged": 1633332198974
    },
    "tags": [
     "load workspace"
    ]
   },
   "outputs": [
    {
     "name": "stdout",
     "output_type": "stream",
     "text": [
      "azureml-demo\teastus2\tdemo\n"
     ]
    }
   ],
   "source": [
    "ws = ws_other_environment\n",
    "print(ws.name, ws.location, ws.resource_group, sep='\\t')"
   ]
  },
  {
   "cell_type": "markdown",
   "id": "1a6272dc-0ec4-4c36-b3d1-34a386955e70",
   "metadata": {},
   "source": [
    "### Load data\n",
    "\n",
    "Load the test data from the **./data/mnist** directory"
   ]
  },
  {
   "cell_type": "code",
   "execution_count": 27,
   "id": "e57a60fa-683c-4d6f-8d85-49d606370437",
   "metadata": {},
   "outputs": [
    {
     "name": "stdout",
     "output_type": "stream",
     "text": [
      "X_train Shape: (60000, 784)\n",
      "y_train Shape: (60000,)\n",
      "X_test Shape: (10000, 784)\n",
      "y_test Shape: (10000,)\n"
     ]
    }
   ],
   "source": [
    "import numpy as np\n",
    "import argparse\n",
    "import os\n",
    "from sklearn.linear_model import LogisticRegression\n",
    "import joblib\n",
    "\n",
    "from azureml.core import Run\n",
    "\n",
    "import gzip\n",
    "import numpy as np\n",
    "import struct\n",
    "\n",
    "\n",
    "# load compressed MNIST gz files and return numpy arrays\n",
    "def load_data(filename, label=False):\n",
    "    with gzip.open(filename) as gz:\n",
    "        struct.unpack('I', gz.read(4))\n",
    "        n_items = struct.unpack('>I', gz.read(4))\n",
    "        if not label:\n",
    "            n_rows = struct.unpack('>I', gz.read(4))[0]\n",
    "            n_cols = struct.unpack('>I', gz.read(4))[0]\n",
    "            res = np.frombuffer(gz.read(n_items[0] * n_rows * n_cols), dtype=np.uint8)\n",
    "            res = res.reshape(n_items[0], n_rows * n_cols)\n",
    "        else:\n",
    "            res = np.frombuffer(gz.read(n_items[0]), dtype=np.uint8)\n",
    "            res = res.reshape(n_items[0], 1)\n",
    "    return res\n",
    "\n",
    "\n",
    "data_folder = os.path.join(os.getcwd(), 'data/mnist')\n",
    "\n",
    "# load train and test set into numpy arrays\n",
    "# note we scale the pixel intensity values to 0-1 (by dividing it with 255.0) so the model can converge faster.\n",
    "X_train = load_data(\"{}/train-images-idx3-ubyte.gz\".format(data_folder), False) / 255.0\n",
    "X_test = load_data(\"{}/t10k-images-idx3-ubyte.gz\".format(data_folder), False) / 255.0\n",
    "y_train = load_data(\"{}/train-labels-idx1-ubyte.gz\".format(data_folder), True).reshape(-1)\n",
    "y_test = load_data(\"{}/t10k-labels-idx1-ubyte.gz\".format(data_folder), True).reshape(-1)\n",
    "print(\"X_train Shape: {}\\ny_train Shape: {}\\nX_test Shape: {}\\ny_test Shape: {}\".format(X_train.shape, y_train.shape, X_test.shape, y_test.shape))\n"
   ]
  },
  {
   "cell_type": "markdown",
   "id": "8d26a546-995b-4fa1-98f3-da4ae78f063d",
   "metadata": {},
   "source": [
    "### Display some sample images\n",
    "\n",
    "Load the compressed files into `numpy` arrays. Then use `matplotlib` to plot 30 random images from the dataset with their labels above them. Note this step requires a `load_data` function that's included in an `utils.py` file. This file is included in the sample folder. Please make sure it is placed in the same folder as this notebook. The `load_data` function simply parses the compresse files into numpy arrays."
   ]
  },
  {
   "cell_type": "code",
   "execution_count": 28,
   "id": "538c0f22-8f99-4218-ae26-ac50cd35b421",
   "metadata": {
    "gather": {
     "logged": 1633332226929
    }
   },
   "outputs": [
    {
     "data": {
      "image/png": "[encoded data removed]",
      "text/plain": [
       "<Figure size 1152x432 with 30 Axes>"
      ]
     },
     "metadata": {
      "needs_background": "light"
     },
     "output_type": "display_data"
    }
   ],
   "source": [
    "# make sure utils.py is in the same directory as this code\n",
    "# now let's show some randomly chosen images from the traininng set.\n",
    "count = 0\n",
    "sample_size = 30\n",
    "plt.figure(figsize = (16, 6))\n",
    "for i in np.random.permutation(X_train.shape[0])[:sample_size]:\n",
    "    count = count + 1\n",
    "    plt.subplot(1, sample_size, count)\n",
    "    plt.axhline('')\n",
    "    plt.axvline('')\n",
    "    plt.text(x=10, y=-10, s=y_train[i], fontsize=18)\n",
    "    plt.imshow(X_train[i].reshape(28, 28), cmap=plt.cm.Greys)\n",
    "plt.show()"
   ]
  },
  {
   "cell_type": "markdown",
   "id": "0f2ed655-3d75-4b1f-81cb-779fc0f90f1c",
   "metadata": {},
   "source": [
    "## Train the Logistic Regression Model"
   ]
  },
  {
   "cell_type": "code",
   "execution_count": 29,
   "id": "012046f3-2009-4f94-bc55-33ce2036114d",
   "metadata": {},
   "outputs": [
    {
     "name": "stdout",
     "output_type": "stream",
     "text": [
      "Train a logistic regression model with regularization rate of 0.5\n",
      "Predict the test set\n",
      "Accuracy is 0.9193\n"
     ]
    }
   ],
   "source": [
    "print('Train a logistic regression model with regularization rate of', 0.5)\n",
    "clf = LogisticRegression(C=1.0/0.5, solver=\"liblinear\", multi_class=\"auto\", random_state=42)\n",
    "clf.fit(X_train, y_train)\n",
    "\n",
    "print('Predict the test set')\n",
    "y_hat = clf.predict(X_test)\n",
    "\n",
    "# calculate accuracy on the prediction\n",
    "acc = np.average(y_hat == y_test)\n",
    "print('Accuracy is', acc)"
   ]
  },
  {
   "cell_type": "markdown",
   "id": "d72533d0-64d0-4933-96a1-07566a4c2cf8",
   "metadata": {},
   "source": [
    "### Package (pickle) and save the model"
   ]
  },
  {
   "cell_type": "code",
   "execution_count": 30,
   "id": "3911bc13-adf0-4f3a-9a6f-8fd2b3109ebe",
   "metadata": {},
   "outputs": [
    {
     "data": {
      "text/plain": [
       "['./sklearn_mnist_model.pkl']"
      ]
     },
     "execution_count": 30,
     "metadata": {},
     "output_type": "execute_result"
    }
   ],
   "source": [
    "joblib.dump(value=clf, filename='./sklearn_mnist_model.pkl')"
   ]
  },
  {
   "cell_type": "markdown",
   "id": "5055f866-eaaa-40e3-b72c-2dc21f5d16ad",
   "metadata": {},
   "source": [
    "### Register the model on Azure"
   ]
  },
  {
   "cell_type": "code",
   "execution_count": 36,
   "id": "8134664c-6eaa-4868-8cc6-95100bec5314",
   "metadata": {},
   "outputs": [
    {
     "name": "stdout",
     "output_type": "stream",
     "text": [
      "Registering model sklearn_mnist\n"
     ]
    }
   ],
   "source": [
    "from azureml.core import Workspace\n",
    "ws = ws_other_environment\n",
    "\n",
    "from azureml.core.model import Model\n",
    "\n",
    "model_name = \"sklearn_mnist\"\n",
    "model = Model.register(model_path=\"sklearn_mnist_model.pkl\",\n",
    "                        model_name=model_name,\n",
    "                        tags={\"data\": \"mnist\", \"model\": \"classification\"},\n",
    "                        description=\"Mnist handwriting recognition\",\n",
    "                        workspace=ws)"
   ]
  },
  {
   "cell_type": "markdown",
   "id": "5ac19958-a4d1-469c-927f-675418c58995",
   "metadata": {},
   "source": [
    "### Prepare the Deployment Environment on Azure"
   ]
  },
  {
   "cell_type": "code",
   "execution_count": 37,
   "id": "39b92105-4131-435b-b83d-9e4ca08be607",
   "metadata": {},
   "outputs": [
    {
     "data": {
      "text/plain": [
       "{\n",
       "    \"databricks\": {\n",
       "        \"eggLibraries\": [],\n",
       "        \"jarLibraries\": [],\n",
       "        \"mavenLibraries\": [],\n",
       "        \"pypiLibraries\": [],\n",
       "        \"rcranLibraries\": []\n",
       "    },\n",
       "    \"docker\": {\n",
       "        \"arguments\": [],\n",
       "        \"baseDockerfile\": null,\n",
       "        \"baseImage\": \"mcr.microsoft.com/azureml/openmpi3.1.2-ubuntu18.04:20210806.v1\",\n",
       "        \"baseImageRegistry\": {\n",
       "            \"address\": null,\n",
       "            \"password\": null,\n",
       "            \"registryIdentity\": null,\n",
       "            \"username\": null\n",
       "        },\n",
       "        \"enabled\": false,\n",
       "        \"platform\": {\n",
       "            \"architecture\": \"amd64\",\n",
       "            \"os\": \"Linux\"\n",
       "        },\n",
       "        \"sharedVolumes\": true,\n",
       "        \"shmSize\": null\n",
       "    },\n",
       "    \"environmentVariables\": {\n",
       "        \"EXAMPLE_ENV_VAR\": \"EXAMPLE_VALUE\"\n",
       "    },\n",
       "    \"inferencingStackVersion\": null,\n",
       "    \"name\": \"tutorial-env\",\n",
       "    \"python\": {\n",
       "        \"baseCondaEnvironment\": null,\n",
       "        \"condaDependencies\": {\n",
       "            \"channels\": [\n",
       "                \"anaconda\",\n",
       "                \"conda-forge\"\n",
       "            ],\n",
       "            \"dependencies\": [\n",
       "                \"python=3.6.2\",\n",
       "                {\n",
       "                    \"pip\": [\n",
       "                        \"azureml-dataset-runtime[pandas,fuse]~=1.34.0\",\n",
       "                        \"azureml-defaults~=1.34.0\"\n",
       "                    ]\n",
       "                },\n",
       "                \"scikit-learn==0.22.1\"\n",
       "            ],\n",
       "            \"name\": \"azureml_6596cb83b1ee934d3b87ae620442f4c7\"\n",
       "        },\n",
       "        \"condaDependenciesFile\": null,\n",
       "        \"interpreterPath\": \"python\",\n",
       "        \"userManagedDependencies\": false\n",
       "    },\n",
       "    \"r\": null,\n",
       "    \"spark\": {\n",
       "        \"packages\": [],\n",
       "        \"precachePackages\": true,\n",
       "        \"repositories\": []\n",
       "    },\n",
       "    \"version\": \"15\"\n",
       "}"
      ]
     },
     "execution_count": 37,
     "metadata": {},
     "output_type": "execute_result"
    }
   ],
   "source": [
    "from azureml.core.environment import Environment\n",
    "from azureml.core.conda_dependencies import CondaDependencies\n",
    "\n",
    "# to install required packages\n",
    "env = Environment('tutorial-env')\n",
    "cd = CondaDependencies.create(pip_packages=['azureml-dataset-runtime[pandas,fuse]', 'azureml-defaults'], conda_packages = ['scikit-learn==0.22.1'])\n",
    "\n",
    "env.python.conda_dependencies = cd\n",
    "\n",
    "# Register environment to re-use later\n",
    "env.register(workspace = ws)"
   ]
  },
  {
   "cell_type": "markdown",
   "id": "c1cb743e-52cc-4b8f-b107-3f702de9d4a3",
   "metadata": {},
   "source": [
    "## Deploy as web service\n",
    "\n",
    "Deploy the model as a web service hosted in ACI. \n",
    "\n",
    "To build the correct environment for ACI, provide the following:\n",
    "* A scoring script to show how to use the model\n",
    "* A configuration file to build the ACI\n",
    "* The model you trained before\n",
    "\n",
    "### Create scoring script\n",
    "\n",
    "Create the scoring script, called score.py, used by the web service call to show how to use the model.\n",
    "Note that this script will be run directly on ACI, and not here on YData\n",
    "\n",
    "You must include two required functions into the scoring script:\n",
    "* The `init()` function, which typically loads the model into a global object on Azure. This function is run only once when the Docker container is started. \n",
    "\n",
    "* The `run(input_data)` function uses the model to predict a value based on the input data. Inputs and outputs to the run typically use JSON for serialization and de-serialization, but other formats are supported. This is the function that will be called for each test run\n"
   ]
  },
  {
   "cell_type": "code",
   "execution_count": 38,
   "id": "fbf30ce7-600a-4b1c-9c93-779ffaa73d7b",
   "metadata": {},
   "outputs": [
    {
     "name": "stdout",
     "output_type": "stream",
     "text": [
      "Overwriting score.py\n"
     ]
    }
   ],
   "source": [
    "%%writefile score.py\n",
    "import json\n",
    "import numpy as np\n",
    "import os\n",
    "import pickle\n",
    "import joblib\n",
    "\n",
    "def init():\n",
    "    global model\n",
    "    # AZUREML_MODEL_DIR is an environment variable created during deployment.\n",
    "    # It is the path to the model folder (./azureml-models/$MODEL_NAME/$VERSION)\n",
    "    # For multiple models, it points to the folder containing all deployed models (./azureml-models)\n",
    "    model_path = os.path.join(os.getenv('AZUREML_MODEL_DIR'), 'sklearn_mnist_model.pkl')\n",
    "    model = joblib.load(model_path)\n",
    "\n",
    "def run(raw_data):\n",
    "    data = np.array(json.loads(raw_data)['data'])\n",
    "    # make prediction\n",
    "    y_hat = model.predict(data)\n",
    "    # you can return any data type as long as it is JSON-serializable\n",
    "    return y_hat.tolist()"
   ]
  },
  {
   "cell_type": "markdown",
   "id": "fd178a03-f198-48a0-9a08-c4310fa5ed06",
   "metadata": {},
   "source": [
    "### Create configuration file\n",
    "\n",
    "Create a deployment configuration file and specify the number of CPUs and gigabyte of RAM needed for your ACI container. While it depends on your model, the default of 1 core and 1 gigabyte of RAM is usually sufficient for many models. If you feel you need more later, you would have to recreate the image and redeploy the service."
   ]
  },
  {
   "cell_type": "code",
   "execution_count": 39,
   "id": "731ebbc2-f3f7-4883-9f3f-cb011d21189c",
   "metadata": {
    "gather": {
     "logged": 1633354325111
    },
    "tags": [
     "configure web service",
     "aci"
    ]
   },
   "outputs": [],
   "source": [
    "from azureml.core.webservice import AciWebservice\n",
    "\n",
    "aciconfig = AciWebservice.deploy_configuration(cpu_cores=1, \n",
    "                                               memory_gb=1, \n",
    "                                               tags={\"data\": \"MNIST\",  \"method\" : \"sklearn\"}, \n",
    "                                               description='Predict MNIST with sklearn')"
   ]
  },
  {
   "cell_type": "markdown",
   "id": "71a953d9-a71e-453c-a068-88df7f0bc834",
   "metadata": {},
   "source": [
    "### Deploy in ACI\n",
    "Estimated time to complete: **about 2-5 minutes**\n",
    "\n",
    "Configure the image and deploy. The following code goes through these steps:\n",
    "\n",
    "1. Create environment object containing dependencies needed by the model using the environment file (`myenv.yml`)\n",
    "1. Create inference configuration necessary to deploy the model as a web service using:\n",
    "   * The scoring file (`score.py`)\n",
    "   * envrionment object created in previous step\n",
    "1. Deploy the model to the ACI container.\n",
    "1. Get the web service HTTP endpoint."
   ]
  },
  {
   "cell_type": "code",
   "execution_count": 35,
   "id": "e39b8155-f8af-4865-8b2f-a2daae86fb99",
   "metadata": {
    "tags": [
     "configure image",
     "create image",
     "deploy web service",
     "aci"
    ]
   },
   "outputs": [
    {
     "name": "stdout",
     "output_type": "stream",
     "text": [
      "Tips: You can try get_logs(): https://aka.ms/debugimage#dockerlog or local deployment: https://aka.ms/debugimage#debug-locally to debug if deployment takes longer than 10 minutes.\n",
      "Running\n",
      "2021-10-06 12:22:32+00:00 Creating Container Registry if not exists.\n",
      "2021-10-06 12:22:32+00:00 Registering the environment.\n",
      "2021-10-06 12:22:35+00:00 Use the existing image.\n",
      "2021-10-06 12:22:35+00:00 Generating deployment configuration.\n",
      "2021-10-06 12:22:36+00:00 Submitting deployment to compute.\n",
      "2021-10-06 12:22:42+00:00 Checking the status of deployment sklearn-mnist-svc-1511..\n",
      "2021-10-06 12:24:23+00:00 Checking the status of inference endpoint sklearn-mnist-svc-1511.\n",
      "Succeeded\n",
      "ACI service creation operation finished, operation \"Succeeded\"\n",
      "CPU times: user 338 ms, sys: 32.5 ms, total: 370 ms\n",
      "Wall time: 1min 59s\n"
     ]
    }
   ],
   "source": [
    "%%time\n",
    "import uuid\n",
    "from azureml.core.webservice import Webservice\n",
    "from azureml.core.model import InferenceConfig\n",
    "from azureml.core.environment import Environment\n",
    "from azureml.core import Workspace\n",
    "from azureml.core.model import Model\n",
    "\n",
    "ws = Workspace.from_config()\n",
    "model = Model(ws, 'sklearn_mnist')\n",
    "\n",
    "\n",
    "myenv = Environment.get(workspace=ws, name=\"tutorial-env\", version=\"1\")\n",
    "inference_config = InferenceConfig(entry_script=\"score.py\", environment=myenv)\n",
    "\n",
    "service_name = 'sklearn-mnist-svc-' + str(uuid.uuid4())[:4]\n",
    "service = Model.deploy(workspace=ws, \n",
    "                       name=service_name, \n",
    "                       models=[model], \n",
    "                       inference_config=inference_config, \n",
    "                       deployment_config=aciconfig)\n",
    "\n",
    "service.wait_for_deployment(show_output=True)"
   ]
  },
  {
   "cell_type": "markdown",
   "id": "1e43eb72-9605-4087-9f27-a1764bd31890",
   "metadata": {},
   "source": [
    "Get the scoring web service's HTTP endpoint, which accepts REST client calls. This endpoint can be shared with anyone who wants to test the web service or integrate it into an application."
   ]
  },
  {
   "cell_type": "code",
   "execution_count": 40,
   "id": "68030ccb-4027-4aae-ade4-82bfc02257b7",
   "metadata": {
    "gather": {
     "logged": 1633354452136
    },
    "tags": [
     "get scoring uri"
    ]
   },
   "outputs": [
    {
     "name": "stdout",
     "output_type": "stream",
     "text": [
      "http://adf77e10-3c0d-4691-8d4c-dfefca8d11e8.eastus2.azurecontainer.io/score\n"
     ]
    }
   ],
   "source": [
    "print(service.scoring_uri)"
   ]
  },
  {
   "cell_type": "markdown",
   "id": "b15b0266-6e9b-45da-b758-e595a5092345",
   "metadata": {},
   "source": [
    "## Test the model\n"
   ]
  },
  {
   "cell_type": "markdown",
   "id": "65736800-71af-4bfe-b0f4-2c299a4fd656",
   "metadata": {},
   "source": [
    "### Load test data\n",
    "\n",
    "Load the test data from the **./data/mnist** directory"
   ]
  },
  {
   "cell_type": "code",
   "execution_count": 41,
   "id": "9657e231-c1bf-4ed7-b065-856464fd570e",
   "metadata": {},
   "outputs": [],
   "source": [
    "import gzip\n",
    "import numpy as np\n",
    "import struct\n",
    "\n",
    "\n",
    "# load compressed MNIST gz files and return numpy arrays\n",
    "def load_data(filename, label=False):\n",
    "    with gzip.open(filename) as gz:\n",
    "        struct.unpack('I', gz.read(4))\n",
    "        n_items = struct.unpack('>I', gz.read(4))\n",
    "        if not label:\n",
    "            n_rows = struct.unpack('>I', gz.read(4))[0]\n",
    "            n_cols = struct.unpack('>I', gz.read(4))[0]\n",
    "            res = np.frombuffer(gz.read(n_items[0] * n_rows * n_cols), dtype=np.uint8)\n",
    "            res = res.reshape(n_items[0], n_rows * n_cols)\n",
    "        else:\n",
    "            res = np.frombuffer(gz.read(n_items[0]), dtype=np.uint8)\n",
    "            res = res.reshape(n_items[0], 1)\n",
    "    return res\n",
    "\n",
    "# note we also shrink the intensity values (X) from 0-255 to 0-1. This helps the neural network converge faster\n",
    "X_test = load_data(\"./data/mnist/t10k-images-idx3-ubyte.gz\", False) / 255.0\n",
    "y_test = load_data(\"./data/mnist/t10k-labels-idx1-ubyte.gz\", True).reshape(-1)"
   ]
  },
  {
   "cell_type": "markdown",
   "id": "87b6993f-6ce3-4b16-a1d4-9f9bcdf59a30",
   "metadata": {},
   "source": [
    "### Predict test data\n",
    "\n",
    "Feed the test dataset to the model to get predictions.\n",
    "\n",
    "\n",
    "The following code goes through these steps:\n",
    "1. Send the data as a JSON array to the web service hosted in ACI. \n",
    "\n",
    "1. Use the SDK's `run` API to invoke the service. You can also make raw calls using any HTTP tool such as curl."
   ]
  },
  {
   "cell_type": "code",
   "execution_count": 42,
   "id": "5e43c3f9-3591-458e-8499-65137ad8978e",
   "metadata": {
    "gather": {
     "logged": 1633355971086
    }
   },
   "outputs": [],
   "source": [
    "import json\n",
    "test = json.dumps({\"data\": X_test.tolist()})\n",
    "test = bytes(test, encoding='utf8')\n",
    "y_hat = service.run(input_data=test)"
   ]
  },
  {
   "cell_type": "markdown",
   "id": "1a6439dd-7061-46a0-99c0-a2d3d7e97071",
   "metadata": {},
   "source": [
    "###  Examine the confusion matrix\n",
    "\n",
    "Generate a confusion matrix to see how many samples from the test set are classified correctly. Notice the mis-classified value for the incorrect predictions."
   ]
  },
  {
   "cell_type": "code",
   "execution_count": 43,
   "id": "ebdaf07b-3bcc-475a-9a0d-29e0350466a3",
   "metadata": {
    "gather": {
     "logged": 1633355979822
    }
   },
   "outputs": [
    {
     "name": "stdout",
     "output_type": "stream",
     "text": [
      "[[ 960    0    2    2    1    4    6    3    1    1]\n",
      " [   0 1113    3    1    0    1    5    1   11    0]\n",
      " [   9    8  919   20    9    5   10   12   37    3]\n",
      " [   4    0   17  918    2   24    4   11   21    9]\n",
      " [   1    4    4    3  913    0   10    3    5   39]\n",
      " [  10    2    0   42   11  768   17    7   28    7]\n",
      " [   9    3    7    2    6   20  907    1    3    0]\n",
      " [   2    9   22    5    8    1    1  948    5   27]\n",
      " [  10   15    5   21   15   26    7   11  852   12]\n",
      " [   7    8    2   14   32   13    0   26   12  895]]\n",
      "Overall accuracy: 0.9193\n"
     ]
    }
   ],
   "source": [
    "from sklearn.metrics import confusion_matrix\n",
    "\n",
    "conf_mx = confusion_matrix(y_test, y_hat)\n",
    "print(conf_mx)\n",
    "print('Overall accuracy:', np.average(y_hat == y_test))"
   ]
  },
  {
   "cell_type": "markdown",
   "id": "00579fab-396b-4973-9848-67794ddb99b9",
   "metadata": {},
   "source": [
    "Use `matplotlib` to display the confusion matrix as a graph. In this graph, the X axis represents the actual values, and the Y axis represents the predicted values. The color in each grid represents the error rate. The lighter the color, the higher the error rate is. For example, many 5's are mis-classified as 3's. Hence you see a bright grid at (5,3)."
   ]
  },
  {
   "cell_type": "code",
   "execution_count": 37,
   "id": "8cd0bb3e-055c-4738-9b32-ec6bf58a4427",
   "metadata": {
    "gather": {
     "logged": 1633355989255
    }
   },
   "outputs": [
    {
     "data": {
      "image/png": "[encoded data removed]",
      "text/plain": [
       "<Figure size 576x360 with 2 Axes>"
      ]
     },
     "metadata": {
      "needs_background": "light"
     },
     "output_type": "display_data"
    }
   ],
   "source": [
    "# normalize the diagonal cells so that they don't overpower the rest of the cells when visualized\n",
    "row_sums = conf_mx.sum(axis=1, keepdims=True)\n",
    "norm_conf_mx = conf_mx / row_sums\n",
    "np.fill_diagonal(norm_conf_mx, 0)\n",
    "\n",
    "fig = plt.figure(figsize=(8,5))\n",
    "ax = fig.add_subplot(111)\n",
    "cax = ax.matshow(norm_conf_mx, cmap=plt.cm.bone)\n",
    "ticks = np.arange(0, 10, 1)\n",
    "ax.set_xticks(ticks)\n",
    "ax.set_yticks(ticks)\n",
    "ax.set_xticklabels(ticks)\n",
    "ax.set_yticklabels(ticks)\n",
    "fig.colorbar(cax)\n",
    "plt.ylabel('true labels', fontsize=14)\n",
    "plt.xlabel('predicted values', fontsize=14)\n",
    "plt.savefig('conf.png')\n",
    "plt.show()"
   ]
  },
  {
   "cell_type": "markdown",
   "id": "1b8f5fc1-5555-4e7f-81d5-b5a4fcb2aee3",
   "metadata": {},
   "source": [
    "## Show predictions\n",
    "\n",
    "Test the deployed model with a random sample of 30 images from the test data.  \n",
    "\n",
    "\n",
    "1. Print the returned predictions and plot them along with the input images. Red font and inverse image (white on black) is used to highlight the misclassified samples. \n",
    "\n",
    " Since the model accuracy is high, you might have to run the following code a few times before you can see a misclassified sample."
   ]
  },
  {
   "cell_type": "code",
   "execution_count": 38,
   "id": "bc784d76-502f-418e-bc1e-3ff19e559a3a",
   "metadata": {
    "gather": {
     "logged": 1633355993274
    },
    "tags": [
     "score web service"
    ]
   },
   "outputs": [
    {
     "data": {
      "image/png": "[encoded data removed]",
      "text/plain": [
       "<Figure size 1440x72 with 30 Axes>"
      ]
     },
     "metadata": {
      "needs_background": "light"
     },
     "output_type": "display_data"
    }
   ],
   "source": [
    "import json\n",
    "\n",
    "# find 30 random samples from test set\n",
    "n = 30\n",
    "sample_indices = np.random.permutation(X_test.shape[0])[0:n]\n",
    "\n",
    "test_samples = json.dumps({\"data\": X_test[sample_indices].tolist()})\n",
    "test_samples = bytes(test_samples, encoding='utf8')\n",
    "\n",
    "# predict using the deployed model\n",
    "result = service.run(input_data=test_samples)\n",
    "\n",
    "# compare actual value vs. the predicted values:\n",
    "i = 0\n",
    "plt.figure(figsize = (20, 1))\n",
    "\n",
    "for s in sample_indices:\n",
    "    plt.subplot(1, n, i + 1)\n",
    "    plt.axhline('')\n",
    "    plt.axvline('')\n",
    "    \n",
    "    # use different color for misclassified sample\n",
    "    font_color = 'red' if y_test[s] != result[i] else 'black'\n",
    "    clr_map = plt.cm.gray if y_test[s] != result[i] else plt.cm.Greys\n",
    "    \n",
    "    plt.text(x=10, y =-10, s=result[i], fontsize=18, color=font_color)\n",
    "    plt.imshow(X_test[s].reshape(28, 28), cmap=clr_map)\n",
    "    \n",
    "    i = i + 1\n",
    "plt.show()"
   ]
  },
  {
   "cell_type": "markdown",
   "id": "af0c51be-dd9b-4abd-b46b-02cdb64b5671",
   "metadata": {},
   "source": [
    "You can also send raw HTTP request to test the web service."
   ]
  },
  {
   "cell_type": "code",
   "execution_count": 39,
   "id": "ba744cf6-84d8-4889-8d51-43bbc481b25d",
   "metadata": {
    "gather": {
     "logged": 1633356003883
    },
    "tags": [
     "score web service"
    ]
   },
   "outputs": [
    {
     "name": "stdout",
     "output_type": "stream",
     "text": [
      "POST to url http://45b26816-f589-4a83-810b-b2537ad6c645.eastus2.azurecontainer.io/score\n",
      "label: 2\n",
      "prediction: [2]\n"
     ]
    }
   ],
   "source": [
    "import requests\n",
    "\n",
    "# send a random row from the test set to score\n",
    "random_index = np.random.randint(0, len(X_test)-1)\n",
    "input_data = \"{\\\"data\\\": [\" + str(list(X_test[random_index])) + \"]}\"\n",
    "\n",
    "headers = {'Content-Type':'application/json'}\n",
    "\n",
    "# for AKS deployment you'd need to the service key in the header as well\n",
    "# api_key = service.get_key()\n",
    "# headers = {'Content-Type':'application/json',  'Authorization':('Bearer '+ api_key)} \n",
    "\n",
    "resp = requests.post(service.scoring_uri, input_data, headers=headers)\n",
    "\n",
    "print(\"POST to url\", service.scoring_uri)\n",
    "#print(\"input data:\", input_data)\n",
    "print(\"label:\", y_test[random_index])\n",
    "print(\"prediction:\", resp.text)"
   ]
  },
  {
   "cell_type": "markdown",
   "id": "fcb389ac-73be-4d8f-a295-8d3454754571",
   "metadata": {},
   "source": [
    "## Clean up resources\n",
    "\n",
    "To keep the resource group and workspace for other tutorials and exploration, you can delete only the ACI deployment using this API call:"
   ]
  },
  {
   "cell_type": "code",
   "execution_count": null,
   "id": "7263db68-647e-4f6b-8a18-a71400a55f66",
   "metadata": {
    "tags": [
     "delete web service"
    ]
   },
   "outputs": [],
   "source": [
    "service.delete()"
   ]
  }
 ],
 "metadata": {
  "kernelspec": {
   "display_name": "Python 3 (ipykernel)",
   "language": "python",
   "name": "python3"
  },
  "language_info": {
   "codemirror_mode": {
    "name": "ipython",
    "version": 3
   },
   "file_extension": ".py",
   "mimetype": "text/x-python",
   "name": "python",
   "nbconvert_exporter": "python",
   "pygments_lexer": "ipython3",
   "version": "3.7.10"
  }
 },
 "nbformat": 4,
 "nbformat_minor": 5
}
