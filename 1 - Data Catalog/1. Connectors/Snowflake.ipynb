{
 "cells": [
  {
   "cell_type": "markdown",
   "id": "e3c9bf11-14ea-47f7-9991-41cadba5dbe6",
   "metadata": {},
   "source": [
    "# Connectors - Snowflake\n",
    "\n",
    "YData Fabric provides a seamless integration with Snowflake, allowing you to connect,\n",
    "query, and manage your data in Snowflake with ease. This section will guide you through the benefits,\n",
    "setup, and usage of the Snowflake connector within YData Fabric.\n",
    "\n",
    "### Benefits of Integration\n",
    "Integrating YData Fabric with Snowflake offers several key benefits:\n",
    "\n",
    "- **Scalability:** Snowflake's architecture scales effortlessly with your data needs, while YData Fabric's tools ensure efficient data integration and management.\n",
    "- **Performance:** Leveraging Snowflake's high performance for data querying and YData Fabric's optimization techniques enhances overall data processing speed.\n",
    "- **Security:** Snowflake's robust security features, combined with YData Fabric's data governance capabilities, ensure your data remains secure and compliant.\n",
    "- **Interoperability:** YData Fabric simplifies the process of connecting to Snowflake, allowing you to quickly set up and start using the data without extensive configuration. Benefit from the unique Fabric functionalities like data preparation with Python, synthetic data generation and data profiling.\n"
   ]
  },
  {
   "cell_type": "markdown",
   "id": "d358cb66-0916-4e24-8c3e-9ebbe89c1cbc",
   "metadata": {},
   "source": [
    "### Use a connector already created in the UI\n",
    "On the Fabric home page, navigate to the *\"Connectors\"* menu. Locate the connector you want to use, click the three vertical dots on the right side, and select *\"Use in Lab\"* as shown in the image below.\n",
    "\n",
    "<img src=\"img/snowflake_use_in_lab.png\" alt=\"Use snowflake connector inside the lab\" width=\"800\"/>"
   ]
  },
  {
   "cell_type": "code",
   "execution_count": 1,
   "id": "c37e60b5-0a71-4a29-9d6e-bedb3caff27f",
   "metadata": {
    "tags": []
   },
   "outputs": [
    {
     "name": "stdout",
     "output_type": "stream",
     "text": [
      "\n",
      "SnowflakeConnector(\n",
      "  \n",
      "  uid='9debcd27-a667-4df1-83ec-9ad7d1576d43',\n",
      "  name='Snowflake',\n",
      "  type=ConnectorType.SNOWFLAKE,\n",
      "  connection=Connection(host='kptngbj-wp65779', port=443),\n",
      "  database=CARDIO,\n",
      "  warehouse=VALIDATION)\n"
     ]
    }
   ],
   "source": [
    "# Importing YData's packages\n",
    "from ydata.labs import Connectors\n",
    "# Getting a previously created Connector\n",
    "connector = Connectors.get(uid='9debcd27-a667-4df1-83ec-9ad7d1576d43',\n",
    "                           namespace='5a79dccb-d50f-41ba-90d9-09adf2b26b9c')\n",
    "print(connector)"
   ]
  },
  {
   "cell_type": "markdown",
   "id": "d1ab64f8-e4d8-4c08-af68-06e9870b1566",
   "metadata": {},
   "source": [
    "### Navigate your database"
   ]
  },
  {
   "cell_type": "code",
   "execution_count": 2,
   "id": "a7eca632-52d2-4fb1-8949-ace5fad6a77e",
   "metadata": {
    "tags": []
   },
   "outputs": [
    {
     "name": "stdout",
     "output_type": "stream",
     "text": [
      "INFO: 2024-05-23 02:56:11,547 Snowflake Connector for Python Version: 3.10.0, Python Version: 3.10.12, Platform: Linux-5.10.186-179.751.amzn2.x86_64-x86_64-with-glibc2.35\n",
      "INFO: 2024-05-23 02:56:11,549 This connection is in OCSP Fail Open Mode. TLS Certificates would be checked for validity and revocation status. Any other Certificate Revocation related exceptions or OCSP Responder failures would be disregarded in favor of connectivity.\n",
      "INFO: 2024-05-23 02:56:12,841 Number of results in first chunk: 1\n",
      "INFO: 2024-05-23 02:56:13,021 Number of results in first chunk: 1\n",
      "INFO: 2024-05-23 02:56:13,223 Number of results in first chunk: 1\n",
      "INFO: 2024-05-23 02:56:13,399 Number of results in first chunk: 1\n",
      "INFO: 2024-05-23 02:56:13,588 Number of results in first chunk: 1\n",
      "INFO: 2024-05-23 02:56:13,765 Number of results in first chunk: 1\n",
      "INFO: 2024-05-23 02:56:13,980 Number of results in first chunk: 3\n",
      "INFO: 2024-05-23 02:56:14,243 Number of results in first chunk: 1\n",
      "INFO: 2024-05-23 02:56:14,425 Number of results in first chunk: 1\n",
      "INFO: 2024-05-23 02:56:14,618 Number of results in first chunk: 7\n",
      "INFO: 2024-05-23 02:56:14,800 Number of results in first chunk: 1\n",
      "INFO: 2024-05-23 02:56:14,996 Number of results in first chunk: 0\n",
      "INFO: 2024-05-23 02:56:17,145 Number of results in first chunk: 76\n",
      "INFO: 2024-05-23 02:56:17,336 Number of results in first chunk: 0\n",
      "INFO: 2024-05-23 02:56:17,535 Number of results in first chunk: 0\n",
      "INFO: 2024-05-23 02:56:17,764 Number of results in first chunk: 1\n",
      "INFO: 2024-05-23 02:56:17,971 Number of results in first chunk: 1\n",
      "INFO: 2024-05-23 02:56:18,166 Number of results in first chunk: 1\n",
      "INFO: 2024-05-23 02:56:18,377 Number of results in first chunk: 1\n",
      "INFO: 2024-05-23 02:56:18,595 Number of results in first chunk: 1\n",
      "INFO: 2024-05-23 02:56:18,800 Number of results in first chunk: 1\n",
      "INFO: 2024-05-23 02:56:18,995 Number of results in first chunk: 1\n",
      "INFO: 2024-05-23 02:56:19,179 Number of results in first chunk: 1\n"
     ]
    }
   ],
   "source": [
    "#list the available schemas\n",
    "schemas = connector.list_schemas() #returns a list of schemas\n",
    "\n",
    "## get the metadata of a database schema\n",
    "schema = connector.get_database_schema('PATIENTS')"
   ]
  },
  {
   "cell_type": "markdown",
   "id": "80f76f8b-1a8b-4606-a4c1-9ba90343daa7",
   "metadata": {
    "tags": []
   },
   "source": [
    "## Read from your Snowflake\n",
    "Using the Snowflake connector it is possible to:\n",
    "- Get the data from a Snowflake table\n",
    "- Get a sample from a Snowflake table\n",
    "- Get the data from a query to a Snowflake instance\n",
    "- Get the full data from a selected database"
   ]
  },
  {
   "cell_type": "code",
   "execution_count": 4,
   "id": "275ccdbe-b220-4926-b481-5f871653c764",
   "metadata": {
    "tags": []
   },
   "outputs": [
    {
     "name": "stdout",
     "output_type": "stream",
     "text": [
      "INFO: 2024-05-23 02:56:29,927 Snowflake Connector for Python Version: 3.10.0, Python Version: 3.10.12, Platform: Linux-5.10.186-179.751.amzn2.x86_64-x86_64-with-glibc2.35\n",
      "INFO: 2024-05-23 02:56:29,929 This connection is in OCSP Fail Open Mode. TLS Certificates would be checked for validity and revocation status. Any other Certificate Revocation related exceptions or OCSP Responder failures would be disregarded in favor of connectivity.\n",
      "INFO: 2024-05-23 02:56:30,581 Number of results in first chunk: 1\n",
      "INFO: 2024-05-23 02:56:30,763 Number of results in first chunk: 1\n",
      "INFO: 2024-05-23 02:56:30,937 Number of results in first chunk: 1\n",
      "INFO: 2024-05-23 02:56:31,108 Number of results in first chunk: 1\n",
      "INFO: 2024-05-23 02:56:31,299 Number of results in first chunk: 0\n",
      "INFO: 2024-05-23 02:56:32,688 Number of results in first chunk: 76\n",
      "INFO: 2024-05-23 02:56:32,888 Number of results in first chunk: 0\n",
      "INFO: 2024-05-23 02:56:33,080 Number of results in first chunk: 0\n",
      "INFO: 2024-05-23 02:56:33,281 Number of results in first chunk: 1\n",
      "INFO: 2024-05-23 02:56:33,457 Number of results in first chunk: 1\n",
      "INFO: 2024-05-23 02:56:33,458 closed\n",
      "INFO: 2024-05-23 02:56:33,617 No async queries seem to be running, deleting session\n",
      "INFO: 2024-05-23 02:56:33,785 Snowflake Connector for Python Version: 3.10.0, Python Version: 3.10.12, Platform: Linux-5.10.186-179.751.amzn2.x86_64-x86_64-with-glibc2.35\n",
      "INFO: 2024-05-23 02:56:33,787 This connection is in OCSP Fail Open Mode. TLS Certificates would be checked for validity and revocation status. Any other Certificate Revocation related exceptions or OCSP Responder failures would be disregarded in favor of connectivity.\n",
      "INFO: 2024-05-23 02:56:34,241 Number of results in first chunk: 1\n",
      "INFO: 2024-05-23 02:56:34,421 Number of results in first chunk: 1\n",
      "INFO: 2024-05-23 02:56:34,600 Number of results in first chunk: 1\n",
      "INFO: 2024-05-23 02:56:34,777 Number of results in first chunk: 1\n",
      "INFO: 2024-05-23 02:56:34,973 Number of results in first chunk: 5\n",
      "INFO: 2024-05-23 02:56:35,154 Number of results in first chunk: 1\n",
      "INFO: 2024-05-23 02:56:35,335 Number of results in first chunk: 1\n",
      "INFO: 2024-05-23 02:56:35,512 Number of results in first chunk: 1\n",
      "INFO: 2024-05-23 02:56:35,694 Number of results in first chunk: 1\n",
      "INFO: 2024-05-23 02:56:35,867 Number of results in first chunk: 1\n",
      "INFO: 2024-05-23 02:56:36,049 Number of results in first chunk: 1\n",
      "INFO: 2024-05-23 02:56:36,228 Number of results in first chunk: 1\n",
      "INFO: 2024-05-23 02:56:36,405 Number of results in first chunk: 1\n",
      "INFO: 2024-05-23 02:56:36,584 Number of results in first chunk: 1\n",
      "INFO: 2024-05-23 02:56:36,587 closed\n",
      "INFO: 2024-05-23 02:56:36,757 No async queries seem to be running, deleting session\n",
      "\u001B[1mDataset \n",
      " \n",
      "\u001B[0m\u001B[1mShape: \u001B[0m(1000, 12)\n",
      "\u001B[1mSchema: \u001B[0m\n",
      "         Column Variable type\n",
      "0            id           int\n",
      "1           age           int\n",
      "2        height           int\n",
      "3        weight           int\n",
      "4         ap_hi           int\n",
      "5         ap_lo           int\n",
      "6   cholesterol          bool\n",
      "7          gluc          bool\n",
      "8         smoke          bool\n",
      "9          alco          bool\n",
      "10       active          bool\n",
      "11       cardio          bool\n",
      "\n",
      "\n"
     ]
    }
   ],
   "source": [
    "table = connector.get_table('cardio_test')\n",
    "print(table)"
   ]
  },
  {
   "cell_type": "code",
   "execution_count": 6,
   "id": "f13e164e-666b-447d-a1e1-51f6c038b9d2",
   "metadata": {
    "tags": []
   },
   "outputs": [
    {
     "name": "stdout",
     "output_type": "stream",
     "text": [
      "INFO: 2024-05-23 02:57:44,693 Number of results in first chunk: 50\n",
      "INFO: 2024-05-23 02:57:44,694 Snowflake Connector for Python Version: 3.10.0, Python Version: 3.10.12, Platform: Linux-5.10.186-179.751.amzn2.x86_64-x86_64-with-glibc2.35\n",
      "INFO: 2024-05-23 02:57:44,695 This connection is in OCSP Fail Open Mode. TLS Certificates would be checked for validity and revocation status. Any other Certificate Revocation related exceptions or OCSP Responder failures would be disregarded in favor of connectivity.\n",
      "INFO: 2024-05-23 02:57:45,480 Number of results in first chunk: 50\n",
      "INFO: 2024-05-23 02:57:45,666 Number of results in first chunk: 1\n",
      "INFO: 2024-05-23 02:57:45,851 Number of results in first chunk: 1\n",
      "\u001B[1mDataset \n",
      " \n",
      "\u001B[0m\u001B[1mShape: \u001B[0m(50, 12)\n",
      "\u001B[1mSchema: \u001B[0m\n",
      "         Column Variable type\n",
      "0            id         float\n",
      "1           age         float\n",
      "2        height         float\n",
      "3        weight         float\n",
      "4         ap_hi         float\n",
      "5         ap_lo         float\n",
      "6   cholesterol          bool\n",
      "7          gluc          bool\n",
      "8         smoke          bool\n",
      "9          alco          bool\n",
      "10       active          bool\n",
      "11       cardio          bool\n",
      "\n",
      "\n"
     ]
    }
   ],
   "source": [
    "table_sample = connector.get_table_sample(table='cardio_test', sample_size=50)\n",
    "print(table_sample)"
   ]
  },
  {
   "cell_type": "code",
   "execution_count": 8,
   "id": "80412745-1df9-4bed-bb18-2cff91dabe91",
   "metadata": {
    "tags": []
   },
   "outputs": [
    {
     "name": "stdout",
     "output_type": "stream",
     "text": [
      "INFO: 2024-05-23 02:58:06,244 Number of results in first chunk: 1000\n",
      "INFO: 2024-05-23 02:58:06,466 Number of results in first chunk: 1000\n",
      "INFO: 2024-05-23 02:58:06,649 Number of results in first chunk: 1\n",
      "INFO: 2024-05-23 02:58:06,839 Number of results in first chunk: 1\n",
      "\u001B[1mDataset \n",
      " \n",
      "\u001B[0m\u001B[1mShape: \u001B[0m(1000, 12)\n",
      "\u001B[1mSchema: \u001B[0m\n",
      "         Column Variable type\n",
      "0            id           int\n",
      "1           age           int\n",
      "2        height           int\n",
      "3        weight           int\n",
      "4         ap_hi           int\n",
      "5         ap_lo           int\n",
      "6   cholesterol          bool\n",
      "7          gluc          bool\n",
      "8         smoke          bool\n",
      "9          alco          bool\n",
      "10       active          bool\n",
      "11       cardio          bool\n",
      "\n",
      "\n"
     ]
    }
   ],
   "source": [
    "query_output = connector.query(\"SELECT * FROM patients.cardio_test;\")\n",
    "print(query_output)"
   ]
  },
  {
   "cell_type": "markdown",
   "id": "2c0116a7-6794-402b-a3b8-2304f5c032bd",
   "metadata": {},
   "source": [
    "## Write to your Snowflake\n",
    "If you need to replicate an entire database or perform actions such as joining or merging full tables, you can read all tables within a schema or a specified set of tables using the Snowflake connector. The following actions are possible with the Snowflake connector:\n",
    "\n",
    "- Read an entire database in either lazy or non-lazy mode.\n",
    "- Read a specific set of tables.\n",
    "\n",
    "#### Lazy mode\n",
    "Lazy mode in YData Fabric's RDBMs connectors allows you to create an iterator that defers reading data from the database tables until an action is required. This approach optimizes performance and resource usage by loading data only when necessary.\n",
    "\n",
    "When using lazy mode, the data is not immediately fetched from the database. Instead, the connector sets up an iterator that references the tables. Data is read only when you perform actions that require accessing the actual data, such as counting the number of rows, joining tables, or filtering data."
   ]
  },
  {
   "cell_type": "code",
   "execution_count": 12,
   "id": "aa78d8e8-d024-4393-9564-4ddf15073a2a",
   "metadata": {
    "tags": []
   },
   "outputs": [
    {
     "name": "stdout",
     "output_type": "stream",
     "text": [
      "INFO: 2024-05-23 03:03:48,611 Number of results in first chunk: 1\n",
      "INFO: 2024-05-23 03:03:48,809 Number of results in first chunk: 7\n",
      "INFO: 2024-05-23 03:03:48,991 Number of results in first chunk: 1\n",
      "INFO: 2024-05-23 03:03:49,191 Number of results in first chunk: 0\n",
      "INFO: 2024-05-23 03:03:50,297 Number of results in first chunk: 76\n",
      "INFO: 2024-05-23 03:03:50,479 Number of results in first chunk: 0\n",
      "INFO: 2024-05-23 03:03:50,671 Number of results in first chunk: 0\n",
      "INFO: 2024-05-23 03:03:50,885 Number of results in first chunk: 1\n",
      "INFO: 2024-05-23 03:03:51,093 Number of results in first chunk: 1\n",
      "INFO: 2024-05-23 03:03:51,382 Number of results in first chunk: 1\n",
      "INFO: 2024-05-23 03:03:51,595 Number of results in first chunk: 1\n",
      "INFO: 2024-05-23 03:03:51,786 Number of results in first chunk: 1\n",
      "INFO: 2024-05-23 03:03:51,973 Number of results in first chunk: 1\n",
      "INFO: 2024-05-23 03:03:52,172 Number of results in first chunk: 1\n",
      "INFO: 2024-05-23 03:03:52,351 Number of results in first chunk: 1\n",
      "\u001B[1mMultiDataset Summary \n",
      " \n",
      "\u001B[0m\u001B[1mNumber of tables: \u001B[0m7 \n",
      " \n",
      "            Table name  Num cols                         Num rows Primary keys Foreign keys Notes\n",
      "0         Cardio_fab_2        15  Number of rows not yet computed                                \n",
      "1          cardio_test        12  Number of rows not yet computed                                \n",
      "2         cardio_test2        12  Number of rows not yet computed                                \n",
      "3              disease        12  Number of rows not yet computed                                \n",
      "4  fabric_write_cardio        12  Number of rows not yet computed                                \n",
      "5           table_name         1  Number of rows not yet computed                                \n",
      "6                teste        12  Number of rows not yet computed                                \n"
     ]
    }
   ],
   "source": [
    "database = connector.read_database(lazy=True)\n",
    "print(database)"
   ]
  },
  {
   "cell_type": "code",
   "execution_count": 13,
   "id": "2924c959-4625-4996-a97b-48cc5448e04d",
   "metadata": {
    "tags": []
   },
   "outputs": [
    {
     "name": "stdout",
     "output_type": "stream",
     "text": [
      "INFO: 2024-05-23 03:04:35,966 Snowflake Connector for Python Version: 3.10.0, Python Version: 3.10.12, Platform: Linux-5.10.186-179.751.amzn2.x86_64-x86_64-with-glibc2.35\n",
      "INFO: 2024-05-23 03:04:35,968 This connection is in OCSP Fail Open Mode. TLS Certificates would be checked for validity and revocation status. Any other Certificate Revocation related exceptions or OCSP Responder failures would be disregarded in favor of connectivity.\n",
      "INFO: 2024-05-23 03:04:36,679 Number of results in first chunk: 1\n",
      "INFO: 2024-05-23 03:04:36,882 Number of results in first chunk: 1\n",
      "INFO: 2024-05-23 03:04:37,064 Number of results in first chunk: 1\n",
      "INFO: 2024-05-23 03:04:37,246 Number of results in first chunk: 1\n",
      "INFO: 2024-05-23 03:04:37,429 Number of results in first chunk: 0\n",
      "INFO: 2024-05-23 03:04:38,785 Number of results in first chunk: 76\n",
      "INFO: 2024-05-23 03:04:38,980 Number of results in first chunk: 0\n",
      "INFO: 2024-05-23 03:04:39,164 Number of results in first chunk: 0\n",
      "INFO: 2024-05-23 03:04:39,351 Number of results in first chunk: 1\n",
      "INFO: 2024-05-23 03:04:39,537 Number of results in first chunk: 1\n",
      "INFO: 2024-05-23 03:04:39,539 closed\n",
      "INFO: 2024-05-23 03:04:39,706 No async queries seem to be running, deleting session\n",
      "INFO: 2024-05-23 03:04:39,870 Snowflake Connector for Python Version: 3.10.0, Python Version: 3.10.12, Platform: Linux-5.10.186-179.751.amzn2.x86_64-x86_64-with-glibc2.35\n",
      "INFO: 2024-05-23 03:04:39,871 This connection is in OCSP Fail Open Mode. TLS Certificates would be checked for validity and revocation status. Any other Certificate Revocation related exceptions or OCSP Responder failures would be disregarded in favor of connectivity.\n",
      "INFO: 2024-05-23 03:04:40,429 Number of results in first chunk: 1\n",
      "INFO: 2024-05-23 03:04:40,602 Number of results in first chunk: 1\n",
      "INFO: 2024-05-23 03:04:40,783 Number of results in first chunk: 1\n",
      "INFO: 2024-05-23 03:04:40,960 Number of results in first chunk: 1\n",
      "INFO: 2024-05-23 03:04:41,158 Number of results in first chunk: 5\n",
      "INFO: 2024-05-23 03:04:41,330 Number of results in first chunk: 1\n",
      "INFO: 2024-05-23 03:04:41,515 Number of results in first chunk: 1\n",
      "INFO: 2024-05-23 03:04:41,691 Number of results in first chunk: 1\n",
      "INFO: 2024-05-23 03:04:41,880 Number of results in first chunk: 1\n",
      "INFO: 2024-05-23 03:04:42,056 Number of results in first chunk: 1\n",
      "INFO: 2024-05-23 03:04:42,233 Number of results in first chunk: 1\n",
      "INFO: 2024-05-23 03:04:42,412 Number of results in first chunk: 1\n",
      "INFO: 2024-05-23 03:04:42,595 Number of results in first chunk: 1\n",
      "INFO: 2024-05-23 03:04:42,769 Number of results in first chunk: 1\n",
      "INFO: 2024-05-23 03:04:42,772 closed\n",
      "INFO: 2024-05-23 03:04:42,940 No async queries seem to be running, deleting session\n",
      "INFO: 2024-05-23 03:04:43,132 Snowflake Connector for Python Version: 3.10.0, Python Version: 3.10.12, Platform: Linux-5.10.186-179.751.amzn2.x86_64-x86_64-with-glibc2.35\n",
      "INFO: 2024-05-23 03:04:43,133 This connection is in OCSP Fail Open Mode. TLS Certificates would be checked for validity and revocation status. Any other Certificate Revocation related exceptions or OCSP Responder failures would be disregarded in favor of connectivity.\n",
      "INFO: 2024-05-23 03:04:43,600 Number of results in first chunk: 1\n",
      "INFO: 2024-05-23 03:04:43,785 Number of results in first chunk: 1\n",
      "INFO: 2024-05-23 03:04:43,964 Number of results in first chunk: 1\n",
      "INFO: 2024-05-23 03:04:44,139 Number of results in first chunk: 1\n",
      "INFO: 2024-05-23 03:04:44,324 Number of results in first chunk: 0\n",
      "INFO: 2024-05-23 03:04:45,731 Number of results in first chunk: 76\n",
      "INFO: 2024-05-23 03:04:45,919 Number of results in first chunk: 0\n",
      "INFO: 2024-05-23 03:04:46,118 Number of results in first chunk: 0\n",
      "INFO: 2024-05-23 03:04:46,337 Number of results in first chunk: 1\n",
      "INFO: 2024-05-23 03:04:46,509 Number of results in first chunk: 1\n",
      "INFO: 2024-05-23 03:04:46,511 closed\n",
      "INFO: 2024-05-23 03:04:46,675 No async queries seem to be running, deleting session\n",
      "INFO: 2024-05-23 03:04:46,861 Snowflake Connector for Python Version: 3.10.0, Python Version: 3.10.12, Platform: Linux-5.10.186-179.751.amzn2.x86_64-x86_64-with-glibc2.35\n",
      "INFO: 2024-05-23 03:04:46,863 This connection is in OCSP Fail Open Mode. TLS Certificates would be checked for validity and revocation status. Any other Certificate Revocation related exceptions or OCSP Responder failures would be disregarded in favor of connectivity.\n",
      "INFO: 2024-05-23 03:04:47,280 Number of results in first chunk: 1\n",
      "INFO: 2024-05-23 03:04:47,470 Number of results in first chunk: 1\n",
      "INFO: 2024-05-23 03:04:47,655 Number of results in first chunk: 1\n",
      "INFO: 2024-05-23 03:04:47,834 Number of results in first chunk: 1\n",
      "INFO: 2024-05-23 03:04:48,429 Number of results in first chunk: 5\n",
      "INFO: 2024-05-23 03:04:48,605 Number of results in first chunk: 1\n",
      "INFO: 2024-05-23 03:04:48,789 Number of results in first chunk: 1\n",
      "INFO: 2024-05-23 03:04:48,970 Number of results in first chunk: 1\n",
      "INFO: 2024-05-23 03:04:49,141 Number of results in first chunk: 1\n",
      "INFO: 2024-05-23 03:04:49,308 Number of results in first chunk: 1\n",
      "INFO: 2024-05-23 03:04:49,489 Number of results in first chunk: 1\n",
      "INFO: 2024-05-23 03:04:49,666 Number of results in first chunk: 1\n",
      "INFO: 2024-05-23 03:04:50,002 Number of results in first chunk: 1\n",
      "INFO: 2024-05-23 03:04:50,174 Number of results in first chunk: 1\n",
      "INFO: 2024-05-23 03:04:50,177 closed\n",
      "INFO: 2024-05-23 03:04:50,336 No async queries seem to be running, deleting session\n"
     ]
    }
   ],
   "source": [
    "tables = connector.get_tables(tables=['cardio_test', 'cardio_test2'])\n",
    "print(tables)\n"
   ]
  }
 ],
 "metadata": {
  "kernelspec": {
   "display_name": "Python 3 (ipykernel)",
   "language": "python",
   "name": "python3"
  },
  "language_info": {
   "codemirror_mode": {
    "name": "ipython",
    "version": 3
   },
   "file_extension": ".py",
   "mimetype": "text/x-python",
   "name": "python",
   "nbconvert_exporter": "python",
   "pygments_lexer": "ipython3",
   "version": "3.10.12"
  }
 },
 "nbformat": 4,
 "nbformat_minor": 5
}
